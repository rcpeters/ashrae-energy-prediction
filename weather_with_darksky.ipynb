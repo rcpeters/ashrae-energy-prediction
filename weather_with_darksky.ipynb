{
 "cells": [
  {
   "cell_type": "code",
   "execution_count": 2,
   "metadata": {},
   "outputs": [],
   "source": [
    "import pandas as pd\n",
    "import numpy as np\n",
    "import gc\n",
    "from sklearn.pipeline import Pipeline, TransformerMixin\n",
    "from os import path\n",
    "import os\n",
    "\n",
    "data_folder = '/Users/trudie/geli_code/ashrae-energy-prediction'"
   ]
  },
  {
   "cell_type": "code",
   "execution_count": 3,
   "metadata": {},
   "outputs": [],
   "source": [
    "class ConvertToDatetime(TransformerMixin):\n",
    "        \n",
    "    def transform(self, df, **transform_params):\n",
    "        if 'timestamp' in df.columns:\n",
    "            df['timestamp'] = pd.to_datetime(df['timestamp'])\n",
    "        return df\n",
    "\n",
    "    def fit(self, X, y=None, **fit_params):\n",
    "        return self"
   ]
  },
  {
   "cell_type": "code",
   "execution_count": 4,
   "metadata": {},
   "outputs": [
    {
     "name": "stdout",
     "output_type": "stream",
     "text": [
      "/Users/trudie/geli_code/ashrae-energy-prediction/input/ashrae-energy-prediction/weather_train.csv\n/Users/trudie/geli_code/ashrae-energy-prediction/input/ashrae-energy-prediction/weather_test.csv\n"
     ]
    }
   ],
   "source": [
    "file_dtype = {\n",
    "    'weather_test' : {'site_id': np.int8, 'air_temperature': np.float16, 'cloud_coverage': np.float16, 'dew_temperature': np.float16,\n",
    "                     'precip_depth_1_hr': np.float16, 'sea_level_pressure': np.float16, 'wind_direction': np.float16, 'wind_speed': np.float16},\n",
    "    'weather_train' : {'site_id': np.int8, 'air_temperature': np.float, 'cloud_coverage': np.float16, 'dew_temperature': np.float16,\n",
    "                     'precip_depth_1_hr': np.float16, 'sea_level_pressure': np.float16, 'wind_direction': np.float16, 'wind_speed': np.float16}\n",
    "}\n",
    "\n",
    "def loadFile(name, filepath=None):\n",
    "    if not filepath:\n",
    "        filepath = os.getcwd()\n",
    "    print(f'{filepath}/input/ashrae-energy-prediction/{name}.csv')\n",
    "    return ConvertToDatetime().transform(\n",
    "            pd.read_csv(f'{filepath}/input/{name}.csv', dtype=file_dtype[name]))\n",
    "        \n",
    "weather_train = loadFile('weather_train', filepath=data_folder)\n",
    "weather_test = loadFile('weather_test', filepath=data_folder)\n"
   ]
  },
  {
   "cell_type": "code",
   "execution_count": 5,
   "metadata": {},
   "outputs": [
    {
     "name": "stdout",
     "output_type": "stream",
     "text": [
      "   index  site_id           timestamp  air_temperature  cloud_coverage  \\\n0      0        0 2016-01-01 00:00:00        25.000000             6.0   \n1      1        0 2016-01-01 01:00:00        24.400000             4.0   \n2      2        0 2016-01-01 02:00:00        22.799999             2.0   \n3      3        0 2016-01-01 03:00:00        21.100000             2.0   \n4      4        0 2016-01-01 04:00:00        20.000000             2.0   \n5      5        0 2016-01-01 05:00:00        19.400000             4.0   \n6      6        0 2016-01-01 06:00:00        21.100000             6.0   \n7      7        0 2016-01-01 07:00:00        21.100000             6.0   \n8      8        0 2016-01-01 08:00:00        20.600000             6.0   \n9      9        0 2016-01-01 09:00:00        21.100000             6.0   \n\n   dew_temperature  precip_depth_1_hr  sea_level_pressure  wind_direction  \\\n0             20.0                NaN         1019.700012             0.0   \n1             21.1               -1.0         1020.200012            70.0   \n2             21.1                0.0         1020.200012             0.0   \n3             20.6                0.0         1020.099976             0.0   \n4             20.0               -1.0         1020.000000           250.0   \n5             19.4                0.0         1019.700012             0.0   \n6             21.1               -1.0         1019.400024             0.0   \n7             21.1                0.0         1018.799988           210.0   \n8             20.0                0.0         1018.099976             0.0   \n9             20.6                0.0         1019.000000           290.0   \n\n   wind_speed  \n0         0.0  \n1         1.5  \n2         0.0  \n3         0.0  \n4         2.6  \n5         0.0  \n6         0.0  \n7         1.5  \n8         0.0  \n9         1.5  \n   index  site_id           timestamp  air_temperature  cloud_coverage  \\\n0      0        0 2016-01-01 00:00:00        25.000000             6.0   \n1      1        0 2016-01-01 01:00:00        24.400000             4.0   \n2      2        0 2016-01-01 02:00:00        22.799999             2.0   \n3      3        0 2016-01-01 03:00:00        21.100000             2.0   \n4      4        0 2016-01-01 04:00:00        20.000000             2.0   \n5      5        0 2016-01-01 05:00:00        19.400000             4.0   \n6      6        0 2016-01-01 06:00:00        21.100000             6.0   \n7      7        0 2016-01-01 07:00:00        21.100000             6.0   \n8      8        0 2016-01-01 08:00:00        20.600000             6.0   \n9      9        0 2016-01-01 09:00:00        21.100000             6.0   \n\n   dew_temperature  precip_depth_1_hr  sea_level_pressure  wind_direction  \\\n0             20.0                NaN         1019.700012             0.0   \n1             21.1               -1.0         1020.200012            70.0   \n2             21.1                0.0         1020.200012             0.0   \n3             20.6                0.0         1020.099976             0.0   \n4             20.0               -1.0         1020.000000           250.0   \n5             19.4                0.0         1019.700012             0.0   \n6             21.1               -1.0         1019.400024             0.0   \n7             21.1                0.0         1018.799988           210.0   \n8             20.0                0.0         1018.099976             0.0   \n9             20.6                0.0         1019.000000           290.0   \n\n   wind_speed  \n0         0.0  \n1         1.5  \n2         0.0  \n3         0.0  \n4         2.6  \n5         0.0  \n6         0.0  \n7         1.5  \n8         0.0  \n9         1.5  \n"
     ]
    }
   ],
   "source": [
    "\n",
    "def clean_weather_data(weather_filenm:str, method:str='linear', gap_limit:int=None, limit_direction:str='forward', save_filenm=None):\n",
    "    \"\"\"\n",
    "    Assumes weather_filenm is of the format ASHRAE provided\n",
    "    \n",
    "    :param weather_filenm: \n",
    "    :param method : {‘linear’, ‘time’, ‘index’, ‘values’, ‘nearest’, ‘zero’, ‘slinear’, ‘quadratic’, ‘cubic’, ‘barycentric’, ‘krogh’, ‘polynomial’, ‘spline’, ‘piecewise_polynomial’, ‘from_derivatives’, ‘pchip’, ‘akima’} \n",
    "    :param gap_limit: Maximum number of consecutive hours to fill. Must be greater than 0.\n",
    "    :param limit_direction: forward/backward/both\n",
    "    :return: \n",
    "    \"\"\"\n",
    "    df_weather_dtypes = {'site_id': np.int8, 'air_temperature': np.float32, 'cloud_coverage': np.float32, 'dew_temperature': np.float32,\n",
    "                     'precip_depth_1_hr': np.float32, 'sea_level_pressure': np.float32, 'wind_direction': np.float32, 'wind_speed': np.float32}\n",
    "\n",
    "    weather_df = pd.read_csv(weather_filenm, dtype=df_weather_dtypes, parse_dates=['timestamp'])\n",
    "    grouped_weather_df = weather_df.groupby('site_id').apply(lambda group: group.interpolate(method=method, limit=gap_limit, limit_direction=limit_direction))\n",
    "    \n",
    "    if 'cloud_coverage' in grouped_weather_df.columns:\n",
    "        grouped_weather_df['cloud_coverage'] = grouped_weather_df['cloud_coverage'].round(decimals=0).clip(0,8)\n",
    "        \n",
    "    grouped_weather_df.reset_index(inplace=True)\n",
    "    if save_filenm!=None:\n",
    "        grouped_weather_df.to_csv(save_filenm)\n",
    "\n",
    "    return grouped_weather_df\n",
    "\n",
    "\n",
    "weather_train_filenm = f'{data_folder}/input/weather_train.csv'\n",
    "\n",
    "interp_weather_train_filenm = f'{data_folder}/fully_interpolated_weather_train.csv'\n",
    "grouped_weather_train = clean_weather_data(weather_train_filenm, method='linear', gap_limit=None, save_filenm=interp_weather_train_filenm)\n",
    "\n",
    "partially_interp_weather_train_filenm = f'{data_folder}/partially_interpolated_weather_train.csv'\n",
    "grouped_weather_train_with_gap_limit = clean_weather_data(weather_train_filenm, method='linear', gap_limit=3, save_filenm=partially_interp_weather_train_filenm)\n",
    "\n",
    "print(grouped_weather_train.head(10))\n",
    "print(grouped_weather_train_with_gap_limit.head(10))"
   ]
  },
  {
   "cell_type": "code",
   "execution_count": 6,
   "metadata": {},
   "outputs": [],
   "source": [
    "# align weather\n",
    "def weatherSiteOffsets():\n",
    "    weather = pd.concat([weather_train,weather_test],ignore_index=True)\n",
    "    weather['timestamp'] = pd.to_datetime(weather['timestamp'])\n",
    "    weather_key = ['site_id', 'timestamp']\n",
    "\n",
    "    temp_skeleton = weather[weather_key + ['air_temperature']].drop_duplicates(subset=weather_key).sort_values(by=weather_key).copy()\n",
    "\n",
    "    # calculate ranks of hourly temperatures within date/site_id chunks\n",
    "    temp_skeleton['temp_rank'] = temp_skeleton.groupby(['site_id', temp_skeleton.timestamp.dt.date])['air_temperature'].rank('average')\n",
    "    \n",
    "    # create a dataframe of site_ids (0-16) x mean hour rank of temperature within day (0-23)\n",
    "    df_2d = temp_skeleton.groupby(['site_id', temp_skeleton.timestamp.dt.hour])['temp_rank'].mean().unstack(level=1)\n",
    "\n",
    "    # Subtract the columnID of temperature peak by 14, getting the timestamp alignment gap.\n",
    "    site_ids_offsets = pd.Series(df_2d.values.argmax(axis=1) - 14)\n",
    "    site_ids_offsets.index.name = 'site_id'\n",
    "    return site_ids_offsets\n",
    "\n",
    "site_time_offsets_df = weatherSiteOffsets()\n",
    "\n",
    "def alignWeather(df):\n",
    "    df['offset'] = df.site_id.map(site_time_offsets_df)\n",
    "    df['timestamp_aligned'] = (df.timestamp - pd.to_timedelta(df.offset, unit='H'))\n",
    "    df['timestamp'] = df['timestamp_aligned']\n",
    "    del df['timestamp_aligned'], df['offset']\n",
    "    gc.collect()\n",
    "    return df\n",
    "\n",
    "#weather_train = alignWeather(weather_train)\n",
    "#weather_test = alignWeather(weather_test)\n",
    "\n"
   ]
  },
  {
   "cell_type": "code",
   "execution_count": 7,
   "metadata": {},
   "outputs": [],
   "source": [
    "from darksky_weather_connector import *\n",
    "\n",
    "# 2016\n",
    "# 0: {'name': 'Orlando', 'lat':28.538336, 'lon':-81.379234},\n",
    "# 1: {'name': 'London', 'lat':51.507351, 'lon':-0.127758},\n",
    "SITE_DATA = {'site_id': 0,\n",
    "             'start_datetime':datetime.strptime('2016-01-01', '%Y-%m-%d'),\n",
    "             'end_datetime':datetime.strptime('2017-01-01', '%Y-%m-%d'),\n",
    "             'latitude':28.538336,\n",
    "             'longitude':-81.379234,\n",
    "             'pv':True,\n",
    "             }\n",
    "API_KEY = '4b6c6722e6c612fd5f789cee71aa7135'\n",
    "# wd = fetch_historic_weather_data(SITE_DATA, api_key=API_key, file_path=data_folder)\n",
    "\n"
   ]
  },
  {
   "cell_type": "code",
   "execution_count": 26,
   "metadata": {},
   "outputs": [
    {
     "name": "stdout",
     "output_type": "stream",
     "text": [
      "                   timestamp  dni  ghi  dhi  apparentTemperature  \\\n0  2016-01-01 00:00:00-05:00  0.0  0.0  0.0                71.51   \n1  2016-01-01 01:00:00-05:00  0.0  0.0  0.0                71.80   \n2  2016-01-01 02:00:00-05:00  0.0  0.0  0.0                71.71   \n3  2016-01-01 03:00:00-05:00  0.0  0.0  0.0                71.24   \n4  2016-01-01 04:00:00-05:00  0.0  0.0  0.0                71.71   \n\n   air_temperature  precipIntensity  humidity  dewPoint  pressure  \\\n0            70.28              0.0      0.96     69.06    1020.0   \n1            70.53              0.0      0.96     69.38    1019.4   \n2            70.42              0.0      0.97     69.45    1018.8   \n3            70.01              0.0      0.96     68.96    1018.2   \n4            70.45              0.0      0.96     69.29    1019.0   \n\n   cloud_coverage  wind_speed  windGust  windBearing  visibility  \n0            0.23        0.07      0.08        180.0       2.852  \n1            0.75        0.07      0.07        180.0       1.498  \n2            0.75        0.06      0.15        180.0       1.002  \n3            1.00        0.15      0.42        315.0       1.249  \n4            1.00        0.27      0.63        278.0       3.998  \n"
     ]
    }
   ],
   "source": [
    "import similaritymeasures as sm\n",
    "\n",
    "siteid = 0\n",
    "ds_data = pd.read_csv(f'{data_folder}/input/site{siteid}_darksky_weather.csv')\n",
    "training_data = pd.read_csv(f'{data_folder}/input/fully_interpolated_weather_train.csv')\n",
    "\n",
    "# {'site_id': np.int8, 'air_temperature': np.float, 'cloud_coverage': np.float16, 'dew_temperature': np.float16,\n",
    "#                  'precip_depth_1_hr': np.float16, 'sea_level_pressure': np.float16, 'wind_direction': np.float16, 'wind_speed': np.float16}\n",
    "ds_data = ds_data.rename(columns={'time':'timestamp','temperature':'air_temperature', 'cloudCover':'cloud_coverage', 'windSpeed':'wind_speed'})\n",
    "print(ds_data.head())\n",
    "# \n",
    "# # quantify the difference between the two curves using\n",
    "# # Dynamic Time Warping distance\n",
    "# dtw, d = sm.dtw(ds_data['air_temperature'], training_data)\n",
    "# \n",
    "# # print the results\n",
    "# print(dtw)\n",
    "# \n",
    "# # plot the data\n",
    "# plt.figure()\n",
    "# plt.plot(exp_data[:, 0], exp_data[:, 1])\n",
    "# plt.plot(num_data[:, 0], num_data[:, 1])\n",
    "# plt.show()"
   ]
  },
  {
   "cell_type": "code",
   "execution_count": 27,
   "metadata": {},
   "outputs": [
    {
     "name": "stdout",
     "output_type": "stream",
     "text": [
      "Empty DataFrame\nColumns: [timestamp, air_temperature_x, dni, ghi, dhi, apparentTemperature, air_temperature_y, precipIntensity, humidity, dewPoint, pressure, cloud_coverage, wind_speed, windGust, windBearing, visibility]\nIndex: []\n   Unnamed: 0  index  site_id            timestamp  air_temperature  \\\n0           0      0        0  2016-01-01 00:00:00             25.0   \n1           1      1        0  2016-01-01 01:00:00             24.4   \n2           2      2        0  2016-01-01 02:00:00             22.8   \n3           3      3        0  2016-01-01 03:00:00             21.1   \n4           4      4        0  2016-01-01 04:00:00             20.0   \n\n   cloud_coverage  dew_temperature  precip_depth_1_hr  sea_level_pressure  \\\n0             6.0             20.0                NaN              1019.7   \n1             4.0             21.1               -1.0              1020.2   \n2             2.0             21.1                0.0              1020.2   \n3             2.0             20.6                0.0              1020.1   \n4             2.0             20.0               -1.0              1020.0   \n\n   wind_direction  wind_speed  \n0             0.0         0.0  \n1            70.0         1.5  \n2             0.0         0.0  \n3             0.0         0.0  \n4           250.0         2.6  \n"
     ]
    }
   ],
   "source": [
    "temperature_df = training_data[['timestamp','air_temperature']].merge(ds_data,on='timestamp')\n",
    "# print(training_data[training_data['site_id']==siteid])\n",
    "print(temperature_df.head())\n",
    "print(training_data.head())"
   ]
  },
  {
   "cell_type": "code",
   "execution_count": null,
   "metadata": {},
   "outputs": [],
   "source": []
  }
 ],
 "metadata": {
  "kernelspec": {
   "display_name": "Python 3",
   "language": "python",
   "name": "python3"
  },
  "language_info": {
   "codemirror_mode": {
    "name": "ipython",
    "version": 3
   },
   "file_extension": ".py",
   "mimetype": "text/x-python",
   "name": "python",
   "nbconvert_exporter": "python",
   "pygments_lexer": "ipython3",
   "version": "3.7.3"
  }
 },
 "nbformat": 4,
 "nbformat_minor": 2
}
