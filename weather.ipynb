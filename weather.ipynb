{
 "cells": [
  {
   "cell_type": "code",
   "execution_count": null,
   "metadata": {},
   "outputs": [],
   "source": [
    "import pandas as pd\n",
    "import numpy as np\n",
    "from os import path"
   ]
  },
  {
   "cell_type": "code",
   "execution_count": 15,
   "metadata": {},
   "outputs": [],
   "source": [
    "weather_train = pd.read_csv('../input/ashrae-energy-prediction/weather_train.csv')\n",
    "weather_test = pd.read_csv('../input/ashrae-energy-prediction/weather_test.csv')\n"
   ]
  },
  {
   "cell_type": "code",
   "execution_count": 16,
   "metadata": {},
   "outputs": [],
   "source": [
    "def fancyBackfilling(df):\n",
    "    #do fancy stuff\n",
    "    return df"
   ]
  },
  {
   "cell_type": "code",
   "execution_count": 24,
   "metadata": {},
   "outputs": [
    {
     "name": "stdout",
     "output_type": "stream",
     "text": [
      "site_id\n",
      "0     5\n",
      "1     0\n",
      "2     9\n",
      "3     6\n",
      "4     8\n",
      "5     0\n",
      "6     6\n",
      "7     6\n",
      "8     5\n",
      "9     7\n",
      "10    8\n",
      "11    6\n",
      "12    0\n",
      "13    7\n",
      "14    6\n",
      "15    6\n",
      "dtype: int64\n"
     ]
    }
   ],
   "source": [
    "# https://www.kaggle.com/nz0722/aligned-timestamp-lgbm-by-meter-type\n",
    "def alignTimePickle():\n",
    "    weather = pd.concat([weather_train,weather_test],ignore_index=True)\n",
    "    weather['timestamp'] = pd.to_datetime(weather['timestamp'])\n",
    "    weather_key = ['site_id', 'timestamp']\n",
    "\n",
    "    temp_skeleton = weather[weather_key + ['air_temperature']].drop_duplicates(subset=weather_key).sort_values(by=weather_key).copy()\n",
    "\n",
    "    # calculate ranks of hourly temperatures within date/site_id chunks\n",
    "    temp_skeleton['temp_rank'] = temp_skeleton.groupby(['site_id', temp_skeleton.timestamp.dt.date])['air_temperature'].rank('average')\n",
    "\n",
    "    # create a dataframe of site_ids (0-16) x mean hour rank of temperature within day (0-23)\n",
    "    df_2d = temp_skeleton.groupby(['site_id', temp_skeleton.timestamp.dt.hour])['temp_rank'].mean().unstack(level=1)\n",
    "\n",
    "    # Subtract the columnID of temperature peak by 14, getting the timestamp alignment gap.\n",
    "    site_ids_offsets = pd.Series(df_2d.values.argmax(axis=1) - 14)\n",
    "    site_ids_offsets.index.name = 'site_id'\n",
    "    site_ids_offsets.to_pickle('../input/ashrae-energy-prediction/site_time_offsets_df.pickle')\n",
    "    print(site_ids_offsets)\n",
    "\n",
    "alignTimePickle()"
   ]
  },
  {
   "cell_type": "code",
   "execution_count": 17,
   "metadata": {},
   "outputs": [],
   "source": [
    "weather_train = fancyBackfilling(weather_train);\n",
    "weather_test = fancyBackfilling(weather_test);"
   ]
  },
  {
   "cell_type": "code",
   "execution_count": 18,
   "metadata": {},
   "outputs": [],
   "source": [
    "# savve modified files in _ directory\n",
    "if not path.exists('../input/_ashrae-energy-prediction'):\n",
    "     !mkdir -p ../input/_ashrae-energy-prediction\n",
    "    \n",
    "weather_train.to_csv('../input/_ashrae-energy-prediction/weather_train.csv')\n",
    "weather_test.to_csv('../input/_ashrae-energy-prediction/weather_test.csv')\n"
   ]
  },
  {
   "cell_type": "code",
   "execution_count": null,
   "metadata": {},
   "outputs": [],
   "source": []
  }
 ],
 "metadata": {
  "kernelspec": {
   "display_name": "Python 3",
   "language": "python",
   "name": "python3"
  },
  "language_info": {
   "codemirror_mode": {
    "name": "ipython",
    "version": 3
   },
   "file_extension": ".py",
   "mimetype": "text/x-python",
   "name": "python",
   "nbconvert_exporter": "python",
   "pygments_lexer": "ipython3",
   "version": "3.7.3"
  }
 },
 "nbformat": 4,
 "nbformat_minor": 2
}
