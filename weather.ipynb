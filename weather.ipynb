{
 "cells": [
  {
   "cell_type": "code",
   "execution_count": null,
   "metadata": {},
   "outputs": [],
   "source": [
    "import pandas as pd\n",
    "import numpy as np\n",
    "from os import path"
   ]
  },
  {
   "cell_type": "code",
   "execution_count": 15,
   "metadata": {},
   "outputs": [],
   "source": [
    "weather_train = pd.read_csv('../input/ashrae-energy-prediction/weather_train.csv')\n",
    "weather_test = pd.read_csv('../input/ashrae-energy-prediction/weather_test.csv')\n"
   ]
  },
  {
   "cell_type": "code",
   "execution_count": 16,
   "metadata": {},
   "outputs": [],
   "source": [
    "def fancyBackfilling(df):\n",
    "    #do fancy stuff\n",
    "    return df"
   ]
  },
  {
   "cell_type": "code",
   "execution_count": 26,
   "metadata": {},
   "outputs": [
    {
     "name": "stdout",
     "output_type": "stream",
     "text": [
      "timestamp         0          1          2          3          4          5   \\\n",
      "site_id                                                                       \n",
      "0          15.123175  13.351277  11.868157  10.541971   9.299270   7.907391   \n",
      "1           8.950691   7.786636   6.781049   5.786175   5.062557   4.993560   \n",
      "2          21.754562  20.260493  18.296804  16.325730  14.544252  12.886405   \n",
      "3          16.497715  14.732176  13.162409  11.897717  10.696347   9.474406   \n",
      "4          20.952425  19.079836  16.622719  14.306569  12.331661  10.831661   \n",
      "5           9.062095   8.491220   7.997692   7.461716   6.926199   6.691705   \n",
      "6          16.386093  14.572536  13.068431  11.704296  10.390768   9.168037   \n",
      "7          16.195570  14.469885  12.982364  11.843602  10.484630   9.453200   \n",
      "8          15.123175  13.351277  11.868157  10.541971   9.299270   7.907391   \n",
      "9          18.589450  16.621448  14.826782  13.238792  11.761208  10.164070   \n",
      "10         19.833943  18.026916  15.886405  13.728728  12.148352  10.990367   \n",
      "11         16.195570  14.469885  12.982364  11.843602  10.484630   9.453200   \n",
      "12          9.016144   8.382028   7.802583   7.184502   6.728361   6.709945   \n",
      "13         18.211679  16.791515  15.217609  13.972628  12.582117  11.224453   \n",
      "14         16.306496  14.415602  12.852190  11.371350  10.162409   9.038356   \n",
      "15         14.626500  12.786111  11.483841  10.697368   9.906551   9.107074   \n",
      "\n",
      "timestamp         6          7          8          9   ...         14  \\\n",
      "site_id                                                ...              \n",
      "0           6.897354   5.782847   5.042922   4.430594  ...  14.081661   \n",
      "1           5.914443   7.679853   9.504604  12.055249  ...  21.207948   \n",
      "2          11.361314  10.010036   8.574361   7.144617  ...   2.723084   \n",
      "3           8.282192   7.164384   6.184307   5.220347  ...  11.579836   \n",
      "4           9.597628   8.402372   7.549360   6.820255  ...   4.696624   \n",
      "5           7.049815   8.276959   9.910978  12.172509  ...  20.143514   \n",
      "6           7.946527   6.844607   5.966667   5.209324  ...  11.722831   \n",
      "7           8.366509   7.306775   6.379278   5.549575  ...  11.145793   \n",
      "8           6.897354   5.782847   5.042922   4.430594  ...  14.081661   \n",
      "9           8.882218   7.735564   6.739011   5.807234  ...   7.534435   \n",
      "10          9.874885   8.912764   7.842057   7.080275  ...   5.344749   \n",
      "11          8.366509   7.306775   6.379278   5.549575  ...  11.145793   \n",
      "12          7.280645   8.652394  10.211255  12.361546  ...  20.396044   \n",
      "13          9.950730   8.839416   7.578011   6.510949  ...   7.815693   \n",
      "14          7.989031   6.960274   6.101463   5.194064  ...  12.062500   \n",
      "15          8.331061   7.715332   7.095652   6.524108  ...  12.262190   \n",
      "\n",
      "timestamp         15         16         17         18         19         20  \\\n",
      "site_id                                                                       \n",
      "0          16.429745  18.217609  19.564325  20.555201  21.162409  21.013686   \n",
      "1          21.104533  20.023105  18.373728  16.498612  14.616913  12.806377   \n",
      "2           5.034672   8.709398  11.976277  14.525091  16.870894  18.868613   \n",
      "3          13.933850  15.972172  17.749088  19.243613  20.200274  20.352511   \n",
      "4           6.607664   9.773266  13.172445  15.905566  18.035584  19.823449   \n",
      "5          19.839649  18.599537  17.022706  15.252089  13.423006  11.604898   \n",
      "6          14.281279  16.205936  17.940693  19.468037  20.508219  20.876832   \n",
      "7          13.195714  15.047115  16.580676  18.130332  19.243528  19.773206   \n",
      "8          16.429745  18.217609  19.564325  20.555201  21.162409  21.013686   \n",
      "9          10.868253  13.605215  15.813645  17.589532  19.251148  20.596612   \n",
      "10          8.211609  11.461152  14.286953  16.489945  17.999085  19.341553   \n",
      "11         13.195714  15.047115  16.580676  18.130332  19.243528  19.773206   \n",
      "12         20.192166  19.043779  17.363090  15.328717  13.261795  11.313019   \n",
      "13         10.343379  12.847172  15.010493  16.786953  18.267123  19.361770   \n",
      "14         14.328923  16.165146  17.854927  19.372146  20.191781  20.439325   \n",
      "15         14.244710  15.789062  17.093750  18.170037  18.806985  18.924424   \n",
      "\n",
      "timestamp         21         22         23  \n",
      "site_id                                     \n",
      "0          19.938412  18.085310  15.528741  \n",
      "1          11.278855   9.765869   8.133180  \n",
      "2          20.568493  21.755474  22.093978  \n",
      "3          19.704566  17.960310  15.894521  \n",
      "4          21.186588  21.803832  21.501369  \n",
      "5          10.344588   9.551105   8.967281  \n",
      "6          20.161792  18.289954  15.754338  \n",
      "7          19.385052  17.969466  16.013889  \n",
      "8          19.938412  18.085310  15.528741  \n",
      "9          21.238813  20.977106  19.257770  \n",
      "10         20.378193  20.911335  20.684475  \n",
      "11         19.385052  17.969466  16.013889  \n",
      "12          9.996768   8.980663   8.076498  \n",
      "13         19.755474  19.363139  18.001825  \n",
      "14         19.813412  18.030566  15.617701  \n",
      "15         18.227231  16.329963  14.066359  \n",
      "\n",
      "[16 rows x 24 columns]\n",
      "site_id\n",
      "0     5\n",
      "1     0\n",
      "2     9\n",
      "3     6\n",
      "4     8\n",
      "5     0\n",
      "6     6\n",
      "7     6\n",
      "8     5\n",
      "9     7\n",
      "10    8\n",
      "11    6\n",
      "12    0\n",
      "13    7\n",
      "14    6\n",
      "15    6\n",
      "dtype: int64\n"
     ]
    }
   ],
   "source": [
    "# https://www.kaggle.com/nz0722/aligned-timestamp-lgbm-by-meter-type\n",
    "def alignTimePickle():\n",
    "    weather = pd.concat([weather_train,weather_test],ignore_index=True)\n",
    "    weather['timestamp'] = pd.to_datetime(weather['timestamp'])\n",
    "    weather_key = ['site_id', 'timestamp']\n",
    "\n",
    "    temp_skeleton = weather[weather_key + ['air_temperature']].drop_duplicates(subset=weather_key).sort_values(by=weather_key).copy()\n",
    "\n",
    "    # calculate ranks of hourly temperatures within date/site_id chunks\n",
    "    temp_skeleton['temp_rank'] = temp_skeleton.groupby(['site_id', temp_skeleton.timestamp.dt.date])['air_temperature'].rank('average')\n",
    "    \n",
    "    # create a dataframe of site_ids (0-16) x mean hour rank of temperature within day (0-23)\n",
    "    df_2d = temp_skeleton.groupby(['site_id', temp_skeleton.timestamp.dt.hour])['temp_rank'].mean().unstack(level=1)\n",
    "    print(df_2d)\n",
    "    # Subtract the columnID of temperature peak by 14, getting the timestamp alignment gap.\n",
    "    site_ids_offsets = pd.Series(df_2d.values.argmax(axis=1) - 14)\n",
    "    site_ids_offsets.index.name = 'site_id'\n",
    "    site_ids_offsets.to_pickle('../input/ashrae-energy-prediction/site_time_offsets_df.pickle')\n",
    "    print(site_ids_offsets)\n",
    "\n",
    "alignTimePickle()"
   ]
  },
  {
   "cell_type": "code",
   "execution_count": 17,
   "metadata": {},
   "outputs": [],
   "source": [
    "weather_train = fancyBackfilling(weather_train);\n",
    "weather_test = fancyBackfilling(weather_test);"
   ]
  },
  {
   "cell_type": "code",
   "execution_count": 18,
   "metadata": {},
   "outputs": [],
   "source": [
    "# savve modified files in _ directory\n",
    "if not path.exists('../input/_ashrae-energy-prediction'):\n",
    "     !mkdir -p ../input/_ashrae-energy-prediction\n",
    "    \n",
    "weather_train.to_csv('../input/_ashrae-energy-prediction/weather_train.csv')\n",
    "weather_test.to_csv('../input/_ashrae-energy-prediction/weather_test.csv')\n"
   ]
  },
  {
   "cell_type": "code",
   "execution_count": null,
   "metadata": {},
   "outputs": [],
   "source": []
  }
 ],
 "metadata": {
  "kernelspec": {
   "display_name": "Python 3",
   "language": "python",
   "name": "python3"
  },
  "language_info": {
   "codemirror_mode": {
    "name": "ipython",
    "version": 3
   },
   "file_extension": ".py",
   "mimetype": "text/x-python",
   "name": "python",
   "nbconvert_exporter": "python",
   "pygments_lexer": "ipython3",
   "version": "3.7.3"
  }
 },
 "nbformat": 4,
 "nbformat_minor": 2
}
