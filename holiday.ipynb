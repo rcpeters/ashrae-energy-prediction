{
 "cells": [
  {
   "cell_type": "code",
   "execution_count": 1,
   "metadata": {},
   "outputs": [],
   "source": [
    "import pandas as pd\n",
    "import numpy as np\n",
    "import holidays\n",
    "from sklearn.pipeline import Pipeline, FeatureUnion, TransformerMixin\n",
    "from os import path"
   ]
  },
  {
   "cell_type": "code",
   "execution_count": 2,
   "metadata": {},
   "outputs": [],
   "source": [
    "# Produces a pickled dataframe with columns \n",
    "# ['building_id','site_id','timestamp','holiday'].\n",
    "# This allows fast merges in the main file\n",
    "# but we are likely to want to add other columns or\n",
    "# filters by building id"
   ]
  },
  {
   "cell_type": "code",
   "execution_count": 3,
   "metadata": {},
   "outputs": [],
   "source": [
    "file_dtype = {\n",
    "    'train': {'building_id': np.int16, 'meter': np.int8, 'meter_reading': np.float32},\n",
    "    'test': {'building_id': np.int16, 'meter': np.int8},\n",
    "    'building_metadata': {'site_id': np.int8, 'building_id': np.uint16, 'square_feet': np.float16, 'year_built': np.float16, 'floor_count': np.float16},\n",
    "}\n",
    "\n",
    "file_loc = {}    \n",
    "for dir_path in ['../input/ashrae-energy-prediction/','../input/_ashrae-energy-prediction/']:\n",
    "    for name in ['building_metadata','weather_train','weather_test','train','test']:\n",
    "        if path.exists(dir_path + name + '.csv'):\n",
    "            file_loc[name]= dir_path + name + '.csv'\n",
    "    \n",
    "    building = pd.read_csv(file_loc['building_metadata'], dtype=file_dtype['building_metadata'])\n",
    "    train = pd.read_csv(file_loc['train'], dtype=file_dtype['train'])\n",
    "    test = pd.read_csv(file_loc['test'], dtype=file_dtype['test'])\n",
    "\n"
   ]
  },
  {
   "cell_type": "code",
   "execution_count": 4,
   "metadata": {},
   "outputs": [],
   "source": [
    "all = train.drop(['meter_reading'], axis=1).append(test.drop(['row_id'], axis=1))"
   ]
  },
  {
   "cell_type": "code",
   "execution_count": 5,
   "metadata": {},
   "outputs": [
    {
     "name": "stdout",
     "output_type": "stream",
     "text": [
      "       building_id  meter           timestamp         holiday\n",
      "0                0      0 2016-01-01 00:00:00  New Year's Day\n",
      "1                1      0 2016-01-01 00:00:00  New Year's Day\n",
      "2                2      0 2016-01-01 00:00:00  New Year's Day\n",
      "3                3      0 2016-01-01 00:00:00  New Year's Day\n",
      "4                4      0 2016-01-01 00:00:00  New Year's Day\n",
      "5                5      0 2016-01-01 00:00:00  New Year's Day\n",
      "6                6      0 2016-01-01 00:00:00  New Year's Day\n",
      "7                7      0 2016-01-01 00:00:00  New Year's Day\n",
      "8                8      0 2016-01-01 00:00:00  New Year's Day\n",
      "9                9      0 2016-01-01 00:00:00  New Year's Day\n",
      "10              10      0 2016-01-01 00:00:00  New Year's Day\n",
      "11              11      0 2016-01-01 00:00:00  New Year's Day\n",
      "12              12      0 2016-01-01 00:00:00  New Year's Day\n",
      "13              13      0 2016-01-01 00:00:00  New Year's Day\n",
      "14              14      0 2016-01-01 00:00:00  New Year's Day\n",
      "15              15      0 2016-01-01 00:00:00  New Year's Day\n",
      "16              16      0 2016-01-01 00:00:00  New Year's Day\n",
      "17              17      0 2016-01-01 00:00:00  New Year's Day\n",
      "18              18      0 2016-01-01 00:00:00  New Year's Day\n",
      "19              19      0 2016-01-01 00:00:00  New Year's Day\n",
      "20              20      0 2016-01-01 00:00:00  New Year's Day\n",
      "21              21      0 2016-01-01 00:00:00  New Year's Day\n",
      "22              22      0 2016-01-01 00:00:00  New Year's Day\n",
      "23              23      0 2016-01-01 00:00:00  New Year's Day\n",
      "24              24      0 2016-01-01 00:00:00  New Year's Day\n",
      "25              25      0 2016-01-01 00:00:00  New Year's Day\n",
      "26              26      0 2016-01-01 00:00:00  New Year's Day\n",
      "27              27      0 2016-01-01 00:00:00  New Year's Day\n",
      "28              28      0 2016-01-01 00:00:00  New Year's Day\n",
      "29              30      0 2016-01-01 00:00:00  New Year's Day\n",
      "...            ...    ...                 ...             ...\n",
      "99970          922      0 2016-01-02 19:00:00             NaN\n",
      "99971          922      1 2016-01-02 19:00:00             NaN\n",
      "99972          922      2 2016-01-02 19:00:00             NaN\n",
      "99973          923      0 2016-01-02 19:00:00             NaN\n",
      "99974          923      1 2016-01-02 19:00:00             NaN\n",
      "99975          924      0 2016-01-02 19:00:00             NaN\n",
      "99976          924      1 2016-01-02 19:00:00             NaN\n",
      "99977          924      2 2016-01-02 19:00:00             NaN\n",
      "99978          925      0 2016-01-02 19:00:00             NaN\n",
      "99979          925      1 2016-01-02 19:00:00             NaN\n",
      "99980          925      2 2016-01-02 19:00:00             NaN\n",
      "99981          926      0 2016-01-02 19:00:00             NaN\n",
      "99982          926      1 2016-01-02 19:00:00             NaN\n",
      "99983          926      2 2016-01-02 19:00:00             NaN\n",
      "99984          927      0 2016-01-02 19:00:00             NaN\n",
      "99985          927      1 2016-01-02 19:00:00             NaN\n",
      "99986          927      2 2016-01-02 19:00:00             NaN\n",
      "99987          928      0 2016-01-02 19:00:00             NaN\n",
      "99988          928      1 2016-01-02 19:00:00             NaN\n",
      "99989          928      2 2016-01-02 19:00:00             NaN\n",
      "99990          929      0 2016-01-02 19:00:00             NaN\n",
      "99991          929      1 2016-01-02 19:00:00             NaN\n",
      "99992          929      2 2016-01-02 19:00:00             NaN\n",
      "99993          930      0 2016-01-02 19:00:00             NaN\n",
      "99994          931      0 2016-01-02 19:00:00             NaN\n",
      "99995          931      1 2016-01-02 19:00:00             NaN\n",
      "99996          931      2 2016-01-02 19:00:00             NaN\n",
      "99997          932      0 2016-01-02 19:00:00             NaN\n",
      "99998          932      1 2016-01-02 19:00:00             NaN\n",
      "99999          932      2 2016-01-02 19:00:00             NaN\n",
      "\n",
      "[100000 rows x 4 columns]\n"
     ]
    }
   ],
   "source": [
    "in_us = [0,2,3,4,6,8,9,10,13,14]\n",
    "in_ca = [7,11]\n",
    "in_uk = [1,5]\n",
    "in_ie = [12]\n",
    "us_cal =  holidays.US()\n",
    "ca_cal = holidays.CA()\n",
    "ie_cal = holidays.IE()\n",
    "uk_cal = holidays.UK()\n",
    "\n",
    "def holidayName(timestamp, site_id):\n",
    "    if site_id in in_ca:\n",
    "        return ca_cal.get(timestamp)\n",
    "    elif site_id in in_uk:\n",
    "        return uk_cal.get(timestamp)\n",
    "    elif site_id in in_ie:\n",
    "        return ie_cal.get(timestamp)\n",
    "    else:\n",
    "        return us_cal.get(timestamp)\n",
    "    \n",
    "# https://www.kaggle.com/c/ashrae-energy-prediction/discussion/114483#latest-660771\n",
    "# https://www.kaggle.com/c/ashrae-energy-prediction/discussion/114874#latest-660970\n",
    "class createHolidaysDF(TransformerMixin):\n",
    "    def transform(self, df, **transform_params):\n",
    "        df['timestamp'] = pd.to_datetime(df['timestamp'])\n",
    "        temp_df = df[['site_id','timestamp']]\n",
    "        df['holiday'] = temp_df.apply(lambda x: holidayName(x.timestamp, x.site_id), axis=1)\n",
    "        #df['holiday'] = df.apply(lambda x: all_holidays.get(x))\n",
    " #       df['holiday'] = df.apply(lambda x: holidayName(x.timestamp, x.site_id))\n",
    "        df['holiday'] = df['holiday'].astype('category')\n",
    "        return df\n",
    "\n",
    "    def fit(self, X, y=None, **fit_params):\n",
    "        return self\n",
    "\n",
    "# quick test you should see new years days marked on the 1st and NaN for the 2nd\n",
    "print(createHolidaysDF().transform(all.head(100000).merge(building, on='building_id', how='left'))[['building_id','meter','timestamp','holiday']])\n"
   ]
  },
  {
   "cell_type": "code",
   "execution_count": 6,
   "metadata": {},
   "outputs": [
    {
     "name": "stdout",
     "output_type": "stream",
     "text": [
      "[New Year's Day, NaN, New Year Holiday [Scotland], New Year Holiday [Scotland] (Observed), Martin Luther King, Jr. Day, ..., Veterans Day (Observed), New Year Holiday [Scotland], New Year's Day (O..., St. Patrick's Day [Northern Ireland] (Observed), Canada Day (Observed), St. Patrick's Day (Observed)]\n",
      "Length: 41\n",
      "Categories (40, object): [New Year's Day, New Year Holiday [Scotland], New Year Holiday [Scotland] (Observed), Martin Luther King, Jr. Day, ..., New Year Holiday [Scotland], New Year's Day (O..., St. Patrick's Day [Northern Ireland] (Observed), Canada Day (Observed), St. Patrick's Day (Observed)]\n"
     ]
    }
   ],
   "source": [
    "holiday_df = createHolidaysDF().transform(all.merge(building, on='building_id', how='left'))[['building_id','meter','site_id','timestamp','holiday']]\n",
    "print(holiday_df['holiday'].unique())"
   ]
  },
  {
   "cell_type": "code",
   "execution_count": 7,
   "metadata": {},
   "outputs": [],
   "source": [
    "holiday_df.to_pickle('../input/ashrae-energy-prediction/holiday_df.pickle')"
   ]
  },
  {
   "cell_type": "code",
   "execution_count": null,
   "metadata": {},
   "outputs": [],
   "source": []
  }
 ],
 "metadata": {
  "kernelspec": {
   "display_name": "Python 3",
   "language": "python",
   "name": "python3"
  },
  "language_info": {
   "codemirror_mode": {
    "name": "ipython",
    "version": 3
   },
   "file_extension": ".py",
   "mimetype": "text/x-python",
   "name": "python",
   "nbconvert_exporter": "python",
   "pygments_lexer": "ipython3",
   "version": "3.7.3"
  }
 },
 "nbformat": 4,
 "nbformat_minor": 2
}
