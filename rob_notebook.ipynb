{
 "cells": [
  {
   "cell_type": "code",
   "execution_count": 65,
   "metadata": {},
   "outputs": [],
   "source": [
    "import numpy as np\n",
    "import pandas as pd\n",
    "import matplotlib.pyplot as plt\n",
    "import seaborn as sns\n",
    "from scipy import stats\n",
    "import warnings\n",
    "import pickle\n",
    "from sklearn.model_selection import StratifiedKFold\n",
    "from sklearn.model_selection import GridSearchCV\n",
    "from sklearn.pipeline import Pipeline, FeatureUnion, TransformerMixin\n",
    "import gc\n",
    "from os import path\n",
    "from sklearn.preprocessing import LabelEncoder\n",
    "from pandas.core.dtypes.dtypes import CategoricalDtype\n",
    "from tqdm import tqdm\n",
    "from datetime import date \n",
    "import holidays\n",
    "\n",
    "\n",
    "warnings.simplefilter('ignore')\n",
    "sns.set()\n",
    "%matplotlib inline\n",
    "\n",
    "# label encoding\n",
    "le = LabelEncoder()"
   ]
  },
  {
   "cell_type": "code",
   "execution_count": 66,
   "metadata": {},
   "outputs": [],
   "source": [
    "def imputeWeather(weather_df, method:str='linear', gap_limit:int=None, limit_direction:str='forward'):\n",
    "    grouped_weather_df = weather_df.groupby('site_id').apply(lambda group: group.interpolate(method=method, limit=gap_limit, limit_direction=limit_direction))\n",
    "    \n",
    "    if 'cloud_coverage' in grouped_weather_df.columns:\n",
    "        grouped_weather_df['cloud_coverage'] = grouped_weather_df['cloud_coverage'].round(decimals=0).clip(0,8)\n",
    "    grouped_weather_df.reset_index(inplace=True)\n",
    "    return grouped_weather_df.drop('index', axis=1)\n",
    "        "
   ]
  },
  {
   "cell_type": "code",
   "execution_count": 67,
   "metadata": {},
   "outputs": [],
   "source": [
    "def add_lag_feature(weather_df, window=3):\n",
    "    # https://www.kaggle.com/corochann/ashrae-training-lgbm-by-meter-type\n",
    "    group_df = weather_df.groupby('site_id')\n",
    "    cols = ['air_temperature', 'cloud_coverage', 'dew_temperature', 'precip_depth_1_hr', 'sea_level_pressure', 'wind_direction', 'wind_speed']\n",
    "    rolled = group_df[cols].rolling(window=window, min_periods=0)\n",
    "    lag_mean = rolled.mean().reset_index().astype(np.float16)\n",
    "    lag_max = rolled.max().reset_index().astype(np.float16)\n",
    "    lag_min = rolled.min().reset_index().astype(np.float16)\n",
    "    lag_std = rolled.std().reset_index().astype(np.float16)\n",
    "    for col in cols:\n",
    "        weather_df[f'{col}_mean_lag{window}'] = lag_mean[col]\n",
    "        weather_df[f'{col}_max_lag{window}'] = lag_max[col]\n",
    "        weather_df[f'{col}_min_lag{window}'] = lag_min[col]\n",
    "        weather_df[f'{col}_std_lag{window}'] = lag_std[col]"
   ]
  },
  {
   "cell_type": "code",
   "execution_count": 68,
   "metadata": {},
   "outputs": [
    {
     "name": "stdout",
     "output_type": "stream",
     "text": [
      "site_id                   0\n",
      "timestamp                 0\n",
      "air_temperature          55\n",
      "cloud_coverage        69173\n",
      "dew_temperature         113\n",
      "precip_depth_1_hr     50289\n",
      "sea_level_pressure    10618\n",
      "wind_direction         6268\n",
      "wind_speed              304\n",
      "dtype: int64\n",
      "site_id                              0\n",
      "timestamp                            0\n",
      "air_temperature                      0\n",
      "cloud_coverage                   17228\n",
      "dew_temperature                      0\n",
      "precip_depth_1_hr                26273\n",
      "sea_level_pressure                8755\n",
      "wind_direction                       0\n",
      "wind_speed                           0\n",
      "air_temperature_mean_lag3            0\n",
      "air_temperature_max_lag3             0\n",
      "air_temperature_min_lag3             0\n",
      "air_temperature_std_lag3            16\n",
      "cloud_coverage_mean_lag3         17228\n",
      "cloud_coverage_max_lag3          17228\n",
      "cloud_coverage_min_lag3          17228\n",
      "cloud_coverage_std_lag3          17242\n",
      "dew_temperature_mean_lag3            0\n",
      "dew_temperature_max_lag3             0\n",
      "dew_temperature_min_lag3             0\n",
      "dew_temperature_std_lag3            16\n",
      "precip_depth_1_hr_mean_lag3      26273\n",
      "precip_depth_1_hr_max_lag3       26273\n",
      "precip_depth_1_hr_min_lag3       26273\n",
      "precip_depth_1_hr_std_lag3       26286\n",
      "sea_level_pressure_mean_lag3      8755\n",
      "sea_level_pressure_max_lag3       8755\n",
      "sea_level_pressure_min_lag3       8755\n",
      "sea_level_pressure_std_lag3       8770\n",
      "wind_direction_mean_lag3             0\n",
      "                                 ...  \n",
      "wind_speed_min_lag3                  0\n",
      "wind_speed_std_lag3                 16\n",
      "air_temperature_mean_lag72           0\n",
      "air_temperature_max_lag72            0\n",
      "air_temperature_min_lag72            0\n",
      "air_temperature_std_lag72           16\n",
      "cloud_coverage_mean_lag72        17228\n",
      "cloud_coverage_max_lag72         17228\n",
      "cloud_coverage_min_lag72         17228\n",
      "cloud_coverage_std_lag72         17242\n",
      "dew_temperature_mean_lag72           0\n",
      "dew_temperature_max_lag72            0\n",
      "dew_temperature_min_lag72            0\n",
      "dew_temperature_std_lag72           16\n",
      "precip_depth_1_hr_mean_lag72     26273\n",
      "precip_depth_1_hr_max_lag72      26273\n",
      "precip_depth_1_hr_min_lag72      26273\n",
      "precip_depth_1_hr_std_lag72      26286\n",
      "sea_level_pressure_mean_lag72     8755\n",
      "sea_level_pressure_max_lag72      8755\n",
      "sea_level_pressure_min_lag72      8755\n",
      "sea_level_pressure_std_lag72      8770\n",
      "wind_direction_mean_lag72            0\n",
      "wind_direction_max_lag72             0\n",
      "wind_direction_min_lag72             0\n",
      "wind_direction_std_lag72            16\n",
      "wind_speed_mean_lag72                0\n",
      "wind_speed_max_lag72                 0\n",
      "wind_speed_min_lag72                 0\n",
      "wind_speed_std_lag72                16\n",
      "Length: 65, dtype: int64\n"
     ]
    },
    {
     "data": {
      "text/plain": [
       "629"
      ]
     },
     "execution_count": 68,
     "metadata": {},
     "output_type": "execute_result"
    }
   ],
   "source": [
    "file_dtype = {\n",
    "    'train': {'building_id': np.int16, 'meter': np.int8, 'meter_reading': np.float32},\n",
    "    'test': {'building_id': np.int16, 'meter': np.int8},\n",
    "    'building_metadata': {'site_id': np.int8, 'building_id': np.uint16, 'square_feet': np.float16, 'year_built': np.float16, 'floor_count': np.float16},\n",
    "    'weather' : {'site_id': np.int8, 'air_temperature': np.float16, 'cloud_coverage': np.float16, 'dew_temperature': np.float16,\n",
    "                     'precip_depth_1_hr': np.float16, 'sea_level_pressure': np.float16, 'wind_direction': np.float16, 'wind_speed': np.float16}\n",
    "}\n",
    "\n",
    "file_loc = {}    \n",
    "for dir_path in ['../input/ashrae-energy-prediction/','../input/_ashrae-energy-prediction/']:\n",
    "    for name in ['building_metadata','weather_train','weather_test','train','test']:\n",
    "        if path.exists(dir_path + name + '.csv'):\n",
    "            file_loc[name]= dir_path + name + '.csv'\n",
    "    \n",
    "    building = pd.read_csv(file_loc['building_metadata'], dtype=file_dtype['building_metadata'])\n",
    "    weather_train = pd.read_csv(file_loc['weather_train'], dtype=file_dtype['weather'])\n",
    "    weather_test = pd.read_csv(file_loc['weather_test'], dtype=file_dtype['weather'])\n",
    "    train = pd.read_csv(file_loc['train'], dtype=file_dtype['train'])\n",
    "    test = pd.read_csv(file_loc['test'], dtype=file_dtype['test'])\n",
    "\n",
    "print(weather_train.isna().sum())    \n",
    "weather_train = imputeWeather(weather_train, limit_direction='both')\n",
    "add_lag_feature(weather_train, window=3)\n",
    "#add_lag_feature(weather_train, window=24)\n",
    "add_lag_feature(weather_train, window=72)\n",
    "print(weather_train.isna().sum())\n",
    "weather_test = imputeWeather(weather_test, limit_direction='both')\n",
    "add_lag_feature(weather_test, window=3)\n",
    "#add_lag_feature(weather_test, window=24)\n",
    "add_lag_feature(weather_test, window=72)\n",
    "    \n",
    "train = train.merge(building, on='building_id', how='left')\n",
    "test = test.merge(building, on='building_id', how='left')\n",
    "train = train.merge(weather_train, on=['site_id', 'timestamp'], how='left')\n",
    "test = test.merge(weather_test, on=['site_id', 'timestamp'], how='left')\n",
    "\n",
    "del weather_train, weather_test\n",
    "gc.collect()"
   ]
  },
  {
   "cell_type": "code",
   "execution_count": 69,
   "metadata": {},
   "outputs": [],
   "source": [
    "class ConvertToDatetime(TransformerMixin):\n",
    "        \n",
    "    def transform(self, df, **transform_params):\n",
    "        df['timestamp'] = pd.to_datetime(df['timestamp'])\n",
    "        return df\n",
    "\n",
    "    def fit(self, X, y=None, **fit_params):\n",
    "        return self"
   ]
  },
  {
   "cell_type": "code",
   "execution_count": 70,
   "metadata": {},
   "outputs": [],
   "source": [
    "class AddHolidays(TransformerMixin):\n",
    "    def transform(self, df, **transform_params):\n",
    "        #north_america = holidays.CA() + holidays.US() + holidays.MX()\n",
    "        us =  holidays.US();\n",
    "        df['holiday'] = df['timestamp'].apply(lambda x: us.get(x))\n",
    "        df['holiday'] = df['holiday'].astype('category')\n",
    "        return df\n",
    "\n",
    "    def fit(self, X, y=None, **fit_params):\n",
    "        return self"
   ]
  },
  {
   "cell_type": "code",
   "execution_count": 71,
   "metadata": {},
   "outputs": [],
   "source": [
    "class LogSquareFeet(TransformerMixin):\n",
    "        \n",
    "    def transform(self, df, **transform_params):\n",
    "        df['log_square_feet'] = np.float16(np.log(df['square_feet']))\n",
    "        return df\n",
    "\n",
    "    def fit(self, X, y=None, **fit_params):\n",
    "        return self"
   ]
  },
  {
   "cell_type": "code",
   "execution_count": 72,
   "metadata": {},
   "outputs": [],
   "source": [
    "class SetCatTypes(TransformerMixin):\n",
    "        \n",
    "    def transform(self, df, **transform_params):\n",
    "        df['primary_use']= df['primary_use'].astype('category')\n",
    "        df['meter'] = df[\"meter\"].astype('category')\n",
    "        df['site_id'] = df[\"site_id\"].astype('category')\n",
    "        df['building_id'] = df['building_id'].astype('category')\n",
    "        return df\n",
    "\n",
    "    def fit(self, X, y=None, **fit_params):\n",
    "        return self"
   ]
  },
  {
   "cell_type": "code",
   "execution_count": 73,
   "metadata": {},
   "outputs": [],
   "source": [
    "class ImputeCloudCoverage(TransformerMixin):\n",
    "        \n",
    "    def transform(self, df, **transform_params):\n",
    "        # set age of building to mediam of site_id\n",
    "        # else if set ot overall median\n",
    "        median = df['cloud_coverage'].median()\n",
    "        # Set all year_built NaNs to site mean for year_built\n",
    "        for i, i_median in df.groupby(['site_id'])['cloud_coverage'].median().items():\n",
    "            if not np.isnan(i_median):\n",
    "                df.loc[(df['cloud_coverage'].isnull()) & (df['site_id'] == i), 'cloud_coverage'] = i_median\n",
    "            else:\n",
    "                df.loc[(df['cloud_coverage'].isnull()) & (df['site_id'] == i), 'cloud_coverage'] = median\n",
    "        df['cloud_coverage'] = np.uint8(df['cloud_coverage'])\n",
    "        df['cloud_coverage'] = df['cloud_coverage']\n",
    "        return df\n",
    "        \n",
    "    def fit(self, X, y=None, **fit_params):\n",
    "        return self\n"
   ]
  },
  {
   "cell_type": "code",
   "execution_count": 74,
   "metadata": {},
   "outputs": [],
   "source": [
    "class CloudTimeCat(TransformerMixin):\n",
    "        \n",
    "    def transform(self, df, **transform_params):\n",
    "        tempDf = df[['cloud_coverage', 'hour']].astype('int')\n",
    "        tempDf['cloud_coverage'] = (tempDf['cloud_coverage']).astype('int')\n",
    "        tempDf['hour'] = (tempDf['hour']).astype('int')\n",
    "        tempDf = tempDf.astype('str')\n",
    "        df['cloud_time_cat'] = 'c' + tempDf['cloud_coverage'] + 't' + tempDf['hour']\n",
    "        df['cloud_time_cat'] = df['cloud_time_cat'].astype('category')\n",
    "        return df\n",
    "        \n",
    "    def fit(self, X, y=None, **fit_params):\n",
    "        return self\n"
   ]
  },
  {
   "cell_type": "code",
   "execution_count": 75,
   "metadata": {},
   "outputs": [],
   "source": [
    "class DropCols(TransformerMixin):\n",
    "\n",
    "    def __init__(self, drop_cols):\n",
    "        self._drop_cols = drop_cols\n",
    "        \n",
    "    def transform(self, df, **transform_params):\n",
    "        return df.drop(self._drop_cols, axis=1)\n",
    "\n",
    "    def fit(self, X, y=None, **fit_params):\n",
    "        return self"
   ]
  },
  {
   "cell_type": "code",
   "execution_count": 76,
   "metadata": {},
   "outputs": [],
   "source": [
    "class ImputeYearBuilt(TransformerMixin):\n",
    "\n",
    "    def transform(self, df, **transform_params):\n",
    "        year_built_median = df['year_built'].median()\n",
    "        # Set all year_built NaNs to site mean for year_built\n",
    "        for i, i_median in df.groupby(['site_id'])['year_built'].median().items():\n",
    "            if not np.isnan(i_median):\n",
    "                df.loc[(df['year_built'].isnull()) & (df['site_id'] == i), 'year_built'] = i_median\n",
    "            else:\n",
    "                df.loc[(df['year_built'].isnull()) & (df['site_id'] == i), 'year_built'] = year_built_median\n",
    "        df['building_age'] = np.uint8(df['year_built']-1900)\n",
    "        return df\n",
    "\n",
    "    def fit(self, X, y=None, **fit_params):\n",
    "        return self\n"
   ]
  },
  {
   "cell_type": "code",
   "execution_count": 77,
   "metadata": {},
   "outputs": [],
   "source": [
    "class AddMeterDummies(TransformerMixin):\n",
    "        \n",
    "    def transform(self, df_a, **transform_params):\n",
    "        df = df_a\n",
    "        for i in range(4):\n",
    "            df['_meter_'+str(i)] = (df['building_id'].isin(\n",
    "                train.loc[train['meter'] == i].building_id.unique()))\n",
    "        return df\n",
    "        \n",
    "    def fit(self, X, y=None, **fit_params):\n",
    "        return self"
   ]
  },
  {
   "cell_type": "code",
   "execution_count": 78,
   "metadata": {},
   "outputs": [],
   "source": [
    "class AddTimeFeatures(TransformerMixin):\n",
    "        \n",
    "    def transform(self, df_a, **transform_params):\n",
    "        df = df_a\n",
    "        df['dayofweek'] = df['timestamp'].dt.dayofweek.astype('category') # vs weekend?\n",
    "        #df['weekday'] = df['timestamp'].dt.weekday.astype('category')\n",
    "        #df['dayofweek_hour'] = (df['timestamp'].dt.dayofweek * 24) + df['timestamp'].dt.hour\n",
    "        #df['dayofweek_hour'] = df['dayofweek_hour'].astype('category')\n",
    "        #df['week'] = df['timestamp'].dt.week.astype('category')\n",
    "        df['hour'] = df['timestamp'].dt.hour.astype('category')\n",
    "        return df\n",
    "        \n",
    "    def fit(self, X, y=None, **fit_params):\n",
    "        return self"
   ]
  },
  {
   "cell_type": "code",
   "execution_count": 79,
   "metadata": {},
   "outputs": [],
   "source": [
    "class AddRelativeHumidity(TransformerMixin):\n",
    "        \n",
    "    def transform(self, df_a, **transform_params):\n",
    "        df = df_a\n",
    "        # code here\n",
    "        return df\n",
    "        \n",
    "    def fit(self, X, y=None, **fit_params):\n",
    "        return self"
   ]
  },
  {
   "cell_type": "code",
   "execution_count": 80,
   "metadata": {},
   "outputs": [],
   "source": [
    "class FillMean(TransformerMixin):\n",
    "\n",
    "    def __init__(self, cols):\n",
    "        self._cols = cols\n",
    "        \n",
    "    def transform(self, df, **transform_params):\n",
    "        for col in self._cols:\n",
    "            df[col] = df[col].fillna(df[col].mean())\n",
    "        return df\n",
    "\n",
    "    def fit(self, X, y=None, **fit_params):\n",
    "        return self"
   ]
  },
  {
   "cell_type": "code",
   "execution_count": 81,
   "metadata": {},
   "outputs": [],
   "source": [
    "class FillZeros(TransformerMixin):\n",
    "\n",
    "    def __init__(self, cols):\n",
    "        self._cols = cols\n",
    "        \n",
    "    def transform(self, df, **transform_params):\n",
    "        for col in self._cols:\n",
    "            df[col] = df[col].fillna(0)\n",
    "        return df\n",
    "\n",
    "    def fit(self, X, y=None, **fit_params):\n",
    "        return self"
   ]
  },
  {
   "cell_type": "code",
   "execution_count": 82,
   "metadata": {},
   "outputs": [],
   "source": [
    "class FillMedian(TransformerMixin):\n",
    "\n",
    "    def __init__(self, cols):\n",
    "        self._cols = cols\n",
    "        \n",
    "    def transform(self, df, **transform_params):\n",
    "        for col in self._cols:\n",
    "            df[col] = df[col].fillna(df[col].median())\n",
    "        return df\n",
    "\n",
    "    def fit(self, X, y=None, **fit_params):\n",
    "        return self\n"
   ]
  },
  {
   "cell_type": "code",
   "execution_count": 83,
   "metadata": {
    "scrolled": true
   },
   "outputs": [],
   "source": [
    "class FillPopular(TransformerMixin):\n",
    "\n",
    "    def __init__(self, cols):\n",
    "        self._cols = cols\n",
    "        \n",
    "    def transform(self, df, **transform_params):\n",
    "        for col in self._cols:\n",
    "            df[col] = df[col].fillna(df[col].value_counts()[0])\n",
    "        return df\n",
    "\n",
    "    def fit(self, X, y=None, **fit_params):\n",
    "        return self"
   ]
  },
  {
   "cell_type": "code",
   "execution_count": 84,
   "metadata": {},
   "outputs": [],
   "source": [
    "class MarkNaNs(TransformerMixin):\n",
    "        \n",
    "    def transform(self, df, **transform_params):\n",
    "        for col in  df.columns[df.isna().any()].tolist():\n",
    "            df['_' + col + '_nan' ] = df[col].isnull()\n",
    "        return df\n",
    "\n",
    "    def fit(self, X, y=None, **fit_params):\n",
    "        return self"
   ]
  },
  {
   "cell_type": "code",
   "execution_count": 85,
   "metadata": {},
   "outputs": [],
   "source": [
    "class GC(TransformerMixin):\n",
    "        \n",
    "    def transform(self, df, **transform_params):\n",
    "        gc.collect()\n",
    "        return df\n",
    "\n",
    "    def fit(self, X, y=None, **fit_params):\n",
    "        return self"
   ]
  },
  {
   "cell_type": "code",
   "execution_count": 86,
   "metadata": {},
   "outputs": [],
   "source": [
    "# declare model\n",
    "from sklearn.model_selection import cross_val_score\n",
    "from sklearn.metrics import make_scorer, mean_squared_log_error, mean_squared_error\n",
    "from lightgbm import LGBMRegressor\n",
    "\n",
    "\n",
    "def rmsle(y, y_pred):\n",
    "    # hack to prevent negative numbers\n",
    "    return np.sqrt(mean_squared_log_error(y, y_pred.clip(0)))\n",
    "\n",
    "def rmse(y, y_pred):\n",
    "    # hack to prevent negative numbers\n",
    "    return mean_squared_error(y, y_pred.clip(0))\n",
    "\n",
    "def rmsee(y, y_pred):\n",
    "    # hack to prevent negative numbers\n",
    "    return np.sqrt(mean_squared_log_error(np.expm1(y.clip(0)), np.expm1(y_pred.clip(0))))\n",
    "    \n",
    "rmsle_scorer = make_scorer(\n",
    "    lambda y_true, y_pred : rmsle(y_true, y_pred), \n",
    "    greater_is_better=False)\n",
    "\n",
    "rmse_scorer = make_scorer(\n",
    "    lambda y_true, y_pred : rmsle(y_true, y_pred), \n",
    "    greater_is_better=False)\n",
    "\n",
    "rmsee_scorer = make_scorer(\n",
    "    lambda y_true, y_pred : rmsee(y_true, y_pred), \n",
    "    greater_is_better=False)\n",
    "\n"
   ]
  },
  {
   "cell_type": "code",
   "execution_count": 56,
   "metadata": {},
   "outputs": [],
   "source": [
    "\n",
    "gbm=LGBMRegressor(n_estimators=500, # for accuracy use large numbers like 6000 \n",
    "                  learning_rate=0.1,\n",
    "                  feature_fraction=0.9,\n",
    "                  subsample=0.1,  # batches of 20% of the data\n",
    "                  subsample_freq=1,\n",
    "                  num_leaves=160,\n",
    "                  max_depth=11,\n",
    "                  metric='rmse',\n",
    "                  verbose= 100)\n"
   ]
  },
  {
   "cell_type": "code",
   "execution_count": 101,
   "metadata": {},
   "outputs": [],
   "source": [
    "# pre_a_pipes is for preprocessing that doesn't change impute\n",
    "# values\n",
    "pre_a_pipes = Pipeline(\n",
    "    steps=[\n",
    "        #('markNans',MarkNaNs()),\n",
    "        ('convertToDatetime', ConvertToDatetime()),\n",
    "        ('AddHolidays', AddHolidays()),\n",
    "        ('addRelativeHumidity',AddRelativeHumidity()),\n",
    "        ('logSquareFeet', LogSquareFeet()),\n",
    "        ('addTimeFeatures', AddTimeFeatures()),\n",
    "        ('setCatTypes', SetCatTypes()),\n",
    "    ]\n",
    ")"
   ]
  },
  {
   "cell_type": "code",
   "execution_count": 100,
   "metadata": {},
   "outputs": [
    {
     "ename": "NameError",
     "evalue": "name 'train' is not defined",
     "output_type": "error",
     "traceback": [
      "\u001b[1;31m---------------------------------------------------------------------------\u001b[0m",
      "\u001b[1;31mNameError\u001b[0m                                 Traceback (most recent call last)",
      "\u001b[1;32m<ipython-input-100-bd6728b81d26>\u001b[0m in \u001b[0;36m<module>\u001b[1;34m\u001b[0m\n\u001b[0;32m     27\u001b[0m )\n\u001b[0;32m     28\u001b[0m \u001b[1;33m\u001b[0m\u001b[0m\n\u001b[1;32m---> 29\u001b[1;33m \u001b[0mtrain_X\u001b[0m \u001b[1;33m=\u001b[0m \u001b[0mpre_a_pipes\u001b[0m\u001b[1;33m.\u001b[0m\u001b[0mtransform\u001b[0m\u001b[1;33m(\u001b[0m\u001b[0mtrain\u001b[0m\u001b[1;33m.\u001b[0m\u001b[0mdrop\u001b[0m\u001b[1;33m(\u001b[0m\u001b[1;34m'meter_reading'\u001b[0m\u001b[1;33m,\u001b[0m \u001b[0maxis\u001b[0m\u001b[1;33m=\u001b[0m\u001b[1;36m1\u001b[0m\u001b[1;33m)\u001b[0m\u001b[1;33m)\u001b[0m\u001b[1;33m\u001b[0m\u001b[1;33m\u001b[0m\u001b[0m\n\u001b[0m\u001b[0;32m     30\u001b[0m \u001b[0mtest_X\u001b[0m \u001b[1;33m=\u001b[0m \u001b[0mpre_a_pipes\u001b[0m\u001b[1;33m.\u001b[0m\u001b[0mtransform\u001b[0m\u001b[1;33m(\u001b[0m\u001b[0mtest\u001b[0m\u001b[1;33m.\u001b[0m\u001b[0mdrop\u001b[0m\u001b[1;33m(\u001b[0m\u001b[1;33m[\u001b[0m\u001b[1;34m'row_id'\u001b[0m\u001b[1;33m]\u001b[0m\u001b[1;33m,\u001b[0m \u001b[0maxis\u001b[0m\u001b[1;33m=\u001b[0m\u001b[1;36m1\u001b[0m\u001b[1;33m)\u001b[0m\u001b[1;33m)\u001b[0m\u001b[1;33m\u001b[0m\u001b[1;33m\u001b[0m\u001b[0m\n\u001b[0;32m     31\u001b[0m \u001b[0mtrain_y\u001b[0m \u001b[1;33m=\u001b[0m \u001b[0mnp\u001b[0m\u001b[1;33m.\u001b[0m\u001b[0mlog1p\u001b[0m\u001b[1;33m(\u001b[0m\u001b[0mtrain\u001b[0m\u001b[1;33m[\u001b[0m\u001b[1;34m'meter_reading'\u001b[0m\u001b[1;33m]\u001b[0m\u001b[1;33m)\u001b[0m\u001b[1;33m\u001b[0m\u001b[1;33m\u001b[0m\u001b[0m\n",
      "\u001b[1;31mNameError\u001b[0m: name 'train' is not defined"
     ]
    }
   ],
   "source": [
    "# pre_b_pipes is for imputed values and final\n",
    "# drops before modeling\n",
    "drop_cols = ['timestamp', 'square_feet',\n",
    "             'wind_direction',\n",
    "             'precip_depth_1_hr', \n",
    "             'year_built' ]\n",
    "fill_w_mean = ['floor_count','air_temperature','dew_temperature', \n",
    "              'precip_depth_1_hr', 'sea_level_pressure']\n",
    "fill_w_zero = []\n",
    "\n",
    "\n",
    "pre_b_pipes = Pipeline(\n",
    "    steps=[\n",
    "        ('fillMean',FillMean(fill_w_mean)),\n",
    "        ('fillZeros',FillZeros(fill_w_zero)),\n",
    "        ('imputeCloudCoverage', ImputeCloudCoverage()),\n",
    "        ('imputeYearBuilt', ImputeYearBuilt()),\n",
    "        ('dropClos', DropCols(drop_cols)),\n",
    "        ('GC', GC())\n",
    "    ]\n",
    ")\n",
    "\n",
    "pipe = Pipeline(\n",
    "    steps=[\n",
    "        ('pre_b_pipes',pre_b_pipes),\n",
    "        ('gbm', gbm)]\n",
    ")\n",
    "\n",
    "train_X = pre_a_pipes.transform(train.drop('meter_reading', axis=1))\n",
    "test_X = pre_a_pipes.transform(test.drop(['row_id'], axis=1))\n",
    "train_y = np.log1p(train['meter_reading'])\n",
    "\n",
    "print(train_X.shape)\n",
    "print(test_X.shape)\n",
    "print(train_X.sample(n=20,  random_state=42))\n",
    "\n",
    "del train, test\n",
    "gc.collect()\n"
   ]
  },
  {
   "cell_type": "code",
   "execution_count": 59,
   "metadata": {},
   "outputs": [
    {
     "name": "stdout",
     "output_type": "stream",
     "text": [
      "rmsee scores:\n",
      " [-1.05990199 -1.32162683 -0.99836776 -1.13325113 -1.40318077]\n"
     ]
    }
   ],
   "source": [
    "# Cross val testing - can be skipped\n",
    "scores = cross_val_score(pipe, train_X, train_y, cv=5, \n",
    "                        scoring=rmsee_scorer)\n",
    "print('rmsee scores:\\n', scores)\n"
   ]
  },
  {
   "cell_type": "code",
   "execution_count": null,
   "metadata": {},
   "outputs": [],
   "source": []
  },
  {
   "cell_type": "code",
   "execution_count": 84,
   "metadata": {},
   "outputs": [
    {
     "data": {
      "text/plain": [
       "87"
      ]
     },
     "execution_count": 84,
     "metadata": {},
     "output_type": "execute_result"
    }
   ],
   "source": [
    "del scores\n",
    "gc.collect()"
   ]
  },
  {
   "cell_type": "code",
   "execution_count": 96,
   "metadata": {
    "scrolled": true
   },
   "outputs": [
    {
     "ename": "KeyboardInterrupt",
     "evalue": "",
     "output_type": "error",
     "traceback": [
      "\u001b[1;31m---------------------------------------------------------------------------\u001b[0m",
      "\u001b[1;31mKeyboardInterrupt\u001b[0m                         Traceback (most recent call last)",
      "\u001b[1;32m<ipython-input-96-43edb55079a1>\u001b[0m in \u001b[0;36m<module>\u001b[1;34m\u001b[0m\n\u001b[0;32m     14\u001b[0m                      n_jobs=-1)\n\u001b[0;32m     15\u001b[0m \u001b[1;33m\u001b[0m\u001b[0m\n\u001b[1;32m---> 16\u001b[1;33m \u001b[0mgd_sr\u001b[0m\u001b[1;33m.\u001b[0m\u001b[0mfit\u001b[0m\u001b[1;33m(\u001b[0m\u001b[0mtrain_X\u001b[0m\u001b[1;33m,\u001b[0m \u001b[0mtrain_y\u001b[0m\u001b[1;33m)\u001b[0m\u001b[1;33m\u001b[0m\u001b[1;33m\u001b[0m\u001b[0m\n\u001b[0m\u001b[0;32m     17\u001b[0m \u001b[1;33m\u001b[0m\u001b[0m\n\u001b[0;32m     18\u001b[0m \u001b[0mbest_parameters\u001b[0m \u001b[1;33m=\u001b[0m \u001b[0mgd_sr\u001b[0m\u001b[1;33m.\u001b[0m\u001b[0mbest_params_\u001b[0m\u001b[1;33m\u001b[0m\u001b[1;33m\u001b[0m\u001b[0m\n",
      "\u001b[1;32m~\\Anaconda3\\lib\\site-packages\\sklearn\\model_selection\\_search.py\u001b[0m in \u001b[0;36mfit\u001b[1;34m(self, X, y, groups, **fit_params)\u001b[0m\n\u001b[0;32m    685\u001b[0m                 \u001b[1;32mreturn\u001b[0m \u001b[0mresults\u001b[0m\u001b[1;33m\u001b[0m\u001b[1;33m\u001b[0m\u001b[0m\n\u001b[0;32m    686\u001b[0m \u001b[1;33m\u001b[0m\u001b[0m\n\u001b[1;32m--> 687\u001b[1;33m             \u001b[0mself\u001b[0m\u001b[1;33m.\u001b[0m\u001b[0m_run_search\u001b[0m\u001b[1;33m(\u001b[0m\u001b[0mevaluate_candidates\u001b[0m\u001b[1;33m)\u001b[0m\u001b[1;33m\u001b[0m\u001b[1;33m\u001b[0m\u001b[0m\n\u001b[0m\u001b[0;32m    688\u001b[0m \u001b[1;33m\u001b[0m\u001b[0m\n\u001b[0;32m    689\u001b[0m         \u001b[1;31m# For multi-metric evaluation, store the best_index_, best_params_ and\u001b[0m\u001b[1;33m\u001b[0m\u001b[1;33m\u001b[0m\u001b[1;33m\u001b[0m\u001b[0m\n",
      "\u001b[1;32m~\\Anaconda3\\lib\\site-packages\\sklearn\\model_selection\\_search.py\u001b[0m in \u001b[0;36m_run_search\u001b[1;34m(self, evaluate_candidates)\u001b[0m\n\u001b[0;32m   1146\u001b[0m     \u001b[1;32mdef\u001b[0m \u001b[0m_run_search\u001b[0m\u001b[1;33m(\u001b[0m\u001b[0mself\u001b[0m\u001b[1;33m,\u001b[0m \u001b[0mevaluate_candidates\u001b[0m\u001b[1;33m)\u001b[0m\u001b[1;33m:\u001b[0m\u001b[1;33m\u001b[0m\u001b[1;33m\u001b[0m\u001b[0m\n\u001b[0;32m   1147\u001b[0m         \u001b[1;34m\"\"\"Search all candidates in param_grid\"\"\"\u001b[0m\u001b[1;33m\u001b[0m\u001b[1;33m\u001b[0m\u001b[0m\n\u001b[1;32m-> 1148\u001b[1;33m         \u001b[0mevaluate_candidates\u001b[0m\u001b[1;33m(\u001b[0m\u001b[0mParameterGrid\u001b[0m\u001b[1;33m(\u001b[0m\u001b[0mself\u001b[0m\u001b[1;33m.\u001b[0m\u001b[0mparam_grid\u001b[0m\u001b[1;33m)\u001b[0m\u001b[1;33m)\u001b[0m\u001b[1;33m\u001b[0m\u001b[1;33m\u001b[0m\u001b[0m\n\u001b[0m\u001b[0;32m   1149\u001b[0m \u001b[1;33m\u001b[0m\u001b[0m\n\u001b[0;32m   1150\u001b[0m \u001b[1;33m\u001b[0m\u001b[0m\n",
      "\u001b[1;32m~\\Anaconda3\\lib\\site-packages\\sklearn\\model_selection\\_search.py\u001b[0m in \u001b[0;36mevaluate_candidates\u001b[1;34m(candidate_params)\u001b[0m\n\u001b[0;32m    664\u001b[0m                                \u001b[1;32mfor\u001b[0m \u001b[0mparameters\u001b[0m\u001b[1;33m,\u001b[0m \u001b[1;33m(\u001b[0m\u001b[0mtrain\u001b[0m\u001b[1;33m,\u001b[0m \u001b[0mtest\u001b[0m\u001b[1;33m)\u001b[0m\u001b[1;33m\u001b[0m\u001b[1;33m\u001b[0m\u001b[0m\n\u001b[0;32m    665\u001b[0m                                in product(candidate_params,\n\u001b[1;32m--> 666\u001b[1;33m                                           cv.split(X, y, groups)))\n\u001b[0m\u001b[0;32m    667\u001b[0m \u001b[1;33m\u001b[0m\u001b[0m\n\u001b[0;32m    668\u001b[0m                 \u001b[1;32mif\u001b[0m \u001b[0mlen\u001b[0m\u001b[1;33m(\u001b[0m\u001b[0mout\u001b[0m\u001b[1;33m)\u001b[0m \u001b[1;33m<\u001b[0m \u001b[1;36m1\u001b[0m\u001b[1;33m:\u001b[0m\u001b[1;33m\u001b[0m\u001b[1;33m\u001b[0m\u001b[0m\n",
      "\u001b[1;32m~\\Anaconda3\\lib\\site-packages\\joblib\\parallel.py\u001b[0m in \u001b[0;36m__call__\u001b[1;34m(self, iterable)\u001b[0m\n\u001b[0;32m    932\u001b[0m \u001b[1;33m\u001b[0m\u001b[0m\n\u001b[0;32m    933\u001b[0m             \u001b[1;32mwith\u001b[0m \u001b[0mself\u001b[0m\u001b[1;33m.\u001b[0m\u001b[0m_backend\u001b[0m\u001b[1;33m.\u001b[0m\u001b[0mretrieval_context\u001b[0m\u001b[1;33m(\u001b[0m\u001b[1;33m)\u001b[0m\u001b[1;33m:\u001b[0m\u001b[1;33m\u001b[0m\u001b[1;33m\u001b[0m\u001b[0m\n\u001b[1;32m--> 934\u001b[1;33m                 \u001b[0mself\u001b[0m\u001b[1;33m.\u001b[0m\u001b[0mretrieve\u001b[0m\u001b[1;33m(\u001b[0m\u001b[1;33m)\u001b[0m\u001b[1;33m\u001b[0m\u001b[1;33m\u001b[0m\u001b[0m\n\u001b[0m\u001b[0;32m    935\u001b[0m             \u001b[1;31m# Make sure that we get a last message telling us we are done\u001b[0m\u001b[1;33m\u001b[0m\u001b[1;33m\u001b[0m\u001b[1;33m\u001b[0m\u001b[0m\n\u001b[0;32m    936\u001b[0m             \u001b[0melapsed_time\u001b[0m \u001b[1;33m=\u001b[0m \u001b[0mtime\u001b[0m\u001b[1;33m.\u001b[0m\u001b[0mtime\u001b[0m\u001b[1;33m(\u001b[0m\u001b[1;33m)\u001b[0m \u001b[1;33m-\u001b[0m \u001b[0mself\u001b[0m\u001b[1;33m.\u001b[0m\u001b[0m_start_time\u001b[0m\u001b[1;33m\u001b[0m\u001b[1;33m\u001b[0m\u001b[0m\n",
      "\u001b[1;32m~\\Anaconda3\\lib\\site-packages\\joblib\\parallel.py\u001b[0m in \u001b[0;36mretrieve\u001b[1;34m(self)\u001b[0m\n\u001b[0;32m    831\u001b[0m             \u001b[1;32mtry\u001b[0m\u001b[1;33m:\u001b[0m\u001b[1;33m\u001b[0m\u001b[1;33m\u001b[0m\u001b[0m\n\u001b[0;32m    832\u001b[0m                 \u001b[1;32mif\u001b[0m \u001b[0mgetattr\u001b[0m\u001b[1;33m(\u001b[0m\u001b[0mself\u001b[0m\u001b[1;33m.\u001b[0m\u001b[0m_backend\u001b[0m\u001b[1;33m,\u001b[0m \u001b[1;34m'supports_timeout'\u001b[0m\u001b[1;33m,\u001b[0m \u001b[1;32mFalse\u001b[0m\u001b[1;33m)\u001b[0m\u001b[1;33m:\u001b[0m\u001b[1;33m\u001b[0m\u001b[1;33m\u001b[0m\u001b[0m\n\u001b[1;32m--> 833\u001b[1;33m                     \u001b[0mself\u001b[0m\u001b[1;33m.\u001b[0m\u001b[0m_output\u001b[0m\u001b[1;33m.\u001b[0m\u001b[0mextend\u001b[0m\u001b[1;33m(\u001b[0m\u001b[0mjob\u001b[0m\u001b[1;33m.\u001b[0m\u001b[0mget\u001b[0m\u001b[1;33m(\u001b[0m\u001b[0mtimeout\u001b[0m\u001b[1;33m=\u001b[0m\u001b[0mself\u001b[0m\u001b[1;33m.\u001b[0m\u001b[0mtimeout\u001b[0m\u001b[1;33m)\u001b[0m\u001b[1;33m)\u001b[0m\u001b[1;33m\u001b[0m\u001b[1;33m\u001b[0m\u001b[0m\n\u001b[0m\u001b[0;32m    834\u001b[0m                 \u001b[1;32melse\u001b[0m\u001b[1;33m:\u001b[0m\u001b[1;33m\u001b[0m\u001b[1;33m\u001b[0m\u001b[0m\n\u001b[0;32m    835\u001b[0m                     \u001b[0mself\u001b[0m\u001b[1;33m.\u001b[0m\u001b[0m_output\u001b[0m\u001b[1;33m.\u001b[0m\u001b[0mextend\u001b[0m\u001b[1;33m(\u001b[0m\u001b[0mjob\u001b[0m\u001b[1;33m.\u001b[0m\u001b[0mget\u001b[0m\u001b[1;33m(\u001b[0m\u001b[1;33m)\u001b[0m\u001b[1;33m)\u001b[0m\u001b[1;33m\u001b[0m\u001b[1;33m\u001b[0m\u001b[0m\n",
      "\u001b[1;32m~\\Anaconda3\\lib\\site-packages\\joblib\\_parallel_backends.py\u001b[0m in \u001b[0;36mwrap_future_result\u001b[1;34m(future, timeout)\u001b[0m\n\u001b[0;32m    519\u001b[0m         AsyncResults.get from multiprocessing.\"\"\"\n\u001b[0;32m    520\u001b[0m         \u001b[1;32mtry\u001b[0m\u001b[1;33m:\u001b[0m\u001b[1;33m\u001b[0m\u001b[1;33m\u001b[0m\u001b[0m\n\u001b[1;32m--> 521\u001b[1;33m             \u001b[1;32mreturn\u001b[0m \u001b[0mfuture\u001b[0m\u001b[1;33m.\u001b[0m\u001b[0mresult\u001b[0m\u001b[1;33m(\u001b[0m\u001b[0mtimeout\u001b[0m\u001b[1;33m=\u001b[0m\u001b[0mtimeout\u001b[0m\u001b[1;33m)\u001b[0m\u001b[1;33m\u001b[0m\u001b[1;33m\u001b[0m\u001b[0m\n\u001b[0m\u001b[0;32m    522\u001b[0m         \u001b[1;32mexcept\u001b[0m \u001b[0mLokyTimeoutError\u001b[0m\u001b[1;33m:\u001b[0m\u001b[1;33m\u001b[0m\u001b[1;33m\u001b[0m\u001b[0m\n\u001b[0;32m    523\u001b[0m             \u001b[1;32mraise\u001b[0m \u001b[0mTimeoutError\u001b[0m\u001b[1;33m(\u001b[0m\u001b[1;33m)\u001b[0m\u001b[1;33m\u001b[0m\u001b[1;33m\u001b[0m\u001b[0m\n",
      "\u001b[1;32m~\\Anaconda3\\lib\\concurrent\\futures\\_base.py\u001b[0m in \u001b[0;36mresult\u001b[1;34m(self, timeout)\u001b[0m\n\u001b[0;32m    425\u001b[0m                 \u001b[1;32mreturn\u001b[0m \u001b[0mself\u001b[0m\u001b[1;33m.\u001b[0m\u001b[0m__get_result\u001b[0m\u001b[1;33m(\u001b[0m\u001b[1;33m)\u001b[0m\u001b[1;33m\u001b[0m\u001b[1;33m\u001b[0m\u001b[0m\n\u001b[0;32m    426\u001b[0m \u001b[1;33m\u001b[0m\u001b[0m\n\u001b[1;32m--> 427\u001b[1;33m             \u001b[0mself\u001b[0m\u001b[1;33m.\u001b[0m\u001b[0m_condition\u001b[0m\u001b[1;33m.\u001b[0m\u001b[0mwait\u001b[0m\u001b[1;33m(\u001b[0m\u001b[0mtimeout\u001b[0m\u001b[1;33m)\u001b[0m\u001b[1;33m\u001b[0m\u001b[1;33m\u001b[0m\u001b[0m\n\u001b[0m\u001b[0;32m    428\u001b[0m \u001b[1;33m\u001b[0m\u001b[0m\n\u001b[0;32m    429\u001b[0m             \u001b[1;32mif\u001b[0m \u001b[0mself\u001b[0m\u001b[1;33m.\u001b[0m\u001b[0m_state\u001b[0m \u001b[1;32min\u001b[0m \u001b[1;33m[\u001b[0m\u001b[0mCANCELLED\u001b[0m\u001b[1;33m,\u001b[0m \u001b[0mCANCELLED_AND_NOTIFIED\u001b[0m\u001b[1;33m]\u001b[0m\u001b[1;33m:\u001b[0m\u001b[1;33m\u001b[0m\u001b[1;33m\u001b[0m\u001b[0m\n",
      "\u001b[1;32m~\\Anaconda3\\lib\\threading.py\u001b[0m in \u001b[0;36mwait\u001b[1;34m(self, timeout)\u001b[0m\n\u001b[0;32m    294\u001b[0m         \u001b[1;32mtry\u001b[0m\u001b[1;33m:\u001b[0m    \u001b[1;31m# restore state no matter what (e.g., KeyboardInterrupt)\u001b[0m\u001b[1;33m\u001b[0m\u001b[1;33m\u001b[0m\u001b[0m\n\u001b[0;32m    295\u001b[0m             \u001b[1;32mif\u001b[0m \u001b[0mtimeout\u001b[0m \u001b[1;32mis\u001b[0m \u001b[1;32mNone\u001b[0m\u001b[1;33m:\u001b[0m\u001b[1;33m\u001b[0m\u001b[1;33m\u001b[0m\u001b[0m\n\u001b[1;32m--> 296\u001b[1;33m                 \u001b[0mwaiter\u001b[0m\u001b[1;33m.\u001b[0m\u001b[0macquire\u001b[0m\u001b[1;33m(\u001b[0m\u001b[1;33m)\u001b[0m\u001b[1;33m\u001b[0m\u001b[1;33m\u001b[0m\u001b[0m\n\u001b[0m\u001b[0;32m    297\u001b[0m                 \u001b[0mgotit\u001b[0m \u001b[1;33m=\u001b[0m \u001b[1;32mTrue\u001b[0m\u001b[1;33m\u001b[0m\u001b[1;33m\u001b[0m\u001b[0m\n\u001b[0;32m    298\u001b[0m             \u001b[1;32melse\u001b[0m\u001b[1;33m:\u001b[0m\u001b[1;33m\u001b[0m\u001b[1;33m\u001b[0m\u001b[0m\n",
      "\u001b[1;31mKeyboardInterrupt\u001b[0m: "
     ]
    }
   ],
   "source": [
    "# Grid param search - can be skpped\n",
    "grid_param = {\n",
    "    'gbm__n_estimators': [500],\n",
    "    'gbm__subsample': [0.1],\n",
    "    'gbm__learning_rate': [0.1],\n",
    "    'gbm__num_leaves': [80, 160],\n",
    "    'gbm__max_depth': [11]\n",
    "}\n",
    "\n",
    "gd_sr = GridSearchCV(pipe,\n",
    "                     param_grid=grid_param,\n",
    "                     scoring=rmsee_scorer,\n",
    "                     cv=4,\n",
    "                     n_jobs=-1)\n",
    "\n",
    "gd_sr.fit(train_X, train_y)\n",
    "\n",
    "best_parameters = gd_sr.best_params_\n",
    "print(best_parameters)\n",
    "best_result = gd_sr.best_score_\n",
    "print(best_result)\n"
   ]
  },
  {
   "cell_type": "code",
   "execution_count": 27,
   "metadata": {},
   "outputs": [
    {
     "name": "stdout",
     "output_type": "stream",
     "text": [
      "mean_fit_time  [607.31617959 748.329434  ]\n",
      "std_fit_time  [11.42404894  7.16639039]\n",
      "mean_score_time  [545.60431012 743.97350645]\n",
      "std_score_time  [15.76616037 10.19180404]\n",
      "param_gbm__learning_rate  [0.1 0.1]\n",
      "param_gbm__max_depth  [11 11]\n",
      "param_gbm__n_estimators  [500 500]\n",
      "param_gbm__num_leaves  [80 160]\n",
      "param_gbm__subsample  [0.1 0.1]\n",
      "params  [{'gbm__learning_rate': 0.1, 'gbm__max_depth': 11, 'gbm__n_estimators': 500, 'gbm__num_leaves': 80, 'gbm__subsample': 0.1}, {'gbm__learning_rate': 0.1, 'gbm__max_depth': 11, 'gbm__n_estimators': 500, 'gbm__num_leaves': 160, 'gbm__subsample': 0.1}]\n",
      "split0_test_score  [-1.50000092 -1.49220935]\n",
      "split1_test_score  [-1.11290672 -1.10616635]\n",
      "split2_test_score  [-1.46453371 -1.4708326 ]\n",
      "mean_test_score  [-1.35914711 -1.35640277]\n",
      "std_test_score  [0.17471926 0.17715895]\n",
      "rank_test_score  [2 1]\n"
     ]
    }
   ],
   "source": [
    "sorted(gd_sr.cv_results_.keys())\n",
    "for key in gd_sr.cv_results_.keys():\n",
    "    print(str(key) + \"  \" + str(gd_sr.cv_results_[key]))\n"
   ]
  },
  {
   "cell_type": "code",
   "execution_count": null,
   "metadata": {},
   "outputs": [],
   "source": []
  },
  {
   "cell_type": "code",
   "execution_count": 28,
   "metadata": {},
   "outputs": [
    {
     "data": {
      "text/plain": [
       "<function gc.collect(generation=2)>"
      ]
     },
     "execution_count": 28,
     "metadata": {},
     "output_type": "execute_result"
    }
   ],
   "source": [
    "del gd_sr\n",
    "gc.collect"
   ]
  },
  {
   "cell_type": "code",
   "execution_count": 60,
   "metadata": {},
   "outputs": [
    {
     "data": {
      "text/plain": [
       "Pipeline(memory=None,\n",
       "         steps=[('pre_b_pipes',\n",
       "                 Pipeline(memory=None,\n",
       "                          steps=[('fillMean',\n",
       "                                  <__main__.FillMean object at 0x0000010B91471EF0>),\n",
       "                                 ('fillZeros',\n",
       "                                  <__main__.FillZeros object at 0x0000010B96C7D128>),\n",
       "                                 ('imputeCloudCoverage',\n",
       "                                  <__main__.ImputeCloudCoverage object at 0x0000010B96C7D0B8>),\n",
       "                                 ('imputeYearBuilt',\n",
       "                                  <__main__.ImputeYearBuilt object at 0x0000010B96C7D6A0>),\n",
       "                                 ('dro...\n",
       "                               colsample_bytree=1.0, feature_fraction=0.9,\n",
       "                               importance_type='split', learning_rate=0.1,\n",
       "                               max_depth=11, metric='rmse',\n",
       "                               min_child_samples=20, min_child_weight=0.001,\n",
       "                               min_split_gain=0.0, n_estimators=500, n_jobs=-1,\n",
       "                               num_leaves=160, objective=None,\n",
       "                               random_state=None, reg_alpha=0.0, reg_lambda=0.0,\n",
       "                               silent=True, subsample=0.1,\n",
       "                               subsample_for_bin=200000, subsample_freq=1,\n",
       "                               verbose=100))],\n",
       "         verbose=False)"
      ]
     },
     "execution_count": 60,
     "metadata": {},
     "output_type": "execute_result"
    }
   ],
   "source": [
    "# fit on all the data\n",
    "pipe.fit(train_X, train_y, \n",
    "         gbm__eval_metric=rmsee, gbm__verbose=100)\n"
   ]
  },
  {
   "cell_type": "code",
   "execution_count": 61,
   "metadata": {},
   "outputs": [
    {
     "name": "stdout",
     "output_type": "stream",
     "text": [
      "                          feature  importance\n",
      "0                     building_id       16616\n",
      "1                           meter        7207\n",
      "69                           hour        4903\n",
      "25     precip_depth_1_hr_std_lag3        2708\n",
      "40      air_temperature_min_lag72        2258\n",
      "38     air_temperature_mean_lag72        2243\n",
      "39      air_temperature_max_lag72        2015\n",
      "48      dew_temperature_min_lag72        1727\n",
      "55   sea_level_pressure_max_lag72        1605\n",
      "58      wind_direction_mean_lag72        1582\n",
      "42      cloud_coverage_mean_lag72        1531\n",
      "47      dew_temperature_max_lag72        1483\n",
      "46     dew_temperature_mean_lag72        1477\n",
      "61       wind_direction_std_lag72        1472\n",
      "56   sea_level_pressure_min_lag72        1446\n",
      "62          wind_speed_mean_lag72        1438\n",
      "45       cloud_coverage_std_lag72        1378\n",
      "41      air_temperature_std_lag72        1268\n",
      "53    precip_depth_1_hr_std_lag72        1232\n",
      "50   precip_depth_1_hr_mean_lag72        1205\n",
      "65           wind_speed_std_lag72        1199\n",
      "49      dew_temperature_std_lag72        1167\n",
      "57   sea_level_pressure_std_lag72        1118\n",
      "67                log_square_feet        1080\n",
      "5                 air_temperature         965\n",
      "54  sea_level_pressure_mean_lag72         929\n",
      "63           wind_speed_max_lag72         860\n",
      "51    precip_depth_1_hr_max_lag72         738\n",
      "2                         site_id         675\n",
      "4                     floor_count         656\n",
      "..                            ...         ...\n",
      "21       dew_temperature_std_lag3         389\n",
      "17        cloud_coverage_std_lag3         377\n",
      "19       dew_temperature_max_lag3         367\n",
      "20       dew_temperature_min_lag3         359\n",
      "3                     primary_use         357\n",
      "34           wind_speed_mean_lag3         344\n",
      "31        wind_direction_max_lag3         336\n",
      "33        wind_direction_std_lag3         335\n",
      "37            wind_speed_std_lag3         333\n",
      "27    sea_level_pressure_max_lag3         328\n",
      "26   sea_level_pressure_mean_lag3         321\n",
      "43       cloud_coverage_max_lag72         304\n",
      "28    sea_level_pressure_min_lag3         303\n",
      "60       wind_direction_min_lag72         287\n",
      "66                        holiday         256\n",
      "14       cloud_coverage_mean_lag3         248\n",
      "32        wind_direction_min_lag3         238\n",
      "52    precip_depth_1_hr_min_lag72         227\n",
      "22    precip_depth_1_hr_mean_lag3         217\n",
      "24     precip_depth_1_hr_min_lag3         214\n",
      "29    sea_level_pressure_std_lag3         197\n",
      "35            wind_speed_max_lag3         177\n",
      "9                      wind_speed         165\n",
      "64           wind_speed_min_lag72         140\n",
      "36            wind_speed_min_lag3         126\n",
      "6                  cloud_coverage         109\n",
      "23     precip_depth_1_hr_max_lag3         103\n",
      "15        cloud_coverage_max_lag3          95\n",
      "44       cloud_coverage_min_lag72          86\n",
      "16        cloud_coverage_min_lag3          81\n",
      "\n",
      "[71 rows x 2 columns]\n",
      "['cloud_coverage_min_lag3', 'cloud_coverage_min_lag72', 'cloud_coverage_max_lag3', 'precip_depth_1_hr_max_lag3', 'cloud_coverage', 'wind_speed_min_lag3', 'wind_speed_min_lag72']\n"
     ]
    }
   ],
   "source": [
    "# Get features list for fit - can be skipped\n",
    "imprtc_df = pd.DataFrame()\n",
    "imprtc_df['feature'] = pre_b_pipes.transform(train_X).columns   \n",
    "imprtc_df['importance'] = pipe.named_steps['gbm'].feature_importances_\n",
    "imprtc_df.sort_values('importance', ascending=False, inplace= True)\n",
    "print(imprtc_df)\n",
    "print(imprtc_df.nsmallest(7,'importance')['feature'].tolist())\n",
    "\n"
   ]
  },
  {
   "cell_type": "code",
   "execution_count": 62,
   "metadata": {},
   "outputs": [
    {
     "name": "stdout",
     "output_type": "stream",
     "text": [
      "41697600 100 416976\n"
     ]
    },
    {
     "name": "stderr",
     "output_type": "stream",
     "text": [
      "100%|████████████████████████████████████████████████████████████████████████████████| 100/100 [16:11<00:00, 12.78s/it]\n"
     ]
    },
    {
     "name": "stdout",
     "output_type": "stream",
     "text": [
      "41697600\n"
     ]
    }
   ],
   "source": [
    "set_size = len(test_X)\n",
    "iterations = 100\n",
    "batch_size = set_size // iterations\n",
    "\n",
    "print(set_size, iterations, batch_size)\n",
    "assert set_size == iterations * batch_size\n",
    "\n",
    "meter_reading = []\n",
    "for i in tqdm(range(iterations)):\n",
    "    pos = i*batch_size\n",
    "    batch = np.expm1(pipe.predict(test_X.iloc[pos : pos+batch_size]).clip(0))\n",
    "    meter_reading.extend(batch)\n",
    "\n",
    "print(len(meter_reading))\n",
    "assert len(meter_reading) == set_size"
   ]
  },
  {
   "cell_type": "code",
   "execution_count": 63,
   "metadata": {},
   "outputs": [
    {
     "name": "stdout",
     "output_type": "stream",
     "text": [
      "(41697600, 2)\n"
     ]
    }
   ],
   "source": [
    "sub = pd.read_csv('../input/ashrae-energy-prediction/sample_submission.csv')\n",
    "# hack to prevent negative numbers\n",
    "print(sub.shape)\n",
    "sub['meter_reading'] = meter_reading\n",
    "sub.to_csv('submission.csv', index = False)"
   ]
  },
  {
   "cell_type": "code",
   "execution_count": null,
   "metadata": {},
   "outputs": [],
   "source": []
  },
  {
   "cell_type": "code",
   "execution_count": 30,
   "metadata": {
    "scrolled": true
   },
   "outputs": [
    {
     "data": {
      "text/plain": [
       "building_id                            category\n",
       "meter                                  category\n",
       "timestamp                        datetime64[ns]\n",
       "site_id                                category\n",
       "primary_use                            category\n",
       "square_feet                               int32\n",
       "year_built                              float32\n",
       "floor_count                             float32\n",
       "air_temperature                         float32\n",
       "cloud_coverage                            uint8\n",
       "dew_temperature                         float32\n",
       "precip_depth_1_hr                       float32\n",
       "sea_level_pressure                      float32\n",
       "wind_direction                          float32\n",
       "wind_speed                              float32\n",
       "air_temperature_mean_lag3               float16\n",
       "air_temperature_max_lag3                float16\n",
       "air_temperature_min_lag3                float16\n",
       "air_temperature_std_lag3                float16\n",
       "cloud_coverage_mean_lag3                float16\n",
       "cloud_coverage_max_lag3                 float16\n",
       "cloud_coverage_min_lag3                 float16\n",
       "cloud_coverage_std_lag3                 float16\n",
       "dew_temperature_mean_lag3               float16\n",
       "dew_temperature_max_lag3                float16\n",
       "dew_temperature_min_lag3                float16\n",
       "dew_temperature_std_lag3                float16\n",
       "precip_depth_1_hr_mean_lag3             float16\n",
       "precip_depth_1_hr_max_lag3              float16\n",
       "precip_depth_1_hr_min_lag3              float16\n",
       "                                      ...      \n",
       "air_temperature_std_lag72               float16\n",
       "cloud_coverage_mean_lag72               float16\n",
       "cloud_coverage_max_lag72                float16\n",
       "cloud_coverage_min_lag72                float16\n",
       "cloud_coverage_std_lag72                float16\n",
       "dew_temperature_mean_lag72              float16\n",
       "dew_temperature_max_lag72               float16\n",
       "dew_temperature_min_lag72               float16\n",
       "dew_temperature_std_lag72               float16\n",
       "precip_depth_1_hr_mean_lag72            float16\n",
       "precip_depth_1_hr_max_lag72             float16\n",
       "precip_depth_1_hr_min_lag72             float16\n",
       "precip_depth_1_hr_std_lag72             float16\n",
       "sea_level_pressure_mean_lag72           float16\n",
       "sea_level_pressure_max_lag72            float16\n",
       "sea_level_pressure_min_lag72            float16\n",
       "sea_level_pressure_std_lag72            float16\n",
       "wind_direction_mean_lag72               float16\n",
       "wind_direction_max_lag72                float16\n",
       "wind_direction_min_lag72                float16\n",
       "wind_direction_std_lag72                float16\n",
       "wind_speed_mean_lag72                   float16\n",
       "wind_speed_max_lag72                    float16\n",
       "wind_speed_min_lag72                    float16\n",
       "wind_speed_std_lag72                    float16\n",
       "holiday                                category\n",
       "log_square_feet                         float16\n",
       "dayofweek                              category\n",
       "hour                                   category\n",
       "building_age                              uint8\n",
       "Length: 76, dtype: object"
      ]
     },
     "execution_count": 30,
     "metadata": {},
     "output_type": "execute_result"
    }
   ],
   "source": [
    "train_X.dtypes\n"
   ]
  },
  {
   "cell_type": "code",
   "execution_count": null,
   "metadata": {},
   "outputs": [],
   "source": []
  }
 ],
 "metadata": {
  "kernelspec": {
   "display_name": "Python 3",
   "language": "python",
   "name": "python3"
  },
  "language_info": {
   "codemirror_mode": {
    "name": "ipython",
    "version": 3
   },
   "file_extension": ".py",
   "mimetype": "text/x-python",
   "name": "python",
   "nbconvert_exporter": "python",
   "pygments_lexer": "ipython3",
   "version": "3.7.3"
  }
 },
 "nbformat": 4,
 "nbformat_minor": 2
}
