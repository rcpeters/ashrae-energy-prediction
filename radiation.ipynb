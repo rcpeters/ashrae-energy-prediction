{
 "cells": [
  {
   "cell_type": "markdown",
   "metadata": {},
   "source": [
    "0: Orlando, FL\n",
    "https://www.oeis.ucf.edu/buildings\n",
    "\n",
    "1: UK. Most likely Southampton\n",
    "based on appearance of several buildings in Building Data Genome Project Database and mention of Southampton University as data source in the related article of Miller, Meggers\n",
    "\n",
    "2: Tempe, Arizona \n",
    "https://www.asu.edu/purchasing/bids/pdfs/231906_ex_6A.pdf\n",
    "\n",
    "3: DC\n",
    "https://dgs.dc.gov/sites/default/files/dc/sites/dgs/service_content/attachments/Attachment%20A-%20Municipal%20Facilities%5b1%5d.pdf\n",
    "\n",
    "4: US/Pacific Time zone Most likely Berkeley / San Francisco\n",
    "\n",
    "5: UK based on appearance in Building Data Genome\n",
    "\n",
    "6: US/Eastern Timezone based on appearance in Building Data Genome\n",
    "\n",
    "7: Montreal/Ottawa suspected based on patrick0302 post\n",
    "\n",
    "8: Orlando, FL same as Site 3 - weather data correlates perfectly\n",
    "also Site 8 buildings are found here\n",
    "\n",
    "9: Austin, TX\n",
    "http://www.thecb.state.tx.us/reports/xls/7559.xlsx\n",
    "\n",
    "10: US/Mountain Time Zone suspected\n",
    "\n",
    "11: Montreal/Ottawa. same as Site 7 - weather data correlates perfectly\n",
    "\n",
    "12: Ireland suspected based on holidays analysis\n",
    "\n",
    "13: TwinCities, MN\n",
    "https://mn.b3benchmarking.com/Report?OrganizationID=1337&amp;ReturnTo=Higher+Education\n",
    "\n",
    "14: Charlottesville, VA\n",
    "https://www.fm.virginia.edu/docs/conditionReport/2018-19FacilitiesConditionReport.pdf (has year built data)\n",
    "\n",
    "15: US/Eastern Timezone, based on appearance in Building Data Genome"
   ]
  },
  {
   "cell_type": "code",
   "execution_count": 31,
   "metadata": {},
   "outputs": [],
   "source": [
    "from pysolar.solar import *\n",
    "import pandas as pd\n",
    "import numpy as np\n",
    "from os import path"
   ]
  },
  {
   "cell_type": "code",
   "execution_count": 32,
   "metadata": {},
   "outputs": [],
   "source": [
    "# https://www.kaggle.com/c/ashrae-energy-prediction/discussion/115698#latest-665801\n",
    "\n",
    "# https://www.latlong.net/\n",
    "locations = {\n",
    "    0: {'name': 'Orlando', 'lat':28.538336, 'lon':-81.379234},\n",
    "    1: {'name': 'London', 'lat':51.507351, 'lon':-0.127758},\n",
    "    2: {'name': 'Phoenix', 'lat':33.448376, 'lon':-112.074036},\n",
    "    3: {'name': 'DC', 'lat':38.907192, 'lon':-77.036873},\n",
    "    4: {'name': 'San Francisco', 'lat':37.774929, 'lon':-122.419418},\n",
    "    5: {'name': 'Loughborough', 'lat':52.770771, 'lon':-1.204350},\n",
    "    6: {'name': 'Philadelphia', 'lat':39.952583, 'lon':-75.165222},\n",
    "    7: {'name': 'Montreal', 'lat':45.501690, 'lon':-73.567253},\n",
    "    8: {'name': 'Orlando', 'lat':28.538336, 'lon':-81.379234},\n",
    "    9: {'name': 'Austin', 'lat':30.267153, 'lon':-97.743057},\n",
    "    10: {'name': 'Las Vegas', 'lat':36.169941, 'lon':-115.139832},\n",
    "    11: {'name': 'Toronto', 'lat':43.653225, 'lon':-79.383186},\n",
    "    12: {'name': 'Dublin', 'lat':53.349804, 'lon':-6.260310},\n",
    "    13: {'name': 'Minneapolis', 'lat':44.977753, 'lon':-93.265015},\n",
    "    14: {'name': 'Charlottesville', 'lat':38.029305, 'lon':-78.476677},\n",
    "    15: {'name': 'Toronto', 'lat':43.653225, 'lon':-79.383186}\n",
    "}\n"
   ]
  },
  {
   "cell_type": "code",
   "execution_count": 33,
   "metadata": {},
   "outputs": [],
   "source": [
    "# savve modified files in _ directory\n",
    "weather_train = pd.read_csv('../input/ashrae-energy-prediction/weather_train.csv')\n",
    "weather_test = pd.read_csv('../input/ashrae-energy-prediction/weather_test.csv')\n"
   ]
  },
  {
   "cell_type": "code",
   "execution_count": 40,
   "metadata": {},
   "outputs": [],
   "source": [
    "def getSRadiation(site, date):\n",
    "    altitude_deg = get_altitude(locations[site]['lat'], locations[site]['lon'], date)\n",
    "    return radiation.get_radiation_direct(date, altitude_deg)"
   ]
  },
  {
   "cell_type": "code",
   "execution_count": 44,
   "metadata": {},
   "outputs": [],
   "source": [
    "weather_train['timestamp'] = pd.to_datetime(weather_train['timestamp'], utc=True)\n",
    "temp_df = weather_train[['site_id','timestamp']]\n",
    "weather_train['s_radiation'] = temp_df.apply(lambda x: getSRadiation(x.site_id, x.timestamp), axis=1)\n",
    "\n",
    "weather_test['timestamp'] = pd.to_datetime(weather_test['timestamp'], utc=True)\n",
    "temp_df = weather_test[['site_id','timestamp']]\n",
    "weather_test['s_radiation'] = temp_df.apply(lambda x: getSRadiation(x.site_id, x.timestamp), axis=1)"
   ]
  },
  {
   "cell_type": "code",
   "execution_count": 45,
   "metadata": {},
   "outputs": [],
   "source": [
    "weather_train['s_radiation'].to_pickle('../input/ashrae-energy-prediction/weather_train_s_radiation.pickle')\n",
    "weather_test['s_radiation'].to_pickle('../input/ashrae-energy-prediction/weather_test_s_radiation.pickle')\n"
   ]
  },
  {
   "cell_type": "code",
   "execution_count": null,
   "metadata": {},
   "outputs": [],
   "source": []
  }
 ],
 "metadata": {
  "kernelspec": {
   "display_name": "Python 3",
   "language": "python",
   "name": "python3"
  },
  "language_info": {
   "codemirror_mode": {
    "name": "ipython",
    "version": 3
   },
   "file_extension": ".py",
   "mimetype": "text/x-python",
   "name": "python",
   "nbconvert_exporter": "python",
   "pygments_lexer": "ipython3",
   "version": "3.7.3"
  }
 },
 "nbformat": 4,
 "nbformat_minor": 2
}
