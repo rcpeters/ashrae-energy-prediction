{
 "cells": [
  {
   "cell_type": "code",
   "execution_count": 1,
   "metadata": {},
   "outputs": [],
   "source": [
    "import numpy as np\n",
    "import pandas as pd\n",
    "import matplotlib.pyplot as plt\n",
    "import seaborn as sns\n",
    "from scipy import stats\n",
    "import warnings\n",
    "import pickle\n",
    "from sklearn.model_selection import StratifiedKFold\n",
    "from sklearn.model_selection import GridSearchCV\n",
    "from sklearn.pipeline import Pipeline, FeatureUnion, TransformerMixin\n",
    "import gc\n",
    "from os import path\n",
    "from sklearn.preprocessing import LabelEncoder\n",
    "from pandas.core.dtypes.dtypes import CategoricalDtype\n",
    "from tqdm import tqdm\n",
    "from datetime import date \n",
    "import holidays\n",
    "import lightgbm as lgb\n",
    "\n",
    "\n",
    "warnings.simplefilter('ignore')\n",
    "sns.set()\n",
    "%matplotlib inline\n",
    "\n",
    "# label encoding\n",
    "le = LabelEncoder()"
   ]
  },
  {
   "cell_type": "code",
   "execution_count": 2,
   "metadata": {},
   "outputs": [],
   "source": [
    "class ConvertToDatetime(TransformerMixin):\n",
    "        \n",
    "    def transform(self, df, **transform_params):\n",
    "        if 'timestamp' in df.columns:\n",
    "            df['timestamp'] = pd.to_datetime(df['timestamp'])\n",
    "        return df\n",
    "\n",
    "    def fit(self, X, y=None, **fit_params):\n",
    "        return self"
   ]
  },
  {
   "cell_type": "code",
   "execution_count": 3,
   "metadata": {},
   "outputs": [],
   "source": [
    "file_dtype = {\n",
    "    'train': {'building_id': np.int16, 'meter': np.int8, 'meter_reading': np.float32},\n",
    "    'test': {'building_id': np.int16, 'meter': np.int8},\n",
    "    'building_metadata': {'site_id': np.int8, 'building_id': np.uint16, 'square_feet': np.float32, 'year_built': np.float16, 'floor_count': np.float16},\n",
    "}\n",
    "\n",
    "def loadFile(name):\n",
    "    for dir_path in ['../input/ashrae-energy-prediction/','../input/_ashrae-energy-prediction/']:\n",
    "        if path.exists(dir_path + name + '.csv'):\n",
    "            return  ConvertToDatetime().transform(\n",
    "                pd.read_csv(dir_path + name + '.csv', dtype=file_dtype[name]))\n",
    "        \n"
   ]
  },
  {
   "cell_type": "code",
   "execution_count": 4,
   "metadata": {},
   "outputs": [],
   "source": [
    "train = loadFile('train')"
   ]
  },
  {
   "cell_type": "code",
   "execution_count": 5,
   "metadata": {},
   "outputs": [],
   "source": [
    "# \"As you can see above, this data looks weired until May 20. It is \n",
    "# reported in this discussion by @barnwellguy that All electricity\n",
    "# meter is 0 until May 20 for site_id == 0. Let's remove these data \n",
    "# from training data.\"\n",
    "# https://www.kaggle.com/kaushal2896/ashrae-eda-fe-lightgbm-1-13\n",
    "class RmS0M0(TransformerMixin):\n",
    "  \n",
    "    def transform(self, df, **transform_params):\n",
    "        return df.query('not (building_id <= 104 & meter == 0 & timestamp <= \"2016-05-20\")')\n",
    "\n",
    "    def fit(self, X, y=None, **fit_params):\n",
    "        return self\n",
    "\n"
   ]
  },
  {
   "cell_type": "code",
   "execution_count": 6,
   "metadata": {},
   "outputs": [],
   "source": [
    "# following this thread\n",
    "# https://www.kaggle.com/c/ashrae-energy-prediction/discussion/113254#latest-663021\n",
    "class RmBuilt2017(TransformerMixin):\n",
    "# TO  \n",
    "    def transform(self, df, **transform_params):\n",
    "        # 954 leading zeros\n",
    "        df = df.query('not (building_id == 954 & timestamp <= \"2016-08-12\")')\n",
    "        df = df.query('not (building_id == 954 & timestamp <= \"2016-10-12\" & timestamp >= \"2016-10-18\")')\n",
    "        \n",
    "        return df\n",
    "\n",
    "    def fit(self, X, y=None, **fit_params):\n",
    "        return self\n",
    "    "
   ]
  },
  {
   "cell_type": "code",
   "execution_count": 7,
   "metadata": {},
   "outputs": [],
   "source": [
    "# remove big offenders in the error analysis reports\n",
    "# https://www.kaggle.com/c/ashrae-energy-prediction/discussion/113254#latest-663021\n",
    "class RmEAOffeners(TransformerMixin):\n",
    "# TO  \n",
    "    def transform(self, df, **transform_params):\n",
    "        # 1072 new steam install\n",
    "        df = df.query('not (building_id == 1072 & timestamp <= \"2016-10-12\" & timestamp >= \"2016-10-18\")')\n",
    "        \n",
    "        # 783\n",
    "        df = df.query('not (building_id == 783 & timestamp <= \"2016-12-09\" & timestamp >= \"2016-10-18\")')\n",
    "        \n",
    "        # 1264\n",
    "        # not sure what to do with that one\n",
    "        \n",
    "        # 1021\n",
    "        # drop zeros for hot water\n",
    "        \n",
    "        # 799\n",
    "        df = df.query('not (building_id == 799 & meter == 0 & timestamp <= \"2016-09-12\")')\n",
    "        \n",
    "        # 693\n",
    "        df = df.query('not (building_id == 693 & meter == 0 & timestamp <= \"2016-07-11\")')\n",
    "        \n",
    "        return df\n",
    "\n",
    "    def fit(self, X, y=None, **fit_params):\n",
    "        return self\n"
   ]
  },
  {
   "cell_type": "code",
   "execution_count": 8,
   "metadata": {},
   "outputs": [
    {
     "name": "stdout",
     "output_type": "stream",
     "text": [
      "          building_id  meter           timestamp  meter_reading\n",
      "14245562         1324      1 2016-09-16 16:00:00       0.000000\n",
      "1282718          1013      0 2016-01-24 06:00:00      32.000099\n",
      "13883790          229      1 2016-09-10 07:00:00     567.655029\n",
      "4781820           217      3 2016-04-01 01:00:00       0.000000\n",
      "10415393         1434      0 2016-07-10 04:00:00      65.750000\n",
      "1057008          1047      0 2016-01-20 04:00:00      90.983299\n",
      "4507399           911      1 2016-03-26 20:00:00     295.063995\n",
      "19478829         1039      0 2016-12-18 23:00:00      16.900000\n",
      "8955615           265      0 2016-06-14 06:00:00     128.369995\n",
      "13799839          896      0 2016-09-08 19:00:00     300.000000\n",
      "15647011          973      0 2016-10-11 11:00:00     247.000000\n",
      "2524294           813      0 2016-02-16 08:00:00      10.958300\n",
      "10016102          870      0 2016-07-03 02:00:00       4.166700\n",
      "3915750           898      0 2016-03-15 03:00:00      40.000000\n",
      "17217526          903      0 2016-11-08 09:00:00     624.000000\n",
      "11478            1442      2 2016-01-01 04:00:00      66.411697\n",
      "18919011         1163      1 2016-12-09 02:00:00       4.123300\n",
      "8709341           371      0 2016-06-09 21:00:00      29.180000\n",
      "16313567          678      0 2016-10-23 07:00:00      30.700001\n",
      "6289526          1246      3 2016-04-27 20:00:00      16.118401\n",
      "          building_id  meter           timestamp  meter_reading_log1p\n",
      "14245562         1324      1 2016-09-16 16:00:00             0.000000\n",
      "1282718          1013      0 2016-01-24 06:00:00             3.496511\n",
      "13883790          229      1 2016-09-10 07:00:00             6.343274\n",
      "4781820           217      3 2016-04-01 01:00:00             0.000000\n",
      "10415393         1434      0 2016-07-10 04:00:00             4.200954\n",
      "1057008          1047      0 2016-01-20 04:00:00             4.521607\n",
      "4507399           911      1 2016-03-26 20:00:00             5.690576\n",
      "19478829         1039      0 2016-12-18 23:00:00             2.884801\n",
      "8955615           265      0 2016-06-14 06:00:00             4.862677\n",
      "13799839          896      0 2016-09-08 19:00:00             5.707110\n",
      "15647011          973      0 2016-10-11 11:00:00             5.513429\n",
      "2524294           813      0 2016-02-16 08:00:00             2.481426\n",
      "10016102          870      0 2016-07-03 02:00:00             1.642234\n",
      "3915750           898      0 2016-03-15 03:00:00             3.713572\n",
      "17217526          903      0 2016-11-08 09:00:00             6.437752\n",
      "11478            1442      2 2016-01-01 04:00:00             4.210819\n",
      "18919011         1163      1 2016-12-09 02:00:00             1.633799\n",
      "8709341           371      0 2016-06-09 21:00:00             3.407179\n",
      "16313567          678      0 2016-10-23 07:00:00             3.456317\n",
      "6289526          1246      3 2016-04-27 20:00:00             2.840154\n"
     ]
    },
    {
     "data": {
      "text/plain": [
       "35"
      ]
     },
     "execution_count": 8,
     "metadata": {},
     "output_type": "execute_result"
    }
   ],
   "source": [
    "class MeterReadingLog1p(TransformerMixin):\n",
    "  \n",
    "    def transform(self, df, **transform_params):\n",
    "        if 'meter_reading' in df.columns:\n",
    "            df['meter_reading_log1p'] = np.log1p(df['meter_reading'])\n",
    "            df = df.drop('meter_reading', axis=1)\n",
    "        return df\n",
    "    \n",
    "    def fit(self, X, y=None, **fit_params):\n",
    "        return self\n",
    "print(train.sample(20, random_state=42))\n",
    "print(MeterReadingLog1p().transform(train.sample(20, random_state=42)))\n",
    "gc.collect()"
   ]
  },
  {
   "cell_type": "code",
   "execution_count": 9,
   "metadata": {},
   "outputs": [],
   "source": [
    "class AddTimeFeatures(TransformerMixin):\n",
    "        \n",
    "    def transform(self, df_a, **transform_params):\n",
    "        # TODO: try week of year as numerical \n",
    "        df = df_a\n",
    "        df['dayofweek'] = df['timestamp'].dt.dayofweek.astype('uint8') # vs weekend?\n",
    "        #df['weekday'] = df['timestamp'].dt.weekday.astype('category')\n",
    "        #df['dayofweek_hour'] = (df['timestamp'].dt.dayofweek * 24) + df['timestamp'].dt.hour\n",
    "        #df['dayofweek_hour'] = df['dayofweek_hour'].astype('category')\n",
    "        #df['week'] = df['timestamp'].dt.week.astype('category')\n",
    "        df['hour'] = df['timestamp'].dt.hour.astype('uint8')\n",
    "        return df\n",
    "        \n",
    "    def fit(self, X, y=None, **fit_params):\n",
    "        return self"
   ]
  },
  {
   "cell_type": "code",
   "execution_count": 10,
   "metadata": {},
   "outputs": [],
   "source": [
    "class CreateMeterHDDescDF(TransformerMixin):\n",
    "\n",
    "    def transform(self, df, **transform_params):\n",
    "        global _m_dow_desc_DF\n",
    "        if 'meter_reading_log1p' in df.columns:\n",
    "            group = df[['building_id','meter','dayofweek','hour','meter_reading_log1p']].groupby(['building_id','meter','dayofweek','hour'])['meter_reading_log1p']\n",
    "            desc_DF = group.describe()\n",
    "            desc_DF = desc_DF.reset_index()\n",
    "            col_dict = {}\n",
    "            for col in desc_DF.columns:\n",
    "                if col not in ['building_id', 'meter', 'count','hour','dayofweek']:\n",
    "                    col_dict[col] = 'meter_h_d_' + col\n",
    "            return desc_DF.rename(columns=col_dict).drop('count', axis=1)\n",
    "            gc.collect()\n",
    "        return df \n",
    "    def fit(self, X, y=None, **fit_params):\n",
    "        return self\n",
    "\n",
    "#if 'meter_mean' not in train.columns:\n",
    "#    print(building_meter_desc_DF)\n",
    "#    train = train.merge(building_meter_desc_DF, on=['building_id','meter'], how='left')\n",
    "#    #test = test.merge(building_meter_desc_DF, on=['building_id','meter'], how='left')\n",
    "#    del building_meter_desc_DF\n"
   ]
  },
  {
   "cell_type": "code",
   "execution_count": 11,
   "metadata": {},
   "outputs": [],
   "source": [
    "x_pre_pipes = Pipeline(\n",
    "    steps=[       \n",
    "        ('rmS0M0', RmS0M0()),\n",
    "        ('rmBuilt2017', RmBuilt2017()),\n",
    "        ('RmEAOffeners', RmEAOffeners()),\n",
    "        ('meterReadingLog1p',MeterReadingLog1p()),\n",
    "        ('addTimeFeatures', AddTimeFeatures()),\n",
    "        ('createMeterHDDescDF',CreateMeterHDDescDF())\n",
    "    ]\n",
    ")\n",
    "\n"
   ]
  },
  {
   "cell_type": "code",
   "execution_count": 12,
   "metadata": {},
   "outputs": [
    {
     "name": "stdout",
     "output_type": "stream",
     "text": [
      "meter_h_d_mean\n",
      "meter_h_d_std\n",
      "meter_h_d_min\n",
      "meter_h_d_25%\n",
      "meter_h_d_50%\n",
      "meter_h_d_75%\n",
      "meter_h_d_max\n"
     ]
    }
   ],
   "source": [
    "m_h_d_df = x_pre_pipes.transform(train)\n",
    "#_m_dow_desc_DF = reduce_mem_usage(_m_dow_desc_DF)\n",
    "cols =  [x for x in m_h_d_df.columns if x not in ['building_id', 'meter', 'dayofweek','hour']]\n",
    "for col in cols:\n",
    "    print(col)\n",
    "    m_h_d_df[col] = m_h_d_df[col].astype(np.float32)"
   ]
  },
  {
   "cell_type": "code",
   "execution_count": 13,
   "metadata": {},
   "outputs": [
    {
     "name": "stdout",
     "output_type": "stream",
     "text": [
      "       building_id  meter  dayofweek  hour  meter_h_d_mean  meter_h_d_std  \\\n",
      "10825           53      0          5    20        5.951491            NaN   \n",
      "10826           53      0          5    21        5.277803            NaN   \n",
      "10827           53      0          5    22        0.000000            NaN   \n",
      "10828           53      0          5    23        0.000000            NaN   \n",
      "\n",
      "       meter_h_d_min  meter_h_d_25%  meter_h_d_50%  meter_h_d_75%  \\\n",
      "10825       5.951491       5.951491       5.951491       5.951491   \n",
      "10826       5.277803       5.277803       5.277803       5.277803   \n",
      "10827       0.000000       0.000000       0.000000       0.000000   \n",
      "10828       0.000000       0.000000       0.000000       0.000000   \n",
      "\n",
      "       meter_h_d_max  \n",
      "10825       5.951491  \n",
      "10826       5.277803  \n",
      "10827       0.000000  \n",
      "10828       0.000000  \n"
     ]
    }
   ],
   "source": [
    "print(m_h_d_df.loc[m_h_d_df.isna().any(axis=1)])\n",
    "m_h_d_df = m_h_d_df.fillna(0)"
   ]
  },
  {
   "cell_type": "code",
   "execution_count": 14,
   "metadata": {},
   "outputs": [
    {
     "name": "stdout",
     "output_type": "stream",
     "text": [
      "each of these should have 24 hours\n",
      "building_id  meter  dayofweek\n",
      "53           0      3            1\n",
      "                    5            4\n",
      "Name: hour, dtype: int64\n"
     ]
    },
    {
     "name": "stderr",
     "output_type": "stream",
     "text": [
      "'c' argument looks like a single numeric RGB or RGBA sequence, which should be avoided as value-mapping will have precedence in case its length matches with 'x' & 'y'.  Please use a 2-D array with a single row if you really want to specify the same RGB or RGBA value for all points.\n"
     ]
    },
    {
     "data": {
      "text/plain": [
       "<matplotlib.axes._subplots.AxesSubplot at 0x1c3eed22518>"
      ]
     },
     "execution_count": 14,
     "metadata": {},
     "output_type": "execute_result"
    },
    {
     "data": {
      "image/png": "[encoded data removed]",
      "text/plain": [
       "<Figure size 432x288 with 1 Axes>"
      ]
     },
     "metadata": {
      "needs_background": "light"
     },
     "output_type": "display_data"
    }
   ],
   "source": [
    "# Site 53 meter 0 doens't have readings for some hours\n",
    "#group = m_h_d_df.groupby(['building_id','meter'])['hour'].count()\n",
    "#sparse_group = group[group < 168]\n",
    "#print(sparse_group)\n",
    "group = m_h_d_df.groupby(['building_id','meter','dayofweek'])['hour'].count()\n",
    "sparse_group = group[group < 7]\n",
    "print(\"each of these should have 24 hours\")\n",
    "print(sparse_group)\n",
    "\n",
    "#print(m_h_d_df[(m_h_d_df['building_id'] == 53) & (m_h_d_df['dayofweek'] == 3)])\n",
    "#print(m_h_d_df[(m_h_d_df['building_id'] == 53) & (m_h_d_df['dayofweek'] == 5)])\n",
    "\n",
    "f3_df = m_h_d_df.loc[m_h_d_df['building_id'] == 53, ['building_id','dayofweek','hour','meter_h_d_mean']]\n",
    "f3_df['hdow'] =  f3_df['hour'] + (f3_df['dayofweek'] * 24)  \n",
    "#print(f3_df[['hdow','meter_h_d_mean']])\n",
    "f3_df[['meter_h_d_mean','hdow']].plot(kind='scatter', x='hdow',y='meter_h_d_mean')"
   ]
  },
  {
   "cell_type": "code",
   "execution_count": 15,
   "metadata": {
    "scrolled": true
   },
   "outputs": [
    {
     "name": "stdout",
     "output_type": "stream",
     "text": [
      "             meter  dayofweek       hour  meter_h_d_mean  meter_h_d_std  \\\n",
      "building_id                                                               \n",
      "53               0   2.366337  11.782178        0.640335       0.755456   \n",
      "\n",
      "             meter_h_d_min  meter_h_d_25%  meter_h_d_50%  meter_h_d_75%  \\\n",
      "building_id                                                               \n",
      "53                0.111181       0.364556       0.617932       0.904911   \n",
      "\n",
      "             meter_h_d_max  \n",
      "building_id                 \n",
      "53                1.191891  \n",
      "[0]\n",
      "[]\n",
      "[20.0, 21.0, 22.0, 23.0]\n"
     ]
    },
    {
     "name": "stderr",
     "output_type": "stream",
     "text": [
      "'c' argument looks like a single numeric RGB or RGBA sequence, which should be avoided as value-mapping will have precedence in case its length matches with 'x' & 'y'.  Please use a 2-D array with a single row if you really want to specify the same RGB or RGBA value for all points.\n"
     ]
    },
    {
     "data": {
      "text/plain": [
       "<matplotlib.axes._subplots.AxesSubplot at 0x1c3f474b780>"
      ]
     },
     "execution_count": 15,
     "metadata": {},
     "output_type": "execute_result"
    },
    {
     "data": {
      "image/png": "[encoded data removed]",
      "text/plain": [
       "<Figure size 432x288 with 1 Axes>"
      ]
     },
     "metadata": {
      "needs_background": "light"
     },
     "output_type": "display_data"
    }
   ],
   "source": [
    "# populate missing values based off the graph going to populate day 3-5 thinking we might als\n",
    "f3_mean_df = m_h_d_df[m_h_d_df['building_id'] == 53].groupby('building_id').mean()\n",
    "print(f3_mean_df)\n",
    "#print(m_h_d_df[(m_h_d_df['building_id'] == 53) & (m_h_d_df['dayofweek'] == 3)]['hour'].tolist())\n",
    "for i in [3, 4, 5]:\n",
    "    has_data_in_hour = m_h_d_df[(m_h_d_df['building_id'] == 53) & (m_h_d_df['dayofweek'] == i)]['hour'].tolist()\n",
    "    print(has_data_in_hour)\n",
    "    missing_hour = list(x for x in range(24) if x not in has_data_in_hour)\n",
    "    for j in missing_hour:\n",
    "        temp_df = f3_mean_df.reset_index()\n",
    "        temp_df['dayofweek'] = i\n",
    "        temp_df['hour'] = j\n",
    "        m_h_d_df = m_h_d_df.append(temp_df)\n",
    "        \n",
    "\n",
    "    \n",
    "group = m_h_d_df.groupby(['building_id','meter','dayofweek'])['hour'].count()\n",
    "sparse_group = group[group < 7]\n",
    "f3_df = m_h_d_df.loc[m_h_d_df['building_id'] == 53, ['building_id','dayofweek','hour','meter_h_d_mean']]\n",
    "f3_df['hdow'] =  f3_df['hour'] + (f3_df['dayofweek'] * 24)  \n",
    "f3_df[['meter_h_d_mean','hdow']].plot(kind='scatter', x='hdow',y='meter_h_d_mean')"
   ]
  },
  {
   "cell_type": "code",
   "execution_count": 16,
   "metadata": {},
   "outputs": [],
   "source": [
    "\n",
    "#m_h_d_df.to_csv('derived_data/desc_h_dow.csv')\n",
    "m_h_d_df.to_pickle('../input/ashrae-energy-prediction-pickles/desc_h_dow.pickle')"
   ]
  },
  {
   "cell_type": "code",
   "execution_count": 17,
   "metadata": {},
   "outputs": [
    {
     "data": {
      "text/plain": [
       "building_id       False\n",
       "meter             False\n",
       "dayofweek         False\n",
       "hour              False\n",
       "meter_h_d_mean    False\n",
       "meter_h_d_std     False\n",
       "meter_h_d_min     False\n",
       "meter_h_d_25%     False\n",
       "meter_h_d_50%     False\n",
       "meter_h_d_75%     False\n",
       "meter_h_d_max     False\n",
       "dtype: bool"
      ]
     },
     "execution_count": 17,
     "metadata": {},
     "output_type": "execute_result"
    }
   ],
   "source": [
    "m_h_d_df.isna().any()"
   ]
  },
  {
   "cell_type": "code",
   "execution_count": null,
   "metadata": {},
   "outputs": [],
   "source": []
  },
  {
   "cell_type": "code",
   "execution_count": null,
   "metadata": {},
   "outputs": [],
   "source": []
  }
 ],
 "metadata": {
  "kernelspec": {
   "display_name": "Python 3",
   "language": "python",
   "name": "python3"
  },
  "language_info": {
   "codemirror_mode": {
    "name": "ipython",
    "version": 3
   },
   "file_extension": ".py",
   "mimetype": "text/x-python",
   "name": "python",
   "nbconvert_exporter": "python",
   "pygments_lexer": "ipython3",
   "version": "3.7.3"
  }
 },
 "nbformat": 4,
 "nbformat_minor": 2
}
