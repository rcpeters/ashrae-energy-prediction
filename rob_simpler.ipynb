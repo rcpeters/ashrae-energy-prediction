{
 "cells": [
  {
   "cell_type": "code",
   "execution_count": 408,
   "metadata": {},
   "outputs": [],
   "source": [
    "import numpy as np\n",
    "import pandas as pd\n",
    "import matplotlib.pyplot as plt\n",
    "import seaborn as sns\n",
    "import warnings\n",
    "import pickle\n",
    "import gc\n",
    "from sklearn.preprocessing import LabelEncoder\n",
    "from pandas.core.dtypes.dtypes import CategoricalDtype\n",
    "\n",
    "warnings.simplefilter('ignore')\n",
    "sns.set()\n",
    "%matplotlib inline\n",
    "\n",
    "# label encoding\n",
    "le = LabelEncoder()"
   ]
  },
  {
   "cell_type": "code",
   "execution_count": 409,
   "metadata": {},
   "outputs": [],
   "source": [
    "df_train_dtypes = {'building_id': np.int16, 'meter': np.int8, 'meter_reading': np.float32}\n",
    "df_test_dtypes = {'building_id': np.int16, 'meter': np.int8}\n",
    "df_building_metadata_dtypes = {'site_id': np.int8, 'building_id': np.uint16, 'square_feet': np.int32, 'year_built': np.float32, 'floor_count': np.float32}\n",
    "df_weather_dtypes = {'site_id': np.int8, 'air_temperature': np.float32, 'cloud_coverage': np.float32, 'dew_temperature': np.float32,\n",
    "                     'precip_depth_1_hr': np.float32, 'sea_level_pressure': np.float32, 'wind_direction': np.float32, 'wind_speed': np.float32}\n",
    "\n",
    "# import - second run you can skip\n",
    "building = pd.read_csv('../input/ashrae-energy-prediction/building_metadata.csv', dtype=df_building_metadata_dtypes)\n",
    "weather_train = pd.read_csv('../input/ashrae-energy-prediction/weather_train.csv', dtype=df_weather_dtypes)\n",
    "weather_test = pd.read_csv('../input/ashrae-energy-prediction/weather_test.csv', dtype=df_weather_dtypes)\n",
    "train = pd.read_csv('../input/ashrae-energy-prediction/train.csv', dtype=df_train_dtypes)\n",
    "test = pd.read_csv('../input/ashrae-energy-prediction/test.csv', dtype=df_test_dtypes)\n",
    "\n",
    "train = train.merge(building, on='building_id', how='left')\n",
    "test = test.merge(building, on='building_id', how='left')\n",
    "train = train.merge(weather_train, on=['site_id', 'timestamp'], how='left')\n",
    "test = test.merge(weather_test, on=['site_id', 'timestamp'], how='left')"
   ]
  },
  {
   "cell_type": "code",
   "execution_count": 410,
   "metadata": {},
   "outputs": [],
   "source": [
    "# add features we are 100% sure about\n",
    "def accpetedFeatures(df):\n",
    "    #time_stamps\n",
    "    df[\"timestamp\"] = pd.to_datetime(df[\"timestamp\"])    \n",
    "    df.rename(columns={\"square_feet\": \"log_square_feet\"}, inplace=True)\n",
    "    df['log_square_feet'] = np.float16(np.log(df['log_square_feet']))\n",
    "    \n",
    "for df in [train, test]:\n",
    "    df = accpetedFeatures(df)    "
   ]
  },
  {
   "cell_type": "code",
   "execution_count": 411,
   "metadata": {},
   "outputs": [],
   "source": [
    "# Set types category types\n",
    "for df in [train, test]:\n",
    "    df[\"primary_use\"] = df[\"primary_use\"].astype(\"category\")\n",
    "    df[\"meter\"] = df[\"meter\"].astype(\"category\")\n",
    "    df[\"site_id\"] = df[\"site_id\"].astype(\"category\")\n",
    "    df[\"building_id\"] = df[\"building_id\"].astype(\"category\")"
   ]
  },
  {
   "cell_type": "code",
   "execution_count": 413,
   "metadata": {},
   "outputs": [
    {
     "data": {
      "text/plain": [
       "<matplotlib.axes._subplots.AxesSubplot at 0x14cb8634438>"
      ]
     },
     "execution_count": 413,
     "metadata": {},
     "output_type": "execute_result"
    },
    {
     "data": {
      "image/png": "[encoded data removed]",
      "text/plain": [
       "<Figure size 432x288 with 1 Axes>"
      ]
     },
     "metadata": {
      "needs_background": "light"
     },
     "output_type": "display_data"
    }
   ],
   "source": [
    "# note some building are built in the future!\n",
    "train[ train['year_built'] > 2000]['year_built'].value_counts().sort_index().plot(kind='bar')"
   ]
  },
  {
   "cell_type": "code",
   "execution_count": 414,
   "metadata": {},
   "outputs": [
    {
     "name": "stdout",
     "output_type": "stream",
     "text": [
      "             count       mean        std   min   25%    50%    75%    max\n",
      "site_id                                                                  \n",
      "0        1076662.0  96.309126  14.322800  68.0  85.0  101.0  107.0  116.0\n",
      "1         553357.0  60.398303  28.233491   0.0  56.0   60.0   70.0  107.0\n",
      "2        2530312.0  73.648397  21.521243   7.0  64.0   73.0   88.0  114.0\n",
      "3        2370097.0  61.244291  24.810568   0.0  61.0   61.0   61.0  117.0\n",
      "4         746746.0  53.364929  31.687953   3.0  24.0   54.0   70.0  116.0\n",
      "5         781776.0  62.595506  22.032023  19.0  66.0   76.0   76.0  113.0\n",
      "6         668133.0  69.000000   0.000000  69.0  69.0   69.0   69.0   69.0\n",
      "7         366681.0  61.256065  18.781965  11.0  55.0   64.0   70.0   95.0\n",
      "8         567915.0  69.000000   0.000000  69.0  69.0   69.0   69.0   69.0\n",
      "9        2679323.0  69.000000   0.000000  69.0  69.0   69.0   69.0   69.0\n",
      "10        411407.0  69.000000   0.000000  69.0  69.0   69.0   69.0   69.0\n",
      "11        119459.0  69.000000   0.000000  69.0  69.0   69.0   69.0   69.0\n",
      "12        315909.0  69.000000   0.000000  69.0  69.0   69.0   69.0   69.0\n",
      "13       2711763.0  69.000000   0.000000  69.0  69.0   69.0   69.0   69.0\n",
      "14       2501506.0  69.000000   0.000000  69.0  69.0   69.0   69.0   69.0\n",
      "15       1815054.0  60.766430  29.216813   2.0  46.0   61.0   81.0  114.0\n"
     ]
    }
   ],
   "source": [
    "# Creating building_age\n",
    "\n",
    "def imputeYearBuilt(df):\n",
    "    # set age of building to mediam of site_id\n",
    "    # else if set ot overall median\n",
    "    year_built_median = df['year_built'].median()\n",
    "    # Set all year_built NaNs to site mean for year_built\n",
    "    for i, i_median in df.groupby(['site_id'])['year_built'].mean().items():\n",
    "        if not np.isnan(i_median):\n",
    "            df.loc[(df['year_built'].isnull()) & (df['site_id'] == i), 'year_built'] = i_median\n",
    "        else:\n",
    "            df.loc[(df['year_built'].isnull()) & (df['site_id'] == i), 'year_built'] = year_built_median\n",
    "    \n",
    "for df in [train, test]:\n",
    "    imputeYearBuilt(df)\n",
    "    df['building_age'] = np.uint8(df['year_built']-1900)\n",
    "    \n",
    "print(train.groupby(['site_id'])['building_age'].describe())\n",
    "gc.collect();\n"
   ]
  },
  {
   "cell_type": "code",
   "execution_count": 415,
   "metadata": {},
   "outputs": [
    {
     "name": "stdout",
     "output_type": "stream",
     "text": [
      "NaN check\n",
      "building_id                 0\n",
      "meter                       0\n",
      "timestamp                   0\n",
      "meter_reading               0\n",
      "site_id                     0\n",
      "primary_use                 0\n",
      "log_square_feet             0\n",
      "year_built                  0\n",
      "floor_count                 0\n",
      "air_temperature             0\n",
      "cloud_coverage              0\n",
      "dew_temperature             0\n",
      "precip_depth_1_hr           0\n",
      "sea_level_pressure          0\n",
      "wind_direction        1449048\n",
      "wind_speed                  0\n",
      "building_age                0\n",
      "dtype: int64\n"
     ]
    }
   ],
   "source": [
    "# Fill NaNs\n",
    "fill_w_neg_one = []\n",
    "fill_w_zero = ['floor_count']\n",
    "fill_w_popular = []\n",
    "fill_w_mean = ['cloud_coverage','building_age','air_temperature','dew_temperature', \n",
    "              \"precip_depth_1_hr\", \"sea_level_pressure\", \"wind_speed\"]\n",
    "\n",
    "for df in [train, test]:\n",
    "    for col in fill_w_neg_one:\n",
    "        df[col].fillna(-1, inplace=True)\n",
    "    for col in fill_w_popular:\n",
    "        df[col].fillna(df[col].value_counts()[0], inplace=True)\n",
    "    for col in fill_w_zero:\n",
    "        df[col].fillna(0, inplace=True)\n",
    "    for col in fill_w_mean:\n",
    "        df[col].fillna(df[col].mean(), inplace=True)\n",
    "\n",
    "print(\"NaN check\")        \n",
    "print(train.isnull().sum())"
   ]
  },
  {
   "cell_type": "code",
   "execution_count": 416,
   "metadata": {
    "scrolled": true
   },
   "outputs": [],
   "source": [
    "# add features we are less than 100% sure about\n",
    "def preAccpetedFeatures(df):\n",
    "    df['dayofweek'] = df[\"timestamp\"].dt.dayofweek.astype('category') # vs weekend?\n",
    "    df['weekday'] = df[\"timestamp\"].dt.weekday.astype('category')\n",
    "    df[\"hour\"] = df[\"timestamp\"].dt.hour.astype('category')\n",
    "    #df[\"month\"] = df[\"timestamp\"].dt.month.astype('category')\n",
    "    \n",
    "    # each row should know about other meters \n",
    "    # format for all meters is XXXX where\n",
    "    # X is 1 or 0 for building having type of meter\n",
    "    for i in range(4):\n",
    "        df[\"_meter_\"+str(i)] = (df['building_id'].isin(\n",
    "            train.loc[train['meter'] == i].building_id.unique()) * 1) \n",
    "        df[\"_meter_\"+str(i)] = df[\"_meter_\"+str(i)].astype('str')\n",
    "    df[\"all_meters\"] = df['_meter_0'] + df['_meter_1'] + df['_meter_2'] + df['_meter_3']\n",
    "    df[\"all_meters\"] = df[\"all_meters\"].astype('category')\n",
    "    df.drop([\"_meter_0\",\"_meter_1\",\"_meter_2\",\"_meter_3\"], axis=1, inplace=True)\n",
    "\n",
    "for df in [train, test]:\n",
    "    df = preAccpetedFeatures(df)\n",
    "    "
   ]
  },
  {
   "cell_type": "code",
   "execution_count": 429,
   "metadata": {},
   "outputs": [
    {
     "name": "stdout",
     "output_type": "stream",
     "text": [
      "building_id                 category\n",
      "meter                       category\n",
      "timestamp             datetime64[ns]\n",
      "meter_reading                float32\n",
      "site_id                     category\n",
      "primary_use                 category\n",
      "log_square_feet              float16\n",
      "year_built                   float32\n",
      "floor_count                  float32\n",
      "air_temperature              float32\n",
      "cloud_coverage               float32\n",
      "dew_temperature              float32\n",
      "precip_depth_1_hr            float32\n",
      "sea_level_pressure           float32\n",
      "wind_direction               float32\n",
      "wind_speed                   float32\n",
      "building_age                   uint8\n",
      "dayofweek                   category\n",
      "weekday                     category\n",
      "hour                        category\n",
      "all_meters                  category\n",
      "dtype: object\n"
     ]
    }
   ],
   "source": [
    "drop_cols = ['row_id','wind_direction','year_built','meter_reading','timestamp']\n",
    "# create test train\n",
    "train_y =  np.log1p(train[\"meter_reading\"]) # ask why\n",
    "train_X = train.drop(filter(lambda i: i!='row_id', drop_cols), axis=1)\n",
    "test_X = test.drop(filter(lambda i: i!='meter_reading', drop_cols), axis=1)\n",
    "\n",
    "gc.collect();\n",
    "\n",
    "print(train.dtypes)"
   ]
  },
  {
   "cell_type": "code",
   "execution_count": 430,
   "metadata": {},
   "outputs": [],
   "source": [
    "# declare model\n",
    "from sklearn.model_selection import cross_val_score\n",
    "from sklearn.metrics import make_scorer, mean_squared_log_error, mean_squared_error\n",
    "from lightgbm import LGBMRegressor\n",
    "\n",
    "\n",
    "def rmsle(y, y_pred):\n",
    "    # hack to prevent negative numbers\n",
    "    return np.sqrt(mean_squared_log_error(y, y_pred.clip(0)))\n",
    "\n",
    "def rmse(y, y_pred):\n",
    "    # hack to prevent negative numbers\n",
    "    return mean_squared_error(y, y_pred.clip(0))\n",
    "\n",
    "rmsle_scorer = make_scorer(\n",
    "    lambda y_true, y_pred : rmsle(y_true, y_pred), \n",
    "    greater_is_better=False)\n",
    "\n",
    "rmse_scorer = make_scorer(\n",
    "    lambda y_true, y_pred : rmsle(y_true, y_pred), \n",
    "    greater_is_better=False)\n",
    "\n",
    "\n",
    "gbm=LGBMRegressor(n_estimators=100, # for accuracy use large numbers like 6000 \n",
    "                  learning_rate=0.28,\n",
    "                  feature_fraction=0.9,\n",
    "                  subsample=0.2,  # batches of 20% of the data\n",
    "                  subsample_freq=1,\n",
    "                  num_leaves=20,\n",
    "                  metric='rmse',\n",
    "                  verbose= 100)\n"
   ]
  },
  {
   "cell_type": "code",
   "execution_count": 175,
   "metadata": {
    "scrolled": true
   },
   "outputs": [
    {
     "name": "stdout",
     "output_type": "stream",
     "text": [
      "rmse scores:\n",
      " [-0.47492451 -0.45088703 -0.37204467 -0.40152665 -0.43811903]\n"
     ]
    }
   ],
   "source": [
    "# Cross val testing - can be skipped\n",
    "\n",
    "scores = cross_val_score(gbm, train_X, train_y, cv=5, \n",
    "                         scoring=rmse_scorer)\n",
    "print(\"rmse scores:\\n\", scores)"
   ]
  },
  {
   "cell_type": "code",
   "execution_count": 431,
   "metadata": {},
   "outputs": [
    {
     "data": {
      "text/plain": [
       "LGBMRegressor(boosting_type='gbdt', class_weight=None, colsample_bytree=1.0,\n",
       "              feature_fraction=0.9, importance_type='split', learning_rate=0.28,\n",
       "              max_depth=-1, metric='rmse', min_child_samples=20,\n",
       "              min_child_weight=0.001, min_split_gain=0.0, n_estimators=100,\n",
       "              n_jobs=-1, num_leaves=20, objective=None, random_state=None,\n",
       "              reg_alpha=0.0, reg_lambda=0.0, silent=True, subsample=0.2,\n",
       "              subsample_for_bin=200000, subsample_freq=1, verbose=100)"
      ]
     },
     "execution_count": 431,
     "metadata": {},
     "output_type": "execute_result"
    }
   ],
   "source": [
    "# fit on all the data\n",
    "gbm.fit(train_X, train_y, eval_metric=rmse, verbose=100)\n"
   ]
  },
  {
   "cell_type": "code",
   "execution_count": 432,
   "metadata": {},
   "outputs": [
    {
     "name": "stdout",
     "output_type": "stream",
     "text": [
      "[822 235  75  14  76  10 174  33 185   3 100  13  17  36   2  84  21]\n",
      "               feature  importance\n",
      "0          building_id         822\n",
      "1                meter         235\n",
      "8      dew_temperature         185\n",
      "6      air_temperature         174\n",
      "10  sea_level_pressure         100\n",
      "15                hour          84\n",
      "4      log_square_feet          76\n",
      "2              site_id          75\n",
      "13           dayofweek          36\n",
      "7       cloud_coverage          33\n",
      "16          all_meters          21\n",
      "12        building_age          17\n",
      "3          primary_use          14\n",
      "11          wind_speed          13\n",
      "5          floor_count          10\n",
      "9    precip_depth_1_hr           3\n",
      "14             weekday           2\n"
     ]
    }
   ],
   "source": [
    "print( gbm.feature_importances_)\n",
    "imprtc_df = pd.DataFrame()\n",
    "imprtc_df[\"feature\"] = train_X.columns   \n",
    "imprtc_df[\"importance\"] = gbm.feature_importances_\n",
    "print(imprtc_df.sort_values('importance', ascending=False))"
   ]
  },
  {
   "cell_type": "code",
   "execution_count": null,
   "metadata": {},
   "outputs": [],
   "source": [
    "gc.collect();\n",
    "\n",
    "from tqdm import tqdm\n",
    "i=0\n",
    "res=[]\n",
    "step_size = 50000\n",
    "for j in tqdm(range(int(np.ceil(test_X.shape[0]/50000)))):\n",
    "    res.append(gbm.predict(test_X.iloc[i:i+step_size]))\n",
    "    i+=step_size"
   ]
  },
  {
   "cell_type": "code",
   "execution_count": null,
   "metadata": {},
   "outputs": [],
   "source": [
    "sub = pd.read_csv(\"../input/ashrae-energy-prediction/sample_submission.csv\")\n",
    "res = np.concatenate(res)\n",
    "# hack to prevent negative numbers\n",
    "sub[\"meter_reading\"] = np.expm1(res.clip(0))\n",
    "sub.to_csv(\"submission.csv\", index = False)"
   ]
  },
  {
   "cell_type": "code",
   "execution_count": null,
   "metadata": {},
   "outputs": [],
   "source": []
  },
  {
   "cell_type": "code",
   "execution_count": null,
   "metadata": {},
   "outputs": [],
   "source": []
  },
  {
   "cell_type": "code",
   "execution_count": null,
   "metadata": {},
   "outputs": [],
   "source": []
  }
 ],
 "metadata": {
  "kernelspec": {
   "display_name": "Python 3",
   "language": "python",
   "name": "python3"
  },
  "language_info": {
   "codemirror_mode": {
    "name": "ipython",
    "version": 3
   },
   "file_extension": ".py",
   "mimetype": "text/x-python",
   "name": "python",
   "nbconvert_exporter": "python",
   "pygments_lexer": "ipython3",
   "version": "3.7.3"
  }
 },
 "nbformat": 4,
 "nbformat_minor": 2
}
