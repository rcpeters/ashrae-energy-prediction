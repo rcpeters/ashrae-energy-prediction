{
 "cells": [
  {
   "cell_type": "code",
   "execution_count": 1,
   "metadata": {},
   "outputs": [
    {
     "name": "stdout",
     "output_type": "stream",
     "text": [
      "_all\n"
     ]
    }
   ],
   "source": [
    "# toggle to save space\n",
    "mode = '_mean' if False else '_all'\n",
    "print(mode)"
   ]
  },
  {
   "cell_type": "code",
   "execution_count": 2,
   "metadata": {},
   "outputs": [],
   "source": [
    "# TODO: add https://www.kaggle.com/corochann/optuna-tutorial-for-hyperparameter-optimization"
   ]
  },
  {
   "cell_type": "code",
   "execution_count": 3,
   "metadata": {
    "scrolled": true
   },
   "outputs": [],
   "source": [
    "import numpy as np\n",
    "import pandas as pd\n",
    "import matplotlib.pyplot as plt\n",
    "import seaborn as sns\n",
    "from scipy import stats\n",
    "import warnings\n",
    "import pickle\n",
    "from sklearn.model_selection import StratifiedKFold\n",
    "from sklearn.pipeline import Pipeline, FeatureUnion, TransformerMixin\n",
    "import gc\n",
    "from os import path\n",
    "from sklearn.preprocessing import LabelEncoder\n",
    "from sklearn.preprocessing import MinMaxScaler\n",
    "from pandas.core.dtypes.dtypes import CategoricalDtype\n",
    "from sklearn.linear_model import LinearRegression\n",
    "from tqdm import tqdm\n",
    "from datetime import date \n",
    "import holidays\n",
    "\n",
    "\n",
    "warnings.simplefilter('ignore')\n",
    "sns.set()\n",
    "%matplotlib inline\n",
    "\n",
    "# label encoding\n",
    "le = LabelEncoder()"
   ]
  },
  {
   "cell_type": "code",
   "execution_count": 4,
   "metadata": {
    "scrolled": true
   },
   "outputs": [],
   "source": [
    "class ConvertToDatetime(TransformerMixin):\n",
    "        \n",
    "    def transform(self, df, **transform_params):\n",
    "        if 'timestamp' in df.columns:\n",
    "            df['timestamp'] = pd.to_datetime(df['timestamp'])\n",
    "        return df\n",
    "\n",
    "    def fit(self, X, y=None, **fit_params):\n",
    "        return self"
   ]
  },
  {
   "cell_type": "code",
   "execution_count": 5,
   "metadata": {
    "scrolled": true
   },
   "outputs": [],
   "source": [
    "file_dtype = {\n",
    "    'train': {'building_id': np.int16, 'meter': np.int8, 'meter_reading': np.float32},\n",
    "    'test': {'building_id': np.int16, 'meter': np.int8},\n",
    "    'building_metadata': {'site_id': np.int8, 'building_id': np.uint16, 'square_feet': np.float32, 'year_built': np.float16, 'floor_count': np.float16},\n",
    "}\n",
    "\n",
    "def loadFile(name):\n",
    "    for dir_path in ['../input/ashrae-energy-prediction/','../input/_ashrae-energy-prediction/']:\n",
    "        if path.exists(dir_path + name + '.csv'):\n",
    "            return  ConvertToDatetime().transform(\n",
    "                pd.read_csv(dir_path + name + '.csv', dtype=file_dtype[name]))\n",
    "        \n"
   ]
  },
  {
   "cell_type": "code",
   "execution_count": 6,
   "metadata": {
    "scrolled": true
   },
   "outputs": [],
   "source": [
    "building = loadFile('building_metadata')\n",
    "pre_train = loadFile('train')\n",
    "#test = loadFile('test')"
   ]
  },
  {
   "cell_type": "code",
   "execution_count": 7,
   "metadata": {},
   "outputs": [
    {
     "name": "stdout",
     "output_type": "stream",
     "text": [
      "!!!! Warning we are missing weather for 0 rows\n",
      "building_id                             int16\n",
      "meter                                    int8\n",
      "timestamp                      datetime64[ns]\n",
      "meter_reading                         float32\n",
      "site_id                                  int8\n",
      "primary_use                            object\n",
      "square_feet                           float32\n",
      "year_built                            float16\n",
      "floor_count                           float16\n",
      "air_temperature                       float16\n",
      "dew_temperature                       float16\n",
      "cloud_coverage                        float16\n",
      "precip_depth_1_hr                     float16\n",
      "wind_direction                        float16\n",
      "wind_speed                            float16\n",
      "sea_level_pressure                    float16\n",
      "relative_humidity                     float16\n",
      "air_temperature_rmean_3               float16\n",
      "air_temperature_rmax_3                float16\n",
      "air_temperature_rmin_3                float16\n",
      "cloud_coverage_rmean_3                float16\n",
      "cloud_coverage_rmax_3                 float16\n",
      "cloud_coverage_rmin_3                 float16\n",
      "dew_temperature_rmean_3               float16\n",
      "dew_temperature_rmax_3                float16\n",
      "dew_temperature_rmin_3                float16\n",
      "precip_depth_1_hr_rmean_3             float16\n",
      "precip_depth_1_hr_rmax_3              float16\n",
      "precip_depth_1_hr_rmin_3              float16\n",
      "sea_level_pressure_rmean_3            float16\n",
      "                                    ...      \n",
      "wind_speed_rmean_3                    float16\n",
      "wind_speed_rmax_3                     float16\n",
      "wind_speed_rmin_3                     float16\n",
      "relative_humidity_rmean_3             float16\n",
      "relative_humidity_rmax_3              float16\n",
      "relative_humidity_rmin_3              float16\n",
      "air_temperature_rmean_72              float16\n",
      "air_temperature_rmax_72               float16\n",
      "air_temperature_rmin_72               float16\n",
      "cloud_coverage_rmean_72               float16\n",
      "cloud_coverage_rmax_72                float16\n",
      "cloud_coverage_rmin_72                float16\n",
      "dew_temperature_rmean_72              float16\n",
      "dew_temperature_rmax_72               float16\n",
      "dew_temperature_rmin_72               float16\n",
      "precip_depth_1_hr_rmean_72            float16\n",
      "precip_depth_1_hr_rmax_72             float16\n",
      "precip_depth_1_hr_rmin_72             float16\n",
      "sea_level_pressure_rmean_72           float16\n",
      "sea_level_pressure_rmax_72            float16\n",
      "sea_level_pressure_rmin_72            float16\n",
      "wind_direction_rmean_72               float16\n",
      "wind_direction_rmax_72                float16\n",
      "wind_direction_rmin_72                float16\n",
      "wind_speed_rmean_72                   float16\n",
      "wind_speed_rmax_72                    float16\n",
      "wind_speed_rmin_72                    float16\n",
      "relative_humidity_rmean_72            float16\n",
      "relative_humidity_rmax_72             float16\n",
      "relative_humidity_rmin_72             float16\n",
      "Length: 65, dtype: object\n"
     ]
    }
   ],
   "source": [
    "def merge(x):\n",
    "    weather_processed_df = pd.read_pickle(f'../input/ashrae-energy-prediction-pickles/weather_processed{mode}.pickle')\n",
    "    weather_processed_df = weather_processed_df.dropna(axis=1)\n",
    "    x = x.merge(building, on=['building_id'], how='left')\n",
    "    gc.collect()\n",
    "    x = x.merge(weather_processed_df, on=['site_id', 'timestamp'], how='left')\n",
    "    gc.collect()\n",
    "    x['site_id'] = x['site_id'].astype('int8');\n",
    "    x['cloud_coverage'] = x['cloud_coverage'].astype('float16')\n",
    "    gc.collect()\n",
    "    return x\n",
    "        \n",
    "train = merge(pre_train) \n",
    "gc.collect()\n",
    "print('!!!! Warning we are missing weather for '+ str(train['air_temperature'].isnull().sum())+' rows')\n",
    "\n",
    "print(train.dtypes)"
   ]
  },
  {
   "cell_type": "code",
   "execution_count": 8,
   "metadata": {
    "scrolled": true
   },
   "outputs": [
    {
     "name": "stdout",
     "output_type": "stream",
     "text": [
      "          site_id           timestamp                                 holiday\n",
      "34936069        4 2018-11-22 14:00:00                            Thanksgiving\n",
      "54850645       14 2017-12-25 23:00:00                           Christmas Day\n",
      "44870862        9 2018-11-12 21:00:00                 Veterans Day (Observed)\n",
      "35243765        5 2017-04-14 21:00:00                             Good Friday\n",
      "19841210        4 2016-12-25 09:00:00                           Christmas Day\n",
      "2492968         4 2016-02-15 17:00:00                   Washington's Birthday\n",
      "4436116        11 2016-03-25 10:00:00                             Good Friday\n",
      "46332704       11 2018-12-26 20:00:00                              Boxing Day\n",
      "33538400        4 2017-02-20 12:00:00                   Washington's Birthday\n",
      "38352270        7 2018-02-19 04:00:00                              Family Day\n",
      "37096844        6 2017-10-09 12:00:00                            Columbus Day\n",
      "8133997         2 2016-05-30 16:00:00                            Memorial Day\n",
      "2458036         8 2016-02-15 00:00:00                   Washington's Birthday\n",
      "35432712        5 2017-07-12 11:00:00  Battle of the Boyne [Northern Ireland]\n",
      "15587063        3 2016-10-10 10:00:00                            Columbus Day\n",
      "39290690        8 2018-01-15 14:00:00             Martin Luther King, Jr. Day\n",
      "38230260        7 2017-10-09 21:00:00                            Thanksgiving\n",
      "34227179        4 2018-01-01 22:00:00                          New Year's Day\n",
      "57063349       14 2018-11-11 05:00:00                            Veterans Day\n",
      "35800460        5 2018-01-01 01:00:00                          New Year's Day\n"
     ]
    }
   ],
   "source": [
    "# See holiday notebook to generate, this is optional\n",
    "holiday_df = None\n",
    "if path.exists('../input/ashrae-energy-prediction-pickles/holiday_df.pickle'):\n",
    "    holiday_df = pd.read_pickle('../input/ashrae-energy-prediction-pickles/holiday_df.pickle')\n",
    "if holiday_df is not None:\n",
    "    print(holiday_df.sample(20))"
   ]
  },
  {
   "cell_type": "code",
   "execution_count": 9,
   "metadata": {
    "scrolled": true
   },
   "outputs": [],
   "source": [
    "class AddTimeFeatures(TransformerMixin):\n",
    "        \n",
    "    def transform(self, df_a, **transform_params):\n",
    "        # TODO: try week of year as numerical \n",
    "        df = df_a\n",
    "        df['dayofweek'] = df['timestamp'].dt.dayofweek.astype('uint8') # vs weekend?\n",
    "        #df['weekday'] = df['timestamp'].dt.weekday.astype('category')\n",
    "        #df['dayofweek_hour'] = df['dayofweek_hour'].astype('category')\n",
    "        #df['week'] = df['timestamp'].dt.week.astype('category')\n",
    "        df['hour'] = df['timestamp'].dt.hour.astype('uint8')\n",
    "        return df\n",
    "        \n",
    "    def fit(self, X, y=None, **fit_params):\n",
    "        return self"
   ]
  },
  {
   "cell_type": "code",
   "execution_count": 10,
   "metadata": {
    "scrolled": true
   },
   "outputs": [
    {
     "name": "stdout",
     "output_type": "stream",
     "text": [
      "          building_id  meter           timestamp  meter_reading  site_id  \\\n",
      "14245562         1324      1 2016-09-16 16:00:00       0.000000       14   \n",
      "1282718          1013      0 2016-01-24 06:00:00      32.000099       10   \n",
      "13883790          229      1 2016-09-10 07:00:00     567.655029        2   \n",
      "4781820           217      3 2016-04-01 01:00:00       0.000000        2   \n",
      "10415393         1434      0 2016-07-10 04:00:00      65.750000       15   \n",
      "1057008          1047      0 2016-01-20 04:00:00      90.983299       12   \n",
      "4507399           911      1 2016-03-26 20:00:00     295.063995        9   \n",
      "19478829         1039      0 2016-12-18 23:00:00      16.900000       12   \n",
      "8955615           265      0 2016-06-14 06:00:00     128.369995        2   \n",
      "13799839          896      0 2016-09-08 19:00:00     300.000000        9   \n",
      "15647011          973      0 2016-10-11 11:00:00     247.000000        9   \n",
      "2524294           813      0 2016-02-16 08:00:00      10.958300        8   \n",
      "10016102          870      0 2016-07-03 02:00:00       4.166700        8   \n",
      "3915750           898      0 2016-03-15 03:00:00      40.000000        9   \n",
      "17217526          903      0 2016-11-08 09:00:00     624.000000        9   \n",
      "11478            1442      2 2016-01-01 04:00:00      66.411697       15   \n",
      "18919011         1163      1 2016-12-09 02:00:00       4.123300       13   \n",
      "8709341           371      0 2016-06-09 21:00:00      29.180000        3   \n",
      "16313567          678      0 2016-10-23 07:00:00      30.700001        5   \n",
      "6289526          1246      3 2016-04-27 20:00:00      16.118401       14   \n",
      "\n",
      "                            primary_use  square_feet  year_built  floor_count  \\\n",
      "14245562  Entertainment/public assembly      84688.0         NaN          NaN   \n",
      "1282718                       Education      67377.0         NaN          3.0   \n",
      "13883790                      Education     140092.0         NaN          NaN   \n",
      "4781820                       Education     282946.0      2003.0          NaN   \n",
      "10415393                      Education      33148.0      1967.0          NaN   \n",
      "1057008                 Public services     252952.0         NaN          NaN   \n",
      "4507399                       Education     239638.0         NaN          NaN   \n",
      "19478829                      Education      30171.0         NaN          3.0   \n",
      "8955615                          Office     118966.0      1988.0          NaN   \n",
      "13799839                      Education     245637.0         NaN          NaN   \n",
      "15647011                         Office     193960.0         NaN          NaN   \n",
      "2524294                 Public services       5630.0         NaN          1.0   \n",
      "10016102  Entertainment/public assembly        755.0         NaN          1.0   \n",
      "3915750                 Public services      64749.0         NaN          NaN   \n",
      "17217526                      Education     275793.0         NaN          NaN   \n",
      "11478                   Public services      99541.0      1993.0          NaN   \n",
      "18919011                        Parking      83919.0         NaN          NaN   \n",
      "8709341   Entertainment/public assembly       5554.0         NaN          NaN   \n",
      "16313567                Public services      60977.0      1976.0          6.0   \n",
      "6289526                          Office      50327.0         NaN          NaN   \n",
      "\n",
      "          air_temperature  ...  sea_level_pressure_rmin_72  \\\n",
      "14245562        21.703125  ...                      1014.5   \n",
      "1282718          0.000000  ...                      1012.0   \n",
      "13883790        31.093750  ...                      1008.0   \n",
      "4781820         13.296875  ...                      1004.0   \n",
      "10415393        18.937500  ...                      1006.5   \n",
      "1057008          1.700195  ...                      1008.0   \n",
      "4507399         17.796875  ...                      1006.5   \n",
      "19478829         6.300781  ...                      1013.0   \n",
      "8955615         27.203125  ...                      1006.0   \n",
      "13799839        29.406250  ...                      1012.0   \n",
      "15647011        28.906250  ...                      1019.0   \n",
      "2524294         16.093750  ...                      1010.0   \n",
      "10016102        23.906250  ...                      1015.0   \n",
      "3915750         20.000000  ...                      1006.0   \n",
      "17217526        19.406250  ...                      1017.5   \n",
      "11478           -1.000000  ...                      1017.0   \n",
      "18919011        -8.898438  ...                      1007.0   \n",
      "8709341         23.296875  ...                       999.5   \n",
      "16313567         7.000000  ...                      1017.0   \n",
      "6289526         10.601562  ...                      1001.0   \n",
      "\n",
      "          wind_direction_rmean_72  wind_direction_rmax_72  \\\n",
      "14245562                  127.875                   360.0   \n",
      "1282718                   147.125                   350.0   \n",
      "13883790                  197.625                   330.0   \n",
      "4781820                   202.375                   350.0   \n",
      "10415393                  189.750                   360.0   \n",
      "1057008                   149.250                   360.0   \n",
      "4507399                   163.375                   360.0   \n",
      "19478829                  229.375                   290.0   \n",
      "8955615                   187.375                   360.0   \n",
      "13799839                  160.875                   220.0   \n",
      "15647011                   46.125                   360.0   \n",
      "2524294                   164.250                   360.0   \n",
      "10016102                  152.375                   310.0   \n",
      "3915750                   154.000                   330.0   \n",
      "17217526                   58.250                   360.0   \n",
      "11478                     281.750                   340.0   \n",
      "18919011                  277.000                   320.0   \n",
      "8709341                   274.000                   340.0   \n",
      "16313567                  103.625                   360.0   \n",
      "6289526                   131.125                   290.0   \n",
      "\n",
      "          wind_direction_rmin_72  wind_speed_rmean_72  wind_speed_rmax_72  \\\n",
      "14245562                     0.0             2.837891            5.699219   \n",
      "1282718                      0.0             2.070312            4.601562   \n",
      "13883790                     0.0             3.162109           13.000000   \n",
      "4781820                      0.0             3.330078            8.203125   \n",
      "10415393                     0.0             2.773438            7.699219   \n",
      "1057008                     10.0             4.054688           10.000000   \n",
      "4507399                      0.0             2.431641            7.199219   \n",
      "19478829                   140.0             4.160156            7.000000   \n",
      "8955615                      0.0             3.474609            8.203125   \n",
      "13799839                     0.0             2.664062            5.101562   \n",
      "15647011                     0.0             1.133789            3.599609   \n",
      "2524294                      0.0             4.160156            7.699219   \n",
      "10016102                     0.0             2.142578            7.199219   \n",
      "3915750                      0.0             2.041016            5.101562   \n",
      "17217526                     0.0             0.970703            3.599609   \n",
      "11478                        0.0             2.468750            4.101562   \n",
      "18919011                   240.0             7.238281           10.296875   \n",
      "8709341                      0.0             5.000000           11.296875   \n",
      "16313567                    10.0             3.425781            7.199219   \n",
      "6289526                      0.0             2.537109            8.203125   \n",
      "\n",
      "          wind_speed_rmin_72  relative_humidity_rmean_72  \\\n",
      "14245562            0.000000                   57.812500   \n",
      "1282718             0.000000                   74.437500   \n",
      "13883790            0.000000                   48.062500   \n",
      "4781820             0.000000                   27.375000   \n",
      "10415393            0.000000                   76.562500   \n",
      "1057008             1.000000                   92.937500   \n",
      "4507399             0.000000                   61.187500   \n",
      "19478829            2.000000                   86.750000   \n",
      "8955615             0.000000                   18.359375   \n",
      "13799839            0.000000                   75.562500   \n",
      "15647011            0.000000                   54.250000   \n",
      "2524294             0.000000                   66.750000   \n",
      "10016102            0.000000                   82.312500   \n",
      "3915750             0.000000                   60.187500   \n",
      "17217526            0.000000                   91.812500   \n",
      "11478               2.099609                   91.375000   \n",
      "18919011            3.099609                   67.750000   \n",
      "8709341             0.000000                   49.375000   \n",
      "16313567            0.500000                   91.750000   \n",
      "6289526             0.000000                   66.125000   \n",
      "\n",
      "          relative_humidity_rmax_72  relative_humidity_rmin_72  \n",
      "14245562                   89.37500                  26.828125  \n",
      "1282718                   100.00000                  45.906250  \n",
      "13883790                   79.37500                  16.937500  \n",
      "4781820                    47.68750                  15.562500  \n",
      "10415393                   97.00000                  48.968750  \n",
      "1057008                   100.00000                  83.437500  \n",
      "4507399                    96.37500                  29.875000  \n",
      "19478829                   97.25000                  73.875000  \n",
      "8955615                    41.71875                   7.671875  \n",
      "13799839                   93.75000                  48.812500  \n",
      "15647011                   83.12500                  23.078125  \n",
      "2524294                    96.25000                  29.593750  \n",
      "10016102                   93.75000                  50.187500  \n",
      "3915750                    96.93750                  20.000000  \n",
      "17217526                  100.00000                  75.875000  \n",
      "11478                     100.00000                  86.687500  \n",
      "18919011                   77.37500                  59.125000  \n",
      "8709341                    93.37500                  27.171875  \n",
      "16313567                  100.00000                  71.625000  \n",
      "6289526                    92.87500                  27.937500  \n",
      "\n"
     ]
    },
    {
     "name": "stdout",
     "output_type": "stream",
     "text": [
      "[20 rows x 65 columns]\n",
      "          building_id  meter           timestamp  site_id  \\\n",
      "14245562         1324      1 2016-09-16 16:00:00       14   \n",
      "1282718          1013      0 2016-01-24 06:00:00       10   \n",
      "13883790          229      1 2016-09-10 07:00:00        2   \n",
      "4781820           217      3 2016-04-01 01:00:00        2   \n",
      "10415393         1434      0 2016-07-10 04:00:00       15   \n",
      "1057008          1047      0 2016-01-20 04:00:00       12   \n",
      "4507399           911      1 2016-03-26 20:00:00        9   \n",
      "19478829         1039      0 2016-12-18 23:00:00       12   \n",
      "8955615           265      0 2016-06-14 06:00:00        2   \n",
      "13799839          896      0 2016-09-08 19:00:00        9   \n",
      "15647011          973      0 2016-10-11 11:00:00        9   \n",
      "2524294           813      0 2016-02-16 08:00:00        8   \n",
      "10016102          870      0 2016-07-03 02:00:00        8   \n",
      "3915750           898      0 2016-03-15 03:00:00        9   \n",
      "17217526          903      0 2016-11-08 09:00:00        9   \n",
      "11478            1442      2 2016-01-01 04:00:00       15   \n",
      "18919011         1163      1 2016-12-09 02:00:00       13   \n",
      "8709341           371      0 2016-06-09 21:00:00        3   \n",
      "16313567          678      0 2016-10-23 07:00:00        5   \n",
      "6289526          1246      3 2016-04-27 20:00:00       14   \n",
      "\n",
      "                            primary_use  square_feet  year_built  floor_count  \\\n",
      "14245562  Entertainment/public assembly      84688.0         NaN          NaN   \n",
      "1282718                       Education      67377.0         NaN          3.0   \n",
      "13883790                      Education     140092.0         NaN          NaN   \n",
      "4781820                       Education     282946.0      2003.0          NaN   \n",
      "10415393                      Education      33148.0      1967.0          NaN   \n",
      "1057008                 Public services     252952.0         NaN          NaN   \n",
      "4507399                       Education     239638.0         NaN          NaN   \n",
      "19478829                      Education      30171.0         NaN          3.0   \n",
      "8955615                          Office     118966.0      1988.0          NaN   \n",
      "13799839                      Education     245637.0         NaN          NaN   \n",
      "15647011                         Office     193960.0         NaN          NaN   \n",
      "2524294                 Public services       5630.0         NaN          1.0   \n",
      "10016102  Entertainment/public assembly        755.0         NaN          1.0   \n",
      "3915750                 Public services      64749.0         NaN          NaN   \n",
      "17217526                      Education     275793.0         NaN          NaN   \n",
      "11478                   Public services      99541.0      1993.0          NaN   \n",
      "18919011                        Parking      83919.0         NaN          NaN   \n",
      "8709341   Entertainment/public assembly       5554.0         NaN          NaN   \n",
      "16313567                Public services      60977.0      1976.0          6.0   \n",
      "6289526                          Office      50327.0         NaN          NaN   \n",
      "\n",
      "          air_temperature  dew_temperature  ...  wind_direction_rmean_72  \\\n",
      "14245562        21.703125         9.398438  ...                  127.875   \n",
      "1282718          0.000000         0.000000  ...                  147.125   \n",
      "13883790        31.093750        13.898438  ...                  197.625   \n",
      "4781820         13.296875        -2.800781  ...                  202.375   \n",
      "10415393        18.937500        16.687500  ...                  189.750   \n",
      "1057008          1.700195         0.300049  ...                  149.250   \n",
      "4507399         17.796875        13.296875  ...                  163.375   \n",
      "19478829         6.300781         4.101562  ...                  229.375   \n",
      "8955615         27.203125        -1.099609  ...                  187.375   \n",
      "13799839        29.406250        21.093750  ...                  160.875   \n",
      "15647011        28.906250        14.398438  ...                   46.125   \n",
      "2524294         16.093750        15.000000  ...                  164.250   \n",
      "10016102        23.906250        22.796875  ...                  152.375   \n",
      "3915750         20.000000        18.906250  ...                  154.000   \n",
      "17217526        19.406250        18.296875  ...                   58.250   \n",
      "11478           -1.000000        -2.853516  ...                  281.750   \n",
      "18919011        -8.898438       -12.203125  ...                  277.000   \n",
      "8709341         23.296875         3.900391  ...                  274.000   \n",
      "16313567         7.000000         7.000000  ...                  103.625   \n",
      "6289526         10.601562         6.699219  ...                  131.125   \n",
      "\n",
      "          wind_direction_rmax_72  wind_direction_rmin_72  wind_speed_rmean_72  \\\n",
      "14245562                   360.0                     0.0             2.837891   \n",
      "1282718                    350.0                     0.0             2.070312   \n",
      "13883790                   330.0                     0.0             3.162109   \n",
      "4781820                    350.0                     0.0             3.330078   \n",
      "10415393                   360.0                     0.0             2.773438   \n",
      "1057008                    360.0                    10.0             4.054688   \n",
      "4507399                    360.0                     0.0             2.431641   \n",
      "19478829                   290.0                   140.0             4.160156   \n",
      "8955615                    360.0                     0.0             3.474609   \n",
      "13799839                   220.0                     0.0             2.664062   \n",
      "15647011                   360.0                     0.0             1.133789   \n",
      "2524294                    360.0                     0.0             4.160156   \n",
      "10016102                   310.0                     0.0             2.142578   \n",
      "3915750                    330.0                     0.0             2.041016   \n",
      "17217526                   360.0                     0.0             0.970703   \n",
      "11478                      340.0                     0.0             2.468750   \n",
      "18919011                   320.0                   240.0             7.238281   \n",
      "8709341                    340.0                     0.0             5.000000   \n",
      "16313567                   360.0                    10.0             3.425781   \n",
      "6289526                    290.0                     0.0             2.537109   \n",
      "\n",
      "          wind_speed_rmax_72  wind_speed_rmin_72  relative_humidity_rmean_72  \\\n",
      "14245562            5.699219            0.000000                   57.812500   \n",
      "1282718             4.601562            0.000000                   74.437500   \n",
      "13883790           13.000000            0.000000                   48.062500   \n",
      "4781820             8.203125            0.000000                   27.375000   \n",
      "10415393            7.699219            0.000000                   76.562500   \n",
      "1057008            10.000000            1.000000                   92.937500   \n",
      "4507399             7.199219            0.000000                   61.187500   \n",
      "19478829            7.000000            2.000000                   86.750000   \n",
      "8955615             8.203125            0.000000                   18.359375   \n",
      "13799839            5.101562            0.000000                   75.562500   \n",
      "15647011            3.599609            0.000000                   54.250000   \n",
      "2524294             7.699219            0.000000                   66.750000   \n",
      "10016102            7.199219            0.000000                   82.312500   \n",
      "3915750             5.101562            0.000000                   60.187500   \n",
      "17217526            3.599609            0.000000                   91.812500   \n",
      "11478               4.101562            2.099609                   91.375000   \n",
      "18919011           10.296875            3.099609                   67.750000   \n",
      "8709341            11.296875            0.000000                   49.375000   \n",
      "16313567            7.199219            0.500000                   91.750000   \n",
      "6289526             8.203125            0.000000                   66.125000   \n",
      "\n",
      "          relative_humidity_rmax_72  relative_humidity_rmin_72  \\\n",
      "14245562                   89.37500                  26.828125   \n",
      "1282718                   100.00000                  45.906250   \n",
      "13883790                   79.37500                  16.937500   \n",
      "4781820                    47.68750                  15.562500   \n",
      "10415393                   97.00000                  48.968750   \n",
      "1057008                   100.00000                  83.437500   \n",
      "4507399                    96.37500                  29.875000   \n",
      "19478829                   97.25000                  73.875000   \n",
      "8955615                    41.71875                   7.671875   \n",
      "13799839                   93.75000                  48.812500   \n",
      "15647011                   83.12500                  23.078125   \n",
      "2524294                    96.25000                  29.593750   \n",
      "10016102                   93.75000                  50.187500   \n",
      "3915750                    96.93750                  20.000000   \n",
      "17217526                  100.00000                  75.875000   \n",
      "11478                     100.00000                  86.687500   \n",
      "18919011                   77.37500                  59.125000   \n",
      "8709341                    93.37500                  27.171875   \n",
      "16313567                  100.00000                  71.625000   \n",
      "6289526                    92.87500                  27.937500   \n",
      "\n",
      "          meter_reading_log1p  \n",
      "14245562             0.000000  \n",
      "1282718              3.496511  \n",
      "13883790             6.343274  \n",
      "4781820              0.000000  \n",
      "10415393             4.200954  \n",
      "1057008              4.521607  \n",
      "4507399              5.690576  \n",
      "19478829             2.884801  \n",
      "8955615              4.862677  \n",
      "13799839             5.707110  \n",
      "15647011             5.513429  \n",
      "2524294              2.481426  \n",
      "10016102             1.642234  \n",
      "3915750              3.713572  \n",
      "17217526             6.437752  \n",
      "11478                4.210819  \n",
      "18919011             1.633799  \n",
      "8709341              3.407179  \n",
      "16313567             3.456317  \n",
      "6289526              2.840154  \n",
      "\n"
     ]
    },
    {
     "name": "stdout",
     "output_type": "stream",
     "text": [
      "[20 rows x 65 columns]\n"
     ]
    },
    {
     "data": {
      "text/plain": [
       "14"
      ]
     },
     "execution_count": 10,
     "metadata": {},
     "output_type": "execute_result"
    }
   ],
   "source": [
    "class MeterReadingLog1p(TransformerMixin):\n",
    "  \n",
    "    def transform(self, df, **transform_params):\n",
    "        if 'meter_reading' in df.columns:\n",
    "            df['meter_reading_log1p'] = np.log1p(df['meter_reading'])\n",
    "            df = df.drop('meter_reading', axis=1)\n",
    "        return df\n",
    "    \n",
    "    def fit(self, X, y=None, **fit_params):\n",
    "        return self\n",
    "print(train.sample(20, random_state=42))\n",
    "print(MeterReadingLog1p().transform(train.sample(20, random_state=42)))\n",
    "gc.collect()"
   ]
  },
  {
   "cell_type": "code",
   "execution_count": 11,
   "metadata": {
    "scrolled": true
   },
   "outputs": [
    {
     "name": "stdout",
     "output_type": "stream",
     "text": [
      "      building_id  meter  meter_mean  meter_std  meter_min  meter_5%  \\\n",
      "0               1      0    4.921724        NaN   4.921724  4.921724   \n",
      "1               2      0    0.000000        NaN   0.000000  0.000000   \n",
      "2               3      0    5.727568   0.128644   5.636602  5.645699   \n",
      "3               5      0    0.000000        NaN   0.000000  0.000000   \n",
      "4               6      0    0.000000        NaN   0.000000  0.000000   \n",
      "5               8      0    5.930674        NaN   5.930674  5.930674   \n",
      "6               9      1    5.300433   2.169901   3.766081  3.919516   \n",
      "7              11      0    6.159797        NaN   6.159797  6.159797   \n",
      "8              12      0    5.636602        NaN   5.636602  5.636602   \n",
      "9              14      0    0.000000        NaN   0.000000  0.000000   \n",
      "10             14      1    8.555042        NaN   8.555042  8.555042   \n",
      "11             15      0    5.232920        NaN   5.232920  5.232920   \n",
      "12             15      1    7.265242   0.810718   6.452293  6.534036   \n",
      "13             17      0    0.000000        NaN   0.000000  0.000000   \n",
      "14             18      0    3.818897   5.400736   0.000000  0.381890   \n",
      "15             19      0    0.000000   0.000000   0.000000  0.000000   \n",
      "16             20      0    0.000000        NaN   0.000000  0.000000   \n",
      "17             21      0    4.147384   0.637312   3.696736  3.741801   \n",
      "18             24      0    7.032342        NaN   7.032342  7.032342   \n",
      "19             25      0    1.642889   2.845567   0.000000  0.000000   \n",
      "20             27      0    2.721259   3.848441   0.000000  0.272126   \n",
      "21             28      1    7.380873        NaN   7.380873  7.380873   \n",
      "22             29      1    8.618044        NaN   8.618044  8.618044   \n",
      "23             30      1    8.307260        NaN   8.307260  8.307260   \n",
      "24             31      0    3.060791   4.328613   0.000000  0.306079   \n",
      "25             32      0    3.056277   4.322227   0.000000  0.305628   \n",
      "26             35      0    5.369605        NaN   5.369605  5.369605   \n",
      "27             36      0    5.192018        NaN   5.192018  5.192018   \n",
      "28             37      0    0.000000        NaN   0.000000  0.000000   \n",
      "29             38      0    4.062321   3.518793   0.000000  0.602227   \n",
      "...           ...    ...         ...        ...        ...       ...   \n",
      "1319         1412      0    3.225851        NaN   3.225851  3.225851   \n",
      "1320         1415      0    2.418144        NaN   2.418144  2.418144   \n",
      "1321         1416      0    1.987874        NaN   1.987874  1.987874   \n",
      "1322         1417      0    4.606990   0.095645   4.527479  4.532767   \n",
      "1323         1417      2    2.849202   1.193329   2.005391  2.089772   \n",
      "1324         1418      2    6.392333        NaN   6.392333  6.392333   \n",
      "1325         1420      0    5.793318        NaN   5.793318  5.793318   \n",
      "1326         1420      2    2.907230   0.215874   2.754584  2.769848   \n",
      "1327         1421      0    4.760903   0.065029   4.714921  4.719519   \n",
      "1328         1422      0    2.437990        NaN   2.437990  2.437990   \n",
      "1329         1423      0    2.550643   0.233771   2.317474  2.340671   \n",
      "1330         1424      0    3.166603   0.385951   2.869318  2.885158   \n",
      "1331         1426      2    5.806718        NaN   5.806718  5.806718   \n",
      "1332         1427      0    5.052736        NaN   5.052736  5.052736   \n",
      "1333         1427      2    7.833961        NaN   7.833961  7.833961   \n",
      "1334         1431      0    5.059743        NaN   5.059743  5.059743   \n",
      "1335         1434      2    6.339493        NaN   6.339493  6.339493   \n",
      "1336         1435      0    1.864080        NaN   1.864080  1.864080   \n",
      "1337         1436      0    2.787520   0.525530   2.415914  2.453074   \n",
      "1338         1436      2    6.971978        NaN   6.971978  6.971978   \n",
      "1339         1437      0    5.545487   0.278196   5.348773  5.368444   \n",
      "1340         1437      2    5.904094   0.381253   5.634507  5.661466   \n",
      "1341         1438      2    6.969772        NaN   6.969772  6.969772   \n",
      "1342         1439      0    5.105078   0.039402   5.059584  5.066364   \n",
      "1343         1442      0    4.332101   0.238354   4.163560  4.180414   \n",
      "1344         1442      2    0.000000        NaN   0.000000  0.000000   \n",
      "1345         1443      0    4.445343   0.220007   4.289774  4.305331   \n",
      "1346         1444      0    2.125251        NaN   2.125251  2.125251   \n",
      "1347         1446      0    2.400165        NaN   2.400165  2.400165   \n",
      "1348         1447      0    5.229147   0.034001   5.205105  5.207509   \n",
      "\n",
      "      meter_25%  meter_50%  meter_75%  meter_95%  meter_max  \n",
      "0      4.921724   4.921724   4.921724   4.921724   4.921724  \n",
      "1      0.000000   0.000000   0.000000   0.000000   0.000000  \n",
      "2      5.682085   5.727568   5.773050   5.809436   5.818533  \n",
      "3      0.000000   0.000000   0.000000   0.000000   0.000000  \n",
      "4      0.000000   0.000000   0.000000   0.000000   0.000000  \n",
      "5      5.930674   5.930674   5.930674   5.930674   5.930674  \n",
      "6      4.533257   5.300433   6.067609   6.681349   6.834785  \n",
      "7      6.159797   6.159797   6.159797   6.159797   6.159797  \n",
      "8      5.636602   5.636602   5.636602   5.636602   5.636602  \n",
      "9      0.000000   0.000000   0.000000   0.000000   0.000000  \n",
      "10     8.555042   8.555042   8.555042   8.555042   8.555042  \n",
      "11     5.232920   5.232920   5.232920   5.232920   5.232920  \n",
      "12     6.861007   7.269721   7.671716   7.993312   8.073711  \n",
      "13     0.000000   0.000000   0.000000   0.000000   0.000000  \n",
      "14     1.909448   3.818897   5.728345   7.255904   7.637794  \n",
      "15     0.000000   0.000000   0.000000   0.000000   0.000000  \n",
      "16     0.000000   0.000000   0.000000   0.000000   0.000000  \n",
      "17     3.922060   4.147384   4.372708   4.552967   4.598032  \n",
      "18     7.032342   7.032342   7.032342   7.032342   7.032342  \n",
      "19     0.000000   0.000000   2.464333   4.435799   4.928666  \n",
      "20     1.360629   2.721259   4.081888   5.170391   5.442517  \n",
      "21     7.380873   7.380873   7.380873   7.380873   7.380873  \n",
      "22     8.618044   8.618044   8.618044   8.618044   8.618044  \n",
      "23     8.307260   8.307260   8.307260   8.307260   8.307260  \n",
      "24     1.530396   3.060791   4.591187   5.815503   6.121583  \n",
      "25     1.528138   3.056277   4.584415   5.806925   6.112553  \n",
      "26     5.369605   5.369605   5.369605   5.369605   5.369605  \n",
      "27     5.192018   5.192018   5.192018   5.192018   5.192018  \n",
      "28     0.000000   0.000000   0.000000   0.000000   0.000000  \n",
      "29     3.011137   6.022275   6.093481   6.150446   6.164687  \n",
      "...         ...        ...        ...        ...        ...  \n",
      "1319   3.225851   3.225851   3.225851   3.225851   3.225851  \n",
      "1320   2.418144   2.418144   2.418144   2.418144   2.418144  \n",
      "1321   1.987874   1.987874   1.987874   1.987874   1.987874  \n",
      "1322   4.553922   4.580365   4.646746   4.699851   4.713127  \n",
      "1323   2.427297   2.849202   3.271108   3.608632   3.693013  \n",
      "1324   6.392333   6.392333   6.392333   6.392333   6.392333  \n",
      "1325   5.793318   5.793318   5.793318   5.793318   5.793318  \n",
      "1326   2.830907   2.907230   2.983553   3.044611   3.059875  \n",
      "1327   4.737912   4.760903   4.783895   4.802287   4.806886  \n",
      "1328   2.437990   2.437990   2.437990   2.437990   2.437990  \n",
      "1329   2.433459   2.549445   2.667228   2.761455   2.785011  \n",
      "1330   2.948517   3.027715   3.315246   3.545271   3.602777  \n",
      "1331   5.806718   5.806718   5.806718   5.806718   5.806718  \n",
      "1332   5.052736   5.052736   5.052736   5.052736   5.052736  \n",
      "1333   7.833961   7.833961   7.833961   7.833961   7.833961  \n",
      "1334   5.059743   5.059743   5.059743   5.059743   5.059743  \n",
      "1335   6.339493   6.339493   6.339493   6.339493   6.339493  \n",
      "1336   1.864080   1.864080   1.864080   1.864080   1.864080  \n",
      "1337   2.601717   2.787520   2.973323   3.121965   3.159126  \n",
      "1338   6.971978   6.971978   6.971978   6.971978   6.971978  \n",
      "1339   5.447130   5.545487   5.643845   5.722530   5.742202  \n",
      "1340   5.769300   5.904094   6.038887   6.146721   6.173680  \n",
      "1341   6.969772   6.969772   6.969772   6.969772   6.969772  \n",
      "1342   5.093482   5.127381   5.127825   5.128181   5.128270  \n",
      "1343   4.247831   4.332101   4.416372   4.483789   4.500643  \n",
      "1344   0.000000   0.000000   0.000000   0.000000   0.000000  \n",
      "1345   4.367559   4.445343   4.523127   4.585354   4.600911  \n",
      "1346   2.125251   2.125251   2.125251   2.125251   2.125251  \n",
      "1347   2.400165   2.400165   2.400165   2.400165   2.400165  \n",
      "1348   5.217126   5.229147   5.241168   5.250785   5.253189  \n",
      "\n"
     ]
    },
    {
     "name": "stdout",
     "output_type": "stream",
     "text": [
      "[1349 rows x 11 columns]\n"
     ]
    },
    {
     "data": {
      "text/plain": [
       "21"
      ]
     },
     "execution_count": 11,
     "metadata": {},
     "output_type": "execute_result"
    }
   ],
   "source": [
    "class CreateMeterDescDF(TransformerMixin):\n",
    "\n",
    "    def transform(self, df, **transform_params):\n",
    "        global _building_meter_desc_DF\n",
    "        if 'meter_reading_log1p' in df.columns:\n",
    "            cols = ['mean']\n",
    "            if mode == '_all':\n",
    "                cols = ['mean','max','min','std']\n",
    "            group = df.groupby(['building_id','meter'])['meter_reading_log1p']\n",
    "            desc_DF = group.describe(percentiles=[.05, .25, .5, .75, .95 ])\n",
    "            desc_DF = desc_DF.reset_index()\n",
    "            col_dict = {}\n",
    "            for col in desc_DF.columns:\n",
    "                if col not in ['building_id', 'meter', 'count']:\n",
    "                    col_dict[col] = 'meter_' + col\n",
    "            _building_meter_desc_DF = desc_DF.rename(columns=col_dict).drop('count', axis=1)\n",
    "            gc.collect()\n",
    "        return df \n",
    "    def fit(self, X, y=None, **fit_params):\n",
    "        return self\n",
    "\n",
    "#if 'meter_mean' not in train.columns:\n",
    "#    print(building_meter_desc_DF)\n",
    "#    train = train.merge(building_meter_desc_DF, on=['building_id','meter'], how='left')\n",
    "#    #test = test.merge(building_meter_desc_DF, on=['building_id','meter'], how='left')\n",
    "#    del building_meter_desc_DF\n",
    "CreateMeterDescDF().transform(\n",
    "    AddTimeFeatures().transform(\n",
    "        MeterReadingLog1p().transform(\n",
    "            train.sample(2000, random_state=0)\n",
    "        )\n",
    "    )\n",
    ")    \n",
    "print(_building_meter_desc_DF)\n",
    "gc.collect()"
   ]
  },
  {
   "cell_type": "code",
   "execution_count": 12,
   "metadata": {},
   "outputs": [
    {
     "name": "stdout",
     "output_type": "stream",
     "text": [
      "      building_id  meter           timestamp  meter_reading  site_id  \\\n",
      "0             774      1 2016-08-07 08:00:00      36.128899        6   \n",
      "1             206      0 2016-10-04 14:00:00     226.270004        2   \n",
      "2            1269      0 2016-11-29 10:00:00      28.670799       14   \n",
      "3             951      0 2016-10-10 04:00:00     113.000000        9   \n",
      "4             656      0 2016-05-01 21:00:00      32.700001        5   \n",
      "5              36      0 2016-06-05 19:00:00     178.830994        0   \n",
      "6            1262      0 2016-07-19 05:00:00      73.739998       14   \n",
      "7              52      0 2016-03-17 14:00:00       0.000000        0   \n",
      "8            1133      2 2016-07-10 17:00:00     984.375000       13   \n",
      "9            1123      0 2016-10-02 09:00:00      18.243999       13   \n",
      "10           1237      0 2016-10-06 18:00:00      85.000000       14   \n",
      "11            960      1 2016-11-17 10:00:00      90.066498        9   \n",
      "12             11      0 2016-09-25 21:00:00     472.332001        0   \n",
      "13            436      0 2016-06-05 20:00:00      21.410000        3   \n",
      "14            996      0 2016-06-20 10:00:00     140.000000        9   \n",
      "15           1446      0 2016-11-07 11:00:00      10.025000       15   \n",
      "16            686      0 2016-03-09 15:00:00      23.799999        5   \n",
      "17           1383      1 2016-01-15 04:00:00      12.742100       15   \n",
      "18            993      1 2016-09-15 22:00:00    6834.540039        9   \n",
      "19           1308      0 2016-11-07 01:00:00     102.002998       14   \n",
      "20           1396      2 2016-01-29 14:00:00    1377.890015       15   \n",
      "21           1232      2 2016-02-10 02:00:00     597.854004       14   \n",
      "22           1197      0 2016-10-25 18:00:00     227.709000       13   \n",
      "23            973      2 2016-07-13 20:00:00      30.500000        9   \n",
      "24            918      2 2016-04-04 23:00:00      30.500000        9   \n",
      "25           1014      0 2016-08-07 21:00:00      24.000000       10   \n",
      "26            491      0 2016-01-29 04:00:00      68.660004        3   \n",
      "27            799      0 2016-09-27 23:00:00    1696.609985        7   \n",
      "28           1027      0 2016-10-11 12:00:00      38.380001       10   \n",
      "29           1382      0 2016-02-05 12:00:00     459.850006       15   \n",
      "...           ...    ...                 ...            ...      ...   \n",
      "1970          199      0 2016-03-14 01:00:00     101.050003        2   \n",
      "1971         1144      0 2016-05-05 00:00:00     423.501007       13   \n",
      "1972         1200      0 2016-04-27 12:00:00     635.216980       13   \n",
      "1973         1317      3 2016-07-30 05:00:00    2128.229980       14   \n",
      "1974          765      0 2016-09-07 16:00:00     149.882996        6   \n",
      "1975         1092      1 2016-04-01 19:00:00      67.473000       13   \n",
      "1976          146      0 2016-02-03 18:00:00      22.299999        1   \n",
      "1977         1234      1 2016-05-20 11:00:00      94.574600       14   \n",
      "1978          927      2 2016-03-08 03:00:00    1061.400024        9   \n",
      "1979          337      0 2016-08-05 00:00:00      66.400002        3   \n",
      "1980          462      0 2016-05-24 04:00:00      13.850000        3   \n",
      "1981          923      1 2016-03-05 00:00:00      44.030998        9   \n",
      "1982          920      2 2016-07-14 02:00:00      61.000000        9   \n",
      "1983          217      0 2016-12-14 17:00:00     274.059998        2   \n",
      "1984         1242      0 2016-11-28 13:00:00      38.000000       14   \n",
      "1985         1248      0 2016-04-07 21:00:00      94.000000       14   \n",
      "1986          608      0 2016-05-28 23:00:00      52.250000        4   \n",
      "1987          524      0 2016-09-12 18:00:00     233.449997        3   \n",
      "1988          597      0 2016-01-14 21:00:00      98.750000        4   \n",
      "1989          983      1 2016-05-17 07:00:00       0.000000        9   \n",
      "1990         1045      0 2016-08-30 23:00:00       7.755000       12   \n",
      "1991          139      3 2016-09-27 23:00:00       0.000000        1   \n",
      "1992         1412      0 2016-07-29 22:00:00      24.174999       15   \n",
      "1993          493      0 2016-11-17 02:00:00     232.770004        3   \n",
      "1994         1089      0 2016-07-21 22:00:00     419.442993       13   \n",
      "1995          229      1 2016-02-02 21:00:00      88.800499        2   \n",
      "1996         1191      2 2016-02-12 10:00:00    6687.500000       13   \n",
      "1997           63      0 2016-11-25 02:00:00     153.985992        0   \n",
      "1998         1358      2 2016-04-22 00:00:00      73.337601       15   \n",
      "1999         1129      1 2016-01-14 23:00:00       3.998400       13   \n",
      "\n",
      "                        primary_use  square_feet  year_built  floor_count  \\\n",
      "0               Lodging/residential      93500.0         NaN          NaN   \n",
      "1                   Public services     345837.0      1966.0          NaN   \n",
      "2                        Healthcare      56388.0         NaN          NaN   \n",
      "3                            Office     103924.0         NaN          NaN   \n",
      "4                             Other       5769.0      1976.0          1.0   \n",
      "5               Lodging/residential      53130.0      2002.0          NaN   \n",
      "6                            Office      65000.0         NaN          NaN   \n",
      "7                         Education     106523.0      1970.0          NaN   \n",
      "8                            Office      82302.0         NaN          NaN   \n",
      "9                            Office      92994.0         NaN          NaN   \n",
      "10                           Office      42755.0         NaN          NaN   \n",
      "11                        Education      56137.0         NaN          NaN   \n",
      "12                        Education      49073.0      1968.0          NaN   \n",
      "13              Lodging/residential      15574.0         NaN          NaN   \n",
      "14                        Education      77632.0         NaN          NaN   \n",
      "15    Entertainment/public assembly      11265.0      1997.0          NaN   \n",
      "16                           Office      12206.0      1976.0          2.0   \n",
      "17                        Education     105612.0      1967.0          NaN   \n",
      "18                        Education     428647.0         NaN          NaN   \n",
      "19              Lodging/residential      62279.0         NaN          NaN   \n",
      "20              Lodging/residential      96336.0      1913.0          NaN   \n",
      "21                        Education     181328.0         NaN          NaN   \n",
      "22                         Services      50552.0         NaN          NaN   \n",
      "23                           Office     193960.0         NaN          NaN   \n",
      "24                        Education      60621.0         NaN          NaN   \n",
      "25                           Office      43094.0         NaN          3.0   \n",
      "26                        Education      66600.0      1970.0          NaN   \n",
      "27                        Education     527431.0      1976.0         26.0   \n",
      "28              Lodging/residential      35465.0         NaN          2.0   \n",
      "29                  Public services     243072.0      1965.0          NaN   \n",
      "...                             ...          ...         ...          ...   \n",
      "1970                        Parking     405083.0      2004.0          NaN   \n",
      "1971                         Office     152312.0         NaN          NaN   \n",
      "1972  Entertainment/public assembly     545351.0         NaN          NaN   \n",
      "1973  Entertainment/public assembly     180806.0         NaN          NaN   \n",
      "1974  Entertainment/public assembly      58562.0         NaN          NaN   \n",
      "1975                         Office     105167.0         NaN          NaN   \n",
      "1976                         Office      31614.0      1956.0          8.0   \n",
      "1977                      Education      46037.0         NaN          NaN   \n",
      "1978            Lodging/residential     745671.0         NaN          NaN   \n",
      "1979  Entertainment/public assembly      22334.0      1977.0          NaN   \n",
      "1980                Public services       9226.0         NaN          NaN   \n",
      "1981                      Education      24992.0         NaN          NaN   \n",
      "1982                      Education      85623.0         NaN          NaN   \n",
      "1983                      Education     282946.0      2003.0          NaN   \n",
      "1984                         Office      23871.0         NaN          NaN   \n",
      "1985                         Office      78002.0         NaN          NaN   \n",
      "1986  Entertainment/public assembly     124197.0      1927.0          3.0   \n",
      "1987                Public services     134114.0         NaN          NaN   \n",
      "1988                Public services     189425.0      1994.0          4.0   \n",
      "1989  Entertainment/public assembly     122122.0         NaN          NaN   \n",
      "1990                         Office      33530.0         NaN          NaN   \n",
      "1991                Public services      56629.0      1900.0          6.0   \n",
      "1992            Lodging/residential      39538.0      1953.0          NaN   \n",
      "1993                      Education     283000.0      2014.0          NaN   \n",
      "1994                         Office      62837.0         NaN          NaN   \n",
      "1995                      Education     140092.0         NaN          NaN   \n",
      "1996                      Education     192152.0         NaN          NaN   \n",
      "1997            Lodging/residential      41617.0      2001.0          NaN   \n",
      "1998            Lodging/residential      61439.0      1903.0          NaN   \n",
      "1999                         Office     133100.0         NaN          NaN   \n",
      "\n",
      "      air_temperature  ...  relative_humidity_rmin_72  meter_mean  meter_std  \\\n",
      "0           26.093750  ...                  52.187500    1.807198   2.555764   \n",
      "1           28.296875  ...                   5.058594    5.367426   0.083033   \n",
      "2           12.796875  ...                  39.343750    3.390163        NaN   \n",
      "3           12.203125  ...                  24.343750    4.736198        NaN   \n",
      "4           11.000000  ...                  49.531250    3.517498        NaN   \n",
      "5           23.296875  ...                  42.562500    5.192018        NaN   \n",
      "6           22.203125  ...                  39.781250    4.314015        NaN   \n",
      "7           29.406250  ...                  33.656250    0.000000        NaN   \n",
      "8           27.203125  ...                  45.437500    6.893022        NaN   \n",
      "9           19.406250  ...                  45.468750    3.909234   1.346380   \n",
      "10          17.203125  ...                  47.625000    2.908223   2.015585   \n",
      "11          23.296875  ...                  29.953125    4.511590        NaN   \n",
      "12          26.703125  ...                  47.375000    6.159797        NaN   \n",
      "13          22.796875  ...                  63.218750    3.109507        NaN   \n",
      "14          32.187500  ...                  46.093750    4.961495   0.114937   \n",
      "15          12.203125  ...                  39.750000    2.400165        NaN   \n",
      "16           8.000000  ...                  61.312500    2.400039   1.146650   \n",
      "17           1.099609  ...                  53.656250    2.738151   0.166434   \n",
      "18          27.203125  ...                  45.906250    8.509930   0.452493   \n",
      "19           3.900391  ...                  25.906250    4.403340   0.327274   \n",
      "20          -3.900391  ...                  51.375000    7.229034        NaN   \n",
      "21           0.000000  ...                  39.593750    6.395018        NaN   \n",
      "22           7.199219  ...                  35.218750    5.432450        NaN   \n",
      "23          30.593750  ...                  34.343750    3.449988        NaN   \n",
      "24          16.703125  ...                  23.875000    3.954488   0.713471   \n",
      "25          23.296875  ...                  17.046875    3.218876        NaN   \n",
      "26          -1.700195  ...                  40.750000    4.045075   0.280794   \n",
      "27          12.101562  ...                  36.562500    4.727388   4.108624   \n",
      "28          18.296875  ...                  17.406250    3.586698   0.122415   \n",
      "29          -2.199219  ...                  44.375000    6.120104   0.018341   \n",
      "...               ...  ...                        ...         ...        ...   \n",
      "1970        14.398438  ...                   9.835938    4.573789   0.073078   \n",
      "1971        10.000000  ...                  21.031250    6.141803   0.099934   \n",
      "1972        11.101562  ...                  34.718750    6.455540        NaN   \n",
      "1973        23.296875  ...                  38.125000    7.563279   0.141756   \n",
      "1974        32.812500  ...                  31.000000    5.040735   0.042544   \n",
      "1975         0.600098  ...                  28.781250    5.438806   1.714545   \n",
      "1976         6.898438  ...                  48.937500    2.961175   0.331838   \n",
      "1977        22.203125  ...                  27.640625    4.298242   0.370051   \n",
      "1978        20.593750  ...                  40.281250    5.657666   1.853496   \n",
      "1979        23.296875  ...                  41.593750    4.210645        NaN   \n",
      "1980        13.898438  ...                  53.375000    2.601355   0.136677   \n",
      "1981        14.398438  ...                  17.703125    5.241562   1.307439   \n",
      "1982        26.093750  ...                  34.343750    3.877069   0.353646   \n",
      "1983        20.000000  ...                  30.687500    5.616989        NaN   \n",
      "1984        11.703125  ...                  39.343750    3.663562        NaN   \n",
      "1985        10.601562  ...                  20.078125    4.379285   0.246910   \n",
      "1986        15.601562  ...                  27.859375    3.974998        NaN   \n",
      "1987        25.000000  ...                  34.531250    5.258239   0.281434   \n",
      "1988        11.703125  ...                  61.718750    4.898275   0.290408   \n",
      "1989        19.406250  ...                  68.625000    2.710076   2.531018   \n",
      "1990        16.796875  ...                  48.593750    2.368248   0.280895   \n",
      "1991        15.101562  ...                  46.156250    2.307560   3.263383   \n",
      "1992        15.601562  ...                  41.187500    3.225851        NaN   \n",
      "1993         7.800781  ...                  20.093750    5.454338        NaN   \n",
      "1994        27.203125  ...                  48.812500    5.685068   0.503801   \n",
      "1995         8.296875  ...                  14.210938    4.497591        NaN   \n",
      "1996       -13.296875  ...                  40.218750    8.982826   0.247037   \n",
      "1997        20.000000  ...                  32.093750    5.206470   0.230708   \n",
      "1998        14.398438  ...                  23.015625    5.433784   1.591227   \n",
      "1999        -5.000000  ...                  56.781250    3.297210   1.665357   \n",
      "\n",
      "      meter_min  meter_5%  meter_25%  meter_50%  meter_75%  meter_95%  \\\n",
      "0      0.000000  0.180720   0.903599   1.807198   2.710797   3.433676   \n",
      "1      5.308713  5.314584   5.338069   5.367426   5.396782   5.420268   \n",
      "2      3.390163  3.390163   3.390163   3.390163   3.390163   3.390163   \n",
      "3      4.736198  4.736198   4.736198   4.736198   4.736198   4.736198   \n",
      "4      3.517498  3.517498   3.517498   3.517498   3.517498   3.517498   \n",
      "5      5.192018  5.192018   5.192018   5.192018   5.192018   5.192018   \n",
      "6      4.314015  4.314015   4.314015   4.314015   4.314015   4.314015   \n",
      "7      0.000000  0.000000   0.000000   0.000000   0.000000   0.000000   \n",
      "8      6.893022  6.893022   6.893022   6.893022   6.893022   6.893022   \n",
      "9      2.957199  3.052403   3.433217   3.909234   4.385251   4.766065   \n",
      "10     0.000000  0.470324   2.351621   3.589273   4.145875   4.392653   \n",
      "11     4.511590  4.511590   4.511590   4.511590   4.511590   4.511590   \n",
      "12     6.159797  6.159797   6.159797   6.159797   6.159797   6.159797   \n",
      "13     3.109507  3.109507   3.109507   3.109507   3.109507   3.109507   \n",
      "14     4.804021  4.825732   4.912575   4.992856   5.041776   5.053352   \n",
      "15     2.400165  2.400165   2.400165   2.400165   2.400165   2.400165   \n",
      "16     1.589235  1.670316   1.994637   2.400039   2.805441   3.129763   \n",
      "17     2.620464  2.632233   2.679308   2.738151   2.796994   2.844069   \n",
      "18     8.189969  8.221965   8.349950   8.509930   8.669911   8.797895   \n",
      "19     4.171923  4.195064   4.287632   4.403340   4.519049   4.611616   \n",
      "20     7.229034  7.229034   7.229034   7.229034   7.229034   7.229034   \n",
      "21     6.395018  6.395018   6.395018   6.395018   6.395018   6.395018   \n",
      "22     5.432450  5.432450   5.432450   5.432450   5.432450   5.432450   \n",
      "23     3.449988  3.449988   3.449988   3.449988   3.449988   3.449988   \n",
      "24     3.449988  3.500438   3.702238   3.954488   4.206738   4.408538   \n",
      "25     3.218876  3.218876   3.218876   3.218876   3.218876   3.218876   \n",
      "26     3.846524  3.866379   3.945800   4.045075   4.144351   4.223771   \n",
      "27     0.000000  0.674519   3.372595   6.745189   7.091083   7.367798   \n",
      "28     3.500137  3.508793   3.543418   3.586698   3.629978   3.664602   \n",
      "29     6.107134  6.108431   6.113619   6.120104   6.126588   6.131776   \n",
      "...         ...       ...        ...        ...        ...        ...   \n",
      "1970   4.522115  4.527282   4.547952   4.573789   4.599626   4.620296   \n",
      "1971   6.050914  6.053082   6.061753   6.130176   6.210227   6.246802   \n",
      "1972   6.455540  6.455540   6.455540   6.455540   6.455540   6.455540   \n",
      "1973   7.463042  7.473065   7.513160   7.563279   7.613397   7.653492   \n",
      "1974   5.015842  5.015908   5.016173   5.016505   5.053182   5.082524   \n",
      "1975   4.226439  4.347676   4.832623   5.438806   6.044989   6.529936   \n",
      "1976   2.501436  2.567886   2.833688   3.046446   3.173934   3.235086   \n",
      "1977   4.036576  4.062742   4.167409   4.298241   4.429074   4.533740   \n",
      "1978   4.347047  4.478109   5.002357   5.657666   6.312976   6.837224   \n",
      "1979   4.210645  4.210645   4.210645   4.210645   4.210645   4.210645   \n",
      "1980   2.504709  2.514374   2.553032   2.601355   2.649677   2.688335   \n",
      "1981   3.807351  3.981657   4.678880   5.550410   5.958668   6.285274   \n",
      "1982   3.627004  3.652010   3.752037   3.877069   4.002102   4.102128   \n",
      "1983   5.616989  5.616989   5.616989   5.616989   5.616989   5.616989   \n",
      "1984   3.663562  3.663562   3.663562   3.663562   3.663562   3.663562   \n",
      "1985   4.204693  4.222152   4.291989   4.379285   4.466581   4.536418   \n",
      "1986   3.974998  3.974998   3.974998   3.974998   3.974998   3.974998   \n",
      "1987   5.059235  5.079135   5.158737   5.258239   5.357741   5.437342   \n",
      "1988   4.602667  4.633297   4.755819   4.908972   5.046079   5.155765   \n",
      "1989   0.000000  0.311766   1.558831   3.117662   4.065114   4.823076   \n",
      "1990   2.169625  2.189487   2.268936   2.368248   2.467559   2.547008   \n",
      "1991   0.000000  0.230756   1.153780   2.307560   3.461340   4.384364   \n",
      "1992   3.225851  3.225851   3.225851   3.225851   3.225851   3.225851   \n",
      "1993   5.454338  5.454338   5.454338   5.454338   5.454338   5.454338   \n",
      "1994   5.328827  5.364451   5.506948   5.685068   5.863189   6.005685   \n",
      "1995   4.497591  4.497591   4.497591   4.497591   4.497591   4.497591   \n",
      "1996   8.808145  8.825613   8.895485   8.982826   9.070166   9.140039   \n",
      "1997   5.043335  5.059648   5.124902   5.206470   5.288038   5.353292   \n",
      "1998   4.308617  4.421134   4.871201   5.433785   5.996369   6.446436   \n",
      "1999   1.609118  1.782571   2.476385   3.343653   4.141256   4.779339   \n",
      "\n",
      "      meter_max  \n",
      "0      3.614396  \n",
      "1      5.426139  \n",
      "2      3.390163  \n",
      "3      4.736198  \n",
      "4      3.517498  \n",
      "5      5.192018  \n",
      "6      4.314015  \n",
      "7      0.000000  \n",
      "8      6.893022  \n",
      "9      4.861269  \n",
      "10     4.454347  \n",
      "11     4.511590  \n",
      "12     6.159797  \n",
      "13     3.109507  \n",
      "14     5.056246  \n",
      "15     2.400165  \n",
      "16     3.210844  \n",
      "17     2.855838  \n",
      "18     8.829891  \n",
      "19     4.634758  \n",
      "20     7.229034  \n",
      "21     6.395018  \n",
      "22     5.432450  \n",
      "23     3.449988  \n",
      "24     4.458988  \n",
      "25     3.218876  \n",
      "26     4.243626  \n",
      "27     7.436976  \n",
      "28     3.673258  \n",
      "29     6.133073  \n",
      "...         ...  \n",
      "1970   4.625463  \n",
      "1971   6.255946  \n",
      "1972   6.455540  \n",
      "1973   7.663516  \n",
      "1974   5.089859  \n",
      "1975   6.651173  \n",
      "1976   3.250375  \n",
      "1977   4.559907  \n",
      "1978   6.968286  \n",
      "1979   4.210645  \n",
      "1980   2.698000  \n",
      "1981   6.366926  \n",
      "1982   4.127134  \n",
      "1983   5.616989  \n",
      "1984   3.663562  \n",
      "1985   4.553877  \n",
      "1986   3.974998  \n",
      "1987   5.457242  \n",
      "1988   5.183187  \n",
      "1989   5.012567  \n",
      "1990   2.566870  \n",
      "1991   4.615120  \n",
      "1992   3.225851  \n",
      "1993   5.454338  \n",
      "1994   6.041309  \n",
      "1995   4.497591  \n",
      "1996   9.157507  \n",
      "1997   5.369605  \n",
      "1998   6.558952  \n",
      "1999   4.938860  \n",
      "\n"
     ]
    },
    {
     "name": "stdout",
     "output_type": "stream",
     "text": [
      "[2000 rows x 74 columns]\n"
     ]
    }
   ],
   "source": [
    "class MergeMeterDescDF(TransformerMixin):\n",
    "  \n",
    "    def transform(self, df, **transform_params):\n",
    "        # drop any columns to add\n",
    "        dropCols =  [x for x in _building_meter_desc_DF.columns if x not in ['building_id', 'meter']]\n",
    "        df = df.drop(dropCols, axis=1, errors='ignore') \n",
    "        return df.merge(_building_meter_desc_DF, on=['building_id','meter'], how='left')\n",
    "\n",
    "    def fit(self, X, y=None, **fit_params):\n",
    "        return self\n",
    "\n",
    "print(MergeMeterDescDF().transform(train.sample(2000, random_state=0)))"
   ]
  },
  {
   "cell_type": "code",
   "execution_count": 13,
   "metadata": {
    "scrolled": true
   },
   "outputs": [],
   "source": [
    "# \"As you can see above, this data looks weired until May 20. It is \n",
    "# reported in this discussion by @barnwellguy that All electricity\n",
    "# meter is 0 until May 20 for site_id == 0. Let's remove these data \n",
    "# from training data.\"\n",
    "# https://www.kaggle.com/kaushal2896/ashrae-eda-fe-lightgbm-1-13\n",
    "class RmS0M0(TransformerMixin):\n",
    "  \n",
    "    def transform(self, df, **transform_params):\n",
    "        return df.query('not (building_id <= 104 & meter == 0 & timestamp <= \"2016-05-20\")')\n",
    "\n",
    "    def fit(self, X, y=None, **fit_params):\n",
    "        return self\n",
    "    \n"
   ]
  },
  {
   "cell_type": "code",
   "execution_count": 14,
   "metadata": {
    "scrolled": true
   },
   "outputs": [],
   "source": [
    "# following this thread\n",
    "# https://www.kaggle.com/c/ashrae-energy-prediction/discussion/113254#latest-663021\n",
    "class RmBuilt2017(TransformerMixin):\n",
    "# TO  \n",
    "    def transform(self, df, **transform_params):\n",
    "        # 954 leading zeros\n",
    "        df = df.query('not (building_id == 954 & timestamp <= \"2016-08-12\")')\n",
    "        df = df.query('not (building_id == 954 & timestamp <= \"2016-10-12\" & timestamp >= \"2016-10-18\")')\n",
    "        \n",
    "        return df\n",
    "\n",
    "    def fit(self, X, y=None, **fit_params):\n",
    "        return self"
   ]
  },
  {
   "cell_type": "code",
   "execution_count": 15,
   "metadata": {
    "scrolled": true
   },
   "outputs": [],
   "source": [
    "# remove big offenders in the error analysis reports\n",
    "# https://www.kaggle.com/c/ashrae-energy-prediction/discussion/113254#latest-663021\n",
    "class RmEAOffeners(TransformerMixin):\n",
    "# TO  \n",
    "    def transform(self, df, **transform_params):\n",
    "        # 1072 new steam install\n",
    "        df = df.query('not (building_id == 1072 & timestamp <= \"2016-07-27\")')\n",
    "        \n",
    "        # 783\n",
    "        df = df.query('not (building_id == 783 & timestamp <= \"2016-12-10\")')\n",
    "        \n",
    "        # 1264\n",
    "        # not sure what to do with that one\n",
    "        \n",
    "        # 1021\n",
    "        # drop zeros for hot water\n",
    "        \n",
    "        # 799\n",
    "        df = df.query('not (building_id == 799 & meter == 0 & timestamp <= \"2016-09-12\")')\n",
    "        \n",
    "        # 693\n",
    "        df = df.query('not (building_id == 693 & meter == 0 & timestamp <= \"2016-07-11\")')\n",
    "        \n",
    "        return df\n",
    "\n",
    "    def fit(self, X, y=None, **fit_params):\n",
    "        return self\n",
    "    \n"
   ]
  },
  {
   "cell_type": "code",
   "execution_count": 16,
   "metadata": {
    "scrolled": true
   },
   "outputs": [],
   "source": [
    "# TODO: write filter to remove any 0 meter reading that continue more than N days (try 3)\n",
    "# Also we need to account for this by meter"
   ]
  },
  {
   "cell_type": "code",
   "execution_count": 17,
   "metadata": {
    "scrolled": true
   },
   "outputs": [],
   "source": [
    "# TODO: try rolling with power"
   ]
  },
  {
   "cell_type": "code",
   "execution_count": 18,
   "metadata": {
    "scrolled": true
   },
   "outputs": [
    {
     "name": "stdout",
     "output_type": "stream",
     "text": [
      "Index(['site_id', 'timestamp', 'holiday'], dtype='object')\n",
      "           holiday  timestamp\n",
      "0   New Year's Day 2016-01-01\n",
      "1   New Year's Day 2016-01-01\n",
      "2   New Year's Day 2016-01-01\n",
      "3   New Year's Day 2016-01-01\n",
      "4   New Year's Day 2016-01-01\n",
      "5   New Year's Day 2016-01-01\n",
      "6   New Year's Day 2016-01-01\n",
      "7   New Year's Day 2016-01-01\n",
      "8   New Year's Day 2016-01-01\n",
      "9   New Year's Day 2016-01-01\n",
      "10  New Year's Day 2016-01-01\n",
      "11  New Year's Day 2016-01-01\n",
      "12  New Year's Day 2016-01-01\n",
      "13  New Year's Day 2016-01-01\n",
      "14  New Year's Day 2016-01-01\n",
      "15  New Year's Day 2016-01-01\n",
      "16  New Year's Day 2016-01-01\n",
      "17  New Year's Day 2016-01-01\n",
      "18  New Year's Day 2016-01-01\n",
      "19  New Year's Day 2016-01-01\n"
     ]
    }
   ],
   "source": [
    "    \n",
    "    \n",
    "# https://www.kaggle.com/c/ashrae-energy-prediction/discussion/114483#latest-660771\n",
    "# https://www.kaggle.com/c/ashrae-energy-prediction/discussion/114874#latest-660970\n",
    "class AddHolidays(TransformerMixin):\n",
    "    def transform(self, df, **transform_params):\n",
    "        if holiday_df is not None:\n",
    "            df = df.merge(holiday_df, on=['timestamp','site_id'], how='left')\n",
    "            df['holiday'] = df['holiday'].astype('category')\n",
    "        else:\n",
    "            print(\"Warning: Holiday DF is missing\")\n",
    "        return df\n",
    "\n",
    "    def fit(self, X, y=None, **fit_params):\n",
    "        return self\n",
    "# Test \n",
    "if holiday_df is not None:\n",
    "    print(holiday_df.columns)\n",
    "    print(AddHolidays().transform(train.head(20))[['holiday','timestamp']])"
   ]
  },
  {
   "cell_type": "code",
   "execution_count": 19,
   "metadata": {
    "scrolled": true
   },
   "outputs": [
    {
     "name": "stdout",
     "output_type": "stream",
     "text": [
      "       building_id  meter           timestamp  meter_reading  site_id  \\\n",
      "55121            0      0 2016-01-02 00:00:00       0.000000        0   \n",
      "55122            1      0 2016-01-02 00:00:00       0.000000        0   \n",
      "55123            2      0 2016-01-02 00:00:00       0.000000        0   \n",
      "55124            3      0 2016-01-02 00:00:00       0.000000        0   \n",
      "55125            4      0 2016-01-02 00:00:00       0.000000        0   \n",
      "55126            5      0 2016-01-02 00:00:00       0.000000        0   \n",
      "55127            6      0 2016-01-02 00:00:00       0.000000        0   \n",
      "55128            7      0 2016-01-02 00:00:00       0.000000        0   \n",
      "55129            8      0 2016-01-02 00:00:00       0.000000        0   \n",
      "55130            9      0 2016-01-02 00:00:00       0.000000        0   \n",
      "55131           10      0 2016-01-02 00:00:00       0.000000        0   \n",
      "55132           11      0 2016-01-02 00:00:00       0.000000        0   \n",
      "55133           12      0 2016-01-02 00:00:00       0.000000        0   \n",
      "55134           13      0 2016-01-02 00:00:00       0.000000        0   \n",
      "55135           14      0 2016-01-02 00:00:00       0.000000        0   \n",
      "55136           15      0 2016-01-02 00:00:00       0.000000        0   \n",
      "55137           16      0 2016-01-02 00:00:00       0.000000        0   \n",
      "55138           17      0 2016-01-02 00:00:00       0.000000        0   \n",
      "55139           18      0 2016-01-02 00:00:00       0.000000        0   \n",
      "55140           19      0 2016-01-02 00:00:00       0.000000        0   \n",
      "55141           20      0 2016-01-02 00:00:00       0.000000        0   \n",
      "55142           21      0 2016-01-02 00:00:00       0.000000        0   \n",
      "55143           22      0 2016-01-02 00:00:00       0.000000        0   \n",
      "55144           23      0 2016-01-02 00:00:00       0.000000        0   \n",
      "55145           24      0 2016-01-02 00:00:00       0.000000        0   \n",
      "55146           25      0 2016-01-02 00:00:00       0.000000        0   \n",
      "55147           26      0 2016-01-02 00:00:00       0.000000        0   \n",
      "55148           27      0 2016-01-02 00:00:00       0.000000        0   \n",
      "55149           28      0 2016-01-02 00:00:00       0.000000        0   \n",
      "55150           30      0 2016-01-02 00:00:00       0.000000        0   \n",
      "...            ...    ...                 ...            ...      ...   \n",
      "99970          922      0 2016-01-02 19:00:00      96.000000        9   \n",
      "99971          922      1 2016-01-02 19:00:00      17.900801        9   \n",
      "99972          922      2 2016-01-02 19:00:00     210.449997        9   \n",
      "99973          923      0 2016-01-02 19:00:00      21.000000        9   \n",
      "99974          923      1 2016-01-02 19:00:00       0.000000        9   \n",
      "99975          924      0 2016-01-02 19:00:00     152.000000        9   \n",
      "99976          924      1 2016-01-02 19:00:00     424.166992        9   \n",
      "99977          924      2 2016-01-02 19:00:00     683.200012        9   \n",
      "99978          925      0 2016-01-02 19:00:00      13.000000        9   \n",
      "99979          925      1 2016-01-02 19:00:00       0.000000        9   \n",
      "99980          925      2 2016-01-02 19:00:00      39.650002        9   \n",
      "99981          926      0 2016-01-02 19:00:00      23.000000        9   \n",
      "99982          926      1 2016-01-02 19:00:00       0.070300        9   \n",
      "99983          926      2 2016-01-02 19:00:00     103.699997        9   \n",
      "99984          927      0 2016-01-02 19:00:00     580.000000        9   \n",
      "99985          927      1 2016-01-02 19:00:00    1012.609985        9   \n",
      "99986          927      2 2016-01-02 19:00:00    1244.400024        9   \n",
      "99987          928      0 2016-01-02 19:00:00     312.000000        9   \n",
      "99988          928      1 2016-01-02 19:00:00     237.845001        9   \n",
      "99989          928      2 2016-01-02 19:00:00     128.100006        9   \n",
      "99990          929      0 2016-01-02 19:00:00     299.000000        9   \n",
      "99991          929      1 2016-01-02 19:00:00     154.529999        9   \n",
      "99992          929      2 2016-01-02 19:00:00     265.350006        9   \n",
      "99993          930      0 2016-01-02 19:00:00      26.000000        9   \n",
      "99994          931      0 2016-01-02 19:00:00     183.000000        9   \n",
      "99995          931      1 2016-01-02 19:00:00      10.796700        9   \n",
      "99996          931      2 2016-01-02 19:00:00     518.500000        9   \n",
      "99997          932      0 2016-01-02 19:00:00     233.000000        9   \n",
      "99998          932      1 2016-01-02 19:00:00     186.639008        9   \n",
      "99999          932      2 2016-01-02 19:00:00     570.349976        9   \n",
      "\n",
      "                         primary_use  square_feet  year_built  floor_count  \\\n",
      "55121                      Education       7432.0      2008.0          NaN   \n",
      "55122                      Education       2720.0      2004.0          NaN   \n",
      "55123                      Education       5376.0      1991.0          NaN   \n",
      "55124                      Education      23685.0      2002.0          NaN   \n",
      "55125                      Education     116607.0      1975.0          NaN   \n",
      "55126                      Education       8000.0      2000.0          NaN   \n",
      "55127            Lodging/residential      27926.0      1981.0          NaN   \n",
      "55128                      Education     121074.0      1989.0          NaN   \n",
      "55129                      Education      60809.0      2003.0          NaN   \n",
      "55130                         Office      27000.0      2010.0          NaN   \n",
      "55131  Entertainment/public assembly     370773.0      1991.0          NaN   \n",
      "55132                      Education      49073.0      1968.0          NaN   \n",
      "55133            Lodging/residential      37100.0      1999.0          NaN   \n",
      "55134                      Education      99380.0      2000.0          NaN   \n",
      "55135                      Education      86250.0      2013.0          NaN   \n",
      "55136                         Office      83957.0      1974.0          NaN   \n",
      "55137                      Education      54644.0      1996.0          NaN   \n",
      "55138                         Office      15250.0      1980.0          NaN   \n",
      "55139                      Education     111891.0      1996.0          NaN   \n",
      "55140                         Office      18717.0      2004.0          NaN   \n",
      "55141                      Education     110272.0      1977.0          NaN   \n",
      "55142                         Office       7043.0      1990.0          NaN   \n",
      "55143                      Education       3569.0      1996.0          NaN   \n",
      "55144                      Education     130885.0      1985.0          NaN   \n",
      "55145                      Education     105545.0      2001.0          NaN   \n",
      "55146                         Office     103286.0      1969.0          NaN   \n",
      "55147                         Office      26953.0      2005.0          NaN   \n",
      "55148            Lodging/residential      59200.0      1999.0          NaN   \n",
      "55149                         Office      52957.0      2016.0          NaN   \n",
      "55150                      Education      93897.0      1999.0          NaN   \n",
      "...                              ...          ...         ...          ...   \n",
      "99970                      Education     147205.0         NaN          NaN   \n",
      "99971                      Education     147205.0         NaN          NaN   \n",
      "99972                      Education     147205.0         NaN          NaN   \n",
      "99973                      Education      24992.0         NaN          NaN   \n",
      "99974                      Education      24992.0         NaN          NaN   \n",
      "99975  Entertainment/public assembly     252268.0         NaN          NaN   \n",
      "99976  Entertainment/public assembly     252268.0         NaN          NaN   \n",
      "99977  Entertainment/public assembly     252268.0         NaN          NaN   \n",
      "99978                      Education      54405.0         NaN          NaN   \n",
      "99979                      Education      54405.0         NaN          NaN   \n",
      "99980                      Education      54405.0         NaN          NaN   \n",
      "99981                      Education      26033.0         NaN          NaN   \n",
      "99982                      Education      26033.0         NaN          NaN   \n",
      "99983                      Education      26033.0         NaN          NaN   \n",
      "99984            Lodging/residential     745671.0         NaN          NaN   \n",
      "99985            Lodging/residential     745671.0         NaN          NaN   \n",
      "99986            Lodging/residential     745671.0         NaN          NaN   \n",
      "99987                      Education     179115.0         NaN          NaN   \n",
      "99988                      Education     179115.0         NaN          NaN   \n",
      "99989                      Education     179115.0         NaN          NaN   \n",
      "99990                      Education     199628.0         NaN          NaN   \n",
      "99991                      Education     199628.0         NaN          NaN   \n",
      "99992                      Education     199628.0         NaN          NaN   \n",
      "99993                         Office      20917.0         NaN          NaN   \n",
      "99994                      Education     216050.0         NaN          NaN   \n",
      "99995                      Education     216050.0         NaN          NaN   \n",
      "99996                      Education     216050.0         NaN          NaN   \n",
      "99997            Lodging/residential     233937.0         NaN          NaN   \n",
      "99998            Lodging/residential     233937.0         NaN          NaN   \n",
      "99999            Lodging/residential     233937.0         NaN          NaN   \n",
      "\n",
      "       air_temperature  ...  sea_level_pressure_rmin_72  \\\n",
      "55121        19.406250  ...                      1017.0   \n",
      "55122        19.406250  ...                      1017.0   \n",
      "55123        19.406250  ...                      1017.0   \n",
      "55124        19.406250  ...                      1017.0   \n",
      "55125        19.406250  ...                      1017.0   \n",
      "55126        19.406250  ...                      1017.0   \n",
      "55127        19.406250  ...                      1017.0   \n",
      "55128        19.406250  ...                      1017.0   \n",
      "55129        19.406250  ...                      1017.0   \n",
      "55130        19.406250  ...                      1017.0   \n",
      "55131        19.406250  ...                      1017.0   \n",
      "55132        19.406250  ...                      1017.0   \n",
      "55133        19.406250  ...                      1017.0   \n",
      "55134        19.406250  ...                      1017.0   \n",
      "55135        19.406250  ...                      1017.0   \n",
      "55136        19.406250  ...                      1017.0   \n",
      "55137        19.406250  ...                      1017.0   \n",
      "55138        19.406250  ...                      1017.0   \n",
      "55139        19.406250  ...                      1017.0   \n",
      "55140        19.406250  ...                      1017.0   \n",
      "55141        19.406250  ...                      1017.0   \n",
      "55142        19.406250  ...                      1017.0   \n",
      "55143        19.406250  ...                      1017.0   \n",
      "55144        19.406250  ...                      1017.0   \n",
      "55145        19.406250  ...                      1017.0   \n",
      "55146        19.406250  ...                      1017.0   \n",
      "55147        19.406250  ...                      1017.0   \n",
      "55148        19.406250  ...                      1017.0   \n",
      "55149        19.406250  ...                      1017.0   \n",
      "55150        19.406250  ...                      1017.0   \n",
      "...                ...  ...                         ...   \n",
      "99970         6.101562  ...                      1017.0   \n",
      "99971         6.101562  ...                      1017.0   \n",
      "99972         6.101562  ...                      1017.0   \n",
      "99973         6.101562  ...                      1017.0   \n",
      "99974         6.101562  ...                      1017.0   \n",
      "99975         6.101562  ...                      1017.0   \n",
      "99976         6.101562  ...                      1017.0   \n",
      "99977         6.101562  ...                      1017.0   \n",
      "99978         6.101562  ...                      1017.0   \n",
      "99979         6.101562  ...                      1017.0   \n",
      "99980         6.101562  ...                      1017.0   \n",
      "99981         6.101562  ...                      1017.0   \n",
      "99982         6.101562  ...                      1017.0   \n",
      "99983         6.101562  ...                      1017.0   \n",
      "99984         6.101562  ...                      1017.0   \n",
      "99985         6.101562  ...                      1017.0   \n",
      "99986         6.101562  ...                      1017.0   \n",
      "99987         6.101562  ...                      1017.0   \n",
      "99988         6.101562  ...                      1017.0   \n",
      "99989         6.101562  ...                      1017.0   \n",
      "99990         6.101562  ...                      1017.0   \n",
      "99991         6.101562  ...                      1017.0   \n",
      "99992         6.101562  ...                      1017.0   \n",
      "99993         6.101562  ...                      1017.0   \n",
      "99994         6.101562  ...                      1017.0   \n",
      "99995         6.101562  ...                      1017.0   \n",
      "99996         6.101562  ...                      1017.0   \n",
      "99997         6.101562  ...                      1017.0   \n",
      "99998         6.101562  ...                      1017.0   \n",
      "99999         6.101562  ...                      1017.0   \n",
      "\n",
      "       wind_direction_rmean_72  wind_direction_rmax_72  \\\n",
      "55121                  131.625                   360.0   \n",
      "55122                  131.625                   360.0   \n",
      "55123                  131.625                   360.0   \n",
      "55124                  131.625                   360.0   \n",
      "55125                  131.625                   360.0   \n",
      "55126                  131.625                   360.0   \n",
      "55127                  131.625                   360.0   \n",
      "55128                  131.625                   360.0   \n",
      "55129                  131.625                   360.0   \n",
      "55130                  131.625                   360.0   \n",
      "55131                  131.625                   360.0   \n",
      "55132                  131.625                   360.0   \n",
      "55133                  131.625                   360.0   \n",
      "55134                  131.625                   360.0   \n",
      "55135                  131.625                   360.0   \n",
      "55136                  131.625                   360.0   \n",
      "55137                  131.625                   360.0   \n",
      "55138                  131.625                   360.0   \n",
      "55139                  131.625                   360.0   \n",
      "55140                  131.625                   360.0   \n",
      "55141                  131.625                   360.0   \n",
      "55142                  131.625                   360.0   \n",
      "55143                  131.625                   360.0   \n",
      "55144                  131.625                   360.0   \n",
      "55145                  131.625                   360.0   \n",
      "55146                  131.625                   360.0   \n",
      "55147                  131.625                   360.0   \n",
      "55148                  131.625                   360.0   \n",
      "55149                  131.625                   360.0   \n",
      "55150                  131.625                   360.0   \n",
      "...                        ...                     ...   \n",
      "99970                  138.875                   360.0   \n",
      "99971                  138.875                   360.0   \n",
      "99972                  138.875                   360.0   \n",
      "99973                  138.875                   360.0   \n",
      "99974                  138.875                   360.0   \n",
      "99975                  138.875                   360.0   \n",
      "99976                  138.875                   360.0   \n",
      "99977                  138.875                   360.0   \n",
      "99978                  138.875                   360.0   \n",
      "99979                  138.875                   360.0   \n",
      "99980                  138.875                   360.0   \n",
      "99981                  138.875                   360.0   \n",
      "99982                  138.875                   360.0   \n",
      "99983                  138.875                   360.0   \n",
      "99984                  138.875                   360.0   \n",
      "99985                  138.875                   360.0   \n",
      "99986                  138.875                   360.0   \n",
      "99987                  138.875                   360.0   \n",
      "99988                  138.875                   360.0   \n",
      "99989                  138.875                   360.0   \n",
      "99990                  138.875                   360.0   \n",
      "99991                  138.875                   360.0   \n",
      "99992                  138.875                   360.0   \n",
      "99993                  138.875                   360.0   \n",
      "99994                  138.875                   360.0   \n",
      "99995                  138.875                   360.0   \n",
      "99996                  138.875                   360.0   \n",
      "99997                  138.875                   360.0   \n",
      "99998                  138.875                   360.0   \n",
      "99999                  138.875                   360.0   \n",
      "\n",
      "       wind_direction_rmin_72  wind_speed_rmean_72  wind_speed_rmax_72  \\\n",
      "55121                     0.0             2.240234            5.699219   \n",
      "55122                     0.0             2.240234            5.699219   \n",
      "55123                     0.0             2.240234            5.699219   \n",
      "55124                     0.0             2.240234            5.699219   \n",
      "55125                     0.0             2.240234            5.699219   \n",
      "55126                     0.0             2.240234            5.699219   \n",
      "55127                     0.0             2.240234            5.699219   \n",
      "55128                     0.0             2.240234            5.699219   \n",
      "55129                     0.0             2.240234            5.699219   \n",
      "55130                     0.0             2.240234            5.699219   \n",
      "55131                     0.0             2.240234            5.699219   \n",
      "55132                     0.0             2.240234            5.699219   \n",
      "55133                     0.0             2.240234            5.699219   \n",
      "55134                     0.0             2.240234            5.699219   \n",
      "55135                     0.0             2.240234            5.699219   \n",
      "55136                     0.0             2.240234            5.699219   \n",
      "55137                     0.0             2.240234            5.699219   \n",
      "55138                     0.0             2.240234            5.699219   \n",
      "55139                     0.0             2.240234            5.699219   \n",
      "55140                     0.0             2.240234            5.699219   \n",
      "55141                     0.0             2.240234            5.699219   \n",
      "55142                     0.0             2.240234            5.699219   \n",
      "55143                     0.0             2.240234            5.699219   \n",
      "55144                     0.0             2.240234            5.699219   \n",
      "55145                     0.0             2.240234            5.699219   \n",
      "55146                     0.0             2.240234            5.699219   \n",
      "55147                     0.0             2.240234            5.699219   \n",
      "55148                     0.0             2.240234            5.699219   \n",
      "55149                     0.0             2.240234            5.699219   \n",
      "55150                     0.0             2.240234            5.699219   \n",
      "...                       ...                  ...                 ...   \n",
      "99970                     0.0             2.605469            5.699219   \n",
      "99971                     0.0             2.605469            5.699219   \n",
      "99972                     0.0             2.605469            5.699219   \n",
      "99973                     0.0             2.605469            5.699219   \n",
      "99974                     0.0             2.605469            5.699219   \n",
      "99975                     0.0             2.605469            5.699219   \n",
      "99976                     0.0             2.605469            5.699219   \n",
      "99977                     0.0             2.605469            5.699219   \n",
      "99978                     0.0             2.605469            5.699219   \n",
      "99979                     0.0             2.605469            5.699219   \n",
      "99980                     0.0             2.605469            5.699219   \n",
      "99981                     0.0             2.605469            5.699219   \n",
      "99982                     0.0             2.605469            5.699219   \n",
      "99983                     0.0             2.605469            5.699219   \n",
      "99984                     0.0             2.605469            5.699219   \n",
      "99985                     0.0             2.605469            5.699219   \n",
      "99986                     0.0             2.605469            5.699219   \n",
      "99987                     0.0             2.605469            5.699219   \n",
      "99988                     0.0             2.605469            5.699219   \n",
      "99989                     0.0             2.605469            5.699219   \n",
      "99990                     0.0             2.605469            5.699219   \n",
      "99991                     0.0             2.605469            5.699219   \n",
      "99992                     0.0             2.605469            5.699219   \n",
      "99993                     0.0             2.605469            5.699219   \n",
      "99994                     0.0             2.605469            5.699219   \n",
      "99995                     0.0             2.605469            5.699219   \n",
      "99996                     0.0             2.605469            5.699219   \n",
      "99997                     0.0             2.605469            5.699219   \n",
      "99998                     0.0             2.605469            5.699219   \n",
      "99999                     0.0             2.605469            5.699219   \n",
      "\n",
      "       wind_speed_rmin_72  relative_humidity_rmean_72  \\\n",
      "55121                 0.0                    83.06250   \n",
      "55122                 0.0                    83.06250   \n",
      "55123                 0.0                    83.06250   \n",
      "55124                 0.0                    83.06250   \n",
      "55125                 0.0                    83.06250   \n",
      "55126                 0.0                    83.06250   \n",
      "55127                 0.0                    83.06250   \n",
      "55128                 0.0                    83.06250   \n",
      "55129                 0.0                    83.06250   \n",
      "55130                 0.0                    83.06250   \n",
      "55131                 0.0                    83.06250   \n",
      "55132                 0.0                    83.06250   \n",
      "55133                 0.0                    83.06250   \n",
      "55134                 0.0                    83.06250   \n",
      "55135                 0.0                    83.06250   \n",
      "55136                 0.0                    83.06250   \n",
      "55137                 0.0                    83.06250   \n",
      "55138                 0.0                    83.06250   \n",
      "55139                 0.0                    83.06250   \n",
      "55140                 0.0                    83.06250   \n",
      "55141                 0.0                    83.06250   \n",
      "55142                 0.0                    83.06250   \n",
      "55143                 0.0                    83.06250   \n",
      "55144                 0.0                    83.06250   \n",
      "55145                 0.0                    83.06250   \n",
      "55146                 0.0                    83.06250   \n",
      "55147                 0.0                    83.06250   \n",
      "55148                 0.0                    83.06250   \n",
      "55149                 0.0                    83.06250   \n",
      "55150                 0.0                    83.06250   \n",
      "...                   ...                         ...   \n",
      "99970                 0.0                    63.21875   \n",
      "99971                 0.0                    63.21875   \n",
      "99972                 0.0                    63.21875   \n",
      "99973                 0.0                    63.21875   \n",
      "99974                 0.0                    63.21875   \n",
      "99975                 0.0                    63.21875   \n",
      "99976                 0.0                    63.21875   \n",
      "99977                 0.0                    63.21875   \n",
      "99978                 0.0                    63.21875   \n",
      "99979                 0.0                    63.21875   \n",
      "99980                 0.0                    63.21875   \n",
      "99981                 0.0                    63.21875   \n",
      "99982                 0.0                    63.21875   \n",
      "99983                 0.0                    63.21875   \n",
      "99984                 0.0                    63.21875   \n",
      "99985                 0.0                    63.21875   \n",
      "99986                 0.0                    63.21875   \n",
      "99987                 0.0                    63.21875   \n",
      "99988                 0.0                    63.21875   \n",
      "99989                 0.0                    63.21875   \n",
      "99990                 0.0                    63.21875   \n",
      "99991                 0.0                    63.21875   \n",
      "99992                 0.0                    63.21875   \n",
      "99993                 0.0                    63.21875   \n",
      "99994                 0.0                    63.21875   \n",
      "99995                 0.0                    63.21875   \n",
      "99996                 0.0                    63.21875   \n",
      "99997                 0.0                    63.21875   \n",
      "99998                 0.0                    63.21875   \n",
      "99999                 0.0                    63.21875   \n",
      "\n",
      "       relative_humidity_rmax_72  relative_humidity_rmin_72  \n",
      "55121                    100.000                   56.25000  \n",
      "55122                    100.000                   56.25000  \n",
      "55123                    100.000                   56.25000  \n",
      "55124                    100.000                   56.25000  \n",
      "55125                    100.000                   56.25000  \n",
      "55126                    100.000                   56.25000  \n",
      "55127                    100.000                   56.25000  \n",
      "55128                    100.000                   56.25000  \n",
      "55129                    100.000                   56.25000  \n",
      "55130                    100.000                   56.25000  \n",
      "55131                    100.000                   56.25000  \n",
      "55132                    100.000                   56.25000  \n",
      "55133                    100.000                   56.25000  \n",
      "55134                    100.000                   56.25000  \n",
      "55135                    100.000                   56.25000  \n",
      "55136                    100.000                   56.25000  \n",
      "55137                    100.000                   56.25000  \n",
      "55138                    100.000                   56.25000  \n",
      "55139                    100.000                   56.25000  \n",
      "55140                    100.000                   56.25000  \n",
      "55141                    100.000                   56.25000  \n",
      "55142                    100.000                   56.25000  \n",
      "55143                    100.000                   56.25000  \n",
      "55144                    100.000                   56.25000  \n",
      "55145                    100.000                   56.25000  \n",
      "55146                    100.000                   56.25000  \n",
      "55147                    100.000                   56.25000  \n",
      "55148                    100.000                   56.25000  \n",
      "55149                    100.000                   56.25000  \n",
      "55150                    100.000                   56.25000  \n",
      "...                          ...                        ...  \n",
      "99970                     92.625                   51.28125  \n",
      "99971                     92.625                   51.28125  \n",
      "99972                     92.625                   51.28125  \n",
      "99973                     92.625                   51.28125  \n",
      "99974                     92.625                   51.28125  \n",
      "99975                     92.625                   51.28125  \n",
      "99976                     92.625                   51.28125  \n",
      "99977                     92.625                   51.28125  \n",
      "99978                     92.625                   51.28125  \n",
      "99979                     92.625                   51.28125  \n",
      "99980                     92.625                   51.28125  \n",
      "99981                     92.625                   51.28125  \n",
      "99982                     92.625                   51.28125  \n",
      "99983                     92.625                   51.28125  \n",
      "99984                     92.625                   51.28125  \n",
      "99985                     92.625                   51.28125  \n",
      "99986                     92.625                   51.28125  \n",
      "99987                     92.625                   51.28125  \n",
      "99988                     92.625                   51.28125  \n",
      "99989                     92.625                   51.28125  \n",
      "99990                     92.625                   51.28125  \n",
      "99991                     92.625                   51.28125  \n",
      "99992                     92.625                   51.28125  \n",
      "99993                     92.625                   51.28125  \n",
      "99994                     92.625                   51.28125  \n",
      "99995                     92.625                   51.28125  \n",
      "99996                     92.625                   51.28125  \n",
      "99997                     92.625                   51.28125  \n",
      "99998                     92.625                   51.28125  \n",
      "99999                     92.625                   51.28125  \n",
      "\n"
     ]
    },
    {
     "name": "stdout",
     "output_type": "stream",
     "text": [
      "[41839 rows x 65 columns]\n"
     ]
    }
   ],
   "source": [
    "class RmHolidays(TransformerMixin):\n",
    "    def transform(self, df, **transform_params):\n",
    "        if holiday_df is not None:\n",
    "            df = df.merge(holiday_df, on=['timestamp','site_id'], how='left')\n",
    "            df = df.drop(df[df['holiday'].notnull()].index)\n",
    "            df = df.drop(['holiday'], axis=1)\n",
    "            gc.collect()\n",
    "        else:\n",
    "            print(\"Warning: Holiday DF is missing\")\n",
    "        return df\n",
    "\n",
    "    def fit(self, X, y=None, **fit_params):\n",
    "        return self\n",
    "\n",
    "# Test you should see the new years removed\n",
    "#print(train.head(100000).merge(building, on='building_id', how='left').columns)\n",
    "print(RmHolidays().transform(train.head(100000)))"
   ]
  },
  {
   "cell_type": "code",
   "execution_count": 20,
   "metadata": {
    "scrolled": true
   },
   "outputs": [],
   "source": [
    "class SetCatTypes(TransformerMixin):\n",
    "    \n",
    "    def __init__(self, cols):\n",
    "        self._cols = cols\n",
    "        \n",
    "    def transform(self, df, **transform_params):\n",
    "        for col in self._cols:\n",
    "            df[col]= df[col].astype('category')\n",
    "        gc.collect()\n",
    "        return df\n",
    "\n",
    "    def fit(self, X, y=None, **fit_params):\n",
    "        return self"
   ]
  },
  {
   "cell_type": "code",
   "execution_count": 21,
   "metadata": {
    "scrolled": true
   },
   "outputs": [],
   "source": [
    "class GetDummies(TransformerMixin):\n",
    "    \n",
    "    def __init__(self, cols):\n",
    "        self._cols = cols\n",
    "        \n",
    "    def transform(self, df, **transform_params):\n",
    "        df = pd.get_dummies(df, columns=self._cols )\n",
    "        return df\n",
    "\n",
    "    def fit(self, X, y=None, **fit_params):\n",
    "        return self"
   ]
  },
  {
   "cell_type": "code",
   "execution_count": 22,
   "metadata": {
    "scrolled": true
   },
   "outputs": [
    {
     "name": "stdout",
     "output_type": "stream",
     "text": [
      "0       7432.0\n",
      "1       2720.0\n",
      "2       5376.0\n",
      "3      23685.0\n",
      "4     116607.0\n",
      "5       8000.0\n",
      "6      27926.0\n",
      "7     121074.0\n",
      "8      60809.0\n",
      "9      27000.0\n",
      "10    370773.0\n",
      "11     49073.0\n",
      "12     37100.0\n",
      "13     99380.0\n",
      "14     86250.0\n",
      "15     83957.0\n",
      "16     54644.0\n",
      "17     15250.0\n",
      "18    111891.0\n",
      "19     18717.0\n",
      "Name: square_feet, dtype: float32\n"
     ]
    }
   ],
   "source": [
    "class LogSquareFeet(TransformerMixin):\n",
    "        \n",
    "    def transform(self, df, **transform_params):\n",
    "        df['log_square_feet'] = np.float16(np.log(df['square_feet']))\n",
    "        return df\n",
    "\n",
    "    def fit(self, X, y=None, **fit_params):\n",
    "        return self\n",
    "print(building.head(20)['square_feet'])"
   ]
  },
  {
   "cell_type": "code",
   "execution_count": 23,
   "metadata": {
    "scrolled": true
   },
   "outputs": [],
   "source": [
    "# TODO: Play with scaling cloud coverage"
   ]
  },
  {
   "cell_type": "code",
   "execution_count": 24,
   "metadata": {
    "scrolled": true
   },
   "outputs": [],
   "source": [
    "class DropCols(TransformerMixin):\n",
    "\n",
    "    def __init__(self, drop_cols):\n",
    "        self._drop_cols = drop_cols\n",
    "        \n",
    "    def transform(self, df, **transform_params):\n",
    "        df = df.drop(self._drop_cols, axis=1)\n",
    "        gc.collect()\n",
    "        return df\n",
    "\n",
    "    def fit(self, X, y=None, **fit_params):\n",
    "        return self"
   ]
  },
  {
   "cell_type": "code",
   "execution_count": 25,
   "metadata": {
    "scrolled": true
   },
   "outputs": [
    {
     "name": "stdout",
     "output_type": "stream",
     "text": [
      "4880893      70\n",
      "17552803     52\n",
      "19411126     91\n",
      "9413053      62\n",
      "17828758     70\n",
      "17043335     53\n",
      "9052558      70\n",
      "12436223     70\n",
      "13149334     70\n",
      "920559       30\n",
      "4518331      70\n",
      "20096597     70\n",
      "17172102     67\n",
      "16774262     70\n",
      "11747614     70\n",
      "18592925     70\n",
      "15484918     23\n",
      "5243600      85\n",
      "8195674      76\n",
      "9295477     107\n",
      "Name: building_age, dtype: uint8\n"
     ]
    }
   ],
   "source": [
    "class ImputeYearBuilt(TransformerMixin):\n",
    "\n",
    "    def transform(self, df, **transform_params):\n",
    "        # revisit the choice of median vs anything else\n",
    "        tmp_df = train.drop_duplicates(['site_id','building_id'])[['site_id','building_id','year_built']]\n",
    "        year_built_median = tmp_df['year_built'].median()\n",
    "        # Set all year_built NaNs to site mean for year_built\n",
    "        for i, i_median in tmp_df.groupby(['site_id'])['year_built'].median().items():\n",
    "            if not np.isnan(i_median):\n",
    "                df.loc[(df['year_built'].isnull()) & (df['site_id'] == i), 'year_built'] = i_median\n",
    "            else:\n",
    "                df.loc[(df['year_built'].isnull()) & (df['site_id'] == i), 'year_built'] = year_built_median\n",
    "        df['building_age'] = np.uint8(df['year_built']-1900)\n",
    "        del tmp_df, year_built_median\n",
    "        gc.collect()\n",
    "        return df\n",
    "\n",
    "    def fit(self, X, y=None, **fit_params):\n",
    "        return self\n",
    "print(ImputeYearBuilt().transform(train.sample(20))['building_age'])"
   ]
  },
  {
   "cell_type": "code",
   "execution_count": 26,
   "metadata": {},
   "outputs": [
    {
     "name": "stdout",
     "output_type": "stream",
     "text": [
      "4362271     3.0\n",
      "9337212     3.0\n",
      "15452690    3.0\n",
      "7197042     3.0\n",
      "5493815     3.0\n",
      "9514756     3.0\n",
      "10593353    3.0\n",
      "1117716     3.0\n",
      "11074910    3.0\n",
      "1938049     3.0\n",
      "9848394     3.0\n",
      "1026143     3.0\n",
      "13618016    3.0\n",
      "14617725    3.0\n",
      "18403293    3.0\n",
      "6034679     3.0\n",
      "1392606     3.0\n",
      "11009154    3.0\n",
      "13232615    3.0\n",
      "8988778     7.0\n",
      "Name: floor_count, dtype: float16\n"
     ]
    }
   ],
   "source": [
    "class ImputeFloorCount(TransformerMixin):\n",
    "\n",
    "    def transform(self, df, **transform_params):\n",
    "        # revisit the choice of median vs anything else\n",
    "        tmp_df = train.drop_duplicates(['site_id','building_id'])[['site_id','building_id','floor_count']]\n",
    "        floors_median = tmp_df['floor_count'].median()\n",
    "        # Set all year_built NaNs to site mean for year_built\n",
    "        for i, i_median in tmp_df.groupby(['site_id'])['floor_count'].median().items():\n",
    "            if not np.isnan(i_median):\n",
    "                df.loc[(df['floor_count'].isnull()) & (df['site_id'] == i), 'floor_count'] = i_median\n",
    "            else:\n",
    "                df.loc[(df['floor_count'].isnull()) & (df['site_id'] == i), 'floor_count'] = floors_median\n",
    "        del tmp_df, floors_median\n",
    "        gc.collect()\n",
    "        return df\n",
    "\n",
    "    def fit(self, X, y=None, **fit_params):\n",
    "        return self\n",
    "\n",
    "print(ImputeFloorCount().transform(train.sample(20))['floor_count'])"
   ]
  },
  {
   "cell_type": "code",
   "execution_count": 27,
   "metadata": {
    "scrolled": true
   },
   "outputs": [],
   "source": [
    "class AddMeterDummies(TransformerMixin):\n",
    "        \n",
    "    def transform(self, df_a, **transform_params):\n",
    "        df = df_a\n",
    "        for i in range(4):\n",
    "            df['_meter_'+str(i)] = (df['building_id'].isin(\n",
    "                train.loc[train['meter'] == i].building_id.unique()))\n",
    "        return df\n",
    "        \n",
    "    def fit(self, X, y=None, **fit_params):\n",
    "        return self"
   ]
  },
  {
   "cell_type": "code",
   "execution_count": 28,
   "metadata": {
    "scrolled": true
   },
   "outputs": [],
   "source": [
    "class AddRelativeHumidity(TransformerMixin):\n",
    "        \n",
    "    def transform(self, df_a, **transform_params):\n",
    "        df = df_a\n",
    "        # code here\n",
    "        return df\n",
    "        \n",
    "    def fit(self, X, y=None, **fit_params):\n",
    "        return self"
   ]
  },
  {
   "cell_type": "code",
   "execution_count": 29,
   "metadata": {},
   "outputs": [],
   "source": [
    "class DropCols(TransformerMixin):\n",
    "\n",
    "    def __init__(self, drop_cols):\n",
    "        self._drop_cols = drop_cols\n",
    "        \n",
    "    def transform(self, df, **transform_params):\n",
    "        df = df.drop(self._drop_cols, axis=1)\n",
    "        gc.collect()\n",
    "        return df\n",
    "\n",
    "    def fit(self, X, y=None, **fit_params):\n",
    "        return self"
   ]
  },
  {
   "cell_type": "code",
   "execution_count": 30,
   "metadata": {
    "scrolled": true
   },
   "outputs": [],
   "source": [
    "class MarkNaNs(TransformerMixin):\n",
    "        \n",
    "    def transform(self, df, **transform_params):\n",
    "        for col in  df.columns[df.isna().any()].tolist():\n",
    "            df['_' + col + '_nan' ] = df[col].isnull()\n",
    "        return df\n",
    "\n",
    "    def fit(self, X, y=None, **fit_params):\n",
    "        return self"
   ]
  },
  {
   "cell_type": "code",
   "execution_count": 31,
   "metadata": {
    "scrolled": true
   },
   "outputs": [],
   "source": [
    "class GC(TransformerMixin):\n",
    "        \n",
    "    def transform(self, df, **transform_params):\n",
    "        gc.collect()\n",
    "        return df\n",
    "\n",
    "    def fit(self, X, y=None, **fit_params):\n",
    "        return self"
   ]
  },
  {
   "cell_type": "code",
   "execution_count": 32,
   "metadata": {},
   "outputs": [
    {
     "name": "stdout",
     "output_type": "stream",
     "text": [
      "    building_id  meter           timestamp  meter_reading  site_id  \\\n",
      "0           801      2 2016-09-27 17:00:00      30.090000        7   \n",
      "1           709      0 2016-06-26 23:00:00       6.300000        5   \n",
      "2            83      0 2016-08-11 14:00:00       7.951800        0   \n",
      "3           892      0 2016-03-15 23:00:00     149.000000        9   \n",
      "4          1295      1 2016-12-10 07:00:00     183.733002       14   \n",
      "5          1269      1 2016-12-09 13:00:00       1.341000       14   \n",
      "6           545      0 2016-01-02 23:00:00      59.619999        3   \n",
      "7          1370      0 2016-08-03 08:00:00      16.200001       15   \n",
      "8           920      1 2016-08-09 11:00:00     410.522003        9   \n",
      "9          1348      2 2016-05-14 19:00:00    1999.540039       15   \n",
      "10          203      1 2016-01-21 21:00:00     463.731995        2   \n",
      "11           61      0 2016-01-17 13:00:00       0.000000        0   \n",
      "12          532      0 2016-11-27 21:00:00     113.949997        3   \n",
      "13          216      1 2016-01-31 07:00:00     156.358994        2   \n",
      "14          228      0 2016-09-29 18:00:00      47.650002        2   \n",
      "15          506      0 2016-08-14 19:00:00     416.649994        3   \n",
      "16          358      0 2016-11-14 11:00:00      85.379997        3   \n",
      "17          777      1 2016-02-23 06:00:00       0.000000        6   \n",
      "18         1085      2 2016-06-03 18:00:00      78.125000       13   \n",
      "19          126      0 2016-05-19 06:00:00     131.199997        1   \n",
      "\n",
      "                      primary_use  square_feet  year_built  floor_count  \\\n",
      "0                       Education     484376.0      1952.0          5.0   \n",
      "1                       Education      23067.0      1976.0          2.0   \n",
      "2                           Other       2070.0      1996.0          NaN   \n",
      "3                        Services     481999.0         NaN          NaN   \n",
      "4                          Office     115676.0         NaN          NaN   \n",
      "5                      Healthcare      56388.0         NaN          NaN   \n",
      "6                       Education      21903.0      1931.0          NaN   \n",
      "7                       Education       4773.0         NaN          NaN   \n",
      "8                       Education      85623.0         NaN          NaN   \n",
      "9                       Education     131271.0      2010.0          NaN   \n",
      "10            Lodging/residential      63348.0      2007.0          NaN   \n",
      "11            Lodging/residential      38686.0      2001.0          NaN   \n",
      "12  Entertainment/public assembly       7133.0         NaN          NaN   \n",
      "13                      Education     137065.0      1964.0          NaN   \n",
      "14            Lodging/residential      49108.0      1951.0          NaN   \n",
      "15                          Other      34400.0         NaN          NaN   \n",
      "16                      Education      77700.0         NaN          NaN   \n",
      "17            Lodging/residential     105791.0         NaN          NaN   \n",
      "18                      Education      58377.0         NaN          NaN   \n",
      "19                      Education      21539.0      2004.0          5.0   \n",
      "\n",
      "    air_temperature  ...  wind_speed_h_d_50%  wind_speed_h_d_75%  \\\n",
      "0         16.906250  ...            3.599609            4.601562   \n",
      "1         14.000000  ...            4.101562            6.199219   \n",
      "2         32.187500  ...            4.101562            5.699219   \n",
      "3         20.593750  ...            2.099609            3.099609   \n",
      "4         -2.199219  ...            3.099609            4.101562   \n",
      "5          2.800781  ...            4.101562            5.699219   \n",
      "6          3.300781  ...            3.099609            4.601562   \n",
      "7         20.593750  ...            3.475586            5.101562   \n",
      "8         34.406250  ...            2.599609            3.599609   \n",
      "9          7.800781  ...            2.599609            4.101562   \n",
      "10        12.203125  ...            2.099609            3.099609   \n",
      "11        17.203125  ...            4.101562            5.699219   \n",
      "12         4.398438  ...            3.099609            4.101562   \n",
      "13        12.203125  ...            2.599609            4.101562   \n",
      "14        32.187500  ...            2.599609            4.101562   \n",
      "15        30.000000  ...            3.599609            4.601562   \n",
      "16        11.703125  ...            4.101562            5.699219   \n",
      "17         4.398438  ...            1.500000            2.599609   \n",
      "18        20.000000  ...            4.101562            5.101562   \n",
      "19        10.796875  ...            3.099609            4.601562   \n",
      "\n",
      "    wind_speed_h_d_max  relative_humidity_h_d_mean  relative_humidity_h_d_std  \\\n",
      "0             9.296875                   64.500000                  20.968750   \n",
      "1            10.796875                   88.187500                   9.890625   \n",
      "2            10.796875                   53.687500                  16.703125   \n",
      "3             5.699219                   73.937500                  16.734375   \n",
      "4             9.796875                   73.750000                  15.445312   \n",
      "5             9.796875                   53.437500                  18.984375   \n",
      "6             9.796875                   71.312500                  16.984375   \n",
      "7            11.796875                   74.937500                  14.867188   \n",
      "8             8.203125                   55.218750                  18.640625   \n",
      "9            11.296875                   77.750000                  14.250000   \n",
      "10           12.398438                   32.468750                  19.000000   \n",
      "11           11.796875                   55.187500                  15.195312   \n",
      "12           11.796875                   68.500000                  17.609375   \n",
      "13            7.699219                   36.718750                  19.453125   \n",
      "14            9.296875                   25.828125                  17.812500   \n",
      "15           13.898438                   64.000000                  18.734375   \n",
      "16           14.398438                   56.343750                  17.937500   \n",
      "17            7.199219                   77.000000                  14.945312   \n",
      "18           11.796875                   61.906250                  18.125000   \n",
      "19           13.398438                   87.812500                   8.882812   \n",
      "\n",
      "    relative_humidity_h_d_min  relative_humidity_h_d_25%  \\\n",
      "0                   15.750000                  47.718750   \n",
      "1                   52.281250                  81.812500   \n",
      "2                   13.906250                  43.875000   \n",
      "3                   20.671875                  64.984375   \n",
      "4                   44.375000                  60.250000   \n",
      "5                   20.937500                  40.343750   \n",
      "6                   37.562500                  58.875000   \n",
      "7                   28.562500                  64.921875   \n",
      "8                   13.632812                  42.171875   \n",
      "9                   37.250000                  69.750000   \n",
      "10                   6.269531                  17.406250   \n",
      "11                  21.015625                  46.718750   \n",
      "12                  24.375000                  55.031250   \n",
      "13                   9.203125                  23.359375   \n",
      "14                   3.302734                  12.914062   \n",
      "15                  22.125000                  50.156250   \n",
      "16                  21.031250                  41.562500   \n",
      "17                  36.531250                  67.750000   \n",
      "18                  24.171875                  48.062500   \n",
      "19                  56.687500                  82.312500   \n",
      "\n",
      "    relative_humidity_h_d_50%  relative_humidity_h_d_75%  \\\n",
      "0                   66.031250                  80.031250   \n",
      "1                   88.062500                  93.687500   \n",
      "2                   52.640625                  60.296875   \n",
      "3                   76.406250                  86.718750   \n",
      "4                   73.937500                  88.562500   \n",
      "5                   48.281250                  65.625000   \n",
      "6                   73.125000                  86.687500   \n",
      "7                   75.687500                  87.218750   \n",
      "8                   52.781250                  67.453125   \n",
      "9                   78.812500                  88.812500   \n",
      "10                  26.265625                  41.750000   \n",
      "11                  54.781250                  62.218750   \n",
      "12                  70.062500                  81.562500   \n",
      "13                  33.625000                  45.718750   \n",
      "14                  20.015625                  31.781250   \n",
      "15                  63.437500                  77.125000   \n",
      "16                  54.781250                  68.750000   \n",
      "17                  79.218750                  89.609375   \n",
      "18                  61.625000                  74.687500   \n",
      "19                  88.593750                  94.812500   \n",
      "\n",
      "    relative_humidity_h_d_max  \n",
      "0                    100.8750  \n",
      "1                    114.4375  \n",
      "2                     97.0000  \n",
      "3                    100.0000  \n",
      "4                    100.0000  \n",
      "5                     97.0000  \n",
      "6                    100.0000  \n",
      "7                    100.0000  \n",
      "8                    100.0000  \n",
      "9                    100.0000  \n",
      "10                    90.3750  \n",
      "11                   100.0000  \n",
      "12                   100.0000  \n",
      "13                    93.0000  \n",
      "14                    92.8750  \n",
      "15                   100.0000  \n",
      "16                    97.0000  \n",
      "17                   100.0000  \n",
      "18                   100.0000  \n",
      "19                   113.1875  \n",
      "\n"
     ]
    },
    {
     "name": "stdout",
     "output_type": "stream",
     "text": [
      "[20 rows x 102 columns]\n"
     ]
    }
   ],
   "source": [
    "class MergeWeatherDescHDOW(TransformerMixin):\n",
    "    def transform(self, df, **transform_params):\n",
    "        desc_h_dow_df = pd.read_csv('weather_desc_h_dow.csv', index_col=0, dtype={'building_id': np.int16, 'meter': np.int8, 'meter_h_d_mean':np.float32,\n",
    "                                                     'meter_h_d_std':np.float32, 'meter_h_d_min':np.float32,\n",
    "                                                     'meter_h_d_25%':np.float32, 'meter_h_d_50%':np.float32,\n",
    "                                                     'meter_h_d_75%':np.float32, 'meter_h_d_max':np.float32 })\n",
    "        mrgCols = ['site_id', 'dayofweek','hour']\n",
    "        dropCols = list(x for x in desc_h_dow_df.columns if x not in mrgCols)\n",
    "        df.drop(mrgCols, errors='ignore')\n",
    "        df = df.merge(desc_h_dow_df, on=mrgCols, how='left')\n",
    "        \n",
    "        del desc_h_dow_df\n",
    "        gc.collect()\n",
    "        return df\n",
    "\n",
    "    def fit(self, X, y=None, **fit_params):\n",
    "        return self\n",
    "\n",
    "print(MergeWeatherDescHDOW().transform(AddTimeFeatures().transform(ConvertToDatetime().transform(train.sample(20)))))"
   ]
  },
  {
   "cell_type": "code",
   "execution_count": 33,
   "metadata": {},
   "outputs": [
    {
     "name": "stdout",
     "output_type": "stream",
     "text": [
      "    building_id  meter           timestamp  meter_reading  site_id  \\\n",
      "0          1140      0 2016-07-07 12:00:00     599.145020       13   \n",
      "1          1291      0 2016-03-05 22:00:00     487.903015       14   \n",
      "2           951      2 2016-02-13 08:00:00     158.600006        9   \n",
      "3          1193      1 2016-03-03 19:00:00      80.967598       13   \n",
      "4          1242      0 2016-09-25 03:00:00       9.000000       14   \n",
      "5           118      0 2016-04-12 01:00:00     232.000000        1   \n",
      "6           443      0 2016-09-18 11:00:00      82.250000        3   \n",
      "7           650      0 2016-05-01 08:00:00     123.500000        4   \n",
      "8          1332      0 2016-01-22 15:00:00      76.199997       15   \n",
      "9          1052      0 2016-04-17 13:00:00      26.017500       12   \n",
      "10         1009      3 2016-05-25 18:00:00       8.357900       10   \n",
      "11           16      0 2016-01-22 11:00:00       0.000000        0   \n",
      "12          191      0 2016-07-02 03:00:00      45.029999        2   \n",
      "13         1101      1 2016-05-19 08:00:00      27.572300       13   \n",
      "14         1322      3 2016-03-26 23:00:00     817.914001       14   \n",
      "15         1125      0 2016-08-20 16:00:00      31.013000       13   \n",
      "16         1440      0 2016-07-19 17:00:00     279.049988       15   \n",
      "17         1050      0 2016-01-29 23:00:00      20.719999       12   \n",
      "18          446      0 2016-07-04 13:00:00     259.549988        3   \n",
      "19           72      0 2016-12-25 03:00:00     218.419006        0   \n",
      "\n",
      "                      primary_use  square_feet  year_built  floor_count  \\\n",
      "0                       Education     156483.0         NaN          NaN   \n",
      "1                          Office     237546.0         NaN          NaN   \n",
      "2                          Office     103924.0         NaN          NaN   \n",
      "3                          Office     106511.0         NaN          NaN   \n",
      "4                          Office      23871.0         NaN          NaN   \n",
      "5                       Education     138316.0      1960.0          8.0   \n",
      "6                       Education     109000.0      1940.0          NaN   \n",
      "7                       Education      75228.0      1993.0          4.0   \n",
      "8                       Education      47398.0      1912.0          NaN   \n",
      "9                          Retail      45305.0         NaN          2.0   \n",
      "10                      Education      21892.0         NaN          2.0   \n",
      "11                      Education      54644.0      1996.0          NaN   \n",
      "12                      Education      78268.0      1964.0          NaN   \n",
      "13                         Office      71936.0         NaN          NaN   \n",
      "14  Entertainment/public assembly     166489.0         NaN          NaN   \n",
      "15                        Parking     271492.0         NaN          NaN   \n",
      "16            Lodging/residential     150294.0      1987.0          NaN   \n",
      "17                         Office      50493.0         NaN          2.0   \n",
      "18                Public services      43992.0         NaN          NaN   \n",
      "19                        Parking     387638.0      2002.0          NaN   \n",
      "\n",
      "    air_temperature  ...  relative_humidity_rmin_72  dayofweek  hour  \\\n",
      "0         27.203125  ...                  30.390625          3    12   \n",
      "1         -1.099609  ...                  31.687500          5    22   \n",
      "2         13.898438  ...                  20.000000          5     8   \n",
      "3         -0.600098  ...                  23.375000          3    19   \n",
      "4          9.398438  ...                  26.906250          6     3   \n",
      "5          9.101562  ...                  35.000000          1     1   \n",
      "6         28.906250  ...                  40.625000          6    11   \n",
      "7         19.406250  ...                  22.125000          6     8   \n",
      "8         -6.101562  ...                  51.937500          4    15   \n",
      "9          9.898438  ...                  48.718750          6    13   \n",
      "10        16.093750  ...                  27.562500          2    18   \n",
      "11        20.000000  ...                  19.718750          4    11   \n",
      "12        27.796875  ...                  20.796875          5     3   \n",
      "13        16.703125  ...                  23.125000          3     8   \n",
      "14         4.398438  ...                  39.531250          5    23   \n",
      "15        17.203125  ...                  56.687500          5    16   \n",
      "16        22.796875  ...                  39.562500          1    17   \n",
      "17         6.300781  ...                  63.562500          4    23   \n",
      "18        22.203125  ...                  37.718750          0    13   \n",
      "19        18.296875  ...                  41.531250          6     3   \n",
      "\n",
      "    meter_h_d_mean  meter_h_d_std  meter_h_d_min  meter_h_d_25%  \\\n",
      "0         6.386355       0.086603       6.175711       6.347011   \n",
      "1         5.853988       1.448042       0.000000       6.177639   \n",
      "2         4.625206       1.020126       0.000000       4.458988   \n",
      "3         3.637672       1.048894       0.847069       2.751161   \n",
      "4         2.530383       0.280144       2.197225       2.302585   \n",
      "5         5.524602       0.100385       5.384495       5.440901   \n",
      "6         4.024319       0.727268       2.093098       4.028605   \n",
      "7         4.549706       0.132212       4.324132       4.469487   \n",
      "8         4.373085       0.399893       3.623007       4.086396   \n",
      "9         3.979790       0.735164       2.978077       3.365225   \n",
      "10        1.984013       0.821286       0.765654       1.220240   \n",
      "11        6.985188       1.261395       0.000000       7.142045   \n",
      "12        3.625473       0.763327       0.000000       3.566147   \n",
      "13        1.907247       1.748586       0.000000       0.000000   \n",
      "14        6.289840       1.335970       3.420477       5.249694   \n",
      "15        4.025898       0.709821       1.098612       3.546192   \n",
      "16        5.646325       0.125090       5.121132       5.628066   \n",
      "17        3.004441       0.051293       2.896740       2.965917   \n",
      "18        5.455588       0.220148       5.088707       5.285093   \n",
      "19        5.371640       0.030582       5.323424       5.349699   \n",
      "\n",
      "    meter_h_d_50%  meter_h_d_75%  meter_h_d_max  \n",
      "0        6.370045       6.399023       6.632891  \n",
      "1        6.200371       6.225649       6.280534  \n",
      "2        4.734882       5.072671       5.781669  \n",
      "3        4.236122       4.493431       5.072690  \n",
      "4        2.441401       2.708050       3.332205  \n",
      "5        5.503293       5.597865       5.775793  \n",
      "6        4.216020       4.355123       4.857950  \n",
      "7        4.519053       4.587888       5.128418  \n",
      "8        4.187000       4.751000       5.299941  \n",
      "9        3.626956       4.785463       5.132334  \n",
      "10       1.831768       2.765903       4.181684  \n",
      "11       7.160023       7.199947       7.654107  \n",
      "12       3.685624       3.897112       4.342896  \n",
      "13       1.756098       3.799302       4.280315  \n",
      "14       6.707979       7.414844       7.950679  \n",
      "15       3.840420       4.673231       5.107078  \n",
      "16       5.676411       5.706465       5.836782  \n",
      "17       3.003080       3.026262       3.119497  \n",
      "18       5.374949       5.643757       5.944582  \n",
      "19       5.371351       5.395639       5.426134  \n",
      "\n",
      "[20 rows x 74 columns]\n"
     ]
    }
   ],
   "source": [
    "class MergeDescHDOW(TransformerMixin):\n",
    "    def transform(self, df, **transform_params):\n",
    "        desc_h_dow_df = pd.read_csv('desc_h_dow.csv', index_col=0, dtype={'building_id': np.int16, 'meter': np.int8, 'meter_h_d_mean':np.float32,\n",
    "                                                     'meter_h_d_std':np.float32, 'meter_h_d_min':np.float32,\n",
    "                                                     'meter_h_d_25%':np.float32, 'meter_h_d_50%':np.float32,\n",
    "                                                     'meter_h_d_75%':np.float32, 'meter_h_d_max':np.float32 })\n",
    "        desc_h_dow_df = desc_h_dow_df.dropna(axis=1)\n",
    "        mrgCols = ['building_id', 'meter', 'dayofweek','hour']\n",
    "        dropCols = list(x for x in desc_h_dow_df.columns if x not in mrgCols)\n",
    "        df.drop(mrgCols, errors='ignore')\n",
    "        df = df.merge(desc_h_dow_df, on=mrgCols, how='left')\n",
    "        \n",
    "        del desc_h_dow_df\n",
    "        gc.collect()\n",
    "        return df\n",
    "\n",
    "    def fit(self, X, y=None, **fit_params):\n",
    "        return self\n",
    "\n",
    "print(MergeDescHDOW().transform(AddTimeFeatures().transform(ConvertToDatetime().transform(train.sample(20)))))"
   ]
  },
  {
   "cell_type": "code",
   "execution_count": 34,
   "metadata": {
    "scrolled": true
   },
   "outputs": [],
   "source": [
    "# declare model\n",
    "from sklearn.model_selection import cross_val_score\n",
    "from sklearn.metrics import make_scorer, mean_squared_log_error, mean_squared_error\n",
    "from lightgbm import LGBMRegressor\n",
    "\n",
    "\n",
    "def rmsle(y, y_pred):\n",
    "    # hack to prevent negative numbers\n",
    "    return np.sqrt(mean_squared_log_error(y, y_pred))\n",
    "\n",
    "def rmse(y, y_pred):\n",
    "    # hack to prevent negative numbers\n",
    "    return mean_squared_error(y, y_pred.clip(0))\n",
    "\n",
    "def rmsee(y, y_pred):\n",
    "    # hack to prevent negative numbers\n",
    "    return np.sqrt(mean_squared_log_error(np.expm1(y.clip(0)), np.expm1(y_pred.clip(0))))\n",
    "    \n",
    "rmsle_scorer = make_scorer(\n",
    "    lambda y_true, y_pred : rmsle(y_true, y_pred), \n",
    "    greater_is_better=False)\n",
    "\n",
    "rmse_scorer = make_scorer(\n",
    "    lambda y_true, y_pred : rmsle(y_true, y_pred), \n",
    "    greater_is_better=False)\n",
    "\n",
    "rmsee_scorer = make_scorer(\n",
    "    lambda y_true, y_pred : rmsee(y_true, y_pred), \n",
    "    greater_is_better=False)\n",
    "\n",
    "def lbm_rmsle(y_true, y_pred):\n",
    "    return 'RMSLE', np.sqrt(np.mean(np.power(np.log1p(y_pred) - np.log1p(y_true), 2))), False\n",
    "\n",
    "# rob's custome function to do RMSLE while in the log1p space\n",
    "def lbm_rmslee(y_true, y_pred):\n",
    "    return 'RMSLEE', np.sqrt(np.mean(np.power(y_pred - y_true, 2))), False\n",
    "\n"
   ]
  },
  {
   "cell_type": "code",
   "execution_count": 35,
   "metadata": {},
   "outputs": [],
   "source": [
    "pd.options.display.max_seq_items = 2000"
   ]
  },
  {
   "cell_type": "code",
   "execution_count": 36,
   "metadata": {},
   "outputs": [
    {
     "name": "stdout",
     "output_type": "stream",
     "text": [
      "Index(['building_id', 'meter', 'timestamp', 'site_id', 'primary_use',\n",
      "       'square_feet', 'year_built', 'floor_count', 'air_temperature',\n",
      "       'dew_temperature', 'cloud_coverage', 'precip_depth_1_hr',\n",
      "       'wind_direction', 'wind_speed', 'sea_level_pressure',\n",
      "       'relative_humidity', 'air_temperature_rmean_3',\n",
      "       'air_temperature_rmax_3', 'air_temperature_rmin_3',\n",
      "       'cloud_coverage_rmean_3', 'cloud_coverage_rmax_3',\n",
      "       'cloud_coverage_rmin_3', 'dew_temperature_rmean_3',\n",
      "       'dew_temperature_rmax_3', 'dew_temperature_rmin_3',\n",
      "       'precip_depth_1_hr_rmean_3', 'precip_depth_1_hr_rmax_3',\n",
      "       'precip_depth_1_hr_rmin_3', 'sea_level_pressure_rmean_3',\n",
      "       'sea_level_pressure_rmax_3', 'sea_level_pressure_rmin_3',\n",
      "       'wind_direction_rmean_3', 'wind_direction_rmax_3',\n",
      "       'wind_direction_rmin_3', 'wind_speed_rmean_3', 'wind_speed_rmax_3',\n",
      "       'wind_speed_rmin_3', 'relative_humidity_rmean_3',\n",
      "       'relative_humidity_rmax_3', 'relative_humidity_rmin_3',\n",
      "       'air_temperature_rmean_72', 'air_temperature_rmax_72',\n",
      "       'air_temperature_rmin_72', 'cloud_coverage_rmean_72',\n",
      "       'cloud_coverage_rmax_72', 'cloud_coverage_rmin_72',\n",
      "       'dew_temperature_rmean_72', 'dew_temperature_rmax_72',\n",
      "       'dew_temperature_rmin_72', 'precip_depth_1_hr_rmean_72',\n",
      "       'precip_depth_1_hr_rmax_72', 'precip_depth_1_hr_rmin_72',\n",
      "       'sea_level_pressure_rmean_72', 'sea_level_pressure_rmax_72',\n",
      "       'sea_level_pressure_rmin_72', 'wind_direction_rmean_72',\n",
      "       'wind_direction_rmax_72', 'wind_direction_rmin_72',\n",
      "       'wind_speed_rmean_72', 'wind_speed_rmax_72', 'wind_speed_rmin_72',\n",
      "       'relative_humidity_rmean_72', 'relative_humidity_rmax_72',\n",
      "       'relative_humidity_rmin_72', 'meter_reading_log1p', 'dayofweek', 'hour',\n",
      "       'log_square_feet', 'meter_h_d_mean', 'meter_h_d_std', 'meter_h_d_min',\n",
      "       'meter_h_d_25%', 'meter_h_d_50%', 'meter_h_d_75%', 'meter_h_d_max'],\n",
      "      dtype='object')\n",
      "Wall time: 1min 10s\n"
     ]
    }
   ],
   "source": [
    "%%time\n",
    "x_pre_pipes = Pipeline(\n",
    "    steps=[\n",
    "        ('meterReadingLog1p',MeterReadingLog1p()),\n",
    "        ('rmS0M0', RmS0M0()),\n",
    "        ('rmBuilt2017', RmBuilt2017()),\n",
    "        ('RmEAOffeners', RmEAOffeners()),\n",
    "        ('addTimeFeatures', AddTimeFeatures()),\n",
    "        ('logSquareFeet', LogSquareFeet()),\n",
    "        #('rmHolidays', RmHolidays()),\n",
    "        #('addHolidays', AddHolidays()),\n",
    "        #('createMeterDescDF', CreateMeterDescDF()), # note declares a globe variable to pass\n",
    "        #('mergeMeterDescDF', MergeMeterDescDF()), # populates both test and train from global\n",
    "        ('mergeDescHDOW', MergeDescHDOW()),\n",
    "        #('mergeWeatherDescHDOW', MergeWeatherDescHDOW()),\n",
    "        ('GC', GC())\n",
    "    ]\n",
    ")\n",
    "\n",
    "train = x_pre_pipes.transform(merge(pre_train))\n",
    "print(train.columns)"
   ]
  },
  {
   "cell_type": "code",
   "execution_count": 37,
   "metadata": {},
   "outputs": [
    {
     "data": {
      "text/plain": [
       "building_id                    False\n",
       "meter                          False\n",
       "timestamp                      False\n",
       "site_id                        False\n",
       "primary_use                    False\n",
       "square_feet                    False\n",
       "year_built                      True\n",
       "floor_count                     True\n",
       "air_temperature                False\n",
       "dew_temperature                False\n",
       "cloud_coverage                 False\n",
       "precip_depth_1_hr              False\n",
       "wind_direction                 False\n",
       "wind_speed                     False\n",
       "sea_level_pressure             False\n",
       "relative_humidity              False\n",
       "air_temperature_rmean_3        False\n",
       "air_temperature_rmax_3         False\n",
       "air_temperature_rmin_3         False\n",
       "cloud_coverage_rmean_3         False\n",
       "cloud_coverage_rmax_3          False\n",
       "cloud_coverage_rmin_3          False\n",
       "dew_temperature_rmean_3        False\n",
       "dew_temperature_rmax_3         False\n",
       "dew_temperature_rmin_3         False\n",
       "precip_depth_1_hr_rmean_3      False\n",
       "precip_depth_1_hr_rmax_3       False\n",
       "precip_depth_1_hr_rmin_3       False\n",
       "sea_level_pressure_rmean_3     False\n",
       "sea_level_pressure_rmax_3      False\n",
       "                               ...  \n",
       "cloud_coverage_rmin_72         False\n",
       "dew_temperature_rmean_72       False\n",
       "dew_temperature_rmax_72        False\n",
       "dew_temperature_rmin_72        False\n",
       "precip_depth_1_hr_rmean_72     False\n",
       "precip_depth_1_hr_rmax_72      False\n",
       "precip_depth_1_hr_rmin_72      False\n",
       "sea_level_pressure_rmean_72    False\n",
       "sea_level_pressure_rmax_72     False\n",
       "sea_level_pressure_rmin_72     False\n",
       "wind_direction_rmean_72        False\n",
       "wind_direction_rmax_72         False\n",
       "wind_direction_rmin_72         False\n",
       "wind_speed_rmean_72            False\n",
       "wind_speed_rmax_72             False\n",
       "wind_speed_rmin_72             False\n",
       "relative_humidity_rmean_72     False\n",
       "relative_humidity_rmax_72      False\n",
       "relative_humidity_rmin_72      False\n",
       "meter_reading_log1p            False\n",
       "dayofweek                      False\n",
       "hour                           False\n",
       "log_square_feet                False\n",
       "meter_h_d_mean                 False\n",
       "meter_h_d_std                  False\n",
       "meter_h_d_min                  False\n",
       "meter_h_d_25%                  False\n",
       "meter_h_d_50%                  False\n",
       "meter_h_d_75%                  False\n",
       "meter_h_d_max                  False\n",
       "Length: 75, dtype: bool"
      ]
     },
     "execution_count": 37,
     "metadata": {},
     "output_type": "execute_result"
    }
   ],
   "source": [
    " train.isna().any()"
   ]
  },
  {
   "cell_type": "code",
   "execution_count": 38,
   "metadata": {},
   "outputs": [
    {
     "name": "stdout",
     "output_type": "stream",
     "text": [
      "Index(['building_id', 'floor_count', 'air_temperature', 'dew_temperature',\n",
      "       'cloud_coverage', 'precip_depth_1_hr', 'wind_direction', 'wind_speed',\n",
      "       'sea_level_pressure', 'relative_humidity', 'air_temperature_rmean_3',\n",
      "       'air_temperature_rmax_3', 'air_temperature_rmin_3',\n",
      "       'cloud_coverage_rmean_3', 'cloud_coverage_rmax_3',\n",
      "       'cloud_coverage_rmin_3', 'dew_temperature_rmean_3',\n",
      "       'dew_temperature_rmax_3', 'dew_temperature_rmin_3',\n",
      "       'precip_depth_1_hr_rmean_3', 'precip_depth_1_hr_rmax_3',\n",
      "       'precip_depth_1_hr_rmin_3', 'sea_level_pressure_rmean_3',\n",
      "       'sea_level_pressure_rmax_3', 'sea_level_pressure_rmin_3',\n",
      "       'wind_direction_rmean_3', 'wind_direction_rmax_3',\n",
      "       'wind_direction_rmin_3', 'wind_speed_rmean_3', 'wind_speed_rmax_3',\n",
      "       'wind_speed_rmin_3', 'relative_humidity_rmean_3',\n",
      "       'relative_humidity_rmax_3', 'relative_humidity_rmin_3',\n",
      "       'air_temperature_rmean_72', 'air_temperature_rmax_72',\n",
      "       'air_temperature_rmin_72', 'cloud_coverage_rmean_72',\n",
      "       'cloud_coverage_rmax_72', 'cloud_coverage_rmin_72',\n",
      "       'dew_temperature_rmean_72', 'dew_temperature_rmax_72',\n",
      "       'dew_temperature_rmin_72', 'precip_depth_1_hr_rmean_72',\n",
      "       'precip_depth_1_hr_rmax_72', 'precip_depth_1_hr_rmin_72',\n",
      "       'sea_level_pressure_rmean_72', 'sea_level_pressure_rmax_72',\n",
      "       'sea_level_pressure_rmin_72', 'wind_direction_rmean_72',\n",
      "       'wind_direction_rmax_72', 'wind_direction_rmin_72',\n",
      "       'wind_speed_rmean_72', 'wind_speed_rmax_72', 'wind_speed_rmin_72',\n",
      "       'relative_humidity_rmean_72', 'relative_humidity_rmax_72',\n",
      "       'relative_humidity_rmin_72', 'meter_reading_log1p', 'dayofweek', 'hour',\n",
      "       'log_square_feet', 'meter_h_d_mean', 'meter_h_d_std', 'meter_h_d_min',\n",
      "       'meter_h_d_25%', 'meter_h_d_50%', 'meter_h_d_75%', 'meter_h_d_max',\n",
      "       'building_age', 'site_id_0', 'site_id_2', 'site_id_4', 'site_id_5',\n",
      "       'site_id_6', 'site_id_8', 'site_id_13', 'site_id_14', 'site_id_15',\n",
      "       'meter_0', 'meter_1', 'meter_2', 'meter_3', 'primary_use_Education',\n",
      "       'primary_use_Lodging/residential', 'primary_use_Office',\n",
      "       'primary_use_Other', 'primary_use_Parking',\n",
      "       'primary_use_Public services', 'primary_use_Technology/science'],\n",
      "      dtype='object')\n",
      "(20, 90)\n",
      "building_id                          int16\n",
      "floor_count                        float16\n",
      "air_temperature                    float16\n",
      "dew_temperature                    float16\n",
      "cloud_coverage                     float16\n",
      "precip_depth_1_hr                  float16\n",
      "wind_direction                     float16\n",
      "wind_speed                         float16\n",
      "sea_level_pressure                 float16\n",
      "relative_humidity                  float16\n",
      "air_temperature_rmean_3            float16\n",
      "air_temperature_rmax_3             float16\n",
      "air_temperature_rmin_3             float16\n",
      "cloud_coverage_rmean_3             float16\n",
      "cloud_coverage_rmax_3              float16\n",
      "cloud_coverage_rmin_3              float16\n",
      "dew_temperature_rmean_3            float16\n",
      "dew_temperature_rmax_3             float16\n",
      "dew_temperature_rmin_3             float16\n",
      "precip_depth_1_hr_rmean_3          float16\n",
      "precip_depth_1_hr_rmax_3           float16\n",
      "precip_depth_1_hr_rmin_3           float16\n",
      "sea_level_pressure_rmean_3         float16\n",
      "sea_level_pressure_rmax_3          float16\n",
      "sea_level_pressure_rmin_3          float16\n",
      "wind_direction_rmean_3             float16\n",
      "wind_direction_rmax_3              float16\n",
      "wind_direction_rmin_3              float16\n",
      "wind_speed_rmean_3                 float16\n",
      "wind_speed_rmax_3                  float16\n",
      "                                    ...   \n",
      "hour                                 uint8\n",
      "log_square_feet                    float16\n",
      "meter_h_d_mean                     float32\n",
      "meter_h_d_std                      float32\n",
      "meter_h_d_min                      float32\n",
      "meter_h_d_25%                      float32\n",
      "meter_h_d_50%                      float32\n",
      "meter_h_d_75%                      float32\n",
      "meter_h_d_max                      float32\n",
      "building_age                         uint8\n",
      "site_id_0                            uint8\n",
      "site_id_2                            uint8\n",
      "site_id_4                            uint8\n",
      "site_id_5                            uint8\n",
      "site_id_6                            uint8\n",
      "site_id_8                            uint8\n",
      "site_id_13                           uint8\n",
      "site_id_14                           uint8\n",
      "site_id_15                           uint8\n",
      "meter_0                              uint8\n",
      "meter_1                              uint8\n",
      "meter_2                              uint8\n",
      "meter_3                              uint8\n",
      "primary_use_Education                uint8\n",
      "primary_use_Lodging/residential      uint8\n",
      "primary_use_Office                   uint8\n",
      "primary_use_Other                    uint8\n",
      "primary_use_Parking                  uint8\n",
      "primary_use_Public services          uint8\n",
      "primary_use_Technology/science       uint8\n",
      "Length: 90, dtype: object\n",
      "[]\n"
     ]
    }
   ],
   "source": [
    "# pre_a_pipes is for preprocessing that doesn't change impute\n",
    "# values\n",
    "cat_cols = ['site_id', 'meter', 'primary_use']\n",
    "\n",
    "x_fold_pipes = Pipeline(\n",
    "    steps=[\n",
    "        #('markNans',MarkNaNs()),\n",
    "        #('convertToDatetime', ConvertToDatetime()),\n",
    "        ('imputeYearBuilt', ImputeYearBuilt()),\n",
    "        ('imputeFloorCount', ImputeFloorCount()),\n",
    "        ('dropCols', DropCols(['timestamp','square_feet', 'year_built'])),\n",
    "        ('getDummies', GetDummies(cat_cols)),\n",
    "        ('GC', GC())\n",
    "    ]\n",
    ")\n",
    "\n",
    "sample_train_X = x_fold_pipes.transform(train.sample(20))\n",
    "print(sample_train_X.columns)\n",
    "print(sample_train_X.shape)\n",
    "print(sample_train_X.dtypes)\n",
    "nans = sample_train_X.isna().any()\n",
    "print(nans[nans==True].index.tolist())"
   ]
  },
  {
   "cell_type": "code",
   "execution_count": 39,
   "metadata": {},
   "outputs": [],
   "source": [
    "# this stratified strategy from\n",
    "# https://www.kaggle.com/isaienkov/lightgbm-fe-1-19/notebook\n",
    "# trying no shuffle https://www.kaggle.com/c/ashrae-energy-prediction/discussion/115851#latest-666115\n",
    "folds = 2\n",
    "kf = StratifiedKFold(n_splits=folds, shuffle=False, random_state=42)\n"
   ]
  },
  {
   "cell_type": "code",
   "execution_count": 100,
   "metadata": {
    "scrolled": true
   },
   "outputs": [],
   "source": [
    "\n",
    "def cvFitScore(train, n_estimators):\n",
    "    models_p = []\n",
    "\n",
    "    for train_index, val_index in kf.split(train, train['building_id']):\n",
    "        print('starting fold')\n",
    "        f_train = x_fold_pipes.transform(train.loc[train_index].drop('building_id', axis=1))\n",
    "        f_train_x = f_train.drop('meter_reading_log1p', axis=1)\n",
    "        \n",
    "        feature_cols = list(x for x in f_train_x.columns if x not in cat_cols)\n",
    "        scaler_x = MinMaxScaler()\n",
    "        scaler_y = MinMaxScaler()\n",
    "        f_train_x[feature_cols]= scaler_x.fit_transform(f_train_x[feature_cols])\n",
    "        \n",
    "        f_train_y = scaler_y.fit_transform(f_train['meter_reading_log1p'].values.reshape(-1, 1))\n",
    "        #print(f_train_y)\n",
    "        \n",
    "        f_val = x_fold_pipes.transform(train.loc[train_index].drop('building_id', axis=1))\n",
    "        f_val_x = f_val.drop('meter_reading_log1p', axis=1)\n",
    "        f_val_x[feature_cols] = scaler_x.transform(f_val_x[feature_cols])\n",
    "        f_val_y = scaler_y.transform(f_val['meter_reading_log1p'].values.reshape(-1, 1))\n",
    "        \n",
    "        lin_reg = LinearRegression()\n",
    "        lin_reg.fit(f_train_x, f_train_y)\n",
    "        \n",
    "        score = rmsle(\n",
    "            scaler_y.inverse_transform(f_val_y), \n",
    "            scaler_y.inverse_transform(lin_reg.predict(f_val_x)).clip(0)\n",
    "        )\n",
    "        \n",
    "        models_p.append({'model':lin_reg, 'score':score, 'scaler_x':scaler_x, 'scaler_y':scaler_y})        \n",
    "        del f_train, f_val\n",
    "        gc.collect()\n",
    "    return models_p"
   ]
  },
  {
   "cell_type": "code",
   "execution_count": 101,
   "metadata": {
    "scrolled": false
   },
   "outputs": [
    {
     "name": "stdout",
     "output_type": "stream",
     "text": [
      "starting fold\n",
      "[[0.35438445]\n",
      " [0.3536773 ]\n",
      " [0.35285667]\n",
      " ...\n",
      " [0.        ]\n",
      " [0.30052522]\n",
      " [0.07976945]]\n",
      "starting fold\n",
      "[[0.18876964]\n",
      " [0.01882374]\n",
      " [0.        ]\n",
      " ...\n",
      " [0.22758782]\n",
      " [0.22744872]\n",
      " [0.22692734]]\n",
      "0.3736899658357409\n",
      "Wall time: 16min 54s\n"
     ]
    }
   ],
   "source": [
    "%%time\n",
    "model_ps = cvFitScore(train, n_estimators= 10)\n",
    "print(np.sum(mp['score'] for mp in  model_ps)/len(model_ps))"
   ]
  },
  {
   "cell_type": "code",
   "execution_count": 42,
   "metadata": {},
   "outputs": [
    {
     "name": "stdout",
     "output_type": "stream",
     "text": [
      "[{'model': LinearRegression(copy_X=True, fit_intercept=True, n_jobs=None, normalize=False), 'score': 0.38305382561172324, 'scaler_x': MinMaxScaler(copy=True, feature_range=(0, 1)), 'scaler_y': MinMaxScaler(copy=True, feature_range=(0, 1))}, {'model': LinearRegression(copy_X=True, fit_intercept=True, n_jobs=None, normalize=False), 'score': 0.36432586156551927, 'scaler_x': MinMaxScaler(copy=True, feature_range=(0, 1)), 'scaler_y': MinMaxScaler(copy=True, feature_range=(0, 1))}]\n"
     ]
    }
   ],
   "source": [
    "print(model_ps)"
   ]
  },
  {
   "cell_type": "code",
   "execution_count": 43,
   "metadata": {},
   "outputs": [
    {
     "ename": "TypeError",
     "evalue": "exceptions must derive from BaseException",
     "output_type": "error",
     "traceback": [
      "\u001b[1;31m---------------------------------------------------------------------------\u001b[0m",
      "\u001b[1;31mTypeError\u001b[0m                                 Traceback (most recent call last)",
      "\u001b[1;32m<ipython-input-43-1735f87b1a56>\u001b[0m in \u001b[0;36m<module>\u001b[1;34m\u001b[0m\n\u001b[1;32m----> 1\u001b[1;33m \u001b[1;32mraise\u001b[0m\u001b[1;33m(\u001b[0m\u001b[1;34m\"error\"\u001b[0m\u001b[1;33m)\u001b[0m\u001b[1;33m\u001b[0m\u001b[1;33m\u001b[0m\u001b[0m\n\u001b[0m",
      "\u001b[1;31mTypeError\u001b[0m: exceptions must derive from BaseException"
     ]
    }
   ],
   "source": [
    "raise(\"error\")"
   ]
  },
  {
   "cell_type": "raw",
   "metadata": {},
   "source": []
  },
  {
   "cell_type": "code",
   "execution_count": null,
   "metadata": {
    "scrolled": true
   },
   "outputs": [],
   "source": [
    "# %%time\n",
    "# ## Single fit single model\n",
    "\n",
    "# gbm = LGBMRegressor(**gbm_params)\n",
    "# f_train_X, f_train_y = getInFoldXY(train.index)\n",
    "# gbm.fit(f_train_X, f_train_y)"
   ]
  },
  {
   "cell_type": "code",
   "execution_count": 102,
   "metadata": {
    "scrolled": true
   },
   "outputs": [
    {
     "name": "stdout",
     "output_type": "stream",
     "text": [
      "(41697600, 4)\n",
      "(41697600, 65)\n",
      "(41697600, 75)\n",
      "(41697600, 106)\n",
      "(41697600, 105)\n"
     ]
    }
   ],
   "source": [
    "#del train\n",
    "#gc.collect()\n",
    "test = loadFile('test')\n",
    "print(test.shape)\n",
    "test = merge(test)\n",
    "print(test.shape)\n",
    "test = x_pre_pipes.transform(test)\n",
    "print(test.shape)\n",
    "test = x_fold_pipes.transform(test)\n",
    "print(test.shape)\n",
    "test = test.drop('row_id', axis=1)\n",
    "\n",
    "\n",
    "\n",
    "#print(test.sample(n=20,  random_state=42))\n",
    "print(test.shape)\n",
    "#print(test.dtypes)"
   ]
  },
  {
   "cell_type": "code",
   "execution_count": 103,
   "metadata": {},
   "outputs": [
    {
     "name": "stdout",
     "output_type": "stream",
     "text": [
      "Empty DataFrame\n",
      "Columns: [building_id, floor_count, air_temperature, dew_temperature, cloud_coverage, precip_depth_1_hr, wind_direction, wind_speed, sea_level_pressure, relative_humidity, air_temperature_rmean_3, air_temperature_rmax_3, air_temperature_rmin_3, cloud_coverage_rmean_3, cloud_coverage_rmax_3, cloud_coverage_rmin_3, dew_temperature_rmean_3, dew_temperature_rmax_3, dew_temperature_rmin_3, precip_depth_1_hr_rmean_3, precip_depth_1_hr_rmax_3, precip_depth_1_hr_rmin_3, sea_level_pressure_rmean_3, sea_level_pressure_rmax_3, sea_level_pressure_rmin_3, wind_direction_rmean_3, wind_direction_rmax_3, wind_direction_rmin_3, wind_speed_rmean_3, wind_speed_rmax_3, wind_speed_rmin_3, relative_humidity_rmean_3, relative_humidity_rmax_3, relative_humidity_rmin_3, air_temperature_rmean_72, air_temperature_rmax_72, air_temperature_rmin_72, cloud_coverage_rmean_72, cloud_coverage_rmax_72, cloud_coverage_rmin_72, dew_temperature_rmean_72, dew_temperature_rmax_72, dew_temperature_rmin_72, precip_depth_1_hr_rmean_72, precip_depth_1_hr_rmax_72, precip_depth_1_hr_rmin_72, sea_level_pressure_rmean_72, sea_level_pressure_rmax_72, sea_level_pressure_rmin_72, wind_direction_rmean_72, wind_direction_rmax_72, wind_direction_rmin_72, wind_speed_rmean_72, wind_speed_rmax_72, wind_speed_rmin_72, relative_humidity_rmean_72, relative_humidity_rmax_72, relative_humidity_rmin_72, dayofweek, hour, log_square_feet, meter_h_d_mean, meter_h_d_std, meter_h_d_min, meter_h_d_25%, meter_h_d_50%, meter_h_d_75%, meter_h_d_max, building_age, site_id_0, site_id_1, site_id_2, site_id_3, site_id_4, site_id_5, site_id_6, site_id_7, site_id_8, site_id_9, site_id_10, site_id_11, site_id_12, site_id_13, site_id_14, site_id_15, meter_0, meter_1, meter_2, meter_3, primary_use_Education, primary_use_Entertainment/public assembly, primary_use_Food sales and service, primary_use_Healthcare, primary_use_Lodging/residential, primary_use_Manufacturing/industrial, primary_use_Office, primary_use_Other, primary_use_Parking, primary_use_Public services, primary_use_Religious worship, primary_use_Retail, primary_use_Services, primary_use_Technology/science, primary_use_Utility, primary_use_Warehouse/storage]\n",
      "Index: []\n",
      "\n",
      "[0 rows x 105 columns]\n"
     ]
    }
   ],
   "source": [
    "print(test[test.isna().any(axis=1)])\n",
    "\n"
   ]
  },
  {
   "cell_type": "code",
   "execution_count": 104,
   "metadata": {},
   "outputs": [
    {
     "name": "stdout",
     "output_type": "stream",
     "text": [
      "['meter_reading_log1p']\n",
      "[]\n",
      "[]\n"
     ]
    }
   ],
   "source": [
    "l1 =  x_fold_pipes.transform(train).columns.tolist()\n",
    "l2 =  test.columns.tolist()\n",
    "print(list(x for x in l1 if x not in l2))\n",
    "print(list(x for x in l2 if x not in l1))\n",
    "nans = test.isna().any()\n",
    "print(nans[nans==True].index.tolist())\n",
    "\n"
   ]
  },
  {
   "cell_type": "code",
   "execution_count": 109,
   "metadata": {},
   "outputs": [],
   "source": [
    "def mpkPredict(mpk, test_X):\n",
    "    pred = mpk['model'].predict(mpk['scaler_x'].transform(test_X.drop('building_id', axis=1)))\n",
    "    #print(pred)\n",
    "    print( mpk['scaler_y'].inverse_transform(pred))\n",
    "    return mpk['scaler_y'].inverse_transform(pred)"
   ]
  },
  {
   "cell_type": "code",
   "execution_count": 110,
   "metadata": {
    "scrolled": false
   },
   "outputs": [
    {
     "name": "stdout",
     "output_type": "stream",
     "text": [
      "[[4.67291706]\n",
      " [3.10923964]\n",
      " [5.20347983]\n",
      " [1.0015581 ]\n",
      " [6.23485388]\n",
      " [3.11471933]\n",
      " [5.85591731]\n",
      " [8.27204084]\n",
      " [5.35410679]\n",
      " [5.66812517]\n",
      " [3.86073055]\n",
      " [6.73969434]\n",
      " [5.88196195]\n",
      " [4.86154728]\n",
      " [4.27112697]\n",
      " [4.29272339]\n",
      " [2.65597271]\n",
      " [4.29917008]\n",
      " [4.15698829]\n",
      " [5.02912904]]\n",
      "[[4.70938709]\n",
      " [2.68742619]\n",
      " [5.58965691]\n",
      " [1.09268871]\n",
      " [6.77564358]\n",
      " [2.51217819]\n",
      " [5.70390984]\n",
      " [7.96072757]\n",
      " [5.79346815]\n",
      " [5.32833235]\n",
      " [3.83766046]\n",
      " [6.8733582 ]\n",
      " [6.33101141]\n",
      " [4.40718423]\n",
      " [4.11542661]\n",
      " [4.36398476]\n",
      " [2.79935795]\n",
      " [4.79362606]\n",
      " [4.10788282]\n",
      " [5.09379791]]\n",
      "[[107.97865948409759], [17.143872748936445], [219.64793335562703], [1.8494426160310016], [667.6419585740026], [15.667300681153645], [322.7312107930801], [3347.889929857622], [262.42994478745175], [243.2589074446931], [45.95527265582099], [902.7260499160241], [447.75930718468635], [101.96259349058296], [65.23948863891218], [74.81939074098273], [14.297131575969276], [93.29216242468682], [61.32954516443162], [156.82131476175957]]\n"
     ]
    }
   ],
   "source": [
    "def predMeters(test_X):\n",
    "    #print(np.sum([mpkPredict(mpk, test_X) for mpk in model_ps], axis=0)/2)\n",
    "    preds = np.expm1(\n",
    "        np.sum([mpkPredict(mpk, test_X) for mpk in model_ps], axis=0)/folds)\n",
    "    #test_y['meter_reading_log1p'] = preds\n",
    "    return preds.tolist()\n",
    "    \n",
    "print(predMeters(test.sample(n=20,  random_state=42)))    \n"
   ]
  },
  {
   "cell_type": "code",
   "execution_count": 111,
   "metadata": {
    "scrolled": true
   },
   "outputs": [
    {
     "name": "stderr",
     "output_type": "stream",
     "text": [
      "\n",
      "  0%|                                                                                          | 0/834 [00:00<?, ?it/s]"
     ]
    },
    {
     "name": "stdout",
     "output_type": "stream",
     "text": [
      "[[5.26598051]\n",
      " [4.56187279]\n",
      " [2.25595546]\n",
      " ...\n",
      " [5.33989184]\n",
      " [6.06614394]\n",
      " [5.28867287]]\n",
      "[[5.50764239]\n",
      " [4.83934013]\n",
      " [2.50885763]\n",
      " ...\n",
      " [5.41421548]\n",
      " [6.13932182]\n",
      " [5.35631529]]\n"
     ]
    },
    {
     "name": "stderr",
     "output_type": "stream",
     "text": [
      "\n",
      "  0%|                                                                                  | 1/834 [00:00<04:14,  3.27it/s]"
     ]
    },
    {
     "name": "stdout",
     "output_type": "stream",
     "text": [
      "[[4.72233096]\n",
      " [4.89516678]\n",
      " [4.92488603]\n",
      " ...\n",
      " [4.691548  ]\n",
      " [7.52696439]\n",
      " [5.20667094]]\n",
      "[[4.7843414 ]\n",
      " [4.97216238]\n",
      " [4.98251091]\n",
      " ...\n",
      " [4.76248376]\n",
      " [7.60955456]\n",
      " [5.28655137]]\n"
     ]
    },
    {
     "name": "stderr",
     "output_type": "stream",
     "text": [
      "\n",
      "  0%|▏                                                                                 | 2/834 [00:00<03:59,  3.48it/s]"
     ]
    },
    {
     "name": "stdout",
     "output_type": "stream",
     "text": [
      "[[6.22160593]\n",
      " [3.89618735]\n",
      " [3.04760926]\n",
      " ...\n",
      " [5.59547095]\n",
      " [1.35599723]\n",
      " [2.83976791]]\n",
      "[[6.30199684]\n",
      " [3.96945108]\n",
      " [3.17264651]\n",
      " ...\n",
      " [5.336263  ]\n",
      " [1.40369266]\n",
      " [2.99643136]]\n"
     ]
    },
    {
     "name": "stderr",
     "output_type": "stream",
     "text": [
      "\n",
      "  0%|▎                                                                                 | 3/834 [00:00<03:50,  3.61it/s]"
     ]
    },
    {
     "name": "stdout",
     "output_type": "stream",
     "text": [
      "[[4.88849445]\n",
      " [4.39000398]\n",
      " [4.47542265]\n",
      " ...\n",
      " [6.13702532]\n",
      " [5.97495548]\n",
      " [5.71782916]]\n",
      "[[4.90172146]\n",
      " [4.5310442 ]\n",
      " [4.56495901]\n",
      " ...\n",
      " [6.11227379]\n",
      " [5.9436669 ]\n",
      " [5.60687222]]\n"
     ]
    },
    {
     "name": "stderr",
     "output_type": "stream",
     "text": [
      "\n",
      "  0%|▍                                                                                 | 4/834 [00:01<03:42,  3.74it/s]"
     ]
    },
    {
     "name": "stdout",
     "output_type": "stream",
     "text": [
      "[[5.32999616]\n",
      " [7.31673776]\n",
      " [5.16699155]\n",
      " ...\n",
      " [4.40167249]\n",
      " [4.91328198]\n",
      " [4.84204603]]\n",
      "[[5.28580989]\n",
      " [7.15444491]\n",
      " [5.10372734]\n",
      " ...\n",
      " [4.383489  ]\n",
      " [4.93150975]\n",
      " [4.83572943]]\n"
     ]
    },
    {
     "name": "stderr",
     "output_type": "stream",
     "text": [
      "\n",
      "  1%|▍                                                                                 | 5/834 [00:01<03:40,  3.77it/s]"
     ]
    },
    {
     "name": "stdout",
     "output_type": "stream",
     "text": [
      "[[6.97573998]\n",
      " [6.00702778]\n",
      " [5.46743964]\n",
      " ...\n",
      " [5.44268434]\n",
      " [6.14060324]\n",
      " [5.34279285]]\n",
      "[[6.59053062]\n",
      " [5.98628608]\n",
      " [5.48091675]\n",
      " ...\n",
      " [5.57292517]\n",
      " [6.27369152]\n",
      " [5.47936931]]\n"
     ]
    },
    {
     "name": "stderr",
     "output_type": "stream",
     "text": [
      "\n",
      "  1%|▌                                                                                 | 6/834 [00:01<03:40,  3.76it/s]"
     ]
    },
    {
     "name": "stdout",
     "output_type": "stream",
     "text": [
      "[[4.94777178]\n",
      " [5.07677009]\n",
      " [4.96201897]\n",
      " ...\n",
      " [6.9323215 ]\n",
      " [7.03936883]\n",
      " [4.53937383]]\n",
      "[[5.08419086]\n",
      " [5.21098453]\n",
      " [5.07664707]\n",
      " ...\n",
      " [6.66280914]\n",
      " [7.16347166]\n",
      " [4.65658058]]\n"
     ]
    },
    {
     "name": "stderr",
     "output_type": "stream",
     "text": [
      "\n",
      "  1%|▋                                                                                 | 7/834 [00:01<03:38,  3.79it/s]"
     ]
    },
    {
     "name": "stdout",
     "output_type": "stream",
     "text": [
      "[[7.49866341]\n",
      " [5.17082733]\n",
      " [5.91097206]\n",
      " ...\n",
      " [2.97247307]\n",
      " [4.00449178]\n",
      " [5.65262087]]\n",
      "[[7.63847241]\n",
      " [5.30031717]\n",
      " [6.05389003]\n",
      " ...\n",
      " [2.93882132]\n",
      " [4.05198142]\n",
      " [5.31524355]]\n"
     ]
    },
    {
     "name": "stderr",
     "output_type": "stream",
     "text": [
      "\n",
      "  1%|▊                                                                                 | 8/834 [00:02<03:36,  3.81it/s]"
     ]
    },
    {
     "name": "stdout",
     "output_type": "stream",
     "text": [
      "[[1.66498719]\n",
      " [2.98771949]\n",
      " [4.91334645]\n",
      " ...\n",
      " [4.42001333]\n",
      " [5.82165314]\n",
      " [5.47063075]]\n",
      "[[1.62091507]\n",
      " [3.05442826]\n",
      " [4.87889666]\n",
      " ...\n",
      " [4.60229109]\n",
      " [6.10108706]\n",
      " [5.74820542]]\n"
     ]
    },
    {
     "name": "stderr",
     "output_type": "stream",
     "text": [
      "\n",
      "  1%|▉                                                                                 | 9/834 [00:02<03:37,  3.79it/s]"
     ]
    },
    {
     "name": "stdout",
     "output_type": "stream",
     "text": [
      "[[5.14935985]\n",
      " [5.01391485]\n",
      " [6.81099476]\n",
      " ...\n",
      " [2.52923074]\n",
      " [4.93810175]\n",
      " [4.0075862 ]]\n",
      "[[5.33977699]\n",
      " [5.27768581]\n",
      " [6.99257585]\n",
      " ...\n",
      " [2.68084955]\n",
      " [5.02803155]\n",
      " [4.16478362]]\n"
     ]
    },
    {
     "name": "stderr",
     "output_type": "stream",
     "text": [
      "\n",
      "  1%|▉                                                                                | 10/834 [00:02<03:37,  3.79it/s]"
     ]
    },
    {
     "name": "stdout",
     "output_type": "stream",
     "text": [
      "[[4.7076325 ]\n",
      " [4.66021708]\n",
      " [6.81808612]\n",
      " ...\n",
      " [5.96860549]\n",
      " [5.11860913]\n",
      " [6.91265909]]\n",
      "[[4.90162474]\n",
      " [4.83234439]\n",
      " [6.60004095]\n",
      " ...\n",
      " [5.94308661]\n",
      " [5.06890986]\n",
      " [6.97561844]]\n"
     ]
    },
    {
     "name": "stderr",
     "output_type": "stream",
     "text": [
      "\n",
      "  1%|█                                                                                | 11/834 [00:02<03:42,  3.71it/s]"
     ]
    },
    {
     "name": "stdout",
     "output_type": "stream",
     "text": [
      "[[6.54600348]\n",
      " [5.50212284]\n",
      " [6.29316421]\n",
      " ...\n",
      " [8.17243945]\n",
      " [5.62705974]\n",
      " [7.86792994]]\n",
      "[[6.41502471]\n",
      " [5.48359254]\n",
      " [6.2731757 ]\n",
      " ...\n",
      " [7.83860847]\n",
      " [5.67167143]\n",
      " [7.52380038]]\n"
     ]
    },
    {
     "name": "stderr",
     "output_type": "stream",
     "text": [
      "\n",
      "  1%|█▏                                                                               | 12/834 [00:03<03:52,  3.54it/s]"
     ]
    },
    {
     "name": "stdout",
     "output_type": "stream",
     "text": [
      "[[7.13674611]\n",
      " [4.26293967]\n",
      " [7.5702217 ]\n",
      " ...\n",
      " [6.29300304]\n",
      " [7.29204693]\n",
      " [2.93453428]]\n",
      "[[7.182718  ]\n",
      " [4.29866974]\n",
      " [7.6301549 ]\n",
      " ...\n",
      " [6.37130943]\n",
      " [7.34919715]\n",
      " [2.93630672]]\n"
     ]
    },
    {
     "name": "stderr",
     "output_type": "stream",
     "text": [
      "\n",
      "  2%|█▎                                                                               | 13/834 [00:03<03:59,  3.43it/s]"
     ]
    },
    {
     "name": "stdout",
     "output_type": "stream",
     "text": [
      "[[3.91775154]\n",
      " [5.62763994]\n",
      " [1.86676866]\n",
      " ...\n",
      " [5.4575762 ]\n",
      " [4.85503612]\n",
      " [5.41821915]]\n",
      "[[4.00230202]\n",
      " [5.32723624]\n",
      " [1.87849998]\n",
      " ...\n",
      " [5.5144447 ]\n",
      " [4.90172146]\n",
      " [5.46927868]]\n"
     ]
    },
    {
     "name": "stderr",
     "output_type": "stream",
     "text": [
      "\n",
      "  2%|█▎                                                                               | 14/834 [00:03<03:56,  3.46it/s]"
     ]
    },
    {
     "name": "stdout",
     "output_type": "stream",
     "text": [
      "[[6.14917734]\n",
      " [5.69255813]\n",
      " [5.36828951]\n",
      " ...\n",
      " [6.67181067]\n",
      " [2.5351617 ]\n",
      " [5.14881188]]\n",
      "[[6.26676026]\n",
      " [5.80094746]\n",
      " [5.39464676]\n",
      " ...\n",
      " [6.53988408]\n",
      " [2.72640243]\n",
      " [5.24538292]]\n"
     ]
    },
    {
     "name": "stderr",
     "output_type": "stream",
     "text": [
      "\n",
      "  2%|█▍                                                                               | 15/834 [00:04<04:01,  3.39it/s]"
     ]
    },
    {
     "name": "stdout",
     "output_type": "stream",
     "text": [
      "[[4.78821615]\n",
      " [4.44621913]\n",
      " [3.91153048]\n",
      " ...\n",
      " [5.87461272]\n",
      " [5.94823394]\n",
      " [4.19221946]]\n",
      "[[4.96200728]\n",
      " [4.64307268]\n",
      " [4.06752033]\n",
      " ...\n",
      " [5.82428807]\n",
      " [5.88244616]\n",
      " [4.09198928]]\n"
     ]
    },
    {
     "name": "stderr",
     "output_type": "stream",
     "text": [
      "\n",
      "  2%|█▌                                                                               | 16/834 [00:04<04:09,  3.28it/s]"
     ]
    },
    {
     "name": "stdout",
     "output_type": "stream",
     "text": [
      "[[6.39524758]\n",
      " [6.55615702]\n",
      " [5.4823315 ]\n",
      " ...\n",
      " [8.15242247]\n",
      " [6.24736046]\n",
      " [8.52452554]]\n",
      "[[6.36405578]\n",
      " [6.39661658]\n",
      " [5.43910353]\n",
      " ...\n",
      " [7.7268379 ]\n",
      " [6.22710701]\n",
      " [8.07433573]]\n"
     ]
    },
    {
     "name": "stderr",
     "output_type": "stream",
     "text": [
      "\n",
      "  2%|█▋                                                                               | 17/834 [00:04<04:16,  3.19it/s]"
     ]
    },
    {
     "name": "stdout",
     "output_type": "stream",
     "text": [
      "[[5.89008478]\n",
      " [7.79875693]\n",
      " [7.19844096]\n",
      " ...\n",
      " [5.98746207]\n",
      " [7.92498317]\n",
      " [6.51302865]]\n",
      "[[5.86097538]\n",
      " [7.41712348]\n",
      " [7.154187  ]\n",
      " ...\n",
      " [5.96217175]\n",
      " [7.49362523]\n",
      " [6.47698694]]\n"
     ]
    },
    {
     "name": "stderr",
     "output_type": "stream",
     "text": [
      "\n",
      "  2%|█▋                                                                               | 18/834 [00:05<04:23,  3.10it/s]"
     ]
    },
    {
     "name": "stdout",
     "output_type": "stream",
     "text": [
      "[[7.59388106]\n",
      " [2.68704577]\n",
      " [3.86936911]\n",
      " ...\n",
      " [5.5910872 ]\n",
      " [6.26260689]\n",
      " [5.73043245]]\n",
      "[[7.54978454]\n",
      " [2.57607472]\n",
      " [3.83153516]\n",
      " ...\n",
      " [5.61286857]\n",
      " [6.26734055]\n",
      " [5.72634777]]\n"
     ]
    },
    {
     "name": "stderr",
     "output_type": "stream",
     "text": [
      "\n",
      "  2%|█▊                                                                               | 19/834 [00:05<04:19,  3.14it/s]"
     ]
    },
    {
     "name": "stdout",
     "output_type": "stream",
     "text": [
      "[[5.51591877]\n",
      " [5.01610672]\n",
      " [5.56252835]\n",
      " ...\n",
      " [6.20855137]\n",
      " [6.42935058]\n",
      " [6.85676627]]\n",
      "[[5.51173667]\n",
      " [5.00236978]\n",
      " [5.555323  ]\n",
      " ...\n",
      " [6.17168918]\n",
      " [6.4007431 ]\n",
      " [6.61106649]]\n"
     ]
    },
    {
     "name": "stderr",
     "output_type": "stream",
     "text": [
      "\n",
      "  2%|█▉                                                                               | 20/834 [00:05<04:18,  3.15it/s]"
     ]
    },
    {
     "name": "stdout",
     "output_type": "stream",
     "text": [
      "[[2.72785333]\n",
      " [5.14078575]\n",
      " [4.78170499]\n",
      " ...\n",
      " [4.85655109]\n",
      " [6.66420358]\n",
      " [5.40261815]]\n",
      "[[2.79207207]\n",
      " [5.11791224]\n",
      " [4.83337602]\n",
      " ...\n",
      " [4.93437897]\n",
      " [6.33671761]\n",
      " [5.43062483]]\n"
     ]
    },
    {
     "name": "stderr",
     "output_type": "stream",
     "text": [
      "\n",
      "  3%|██                                                                               | 21/834 [00:06<04:19,  3.14it/s]"
     ]
    },
    {
     "name": "stdout",
     "output_type": "stream",
     "text": [
      "[[5.83161328]\n",
      " [5.86397568]\n",
      " [3.44781991]\n",
      " ...\n",
      " [5.20634861]\n",
      " [5.7107378 ]\n",
      " [8.05378808]]\n",
      "[[5.8625873 ]\n",
      " [5.88409032]\n",
      " [3.27858193]\n",
      " ...\n",
      " [5.34964194]\n",
      " [5.9283859 ]\n",
      " [7.81284998]]\n"
     ]
    },
    {
     "name": "stderr",
     "output_type": "stream",
     "text": [
      "\n",
      "  3%|██▏                                                                              | 22/834 [00:06<04:28,  3.03it/s]"
     ]
    },
    {
     "name": "stdout",
     "output_type": "stream",
     "text": [
      "[[5.85163026]\n",
      " [7.66582614]\n",
      " [5.32915809]\n",
      " ...\n",
      " [4.83672751]\n",
      " [5.54363954]\n",
      " [7.41737062]]\n",
      "[[6.07519962]\n",
      " [7.41467336]\n",
      " [5.5472634 ]\n",
      " ...\n",
      " [5.0890911 ]\n",
      " [5.84327649]\n",
      " [7.33285228]]\n"
     ]
    },
    {
     "name": "stderr",
     "output_type": "stream",
     "text": [
      "\n",
      "  3%|██▏                                                                              | 23/834 [00:06<04:29,  3.01it/s]"
     ]
    },
    {
     "name": "stdout",
     "output_type": "stream",
     "text": [
      "[[6.07117236]\n",
      " [7.09548728]\n",
      " [2.23426234]\n",
      " ...\n",
      " [8.32777249]\n",
      " [6.10756394]\n",
      " [6.2570305 ]]\n",
      "[[6.38281854]\n",
      " [7.3891083 ]\n",
      " [2.46994587]\n",
      " ...\n",
      " [7.98068315]\n",
      " [6.1425779 ]\n",
      " [6.24767512]]\n"
     ]
    },
    {
     "name": "stderr",
     "output_type": "stream",
     "text": [
      "\n",
      "  3%|██▎                                                                              | 24/834 [00:07<04:30,  3.00it/s]"
     ]
    },
    {
     "name": "stdout",
     "output_type": "stream",
     "text": [
      "[[5.79515724]\n",
      " [5.4897452 ]\n",
      " [5.07712466]\n",
      " ...\n",
      " [6.06852922]\n",
      " [7.66956522]\n",
      " [6.30357562]]\n",
      "[[5.78054054]\n",
      " [5.47027807]\n",
      " [5.05040501]\n",
      " ...\n",
      " [6.09115763]\n",
      " [7.36373667]\n",
      " [6.32511178]]\n"
     ]
    },
    {
     "name": "stderr",
     "output_type": "stream",
     "text": [
      "\n",
      "  3%|██▍                                                                              | 25/834 [00:07<04:21,  3.09it/s]"
     ]
    },
    {
     "name": "stdout",
     "output_type": "stream",
     "text": [
      "[[7.00159121]\n",
      " [2.86561914]\n",
      " [4.83089325]\n",
      " ...\n",
      " [6.46113277]\n",
      " [5.24734957]\n",
      " [5.66454725]]\n",
      "[[6.81416848]\n",
      " [2.97392895]\n",
      " [4.86596906]\n",
      " ...\n",
      " [6.33700776]\n",
      " [5.47814425]\n",
      " [5.89979043]]\n"
     ]
    },
    {
     "name": "stderr",
     "output_type": "stream",
     "text": [
      "\n",
      "  3%|██▌                                                                              | 26/834 [00:07<04:19,  3.11it/s]"
     ]
    },
    {
     "name": "stdout",
     "output_type": "stream",
     "text": [
      "[[5.70338857]\n",
      " [3.69949878]\n",
      " [6.16613214]\n",
      " ...\n",
      " [7.05729063]\n",
      " [5.97305371]\n",
      " [5.30034138]]\n",
      "[[5.92741874]\n",
      " [3.85468234]\n",
      " [6.42189149]\n",
      " ...\n",
      " [7.07320411]\n",
      " [6.13255175]\n",
      " [5.37991381]]\n"
     ]
    },
    {
     "name": "stderr",
     "output_type": "stream",
     "text": [
      "\n",
      "  3%|██▌                                                                              | 27/834 [00:08<04:19,  3.10it/s]"
     ]
    },
    {
     "name": "stdout",
     "output_type": "stream",
     "text": [
      "[[5.52616901]\n",
      " [3.08744982]\n",
      " [5.39897577]\n",
      " ...\n",
      " [7.29494794]\n",
      " [9.0451604 ]\n",
      " [5.18127097]]\n",
      "[[5.67557228]\n",
      " [2.97863576]\n",
      " [5.54939113]\n",
      " ...\n",
      " [7.3562896 ]\n",
      " [8.70930348]\n",
      " [5.18190549]]\n"
     ]
    },
    {
     "name": "stderr",
     "output_type": "stream",
     "text": [
      "\n",
      "  3%|██▋                                                                              | 28/834 [00:08<04:15,  3.16it/s]"
     ]
    },
    {
     "name": "stdout",
     "output_type": "stream",
     "text": [
      "[[4.95331594]\n",
      " [2.51414548]\n",
      " [6.29048883]\n",
      " ...\n",
      " [6.26566907]\n",
      " [6.31015124]\n",
      " [6.14311745]]\n",
      "[[5.07177907]\n",
      " [1.87756506]\n",
      " [6.34725957]\n",
      " ...\n",
      " [6.2651161 ]\n",
      " [6.33639523]\n",
      " [6.16369406]]\n"
     ]
    },
    {
     "name": "stderr",
     "output_type": "stream",
     "text": [
      "\n",
      "  3%|██▊                                                                              | 29/834 [00:08<04:17,  3.13it/s]"
     ]
    },
    {
     "name": "stdout",
     "output_type": "stream",
     "text": [
      "[[6.12829006]\n",
      " [5.43298207]\n",
      " [5.25134652]\n",
      " ...\n",
      " [7.68174947]\n",
      " [6.23872189]\n",
      " [6.08703123]]\n",
      "[[6.12487901]\n",
      " [5.42356462]\n",
      " [5.24892914]\n",
      " ...\n",
      " [7.34439363]\n",
      " [6.16401644]\n",
      " [6.01388216]]\n"
     ]
    },
    {
     "name": "stderr",
     "output_type": "stream",
     "text": [
      "\n",
      "  4%|██▉                                                                              | 30/834 [00:09<04:28,  3.00it/s]"
     ]
    },
    {
     "name": "stdout",
     "output_type": "stream",
     "text": [
      "[[ 7.7154979 ]\n",
      " [ 6.38054912]\n",
      " [ 7.15866487]\n",
      " ...\n",
      " [ 6.22073562]\n",
      " [-0.12429223]\n",
      " [ 6.18360267]]\n",
      "[[ 7.33585045]\n",
      " [ 6.30396339]\n",
      " [ 6.89376512]\n",
      " ...\n",
      " [ 6.29087459]\n",
      " [-0.06128522]\n",
      " [ 6.26982291]]\n"
     ]
    },
    {
     "name": "stderr",
     "output_type": "stream",
     "text": [
      "\n",
      "  4%|███                                                                              | 31/834 [00:09<04:25,  3.02it/s]"
     ]
    },
    {
     "name": "stdout",
     "output_type": "stream",
     "text": [
      "[[4.57163953]\n",
      " [6.75884102]\n",
      " [5.44552089]\n",
      " ...\n",
      " [4.92804491]\n",
      " [6.18115293]\n",
      " [7.49247459]]\n",
      "[[4.61167247]\n",
      " [6.41624977]\n",
      " [5.44361691]\n",
      " ...\n",
      " [4.93057483]\n",
      " [5.9730361 ]\n",
      " [7.40061742]]\n"
     ]
    },
    {
     "name": "stderr",
     "output_type": "stream",
     "text": [
      "\n",
      "  4%|███                                                                              | 32/834 [00:09<04:30,  2.96it/s]"
     ]
    },
    {
     "name": "stdout",
     "output_type": "stream",
     "text": [
      "[[6.11520327]\n",
      " [5.47498227]\n",
      " [5.8267138 ]\n",
      " ...\n",
      " [7.1250776 ]\n",
      " [7.33814078]\n",
      " [9.14353692]]\n",
      "[[6.15044407]\n",
      " [5.42675622]\n",
      " [5.83663538]\n",
      " ...\n",
      " [6.88979979]\n",
      " [7.4062269 ]\n",
      " [8.81730215]]\n"
     ]
    },
    {
     "name": "stderr",
     "output_type": "stream",
     "text": [
      "\n",
      "  4%|███▏                                                                             | 33/834 [00:10<04:29,  2.98it/s]"
     ]
    },
    {
     "name": "stdout",
     "output_type": "stream",
     "text": [
      "[[5.13582179]\n",
      " [5.77230371]\n",
      " [6.87410787]\n",
      " ...\n",
      " [6.40710949]\n",
      " [5.91087536]\n",
      " [5.88466956]]\n",
      "[[5.13815796]\n",
      " [5.84627466]\n",
      " [6.6039418 ]\n",
      " ...\n",
      " [6.23410275]\n",
      " [5.91155745]\n",
      " [5.91345951]]\n"
     ]
    },
    {
     "name": "stderr",
     "output_type": "stream",
     "text": [
      "\n",
      "  4%|███▎                                                                             | 34/834 [00:10<04:26,  3.00it/s]"
     ]
    },
    {
     "name": "stdout",
     "output_type": "stream",
     "text": [
      "[[7.74512046]\n",
      " [5.37067479]\n",
      " [6.2247648 ]\n",
      " ...\n",
      " [6.01566634]\n",
      " [7.36373415]\n",
      " [5.84186352]]\n",
      "[[7.37447206]\n",
      " [5.36118329]\n",
      " [6.19280534]\n",
      " ...\n",
      " [6.19880169]\n",
      " [7.13036282]\n",
      " [6.0090464 ]]\n"
     ]
    },
    {
     "name": "stderr",
     "output_type": "stream",
     "text": [
      "\n",
      "  4%|███▍                                                                             | 35/834 [00:10<04:25,  3.01it/s]"
     ]
    },
    {
     "name": "stdout",
     "output_type": "stream",
     "text": [
      "[[7.85880787]\n",
      " [5.7257586 ]\n",
      " [7.07337513]\n",
      " ...\n",
      " [5.93269741]\n",
      " [6.28771675]\n",
      " [4.5985867 ]]\n",
      "[[7.59827111]\n",
      " [5.88779774]\n",
      " [6.86594337]\n",
      " ...\n",
      " [6.00453302]\n",
      " [6.3840436 ]\n",
      " [4.65006842]]\n"
     ]
    },
    {
     "name": "stderr",
     "output_type": "stream",
     "text": [
      "\n",
      "  4%|███▍                                                                             | 36/834 [00:11<04:31,  2.94it/s]"
     ]
    },
    {
     "name": "stdout",
     "output_type": "stream",
     "text": [
      "[[6.8631485 ]\n",
      " [5.3808928 ]\n",
      " [5.83170998]\n",
      " ...\n",
      " [6.08135814]\n",
      " [5.02983817]\n",
      " [7.57267144]]\n",
      "[[6.51625332]\n",
      " [5.38529762]\n",
      " [5.83731238]\n",
      " ...\n",
      " [6.15663385]\n",
      " [5.09331433]\n",
      " [7.52334905]]\n"
     ]
    },
    {
     "name": "stderr",
     "output_type": "stream",
     "text": [
      "\n",
      "  4%|███▌                                                                             | 37/834 [00:11<04:32,  2.93it/s]"
     ]
    },
    {
     "name": "stdout",
     "output_type": "stream",
     "text": [
      "[[6.20507016]\n",
      " [5.37950676]\n",
      " [6.13241594]\n",
      " ...\n",
      " [9.43254213]\n",
      " [5.14568523]\n",
      " [6.0387455 ]]\n",
      "[[6.28590988]\n",
      " [5.38777998]\n",
      " [6.19731872]\n",
      " ...\n",
      " [8.98652157]\n",
      " [5.02600053]\n",
      " [5.99995517]]\n"
     ]
    },
    {
     "name": "stderr",
     "output_type": "stream",
     "text": [
      "\n",
      "  5%|███▋                                                                             | 38/834 [00:11<04:40,  2.84it/s]"
     ]
    },
    {
     "name": "stdout",
     "output_type": "stream",
     "text": [
      "[[7.98899882]\n",
      " [6.5694372 ]\n",
      " [7.62028026]\n",
      " ...\n",
      " [6.34531795]\n",
      " [6.146921  ]\n",
      " [8.12392809]]\n",
      "[[7.5457225 ]\n",
      " [6.52166938]\n",
      " [7.55855339]\n",
      " ...\n",
      " [6.34754972]\n",
      " [6.16659552]\n",
      " [7.77764563]]\n"
     ]
    },
    {
     "name": "stderr",
     "output_type": "stream",
     "text": [
      "\n",
      "  5%|███▊                                                                             | 39/834 [00:12<04:55,  2.69it/s]"
     ]
    },
    {
     "name": "stdout",
     "output_type": "stream",
     "text": [
      "[[5.5318421 ]\n",
      " [6.26460536]\n",
      " [5.72247078]\n",
      " ...\n",
      " [7.60332546]\n",
      " [6.40188767]\n",
      " [8.35239886]]\n",
      "[[5.52282668]\n",
      " [6.22746164]\n",
      " [5.67534661]\n",
      " ...\n",
      " [7.25161148]\n",
      " [6.32636908]\n",
      " [7.88819115]]\n"
     ]
    },
    {
     "name": "stderr",
     "output_type": "stream",
     "text": [
      "\n",
      "  5%|███▉                                                                             | 40/834 [00:12<05:00,  2.64it/s]"
     ]
    },
    {
     "name": "stdout",
     "output_type": "stream",
     "text": [
      "[[6.27195459]\n",
      " [7.37482246]\n",
      " [6.50422891]\n",
      " ...\n",
      " [8.08634387]\n",
      " [4.72374923]\n",
      " [5.64446581]]\n",
      "[[6.19938198]\n",
      " [7.00650284]\n",
      " [6.42895171]\n",
      " ...\n",
      " [7.70871991]\n",
      " [4.87957367]\n",
      " [5.75462086]]\n"
     ]
    },
    {
     "name": "stderr",
     "output_type": "stream",
     "text": [
      "\n",
      "  5%|███▉                                                                             | 41/834 [00:12<04:55,  2.68it/s]"
     ]
    },
    {
     "name": "stdout",
     "output_type": "stream",
     "text": [
      "[[0.55422213]\n",
      " [6.1564621 ]\n",
      " [4.83147346]\n",
      " ...\n",
      " [4.61209252]\n",
      " [6.24484625]\n",
      " [7.51671415]]\n",
      "[[0.71814285]\n",
      " [6.29719332]\n",
      " [4.94150365]\n",
      " ...\n",
      " [4.6004535 ]\n",
      " [6.33107589]\n",
      " [7.39442764]]\n"
     ]
    },
    {
     "name": "stderr",
     "output_type": "stream",
     "text": [
      "\n",
      "  5%|████                                                                             | 42/834 [00:13<04:45,  2.77it/s]"
     ]
    },
    {
     "name": "stdout",
     "output_type": "stream",
     "text": [
      "[[6.04525666]\n",
      " [4.35770605]\n",
      " [3.85241431]\n",
      " ...\n",
      " [4.40744228]\n",
      " [5.81530315]\n",
      " [7.19528208]]\n",
      "[[6.12413753]\n",
      " [4.4203375 ]\n",
      " [3.55699285]\n",
      " ...\n",
      " [4.50941223]\n",
      " [5.87603072]\n",
      " [6.98619264]]\n"
     ]
    },
    {
     "name": "stderr",
     "output_type": "stream",
     "text": [
      "\n",
      "  5%|████▏                                                                            | 43/834 [00:13<04:42,  2.80it/s]"
     ]
    },
    {
     "name": "stdout",
     "output_type": "stream",
     "text": [
      "[[7.3953874 ]\n",
      " [9.16777649]\n",
      " [5.07702796]\n",
      " ...\n",
      " [7.50601264]\n",
      " [6.6442833 ]\n",
      " [8.31416997]]\n",
      "[[7.46116115]\n",
      " [8.84544629]\n",
      " [5.08470668]\n",
      " ...\n",
      " [7.24052147]\n",
      " [6.79598602]\n",
      " [8.05309062]]\n"
     ]
    },
    {
     "name": "stderr",
     "output_type": "stream",
     "text": [
      "\n",
      "  5%|████▎                                                                            | 44/834 [00:13<04:40,  2.82it/s]"
     ]
    },
    {
     "name": "stdout",
     "output_type": "stream",
     "text": [
      "[[6.48082742]\n",
      " [8.55031231]\n",
      " [6.2669584 ]\n",
      " ...\n",
      " [7.85226448]\n",
      " [6.27985179]\n",
      " [8.43891347]]\n",
      "[[6.527569  ]\n",
      " [8.19384352]\n",
      " [6.32627237]\n",
      " ...\n",
      " [7.48140687]\n",
      " [6.22710701]\n",
      " [8.01121292]]\n"
     ]
    },
    {
     "name": "stderr",
     "output_type": "stream",
     "text": [
      "\n",
      "  5%|████▎                                                                            | 45/834 [00:14<04:42,  2.79it/s]"
     ]
    },
    {
     "name": "stdout",
     "output_type": "stream",
     "text": [
      "[[5.95745271]\n",
      " [7.75743364]\n",
      " [6.16207072]\n",
      " ...\n",
      " [3.60653747]\n",
      " [3.46135797]\n",
      " [3.84293768]]\n",
      "[[5.97426115]\n",
      " [7.37485893]\n",
      " [6.18800182]\n",
      " ...\n",
      " [3.97132091]\n",
      " [3.82566777]\n",
      " [4.15801355]]\n"
     ]
    },
    {
     "name": "stderr",
     "output_type": "stream",
     "text": [
      "\n",
      "  6%|████▍                                                                            | 46/834 [00:14<04:42,  2.79it/s]"
     ]
    },
    {
     "name": "stdout",
     "output_type": "stream",
     "text": [
      "[[4.82167448]\n",
      " [1.84807325]\n",
      " [4.26216607]\n",
      " ...\n",
      " [5.36277759]\n",
      " [4.18354866]\n",
      " [2.930215  ]]\n",
      "[[5.19902408]\n",
      " [2.87031469]\n",
      " [4.66325393]\n",
      " ...\n",
      " [5.4649265 ]\n",
      " [4.29131938]\n",
      " [3.7268248 ]]\n"
     ]
    },
    {
     "name": "stderr",
     "output_type": "stream",
     "text": [
      "\n",
      "  6%|████▌                                                                            | 47/834 [00:15<04:47,  2.74it/s]"
     ]
    },
    {
     "name": "stdout",
     "output_type": "stream",
     "text": [
      "[[6.30583196]\n",
      " [6.43744118]\n",
      " [4.14403044]\n",
      " ...\n",
      " [6.24700589]\n",
      " [4.30078176]\n",
      " [2.83332121]]\n",
      "[[6.38162572]\n",
      " [6.51203009]\n",
      " [4.93363748]\n",
      " ...\n",
      " [6.37166405]\n",
      " [4.43887459]\n",
      " [2.98459986]]\n"
     ]
    },
    {
     "name": "stderr",
     "output_type": "stream",
     "text": [
      "\n",
      "  6%|████▋                                                                            | 48/834 [00:15<05:00,  2.61it/s]"
     ]
    },
    {
     "name": "stdout",
     "output_type": "stream",
     "text": [
      "[[3.25454808]\n",
      " [5.67814977]\n",
      " [4.64258538]\n",
      " ...\n",
      " [3.66413867]\n",
      " [3.69627543]\n",
      " [3.75610073]]\n",
      "[[3.41243582]\n",
      " [5.80926497]\n",
      " [4.76154884]\n",
      " ...\n",
      " [4.09766324]\n",
      " [4.11993999]\n",
      " [4.18074163]]\n"
     ]
    },
    {
     "name": "stderr",
     "output_type": "stream",
     "text": [
      "\n",
      "  6%|████▊                                                                            | 49/834 [00:15<05:00,  2.62it/s]"
     ]
    },
    {
     "name": "stdout",
     "output_type": "stream",
     "text": [
      "[[3.46474248]\n",
      " [3.40482048]\n",
      " [3.65437193]\n",
      " ...\n",
      " [6.88551852]\n",
      " [2.99390832]\n",
      " [6.24571655]]\n",
      "[[3.87163974]\n",
      " [3.82740864]\n",
      " [4.02422414]\n",
      " ...\n",
      " [7.06262991]\n",
      " [4.00246322]\n",
      " [6.46031968]]\n"
     ]
    },
    {
     "name": "stderr",
     "output_type": "stream",
     "text": [
      "\n",
      "  6%|████▊                                                                            | 50/834 [00:16<04:57,  2.64it/s]"
     ]
    },
    {
     "name": "stdout",
     "output_type": "stream",
     "text": [
      "[[5.08295892]\n",
      " [4.10976627]\n",
      " [2.89446809]\n",
      " ...\n",
      " [4.49263532]\n",
      " [5.29666676]\n",
      " [4.89245916]]\n",
      "[[5.31766144]\n",
      " [4.34086982]\n",
      " [3.81892994]\n",
      " ...\n",
      " [4.74436577]\n",
      " [5.3841048 ]\n",
      " [5.01620005]]\n"
     ]
    },
    {
     "name": "stderr",
     "output_type": "stream",
     "text": [
      "\n",
      "  6%|████▉                                                                            | 51/834 [00:16<05:03,  2.58it/s]"
     ]
    },
    {
     "name": "stdout",
     "output_type": "stream",
     "text": [
      "[[6.06085766]\n",
      " [3.78175857]\n",
      " [2.51933507]\n",
      " ...\n",
      " [4.52941369]\n",
      " [3.57875223]\n",
      " [4.74844006]]\n",
      "[[6.18961374]\n",
      " [3.921706  ]\n",
      " [2.67533678]\n",
      " ...\n",
      " [4.70696921]\n",
      " [3.69790695]\n",
      " [4.92609369]]\n"
     ]
    },
    {
     "name": "stderr",
     "output_type": "stream",
     "text": [
      "\n",
      "  6%|█████                                                                            | 52/834 [00:17<05:00,  2.60it/s]"
     ]
    },
    {
     "name": "stdout",
     "output_type": "stream",
     "text": [
      "[[4.01383949]\n",
      " [4.02944048]\n",
      " [4.14190303]\n",
      " ...\n",
      " [0.71023208]\n",
      " [5.78825928]\n",
      " [3.02069432]]\n",
      "[[4.18957495]\n",
      " [4.19553906]\n",
      " [4.31311255]\n",
      " ...\n",
      " [1.4672668 ]\n",
      " [5.99698923]\n",
      " [3.8821817 ]]\n"
     ]
    },
    {
     "name": "stderr",
     "output_type": "stream",
     "text": [
      "\n",
      "  6%|█████▏                                                                           | 53/834 [00:17<05:06,  2.55it/s]"
     ]
    },
    {
     "name": "stdout",
     "output_type": "stream",
     "text": [
      "[[6.60934223]\n",
      " [3.21399839]\n",
      " [6.09263985]\n",
      " ...\n",
      " [3.25338768]\n",
      " [3.48292215]\n",
      " [2.71573355]]\n",
      "[[6.78679807]\n",
      " [4.30231268]\n",
      " [6.31450535]\n",
      " ...\n",
      " [3.38316334]\n",
      " [4.34760765]\n",
      " [2.8202162 ]]\n"
     ]
    },
    {
     "name": "stderr",
     "output_type": "stream",
     "text": [
      "\n",
      "  6%|█████▏                                                                           | 54/834 [00:17<05:14,  2.48it/s]"
     ]
    },
    {
     "name": "stdout",
     "output_type": "stream",
     "text": [
      "[[4.34391013]\n",
      " [5.0702267 ]\n",
      " [4.70476372]\n",
      " ...\n",
      " [4.59958594]\n",
      " [2.75447817]\n",
      " [4.60100421]]\n",
      "[[4.55725403]\n",
      " [5.13503084]\n",
      " [4.811873  ]\n",
      " ...\n",
      " [4.85026895]\n",
      " [2.92682863]\n",
      " [4.75552026]]\n"
     ]
    },
    {
     "name": "stderr",
     "output_type": "stream",
     "text": [
      "\n",
      "  7%|█████▎                                                                           | 55/834 [00:18<05:14,  2.48it/s]"
     ]
    },
    {
     "name": "stdout",
     "output_type": "stream",
     "text": [
      "[[4.49205511]\n",
      " [3.14843553]\n",
      " [4.50778504]\n",
      " ...\n",
      " [5.50927867]\n",
      " [5.72601646]\n",
      " [1.64551818]]\n",
      "[[4.65110005]\n",
      " [3.246408  ]\n",
      " [4.67034638]\n",
      " ...\n",
      " [5.90739869]\n",
      " [6.11333766]\n",
      " [2.09133797]]\n"
     ]
    },
    {
     "name": "stderr",
     "output_type": "stream",
     "text": [
      "\n",
      "  7%|█████▍                                                                           | 56/834 [00:18<05:25,  2.39it/s]"
     ]
    },
    {
     "name": "stdout",
     "output_type": "stream",
     "text": [
      "[[1.49772776]\n",
      " [5.64839829]\n",
      " [2.79251365]\n",
      " ...\n",
      " [4.09706628]\n",
      " [2.73919951]\n",
      " [0.69940163]]\n",
      "[[2.30291866]\n",
      " [6.02464979]\n",
      " [3.81854308]\n",
      " ...\n",
      " [4.40138132]\n",
      " [2.92463642]\n",
      " [1.47052288]]\n"
     ]
    },
    {
     "name": "stderr",
     "output_type": "stream",
     "text": [
      "\n",
      "  7%|█████▌                                                                           | 57/834 [00:19<05:24,  2.39it/s]"
     ]
    },
    {
     "name": "stdout",
     "output_type": "stream",
     "text": [
      "[[3.29116529]\n",
      " [3.38399766]\n",
      " [2.77410835]\n",
      " ...\n",
      " [4.86457722]\n",
      " [4.1095084 ]\n",
      " [5.11751319]]\n",
      "[[3.58836083]\n",
      " [4.3993503 ]\n",
      " [3.03473059]\n",
      " ...\n",
      " [5.05085635]\n",
      " [4.31269345]\n",
      " [5.31933783]]\n"
     ]
    },
    {
     "name": "stderr",
     "output_type": "stream",
     "text": [
      "\n",
      "  7%|█████▋                                                                           | 58/834 [00:19<05:26,  2.38it/s]"
     ]
    },
    {
     "name": "stdout",
     "output_type": "stream",
     "text": [
      "[[4.76126898]\n",
      " [2.96625201]\n",
      " [4.45124755]\n",
      " ...\n",
      " [5.73065808]\n",
      " [5.77520472]\n",
      " [1.7181724 ]]\n",
      "[[4.95997626]\n",
      " [3.10501033]\n",
      " [4.56779599]\n",
      " ...\n",
      " [5.817518  ]\n",
      " [5.85549485]\n",
      " [2.32790343]]\n"
     ]
    },
    {
     "name": "stderr",
     "output_type": "stream",
     "text": [
      "\n",
      "  7%|█████▋                                                                           | 59/834 [00:20<05:21,  2.41it/s]"
     ]
    },
    {
     "name": "stdout",
     "output_type": "stream",
     "text": [
      "[[5.8456993 ]\n",
      " [6.27095535]\n",
      " [2.10000998]\n",
      " ...\n",
      " [3.22805218]\n",
      " [3.98940652]\n",
      " [3.45884376]]\n",
      "[[5.92706412]\n",
      " [6.34800105]\n",
      " [2.25082139]\n",
      " ...\n",
      " [3.32774551]\n",
      " [4.11700629]\n",
      " [3.5824612 ]]\n"
     ]
    },
    {
     "name": "stderr",
     "output_type": "stream",
     "text": [
      "\n",
      "  7%|█████▊                                                                           | 60/834 [00:20<05:08,  2.51it/s]"
     ]
    },
    {
     "name": "stdout",
     "output_type": "stream",
     "text": [
      "[[3.74217588]\n",
      " [2.69491073]\n",
      " [0.58561752]\n",
      " ...\n",
      " [6.41542573]\n",
      " [5.47427313]\n",
      " [5.61413412]]\n",
      "[[3.88044083]\n",
      " [2.73781483]\n",
      " [1.21425975]\n",
      " ...\n",
      " [6.38259287]\n",
      " [6.12932791]\n",
      " [5.60322928]]\n"
     ]
    },
    {
     "name": "stderr",
     "output_type": "stream",
     "text": [
      "\n",
      "  7%|█████▉                                                                           | 61/834 [00:20<05:08,  2.51it/s]"
     ]
    },
    {
     "name": "stdout",
     "output_type": "stream",
     "text": [
      "[[4.80562222]\n",
      " [3.17406113]\n",
      " [5.07499725]\n",
      " ...\n",
      " [0.65910981]\n",
      " [0.18966168]\n",
      " [4.40006082]]\n",
      "[[4.79514127]\n",
      " [3.16906805]\n",
      " [5.08006435]\n",
      " ...\n",
      " [0.72952301]\n",
      " [0.96928007]\n",
      " [4.62044132]]\n"
     ]
    },
    {
     "name": "stderr",
     "output_type": "stream",
     "text": [
      "\n",
      "  7%|██████                                                                           | 62/834 [00:21<05:11,  2.47it/s]"
     ]
    },
    {
     "name": "stdout",
     "output_type": "stream",
     "text": [
      "[[5.3403431 ]\n",
      " [5.41809021]\n",
      " [0.82839995]\n",
      " ...\n",
      " [1.42246263]\n",
      " [4.22445292]\n",
      " [1.33259574]]\n",
      "[[5.4558675 ]\n",
      " [5.50351588]\n",
      " [1.51143343]\n",
      " ...\n",
      " [2.10200888]\n",
      " [4.36653159]\n",
      " [1.85748053]]\n"
     ]
    },
    {
     "name": "stderr",
     "output_type": "stream",
     "text": [
      "\n",
      "  8%|██████                                                                           | 63/834 [00:21<05:50,  2.20it/s]"
     ]
    },
    {
     "name": "stdout",
     "output_type": "stream",
     "text": [
      "[[3.32974875]\n",
      " [3.75816367]\n",
      " [3.38638294]\n",
      " ...\n",
      " [6.06224369]\n",
      " [3.59219358]\n",
      " [4.90296727]]\n",
      "[[3.48239317]\n",
      " [3.9316999 ]\n",
      " [3.56140951]\n",
      " ...\n",
      " [6.31176508]\n",
      " [4.56531364]\n",
      " [5.15434165]]\n"
     ]
    },
    {
     "name": "stderr",
     "output_type": "stream",
     "text": [
      "\n",
      "  8%|██████▏                                                                          | 64/834 [00:22<06:01,  2.13it/s]"
     ]
    },
    {
     "name": "stdout",
     "output_type": "stream",
     "text": [
      "[[6.06498354]\n",
      " [4.195056  ]\n",
      " [5.38911233]\n",
      " ...\n",
      " [5.19139228]\n",
      " [3.99585322]\n",
      " [3.89335081]]\n",
      "[[6.33059231]\n",
      " [5.2039888 ]\n",
      " [5.65245734]\n",
      " ...\n",
      " [5.46947211]\n",
      " [4.26224033]\n",
      " [4.19215403]]\n"
     ]
    },
    {
     "name": "stderr",
     "output_type": "stream",
     "text": [
      "\n",
      "  8%|██████▎                                                                          | 65/834 [00:22<06:01,  2.13it/s]"
     ]
    },
    {
     "name": "stdout",
     "output_type": "stream",
     "text": [
      "[[ 0.50928868]\n",
      " [-0.00947664]\n",
      " [ 4.22696713]\n",
      " ...\n",
      " [ 3.61698112]\n",
      " [ 4.00474965]\n",
      " [ 4.97916717]]\n",
      "[[0.81930698]\n",
      " [0.93397901]\n",
      " [4.6298227 ]\n",
      " ...\n",
      " [3.81676997]\n",
      " [4.15375808]\n",
      " [5.18925584]]\n"
     ]
    },
    {
     "name": "stderr",
     "output_type": "stream",
     "text": [
      "\n",
      "  8%|██████▍                                                                          | 66/834 [00:23<05:51,  2.19it/s]"
     ]
    },
    {
     "name": "stdout",
     "output_type": "stream",
     "text": [
      "[[1.97207537]\n",
      " [4.43912777]\n",
      " [1.10773512]\n",
      " ...\n",
      " [4.15357154]\n",
      " [2.59595401]\n",
      " [4.54478905]]\n",
      "[[2.81328495]\n",
      " [4.66505928]\n",
      " [1.67027208]\n",
      " ...\n",
      " [3.75941783]\n",
      " [2.79668216]\n",
      " [4.75384386]]\n"
     ]
    },
    {
     "name": "stderr",
     "output_type": "stream",
     "text": [
      "\n",
      "  8%|██████▌                                                                          | 67/834 [00:23<05:48,  2.20it/s]"
     ]
    },
    {
     "name": "stdout",
     "output_type": "stream",
     "text": [
      "[[4.87814751]\n",
      " [3.51902363]\n",
      " [3.53968528]\n",
      " ...\n",
      " [4.93117155]\n",
      " [3.56811519]\n",
      " [3.65031051]]\n",
      "[[5.09486178]\n",
      " [3.75245434]\n",
      " [3.39315725]\n",
      " ...\n",
      " [4.99066723]\n",
      " [3.69020197]\n",
      " [3.36572236]]\n"
     ]
    },
    {
     "name": "stderr",
     "output_type": "stream",
     "text": [
      "\n",
      "  8%|██████▌                                                                          | 68/834 [00:24<05:44,  2.22it/s]"
     ]
    },
    {
     "name": "stdout",
     "output_type": "stream",
     "text": [
      "[[4.44083614]\n",
      " [3.64131738]\n",
      " [1.79952966]\n",
      " ...\n",
      " [3.89628405]\n",
      " [4.67968609]\n",
      " [3.79039714]]\n",
      "[[4.54390733]\n",
      " [3.74168671]\n",
      " [1.47964635]\n",
      " ...\n",
      " [3.59561447]\n",
      " [4.79788153]\n",
      " [3.86145241]]\n"
     ]
    },
    {
     "name": "stderr",
     "output_type": "stream",
     "text": [
      "\n",
      "  8%|██████▋                                                                          | 69/834 [00:24<05:38,  2.26it/s]"
     ]
    },
    {
     "name": "stdout",
     "output_type": "stream",
     "text": [
      "[[ 1.89087928]\n",
      " [-0.25271033]\n",
      " [ 4.65148181]\n",
      " ...\n",
      " [-0.36159496]\n",
      " [ 3.96081544]\n",
      " [ 4.36540984]]\n",
      "[[1.56836646]\n",
      " [0.17228207]\n",
      " [4.63095104]\n",
      " ...\n",
      " [0.26754657]\n",
      " [4.15569238]\n",
      " [4.21310899]]\n"
     ]
    },
    {
     "name": "stderr",
     "output_type": "stream",
     "text": [
      "\n",
      "  8%|██████▊                                                                          | 70/834 [00:24<05:40,  2.24it/s]"
     ]
    },
    {
     "name": "stdout",
     "output_type": "stream",
     "text": [
      "[[5.3909174 ]\n",
      " [2.28757649]\n",
      " [0.73463281]\n",
      " ...\n",
      " [4.92050228]\n",
      " [2.47968791]\n",
      " [0.5714348 ]]\n",
      "[[ 4.62511589]\n",
      " [ 2.55050966]\n",
      " [ 0.36777579]\n",
      " ...\n",
      " [ 3.88479302]\n",
      " [ 2.5317469 ]\n",
      " [-0.04858329]]\n"
     ]
    },
    {
     "name": "stderr",
     "output_type": "stream",
     "text": [
      "\n",
      "  9%|██████▉                                                                          | 71/834 [00:25<05:43,  2.22it/s]"
     ]
    },
    {
     "name": "stdout",
     "output_type": "stream",
     "text": [
      "[[3.941701  ]\n",
      " [5.08457059]\n",
      " [4.97526693]\n",
      " ...\n",
      " [3.86679044]\n",
      " [4.8424973 ]\n",
      " [3.43034938]]\n",
      "[[3.93076499]\n",
      " [4.99927489]\n",
      " [4.539265  ]\n",
      " ...\n",
      " [3.79226878]\n",
      " [4.71041872]\n",
      " [2.87453793]]\n"
     ]
    },
    {
     "name": "stderr",
     "output_type": "stream",
     "text": [
      "\n",
      "  9%|██████▉                                                                          | 72/834 [00:25<05:42,  2.23it/s]"
     ]
    },
    {
     "name": "stdout",
     "output_type": "stream",
     "text": [
      "[[1.65038543]\n",
      " [6.46661246]\n",
      " [6.80909298]\n",
      " ...\n",
      " [5.77104661]\n",
      " [2.10645667]\n",
      " [5.75895906]]\n",
      "[[2.14366091]\n",
      " [6.34003817]\n",
      " [6.26208569]\n",
      " ...\n",
      " [5.27188289]\n",
      " [2.58374746]\n",
      " [5.6264087 ]]\n"
     ]
    },
    {
     "name": "stderr",
     "output_type": "stream",
     "text": [
      "\n",
      "  9%|███████                                                                          | 73/834 [00:26<05:43,  2.21it/s]"
     ]
    },
    {
     "name": "stdout",
     "output_type": "stream",
     "text": [
      "[[7.29849362]\n",
      " [3.14221447]\n",
      " [4.30252236]\n",
      " ...\n",
      " [7.51055756]\n",
      " [3.09499245]\n",
      " [4.36221873]]\n",
      "[[6.7455329 ]\n",
      " [3.09195377]\n",
      " [3.8425607 ]\n",
      " ...\n",
      " [7.17681837]\n",
      " [3.23770363]\n",
      " [4.10053246]]\n"
     ]
    },
    {
     "name": "stderr",
     "output_type": "stream",
     "text": [
      "\n",
      "  9%|███████▏                                                                         | 74/834 [00:26<05:45,  2.20it/s]"
     ]
    },
    {
     "name": "stdout",
     "output_type": "stream",
     "text": [
      "[[ 3.65566127]\n",
      " [ 1.20488677]\n",
      " [-0.59029137]\n",
      " ...\n",
      " [ 1.24859534]\n",
      " [-0.44985018]\n",
      " [ 2.83667349]]\n",
      "[[3.87541164]\n",
      " [0.92217975]\n",
      " [0.28324668]\n",
      " ...\n",
      " [0.82423946]\n",
      " [0.28933974]\n",
      " [2.79461891]]\n"
     ]
    },
    {
     "name": "stderr",
     "output_type": "stream",
     "text": [
      "\n",
      "  9%|███████▎                                                                         | 75/834 [00:27<05:49,  2.17it/s]"
     ]
    },
    {
     "name": "stdout",
     "output_type": "stream",
     "text": [
      "[[3.242525  ]\n",
      " [4.40135015]\n",
      " [4.65973358]\n",
      " ...\n",
      " [3.14743629]\n",
      " [0.15207747]\n",
      " [2.53828835]]\n",
      "[[ 3.23148161]\n",
      " [ 4.49303512]\n",
      " [ 4.43681133]\n",
      " ...\n",
      " [ 3.27764702]\n",
      " [-0.12450474]\n",
      " [ 2.28586454]]\n"
     ]
    },
    {
     "name": "stderr",
     "output_type": "stream",
     "text": [
      "\n",
      "  9%|███████▍                                                                         | 76/834 [00:27<06:00,  2.10it/s]"
     ]
    },
    {
     "name": "stdout",
     "output_type": "stream",
     "text": [
      "[[0.9179445 ]\n",
      " [4.75176011]\n",
      " [3.73173224]\n",
      " ...\n",
      " [0.88725825]\n",
      " [4.86415819]\n",
      " [4.11653529]]\n",
      "[[0.65298902]\n",
      " [4.85400861]\n",
      " [3.83459781]\n",
      " ...\n",
      " [0.47699953]\n",
      " [4.81844964]\n",
      " [4.12561395]]\n"
     ]
    },
    {
     "name": "stderr",
     "output_type": "stream",
     "text": [
      "\n",
      "  9%|███████▍                                                                         | 77/834 [00:28<05:55,  2.13it/s]"
     ]
    },
    {
     "name": "stdout",
     "output_type": "stream",
     "text": [
      "[[2.5006719 ]\n",
      " [2.44033086]\n",
      " [2.19065047]\n",
      " ...\n",
      " [3.13966803]\n",
      " [2.78729183]\n",
      " [2.85072728]]\n",
      "[[2.50331262]\n",
      " [2.45314965]\n",
      " [2.08356851]\n",
      " ...\n",
      " [3.15823594]\n",
      " [2.79516696]\n",
      " [2.74068404]]\n"
     ]
    },
    {
     "name": "stderr",
     "output_type": "stream",
     "text": [
      "\n",
      "  9%|███████▌                                                                         | 78/834 [00:28<05:49,  2.16it/s]"
     ]
    },
    {
     "name": "stdout",
     "output_type": "stream",
     "text": [
      "[[2.64220902]\n",
      " [2.70951249]\n",
      " [5.02825874]\n",
      " ...\n",
      " [2.47991355]\n",
      " [3.04309658]\n",
      " [5.00469608]]\n",
      "[[2.61814584]\n",
      " [2.37858221]\n",
      " [5.05507958]\n",
      " ...\n",
      " [2.48087469]\n",
      " [2.70222362]\n",
      " [4.99647015]]\n"
     ]
    },
    {
     "name": "stderr",
     "output_type": "stream",
     "text": [
      "\n",
      "  9%|███████▋                                                                         | 79/834 [00:29<05:47,  2.18it/s]"
     ]
    },
    {
     "name": "stdout",
     "output_type": "stream",
     "text": [
      "[[4.61357526]\n",
      " [4.85642216]\n",
      " [5.20860495]\n",
      " ...\n",
      " [3.45136559]\n",
      " [4.77267962]\n",
      " [4.95853776]]\n",
      "[[4.32513747]\n",
      " [4.85871542]\n",
      " [4.86087539]\n",
      " ...\n",
      " [3.31762265]\n",
      " [4.8412422 ]\n",
      " [4.67650392]]\n"
     ]
    },
    {
     "name": "stderr",
     "output_type": "stream",
     "text": [
      "\n",
      " 10%|███████▊                                                                         | 80/834 [00:29<05:44,  2.19it/s]"
     ]
    },
    {
     "name": "stdout",
     "output_type": "stream",
     "text": [
      "[[-0.05196034]\n",
      " [ 3.52366525]\n",
      " [ 3.64283235]\n",
      " ...\n",
      " [-0.08722375]\n",
      " [ 3.19288547]\n",
      " [ 2.32454827]]\n",
      "[[0.45578666]\n",
      " [3.5154053 ]\n",
      " [3.7037421 ]\n",
      " ...\n",
      " [0.44443874]\n",
      " [3.1649093 ]\n",
      " [2.38934984]]\n"
     ]
    },
    {
     "name": "stderr",
     "output_type": "stream",
     "text": [
      "\n",
      " 10%|███████▊                                                                         | 81/834 [00:30<05:48,  2.16it/s]"
     ]
    },
    {
     "name": "stdout",
     "output_type": "stream",
     "text": [
      "[[5.98278821]\n",
      " [6.89344795]\n",
      " [3.96258828]\n",
      " ...\n",
      " [5.83870464]\n",
      " [6.87378554]\n",
      " [3.97944638]]\n",
      "[[5.97213342]\n",
      " [6.47750275]\n",
      " [4.61576675]\n",
      " ...\n",
      " [5.86403803]\n",
      " [6.50683971]\n",
      " [4.65303435]]\n"
     ]
    },
    {
     "name": "stderr",
     "output_type": "stream",
     "text": [
      "\n",
      " 10%|███████▉                                                                         | 82/834 [00:30<05:50,  2.15it/s]"
     ]
    },
    {
     "name": "stdout",
     "output_type": "stream",
     "text": [
      "[[4.25094883]\n",
      " [4.43261661]\n",
      " [1.1121511 ]\n",
      " ...\n",
      " [4.42926433]\n",
      " [4.80591232]\n",
      " [1.02180071]]\n",
      "[[4.30672934]\n",
      " [4.10569061]\n",
      " [1.76937296]\n",
      " ...\n",
      " [4.41675904]\n",
      " [4.41211671]\n",
      " [1.58290599]]\n"
     ]
    },
    {
     "name": "stderr",
     "output_type": "stream",
     "text": [
      "\n",
      " 10%|████████                                                                         | 83/834 [00:30<05:51,  2.14it/s]"
     ]
    },
    {
     "name": "stdout",
     "output_type": "stream",
     "text": [
      "[[6.24665132]\n",
      " [6.95701234]\n",
      " [4.04639528]\n",
      " ...\n",
      " [6.24072037]\n",
      " [7.13977606]\n",
      " [4.08065945]]\n",
      "[[6.28275051]\n",
      " [6.61300079]\n",
      " [4.69803917]\n",
      " ...\n",
      " [6.31621398]\n",
      " [6.83199632]\n",
      " [4.79423859]]\n"
     ]
    },
    {
     "name": "stderr",
     "output_type": "stream",
     "text": [
      "\n",
      " 10%|████████▏                                                                        | 84/834 [00:31<05:46,  2.16it/s]"
     ]
    },
    {
     "name": "stdout",
     "output_type": "stream",
     "text": [
      "[[6.39827752]\n",
      " [7.68104033]\n",
      " [4.65393155]\n",
      " ...\n",
      " [6.20797117]\n",
      " [7.45108682]\n",
      " [4.92843171]]\n",
      "[[6.48156479]\n",
      " [7.36931392]\n",
      " [4.6889157 ]\n",
      " ...\n",
      " [6.22472137]\n",
      " [7.05560194]\n",
      " [5.58298356]]\n"
     ]
    },
    {
     "name": "stderr",
     "output_type": "stream",
     "text": [
      "\n",
      " 10%|████████▎                                                                        | 85/834 [00:31<05:44,  2.18it/s]"
     ]
    },
    {
     "name": "stdout",
     "output_type": "stream",
     "text": [
      "[[4.12394899]\n",
      " [4.70247515]\n",
      " [3.14901573]\n",
      " ...\n",
      " [3.7801469 ]\n",
      " [3.42544989]\n",
      " [2.8809945 ]]\n",
      "[[4.06581169]\n",
      " [4.28087413]\n",
      " [3.23151385]\n",
      " ...\n",
      " [3.68072387]\n",
      " [2.9947872 ]\n",
      " [2.94227083]]\n"
     ]
    },
    {
     "name": "stderr",
     "output_type": "stream",
     "text": [
      "\n",
      " 10%|████████▎                                                                        | 86/834 [00:32<05:48,  2.15it/s]"
     ]
    },
    {
     "name": "stdout",
     "output_type": "stream",
     "text": [
      "[[1.11218334]\n",
      " [0.64318648]\n",
      " [4.70486042]\n",
      " ...\n",
      " [3.69247188]\n",
      " [0.9678419 ]\n",
      " [4.87589117]]\n",
      "[[0.59109127]\n",
      " [1.13601713]\n",
      " [4.7060343 ]\n",
      " ...\n",
      " [3.45276607]\n",
      " [1.44598945]\n",
      " [4.91052254]]\n"
     ]
    },
    {
     "name": "stderr",
     "output_type": "stream",
     "text": [
      "\n",
      " 10%|████████▍                                                                        | 87/834 [00:32<05:53,  2.11it/s]"
     ]
    },
    {
     "name": "stdout",
     "output_type": "stream",
     "text": [
      "[[4.34220175]\n",
      " [4.85139374]\n",
      " [5.19158568]\n",
      " ...\n",
      " [5.4824282 ]\n",
      " [4.942969  ]\n",
      " [5.56639637]]\n",
      "[[4.04956353]\n",
      " [4.87931576]\n",
      " [4.83137724]\n",
      " ...\n",
      " [5.14341282]\n",
      " [4.97735277]\n",
      " [5.21127468]]\n"
     ]
    },
    {
     "name": "stderr",
     "output_type": "stream",
     "text": [
      "\n",
      " 11%|████████▌                                                                        | 88/834 [00:33<06:02,  2.06it/s]"
     ]
    },
    {
     "name": "stdout",
     "output_type": "stream",
     "text": [
      "[[5.23780846]\n",
      " [5.79899302]\n",
      " [5.18107757]\n",
      " ...\n",
      " [5.17095627]\n",
      " [5.79770368]\n",
      " [5.18739533]]\n",
      "[[5.28319857]\n",
      " [5.43459015]\n",
      " [5.22703926]\n",
      " ...\n",
      " [5.21153259]\n",
      " [5.42998006]\n",
      " [5.22687807]]\n"
     ]
    },
    {
     "name": "stderr",
     "output_type": "stream",
     "text": [
      "\n",
      " 11%|████████▋                                                                        | 89/834 [00:33<06:02,  2.05it/s]"
     ]
    },
    {
     "name": "stdout",
     "output_type": "stream",
     "text": [
      "[[5.76256921]\n",
      " [0.88313236]\n",
      " [4.36866542]\n",
      " ...\n",
      " [5.32074516]\n",
      " [1.45295548]\n",
      " [3.94234567]]\n",
      "[[5.46792467]\n",
      " [1.4721348 ]\n",
      " [4.42265867]\n",
      " ...\n",
      " [5.09225047]\n",
      " [2.26481286]\n",
      " [4.04501792]]\n"
     ]
    },
    {
     "name": "stderr",
     "output_type": "stream",
     "text": [
      "\n",
      " 11%|████████▋                                                                        | 90/834 [00:34<06:03,  2.05it/s]"
     ]
    },
    {
     "name": "stdout",
     "output_type": "stream",
     "text": [
      "[[ 3.60611844]\n",
      " [-0.00812283]\n",
      " [ 5.56878164]\n",
      " ...\n",
      " [ 1.16208073]\n",
      " [-0.24613471]\n",
      " [ 5.37502631]]\n",
      "[[3.29811841]\n",
      " [0.63519341]\n",
      " [5.60954801]\n",
      " ...\n",
      " [0.74564221]\n",
      " [0.42574046]\n",
      " [5.47317953]]\n"
     ]
    },
    {
     "name": "stderr",
     "output_type": "stream",
     "text": [
      "\n",
      " 11%|████████▊                                                                        | 91/834 [00:34<06:03,  2.05it/s]"
     ]
    },
    {
     "name": "stdout",
     "output_type": "stream",
     "text": [
      "[[5.30117945]\n",
      " [0.23594893]\n",
      " [3.41039687]\n",
      " ...\n",
      " [6.37133035]\n",
      " [0.88912779]\n",
      " [3.76822051]]\n",
      "[[4.94849939]\n",
      " [0.75321824]\n",
      " [3.50992477]\n",
      " ...\n",
      " [5.90604468]\n",
      " [1.32815806]\n",
      " [3.80413251]]\n"
     ]
    },
    {
     "name": "stderr",
     "output_type": "stream",
     "text": [
      "\n",
      " 11%|████████▉                                                                        | 92/834 [00:35<06:06,  2.02it/s]"
     ]
    },
    {
     "name": "stdout",
     "output_type": "stream",
     "text": [
      "[[4.185805  ]\n",
      " [4.38484662]\n",
      " [4.5217099 ]\n",
      " ...\n",
      " [4.45195669]\n",
      " [4.5310576 ]\n",
      " [5.3135571 ]]\n",
      "[[3.82695731]\n",
      " [4.02457877]\n",
      " [3.77092695]\n",
      " ...\n",
      " [4.05533421]\n",
      " [4.13067538]\n",
      " [4.52582158]]\n"
     ]
    },
    {
     "name": "stderr",
     "output_type": "stream",
     "text": [
      "\n",
      " 11%|█████████                                                                        | 93/834 [00:35<06:04,  2.03it/s]"
     ]
    },
    {
     "name": "stdout",
     "output_type": "stream",
     "text": [
      "[[2.01549384]\n",
      " [2.55795076]\n",
      " [3.34080482]\n",
      " ...\n",
      " [1.79050429]\n",
      " [2.50334727]\n",
      " [3.26118817]]\n",
      "[[2.17696319]\n",
      " [2.64716041]\n",
      " [2.92553909]\n",
      " ...\n",
      " [1.95322861]\n",
      " [2.54699567]\n",
      " [2.79565053]]\n"
     ]
    },
    {
     "name": "stderr",
     "output_type": "stream",
     "text": [
      "\n",
      " 11%|█████████▏                                                                       | 94/834 [00:36<06:03,  2.03it/s]"
     ]
    },
    {
     "name": "stdout",
     "output_type": "stream",
     "text": [
      "[[5.33679742]\n",
      " [5.28457922]\n",
      " [1.30036228]\n",
      " ...\n",
      " [5.19990191]\n",
      " [4.27634879]\n",
      " [1.37801269]]\n",
      "[[5.29306353]\n",
      " [4.90749213]\n",
      " [1.05316441]\n",
      " ...\n",
      " [5.07474501]\n",
      " [3.80851693]\n",
      " [1.06686574]]\n"
     ]
    },
    {
     "name": "stderr",
     "output_type": "stream",
     "text": [
      "\n",
      " 11%|█████████▏                                                                       | 95/834 [00:36<06:04,  2.03it/s]"
     ]
    },
    {
     "name": "stdout",
     "output_type": "stream",
     "text": [
      "[[5.27229827]\n",
      " [4.32721319]\n",
      " [0.56866272]\n",
      " ...\n",
      " [5.07296655]\n",
      " [4.17913267]\n",
      " [0.56985536]]\n",
      "[[5.15769444]\n",
      " [3.77386064]\n",
      " [1.01528428]\n",
      " ...\n",
      " [5.11810567]\n",
      " [3.78320978]\n",
      " [1.16522513]]\n"
     ]
    },
    {
     "name": "stderr",
     "output_type": "stream",
     "text": [
      "\n",
      " 12%|█████████▎                                                                       | 96/834 [00:37<06:08,  2.00it/s]"
     ]
    },
    {
     "name": "stdout",
     "output_type": "stream",
     "text": [
      "[[2.95058655]\n",
      " [1.50459349]\n",
      " [3.98547404]\n",
      " ...\n",
      " [3.73379518]\n",
      " [4.49740587]\n",
      " [1.63694408]]\n",
      "[[2.9740579 ]\n",
      " [2.21787373]\n",
      " [3.98453866]\n",
      " ...\n",
      " [3.84578454]\n",
      " [4.17829151]\n",
      " [2.37784073]]\n"
     ]
    },
    {
     "name": "stderr",
     "output_type": "stream",
     "text": [
      "\n",
      " 12%|█████████▍                                                                       | 97/834 [00:37<06:05,  2.02it/s]"
     ]
    },
    {
     "name": "stdout",
     "output_type": "stream",
     "text": [
      "[[4.26281074]\n",
      " [0.71206939]\n",
      " [3.00983165]\n",
      " ...\n",
      " [4.3294373 ]\n",
      " [0.97390179]\n",
      " [3.28146302]]\n",
      "[[4.3124033 ]\n",
      " [0.79038913]\n",
      " [3.10536495]\n",
      " ...\n",
      " [4.38906624]\n",
      " [1.04681345]\n",
      " [3.35369743]]\n"
     ]
    },
    {
     "name": "stderr",
     "output_type": "stream",
     "text": [
      "\n",
      " 12%|█████████▌                                                                       | 98/834 [00:38<06:08,  2.00it/s]"
     ]
    },
    {
     "name": "stdout",
     "output_type": "stream",
     "text": [
      "[[1.77580583]\n",
      " [0.08206639]\n",
      " [2.90932772]\n",
      " ...\n",
      " [0.20281294]\n",
      " [2.96863728]\n",
      " [2.9886865 ]]\n",
      "[[1.30991112]\n",
      " [0.61636618]\n",
      " [2.97579878]\n",
      " ...\n",
      " [0.70028277]\n",
      " [2.98298794]\n",
      " [2.72018041]]\n"
     ]
    },
    {
     "name": "stderr",
     "output_type": "stream",
     "text": [
      "\n",
      " 12%|█████████▌                                                                       | 99/834 [00:38<06:14,  1.96it/s]"
     ]
    },
    {
     "name": "stdout",
     "output_type": "stream",
     "text": [
      "[[2.44922729]\n",
      " [2.22868595]\n",
      " [4.85609982]\n",
      " ...\n",
      " [2.99155527]\n",
      " [2.35871574]\n",
      " [2.01707328]]\n",
      "[[2.48093917]\n",
      " [1.91422014]\n",
      " [4.87302927]\n",
      " ...\n",
      " [2.63187941]\n",
      " [2.33799405]\n",
      " [1.51781663]]\n"
     ]
    },
    {
     "name": "stderr",
     "output_type": "stream",
     "text": [
      "\n",
      " 12%|█████████▌                                                                      | 100/834 [00:39<06:07,  2.00it/s]"
     ]
    },
    {
     "name": "stdout",
     "output_type": "stream",
     "text": [
      "[[4.78750702]\n",
      " [4.70885737]\n",
      " [2.3318975 ]\n",
      " ...\n",
      " [4.75746543]\n",
      " [4.65167521]\n",
      " [2.33428277]]\n",
      "[[4.75484325]\n",
      " [4.39248351]\n",
      " [2.93443689]\n",
      " ...\n",
      " [4.83534257]\n",
      " [4.42778457]\n",
      " [3.04085589]]\n"
     ]
    },
    {
     "name": "stderr",
     "output_type": "stream",
     "text": [
      "\n",
      " 12%|█████████▋                                                                      | 101/834 [00:39<06:14,  1.96it/s]"
     ]
    },
    {
     "name": "stdout",
     "output_type": "stream",
     "text": [
      "[[3.73240914]\n",
      " [3.5957715 ]\n",
      " [1.21984309]\n",
      " ...\n",
      " [3.86479196]\n",
      " [4.395806  ]\n",
      " [0.9255516 ]]\n",
      "[[3.80945185]\n",
      " [3.36259523]\n",
      " [1.80393253]\n",
      " ...\n",
      " [3.96403503]\n",
      " [4.14921246]\n",
      " [1.47539088]]\n"
     ]
    },
    {
     "name": "stderr",
     "output_type": "stream",
     "text": [
      "\n",
      " 12%|█████████▊                                                                      | 102/834 [00:40<06:12,  1.97it/s]"
     ]
    },
    {
     "name": "stdout",
     "output_type": "stream",
     "text": [
      "[[6.45281654]\n",
      " [6.47982818]\n",
      " [3.1317386 ]\n",
      " ...\n",
      " [6.54403723]\n",
      " [6.65337313]\n",
      " [3.18753472]]\n",
      "[[6.53391997]\n",
      " [6.1937725 ]\n",
      " [3.85290923]\n",
      " ...\n",
      " [6.58878975]\n",
      " [6.30476935]\n",
      " [3.87612088]]\n"
     ]
    },
    {
     "name": "stderr",
     "output_type": "stream",
     "text": [
      "\n",
      " 12%|█████████▉                                                                      | 103/834 [00:40<06:05,  2.00it/s]"
     ]
    },
    {
     "name": "stdout",
     "output_type": "stream",
     "text": [
      "[[1.68365036]\n",
      " [4.12862284]\n",
      " [4.34710124]\n",
      " ...\n",
      " [4.63465594]\n",
      " [4.14290226]\n",
      " [2.19619463]]\n",
      "[[1.68977632]\n",
      " [4.13809021]\n",
      " [3.83840194]\n",
      " ...\n",
      " [4.65561343]\n",
      " [3.64013571]\n",
      " [2.25639863]]\n"
     ]
    },
    {
     "name": "stderr",
     "output_type": "stream",
     "text": [
      "\n",
      " 12%|█████████▉                                                                      | 104/834 [00:41<06:07,  1.99it/s]"
     ]
    },
    {
     "name": "stdout",
     "output_type": "stream",
     "text": [
      "[[3.30847466]\n",
      " [0.19288503]\n",
      " [4.03840138]\n",
      " ...\n",
      " [3.31147237]\n",
      " [0.27862604]\n",
      " [4.03176129]]\n",
      "[[3.00864972]\n",
      " [0.81456793]\n",
      " [4.00926552]\n",
      " ...\n",
      " [2.87166871]\n",
      " [0.76575898]\n",
      " [3.8753794 ]]\n"
     ]
    },
    {
     "name": "stderr",
     "output_type": "stream",
     "text": [
      "\n",
      " 13%|██████████                                                                      | 105/834 [00:41<06:07,  1.98it/s]"
     ]
    },
    {
     "name": "stdout",
     "output_type": "stream",
     "text": [
      "[[4.4634318 ]\n",
      " [3.7317967 ]\n",
      " [4.78318773]\n",
      " ...\n",
      " [4.09281147]\n",
      " [4.63697675]\n",
      " [5.59402044]]\n",
      "[[4.33094039]\n",
      " [3.20585208]\n",
      " [4.67215173]\n",
      " ...\n",
      " [3.95246144]\n",
      " [4.51795541]\n",
      " [5.08367505]]\n"
     ]
    },
    {
     "name": "stderr",
     "output_type": "stream",
     "text": [
      "\n",
      " 13%|██████████▏                                                                     | 106/834 [00:42<06:08,  1.98it/s]"
     ]
    },
    {
     "name": "stdout",
     "output_type": "stream",
     "text": [
      "[[4.91128351]\n",
      " [5.01191637]\n",
      " [4.62672651]\n",
      " ...\n",
      " [5.28686779]\n",
      " [5.84063865]\n",
      " [4.57022126]]\n",
      "[[4.81622519]\n",
      " [4.54864638]\n",
      " [4.62427769]\n",
      " ...\n",
      " [5.31572713]\n",
      " [5.4905238 ]\n",
      " [4.66573629]]\n"
     ]
    },
    {
     "name": "stderr",
     "output_type": "stream",
     "text": [
      "\n",
      " 13%|██████████▎                                                                     | 107/834 [00:42<06:09,  1.97it/s]"
     ]
    },
    {
     "name": "stdout",
     "output_type": "stream",
     "text": [
      "[[5.24083841]\n",
      " [6.05873025]\n",
      " [0.64605526]\n",
      " ...\n",
      " [5.32938373]\n",
      " [6.33065172]\n",
      " [0.63370984]]\n",
      "[[5.18622543]\n",
      " [5.62898777]\n",
      " [1.16641795]\n",
      " ...\n",
      " [5.24960615]\n",
      " [5.89140844]\n",
      " [1.11754452]]\n"
     ]
    },
    {
     "name": "stderr",
     "output_type": "stream",
     "text": [
      "\n",
      " 13%|██████████▎                                                                     | 108/834 [00:43<06:15,  1.93it/s]"
     ]
    },
    {
     "name": "stdout",
     "output_type": "stream",
     "text": [
      "[[6.40772193]\n",
      " [6.71023296]\n",
      " [2.85514327]\n",
      " ...\n",
      " [3.10266401]\n",
      " [5.48797235]\n",
      " [6.32962025]]\n",
      "[[6.42943528]\n",
      " [6.40819017]\n",
      " [3.47397894]\n",
      " ...\n",
      " [3.68085283]\n",
      " [5.41047582]\n",
      " [5.82667371]]\n"
     ]
    },
    {
     "name": "stderr",
     "output_type": "stream",
     "text": [
      "\n",
      " 13%|██████████▍                                                                     | 109/834 [00:43<06:16,  1.93it/s]"
     ]
    },
    {
     "name": "stdout",
     "output_type": "stream",
     "text": [
      "[[3.32874951]\n",
      " [5.98117654]\n",
      " [6.85950612]\n",
      " ...\n",
      " [6.2332422 ]\n",
      " [3.09673306]\n",
      " [5.73855528]]\n",
      "[[3.88882282]\n",
      " [5.90443276]\n",
      " [6.35699557]\n",
      " ...\n",
      " [5.7225114 ]\n",
      " [3.66560406]\n",
      " [5.64407535]]\n"
     ]
    },
    {
     "name": "stderr",
     "output_type": "stream",
     "text": [
      "\n",
      " 13%|██████████▌                                                                     | 110/834 [00:44<06:14,  1.93it/s]"
     ]
    },
    {
     "name": "stdout",
     "output_type": "stream",
     "text": [
      "[[6.71087763]\n",
      " [3.92055585]\n",
      " [3.36178881]\n",
      " ...\n",
      " [5.78029761]\n",
      " [6.69653374]\n",
      " [3.90959647]]\n",
      "[[6.20763501]\n",
      " [4.45995851]\n",
      " [3.27287573]\n",
      " ...\n",
      " [5.64904006]\n",
      " [6.13916063]\n",
      " [4.41437339]]\n"
     ]
    },
    {
     "name": "stderr",
     "output_type": "stream",
     "text": [
      "\n",
      " 13%|██████████▋                                                                     | 111/834 [00:45<06:19,  1.90it/s]"
     ]
    },
    {
     "name": "stdout",
     "output_type": "stream",
     "text": [
      "[[3.34873425]\n",
      " [4.99002985]\n",
      " [4.3781743 ]\n",
      " ...\n",
      " [3.3018668 ]\n",
      " [4.91121904]\n",
      " [4.38378292]]\n",
      "[[3.21877968]\n",
      " [4.45489708]\n",
      " [4.242994  ]\n",
      " ...\n",
      " [3.31913785]\n",
      " [4.5323015 ]\n",
      " [4.3947402 ]]\n"
     ]
    },
    {
     "name": "stderr",
     "output_type": "stream",
     "text": [
      "\n",
      " 13%|██████████▋                                                                     | 112/834 [00:45<06:17,  1.91it/s]"
     ]
    },
    {
     "name": "stdout",
     "output_type": "stream",
     "text": [
      "[[4.9866131 ]\n",
      " [5.30134062]\n",
      " [5.75515551]\n",
      " ...\n",
      " [5.11467664]\n",
      " [5.29002667]\n",
      " [5.86165487]]\n",
      "[[4.56118712]\n",
      " [5.30866692]\n",
      " [5.40032072]\n",
      " ...\n",
      " [4.66715478]\n",
      " [5.23961224]\n",
      " [5.46973002]]\n"
     ]
    },
    {
     "name": "stderr",
     "output_type": "stream",
     "text": [
      "\n",
      " 14%|██████████▊                                                                     | 113/834 [00:46<06:19,  1.90it/s]"
     ]
    },
    {
     "name": "stdout",
     "output_type": "stream",
     "text": [
      "[[0.46977046]\n",
      " [4.8513615 ]\n",
      " [4.47052316]\n",
      " ...\n",
      " [4.75566036]\n",
      " [3.97902735]\n",
      " [3.72715509]]\n",
      "[[0.91244375]\n",
      " [4.81200196]\n",
      " [4.14869665]\n",
      " ...\n",
      " [4.72141202]\n",
      " [3.56166742]\n",
      " [3.60074038]]\n"
     ]
    },
    {
     "name": "stderr",
     "output_type": "stream",
     "text": [
      "\n",
      " 14%|██████████▉                                                                     | 114/834 [00:46<06:17,  1.91it/s]"
     ]
    },
    {
     "name": "stdout",
     "output_type": "stream",
     "text": [
      "[[3.44707854]\n",
      " [6.84442086]\n",
      " [7.6885185 ]\n",
      " ...\n",
      " [2.58512357]\n",
      " [6.65259953]\n",
      " [7.35493441]]\n",
      "[[3.04424092]\n",
      " [6.85759362]\n",
      " [7.29281217]\n",
      " ...\n",
      " [2.32429273]\n",
      " [6.81713441]\n",
      " [7.09606115]]\n"
     ]
    },
    {
     "name": "stderr",
     "output_type": "stream",
     "text": [
      "\n",
      " 14%|███████████                                                                     | 115/834 [00:47<06:16,  1.91it/s]"
     ]
    },
    {
     "name": "stdout",
     "output_type": "stream",
     "text": [
      "[[4.78634661]\n",
      " [5.05246606]\n",
      " [5.16438064]\n",
      " ...\n",
      " [7.43271375]\n",
      " [4.81361612]\n",
      " [5.10713401]]\n",
      "[[5.57511739]\n",
      " [5.20876008]\n",
      " [4.88876161]\n",
      " ...\n",
      " [7.13078191]\n",
      " [5.55732178]\n",
      " [5.21417614]]\n"
     ]
    },
    {
     "name": "stderr",
     "output_type": "stream",
     "text": [
      "\n",
      " 14%|███████████▏                                                                    | 116/834 [00:47<06:21,  1.88it/s]"
     ]
    },
    {
     "name": "stdout",
     "output_type": "stream",
     "text": [
      "[[5.20966865]\n",
      " [1.74963226]\n",
      " [5.09185535]\n",
      " ...\n",
      " [6.0293978 ]\n",
      " [1.45640446]\n",
      " [5.25270032]]\n",
      "[[4.89827195]\n",
      " [2.41704263]\n",
      " [5.21662626]\n",
      " ...\n",
      " [5.64965259]\n",
      " [2.03498522]\n",
      " [5.26037378]]\n"
     ]
    },
    {
     "name": "stderr",
     "output_type": "stream",
     "text": [
      "\n",
      " 14%|███████████▏                                                                    | 117/834 [00:48<06:28,  1.85it/s]"
     ]
    },
    {
     "name": "stdout",
     "output_type": "stream",
     "text": [
      "[[6.82769169]\n",
      " [7.55088162]\n",
      " [5.21621205]\n",
      " ...\n",
      " [6.77740749]\n",
      " [7.5294786 ]\n",
      " [5.24509323]]\n",
      "[[6.83705775]\n",
      " [7.14619188]\n",
      " [5.86632695]\n",
      " ...\n",
      " [6.76110405]\n",
      " [7.09970409]\n",
      " [5.87709458]]\n"
     ]
    },
    {
     "name": "stderr",
     "output_type": "stream",
     "text": [
      "\n",
      " 14%|███████████▎                                                                    | 118/834 [00:48<06:26,  1.85it/s]"
     ]
    },
    {
     "name": "stdout",
     "output_type": "stream",
     "text": [
      "[[5.18526792]\n",
      " [5.14794158]\n",
      " [4.07730717]\n",
      " ...\n",
      " [4.80426842]\n",
      " [4.04233387]\n",
      " [4.63658995]]\n",
      "[[5.18667677]\n",
      " [4.75845396]\n",
      " [4.71996129]\n",
      " ...\n",
      " [4.57843467]\n",
      " [4.86909618]\n",
      " [4.81519356]]\n"
     ]
    },
    {
     "name": "stderr",
     "output_type": "stream",
     "text": [
      "\n",
      " 14%|███████████▍                                                                    | 119/834 [00:49<06:32,  1.82it/s]"
     ]
    },
    {
     "name": "stdout",
     "output_type": "stream",
     "text": [
      "[[1.76162311]\n",
      " [3.35247334]\n",
      " [3.9070178 ]\n",
      " ...\n",
      " [1.56293605]\n",
      " [3.24287957]\n",
      " [3.54858171]]\n",
      "[[1.52806845]\n",
      " [3.46988466]\n",
      " [3.66911805]\n",
      " ...\n",
      " [1.32661062]\n",
      " [3.36017735]\n",
      " [3.34731423]]\n"
     ]
    },
    {
     "name": "stderr",
     "output_type": "stream",
     "text": [
      "\n",
      " 14%|███████████▌                                                                    | 120/834 [00:49<06:33,  1.81it/s]"
     ]
    },
    {
     "name": "stdout",
     "output_type": "stream",
     "text": [
      "[[1.73106578]\n",
      " [4.51210433]\n",
      " [3.84848183]\n",
      " ...\n",
      " [4.03878819]\n",
      " [1.66585749]\n",
      " [5.18410752]]\n",
      "[[2.41694592]\n",
      " [4.68711035]\n",
      " [3.63797574]\n",
      " ...\n",
      " [3.70954501]\n",
      " [2.26739193]\n",
      " [5.27162498]]\n"
     ]
    },
    {
     "name": "stderr",
     "output_type": "stream",
     "text": [
      "\n",
      " 15%|███████████▌                                                                    | 121/834 [00:50<06:33,  1.81it/s]"
     ]
    },
    {
     "name": "stdout",
     "output_type": "stream",
     "text": [
      "[[6.08548402]\n",
      " [0.94701908]\n",
      " [5.66793177]\n",
      " ...\n",
      " [6.39518311]\n",
      " [1.0110992 ]\n",
      " [5.85366097]]\n",
      "[[5.75690979]\n",
      " [1.45911049]\n",
      " [5.73766346]\n",
      " ...\n",
      " [5.98644727]\n",
      " [1.44715004]\n",
      " [5.84553318]]\n"
     ]
    },
    {
     "name": "stderr",
     "output_type": "stream",
     "text": [
      "\n",
      " 15%|███████████▋                                                                    | 122/834 [00:51<06:46,  1.75it/s]"
     ]
    },
    {
     "name": "stdout",
     "output_type": "stream",
     "text": [
      "[[6.95965548]\n",
      " [0.1678074 ]\n",
      " [3.92900102]\n",
      " ...\n",
      " [3.85402599]\n",
      " [5.14961772]\n",
      " [6.51041773]]\n",
      "[[6.55158662]\n",
      " [0.58619103]\n",
      " [3.92786353]\n",
      " ...\n",
      " [3.9264128 ]\n",
      " [5.22510496]\n",
      " [6.17114113]]\n"
     ]
    },
    {
     "name": "stderr",
     "output_type": "stream",
     "text": [
      "\n",
      " 15%|███████████▊                                                                    | 123/834 [00:51<06:49,  1.74it/s]"
     ]
    },
    {
     "name": "stdout",
     "output_type": "stream",
     "text": [
      "[[5.54683065]\n",
      " [6.53797734]\n",
      " [1.04732961]\n",
      " ...\n",
      " [6.21841481]\n",
      " [5.39336715]\n",
      " [6.30950657]]\n",
      "[[5.61960639]\n",
      " [6.15128227]\n",
      " [1.66114861]\n",
      " ...\n",
      " [5.94866386]\n",
      " [5.55051948]\n",
      " [6.01220576]]\n"
     ]
    },
    {
     "name": "stderr",
     "output_type": "stream",
     "text": [
      "\n",
      " 15%|███████████▉                                                                    | 124/834 [00:52<06:50,  1.73it/s]"
     ]
    },
    {
     "name": "stdout",
     "output_type": "stream",
     "text": [
      "[[1.11044273]\n",
      " [5.85717442]\n",
      " [6.85934495]\n",
      " ...\n",
      " [6.30035227]\n",
      " [1.32556885]\n",
      " [5.87964114]]\n",
      "[[1.96248104]\n",
      " [6.00482317]\n",
      " [6.58575934]\n",
      " ...\n",
      " [5.96094669]\n",
      " [2.14704594]\n",
      " [5.98731771]]\n"
     ]
    },
    {
     "name": "stderr",
     "output_type": "stream",
     "text": [
      "\n",
      " 15%|███████████▉                                                                    | 125/834 [00:52<06:45,  1.75it/s]"
     ]
    },
    {
     "name": "stdout",
     "output_type": "stream",
     "text": [
      "[[6.72338421]\n",
      " [3.18476264]\n",
      " [2.4839105 ]\n",
      " ...\n",
      " [6.80822268]\n",
      " [2.65771332]\n",
      " [2.45638312]]\n",
      "[[6.40274188]\n",
      " [4.02938229]\n",
      " [2.52336491]\n",
      " ...\n",
      " [6.68966374]\n",
      " [3.71528345]\n",
      " [2.6542851 ]]\n"
     ]
    },
    {
     "name": "stderr",
     "output_type": "stream",
     "text": [
      "\n",
      " 15%|████████████                                                                    | 126/834 [00:53<06:46,  1.74it/s]"
     ]
    },
    {
     "name": "stdout",
     "output_type": "stream",
     "text": [
      "[[3.3508939 ]\n",
      " [7.53989001]\n",
      " [6.1231327 ]\n",
      " ...\n",
      " [7.8159696 ]\n",
      " [6.32291569]\n",
      " [5.50141371]]\n",
      "[[3.11197382]\n",
      " [7.82532624]\n",
      " [6.4103179 ]\n",
      " ...\n",
      " [7.89264005]\n",
      " [6.39713239]\n",
      " [5.24622112]]\n"
     ]
    },
    {
     "name": "stderr",
     "output_type": "stream",
     "text": [
      "\n",
      " 15%|████████████▏                                                                   | 127/834 [00:53<06:46,  1.74it/s]"
     ]
    },
    {
     "name": "stdout",
     "output_type": "stream",
     "text": [
      "[[2.34698276]\n",
      " [4.93797281]\n",
      " [5.98227248]\n",
      " ...\n",
      " [4.78518621]\n",
      " [5.9215124 ]\n",
      " [3.69949878]]\n",
      "[[3.20240257]\n",
      " [4.97706262]\n",
      " [5.59094645]\n",
      " ...\n",
      " [4.76390225]\n",
      " [5.47788634]\n",
      " [4.23171056]]\n"
     ]
    },
    {
     "name": "stderr",
     "output_type": "stream",
     "text": [
      "\n",
      " 15%|████████████▎                                                                   | 128/834 [00:54<06:49,  1.73it/s]"
     ]
    },
    {
     "name": "stdout",
     "output_type": "stream",
     "text": [
      "[[3.99063139]\n",
      " [5.00379354]\n",
      " [1.87659986]\n",
      " ...\n",
      " [3.62758592]\n",
      " [3.46941633]\n",
      " [3.69601756]]\n",
      "[[4.02038777]\n",
      " [4.64287925]\n",
      " [2.58365074]\n",
      " ...\n",
      " [4.19866619]\n",
      " [3.5227879 ]\n",
      " [3.32232946]]\n"
     ]
    },
    {
     "name": "stderr",
     "output_type": "stream",
     "text": [
      "\n",
      " 15%|████████████▎                                                                   | 129/834 [00:55<06:57,  1.69it/s]"
     ]
    },
    {
     "name": "stdout",
     "output_type": "stream",
     "text": [
      "[[1.20601494]\n",
      " [2.44954963]\n",
      " [3.54877511]\n",
      " ...\n",
      " [4.59910244]\n",
      " [1.80468701]\n",
      " [2.39571975]]\n",
      "[[2.01989765]\n",
      " [2.4242318 ]\n",
      " [3.55512302]\n",
      " ...\n",
      " [4.26620566]\n",
      " [2.57072314]\n",
      " [2.35823977]]\n"
     ]
    },
    {
     "name": "stderr",
     "output_type": "stream",
     "text": [
      "\n",
      " 16%|████████████▍                                                                   | 130/834 [00:55<06:56,  1.69it/s]"
     ]
    },
    {
     "name": "stdout",
     "output_type": "stream",
     "text": [
      "[[ 3.42722273]\n",
      " [ 3.50094066]\n",
      " [-0.00638223]\n",
      " ...\n",
      " [ 3.53065991]\n",
      " [ 3.9491147 ]\n",
      " [ 0.19172463]]\n",
      "[[3.44273992]\n",
      " [3.30243836]\n",
      " [0.47216377]\n",
      " ...\n",
      " [3.51727513]\n",
      " [3.63133463]\n",
      " [0.67707111]]\n"
     ]
    },
    {
     "name": "stderr",
     "output_type": "stream",
     "text": [
      "\n",
      " 16%|████████████▌                                                                   | 131/834 [00:56<06:57,  1.68it/s]"
     ]
    },
    {
     "name": "stdout",
     "output_type": "stream",
     "text": [
      "[[5.69094646]\n",
      " [6.20977625]\n",
      " [2.27519884]\n",
      " ...\n",
      " [5.67579673]\n",
      " [6.27720865]\n",
      " [2.05011258]]\n",
      "[[5.7489469 ]\n",
      " [5.87619191]\n",
      " [2.28509082]\n",
      " ...\n",
      " [5.8492406 ]\n",
      " [6.06030547]\n",
      " [2.20507508]]\n"
     ]
    },
    {
     "name": "stderr",
     "output_type": "stream",
     "text": [
      "\n",
      " 16%|████████████▋                                                                   | 132/834 [00:56<06:58,  1.68it/s]"
     ]
    },
    {
     "name": "stdout",
     "output_type": "stream",
     "text": [
      "[[4.13300659]\n",
      " [5.54525121]\n",
      " [4.55539386]\n",
      " ...\n",
      " [5.28905967]\n",
      " [4.48006427]\n",
      " [3.83681332]]\n",
      "[[4.38455286]\n",
      " [5.43481582]\n",
      " [4.6552588 ]\n",
      " ...\n",
      " [5.11568779]\n",
      " [4.49110081]\n",
      " [4.40373472]]\n"
     ]
    },
    {
     "name": "stderr",
     "output_type": "stream",
     "text": [
      "\n",
      " 16%|████████████▊                                                                   | 133/834 [00:57<06:52,  1.70it/s]"
     ]
    },
    {
     "name": "stdout",
     "output_type": "stream",
     "text": [
      "[[2.71041503]\n",
      " [2.20779867]\n",
      " [4.22471079]\n",
      " ...\n",
      " [2.68169501]\n",
      " [1.87792143]\n",
      " [3.99204967]]\n",
      "[[2.80648264]\n",
      " [1.82785343]\n",
      " [4.32207482]\n",
      " ...\n",
      " [2.87086275]\n",
      " [1.57852156]\n",
      " [4.18599649]]\n"
     ]
    },
    {
     "name": "stderr",
     "output_type": "stream",
     "text": [
      "\n",
      " 16%|████████████▊                                                                   | 134/834 [00:58<06:48,  1.71it/s]"
     ]
    },
    {
     "name": "stdout",
     "output_type": "stream",
     "text": [
      "[[6.05702187]\n",
      " [2.22636515]\n",
      " [3.38889715]\n",
      " ...\n",
      " [4.07798407]\n",
      " [6.1895981 ]\n",
      " [2.31603863]]\n",
      "[[5.88125334]\n",
      " [3.08076704]\n",
      " [3.60805849]\n",
      " ...\n",
      " [4.16162425]\n",
      " [5.90137011]\n",
      " [3.0836685 ]]\n"
     ]
    },
    {
     "name": "stderr",
     "output_type": "stream",
     "text": [
      "\n",
      " 16%|████████████▉                                                                   | 135/834 [00:58<06:48,  1.71it/s]"
     ]
    },
    {
     "name": "stdout",
     "output_type": "stream",
     "text": [
      "[[3.53936294]\n",
      " [3.42193644]\n",
      " [3.90437465]\n",
      " ...\n",
      " [3.61649761]\n",
      " [3.85995694]\n",
      " [4.18557937]]\n",
      "[[3.66827985]\n",
      " [3.19276328]\n",
      " [3.90326563]\n",
      " ...\n",
      " [3.75828949]\n",
      " [3.64990395]\n",
      " [4.18796303]]\n"
     ]
    },
    {
     "name": "stderr",
     "output_type": "stream",
     "text": [
      "\n",
      " 16%|█████████████                                                                   | 136/834 [00:59<07:00,  1.66it/s]"
     ]
    },
    {
     "name": "stdout",
     "output_type": "stream",
     "text": [
      "[[4.66418179]\n",
      " [1.22867506]\n",
      " [4.9948971 ]\n",
      " ...\n",
      " [4.17268598]\n",
      " [0.98060635]\n",
      " [5.04173232]]\n",
      "[[4.42388373]\n",
      " [1.78662051]\n",
      " [5.04115258]\n",
      " ...\n",
      " [3.88978997]\n",
      " [1.49937626]\n",
      " [5.08989706]]\n"
     ]
    },
    {
     "name": "stderr",
     "output_type": "stream",
     "text": [
      "\n",
      " 16%|█████████████▏                                                                  | 137/834 [00:59<07:02,  1.65it/s]"
     ]
    },
    {
     "name": "stdout",
     "output_type": "stream",
     "text": [
      "[[5.58225523]\n",
      " [4.93371799]\n",
      " [5.22810619]\n",
      " ...\n",
      " [4.88169319]\n",
      " [4.87963025]\n",
      " [5.05878382]]\n",
      "[[5.21669073]\n",
      " [5.01678034]\n",
      " [4.91784066]\n",
      " ...\n",
      " [4.98847502]\n",
      " [4.58739695]\n",
      " [5.11256066]]\n"
     ]
    },
    {
     "name": "stderr",
     "output_type": "stream",
     "text": [
      "\n",
      " 17%|█████████████▏                                                                  | 138/834 [01:00<07:09,  1.62it/s]"
     ]
    },
    {
     "name": "stdout",
     "output_type": "stream",
     "text": [
      "[[5.84889042]\n",
      " [2.51633736]\n",
      " [4.5402119 ]\n",
      " ...\n",
      " [5.61951711]\n",
      " [3.13592895]\n",
      " [4.52029162]]\n",
      "[[5.52253654]\n",
      " [3.40859945]\n",
      " [4.57795109]\n",
      " ...\n",
      " [5.20444014]\n",
      " [3.84359233]\n",
      " [4.50206187]]\n"
     ]
    },
    {
     "name": "stderr",
     "output_type": "stream",
     "text": [
      "\n",
      " 17%|█████████████▎                                                                  | 139/834 [01:01<07:04,  1.64it/s]"
     ]
    },
    {
     "name": "stdout",
     "output_type": "stream",
     "text": [
      "[[4.83157016]\n",
      " [1.6495796 ]\n",
      " [3.89515588]\n",
      " ...\n",
      " [4.96014943]\n",
      " [1.93852034]\n",
      " [4.04926406]]\n",
      "[[4.42214285]\n",
      " [2.25111153]\n",
      " [3.82134782]\n",
      " ...\n",
      " [4.58665546]\n",
      " [2.55582899]\n",
      " [4.0008513 ]]\n"
     ]
    },
    {
     "name": "stderr",
     "output_type": "stream",
     "text": [
      "\n",
      " 17%|█████████████▍                                                                  | 140/834 [01:01<06:59,  1.65it/s]"
     ]
    },
    {
     "name": "stdout",
     "output_type": "stream",
     "text": [
      "[[2.18330124]\n",
      " [4.04684655]\n",
      " [4.54324185]\n",
      " ...\n",
      " [4.08978152]\n",
      " [2.12057493]\n",
      " [3.92149062]]\n",
      "[[2.27844971]\n",
      " [4.12558171]\n",
      " [4.63262744]\n",
      " ...\n",
      " [4.0503695 ]\n",
      " [2.21867969]\n",
      " [4.01026491]]\n"
     ]
    },
    {
     "name": "stderr",
     "output_type": "stream",
     "text": [
      "\n",
      " 17%|█████████████▌                                                                  | 141/834 [01:02<06:55,  1.67it/s]"
     ]
    },
    {
     "name": "stdout",
     "output_type": "stream",
     "text": [
      "[[ 4.78209179]\n",
      " [ 5.3911108 ]\n",
      " [-0.04254817]\n",
      " ...\n",
      " [ 4.71175838]\n",
      " [ 5.25747088]\n",
      " [ 0.15910436]]\n",
      "[[4.86064972]\n",
      " [5.04672983]\n",
      " [0.44089251]\n",
      " ...\n",
      " [4.65670953]\n",
      " [4.80065404]\n",
      " [0.51591129]]\n"
     ]
    },
    {
     "name": "stderr",
     "output_type": "stream",
     "text": [
      "\n",
      " 17%|█████████████▌                                                                  | 142/834 [01:02<06:58,  1.65it/s]"
     ]
    },
    {
     "name": "stdout",
     "output_type": "stream",
     "text": [
      "[[5.03596253]\n",
      " [5.04827571]\n",
      " [6.12048956]\n",
      " ...\n",
      " [4.41185826]\n",
      " [2.48590897]\n",
      " [5.85778685]]\n",
      "[[4.94508212]\n",
      " [4.66515599]\n",
      " [6.03960841]\n",
      " ...\n",
      " [4.48281554]\n",
      " [2.07918409]\n",
      " [5.90694735]]\n"
     ]
    },
    {
     "name": "stderr",
     "output_type": "stream",
     "text": [
      "\n",
      " 17%|█████████████▋                                                                  | 143/834 [01:03<06:59,  1.65it/s]"
     ]
    },
    {
     "name": "stdout",
     "output_type": "stream",
     "text": [
      "[[6.65234166]\n",
      " [4.37756186]\n",
      " [5.14439589]\n",
      " ...\n",
      " [6.49794339]\n",
      " [4.38620043]\n",
      " [5.00753262]]\n",
      "[[6.27465867]\n",
      " [5.05591778]\n",
      " [5.21472419]\n",
      " ...\n",
      " [6.12120383]\n",
      " [5.06539587]\n",
      " [5.08618964]]\n"
     ]
    },
    {
     "name": "stderr",
     "output_type": "stream",
     "text": [
      "\n",
      " 17%|█████████████▊                                                                  | 144/834 [01:04<07:04,  1.63it/s]"
     ]
    },
    {
     "name": "stdout",
     "output_type": "stream",
     "text": [
      "[[5.76779103]\n",
      " [3.71177972]\n",
      " [3.77257203]\n",
      " ...\n",
      " [5.97724406]\n",
      " [3.73244137]\n",
      " [4.55774691]]\n",
      "[[5.43678236]\n",
      " [4.42417387]\n",
      " [3.84771884]\n",
      " ...\n",
      " [5.51412231]\n",
      " [4.30089419]\n",
      " [4.50973461]]\n"
     ]
    },
    {
     "name": "stderr",
     "output_type": "stream",
     "text": [
      "\n",
      " 17%|█████████████▉                                                                  | 145/834 [01:04<06:59,  1.64it/s]"
     ]
    },
    {
     "name": "stdout",
     "output_type": "stream",
     "text": [
      "[[5.10300813]\n",
      " [2.627156  ]\n",
      " [6.0716881 ]\n",
      " ...\n",
      " [2.66657752]\n",
      " [6.23269424]\n",
      " [7.28624491]]\n",
      "[[4.65580686]\n",
      " [3.18802424]\n",
      " [5.90826913]\n",
      " ...\n",
      " [3.21068784]\n",
      " [6.06530243]\n",
      " [6.71352016]]\n"
     ]
    },
    {
     "name": "stderr",
     "output_type": "stream",
     "text": [
      "\n",
      " 18%|██████████████                                                                  | 146/834 [01:05<06:56,  1.65it/s]"
     ]
    },
    {
     "name": "stdout",
     "output_type": "stream",
     "text": [
      "[[4.16520782]\n",
      " [5.61951711]\n",
      " [6.47631473]\n",
      " ...\n",
      " [7.02683001]\n",
      " [4.17893927]\n",
      " [5.28280638]]\n",
      "[[4.63778558]\n",
      " [5.55242155]\n",
      " [6.01426902]\n",
      " ...\n",
      " [6.50029531]\n",
      " [4.6541627 ]\n",
      " [5.25637622]]\n"
     ]
    },
    {
     "name": "stderr",
     "output_type": "stream",
     "text": [
      "\n",
      " 18%|██████████████                                                                  | 147/834 [01:06<06:59,  1.64it/s]"
     ]
    },
    {
     "name": "stdout",
     "output_type": "stream",
     "text": [
      "[[5.8269072 ]\n",
      " [0.51235086]\n",
      " [2.62925117]\n",
      " ...\n",
      " [4.89265257]\n",
      " [1.07156917]\n",
      " [1.76503985]]\n",
      "[[5.37527148]\n",
      " [0.99378126]\n",
      " [2.5893247 ]\n",
      " ...\n",
      " [4.52330699]\n",
      " [1.54309155]\n",
      " [1.80119227]]\n"
     ]
    },
    {
     "name": "stderr",
     "output_type": "stream",
     "text": [
      "\n",
      " 18%|██████████████▏                                                                 | 148/834 [01:06<06:53,  1.66it/s]"
     ]
    },
    {
     "name": "stdout",
     "output_type": "stream",
     "text": [
      "[[0.77515027]\n",
      " [0.22563423]\n",
      " [4.45737191]\n",
      " ...\n",
      " [1.79611291]\n",
      " [0.21873627]\n",
      " [4.40902172]]\n",
      "[[ 0.80815249]\n",
      " [-0.09797253]\n",
      " [ 4.50280336]\n",
      " ...\n",
      " [ 1.76885714]\n",
      " [-0.1587097 ]\n",
      " [ 4.40151027]]\n"
     ]
    },
    {
     "name": "stderr",
     "output_type": "stream",
     "text": [
      "\n",
      " 18%|██████████████▎                                                                 | 149/834 [01:07<06:54,  1.65it/s]"
     ]
    },
    {
     "name": "stdout",
     "output_type": "stream",
     "text": [
      "[[4.75514462]\n",
      " [1.79346977]\n",
      " [5.71518602]\n",
      " ...\n",
      " [1.42017405]\n",
      " [6.04203331]\n",
      " [6.89048247]]\n",
      "[[4.31952799]\n",
      " [2.41755845]\n",
      " [5.5976198 ]\n",
      " ...\n",
      " [1.94877971]\n",
      " [5.90823689]\n",
      " [6.35028998]]\n"
     ]
    },
    {
     "name": "stderr",
     "output_type": "stream",
     "text": [
      "\n",
      " 18%|██████████████▍                                                                 | 150/834 [01:07<06:52,  1.66it/s]"
     ]
    },
    {
     "name": "stdout",
     "output_type": "stream",
     "text": [
      "[[1.65228721]\n",
      " [3.96378092]\n",
      " [4.86641453]\n",
      " ...\n",
      " [7.06215789]\n",
      " [1.5913982 ]\n",
      " [4.03337296]]\n",
      "[[1.94036549]\n",
      " [3.96213296]\n",
      " [4.44074442]\n",
      " ...\n",
      " [6.53040598]\n",
      " [1.86083333]\n",
      " [4.02209641]]\n"
     ]
    },
    {
     "name": "stderr",
     "output_type": "stream",
     "text": [
      "\n",
      " 18%|██████████████▍                                                                 | 151/834 [01:08<06:56,  1.64it/s]"
     ]
    },
    {
     "name": "stdout",
     "output_type": "stream",
     "text": [
      "[[5.15042355]\n",
      " [0.07136488]\n",
      " [3.1149772 ]\n",
      " ...\n",
      " [4.57718368]\n",
      " [0.20374771]\n",
      " [2.89830387]]\n",
      "[[4.74452696]\n",
      " [0.58457911]\n",
      " [3.13273536]\n",
      " ...\n",
      " [4.13351236]\n",
      " [0.69950904]\n",
      " [2.84545888]]\n"
     ]
    },
    {
     "name": "stderr",
     "output_type": "stream",
     "text": [
      "\n",
      " 18%|██████████████▌                                                                 | 152/834 [01:09<06:57,  1.64it/s]"
     ]
    },
    {
     "name": "stdout",
     "output_type": "stream",
     "text": [
      "[[3.23343516]\n",
      " [4.12888071]\n",
      " [5.84627951]\n",
      " ...\n",
      " [1.82512302]\n",
      " [4.01138974]\n",
      " [3.62375014]]\n",
      "[[2.79635978]\n",
      " [4.08205985]\n",
      " [5.30934393]\n",
      " ...\n",
      " [1.32551451]\n",
      " [3.95710377]\n",
      " [3.03856696]]\n"
     ]
    },
    {
     "name": "stderr",
     "output_type": "stream",
     "text": [
      "\n",
      " 18%|██████████████▋                                                                 | 153/834 [01:09<07:13,  1.57it/s]"
     ]
    },
    {
     "name": "stdout",
     "output_type": "stream",
     "text": [
      "[[3.09537925]\n",
      " [2.12785969]\n",
      " [5.3821499 ]\n",
      " ...\n",
      " [3.39031542]\n",
      " [2.53048785]\n",
      " [5.40213465]]\n",
      "[[3.26752416]\n",
      " [1.57249298]\n",
      " [5.31011765]\n",
      " ...\n",
      " [3.6030293 ]\n",
      " [2.07076986]\n",
      " [5.4664417 ]]\n"
     ]
    },
    {
     "name": "stderr",
     "output_type": "stream",
     "text": [
      "\n",
      " 18%|██████████████▊                                                                 | 154/834 [01:10<07:24,  1.53it/s]"
     ]
    },
    {
     "name": "stdout",
     "output_type": "stream",
     "text": [
      "[[2.80592277]\n",
      " [2.2475103 ]\n",
      " [3.16558373]\n",
      " ...\n",
      " [3.09028636]\n",
      " [4.78035119]\n",
      " [3.52395535]]\n",
      "[[2.25710788]\n",
      " [2.18482936]\n",
      " [3.02138389]\n",
      " ...\n",
      " [2.35443564]\n",
      " [4.6106086 ]\n",
      " [3.19208628]]\n"
     ]
    },
    {
     "name": "stderr",
     "output_type": "stream",
     "text": [
      "\n",
      " 19%|██████████████▊                                                                 | 155/834 [01:11<07:17,  1.55it/s]"
     ]
    },
    {
     "name": "stdout",
     "output_type": "stream",
     "text": [
      "[[3.5039706 ]\n",
      " [5.46695614]\n",
      " [3.12754825]\n",
      " ...\n",
      " [3.12406703]\n",
      " [5.15861085]\n",
      " [2.81523824]]\n",
      "[[4.00281784]\n",
      " [5.35679887]\n",
      " [2.94655854]\n",
      " ...\n",
      " [3.8510394 ]\n",
      " [5.27729895]\n",
      " [2.85651665]]\n"
     ]
    },
    {
     "name": "stderr",
     "output_type": "stream",
     "text": [
      "\n",
      " 19%|██████████████▉                                                                 | 156/834 [01:11<07:13,  1.56it/s]"
     ]
    },
    {
     "name": "stdout",
     "output_type": "stream",
     "text": [
      "[[ 4.26693662]\n",
      " [ 4.73515988]\n",
      " [-0.37529419]\n",
      " ...\n",
      " [ 4.53573145]\n",
      " [-0.32646049]\n",
      " [ 4.60970725]]\n",
      "[[4.39696465]\n",
      " [4.57608126]\n",
      " [0.33221683]\n",
      " ...\n",
      " [4.3509282 ]\n",
      " [0.36258541]\n",
      " [4.6982326 ]]\n"
     ]
    },
    {
     "name": "stderr",
     "output_type": "stream",
     "text": [
      "\n",
      " 19%|███████████████                                                                 | 157/834 [01:12<07:15,  1.55it/s]"
     ]
    },
    {
     "name": "stdout",
     "output_type": "stream",
     "text": [
      "[[ 4.2619082 ]\n",
      " [-0.06282302]\n",
      " [ 4.41430801]\n",
      " ...\n",
      " [ 4.60396969]\n",
      " [ 4.06625109]\n",
      " [-0.11420315]]\n",
      "[[4.0396341 ]\n",
      " [0.6025359 ]\n",
      " [4.48620057]\n",
      " ...\n",
      " [4.63801125]\n",
      " [3.79114043]\n",
      " [0.46745696]]\n"
     ]
    },
    {
     "name": "stderr",
     "output_type": "stream",
     "text": [
      "\n",
      " 19%|███████████████▏                                                                | 158/834 [01:12<07:12,  1.56it/s]"
     ]
    },
    {
     "name": "stdout",
     "output_type": "stream",
     "text": [
      "[[4.44073944]\n",
      " [2.98372254]\n",
      " [3.66674958]\n",
      " ...\n",
      " [4.91985761]\n",
      " [4.87286122]\n",
      " [4.68790562]]\n",
      "[[4.4723703 ]\n",
      " [2.63932648]\n",
      " [3.63649277]\n",
      " ...\n",
      " [4.92867277]\n",
      " [4.48400836]\n",
      " [4.69323565]]\n"
     ]
    },
    {
     "name": "stderr",
     "output_type": "stream",
     "text": [
      "\n",
      " 19%|███████████████▎                                                                | 159/834 [01:13<07:05,  1.59it/s]"
     ]
    },
    {
     "name": "stdout",
     "output_type": "stream",
     "text": [
      "[[4.77596744]\n",
      " [3.53713883]\n",
      " [4.53631165]\n",
      " ...\n",
      " [4.84862166]\n",
      " [4.69402998]\n",
      " [4.68274827]]\n",
      "[[4.70545401]\n",
      " [3.2140084 ]\n",
      " [4.46298892]\n",
      " ...\n",
      " [4.72853671]\n",
      " [4.2893206 ]\n",
      " [4.56621631]]\n"
     ]
    },
    {
     "name": "stderr",
     "output_type": "stream",
     "text": [
      "\n",
      " 19%|███████████████▎                                                                | 160/834 [01:14<07:04,  1.59it/s]"
     ]
    },
    {
     "name": "stdout",
     "output_type": "stream",
     "text": [
      "[[5.46086401]\n",
      " [4.94496747]\n",
      " [3.60221819]\n",
      " ...\n",
      " [5.3403431 ]\n",
      " [4.82941051]\n",
      " [3.31991754]]\n",
      "[[4.99028037]\n",
      " [4.81990037]\n",
      " [3.55970088]\n",
      " ...\n",
      " [4.97154985]\n",
      " [4.76019483]\n",
      " [3.35385862]]\n"
     ]
    },
    {
     "name": "stderr",
     "output_type": "stream",
     "text": [
      "\n",
      " 19%|███████████████▍                                                                | 161/834 [01:14<07:09,  1.57it/s]"
     ]
    },
    {
     "name": "stdout",
     "output_type": "stream",
     "text": [
      "[[3.57166087]\n",
      " [4.6903876 ]\n",
      " [5.19003848]\n",
      " ...\n",
      " [4.36234767]\n",
      " [4.49605206]\n",
      " [2.49577241]]\n",
      "[[3.19837277]\n",
      " [4.71776908]\n",
      " [4.85826408]\n",
      " ...\n",
      " [4.43233019]\n",
      " [4.14440894]\n",
      " [2.58107167]]\n"
     ]
    },
    {
     "name": "stderr",
     "output_type": "stream",
     "text": [
      "\n",
      " 19%|███████████████▌                                                                | 162/834 [01:15<07:16,  1.54it/s]"
     ]
    },
    {
     "name": "stdout",
     "output_type": "stream",
     "text": [
      "[[4.868413  ]\n",
      " [4.565354  ]\n",
      " [2.70097062]\n",
      " ...\n",
      " [2.46908311]\n",
      " [4.80265674]\n",
      " [4.17968064]]\n",
      "[[4.88595687]\n",
      " [4.08157628]\n",
      " [2.70241705]\n",
      " ...\n",
      " [2.57233506]\n",
      " [4.83179634]\n",
      " [3.71770133]]\n"
     ]
    },
    {
     "name": "stderr",
     "output_type": "stream",
     "text": [
      "\n",
      " 20%|███████████████▋                                                                | 163/834 [01:16<07:15,  1.54it/s]"
     ]
    },
    {
     "name": "stdout",
     "output_type": "stream",
     "text": [
      "[[2.67099351]\n",
      " [4.65067597]\n",
      " [4.98787021]\n",
      " ...\n",
      " [2.59734005]\n",
      " [4.60393746]\n",
      " [4.84391557]]\n",
      "[[2.74361774]\n",
      " [4.72250813]\n",
      " [5.06536363]\n",
      " ...\n",
      " [2.78040177]\n",
      " [4.8131303 ]\n",
      " [5.06126935]]\n"
     ]
    },
    {
     "name": "stderr",
     "output_type": "stream",
     "text": [
      "\n",
      " 20%|███████████████▋                                                                | 164/834 [01:16<07:15,  1.54it/s]"
     ]
    },
    {
     "name": "stdout",
     "output_type": "stream",
     "text": [
      "[[3.41939   ]\n",
      " [3.69401909]\n",
      " [4.41566181]\n",
      " ...\n",
      " [3.31501805]\n",
      " [3.88013509]\n",
      " [4.71401472]]\n",
      "[[3.65754446]\n",
      " [3.52920334]\n",
      " [4.6393975 ]\n",
      " ...\n",
      " [3.52881648]\n",
      " [3.70790085]\n",
      " [4.92918858]]\n"
     ]
    },
    {
     "name": "stderr",
     "output_type": "stream",
     "text": [
      "\n",
      " 20%|███████████████▊                                                                | 165/834 [01:17<07:15,  1.54it/s]"
     ]
    },
    {
     "name": "stdout",
     "output_type": "stream",
     "text": [
      "[[ 3.74178908]\n",
      " [ 1.83924128]\n",
      " [-0.35018432]\n",
      " ...\n",
      " [ 3.66710415]\n",
      " [ 1.91334601]\n",
      " [-0.32687953]]\n",
      "[[3.94214515]\n",
      " [1.65141261]\n",
      " [0.20213484]\n",
      " ...\n",
      " [3.83430766]\n",
      " [1.69013094]\n",
      " [0.19397852]]\n"
     ]
    },
    {
     "name": "stderr",
     "output_type": "stream",
     "text": [
      "\n",
      " 20%|███████████████▉                                                                | 166/834 [01:18<07:08,  1.56it/s]"
     ]
    },
    {
     "name": "stdout",
     "output_type": "stream",
     "text": [
      "[[3.9171391 ]\n",
      " [4.39238925]\n",
      " [5.33263931]\n",
      " ...\n",
      " [2.78226341]\n",
      " [3.95527129]\n",
      " [4.82895925]]\n",
      "[[3.99901371]\n",
      " [4.14982499]\n",
      " [4.4455157 ]\n",
      " ...\n",
      " [2.77756479]\n",
      " [3.71770133]\n",
      " [3.88205275]]\n"
     ]
    },
    {
     "name": "stderr",
     "output_type": "stream",
     "text": [
      "\n",
      " 20%|████████████████                                                                | 167/834 [01:18<07:09,  1.55it/s]"
     ]
    },
    {
     "name": "stdout",
     "output_type": "stream",
     "text": [
      "[[2.36719314]\n",
      " [0.41078323]\n",
      " [3.78201644]\n",
      " ...\n",
      " [3.2935828 ]\n",
      " [1.60680579]\n",
      " [6.30470379]]\n",
      "[[ 2.54548046]\n",
      " [-0.08749505]\n",
      " [ 3.90252414]\n",
      " ...\n",
      " [ 2.90745334]\n",
      " [ 2.27419423]\n",
      " [ 6.32475716]]\n"
     ]
    },
    {
     "name": "stderr",
     "output_type": "stream",
     "text": [
      "\n",
      " 20%|████████████████                                                                | 168/834 [01:19<07:04,  1.57it/s]"
     ]
    },
    {
     "name": "stdout",
     "output_type": "stream",
     "text": [
      "[[6.2309214 ]\n",
      " [2.96789591]\n",
      " [3.99985016]\n",
      " ...\n",
      " [2.05643034]\n",
      " [3.36704286]\n",
      " [4.2120108 ]]\n",
      "[[5.84524303]\n",
      " [3.07970317]\n",
      " [3.70441911]\n",
      " ...\n",
      " [2.02022003]\n",
      " [3.29927899]\n",
      " [4.20008468]]\n"
     ]
    },
    {
     "name": "stderr",
     "output_type": "stream",
     "text": [
      "\n",
      " 20%|████████████████▏                                                               | 169/834 [01:20<07:13,  1.53it/s]"
     ]
    },
    {
     "name": "stdout",
     "output_type": "stream",
     "text": [
      "[[1.7168186 ]\n",
      " [4.08401173]\n",
      " [0.17834774]\n",
      " ...\n",
      " [3.88593711]\n",
      " [2.20499436]\n",
      " [4.61344633]]\n",
      "[[1.58135854]\n",
      " [4.08766934]\n",
      " [0.16944509]\n",
      " ...\n",
      " [3.98589267]\n",
      " [2.21964684]\n",
      " [4.71351361]]\n"
     ]
    },
    {
     "name": "stderr",
     "output_type": "stream",
     "text": [
      "\n",
      " 20%|████████████████▎                                                               | 170/834 [01:20<07:13,  1.53it/s]"
     ]
    },
    {
     "name": "stdout",
     "output_type": "stream",
     "text": [
      "[[5.27893836]\n",
      " [4.1677865 ]\n",
      " [6.50880606]\n",
      " ...\n",
      " [4.22348592]\n",
      " [4.48628532]\n",
      " [3.68202824]]\n",
      "[[5.30080075]\n",
      " [4.2125287 ]\n",
      " [6.57673258]\n",
      " ...\n",
      " [4.1043366 ]\n",
      " [4.45612214]\n",
      " [3.62237235]]\n"
     ]
    },
    {
     "name": "stderr",
     "output_type": "stream",
     "text": [
      "\n",
      " 21%|████████████████▍                                                               | 171/834 [01:21<07:07,  1.55it/s]"
     ]
    },
    {
     "name": "stdout",
     "output_type": "stream",
     "text": [
      "[[3.46632192]\n",
      " [3.12277769]\n",
      " [0.13998992]\n",
      " ...\n",
      " [5.5498606 ]\n",
      " [4.01567679]\n",
      " [1.41882025]]\n",
      "[[3.45982628]\n",
      " [2.9700281 ]\n",
      " [0.0385249 ]\n",
      " ...\n",
      " [5.43313942]\n",
      " [3.86509535]\n",
      " [1.37825655]]\n"
     ]
    },
    {
     "name": "stderr",
     "output_type": "stream",
     "text": [
      "\n",
      " 21%|████████████████▍                                                               | 172/834 [01:22<07:07,  1.55it/s]"
     ]
    },
    {
     "name": "stdout",
     "output_type": "stream",
     "text": [
      "[[3.84461382]\n",
      " [2.67963207]\n",
      " [3.27408156]\n",
      " ...\n",
      " [5.62396533]\n",
      " [3.43337932]\n",
      " [5.10987386]]\n",
      "[[3.80007047]\n",
      " [2.55141233]\n",
      " [3.10152858]\n",
      " ...\n",
      " [5.61241723]\n",
      " [3.40563351]\n",
      " [5.12245786]]\n"
     ]
    },
    {
     "name": "stderr",
     "output_type": "stream",
     "text": [
      "\n",
      " 21%|████████████████▌                                                               | 173/834 [01:22<07:06,  1.55it/s]"
     ]
    },
    {
     "name": "stdout",
     "output_type": "stream",
     "text": [
      "[[4.45324603]\n",
      " [6.37954988]\n",
      " [3.45752218]\n",
      " ...\n",
      " [2.53238962]\n",
      " [1.34071857]\n",
      " [3.24178363]]\n",
      "[[4.39528826]\n",
      " [6.43862323]\n",
      " [3.4002497 ]\n",
      " ...\n",
      " [2.49131993]\n",
      " [1.27122503]\n",
      " [3.1753223 ]]\n"
     ]
    },
    {
     "name": "stderr",
     "output_type": "stream",
     "text": [
      "\n",
      " 21%|████████████████▋                                                               | 174/834 [01:23<07:05,  1.55it/s]"
     ]
    },
    {
     "name": "stdout",
     "output_type": "stream",
     "text": [
      "[[4.9344916 ]\n",
      " [4.66353712]\n",
      " [3.41732706]\n",
      " ...\n",
      " [3.79677936]\n",
      " [7.28772764]\n",
      " [3.5297896 ]]\n",
      "[[4.90191489]\n",
      " [4.67012071]\n",
      " [3.3539231 ]\n",
      " ...\n",
      " [3.7695407 ]\n",
      " [7.11911161]\n",
      " [3.44341693]]\n"
     ]
    },
    {
     "name": "stderr",
     "output_type": "stream",
     "text": [
      "\n",
      " 21%|████████████████▊                                                               | 175/834 [01:23<07:08,  1.54it/s]"
     ]
    },
    {
     "name": "stdout",
     "output_type": "stream",
     "text": [
      "[[3.73276371]\n",
      " [4.25488131]\n",
      " [7.1926067 ]\n",
      " ...\n",
      " [2.92351044]\n",
      " [4.30942032]\n",
      " [2.10519957]]\n",
      "[[3.68027254]\n",
      " [4.2271327 ]\n",
      " [7.10579715]\n",
      " ...\n",
      " [2.84629708]\n",
      " [4.2539873 ]\n",
      " [2.06941585]]\n"
     ]
    },
    {
     "name": "stderr",
     "output_type": "stream",
     "text": [
      "\n",
      " 21%|████████████████▉                                                               | 176/834 [01:24<07:10,  1.53it/s]"
     ]
    },
    {
     "name": "stdout",
     "output_type": "stream",
     "text": [
      "[[3.80632047]\n",
      " [3.27072928]\n",
      " [2.3001153 ]\n",
      " ...\n",
      " [7.1595674 ]\n",
      " [3.92226422]\n",
      " [3.31424445]]\n",
      "[[3.69374819]\n",
      " [3.26978085]\n",
      " [2.24766202]\n",
      " ...\n",
      " [7.17988102]\n",
      " [3.90571574]\n",
      " [3.32245841]]\n"
     ]
    },
    {
     "name": "stderr",
     "output_type": "stream",
     "text": [
      "\n",
      " 21%|████████████████▉                                                               | 177/834 [01:25<07:11,  1.52it/s]"
     ]
    },
    {
     "name": "stdout",
     "output_type": "stream",
     "text": [
      "[[3.07719958]\n",
      " [3.80361285]\n",
      " [5.36832175]\n",
      " ...\n",
      " [3.45797345]\n",
      " [1.76265458]\n",
      " [3.74056421]]\n",
      "[[3.10784731]\n",
      " [3.83672554]\n",
      " [5.45380425]\n",
      " ...\n",
      " [3.39473693]\n",
      " [1.77804509]\n",
      " [3.79458994]]\n"
     ]
    },
    {
     "name": "stderr",
     "output_type": "stream",
     "text": [
      "\n",
      " 21%|█████████████████                                                               | 178/834 [01:25<07:08,  1.53it/s]"
     ]
    },
    {
     "name": "stdout",
     "output_type": "stream",
     "text": [
      "[[5.13072891]\n",
      " [3.67732215]\n",
      " [2.26955798]\n",
      " ...\n",
      " [3.49800741]\n",
      " [1.77886801]\n",
      " [4.69151577]]\n",
      "[[5.12513364]\n",
      " [3.68807423]\n",
      " [2.20033604]\n",
      " ...\n",
      " [3.4690787 ]\n",
      " [1.76892162]\n",
      " [4.76499835]]\n"
     ]
    },
    {
     "name": "stderr",
     "output_type": "stream",
     "text": [
      "\n",
      " 21%|█████████████████▏                                                              | 179/834 [01:26<07:11,  1.52it/s]"
     ]
    },
    {
     "name": "stdout",
     "output_type": "stream",
     "text": [
      "[[1.77812664]\n",
      " [1.75678809]\n",
      " [4.75662736]\n",
      " ...\n",
      " [4.39935168]\n",
      " [4.73619135]\n",
      " [4.396773  ]]\n",
      "[[1.80722085]\n",
      " [1.75760594]\n",
      " [4.80113761]\n",
      " ...\n",
      " [4.34628587]\n",
      " [4.70806532]\n",
      " [4.36488743]]\n"
     ]
    },
    {
     "name": "stderr",
     "output_type": "stream",
     "text": [
      "\n",
      " 22%|█████████████████▎                                                              | 180/834 [01:27<07:14,  1.51it/s]"
     ]
    },
    {
     "name": "stdout",
     "output_type": "stream",
     "text": [
      "[[3.15855683]\n",
      " [3.03594075]\n",
      " [3.22934152]\n",
      " ...\n",
      " [2.75576751]\n",
      " [3.2759511 ]\n",
      " [3.19949333]]\n",
      "[[3.051688  ]\n",
      " [2.95316741]\n",
      " [3.12151639]\n",
      " ...\n",
      " [2.66415006]\n",
      " [3.18412339]\n",
      " [3.10285035]]\n"
     ]
    },
    {
     "name": "stderr",
     "output_type": "stream",
     "text": [
      "\n",
      " 22%|█████████████████▎                                                              | 181/834 [01:27<07:14,  1.50it/s]"
     ]
    },
    {
     "name": "stdout",
     "output_type": "stream",
     "text": [
      "[[3.27775617]\n",
      " [3.45787675]\n",
      " [4.03836915]\n",
      " ...\n",
      " [2.4168649 ]\n",
      " [4.11266728]\n",
      " [3.70169065]]\n",
      "[[3.1660054 ]\n",
      " [3.34879719]\n",
      " [3.90432949]\n",
      " ...\n",
      " [2.34034745]\n",
      " [4.0523038 ]\n",
      " [3.66189664]]\n"
     ]
    },
    {
     "name": "stderr",
     "output_type": "stream",
     "text": [
      "\n",
      " 22%|█████████████████▍                                                              | 182/834 [01:28<07:15,  1.50it/s]"
     ]
    },
    {
     "name": "stdout",
     "output_type": "stream",
     "text": [
      "[[3.07236456]\n",
      " [3.52717869]\n",
      " [3.89470462]\n",
      " ...\n",
      " [4.18200145]\n",
      " [3.58880907]\n",
      " [1.36041322]]\n",
      "[[3.04127499]\n",
      " [3.42323568]\n",
      " [3.7629963 ]\n",
      " ...\n",
      " [4.11562004]\n",
      " [3.41791635]\n",
      " [1.23524696]]\n"
     ]
    },
    {
     "name": "stderr",
     "output_type": "stream",
     "text": [
      "\n",
      " 22%|█████████████████▌                                                              | 183/834 [01:29<07:15,  1.49it/s]"
     ]
    },
    {
     "name": "stdout",
     "output_type": "stream",
     "text": [
      "[[6.06105106]\n",
      " [7.11740604]\n",
      " [3.27411379]\n",
      " ...\n",
      " [2.43414203]\n",
      " [3.69189168]\n",
      " [4.4460902 ]]\n",
      "[[5.9250331 ]\n",
      " [6.98512877]\n",
      " [3.21832834]\n",
      " ...\n",
      " [2.34115341]\n",
      " [3.71302676]\n",
      " [4.47817321]]\n"
     ]
    },
    {
     "name": "stderr",
     "output_type": "stream",
     "text": [
      "\n",
      " 22%|█████████████████▋                                                              | 184/834 [01:29<07:23,  1.47it/s]"
     ]
    },
    {
     "name": "stdout",
     "output_type": "stream",
     "text": [
      "[[5.79441587]\n",
      " [7.48438399]\n",
      " [6.80632091]\n",
      " ...\n",
      " [6.04461199]\n",
      " [4.20201843]\n",
      " [2.65616611]]\n",
      "[[5.7258642 ]\n",
      " [7.51306499]\n",
      " [6.81039659]\n",
      " ...\n",
      " [5.85385069]\n",
      " [4.11752211]\n",
      " [2.42477985]]\n"
     ]
    },
    {
     "name": "stderr",
     "output_type": "stream",
     "text": [
      "\n",
      " 22%|█████████████████▋                                                              | 185/834 [01:30<07:27,  1.45it/s]"
     ]
    },
    {
     "name": "stdout",
     "output_type": "stream",
     "text": [
      "[[4.04465468]\n",
      " [2.10652114]\n",
      " [2.91835308]\n",
      " ...\n",
      " [2.1393348 ]\n",
      " [2.90068915]\n",
      " [4.43206864]]\n",
      "[[3.84420486]\n",
      " [1.95503396]\n",
      " [2.78736526]\n",
      " ...\n",
      " [2.07857156]\n",
      " [2.96470876]\n",
      " [4.45422007]]\n"
     ]
    },
    {
     "name": "stderr",
     "output_type": "stream",
     "text": [
      "\n",
      " 22%|█████████████████▊                                                              | 186/834 [01:31<07:27,  1.45it/s]"
     ]
    },
    {
     "name": "stdout",
     "output_type": "stream",
     "text": [
      "[[7.42040057]\n",
      " [2.88621632]\n",
      " [4.07756504]\n",
      " ...\n",
      " [4.31631828]\n",
      " [2.76995023]\n",
      " [3.58184664]]\n",
      "[[7.34832671]\n",
      " [2.89578304]\n",
      " [4.03370224]\n",
      " ...\n",
      " [4.16813641]\n",
      " [2.6303642 ]\n",
      " [3.38983669]]\n"
     ]
    },
    {
     "name": "stderr",
     "output_type": "stream",
     "text": [
      "\n",
      " 22%|█████████████████▉                                                              | 187/834 [01:32<07:22,  1.46it/s]"
     ]
    },
    {
     "name": "stdout",
     "output_type": "stream",
     "text": [
      "[[4.80568669]\n",
      " [5.83090415]\n",
      " [4.95860223]\n",
      " ...\n",
      " [5.32148653]\n",
      " [4.44344705]\n",
      " [3.15662283]]\n",
      "[[4.61586346]\n",
      " [5.72673463]\n",
      " [4.86951528]\n",
      " ...\n",
      " [5.33313587]\n",
      " [4.48549133]\n",
      " [3.19073226]]\n"
     ]
    },
    {
     "name": "stderr",
     "output_type": "stream",
     "text": [
      "\n",
      " 23%|██████████████████                                                              | 188/834 [01:32<07:23,  1.46it/s]"
     ]
    },
    {
     "name": "stdout",
     "output_type": "stream",
     "text": [
      "[[5.09482083]\n",
      " [1.36534494]\n",
      " [0.84748215]\n",
      " ...\n",
      " [5.09572337]\n",
      " [5.39433415]\n",
      " [4.65199755]]\n",
      "[[5.13644933]\n",
      " [1.33157533]\n",
      " [0.82730211]\n",
      " ...\n",
      " [4.92699637]\n",
      " [5.27123812]\n",
      " [4.52636964]]\n"
     ]
    },
    {
     "name": "stderr",
     "output_type": "stream",
     "text": [
      "\n",
      " 23%|██████████████████▏                                                             | 189/834 [01:33<07:21,  1.46it/s]"
     ]
    },
    {
     "name": "stdout",
     "output_type": "stream",
     "text": [
      "[[6.20967954]\n",
      " [5.13753017]\n",
      " [4.60719304]\n",
      " ...\n",
      " [3.28043155]\n",
      " [3.94363501]\n",
      " [5.18617046]]\n",
      "[[6.08538696]\n",
      " [4.99866236]\n",
      " [4.47098404]\n",
      " ...\n",
      " [3.0532032 ]\n",
      " [3.76435031]\n",
      " [5.06078578]]\n"
     ]
    },
    {
     "name": "stderr",
     "output_type": "stream",
     "text": [
      "\n",
      " 23%|██████████████████▏                                                             | 190/834 [01:34<07:22,  1.45it/s]"
     ]
    },
    {
     "name": "stdout",
     "output_type": "stream",
     "text": [
      "[[0.54642163]\n",
      " [3.46135797]\n",
      " [5.4314671 ]\n",
      " ...\n",
      " [6.61562775]\n",
      " [1.11153867]\n",
      " [3.45523361]]\n",
      "[[0.33505381]\n",
      " [3.26694387]\n",
      " [5.29886644]\n",
      " ...\n",
      " [6.60258779]\n",
      " [1.04094606]\n",
      " [3.39921807]]\n"
     ]
    },
    {
     "name": "stderr",
     "output_type": "stream",
     "text": [
      "\n",
      " 23%|██████████████████▎                                                             | 191/834 [01:34<07:24,  1.45it/s]"
     ]
    },
    {
     "name": "stdout",
     "output_type": "stream",
     "text": [
      "[[4.09877466]\n",
      " [4.666696  ]\n",
      " [2.73313962]\n",
      " ...\n",
      " [6.14302075]\n",
      " [4.3192193 ]\n",
      " [4.22316358]]\n",
      "[[4.0254492 ]\n",
      " [4.61889387]\n",
      " [2.72859464]\n",
      " ...\n",
      " [6.10982367]\n",
      " [4.27819835]\n",
      " [4.17800136]]\n"
     ]
    },
    {
     "name": "stderr",
     "output_type": "stream",
     "text": [
      "\n",
      " 23%|██████████████████▍                                                             | 192/834 [01:35<07:24,  1.44it/s]"
     ]
    },
    {
     "name": "stdout",
     "output_type": "stream",
     "text": [
      "[[6.54551997]\n",
      " [3.841326  ]\n",
      " [4.62808032]\n",
      " ...\n",
      " [3.37606823]\n",
      " [2.84415166]\n",
      " [5.04495567]]\n",
      "[[6.51660794]\n",
      " [3.80477728]\n",
      " [4.52050224]\n",
      " ...\n",
      " [3.30943409]\n",
      " [2.7431664 ]\n",
      " [4.91993616]]\n"
     ]
    },
    {
     "name": "stderr",
     "output_type": "stream",
     "text": [
      "\n",
      " 23%|██████████████████▌                                                             | 193/834 [01:36<07:27,  1.43it/s]"
     ]
    },
    {
     "name": "stdout",
     "output_type": "stream",
     "text": [
      "[[3.85699147]\n",
      " [3.27388816]\n",
      " [3.56469844]\n",
      " ...\n",
      " [3.72199773]\n",
      " [3.63342018]\n",
      " [5.90027055]]\n",
      "[[3.78275844]\n",
      " [3.18341414]\n",
      " [3.44074114]\n",
      " ...\n",
      " [3.65651283]\n",
      " [3.63165701]\n",
      " [5.88389689]]\n"
     ]
    },
    {
     "name": "stderr",
     "output_type": "stream",
     "text": [
      "\n",
      " 23%|██████████████████▌                                                             | 194/834 [01:36<07:30,  1.42it/s]"
     ]
    },
    {
     "name": "stdout",
     "output_type": "stream",
     "text": [
      "[[3.44146992]\n",
      " [3.76583524]\n",
      " [4.13007335]\n",
      " ...\n",
      " [3.69724243]\n",
      " [3.09911833]\n",
      " [4.66869448]]\n",
      "[[3.35221446]\n",
      " [3.72863015]\n",
      " [4.01777646]\n",
      " ...\n",
      " [3.57224162]\n",
      " [2.96245207]\n",
      " [4.58272238]]\n"
     ]
    },
    {
     "name": "stderr",
     "output_type": "stream",
     "text": [
      "\n",
      " 23%|██████████████████▋                                                             | 195/834 [01:37<07:27,  1.43it/s]"
     ]
    },
    {
     "name": "stdout",
     "output_type": "stream",
     "text": [
      "[[2.84634353]\n",
      " [4.71404696]\n",
      " [3.26067244]\n",
      " ...\n",
      " [3.73186117]\n",
      " [2.07873589]\n",
      " [4.04368767]]\n",
      "[[2.67894749]\n",
      " [4.51121758]\n",
      " [3.09566119]\n",
      " ...\n",
      " [3.69987349]\n",
      " [1.95596888]\n",
      " [4.01474605]]\n"
     ]
    },
    {
     "name": "stderr",
     "output_type": "stream",
     "text": [
      "\n",
      " 24%|██████████████████▊                                                             | 196/834 [01:38<07:24,  1.44it/s]"
     ]
    },
    {
     "name": "stdout",
     "output_type": "stream",
     "text": [
      "[[1.42587938]\n",
      " [3.39776135]\n",
      " [3.17022535]\n",
      " ...\n",
      " [5.55888597]\n",
      " [5.64188713]\n",
      " [4.498115  ]]\n",
      "[[1.39082953]\n",
      " [3.27951685]\n",
      " [3.02222209]\n",
      " ...\n",
      " [5.44464854]\n",
      " [5.45905911]\n",
      " [4.33567943]]\n"
     ]
    },
    {
     "name": "stderr",
     "output_type": "stream",
     "text": [
      "\n",
      " 24%|██████████████████▉                                                             | 197/834 [01:39<07:27,  1.42it/s]"
     ]
    },
    {
     "name": "stdout",
     "output_type": "stream",
     "text": [
      "[[6.87107793]\n",
      " [3.2588029 ]\n",
      " [5.5745192 ]\n",
      " ...\n",
      " [3.80151768]\n",
      " [3.61524051]\n",
      " [3.09402545]]\n",
      "[[6.74537171]\n",
      " [3.07925184]\n",
      " [5.44561569]\n",
      " ...\n",
      " [3.6266923 ]\n",
      " [3.49080739]\n",
      " [2.86979888]]\n"
     ]
    },
    {
     "name": "stderr",
     "output_type": "stream",
     "text": [
      "\n",
      " 24%|██████████████████▉                                                             | 198/834 [01:39<07:28,  1.42it/s]"
     ]
    },
    {
     "name": "stdout",
     "output_type": "stream",
     "text": [
      "[[0.26063976]\n",
      " [4.01255015]\n",
      " [4.8506846 ]\n",
      " ...\n",
      " [4.29846095]\n",
      " [4.65283562]\n",
      " [4.51880889]]\n",
      "[[0.04303828]\n",
      " [3.89349739]\n",
      " [4.72940715]\n",
      " ...\n",
      " [4.28670929]\n",
      " [4.60715909]\n",
      " [4.50541467]]\n"
     ]
    },
    {
     "name": "stderr",
     "output_type": "stream",
     "text": [
      "\n",
      " 24%|███████████████████                                                             | 199/834 [01:40<07:39,  1.38it/s]"
     ]
    },
    {
     "name": "stdout",
     "output_type": "stream",
     "text": [
      "[[4.05513055]\n",
      " [3.51879799]\n",
      " [4.60651613]\n",
      " ...\n",
      " [5.35539613]\n",
      " [4.59591132]\n",
      " [6.7787613 ]]\n",
      "[[4.0076536 ]\n",
      " [3.47449476]\n",
      " [4.59716519]\n",
      " ...\n",
      " [5.22936043]\n",
      " [4.42204614]\n",
      " [6.69291982]]\n"
     ]
    },
    {
     "name": "stderr",
     "output_type": "stream",
     "text": [
      "\n",
      " 24%|███████████████████▏                                                            | 200/834 [01:41<07:40,  1.38it/s]"
     ]
    },
    {
     "name": "stdout",
     "output_type": "stream",
     "text": [
      "[[3.64328362]\n",
      " [4.62917626]\n",
      " [4.14025912]\n",
      " ...\n",
      " [3.04348338]\n",
      " [1.96379137]\n",
      " [2.62348138]]\n",
      "[[3.46769245]\n",
      " [4.55841462]\n",
      " [4.00758912]\n",
      " ...\n",
      " [3.02112598]\n",
      " [1.94974687]\n",
      " [2.61082772]]\n"
     ]
    },
    {
     "name": "stderr",
     "output_type": "stream",
     "text": [
      "\n",
      " 24%|███████████████████▎                                                            | 201/834 [01:42<07:43,  1.36it/s]"
     ]
    },
    {
     "name": "stdout",
     "output_type": "stream",
     "text": [
      "[[3.63496739]\n",
      " [2.62928341]\n",
      " [5.5922476 ]\n",
      " ...\n",
      " [7.4437376 ]\n",
      " [6.41774653]\n",
      " [4.28079701]]\n",
      "[[3.63455847]\n",
      " [2.72985194]\n",
      " [5.58288684]\n",
      " ...\n",
      " [7.34094412]\n",
      " [6.32778757]\n",
      " [4.19576473]]\n"
     ]
    },
    {
     "name": "stderr",
     "output_type": "stream",
     "text": [
      "\n",
      " 24%|███████████████████▍                                                            | 202/834 [01:42<07:37,  1.38it/s]"
     ]
    },
    {
     "name": "stdout",
     "output_type": "stream",
     "text": [
      "[[3.1077569 ]\n",
      " [5.56836261]\n",
      " [6.96432933]\n",
      " ...\n",
      " [3.93222436]\n",
      " [3.54590633]\n",
      " [2.3411485 ]]\n",
      "[[2.94143263]\n",
      " [5.46782795]\n",
      " [6.85636856]\n",
      " ...\n",
      " [3.82885937]\n",
      " [3.54609627]\n",
      " [2.308915  ]]\n"
     ]
    },
    {
     "name": "stderr",
     "output_type": "stream",
     "text": [
      "\n",
      " 24%|███████████████████▍                                                            | 203/834 [01:43<07:33,  1.39it/s]"
     ]
    },
    {
     "name": "stdout",
     "output_type": "stream",
     "text": [
      "[[5.02203768]\n",
      " [5.01584885]\n",
      " [3.95362738]\n",
      " ...\n",
      " [3.8482562 ]\n",
      " [5.44126607]\n",
      " [3.48163281]]\n",
      "[[5.01710273]\n",
      " [4.91806633]\n",
      " [4.01619678]\n",
      " ...\n",
      " [3.7551946 ]\n",
      " [5.40393142]\n",
      " [3.37168646]]\n"
     ]
    },
    {
     "name": "stderr",
     "output_type": "stream",
     "text": [
      "\n",
      " 24%|███████████████████▌                                                            | 204/834 [01:44<07:35,  1.38it/s]"
     ]
    },
    {
     "name": "stdout",
     "output_type": "stream",
     "text": [
      "[[4.14670581]\n",
      " [5.1450728 ]\n",
      " [3.51850789]\n",
      " ...\n",
      " [5.07477162]\n",
      " [3.72045053]\n",
      " [2.48088055]]\n",
      "[[4.09743758]\n",
      " [5.02719335]\n",
      " [3.50924776]\n",
      " ...\n",
      " [5.20041033]\n",
      " [3.87608864]\n",
      " [2.54780163]]\n"
     ]
    },
    {
     "name": "stderr",
     "output_type": "stream",
     "text": [
      "\n",
      " 25%|███████████████████▋                                                            | 205/834 [01:44<07:31,  1.39it/s]"
     ]
    },
    {
     "name": "stdout",
     "output_type": "stream",
     "text": [
      "[[6.17992806]\n",
      " [1.66556739]\n",
      " [4.66463306]\n",
      " ...\n",
      " [1.34974394]\n",
      " [4.37214664]\n",
      " [1.08939428]]\n",
      "[[6.34036055]\n",
      " [1.74309865]\n",
      " [4.8338596 ]\n",
      " ...\n",
      " [1.33589528]\n",
      " [4.39615869]\n",
      " [1.05255188]]\n"
     ]
    },
    {
     "name": "stderr",
     "output_type": "stream",
     "text": [
      "\n",
      " 25%|███████████████████▊                                                            | 206/834 [01:45<07:33,  1.38it/s]"
     ]
    },
    {
     "name": "stdout",
     "output_type": "stream",
     "text": [
      "[[3.92700254]\n",
      " [3.56624565]\n",
      " [2.86191229]\n",
      " ...\n",
      " [4.25707318]\n",
      " [4.03720875]\n",
      " [4.59410625]]\n",
      "[[3.97035376]\n",
      " [3.50421857]\n",
      " [2.77027891]\n",
      " ...\n",
      " [4.21204513]\n",
      " [4.03699055]\n",
      " [4.59681056]]\n"
     ]
    },
    {
     "name": "stderr",
     "output_type": "stream",
     "text": [
      "\n",
      " 25%|███████████████████▊                                                            | 207/834 [01:46<07:35,  1.38it/s]"
     ]
    },
    {
     "name": "stdout",
     "output_type": "stream",
     "text": [
      "[[3.42506309]\n",
      " [3.34657461]\n",
      " [1.50433562]\n",
      " ...\n",
      " [3.67029526]\n",
      " [1.30887191]\n",
      " [3.27182522]]\n",
      "[[3.38964326]\n",
      " [3.2516951 ]\n",
      " [1.48012993]\n",
      " ...\n",
      " [3.47259269]\n",
      " [1.12060717]\n",
      " [3.04462778]]\n"
     ]
    },
    {
     "name": "stderr",
     "output_type": "stream",
     "text": [
      "\n",
      " 25%|███████████████████▉                                                            | 208/834 [01:47<07:36,  1.37it/s]"
     ]
    },
    {
     "name": "stdout",
     "output_type": "stream",
     "text": [
      "[[1.65309304]\n",
      " [1.94983428]\n",
      " [2.04166741]\n",
      " ...\n",
      " [3.5115777 ]\n",
      " [3.86047268]\n",
      " [5.05527038]]\n",
      "[[1.48303139]\n",
      " [1.80186927]\n",
      " [1.87492151]\n",
      " ...\n",
      " [3.43690477]\n",
      " [3.77895431]\n",
      " [5.02616172]]\n"
     ]
    },
    {
     "name": "stderr",
     "output_type": "stream",
     "text": [
      "\n",
      " 25%|████████████████████                                                            | 209/834 [01:47<07:42,  1.35it/s]"
     ]
    },
    {
     "name": "stdout",
     "output_type": "stream",
     "text": [
      "[[3.80947934]\n",
      " [4.10641399]\n",
      " [3.96829361]\n",
      " ...\n",
      " [2.47288665]\n",
      " [2.98846086]\n",
      " [2.98626899]]\n",
      "[[3.76486613]\n",
      " [4.09769548]\n",
      " [3.9280892 ]\n",
      " ...\n",
      " [2.5042153 ]\n",
      " [3.03930845]\n",
      " [3.03534312]]\n"
     ]
    },
    {
     "name": "stderr",
     "output_type": "stream",
     "text": [
      "\n",
      " 25%|████████████████████▏                                                           | 210/834 [01:48<07:35,  1.37it/s]"
     ]
    },
    {
     "name": "stdout",
     "output_type": "stream",
     "text": [
      "[[3.04661003]\n",
      " [3.20922784]\n",
      " [4.25165796]\n",
      " ...\n",
      " [7.65215915]\n",
      " [2.44500471]\n",
      " [3.90208608]]\n",
      "[[3.08137957]\n",
      " [3.2398636 ]\n",
      " [4.27210529]\n",
      " ...\n",
      " [7.60633072]\n",
      " [2.37078051]\n",
      " [3.82476509]]\n"
     ]
    },
    {
     "name": "stderr",
     "output_type": "stream",
     "text": [
      "\n",
      " 25%|████████████████████▏                                                           | 211/834 [01:49<07:38,  1.36it/s]"
     ]
    },
    {
     "name": "stdout",
     "output_type": "stream",
     "text": [
      "[[2.84134735]\n",
      " [4.48734903]\n",
      " [2.39704132]\n",
      " ...\n",
      " [4.27815387]\n",
      " [2.3924964 ]\n",
      " [4.01429076]]\n",
      "[[2.72933612]\n",
      " [4.44709538]\n",
      " [2.32461511]\n",
      " ...\n",
      " [4.32932847]\n",
      " [2.27825627]\n",
      " [3.95433127]]\n"
     ]
    },
    {
     "name": "stderr",
     "output_type": "stream",
     "text": [
      "\n",
      " 25%|████████████████████▎                                                           | 212/834 [01:50<07:37,  1.36it/s]"
     ]
    },
    {
     "name": "stdout",
     "output_type": "stream",
     "text": [
      "[[1.95250966]\n",
      " [2.88005973]\n",
      " [1.73886628]\n",
      " ...\n",
      " [4.70415129]\n",
      " [7.35877019]\n",
      " [2.93646829]]\n",
      "[[1.96660755]\n",
      " [2.88582137]\n",
      " [1.73665097]\n",
      " ...\n",
      " [4.80906826]\n",
      " [7.34426467]\n",
      " [2.99578659]]\n"
     ]
    },
    {
     "name": "stderr",
     "output_type": "stream",
     "text": [
      "\n",
      " 26%|████████████████████▍                                                           | 213/834 [01:50<07:39,  1.35it/s]"
     ]
    },
    {
     "name": "stdout",
     "output_type": "stream",
     "text": [
      "[[4.15021926]\n",
      " [4.25346304]\n",
      " [2.61619662]\n",
      " ...\n",
      " [2.8461179 ]\n",
      " [3.51009496]\n",
      " [3.87878129]]\n",
      "[[4.17706645]\n",
      " [4.27652195]\n",
      " [2.67926987]\n",
      " ...\n",
      " [2.64803085]\n",
      " [3.25595057]\n",
      " [3.62588634]]\n"
     ]
    },
    {
     "name": "stderr",
     "output_type": "stream",
     "text": [
      "\n",
      " 26%|████████████████████▌                                                           | 214/834 [01:51<07:42,  1.34it/s]"
     ]
    },
    {
     "name": "stdout",
     "output_type": "stream",
     "text": [
      "[[5.47098532]\n",
      " [4.50765611]\n",
      " [3.68189931]\n",
      " ...\n",
      " [5.38221437]\n",
      " [1.22000426]\n",
      " [1.09426153]]\n",
      "[[5.28974297]\n",
      " [4.3492518 ]\n",
      " [3.464791  ]\n",
      " ...\n",
      " [5.31372835]\n",
      " [1.05509872]\n",
      " [0.96299358]]\n"
     ]
    },
    {
     "name": "stderr",
     "output_type": "stream",
     "text": [
      "\n",
      " 26%|████████████████████▌                                                           | 215/834 [01:52<07:42,  1.34it/s]"
     ]
    },
    {
     "name": "stdout",
     "output_type": "stream",
     "text": [
      "[[4.5129424 ]\n",
      " [2.41299688]\n",
      " [4.23463869]\n",
      " ...\n",
      " [4.27209398]\n",
      " [5.33992407]\n",
      " [4.77325983]]\n",
      "[[4.47391774]\n",
      " [2.30075869]\n",
      " [4.19521668]\n",
      " ...\n",
      " [4.2783273 ]\n",
      " [5.3804941 ]\n",
      " [4.77969907]]\n"
     ]
    },
    {
     "name": "stderr",
     "output_type": "stream",
     "text": [
      "\n",
      " 26%|████████████████████▋                                                           | 216/834 [01:53<07:45,  1.33it/s]"
     ]
    },
    {
     "name": "stdout",
     "output_type": "stream",
     "text": [
      "[[4.12830051]\n",
      " [4.89484444]\n",
      " [5.52855428]\n",
      " ...\n",
      " [4.59301031]\n",
      " [0.35563177]\n",
      " [3.4022418 ]]\n",
      "[[4.14921246]\n",
      " [4.93724818]\n",
      " [5.54713445]\n",
      " ...\n",
      " [4.68159758]\n",
      " [0.36835609]\n",
      " [3.39238352]]\n"
     ]
    },
    {
     "name": "stderr",
     "output_type": "stream",
     "text": [
      "\n",
      " 26%|████████████████████▊                                                           | 217/834 [01:53<07:43,  1.33it/s]"
     ]
    },
    {
     "name": "stdout",
     "output_type": "stream",
     "text": [
      "[[4.74138093]\n",
      " [3.0160527 ]\n",
      " [4.50994468]\n",
      " ...\n",
      " [3.2832681 ]\n",
      " [4.03698311]\n",
      " [4.40779685]]\n",
      "[[4.81264673]\n",
      " [3.06181086]\n",
      " [4.53056063]\n",
      " ...\n",
      " [3.4595039 ]\n",
      " [4.19992348]\n",
      " [4.59955083]]\n"
     ]
    },
    {
     "name": "stderr",
     "output_type": "stream",
     "text": [
      "\n",
      " 26%|████████████████████▉                                                           | 218/834 [01:54<07:49,  1.31it/s]"
     ]
    },
    {
     "name": "stdout",
     "output_type": "stream",
     "text": [
      "[[2.36187461]\n",
      " [4.13374796]\n",
      " [6.05931045]\n",
      " ...\n",
      " [3.79948697]\n",
      " [3.42480522]\n",
      " [5.60894453]]\n",
      "[[2.58319941]\n",
      " [4.36791784]\n",
      " [6.24748169]\n",
      " ...\n",
      " [3.82908504]\n",
      " [3.44006413]\n",
      " [5.60580835]]\n"
     ]
    },
    {
     "name": "stderr",
     "output_type": "stream",
     "text": [
      "\n",
      " 26%|█████████████████████                                                           | 219/834 [01:55<07:46,  1.32it/s]"
     ]
    },
    {
     "name": "stdout",
     "output_type": "stream",
     "text": [
      "[[3.09254271]\n",
      " [4.31780102]\n",
      " [4.5971362 ]\n",
      " ...\n",
      " [3.03635978]\n",
      " [3.75764794]\n",
      " [5.10520001]]\n",
      "[[3.12029133]\n",
      " [4.28090637]\n",
      " [4.54961353]\n",
      " ...\n",
      " [3.13947319]\n",
      " [3.83882104]\n",
      " [5.2213653 ]]\n"
     ]
    },
    {
     "name": "stderr",
     "output_type": "stream",
     "text": [
      "\n",
      " 26%|█████████████████████                                                           | 220/834 [01:56<07:41,  1.33it/s]"
     ]
    },
    {
     "name": "stdout",
     "output_type": "stream",
     "text": [
      "[[4.79575878]\n",
      " [4.28969345]\n",
      " [2.67054224]\n",
      " ...\n",
      " [3.28410617]\n",
      " [3.55580201]\n",
      " [3.82972196]]\n",
      "[[4.93853772]\n",
      " [4.35447443]\n",
      " [2.75338598]\n",
      " ...\n",
      " [3.29615187]\n",
      " [3.65483643]\n",
      " [3.79990928]]\n"
     ]
    },
    {
     "name": "stderr",
     "output_type": "stream",
     "text": [
      "\n",
      " 26%|█████████████████████▏                                                          | 221/834 [01:56<07:41,  1.33it/s]"
     ]
    },
    {
     "name": "stdout",
     "output_type": "stream",
     "text": [
      "[[4.71878528]\n",
      " [3.37503676]\n",
      " [0.62842355]\n",
      " ...\n",
      " [5.09114622]\n",
      " [3.6477963 ]\n",
      " [4.55710224]]\n",
      "[[4.81848188]\n",
      " [3.4432235 ]\n",
      " [0.62539294]\n",
      " ...\n",
      " [5.06849076]\n",
      " [3.65306332]\n",
      " [4.63172476]]\n"
     ]
    },
    {
     "name": "stderr",
     "output_type": "stream",
     "text": [
      "\n",
      " 27%|█████████████████████▎                                                          | 222/834 [01:57<07:38,  1.33it/s]"
     ]
    },
    {
     "name": "stdout",
     "output_type": "stream",
     "text": [
      "[[2.745066  ]\n",
      " [3.46670872]\n",
      " [3.02575498]\n",
      " ...\n",
      " [0.07555523]\n",
      " [3.42374152]\n",
      " [3.00396516]]\n",
      "[[2.78194921]\n",
      " [3.47878247]\n",
      " [3.04617523]\n",
      " ...\n",
      " [0.17898766]\n",
      " [3.39776734]\n",
      " [3.00626407]]\n"
     ]
    },
    {
     "name": "stderr",
     "output_type": "stream",
     "text": [
      "\n",
      " 27%|█████████████████████▍                                                          | 223/834 [01:58<07:42,  1.32it/s]"
     ]
    },
    {
     "name": "stdout",
     "output_type": "stream",
     "text": [
      "[[3.88729092]\n",
      " [5.34701543]\n",
      " [2.8467948 ]\n",
      " ...\n",
      " [6.40195214]\n",
      " [2.96425353]\n",
      " [4.48570512]]\n",
      "[[3.95442798]\n",
      " [5.41479577]\n",
      " [2.88981893]\n",
      " ...\n",
      " [6.4035156 ]\n",
      " [2.91299835]\n",
      " [4.50734897]]\n"
     ]
    },
    {
     "name": "stderr",
     "output_type": "stream",
     "text": [
      "\n",
      " 27%|█████████████████████▍                                                          | 224/834 [01:59<07:43,  1.32it/s]"
     ]
    },
    {
     "name": "stdout",
     "output_type": "stream",
     "text": [
      "[[2.49667495]\n",
      " [4.87969471]\n",
      " [3.18382787]\n",
      " ...\n",
      " [3.44614377]\n",
      " [0.10108413]\n",
      " [4.22567779]]\n",
      "[[ 2.44512229]\n",
      " [ 4.8700311 ]\n",
      " [ 3.13621711]\n",
      " ...\n",
      " [ 3.29344384]\n",
      " [-0.02975605]\n",
      " [ 4.18918809]]\n"
     ]
    },
    {
     "name": "stderr",
     "output_type": "stream",
     "text": [
      "\n",
      " 27%|█████████████████████▌                                                          | 225/834 [01:59<07:45,  1.31it/s]"
     ]
    },
    {
     "name": "stdout",
     "output_type": "stream",
     "text": [
      "[[4.90109773]\n",
      " [2.73375205]\n",
      " [2.50802113]\n",
      " ...\n",
      " [4.59655599]\n",
      " [4.05155264]\n",
      " [3.53568833]]\n",
      "[[4.85310593]\n",
      " [2.64619326]\n",
      " [2.42800369]\n",
      " ...\n",
      " [4.5769517 ]\n",
      " [3.95581424]\n",
      " [3.44854284]]\n"
     ]
    },
    {
     "name": "stderr",
     "output_type": "stream",
     "text": [
      "\n",
      " 27%|█████████████████████▋                                                          | 226/834 [02:00<07:47,  1.30it/s]"
     ]
    },
    {
     "name": "stdout",
     "output_type": "stream",
     "text": [
      "[[4.34358779]\n",
      " [4.01400065]\n",
      " [2.3249673 ]\n",
      " ...\n",
      " [6.39508641]\n",
      " [3.53987868]\n",
      " [3.8982503 ]]\n",
      "[[4.31063019]\n",
      " [4.01090968]\n",
      " [2.20339868]\n",
      " ...\n",
      " [6.43981605]\n",
      " [3.50541139]\n",
      " [3.956459  ]]\n"
     ]
    },
    {
     "name": "stderr",
     "output_type": "stream",
     "text": [
      "\n",
      " 27%|█████████████████████▊                                                          | 227/834 [02:01<07:46,  1.30it/s]"
     ]
    },
    {
     "name": "stdout",
     "output_type": "stream",
     "text": [
      "[[3.95143551]\n",
      " [4.47374651]\n",
      " [3.32842717]\n",
      " ...\n",
      " [1.79656418]\n",
      " [2.58586493]\n",
      " [3.28897342]]\n",
      "[[3.94188724]\n",
      " [4.51831003]\n",
      " [3.28844689]\n",
      " ...\n",
      " [1.72568991]\n",
      " [2.54183752]\n",
      " [3.20720609]]\n"
     ]
    },
    {
     "name": "stderr",
     "output_type": "stream",
     "text": [
      "\n",
      " 27%|█████████████████████▊                                                          | 228/834 [02:02<07:45,  1.30it/s]"
     ]
    },
    {
     "name": "stdout",
     "output_type": "stream",
     "text": [
      "[[2.66306407]\n",
      " [5.53606468]\n",
      " [4.13616547]\n",
      " ...\n",
      " [2.80856592]\n",
      " [1.32634245]\n",
      " [5.22033793]]\n",
      "[[2.7160539 ]\n",
      " [5.48117466]\n",
      " [4.06768152]\n",
      " ...\n",
      " [2.6202091 ]\n",
      " [1.16922269]\n",
      " [5.09276628]]\n"
     ]
    },
    {
     "name": "stderr",
     "output_type": "stream",
     "text": [
      "\n",
      " 27%|█████████████████████▉                                                          | 229/834 [02:03<07:57,  1.27it/s]"
     ]
    },
    {
     "name": "stdout",
     "output_type": "stream",
     "text": [
      "[[4.66192545]\n",
      " [4.60532349]\n",
      " [4.46130439]\n",
      " ...\n",
      " [3.00473876]\n",
      " [2.52523379]\n",
      " [0.96642363]]\n",
      "[[4.48317016]\n",
      " [4.44674076]\n",
      " [4.43677909]\n",
      " ...\n",
      " [2.93824103]\n",
      " [2.54367511]\n",
      " [0.93307633]]\n"
     ]
    },
    {
     "name": "stderr",
     "output_type": "stream",
     "text": [
      "\n",
      " 28%|██████████████████████                                                          | 230/834 [02:03<08:01,  1.25it/s]"
     ]
    },
    {
     "name": "stdout",
     "output_type": "stream",
     "text": [
      "[[3.00734967]\n",
      " [4.88033938]\n",
      " [4.45086075]\n",
      " ...\n",
      " [3.39324866]\n",
      " [2.94007844]\n",
      " [3.58139538]]\n",
      "[[2.99369109]\n",
      " [4.87957367]\n",
      " [4.50173949]\n",
      " ...\n",
      " [3.39892792]\n",
      " [2.85745157]\n",
      " [3.53500626]]\n"
     ]
    },
    {
     "name": "stderr",
     "output_type": "stream",
     "text": [
      "\n",
      " 28%|██████████████████████▏                                                         | 231/834 [02:04<07:56,  1.26it/s]"
     ]
    },
    {
     "name": "stdout",
     "output_type": "stream",
     "text": [
      "[[3.84687016]\n",
      " [6.29503375]\n",
      " [6.75471514]\n",
      " ...\n",
      " [4.20214737]\n",
      " [3.25989884]\n",
      " [4.48180487]]\n",
      "[[3.8180595 ]\n",
      " [6.21143915]\n",
      " [6.66474344]\n",
      " ...\n",
      " [4.23406396]\n",
      " [3.23747796]\n",
      " [4.51295846]]\n"
     ]
    },
    {
     "name": "stderr",
     "output_type": "stream",
     "text": [
      "\n",
      " 28%|██████████████████████▎                                                         | 232/834 [02:05<07:52,  1.27it/s]"
     ]
    },
    {
     "name": "stdout",
     "output_type": "stream",
     "text": [
      "[[1.98361495]\n",
      " [4.07953128]\n",
      " [3.42957577]\n",
      " ...\n",
      " [7.28850125]\n",
      " [3.97818928]\n",
      " [3.31791907]]\n",
      "[[2.01409473]\n",
      " [4.01790542]\n",
      " [3.48735788]\n",
      " ...\n",
      " [7.17356229]\n",
      " [3.8449141 ]\n",
      " [3.19440744]]\n"
     ]
    },
    {
     "name": "stderr",
     "output_type": "stream",
     "text": [
      "\n",
      " 28%|██████████████████████▎                                                         | 233/834 [02:06<07:54,  1.27it/s]"
     ]
    },
    {
     "name": "stdout",
     "output_type": "stream",
     "text": [
      "[[3.21554559]\n",
      " [3.94972713]\n",
      " [5.38511538]\n",
      " ...\n",
      " [3.56160403]\n",
      " [3.66539577]\n",
      " [1.96250203]]\n",
      "[[3.10233454]\n",
      " [3.86174255]\n",
      " [5.3479333 ]\n",
      " ...\n",
      " [3.36878501]\n",
      " [3.42936098]\n",
      " [1.81060588]]\n"
     ]
    },
    {
     "name": "stderr",
     "output_type": "stream",
     "text": [
      "\n",
      " 28%|██████████████████████▍                                                         | 234/834 [02:06<07:49,  1.28it/s]"
     ]
    },
    {
     "name": "stdout",
     "output_type": "stream",
     "text": [
      "[[3.92210306]\n",
      " [5.21350444]\n",
      " [3.87665388]\n",
      " ...\n",
      " [1.15556957]\n",
      " [3.8400689 ]\n",
      " [1.44538062]]\n",
      "[[3.81193421]\n",
      " [5.08828514]\n",
      " [3.72537407]\n",
      " ...\n",
      " [1.01515533]\n",
      " [3.68565635]\n",
      " [1.30813801]]\n"
     ]
    },
    {
     "name": "stderr",
     "output_type": "stream",
     "text": [
      "\n",
      " 28%|██████████████████████▌                                                         | 235/834 [02:07<07:50,  1.27it/s]"
     ]
    },
    {
     "name": "stdout",
     "output_type": "stream",
     "text": [
      "[[1.8789529 ]\n",
      " [1.51535946]\n",
      " [5.32322714]\n",
      " ...\n",
      " [4.42284987]\n",
      " [4.2352189 ]\n",
      " [4.39187352]]\n",
      "[[1.76876043]\n",
      " [1.37999743]\n",
      " [5.23706541]\n",
      " ...\n",
      " [4.48191287]\n",
      " [4.28313082]\n",
      " [4.46753453]]\n"
     ]
    },
    {
     "name": "stderr",
     "output_type": "stream",
     "text": [
      "\n",
      " 28%|██████████████████████▋                                                         | 236/834 [02:08<07:53,  1.26it/s]"
     ]
    },
    {
     "name": "stdout",
     "output_type": "stream",
     "text": [
      "[[3.57124184]\n",
      " [2.99884004]\n",
      " [2.91390487]\n",
      " ...\n",
      " [2.85072728]\n",
      " [3.32797591]\n",
      " [3.33674341]]\n",
      "[[3.60431884]\n",
      " [2.99878476]\n",
      " [2.92956889]\n",
      " ...\n",
      " [2.68874796]\n",
      " [3.16874567]\n",
      " [3.17580588]]\n"
     ]
    },
    {
     "name": "stderr",
     "output_type": "stream",
     "text": [
      "\n",
      " 28%|██████████████████████▋                                                         | 237/834 [02:09<07:53,  1.26it/s]"
     ]
    },
    {
     "name": "stdout",
     "output_type": "stream",
     "text": [
      "[[3.45639401]\n",
      " [3.55879972]\n",
      " [4.42768489]\n",
      " ...\n",
      " [4.83134452]\n",
      " [2.25402145]\n",
      " [4.88620587]]\n",
      "[[3.28525528]\n",
      " [3.37652223]\n",
      " [4.24209133]\n",
      " ...\n",
      " [4.84556214]\n",
      " [2.2149078 ]\n",
      " [4.90068983]]\n"
     ]
    },
    {
     "name": "stderr",
     "output_type": "stream",
     "text": [
      "\n",
      " 29%|██████████████████████▊                                                         | 238/834 [02:10<07:52,  1.26it/s]"
     ]
    },
    {
     "name": "stdout",
     "output_type": "stream",
     "text": [
      "[[3.92803401]\n",
      " [3.08857799]\n",
      " [3.52933834]\n",
      " ...\n",
      " [4.2958178 ]\n",
      " [3.78981693]\n",
      " [1.52757595]]\n",
      "[[3.92080332]\n",
      " [3.10659001]\n",
      " [3.46788588]\n",
      " ...\n",
      " [4.14818083]\n",
      " [3.55386573]\n",
      " [1.37345303]]\n"
     ]
    },
    {
     "name": "stderr",
     "output_type": "stream",
     "text": [
      "\n",
      " 29%|██████████████████████▉                                                         | 239/834 [02:10<07:52,  1.26it/s]"
     ]
    },
    {
     "name": "stdout",
     "output_type": "stream",
     "text": [
      "[[6.16381133]\n",
      " [7.23060995]\n",
      " [3.20278114]\n",
      " ...\n",
      " [3.72509214]\n",
      " [2.49545008]\n",
      " [3.83694225]]\n",
      "[[5.94315109]\n",
      " [7.01288605]\n",
      " [3.03360225]\n",
      " ...\n",
      " [3.54835296]\n",
      " [2.29630978]\n",
      " [3.75313134]]\n"
     ]
    },
    {
     "name": "stderr",
     "output_type": "stream",
     "text": [
      "\n",
      " 29%|███████████████████████                                                         | 240/834 [02:11<08:06,  1.22it/s]"
     ]
    },
    {
     "name": "stdout",
     "output_type": "stream",
     "text": [
      "[[4.87369929]\n",
      " [5.96789635]\n",
      " [7.63275461]\n",
      " ...\n",
      " [6.02243537]\n",
      " [3.87404297]\n",
      " [2.58731544]]\n",
      "[[4.79930002]\n",
      " [5.79566036]\n",
      " [7.52608931]\n",
      " ...\n",
      " [5.94389257]\n",
      " [3.89530274]\n",
      " [2.4680438 ]]\n"
     ]
    },
    {
     "name": "stderr",
     "output_type": "stream",
     "text": [
      "\n",
      " 29%|███████████████████████                                                         | 241/834 [02:12<08:21,  1.18it/s]"
     ]
    },
    {
     "name": "stdout",
     "output_type": "stream",
     "text": [
      "[[3.86624247]\n",
      " [2.10117038]\n",
      " [2.96464033]\n",
      " ...\n",
      " [3.97709334]\n",
      " [3.09666859]\n",
      " [2.12992263]]\n",
      "[[3.78337097]\n",
      " [2.06535381]\n",
      " [2.94858956]\n",
      " ...\n",
      " [4.03589445]\n",
      " [3.09369465]\n",
      " [2.11022968]]\n"
     ]
    },
    {
     "name": "stderr",
     "output_type": "stream",
     "text": [
      "\n",
      " 29%|███████████████████████▏                                                        | 242/834 [02:13<08:26,  1.17it/s]"
     ]
    },
    {
     "name": "stdout",
     "output_type": "stream",
     "text": [
      "[[4.10203024]\n",
      " [4.4879937 ]\n",
      " [7.48319135]\n",
      " ...\n",
      " [2.68810947]\n",
      " [3.51705739]\n",
      " [4.77725678]]\n",
      "[[4.1614953 ]\n",
      " [4.51547305]\n",
      " [7.4168011 ]\n",
      " ...\n",
      " [2.50743914]\n",
      " [3.28954299]\n",
      " [4.5428757 ]]\n"
     ]
    },
    {
     "name": "stderr",
     "output_type": "stream",
     "text": [
      "\n",
      " 29%|███████████████████████▎                                                        | 243/834 [02:14<08:29,  1.16it/s]"
     ]
    },
    {
     "name": "stdout",
     "output_type": "stream",
     "text": [
      "[[5.73272102]\n",
      " [4.87150741]\n",
      " [3.78059816]\n",
      " ...\n",
      " [3.95530352]\n",
      " [5.53239006]\n",
      " [3.34931446]]\n",
      "[[5.57885704]\n",
      " [4.74907258]\n",
      " [3.59232615]\n",
      " ...\n",
      " [3.86341895]\n",
      " [5.39777389]\n",
      " [3.24547308]]\n"
     ]
    },
    {
     "name": "stderr",
     "output_type": "stream",
     "text": [
      "\n",
      " 29%|███████████████████████▍                                                        | 244/834 [02:15<08:36,  1.14it/s]"
     ]
    },
    {
     "name": "stdout",
     "output_type": "stream",
     "text": [
      "[[5.28635206]\n",
      " [1.54814089]\n",
      " [1.11021709]\n",
      " ...\n",
      " [4.78164053]\n",
      " [5.57722681]\n",
      " [6.14427785]]\n",
      "[[5.1900618 ]\n",
      " [1.37416227]\n",
      " [0.95519188]\n",
      " ...\n",
      " [4.73259875]\n",
      " [5.56454319]\n",
      " [6.10308585]]\n"
     ]
    },
    {
     "name": "stderr",
     "output_type": "stream",
     "text": [
      "\n",
      " 29%|███████████████████████▌                                                        | 245/834 [02:16<08:38,  1.13it/s]"
     ]
    },
    {
     "name": "stdout",
     "output_type": "stream",
     "text": [
      "[[4.73751292]\n",
      " [4.49824394]\n",
      " [4.30042719]\n",
      " ...\n",
      " [2.11074372]\n",
      " [3.44978615]\n",
      " [3.37780884]]\n",
      "[[4.69965109]\n",
      " [4.4531562 ]\n",
      " [4.21668746]\n",
      " ...\n",
      " [1.92208631]\n",
      " [3.28825346]\n",
      " [3.24295849]]\n"
     ]
    },
    {
     "name": "stderr",
     "output_type": "stream",
     "text": [
      "\n",
      " 29%|███████████████████████▌                                                        | 246/834 [02:17<08:38,  1.13it/s]"
     ]
    },
    {
     "name": "stdout",
     "output_type": "stream",
     "text": [
      "[[4.82747651]\n",
      " [0.54455209]\n",
      " [3.57610909]\n",
      " ...\n",
      " [6.43711884]\n",
      " [6.2909401 ]\n",
      " [4.2532374 ]]\n",
      "[[4.74059388]\n",
      " [0.3854102 ]\n",
      " [3.43303616]\n",
      " ...\n",
      " [6.34648585]\n",
      " [6.22120738]\n",
      " [4.1329643 ]]\n"
     ]
    },
    {
     "name": "stderr",
     "output_type": "stream",
     "text": [
      "\n",
      " 30%|███████████████████████▋                                                        | 247/834 [02:17<08:25,  1.16it/s]"
     ]
    },
    {
     "name": "stdout",
     "output_type": "stream",
     "text": [
      "[[5.10242793]\n",
      " [5.29976118]\n",
      " [3.7650294 ]\n",
      " ...\n",
      " [0.95733379]\n",
      " [6.00789808]\n",
      " [6.27843352]]\n",
      "[[4.98557356]\n",
      " [5.21914085]\n",
      " [3.6622835 ]\n",
      " ...\n",
      " [0.77082041]\n",
      " [6.04134929]\n",
      " [6.1872281 ]]\n"
     ]
    },
    {
     "name": "stderr",
     "output_type": "stream",
     "text": [
      "\n",
      " 30%|███████████████████████▊                                                        | 248/834 [02:18<08:16,  1.18it/s]"
     ]
    },
    {
     "name": "stdout",
     "output_type": "stream",
     "text": [
      "[[4.64690466]\n",
      " [4.58188977]\n",
      " [6.72751009]\n",
      " ...\n",
      " [4.98103671]\n",
      " [4.34184719]\n",
      " [5.09191982]]\n",
      "[[4.55615793]\n",
      " [4.47382102]\n",
      " [6.61935176]\n",
      " ...\n",
      " [4.93241242]\n",
      " [4.31311255]\n",
      " [5.08090254]]\n"
     ]
    },
    {
     "name": "stderr",
     "output_type": "stream",
     "text": [
      "\n",
      " 30%|███████████████████████▉                                                        | 249/834 [02:19<08:11,  1.19it/s]"
     ]
    },
    {
     "name": "stdout",
     "output_type": "stream",
     "text": [
      "[[5.78442349]\n",
      " [4.19850498]\n",
      " [4.13432816]\n",
      " ...\n",
      " [3.10562949]\n",
      " [4.70334545]\n",
      " [3.65327599]]\n",
      "[[5.75607159]\n",
      " [4.1642678 ]\n",
      " [4.10472346]\n",
      " ...\n",
      " [2.97660474]\n",
      " [4.62334278]\n",
      " [3.5162435 ]]\n"
     ]
    },
    {
     "name": "stderr",
     "output_type": "stream",
     "text": [
      "\n",
      " 30%|███████████████████████▉                                                        | 250/834 [02:20<08:12,  1.19it/s]"
     ]
    },
    {
     "name": "stdout",
     "output_type": "stream",
     "text": [
      "[[3.76093575]\n",
      " [6.43553941]\n",
      " [3.35885556]\n",
      " ...\n",
      " [2.88383105]\n",
      " [3.08013282]\n",
      " [3.16938728]]\n",
      "[[3.67095563]\n",
      " [6.32846458]\n",
      " [3.1725498 ]\n",
      " ...\n",
      " [2.85558174]\n",
      " [3.03627804]\n",
      " [3.11387589]]\n"
     ]
    },
    {
     "name": "stderr",
     "output_type": "stream",
     "text": [
      "\n",
      " 30%|████████████████████████                                                        | 251/834 [02:21<08:05,  1.20it/s]"
     ]
    },
    {
     "name": "stdout",
     "output_type": "stream",
     "text": [
      "[[3.3692992 ]\n",
      " [3.22205675]\n",
      " [5.05620515]\n",
      " ...\n",
      " [2.54654011]\n",
      " [3.37329615]\n",
      " [3.72483428]]\n",
      "[[3.36891396]\n",
      " [3.15643059]\n",
      " [4.99469703]\n",
      " ...\n",
      " [2.53874264]\n",
      " [3.3352893 ]\n",
      " [3.74474936]]\n"
     ]
    },
    {
     "name": "stderr",
     "output_type": "stream",
     "text": [
      "\n",
      " 30%|████████████████████████▏                                                       | 252/834 [02:22<08:00,  1.21it/s]"
     ]
    },
    {
     "name": "stdout",
     "output_type": "stream",
     "text": [
      "[[2.07963843]\n",
      " [4.26087673]\n",
      " [1.33530335]\n",
      " ...\n",
      " [2.92492871]\n",
      " [4.51452184]\n",
      " [2.66760899]]\n",
      "[[2.01967198]\n",
      " [4.28480722]\n",
      " [1.37703149]\n",
      " ...\n",
      " [2.98766251]\n",
      " [4.62530932]\n",
      " [2.71560256]]\n"
     ]
    },
    {
     "name": "stderr",
     "output_type": "stream",
     "text": [
      "\n",
      " 30%|████████████████████████▎                                                       | 253/834 [02:22<07:59,  1.21it/s]"
     ]
    },
    {
     "name": "stdout",
     "output_type": "stream",
     "text": [
      "[[4.5569733 ]\n",
      " [3.11571857]\n",
      " [4.38562022]\n",
      " ...\n",
      " [4.52951039]\n",
      " [3.21686717]\n",
      " [4.31519011]]\n",
      "[[4.55199917]\n",
      " [3.14908024]\n",
      " [4.49816103]\n",
      " ...\n",
      " [4.47033928]\n",
      " [3.0633583 ]\n",
      " [4.194314  ]]\n"
     ]
    },
    {
     "name": "stderr",
     "output_type": "stream",
     "text": [
      "\n",
      " 30%|████████████████████████▎                                                       | 254/834 [02:23<07:56,  1.22it/s]"
     ]
    },
    {
     "name": "stdout",
     "output_type": "stream",
     "text": [
      "[[4.53395861]\n",
      " [3.7472043 ]\n",
      " [3.4356679 ]\n",
      " ...\n",
      " [3.26879527]\n",
      " [4.72271776]\n",
      " [4.36518421]]\n",
      "[[4.47649681]\n",
      " [3.65722207]\n",
      " [3.42633057]\n",
      " ...\n",
      " [3.20575536]\n",
      " [4.69159149]\n",
      " [4.33780717]]\n"
     ]
    },
    {
     "name": "stderr",
     "output_type": "stream",
     "text": [
      "\n",
      " 31%|████████████████████████▍                                                       | 255/834 [02:24<07:54,  1.22it/s]"
     ]
    },
    {
     "name": "stdout",
     "output_type": "stream",
     "text": [
      "[[2.37805581]\n",
      " [5.39681613]\n",
      " [5.50209061]\n",
      " ...\n",
      " [5.49006753]\n",
      " [5.3806027 ]\n",
      " [6.064081  ]]\n",
      "[[2.27045458]\n",
      " [5.37069362]\n",
      " [5.41176536]\n",
      " ...\n",
      " [5.52598605]\n",
      " [5.41863214]\n",
      " [6.09609011]]\n"
     ]
    },
    {
     "name": "stderr",
     "output_type": "stream",
     "text": [
      "\n",
      " 31%|████████████████████████▌                                                       | 256/834 [02:25<07:55,  1.22it/s]"
     ]
    },
    {
     "name": "stdout",
     "output_type": "stream",
     "text": [
      "[[7.15602172]\n",
      " [5.0520148 ]\n",
      " [4.15863219]\n",
      " ...\n",
      " [2.63105625]\n",
      " [5.57455143]\n",
      " [4.11834037]]\n",
      "[[7.10766697]\n",
      " [4.99318183]\n",
      " [4.11188038]\n",
      " ...\n",
      " [2.77417975]\n",
      " [5.61119217]\n",
      " [4.10926907]]\n"
     ]
    },
    {
     "name": "stderr",
     "output_type": "stream",
     "text": [
      "\n",
      " 31%|████████████████████████▋                                                       | 257/834 [02:26<07:57,  1.21it/s]"
     ]
    },
    {
     "name": "stdout",
     "output_type": "stream",
     "text": [
      "[[1.37736802]\n",
      " [3.92481067]\n",
      " [2.82835726]\n",
      " ...\n",
      " [5.85785132]\n",
      " [6.64989192]\n",
      " [5.84089652]]\n",
      "[[1.48380511]\n",
      " [4.01800213]\n",
      " [2.84900511]\n",
      " ...\n",
      " [5.82457821]\n",
      " [6.7341205 ]\n",
      " [5.91197654]]\n"
     ]
    },
    {
     "name": "stderr",
     "output_type": "stream",
     "text": [
      "\n",
      " 31%|████████████████████████▋                                                       | 258/834 [02:27<07:56,  1.21it/s]"
     ]
    },
    {
     "name": "stdout",
     "output_type": "stream",
     "text": [
      "[[5.40587373]\n",
      " [4.88307923]\n",
      " [3.16268272]\n",
      " ...\n",
      " [4.87492416]\n",
      " [3.74942841]\n",
      " [5.69039849]]\n",
      "[[5.36647039]\n",
      " [4.94637165]\n",
      " [3.17777242]\n",
      " ...\n",
      " [4.84382127]\n",
      " [3.78085638]\n",
      " [5.61354557]]\n"
     ]
    },
    {
     "name": "stderr",
     "output_type": "stream",
     "text": [
      "\n",
      " 31%|████████████████████████▊                                                       | 259/834 [02:27<07:58,  1.20it/s]"
     ]
    },
    {
     "name": "stdout",
     "output_type": "stream",
     "text": [
      "[[2.95290735]\n",
      " [2.20892684]\n",
      " [0.94373127]\n",
      " ...\n",
      " [7.02689448]\n",
      " [7.38823158]\n",
      " [6.33941922]]\n",
      "[[2.78633363]\n",
      " [2.14646565]\n",
      " [0.85273821]\n",
      " ...\n",
      " [6.9221994 ]\n",
      " [7.25941318]\n",
      " [6.21978889]]\n"
     ]
    },
    {
     "name": "stderr",
     "output_type": "stream",
     "text": [
      "\n",
      " 31%|████████████████████████▉                                                       | 260/834 [02:28<07:59,  1.20it/s]"
     ]
    },
    {
     "name": "stdout",
     "output_type": "stream",
     "text": [
      "[[4.12382006]\n",
      " [2.98346468]\n",
      " [4.51145966]\n",
      " ...\n",
      " [4.69515815]\n",
      " [2.11358027]\n",
      " [3.96204032]]\n",
      "[[4.01539082]\n",
      " [2.80522534]\n",
      " [4.29734796]\n",
      " ...\n",
      " [4.63433607]\n",
      " [2.03662938]\n",
      " [3.80542205]]\n"
     ]
    },
    {
     "name": "stderr",
     "output_type": "stream",
     "text": [
      "\n",
      " 31%|█████████████████████████                                                       | 261/834 [02:29<08:00,  1.19it/s]"
     ]
    },
    {
     "name": "stdout",
     "output_type": "stream",
     "text": [
      "[[3.6637841 ]\n",
      " [2.32177619]\n",
      " [5.15135832]\n",
      " ...\n",
      " [3.36991164]\n",
      " [4.03182576]\n",
      " [4.67855792]]\n",
      "[[3.6167951 ]\n",
      " [2.22335426]\n",
      " [5.09663489]\n",
      " ...\n",
      " [3.34089878]\n",
      " [4.06065355]\n",
      " [4.65825697]]\n"
     ]
    },
    {
     "name": "stderr",
     "output_type": "stream",
     "text": [
      "\n",
      " 31%|█████████████████████████▏                                                      | 262/834 [02:30<08:04,  1.18it/s]"
     ]
    },
    {
     "name": "stdout",
     "output_type": "stream",
     "text": [
      "[[3.32775027]\n",
      " [7.20288918]\n",
      " [3.04116257]\n",
      " ...\n",
      " [2.69961682]\n",
      " [1.81438928]\n",
      " [4.86344905]]\n",
      "[[3.39583303]\n",
      " [7.12420528]\n",
      " [3.03705176]\n",
      " ...\n",
      " [2.54522256]\n",
      " [1.67455979]\n",
      " [4.81058347]]\n"
     ]
    },
    {
     "name": "stderr",
     "output_type": "stream",
     "text": [
      "\n",
      " 32%|█████████████████████████▏                                                      | 263/834 [02:31<08:01,  1.19it/s]"
     ]
    },
    {
     "name": "stdout",
     "output_type": "stream",
     "text": [
      "[[4.12859061]\n",
      " [2.55089163]\n",
      " [4.29852541]\n",
      " ...\n",
      " [4.45237572]\n",
      " [3.74952511]\n",
      " [1.31973459]]\n",
      "[[4.04511463]\n",
      " [2.42371599]\n",
      " [4.21230303]\n",
      " ...\n",
      " [4.3505091 ]\n",
      " [3.75696772]\n",
      " [1.29833753]]\n"
     ]
    },
    {
     "name": "stderr",
     "output_type": "stream",
     "text": [
      "\n",
      " 32%|█████████████████████████▎                                                      | 264/834 [02:32<08:00,  1.19it/s]"
     ]
    },
    {
     "name": "stdout",
     "output_type": "stream",
     "text": [
      "[[3.33800051]\n",
      " [4.54968854]\n",
      " [4.13826065]\n",
      " ...\n",
      " [4.52357944]\n",
      " [3.81985852]\n",
      " [6.38741485]]\n",
      "[[3.24328087]\n",
      " [4.57849915]\n",
      " [4.14566624]\n",
      " ...\n",
      " [4.37307599]\n",
      " [3.68710708]\n",
      " [6.30821886]]\n"
     ]
    },
    {
     "name": "stderr",
     "output_type": "stream",
     "text": [
      "\n",
      " 32%|█████████████████████████▍                                                      | 265/834 [02:32<08:04,  1.17it/s]"
     ]
    },
    {
     "name": "stdout",
     "output_type": "stream",
     "text": [
      "[[4.64152167]\n",
      " [0.95275664]\n",
      " [5.59508415]\n",
      " ...\n",
      " [6.94340982]\n",
      " [6.06066425]\n",
      " [4.56790045]]\n",
      "[[4.59494074]\n",
      " [0.86705207]\n",
      " [5.45064488]\n",
      " ...\n",
      " [6.94370242]\n",
      " [6.06078905]\n",
      " [4.5989383 ]]\n"
     ]
    },
    {
     "name": "stderr",
     "output_type": "stream",
     "text": [
      "\n",
      " 32%|█████████████████████████▌                                                      | 266/834 [02:33<08:10,  1.16it/s]"
     ]
    },
    {
     "name": "stdout",
     "output_type": "stream",
     "text": [
      "[[3.80744864]\n",
      " [4.97878037]\n",
      " [6.83272011]\n",
      " ...\n",
      " [3.69298762]\n",
      " [4.19692554]\n",
      " [4.01980268]]\n",
      "[[3.87915129]\n",
      " [5.00459423]\n",
      " [6.842635  ]\n",
      " ...\n",
      " [3.77386064]\n",
      " [4.35895557]\n",
      " [4.1631717 ]]\n"
     ]
    },
    {
     "name": "stderr",
     "output_type": "stream",
     "text": [
      "\n",
      " 32%|█████████████████████████▌                                                      | 267/834 [02:34<08:10,  1.16it/s]"
     ]
    },
    {
     "name": "stdout",
     "output_type": "stream",
     "text": [
      "[[2.71792542]\n",
      " [5.78384329]\n",
      " [2.86916482]\n",
      " ...\n",
      " [5.95867758]\n",
      " [2.33241323]\n",
      " [4.23773311]]\n",
      "[[2.73826616]\n",
      " [5.77680089]\n",
      " [2.95519843]\n",
      " ...\n",
      " [6.06404513]\n",
      " [2.46662531]\n",
      " [4.35505472]]\n"
     ]
    },
    {
     "name": "stderr",
     "output_type": "stream",
     "text": [
      "\n",
      " 32%|█████████████████████████▋                                                      | 268/834 [02:35<08:12,  1.15it/s]"
     ]
    },
    {
     "name": "stdout",
     "output_type": "stream",
     "text": [
      "[[5.29273428]\n",
      " [7.23641198]\n",
      " [3.28236556]\n",
      " ...\n",
      " [4.4801932 ]\n",
      " [0.50229402]\n",
      " [2.7624076 ]]\n",
      "[[5.3123421 ]\n",
      " [7.29645511]\n",
      " [3.3685271 ]\n",
      " ...\n",
      " [4.49845117]\n",
      " [0.62013808]\n",
      " [2.7323343 ]]\n"
     ]
    },
    {
     "name": "stderr",
     "output_type": "stream",
     "text": [
      "\n",
      " 32%|█████████████████████████▊                                                      | 269/834 [02:36<08:11,  1.15it/s]"
     ]
    },
    {
     "name": "stdout",
     "output_type": "stream",
     "text": [
      "[[5.89427513]\n",
      " [4.70643986]\n",
      " [5.87899647]\n",
      " ...\n",
      " [3.63129277]\n",
      " [2.45718896]\n",
      " [3.85905441]]\n",
      "[[5.93418881]\n",
      " [4.76019483]\n",
      " [5.9222606 ]\n",
      " ...\n",
      " [3.8282146 ]\n",
      " [2.68362206]\n",
      " [4.06229771]]\n"
     ]
    },
    {
     "name": "stderr",
     "output_type": "stream",
     "text": [
      "\n",
      " 32%|█████████████████████████▉                                                      | 270/834 [02:37<08:10,  1.15it/s]"
     ]
    },
    {
     "name": "stdout",
     "output_type": "stream",
     "text": [
      "[[3.15288375]\n",
      " [0.02733397]\n",
      " [1.32485971]\n",
      " ...\n",
      " [3.97154919]\n",
      " [2.35143097]\n",
      " [1.88243412]]\n",
      "[[3.4163689 ]\n",
      " [0.26628928]\n",
      " [1.55015176]\n",
      " ...\n",
      " [3.99733731]\n",
      " [2.34308772]\n",
      " [1.95068178]]\n"
     ]
    },
    {
     "name": "stderr",
     "output_type": "stream",
     "text": [
      "\n",
      " 32%|█████████████████████████▉                                                      | 271/834 [02:38<08:07,  1.16it/s]"
     ]
    },
    {
     "name": "stdout",
     "output_type": "stream",
     "text": [
      "[[6.26737744]\n",
      " [4.58653139]\n",
      " [5.27384547]\n",
      " ...\n",
      " [2.746033  ]\n",
      " [5.58496284]\n",
      " [3.71916119]]\n",
      "[[6.27710879]\n",
      " [4.60983488]\n",
      " [5.24012806]\n",
      " ...\n",
      " [2.86957321]\n",
      " [5.58943124]\n",
      " [3.73098356]]\n"
     ]
    },
    {
     "name": "stderr",
     "output_type": "stream",
     "text": [
      "\n",
      " 33%|██████████████████████████                                                      | 272/834 [02:39<08:08,  1.15it/s]"
     ]
    },
    {
     "name": "stdout",
     "output_type": "stream",
     "text": [
      "[[4.78795828]\n",
      " [5.27539268]\n",
      " [5.04015288]\n",
      " ...\n",
      " [4.27293205]\n",
      " [6.03839093]\n",
      " [2.96744465]]\n",
      "[[4.81590281]\n",
      " [5.29296681]\n",
      " [4.98447746]\n",
      " ...\n",
      " [4.34789779]\n",
      " [6.05263273]\n",
      " [3.02941125]]\n"
     ]
    },
    {
     "name": "stderr",
     "output_type": "stream",
     "text": [
      "\n",
      " 33%|██████████████████████████▏                                                     | 273/834 [02:39<08:04,  1.16it/s]"
     ]
    },
    {
     "name": "stdout",
     "output_type": "stream",
     "text": [
      "[[4.29626907]\n",
      " [3.81637731]\n",
      " [5.22066026]\n",
      " ...\n",
      " [0.65201845]\n",
      " [5.40023287]\n",
      " [6.72757456]]\n",
      "[[4.36856261]\n",
      " [3.96052104]\n",
      " [5.23970896]\n",
      " ...\n",
      " [0.65772806]\n",
      " [5.37972038]\n",
      " [6.77651402]]\n"
     ]
    },
    {
     "name": "stderr",
     "output_type": "stream",
     "text": [
      "\n",
      " 33%|██████████████████████████▎                                                     | 274/834 [02:40<08:07,  1.15it/s]"
     ]
    },
    {
     "name": "stdout",
     "output_type": "stream",
     "text": [
      "[[4.25114223]\n",
      " [6.46487185]\n",
      " [4.6743031 ]\n",
      " ...\n",
      " [6.91014488]\n",
      " [4.03166459]\n",
      " [5.05672088]]\n",
      "[[4.31127496]\n",
      " [6.48469192]\n",
      " [4.73050325]\n",
      " ...\n",
      " [6.77216183]\n",
      " [3.9264128 ]\n",
      " [4.89956148]]\n"
     ]
    },
    {
     "name": "stderr",
     "output_type": "stream",
     "text": [
      "\n",
      " 33%|██████████████████████████▍                                                     | 275/834 [02:41<08:03,  1.16it/s]"
     ]
    },
    {
     "name": "stdout",
     "output_type": "stream",
     "text": [
      "[[2.68240415]\n",
      " [0.40195126]\n",
      " [5.18990954]\n",
      " ...\n",
      " [2.95484136]\n",
      " [0.73679245]\n",
      " [2.69362139]]\n",
      "[[2.62320727]\n",
      " [0.36825937]\n",
      " [5.02306684]\n",
      " ...\n",
      " [2.89671795]\n",
      " [0.8399718 ]\n",
      " [2.69874187]]\n"
     ]
    },
    {
     "name": "stderr",
     "output_type": "stream",
     "text": [
      "\n",
      " 33%|██████████████████████████▍                                                     | 276/834 [02:42<08:04,  1.15it/s]"
     ]
    },
    {
     "name": "stdout",
     "output_type": "stream",
     "text": [
      "[[3.95004947]\n",
      " [2.78078067]\n",
      " [4.16520782]\n",
      " ...\n",
      " [5.22430264]\n",
      " [7.15047757]\n",
      " [3.17125682]]\n",
      "[[3.82054186]\n",
      " [2.80174359]\n",
      " [4.07125999]\n",
      " ...\n",
      " [5.25176612]\n",
      " [7.21843815]\n",
      " [3.28435261]]\n"
     ]
    },
    {
     "name": "stderr",
     "output_type": "stream",
     "text": [
      "\n",
      " 33%|██████████████████████████▌                                                     | 277/834 [02:43<08:01,  1.16it/s]"
     ]
    },
    {
     "name": "stdout",
     "output_type": "stream",
     "text": [
      "[[3.28761961]\n",
      " [6.73350552]\n",
      " [5.88882767]\n",
      " ...\n",
      " [5.85288737]\n",
      " [5.0037613 ]\n",
      " [2.03638113]]\n",
      "[[3.34199489]\n",
      " [6.82390448]\n",
      " [5.97558293]\n",
      " ...\n",
      " [5.89656658]\n",
      " [4.98205958]\n",
      " [2.10842432]]\n"
     ]
    },
    {
     "name": "stderr",
     "output_type": "stream",
     "text": [
      "\n",
      " 33%|██████████████████████████▋                                                     | 278/834 [02:44<08:11,  1.13it/s]"
     ]
    },
    {
     "name": "stdout",
     "output_type": "stream",
     "text": [
      "[[ 4.02122095]\n",
      " [ 3.79484535]\n",
      " [ 4.2948508 ]\n",
      " ...\n",
      " [ 1.3638622 ]\n",
      " [-0.03500554]\n",
      " [-0.05492582]]\n",
      "[[3.91922364]\n",
      " [3.80010271]\n",
      " [4.37220555]\n",
      " ...\n",
      " [1.4962169 ]\n",
      " [0.11212519]\n",
      " [0.10161547]]\n"
     ]
    },
    {
     "name": "stderr",
     "output_type": "stream",
     "text": [
      "\n",
      " 33%|██████████████████████████▊                                                     | 279/834 [02:45<08:10,  1.13it/s]"
     ]
    },
    {
     "name": "stdout",
     "output_type": "stream",
     "text": [
      "[[1.25207656]\n",
      " [1.72500589]\n",
      " [5.26011402]\n",
      " ...\n",
      " [5.18423645]\n",
      " [4.88227339]\n",
      " [4.49405359]]\n",
      "[[1.37648344]\n",
      " [1.74606458]\n",
      " [5.25618279]\n",
      " ...\n",
      " [5.20018467]\n",
      " [4.90559006]\n",
      " [4.69278431]]\n"
     ]
    },
    {
     "name": "stderr",
     "output_type": "stream",
     "text": [
      "\n",
      " 34%|██████████████████████████▊                                                     | 280/834 [02:46<08:04,  1.14it/s]"
     ]
    },
    {
     "name": "stdout",
     "output_type": "stream",
     "text": [
      "[[3.18476264]\n",
      " [5.00282653]\n",
      " [0.48417882]\n",
      " ...\n",
      " [4.82451103]\n",
      " [4.72010685]\n",
      " [3.09547595]]\n",
      "[[3.28554543]\n",
      " [5.07480948]\n",
      " [0.62374878]\n",
      " ...\n",
      " [4.82225377]\n",
      " [4.83795388]\n",
      " [3.21591046]]\n"
     ]
    },
    {
     "name": "stderr",
     "output_type": "stream",
     "text": [
      "\n",
      " 34%|██████████████████████████▉                                                     | 281/834 [02:46<08:03,  1.14it/s]"
     ]
    },
    {
     "name": "stdout",
     "output_type": "stream",
     "text": [
      "[[3.22386183]\n",
      " [3.82237273]\n",
      " [2.70148636]\n",
      " ...\n",
      " [4.80307578]\n",
      " [3.38025858]\n",
      " [3.65108412]]\n",
      "[[3.35127955]\n",
      " [3.93099066]\n",
      " [2.84104222]\n",
      " ...\n",
      " [4.97229134]\n",
      " [3.60731701]\n",
      " [3.76009484]]\n"
     ]
    },
    {
     "name": "stderr",
     "output_type": "stream",
     "text": [
      "\n",
      " 34%|███████████████████████████                                                     | 282/834 [02:47<08:06,  1.13it/s]"
     ]
    },
    {
     "name": "stdout",
     "output_type": "stream",
     "text": [
      "[[0.51870085]\n",
      " [3.80380626]\n",
      " [2.0202644 ]\n",
      " ...\n",
      " [6.51231951]\n",
      " [5.1026858 ]\n",
      " [5.25286149]]\n",
      "[[0.70473167]\n",
      " [3.98008976]\n",
      " [2.15184946]\n",
      " ...\n",
      " [6.54578371]\n",
      " [5.1612729 ]\n",
      " [5.31737129]]\n"
     ]
    },
    {
     "name": "stderr",
     "output_type": "stream",
     "text": [
      "\n",
      " 34%|███████████████████████████▏                                                    | 283/834 [02:48<08:06,  1.13it/s]"
     ]
    },
    {
     "name": "stdout",
     "output_type": "stream",
     "text": [
      "[[7.19392827]\n",
      " [2.76988576]\n",
      " [5.50818273]\n",
      " ...\n",
      " [5.16019029]\n",
      " [2.35143097]\n",
      " [5.80389251]]\n",
      "[[7.22991503]\n",
      " [2.94620391]\n",
      " [5.5667354 ]\n",
      " ...\n",
      " [5.2010551 ]\n",
      " [2.54141842]\n",
      " [5.90897837]]\n"
     ]
    },
    {
     "name": "stderr",
     "output_type": "stream",
     "text": [
      "\n",
      " 34%|███████████████████████████▏                                                    | 284/834 [02:49<08:05,  1.13it/s]"
     ]
    },
    {
     "name": "stdout",
     "output_type": "stream",
     "text": [
      "[[5.34524259]\n",
      " [4.16072737]\n",
      " [5.8871193 ]\n",
      " ...\n",
      " [6.12116646]\n",
      " [3.57946137]\n",
      " [6.13299614]]\n",
      "[[5.44574464]\n",
      " [4.31762592]\n",
      " [5.99154094]\n",
      " ...\n",
      " [6.22443123]\n",
      " [3.6042866 ]\n",
      " [6.23545676]]\n"
     ]
    },
    {
     "name": "stderr",
     "output_type": "stream",
     "text": [
      "\n",
      " 34%|███████████████████████████▎                                                    | 285/834 [02:50<08:08,  1.12it/s]"
     ]
    },
    {
     "name": "stdout",
     "output_type": "stream",
     "text": [
      "[[4.3704705 ]\n",
      " [5.15902989]\n",
      " [6.59055012]\n",
      " ...\n",
      " [5.98143441]\n",
      " [3.84145494]\n",
      " [3.75809921]]\n",
      "[[4.49216468]\n",
      " [5.18883674]\n",
      " [6.69211385]\n",
      " ...\n",
      " [5.99876235]\n",
      " [3.87670117]\n",
      " [3.85023344]]\n"
     ]
    },
    {
     "name": "stderr",
     "output_type": "stream",
     "text": [
      "\n",
      " 34%|███████████████████████████▍                                                    | 286/834 [02:51<08:14,  1.11it/s]"
     ]
    },
    {
     "name": "stdout",
     "output_type": "stream",
     "text": [
      "[[4.37053497]\n",
      " [6.74124155]\n",
      " [3.87143206]\n",
      " ...\n",
      " [4.76462126]\n",
      " [4.15785859]\n",
      " [2.6862077 ]]\n",
      "[[4.36269522]\n",
      " [6.77503105]\n",
      " [3.94375707]\n",
      " ...\n",
      " [4.82754087]\n",
      " [4.17261755]\n",
      " [2.56927241]]\n"
     ]
    },
    {
     "name": "stderr",
     "output_type": "stream",
     "text": [
      "\n",
      " 34%|███████████████████████████▌                                                    | 287/834 [02:52<08:17,  1.10it/s]"
     ]
    },
    {
     "name": "stdout",
     "output_type": "stream",
     "text": [
      "[[5.74999816]\n",
      " [3.02079102]\n",
      " [0.92355312]\n",
      " ...\n",
      " [5.31771521]\n",
      " [6.05808558]\n",
      " [2.41322252]]\n",
      "[[5.62166965]\n",
      " [2.97525072]\n",
      " [1.0096748 ]\n",
      " ...\n",
      " [5.24986406]\n",
      " [6.08313027]\n",
      " [2.45782422]]\n"
     ]
    },
    {
     "name": "stderr",
     "output_type": "stream",
     "text": [
      "\n",
      " 35%|███████████████████████████▋                                                    | 288/834 [02:53<08:16,  1.10it/s]"
     ]
    },
    {
     "name": "stdout",
     "output_type": "stream",
     "text": [
      "[[4.34194389]\n",
      " [5.40751764]\n",
      " [7.33781844]\n",
      " ...\n",
      " [0.41078323]\n",
      " [2.85633591]\n",
      " [5.896467  ]]\n",
      "[[4.38039411]\n",
      " [5.34380679]\n",
      " [7.31973124]\n",
      " ...\n",
      " [0.47287301]\n",
      " [2.80026063]\n",
      " [5.939218  ]]\n"
     ]
    },
    {
     "name": "stderr",
     "output_type": "stream",
     "text": [
      "\n",
      " 35%|███████████████████████████▋                                                    | 289/834 [02:54<08:14,  1.10it/s]"
     ]
    },
    {
     "name": "stdout",
     "output_type": "stream",
     "text": [
      "[[4.70034774]\n",
      " [5.89259899]\n",
      " [5.04543917]\n",
      " ...\n",
      " [4.11350535]\n",
      " [3.30625055]\n",
      " [0.19378757]]\n",
      "[[4.7506845 ]\n",
      " [5.93789623]\n",
      " [5.02432413]\n",
      " ...\n",
      " [4.14083048]\n",
      " [3.39709033]\n",
      " [0.26045412]]\n"
     ]
    },
    {
     "name": "stderr",
     "output_type": "stream",
     "text": [
      "\n",
      " 35%|███████████████████████████▊                                                    | 290/834 [02:55<08:15,  1.10it/s]"
     ]
    },
    {
     "name": "stdout",
     "output_type": "stream",
     "text": [
      "[[1.51503713]\n",
      " [0.12803131]\n",
      " [0.11188234]\n",
      " ...\n",
      " [2.33557211]\n",
      " [2.00111772]\n",
      " [6.39866433]]\n",
      "[[1.56943033]\n",
      " [0.2004262 ]\n",
      " [0.18424252]\n",
      " ...\n",
      " [2.27722465]\n",
      " [2.0229603 ]\n",
      " [6.3628952 ]]\n"
     ]
    },
    {
     "name": "stderr",
     "output_type": "stream",
     "text": [
      "\n",
      " 35%|███████████████████████████▉                                                    | 291/834 [02:56<08:14,  1.10it/s]"
     ]
    },
    {
     "name": "stdout",
     "output_type": "stream",
     "text": [
      "[[5.26749548]\n",
      " [5.32706292]\n",
      " [5.10184773]\n",
      " ...\n",
      " [5.52890885]\n",
      " [3.59171008]\n",
      " [4.70618199]]\n",
      "[[5.23606602]\n",
      " [5.24702708]\n",
      " [5.04473105]\n",
      " ...\n",
      " [5.56231874]\n",
      " [3.6366862 ]\n",
      " [4.76316076]]\n"
     ]
    },
    {
     "name": "stderr",
     "output_type": "stream",
     "text": [
      "\n",
      " 35%|████████████████████████████                                                    | 292/834 [02:56<08:10,  1.10it/s]"
     ]
    },
    {
     "name": "stdout",
     "output_type": "stream",
     "text": [
      "[[5.17940143]\n",
      " [4.92037334]\n",
      " [4.81825774]\n",
      " ...\n",
      " [5.84940615]\n",
      " [2.30798027]\n",
      " [2.8202989 ]]\n",
      "[[5.23342247]\n",
      " [4.85974704]\n",
      " [4.86690397]\n",
      " ...\n",
      " [5.92944976]\n",
      " [2.4079514 ]\n",
      " [2.84104222]]\n"
     ]
    },
    {
     "name": "stderr",
     "output_type": "stream",
     "text": [
      "\n",
      " 35%|████████████████████████████                                                    | 293/834 [02:57<08:08,  1.11it/s]"
     ]
    },
    {
     "name": "stdout",
     "output_type": "stream",
     "text": [
      "[[3.51480104]\n",
      " [4.90619062]\n",
      " [3.46551608]\n",
      " ...\n",
      " [5.37247986]\n",
      " [6.72370655]\n",
      " [4.54594946]]\n",
      "[[3.72311738]\n",
      " [5.00185396]\n",
      " [3.62234011]\n",
      " ...\n",
      " [5.30550755]\n",
      " [6.72548061]\n",
      " [4.55776985]]\n"
     ]
    },
    {
     "name": "stderr",
     "output_type": "stream",
     "text": [
      "\n",
      " 35%|████████████████████████████▏                                                   | 294/834 [02:58<08:07,  1.11it/s]"
     ]
    },
    {
     "name": "stdout",
     "output_type": "stream",
     "text": [
      "[[6.48363173]\n",
      " [5.00579201]\n",
      " [5.21331103]\n",
      " ...\n",
      " [3.85280112]\n",
      " [4.87769624]\n",
      " [2.53654774]]\n",
      "[[6.46509096]\n",
      " [5.00240201]\n",
      " [5.23161712]\n",
      " ...\n",
      " [3.89836539]\n",
      " [4.86100434]\n",
      " [2.65189946]]\n"
     ]
    },
    {
     "name": "stderr",
     "output_type": "stream",
     "text": [
      "\n",
      " 35%|████████████████████████████▎                                                   | 295/834 [02:59<08:10,  1.10it/s]"
     ]
    },
    {
     "name": "stdout",
     "output_type": "stream",
     "text": [
      "[[0.17760637]\n",
      " [5.00411587]\n",
      " [1.81158497]\n",
      " ...\n",
      " [2.64681841]\n",
      " [3.87256023]\n",
      " [2.65819682]]\n",
      "[[0.28663171]\n",
      " [4.99282721]\n",
      " [1.93137097]\n",
      " ...\n",
      " [2.75706116]\n",
      " [3.84974986]\n",
      " [2.78488291]]\n"
     ]
    },
    {
     "name": "stderr",
     "output_type": "stream",
     "text": [
      "\n",
      " 35%|████████████████████████████▍                                                   | 296/834 [03:00<08:09,  1.10it/s]"
     ]
    },
    {
     "name": "stdout",
     "output_type": "stream",
     "text": [
      "[[4.01715953]\n",
      " [6.01708462]\n",
      " [3.39721338]\n",
      " ...\n",
      " [2.99377938]\n",
      " [1.08968438]\n",
      " [3.19362684]]\n",
      "[[4.03276732]\n",
      " [6.10853414]\n",
      " [3.42168824]\n",
      " ...\n",
      " [3.50508901]\n",
      " [1.58326061]\n",
      " [3.79020552]]\n"
     ]
    },
    {
     "name": "stderr",
     "output_type": "stream",
     "text": [
      "\n",
      " 36%|████████████████████████████▍                                                   | 297/834 [03:01<08:10,  1.09it/s]"
     ]
    },
    {
     "name": "stdout",
     "output_type": "stream",
     "text": [
      "[[2.04002351]\n",
      " [0.86962654]\n",
      " [2.25305445]\n",
      " ...\n",
      " [1.81409918]\n",
      " [1.53947009]\n",
      " [1.99457433]]\n",
      "[[2.55982656]\n",
      " [1.36229854]\n",
      " [2.82814685]\n",
      " ...\n",
      " [1.80241733]\n",
      " [1.56939809]\n",
      " [2.00110265]]\n"
     ]
    },
    {
     "name": "stderr",
     "output_type": "stream",
     "text": [
      "\n",
      " 36%|████████████████████████████▌                                                   | 298/834 [03:02<08:09,  1.10it/s]"
     ]
    },
    {
     "name": "stdout",
     "output_type": "stream",
     "text": [
      "[[1.52780158]\n",
      " [2.32931882]\n",
      " [3.23282273]\n",
      " ...\n",
      " [6.19146764]\n",
      " [2.17124593]\n",
      " [3.27105161]]\n",
      "[[1.54963595]\n",
      " [2.40043985]\n",
      " [3.21813491]\n",
      " ...\n",
      " [6.46841152]\n",
      " [2.45540634]\n",
      " [3.58736143]]\n"
     ]
    },
    {
     "name": "stderr",
     "output_type": "stream",
     "text": [
      "\n",
      " 36%|████████████████████████████▋                                                   | 299/834 [03:03<08:12,  1.09it/s]"
     ]
    },
    {
     "name": "stdout",
     "output_type": "stream",
     "text": [
      "[[3.0900285 ]\n",
      " [3.14485761]\n",
      " [2.95542156]\n",
      " ...\n",
      " [1.20130885]\n",
      " [3.22682731]\n",
      " [2.27851889]]\n",
      "[[3.35953258]\n",
      " [3.44419065]\n",
      " [3.22235814]\n",
      " ...\n",
      " [1.073797  ]\n",
      " [3.29302474]\n",
      " [2.24401908]]\n"
     ]
    },
    {
     "name": "stderr",
     "output_type": "stream",
     "text": [
      "\n",
      " 36%|████████████████████████████▊                                                   | 300/834 [03:04<08:12,  1.08it/s]"
     ]
    },
    {
     "name": "stdout",
     "output_type": "stream",
     "text": [
      "[[ 2.83599659]\n",
      " [ 1.10599451]\n",
      " [ 2.14668403]\n",
      " ...\n",
      " [ 2.82448925]\n",
      " [ 3.72709062]\n",
      " [-0.02598017]]\n",
      "[[2.82946863]\n",
      " [1.10539064]\n",
      " [2.23918332]\n",
      " ...\n",
      " [2.87505374]\n",
      " [3.77086247]\n",
      " [0.01998781]]\n"
     ]
    },
    {
     "name": "stderr",
     "output_type": "stream",
     "text": [
      "\n",
      " 36%|████████████████████████████▊                                                   | 301/834 [03:05<08:12,  1.08it/s]"
     ]
    },
    {
     "name": "stdout",
     "output_type": "stream",
     "text": [
      "[[1.81397025]\n",
      " [3.34944339]\n",
      " [2.6793742 ]\n",
      " ...\n",
      " [2.20193218]\n",
      " [3.90111907]\n",
      " [2.35439645]]\n",
      "[[1.8248875 ]\n",
      " [3.2788076 ]\n",
      " [2.47094526]\n",
      " ...\n",
      " [2.53925845]\n",
      " [4.19479758]\n",
      " [2.65576807]]\n"
     ]
    },
    {
     "name": "stderr",
     "output_type": "stream",
     "text": [
      "\n",
      " 36%|████████████████████████████▉                                                   | 302/834 [03:06<08:12,  1.08it/s]"
     ]
    },
    {
     "name": "stdout",
     "output_type": "stream",
     "text": [
      "[[3.83352551]\n",
      " [3.39399003]\n",
      " [2.03473722]\n",
      " ...\n",
      " [2.57406749]\n",
      " [1.8025596 ]\n",
      " [1.60213194]]\n",
      "[[4.21455972]\n",
      " [3.71238199]\n",
      " [2.34557008]\n",
      " ...\n",
      " [2.663602  ]\n",
      " [1.85064599]\n",
      " [1.69583714]]\n"
     ]
    },
    {
     "name": "stderr",
     "output_type": "stream",
     "text": [
      "\n",
      " 36%|█████████████████████████████                                                   | 303/834 [03:07<08:14,  1.07it/s]"
     ]
    },
    {
     "name": "stdout",
     "output_type": "stream",
     "text": [
      "[[1.96927106]\n",
      " [1.3800434 ]\n",
      " [2.18591215]\n",
      " ...\n",
      " [4.86883204]\n",
      " [6.33690501]\n",
      " [2.35523452]]\n",
      "[[2.08327836]\n",
      " [1.4795174 ]\n",
      " [2.30978544]\n",
      " ...\n",
      " [4.90565454]\n",
      " [6.32127541]\n",
      " [2.39331516]]\n"
     ]
    },
    {
     "name": "stderr",
     "output_type": "stream",
     "text": [
      "\n",
      " 36%|█████████████████████████████▏                                                  | 304/834 [03:07<08:13,  1.07it/s]"
     ]
    },
    {
     "name": "stdout",
     "output_type": "stream",
     "text": [
      "[[3.61717452]\n",
      " [3.02688315]\n",
      " [3.17264286]\n",
      " ...\n",
      " [1.11827546]\n",
      " [1.06354304]\n",
      " [3.65108412]]\n",
      "[[3.70674027]\n",
      " [3.04008217]\n",
      " [3.217877  ]\n",
      " ...\n",
      " [1.15693986]\n",
      " [1.10203785]\n",
      " [3.67817704]]\n"
     ]
    },
    {
     "name": "stderr",
     "output_type": "stream",
     "text": [
      "\n",
      " 37%|█████████████████████████████▎                                                  | 305/834 [03:08<08:13,  1.07it/s]"
     ]
    },
    {
     "name": "stdout",
     "output_type": "stream",
     "text": [
      "[[2.6183885 ]\n",
      " [2.85117855]\n",
      " [1.15618201]\n",
      " ...\n",
      " [0.35792035]\n",
      " [2.25679353]\n",
      " [3.03023543]]\n",
      "[[2.62114402]\n",
      " [2.88788463]\n",
      " [1.19246659]\n",
      " ...\n",
      " [0.60495378]\n",
      " [2.51011493]\n",
      " [3.26391346]]\n"
     ]
    },
    {
     "name": "stderr",
     "output_type": "stream",
     "text": [
      "\n",
      " 37%|█████████████████████████████▎                                                  | 306/834 [03:09<08:11,  1.07it/s]"
     ]
    },
    {
     "name": "stdout",
     "output_type": "stream",
     "text": [
      "[[-0.11533132]\n",
      " [ 1.0367248 ]\n",
      " [ 2.92957033]\n",
      " ...\n",
      " [ 1.73822161]\n",
      " [ 1.36685991]\n",
      " [ 3.57688269]]\n",
      "[[0.12070061]\n",
      " [1.2526557 ]\n",
      " [2.99162784]\n",
      " ...\n",
      " [1.84780901]\n",
      " [1.45840124]\n",
      " [3.65860832]]\n"
     ]
    },
    {
     "name": "stderr",
     "output_type": "stream",
     "text": [
      "\n",
      " 37%|█████████████████████████████▍                                                  | 307/834 [03:10<08:20,  1.05it/s]"
     ]
    },
    {
     "name": "stdout",
     "output_type": "stream",
     "text": [
      "[[1.4479593 ]\n",
      " [3.78943013]\n",
      " [2.80160349]\n",
      " ...\n",
      " [4.23405849]\n",
      " [3.32929748]\n",
      " [2.86181559]]\n",
      "[[1.5571475 ]\n",
      " [3.96748454]\n",
      " [2.88859387]\n",
      " ...\n",
      " [4.3124033 ]\n",
      " [3.42159152]\n",
      " [2.98911324]]\n"
     ]
    },
    {
     "name": "stderr",
     "output_type": "stream",
     "text": [
      "\n",
      " 37%|█████████████████████████████▌                                                  | 308/834 [03:11<08:17,  1.06it/s]"
     ]
    },
    {
     "name": "stdout",
     "output_type": "stream",
     "text": [
      "[[2.50408864]\n",
      " [2.81320753]\n",
      " [2.37131902]\n",
      " ...\n",
      " [0.88406713]\n",
      " [4.30097516]\n",
      " [5.58312553]]\n",
      "[[2.61227845]\n",
      " [2.95481157]\n",
      " [2.49944401]\n",
      " ...\n",
      " [0.90796261]\n",
      " [4.29157729]\n",
      " [5.56531691]]\n"
     ]
    },
    {
     "name": "stderr",
     "output_type": "stream",
     "text": [
      "\n",
      " 37%|█████████████████████████████▋                                                  | 309/834 [03:12<08:15,  1.06it/s]"
     ]
    },
    {
     "name": "stdout",
     "output_type": "stream",
     "text": [
      "[[0.70127118]\n",
      " [2.28864019]\n",
      " [2.07686635]\n",
      " ...\n",
      " [1.6919666 ]\n",
      " [2.22043419]\n",
      " [1.63220576]]\n",
      "[[0.72887824]\n",
      " [2.26519972]\n",
      " [2.04939579]\n",
      " ...\n",
      " [1.78707184]\n",
      " [2.35127628]\n",
      " [1.68642352]]\n"
     ]
    },
    {
     "name": "stderr",
     "output_type": "stream",
     "text": [
      "\n",
      " 37%|█████████████████████████████▋                                                  | 310/834 [03:13<08:15,  1.06it/s]"
     ]
    },
    {
     "name": "stdout",
     "output_type": "stream",
     "text": [
      "[[4.72233096]\n",
      " [2.6117484 ]\n",
      " [3.52511575]\n",
      " ...\n",
      " [3.40017886]\n",
      " [0.37758276]\n",
      " [2.31681224]]\n",
      "[[4.81454879]\n",
      " [2.68858677]\n",
      " [3.62485471]\n",
      " ...\n",
      " [3.46595158]\n",
      " [0.51378356]\n",
      " [2.46778589]]\n"
     ]
    },
    {
     "name": "stderr",
     "output_type": "stream",
     "text": [
      "\n",
      " 37%|█████████████████████████████▊                                                  | 311/834 [03:14<08:19,  1.05it/s]"
     ]
    },
    {
     "name": "stdout",
     "output_type": "stream",
     "text": [
      "[[ 3.24687652]\n",
      " [-0.04886593]\n",
      " [ 1.21591061]\n",
      " ...\n",
      " [ 2.28129096]\n",
      " [ 2.10297546]\n",
      " [ 2.07609275]]\n",
      "[[3.37816638]\n",
      " [0.07366477]\n",
      " [1.3260948 ]\n",
      " ...\n",
      " [2.34527993]\n",
      " [2.13189389]\n",
      " [2.10874671]]\n"
     ]
    },
    {
     "name": "stderr",
     "output_type": "stream",
     "text": [
      "\n",
      " 37%|█████████████████████████████▉                                                  | 312/834 [03:15<08:17,  1.05it/s]"
     ]
    },
    {
     "name": "stdout",
     "output_type": "stream",
     "text": [
      "[[4.14480404]\n",
      " [2.36680633]\n",
      " [4.41063339]\n",
      " ...\n",
      " [0.92423002]\n",
      " [3.59744764]\n",
      " [2.39939436]]\n",
      "[[4.21201289]\n",
      " [2.40353474]\n",
      " [4.53913605]\n",
      " ...\n",
      " [1.23179745]\n",
      " [3.87076931]\n",
      " [2.73075461]]\n"
     ]
    },
    {
     "name": "stderr",
     "output_type": "stream",
     "text": [
      "\n",
      " 38%|██████████████████████████████                                                  | 313/834 [03:16<08:17,  1.05it/s]"
     ]
    },
    {
     "name": "stdout",
     "output_type": "stream",
     "text": [
      "[[1.88933208]\n",
      " [1.31770388]\n",
      " [1.84858898]\n",
      " ...\n",
      " [3.25306534]\n",
      " [0.71448689]\n",
      " [3.67319627]]\n",
      "[[2.20916936]\n",
      " [1.63568026]\n",
      " [2.17812377]\n",
      " ...\n",
      " [3.33416095]\n",
      " [0.9049322 ]\n",
      " [3.95239696]]\n"
     ]
    },
    {
     "name": "stderr",
     "output_type": "stream",
     "text": [
      "\n",
      " 38%|██████████████████████████████                                                  | 314/834 [03:17<08:16,  1.05it/s]"
     ]
    },
    {
     "name": "stdout",
     "output_type": "stream",
     "text": [
      "[[4.98006971]\n",
      " [0.70120671]\n",
      " [2.07299834]\n",
      " ...\n",
      " [2.71708735]\n",
      " [1.11392394]\n",
      " [2.07435214]]\n",
      "[[5.2420946 ]\n",
      " [0.91644131]\n",
      " [2.21864745]\n",
      " ...\n",
      " [2.82166693]\n",
      " [1.30800905]\n",
      " [2.28705736]]\n"
     ]
    },
    {
     "name": "stderr",
     "output_type": "stream",
     "text": [
      "\n",
      " 38%|██████████████████████████████▏                                                 | 315/834 [03:18<08:15,  1.05it/s]"
     ]
    },
    {
     "name": "stdout",
     "output_type": "stream",
     "text": [
      "[[1.50897724]\n",
      " [4.37630475]\n",
      " [2.35604036]\n",
      " ...\n",
      " [4.52338604]\n",
      " [4.13197512]\n",
      " [1.80362331]]\n",
      "[[1.71917775]\n",
      " [4.57440487]\n",
      " [2.5346806 ]\n",
      " ...\n",
      " [4.93921473]\n",
      " [4.50231978]\n",
      " [2.23773259]]\n"
     ]
    },
    {
     "name": "stderr",
     "output_type": "stream",
     "text": [
      "\n",
      " 38%|██████████████████████████████▎                                                 | 316/834 [03:19<08:22,  1.03it/s]"
     ]
    },
    {
     "name": "stdout",
     "output_type": "stream",
     "text": [
      "[[ 3.03735902]\n",
      " [ 3.64850544]\n",
      " [-0.25393521]\n",
      " ...\n",
      " [ 1.70263587]\n",
      " [ 1.42046416]\n",
      " [ 1.68622904]]\n",
      "[[3.46946557]\n",
      " [4.07474173]\n",
      " [0.11389831]\n",
      " ...\n",
      " [1.78055968]\n",
      " [1.49583004]\n",
      " [1.76785775]]\n"
     ]
    },
    {
     "name": "stderr",
     "output_type": "stream",
     "text": [
      "\n",
      " 38%|██████████████████████████████▍                                                 | 317/834 [03:20<08:18,  1.04it/s]"
     ]
    },
    {
     "name": "stdout",
     "output_type": "stream",
     "text": [
      "[[1.40573346]\n",
      " [3.54970988]\n",
      " [1.50033867]\n",
      " ...\n",
      " [4.57663571]\n",
      " [2.30324195]\n",
      " [4.715433  ]]\n",
      "[[1.46681547]\n",
      " [3.61189487]\n",
      " [1.56710916]\n",
      " ...\n",
      " [4.56341157]\n",
      " [2.34060536]\n",
      " [4.70803308]]\n"
     ]
    },
    {
     "name": "stderr",
     "output_type": "stream",
     "text": [
      "\n",
      " 38%|██████████████████████████████▌                                                 | 318/834 [03:21<08:16,  1.04it/s]"
     ]
    },
    {
     "name": "stdout",
     "output_type": "stream",
     "text": [
      "[[3.58468319]\n",
      " [3.27259882]\n",
      " [3.14663045]\n",
      " ...\n",
      " [2.18919996]\n",
      " [3.6557902 ]\n",
      " [0.86295422]]\n",
      "[[3.59119781]\n",
      " [3.27558376]\n",
      " [3.15633388]\n",
      " ...\n",
      " [2.34008955]\n",
      " [3.60854207]\n",
      " [0.92588717]]\n"
     ]
    },
    {
     "name": "stderr",
     "output_type": "stream",
     "text": [
      "\n",
      " 38%|██████████████████████████████▌                                                 | 319/834 [03:22<08:18,  1.03it/s]"
     ]
    },
    {
     "name": "stdout",
     "output_type": "stream",
     "text": [
      "[[4.18796464]\n",
      " [5.48732769]\n",
      " [1.00220277]\n",
      " ...\n",
      " [3.14469645]\n",
      " [3.01427986]\n",
      " [1.6089332 ]]\n",
      "[[4.27452317]\n",
      " [5.55719283]\n",
      " [1.07141135]\n",
      " ...\n",
      " [3.06397083]\n",
      " [2.91809202]\n",
      " [1.59286765]]\n"
     ]
    },
    {
     "name": "stderr",
     "output_type": "stream",
     "text": [
      "\n",
      " 38%|██████████████████████████████▋                                                 | 320/834 [03:23<08:19,  1.03it/s]"
     ]
    },
    {
     "name": "stdout",
     "output_type": "stream",
     "text": [
      "[[1.32689042]\n",
      " [0.99079212]\n",
      " [4.6982848 ]\n",
      " ...\n",
      " [1.51287749]\n",
      " [4.2194245 ]\n",
      " [3.44053515]]\n",
      "[[1.24172688]\n",
      " [0.98646314]\n",
      " [4.68665902]\n",
      " ...\n",
      " [1.53490299]\n",
      " [4.24450921]\n",
      " [3.42894188]]\n"
     ]
    },
    {
     "name": "stderr",
     "output_type": "stream",
     "text": [
      "\n",
      " 38%|██████████████████████████████▊                                                 | 321/834 [03:24<08:23,  1.02it/s]"
     ]
    },
    {
     "name": "stdout",
     "output_type": "stream",
     "text": [
      "[[0.54268255]\n",
      " [2.34079393]\n",
      " [3.31672643]\n",
      " ...\n",
      " [3.16506799]\n",
      " [2.6362136 ]\n",
      " [2.37141572]]\n",
      "[[0.55824033]\n",
      " [2.37255363]\n",
      " [3.35869438]\n",
      " ...\n",
      " [3.16648898]\n",
      " [2.67569141]\n",
      " [2.41897694]]\n"
     ]
    },
    {
     "name": "stderr",
     "output_type": "stream",
     "text": [
      "\n",
      " 39%|██████████████████████████████▉                                                 | 322/834 [03:25<08:21,  1.02it/s]"
     ]
    },
    {
     "name": "stdout",
     "output_type": "stream",
     "text": [
      "[[2.57203678]\n",
      " [2.53142262]\n",
      " [4.27728356]\n",
      " ...\n",
      " [1.63146439]\n",
      " [3.10485589]\n",
      " [0.93747798]]\n",
      "[[2.58023347]\n",
      " [2.55341111]\n",
      " [4.27971355]\n",
      " ...\n",
      " [1.66488826]\n",
      " [3.105236  ]\n",
      " [0.95577217]]\n"
     ]
    },
    {
     "name": "stderr",
     "output_type": "stream",
     "text": [
      "\n",
      " 39%|██████████████████████████████▉                                                 | 323/834 [03:26<08:22,  1.02it/s]"
     ]
    },
    {
     "name": "stdout",
     "output_type": "stream",
     "text": [
      "[[3.24142906]\n",
      " [2.60694562]\n",
      " [1.83021591]\n",
      " ...\n",
      " [1.7175922 ]\n",
      " [2.58744437]\n",
      " [3.91971778]]\n",
      "[[3.26871698]\n",
      " [2.61924195]\n",
      " [1.82659614]\n",
      " ...\n",
      " [1.70389674]\n",
      " [2.70841339]\n",
      " [3.80348774]]\n"
     ]
    },
    {
     "name": "stderr",
     "output_type": "stream",
     "text": [
      "\n",
      " 39%|███████████████████████████████                                                 | 324/834 [03:27<08:23,  1.01it/s]"
     ]
    },
    {
     "name": "stdout",
     "output_type": "stream",
     "text": [
      "[[0.94979116]\n",
      " [4.12813934]\n",
      " [5.29840737]\n",
      " ...\n",
      " [2.48800415]\n",
      " [2.93379291]\n",
      " [2.99597126]]\n",
      "[[0.97553432]\n",
      " [4.20853114]\n",
      " [5.37569058]\n",
      " ...\n",
      " [2.46623845]\n",
      " [2.83021011]\n",
      " [2.891721  ]]\n"
     ]
    },
    {
     "name": "stderr",
     "output_type": "stream",
     "text": [
      "\n",
      " 39%|███████████████████████████████▏                                                | 325/834 [03:28<08:19,  1.02it/s]"
     ]
    },
    {
     "name": "stdout",
     "output_type": "stream",
     "text": [
      "[[1.48651052]\n",
      " [2.37422003]\n",
      " [1.77973831]\n",
      " ...\n",
      " [3.01163672]\n",
      " [1.46771841]\n",
      " [4.02873135]]\n",
      "[[1.47706728]\n",
      " [2.38757673]\n",
      " [1.74361446]\n",
      " ...\n",
      " [3.07657605]\n",
      " [1.56955928]\n",
      " [4.14579519]]\n"
     ]
    },
    {
     "name": "stderr",
     "output_type": "stream",
     "text": [
      "\n",
      " 39%|███████████████████████████████▎                                                | 326/834 [03:29<08:16,  1.02it/s]"
     ]
    },
    {
     "name": "stdout",
     "output_type": "stream",
     "text": [
      "[[3.43321816]\n",
      " [0.40710861]\n",
      " [2.45612525]\n",
      " ...\n",
      " [4.01145421]\n",
      " [4.05700009]\n",
      " [1.86473795]]\n",
      "[[3.50389619]\n",
      " [0.54756941]\n",
      " [2.55937522]\n",
      " ...\n",
      " [4.21962115]\n",
      " [4.26736624]\n",
      " [1.67733229]]\n"
     ]
    },
    {
     "name": "stderr",
     "output_type": "stream",
     "text": [
      "\n",
      " 39%|███████████████████████████████▎                                                | 327/834 [03:30<08:18,  1.02it/s]"
     ]
    },
    {
     "name": "stdout",
     "output_type": "stream",
     "text": [
      "[[2.51266275]\n",
      " [4.85055567]\n",
      " [3.96265275]\n",
      " ...\n",
      " [4.08123965]\n",
      " [4.13010558]\n",
      " [1.82070704]]\n",
      "[[2.87473136]\n",
      " [5.10795057]\n",
      " [4.19096121]\n",
      " ...\n",
      " [4.01987196]\n",
      " [4.07184028]\n",
      " [1.2721277 ]]\n"
     ]
    },
    {
     "name": "stderr",
     "output_type": "stream",
     "text": [
      "\n",
      " 39%|███████████████████████████████▍                                                | 328/834 [03:31<08:19,  1.01it/s]"
     ]
    },
    {
     "name": "stdout",
     "output_type": "stream",
     "text": [
      "[[3.07868232]\n",
      " [4.96250247]\n",
      " [4.01496766]\n",
      " ...\n",
      " [3.96658523]\n",
      " [4.03878819]\n",
      " [1.63897479]]\n",
      "[[3.52739799]\n",
      " [4.95694585]\n",
      " [3.98008976]\n",
      " ...\n",
      " [4.04804833]\n",
      " [4.12042356]\n",
      " [1.17415517]]\n"
     ]
    },
    {
     "name": "stderr",
     "output_type": "stream",
     "text": [
      "\n",
      " 39%|███████████████████████████████▌                                                | 329/834 [03:32<08:23,  1.00it/s]"
     ]
    },
    {
     "name": "stdout",
     "output_type": "stream",
     "text": [
      "[[3.09260717]\n",
      " [4.87537543]\n",
      " [3.92468173]\n",
      " ...\n",
      " [3.88609828]\n",
      " [3.94163653]\n",
      " [1.74286323]]\n",
      "[[3.67933762]\n",
      " [5.00665748]\n",
      " [4.03412134]\n",
      " ...\n",
      " [4.03347657]\n",
      " [4.09314987]\n",
      " [1.34895184]]\n"
     ]
    },
    {
     "name": "stderr",
     "output_type": "stream",
     "text": [
      "\n",
      " 40%|███████████████████████████████▋                                                | 330/834 [03:33<08:23,  1.00it/s]"
     ]
    },
    {
     "name": "stdout",
     "output_type": "stream",
     "text": [
      "[[4.83121559]\n",
      " [3.90215054]\n",
      " [2.00098879]\n",
      " ...\n",
      " [3.84106814]\n",
      " [3.90572846]\n",
      " [1.74163836]]\n",
      "[[5.03051391]\n",
      " [4.08173747]\n",
      " [1.60144307]\n",
      " ...\n",
      " [4.02815723]\n",
      " [4.09647042]\n",
      " [1.44598945]]\n"
     ]
    },
    {
     "name": "stderr",
     "output_type": "stream",
     "text": [
      "\n",
      " 40%|███████████████████████████████▊                                                | 331/834 [03:34<08:20,  1.00it/s]"
     ]
    },
    {
     "name": "stdout",
     "output_type": "stream",
     "text": [
      "[[2.79625273]\n",
      " [4.84700998]\n",
      " [3.96233042]\n",
      " ...\n",
      " [3.89670309]\n",
      " [3.96861594]\n",
      " [1.81374461]]\n",
      "[[3.32023396]\n",
      " [5.08764037]\n",
      " [4.18254698]\n",
      " ...\n",
      " [3.97841336]\n",
      " [4.05414139]\n",
      " [1.39988853]]\n"
     ]
    },
    {
     "name": "stderr",
     "output_type": "stream",
     "text": [
      "\n",
      " 40%|███████████████████████████████▊                                                | 332/834 [03:35<08:18,  1.01it/s]"
     ]
    },
    {
     "name": "stdout",
     "output_type": "stream",
     "text": [
      "[[3.02652858]\n",
      " [4.91192817]\n",
      " [4.04568615]\n",
      " ...\n",
      " [4.01699837]\n",
      " [1.63336616]\n",
      " [3.09238154]]\n",
      "[[3.31855756]\n",
      " [5.05208141]\n",
      " [4.15437061]\n",
      " ...\n",
      " [4.07354891]\n",
      " [1.1256686 ]\n",
      " [3.72534183]]\n"
     ]
    },
    {
     "name": "stderr",
     "output_type": "stream",
     "text": [
      "\n",
      " 40%|███████████████████████████████▉                                                | 333/834 [03:36<08:21,  1.00s/it]"
     ]
    },
    {
     "name": "stdout",
     "output_type": "stream",
     "text": [
      "[[5.00008669]\n",
      " [4.02373516]\n",
      " [2.08956634]\n",
      " ...\n",
      " [3.92120052]\n",
      " [4.01167984]\n",
      " [1.86070876]]\n",
      "[[5.1117547 ]\n",
      " [4.12361517]\n",
      " [1.60798747]\n",
      " ...\n",
      " [4.00836285]\n",
      " [4.10598075]\n",
      " [1.41078511]]\n"
     ]
    },
    {
     "name": "stderr",
     "output_type": "stream",
     "text": [
      "\n",
      " 40%|████████████████████████████████                                                | 334/834 [03:37<08:21,  1.00s/it]"
     ]
    },
    {
     "name": "stdout",
     "output_type": "stream",
     "text": [
      "[[3.34557538]\n",
      " [5.03235238]\n",
      " [4.5821154 ]\n",
      " ...\n",
      " [4.82850798]\n",
      " [6.13621949]\n",
      " [2.82568188]]\n",
      "[[3.91177657]\n",
      " [5.176296  ]\n",
      " [4.71551239]\n",
      " ...\n",
      " [4.8124533 ]\n",
      " [6.18687348]\n",
      " [2.9668365 ]]\n"
     ]
    },
    {
     "name": "stderr",
     "output_type": "stream",
     "text": [
      "\n",
      " 40%|████████████████████████████████▏                                               | 335/834 [03:38<08:19,  1.00s/it]"
     ]
    },
    {
     "name": "stdout",
     "output_type": "stream",
     "text": [
      "[[6.68966801]\n",
      " [6.92742202]\n",
      " [7.63810537]\n",
      " ...\n",
      " [4.03582271]\n",
      " [4.09603481]\n",
      " [2.06178109]]\n",
      "[[6.73889179]\n",
      " [6.9728137 ]\n",
      " [7.30454695]\n",
      " ...\n",
      " [4.00178621]\n",
      " [4.06465111]\n",
      " [1.6086    ]]\n"
     ]
    },
    {
     "name": "stderr",
     "output_type": "stream",
     "text": [
      "\n",
      " 40%|████████████████████████████████▏                                               | 336/834 [03:39<08:20,  1.00s/it]"
     ]
    },
    {
     "name": "stdout",
     "output_type": "stream",
     "text": [
      "[[3.12496957]\n",
      " [5.25534347]\n",
      " [4.88775308]\n",
      " ...\n",
      " [4.09684065]\n",
      " [1.93581273]\n",
      " [3.29155209]]\n",
      "[[3.53049288]\n",
      " [5.27439749]\n",
      " [4.91265028]\n",
      " ...\n",
      " [4.11565228]\n",
      " [1.47132884]\n",
      " [3.77785821]]\n"
     ]
    },
    {
     "name": "stderr",
     "output_type": "stream",
     "text": [
      "\n",
      " 40%|████████████████████████████████▎                                               | 337/834 [03:40<08:19,  1.01s/it]"
     ]
    },
    {
     "name": "stdout",
     "output_type": "stream",
     "text": [
      "[[5.03157878]\n",
      " [4.37175984]\n",
      " [4.76030197]\n",
      " ...\n",
      " [3.90659876]\n",
      " [3.92829188]\n",
      " [2.06423084]]\n",
      "[[5.09637698]\n",
      " [4.43413554]\n",
      " [4.43806863]\n",
      " ...\n",
      " [4.02902767]\n",
      " [4.06145951]\n",
      " [1.8755018 ]]\n"
     ]
    },
    {
     "name": "stderr",
     "output_type": "stream",
     "text": [
      "\n",
      " 41%|████████████████████████████████▍                                               | 338/834 [03:41<08:18,  1.01s/it]"
     ]
    },
    {
     "name": "stdout",
     "output_type": "stream",
     "text": [
      "[[2.45373998]\n",
      " [5.10371727]\n",
      " [4.71772157]\n",
      " ...\n",
      " [3.77050909]\n",
      " [3.87591251]\n",
      " [1.92353178]]\n",
      "[[2.72585437]\n",
      " [5.28490721]\n",
      " [4.90858824]\n",
      " ...\n",
      " [3.96235863]\n",
      " [4.0721949 ]\n",
      " [1.71988699]]\n"
     ]
    },
    {
     "name": "stderr",
     "output_type": "stream",
     "text": [
      "\n",
      " 41%|████████████████████████████████▌                                               | 339/834 [03:42<08:19,  1.01s/it]"
     ]
    },
    {
     "name": "stdout",
     "output_type": "stream",
     "text": [
      "[[2.24145041]\n",
      " [5.05926732]\n",
      " [4.68284497]\n",
      " ...\n",
      " [4.0083598 ]\n",
      " [2.04166741]\n",
      " [2.4764001 ]]\n",
      "[[2.60708807]\n",
      " [5.30886035]\n",
      " [4.9333151 ]\n",
      " ...\n",
      " [4.14124958]\n",
      " [1.75796056]\n",
      " [2.72018041]]\n"
     ]
    },
    {
     "name": "stderr",
     "output_type": "stream",
     "text": [
      "\n",
      " 41%|████████████████████████████████▌                                               | 340/834 [03:43<08:18,  1.01s/it]"
     ]
    },
    {
     "name": "stdout",
     "output_type": "stream",
     "text": [
      "[[4.91192817]\n",
      " [4.23805544]\n",
      " [4.54188804]\n",
      " ...\n",
      " [4.02263922]\n",
      " [4.03472677]\n",
      " [2.12089726]]\n",
      "[[5.0973119 ]\n",
      " [4.4186611 ]\n",
      " [4.35689231]\n",
      " ...\n",
      " [4.04524359]\n",
      " [4.06561826]\n",
      " [1.77623974]]\n"
     ]
    },
    {
     "name": "stderr",
     "output_type": "stream",
     "text": [
      "\n",
      " 41%|████████████████████████████████▋                                               | 341/834 [03:44<08:20,  1.02s/it]"
     ]
    },
    {
     "name": "stdout",
     "output_type": "stream",
     "text": [
      "[[2.00440553]\n",
      " [5.08940561]\n",
      " [4.54156571]\n",
      " ...\n",
      " [3.86260009]\n",
      " [1.97597562]\n",
      " [1.71746326]]\n",
      "[[2.15226856]\n",
      " [5.1731044 ]\n",
      " [4.62663109]\n",
      " ...\n",
      " [4.07973869]\n",
      " [1.88040204]\n",
      " [2.09852713]]\n"
     ]
    },
    {
     "name": "stderr",
     "output_type": "stream",
     "text": [
      "\n",
      " 41%|████████████████████████████████▊                                               | 342/834 [03:45<08:19,  1.01s/it]"
     ]
    },
    {
     "name": "stdout",
     "output_type": "stream",
     "text": [
      "[[4.92217842]\n",
      " [4.44315695]\n",
      " [4.9516398 ]\n",
      " ...\n",
      " [3.92000788]\n",
      " [3.98734358]\n",
      " [1.90573891]]\n",
      "[[5.1921573 ]\n",
      " [4.71444853]\n",
      " [4.8184174 ]\n",
      " ...\n",
      " [4.13809021]\n",
      " [4.20669355]\n",
      " [1.7628608 ]]\n"
     ]
    },
    {
     "name": "stderr",
     "output_type": "stream",
     "text": [
      "\n",
      " 41%|████████████████████████████████▉                                               | 343/834 [03:46<08:20,  1.02s/it]"
     ]
    },
    {
     "name": "stdout",
     "output_type": "stream",
     "text": [
      "[[2.26717271]\n",
      " [4.88604471]\n",
      " [4.27860513]\n",
      " ...\n",
      " [4.05870846]\n",
      " [4.08820208]\n",
      " [1.89384476]]\n",
      "[[2.60889342]\n",
      " [5.14915126]\n",
      " [4.54187631]\n",
      " ...\n",
      " [4.17445514]\n",
      " [4.21368929]\n",
      " [1.49721629]]\n"
     ]
    },
    {
     "name": "stderr",
     "output_type": "stream",
     "text": [
      "\n",
      " 41%|████████████████████████████████▉                                               | 344/834 [03:47<08:22,  1.03s/it]"
     ]
    },
    {
     "name": "stdout",
     "output_type": "stream",
     "text": [
      "[[2.76627562]\n",
      " [4.91856827]\n",
      " [4.22670926]\n",
      " ...\n",
      " [2.12566781]\n",
      " [2.57384185]\n",
      " [5.05723662]]\n",
      "[[3.21658747]\n",
      " [5.09218599]\n",
      " [4.39087159]\n",
      " ...\n",
      " [1.75170631]\n",
      " [2.6832352 ]\n",
      " [5.09550654]]\n"
     ]
    },
    {
     "name": "stderr",
     "output_type": "stream",
     "text": [
      "\n",
      " 41%|█████████████████████████████████                                               | 345/834 [03:48<08:20,  1.02s/it]"
     ]
    },
    {
     "name": "stdout",
     "output_type": "stream",
     "text": [
      "[[4.33862384]\n",
      " [3.88074753]\n",
      " [3.01808341]\n",
      " ...\n",
      " [0.08819075]\n",
      " [4.20388797]\n",
      " [4.24849908]]\n",
      "[[4.36653159]\n",
      " [3.62275921]\n",
      " [3.51295518]\n",
      " ...\n",
      " [0.57848605]\n",
      " [4.2315816 ]\n",
      " [4.27839178]]\n"
     ]
    },
    {
     "name": "stderr",
     "output_type": "stream",
     "text": [
      "\n",
      " 41%|█████████████████████████████████▏                                              | 346/834 [03:49<08:21,  1.03s/it]"
     ]
    },
    {
     "name": "stdout",
     "output_type": "stream",
     "text": [
      "[[1.98928804]\n",
      " [3.02143569]\n",
      " [5.05504474]\n",
      " ...\n",
      " [4.12166041]\n",
      " [4.16859233]\n",
      " [1.87927524]]\n",
      "[[1.54712135]\n",
      " [3.46869184]\n",
      " [5.13387025]\n",
      " ...\n",
      " [4.30834126]\n",
      " [4.35573173]\n",
      " [1.5275204 ]]\n"
     ]
    },
    {
     "name": "stderr",
     "output_type": "stream",
     "text": [
      "\n",
      " 42%|█████████████████████████████████▎                                              | 347/834 [03:50<08:23,  1.03s/it]"
     ]
    },
    {
     "name": "stdout",
     "output_type": "stream",
     "text": [
      "[[3.11284979]\n",
      " [4.91125127]\n",
      " [3.98598978]\n",
      " ...\n",
      " [4.15814869]\n",
      " [4.17520019]\n",
      " [1.91634372]]\n",
      "[[3.69145926]\n",
      " [5.14309044]\n",
      " [4.19795694]\n",
      " ...\n",
      " [4.18915585]\n",
      " [4.21423734]\n",
      " [1.41072063]]\n"
     ]
    },
    {
     "name": "stderr",
     "output_type": "stream",
     "text": [
      "\n",
      " 42%|█████████████████████████████████▍                                              | 348/834 [03:51<08:22,  1.03s/it]"
     ]
    },
    {
     "name": "stdout",
     "output_type": "stream",
     "text": [
      "[[3.00473876]\n",
      " [4.99167376]\n",
      " [4.02228465]\n",
      " ...\n",
      " [4.04520264]\n",
      " [4.11195814]\n",
      " [1.89829298]]\n",
      "[[3.42897412]\n",
      " [5.07845243]\n",
      " [4.09431045]\n",
      " ...\n",
      " [4.05443153]\n",
      " [4.12906346]\n",
      " [1.48432092]]\n"
     ]
    },
    {
     "name": "stderr",
     "output_type": "stream",
     "text": [
      "\n",
      " 42%|█████████████████████████████████▍                                              | 349/834 [03:52<08:25,  1.04s/it]"
     ]
    },
    {
     "name": "stdout",
     "output_type": "stream",
     "text": [
      "[[3.25248514]\n",
      " [5.05104779]\n",
      " [4.19885955]\n",
      " ...\n",
      " [3.92590661]\n",
      " [4.02789328]\n",
      " [1.84401183]]\n",
      "[[3.74945617]\n",
      " [5.11949192]\n",
      " [4.25311686]\n",
      " ...\n",
      " [4.03624907]\n",
      " [4.13896065]\n",
      " [1.4587881 ]]\n"
     ]
    },
    {
     "name": "stderr",
     "output_type": "stream",
     "text": [
      "\n",
      " 42%|█████████████████████████████████▌                                              | 350/834 [03:53<08:24,  1.04s/it]"
     ]
    },
    {
     "name": "stdout",
     "output_type": "stream",
     "text": [
      "[[2.99481085]\n",
      " [5.00450267]\n",
      " [4.2274184 ]\n",
      " ...\n",
      " [3.95949387]\n",
      " [4.0250245 ]\n",
      " [1.76120407]]\n",
      "[[3.56318263]\n",
      " [5.17220172]\n",
      " [4.37691236]\n",
      " ...\n",
      " [4.02899543]\n",
      " [4.10101604]\n",
      " [1.27789838]]\n"
     ]
    },
    {
     "name": "stderr",
     "output_type": "stream",
     "text": [
      "\n",
      " 42%|█████████████████████████████████▋                                              | 351/834 [03:54<08:24,  1.05s/it]"
     ]
    },
    {
     "name": "stdout",
     "output_type": "stream",
     "text": [
      "[[3.28078612]\n",
      " [4.9859362 ]\n",
      " [4.35296773]\n",
      " ...\n",
      " [3.9663596 ]\n",
      " [1.95038225]\n",
      " [3.07046279]]\n",
      "[[3.88601808]\n",
      " [5.112335  ]\n",
      " [4.47175777]\n",
      " ...\n",
      " [4.08509026]\n",
      " [1.60208784]\n",
      " [3.64513267]]\n"
     ]
    },
    {
     "name": "stderr",
     "output_type": "stream",
     "text": [
      "\n",
      " 42%|█████████████████████████████████▊                                              | 352/834 [03:55<08:26,  1.05s/it]"
     ]
    },
    {
     "name": "stdout",
     "output_type": "stream",
     "text": [
      "[[5.10107412]\n",
      " [4.69815586]\n",
      " [5.08486069]\n",
      " ...\n",
      " [3.93999263]\n",
      " [1.87402118]\n",
      " [2.36915938]]\n",
      "[[5.27062559]\n",
      " [4.86061748]\n",
      " [4.87232002]\n",
      " ...\n",
      " [4.07596679]\n",
      " [1.59299661]\n",
      " [2.6832352 ]]\n"
     ]
    },
    {
     "name": "stderr",
     "output_type": "stream",
     "text": [
      "\n",
      " 42%|█████████████████████████████████▊                                              | 353/834 [03:56<08:21,  1.04s/it]"
     ]
    },
    {
     "name": "stdout",
     "output_type": "stream",
     "text": [
      "[[5.14639437]\n",
      " [4.7746781 ]\n",
      " [5.16502531]\n",
      " ...\n",
      " [3.90714673]\n",
      " [1.87605189]\n",
      " [1.81364791]]\n",
      "[[5.33839073]\n",
      " [4.96800363]\n",
      " [4.9494343 ]\n",
      " ...\n",
      " [4.08454221]\n",
      " [1.70218811]\n",
      " [2.06380636]]\n"
     ]
    },
    {
     "name": "stderr",
     "output_type": "stream",
     "text": [
      "\n",
      " 42%|█████████████████████████████████▉                                              | 354/834 [03:57<08:23,  1.05s/it]"
     ]
    },
    {
     "name": "stdout",
     "output_type": "stream",
     "text": [
      "[[4.93906875]\n",
      " [4.45743638]\n",
      " [4.70647209]\n",
      " ...\n",
      " [4.10583378]\n",
      " [6.74246642]\n",
      " [3.33184392]]\n",
      "[[5.16681791]\n",
      " [4.6829516 ]\n",
      " [4.55841462]\n",
      " ...\n",
      " [5.19741216]\n",
      " [6.9760053 ]\n",
      " [3.03711623]]\n"
     ]
    },
    {
     "name": "stderr",
     "output_type": "stream",
     "text": [
      "\n",
      " 43%|██████████████████████████████████                                              | 355/834 [03:58<08:22,  1.05s/it]"
     ]
    },
    {
     "name": "stdout",
     "output_type": "stream",
     "text": [
      "[[3.23862475]\n",
      " [8.28825427]\n",
      " [3.35605125]\n",
      " ...\n",
      " [6.38899429]\n",
      " [3.45033412]\n",
      " [5.77156234]]\n",
      "[[4.06552155]\n",
      " [8.4531693 ]\n",
      " [2.76550762]\n",
      " ...\n",
      " [6.02867959]\n",
      " [4.25698547]\n",
      " [6.53356535]]\n"
     ]
    },
    {
     "name": "stderr",
     "output_type": "stream",
     "text": [
      "\n",
      " 43%|██████████████████████████████████▏                                             | 356/834 [03:59<08:18,  1.04s/it]"
     ]
    },
    {
     "name": "stdout",
     "output_type": "stream",
     "text": [
      "[[2.04237655]\n",
      " [6.7041086 ]\n",
      " [4.51938909]\n",
      " ...\n",
      " [7.5195507 ]\n",
      " [2.79135325]\n",
      " [4.76881161]]\n",
      "[[1.62078612]\n",
      " [7.3765998 ]\n",
      " [4.38329557]\n",
      " ...\n",
      " [7.92613576]\n",
      " [2.40540457]\n",
      " [5.97883901]]\n"
     ]
    },
    {
     "name": "stderr",
     "output_type": "stream",
     "text": [
      "\n",
      " 43%|██████████████████████████████████▏                                             | 357/834 [04:01<08:21,  1.05s/it]"
     ]
    },
    {
     "name": "stdout",
     "output_type": "stream",
     "text": [
      "[[6.43676428]\n",
      " [3.00921921]\n",
      " [3.05083261]\n",
      " ...\n",
      " [6.70043399]\n",
      " [2.92489648]\n",
      " [7.16349989]]\n",
      "[[6.81984244]\n",
      " [2.83685122]\n",
      " [4.03860247]\n",
      " ...\n",
      " [7.21888949]\n",
      " [2.66182889]\n",
      " [6.71258525]]\n"
     ]
    },
    {
     "name": "stderr",
     "output_type": "stream",
     "text": [
      "\n",
      " 43%|██████████████████████████████████▎                                             | 358/834 [04:02<08:21,  1.05s/it]"
     ]
    },
    {
     "name": "stdout",
     "output_type": "stream",
     "text": [
      "[[4.3365609 ]\n",
      " [5.96261007]\n",
      " [2.67009097]\n",
      " ...\n",
      " [3.38283726]\n",
      " [3.98998673]\n",
      " [7.42017494]]\n",
      "[[5.07042506]\n",
      " [6.57550752]\n",
      " [2.06570843]\n",
      " ...\n",
      " [2.67801257]\n",
      " [4.94737105]\n",
      " [7.6049767 ]]\n"
     ]
    },
    {
     "name": "stderr",
     "output_type": "stream",
     "text": [
      "\n",
      " 43%|██████████████████████████████████▍                                             | 359/834 [04:03<08:20,  1.05s/it]"
     ]
    },
    {
     "name": "stdout",
     "output_type": "stream",
     "text": [
      "[[3.19443268]\n",
      " [4.28801731]\n",
      " [6.12603371]\n",
      " ...\n",
      " [8.12753824]\n",
      " [5.94623547]\n",
      " [5.6095892 ]]\n",
      "[[2.57227058]\n",
      " [5.30502398]\n",
      " [6.23855165]\n",
      " ...\n",
      " [8.09371102]\n",
      " [5.43926472]\n",
      " [6.11556211]]\n"
     ]
    },
    {
     "name": "stderr",
     "output_type": "stream",
     "text": [
      "\n",
      " 43%|██████████████████████████████████▌                                             | 360/834 [04:04<08:17,  1.05s/it]"
     ]
    },
    {
     "name": "stdout",
     "output_type": "stream",
     "text": [
      "[[2.26259556]\n",
      " [6.07336424]\n",
      " [3.34119162]\n",
      " ...\n",
      " [2.98597889]\n",
      " [8.50370272]\n",
      " [3.91120815]]\n",
      "[[1.91457476]\n",
      " [5.55967519]\n",
      " [3.83063248]\n",
      " ...\n",
      " [3.86022735]\n",
      " [8.61687595]\n",
      " [3.32558554]]\n"
     ]
    },
    {
     "name": "stderr",
     "output_type": "stream",
     "text": [
      "\n",
      " 43%|██████████████████████████████████▋                                             | 361/834 [04:05<08:16,  1.05s/it]"
     ]
    },
    {
     "name": "stdout",
     "output_type": "stream",
     "text": [
      "[[5.5000599 ]\n",
      " [7.8825317 ]\n",
      " [3.49865208]\n",
      " ...\n",
      " [1.87398895]\n",
      " [5.45770513]\n",
      " [8.07686723]]\n",
      "[[6.36005822]\n",
      " [8.0225286 ]\n",
      " [2.93572643]\n",
      " ...\n",
      " [1.55398813]\n",
      " [6.20902126]\n",
      " [8.34065725]]\n"
     ]
    },
    {
     "name": "stderr",
     "output_type": "stream",
     "text": [
      "\n",
      " 43%|██████████████████████████████████▋                                             | 362/834 [04:06<08:17,  1.05s/it]"
     ]
    },
    {
     "name": "stdout",
     "output_type": "stream",
     "text": [
      "[[5.54473548]\n",
      " [5.51907764]\n",
      " [2.31313762]\n",
      " ...\n",
      " [6.41416862]\n",
      " [2.98726822]\n",
      " [4.29491527]]\n",
      "[[5.3178871 ]\n",
      " [6.28191231]\n",
      " [2.28002939]\n",
      " ...\n",
      " [6.64488458]\n",
      " [2.56324383]\n",
      " [5.29844734]]\n"
     ]
    },
    {
     "name": "stderr",
     "output_type": "stream",
     "text": [
      "\n",
      " 44%|██████████████████████████████████▊                                             | 363/834 [04:07<08:16,  1.05s/it]"
     ]
    },
    {
     "name": "stdout",
     "output_type": "stream",
     "text": [
      "[[8.3880813 ]\n",
      " [3.11375232]\n",
      " [5.85356427]\n",
      " ...\n",
      " [2.96937865]\n",
      " [5.03560796]\n",
      " [2.47820518]]\n",
      "[[8.58786138]\n",
      " [2.5596976 ]\n",
      " [6.92448832]\n",
      " ...\n",
      " [3.14160092]\n",
      " [5.27159275]\n",
      " [2.09652835]]\n"
     ]
    },
    {
     "name": "stderr",
     "output_type": "stream",
     "text": [
      "\n",
      " 44%|██████████████████████████████████▉                                             | 364/834 [04:08<08:17,  1.06s/it]"
     ]
    },
    {
     "name": "stdout",
     "output_type": "stream",
     "text": [
      "[[5.63888942]\n",
      " [8.43340155]\n",
      " [7.02889295]\n",
      " ...\n",
      " [6.91704284]\n",
      " [6.35669636]\n",
      " [6.3994057 ]]\n",
      "[[6.2481587 ]\n",
      " [8.6288364 ]\n",
      " [6.8434732 ]\n",
      " ...\n",
      " [6.79440633]\n",
      " [7.11160006]\n",
      " [6.658328  ]]\n"
     ]
    },
    {
     "name": "stderr",
     "output_type": "stream",
     "text": [
      "\n",
      " 44%|███████████████████████████████████                                             | 365/834 [04:09<08:17,  1.06s/it]"
     ]
    },
    {
     "name": "stdout",
     "output_type": "stream",
     "text": [
      "[[3.05431382]\n",
      " [4.57979459]\n",
      " [7.90876974]\n",
      " ...\n",
      " [4.13787384]\n",
      " [4.00571665]\n",
      " [5.21885519]]\n",
      "[[2.67891525]\n",
      " [5.57979196]\n",
      " [8.13113981]\n",
      " ...\n",
      " [3.37813415]\n",
      " [4.17074772]\n",
      " [5.3183062 ]]\n"
     ]
    },
    {
     "name": "stderr",
     "output_type": "stream",
     "text": [
      "\n",
      " 44%|███████████████████████████████████                                             | 366/834 [04:10<08:17,  1.06s/it]"
     ]
    },
    {
     "name": "stdout",
     "output_type": "stream",
     "text": [
      "[[2.2241088 ]\n",
      " [6.08948097]\n",
      " [8.64494975]\n",
      " ...\n",
      " [3.23075979]\n",
      " [7.54746487]\n",
      " [6.39918006]]\n",
      "[[1.66485603]\n",
      " [6.57038161]\n",
      " [8.71323656]\n",
      " ...\n",
      " [3.9122279 ]\n",
      " [7.30818989]\n",
      " [6.93029124]]\n"
     ]
    },
    {
     "name": "stderr",
     "output_type": "stream",
     "text": [
      "\n",
      " 44%|███████████████████████████████████▏                                            | 367/834 [04:11<08:23,  1.08s/it]"
     ]
    },
    {
     "name": "stdout",
     "output_type": "stream",
     "text": [
      "[[6.41342725]\n",
      " [3.21715727]\n",
      " [3.48888534]\n",
      " ...\n",
      " [2.27842218]\n",
      " [7.9831968 ]\n",
      " [2.64559354]]\n",
      "[[6.51109518]\n",
      " [2.67859286]\n",
      " [4.38658388]\n",
      " ...\n",
      " [2.4756843 ]\n",
      " [8.09661247]\n",
      " [2.10632883]]\n"
     ]
    },
    {
     "name": "stderr",
     "output_type": "stream",
     "text": [
      "\n",
      " 44%|███████████████████████████████████▎                                            | 368/834 [04:12<08:18,  1.07s/it]"
     ]
    },
    {
     "name": "stdout",
     "output_type": "stream",
     "text": [
      "[[2.74132692]\n",
      " [4.5719941 ]\n",
      " [1.66163491]\n",
      " ...\n",
      " [0.7653513 ]\n",
      " [0.14856402]\n",
      " [4.38291261]]\n",
      "[[2.89517051]\n",
      " [4.84301531]\n",
      " [1.29914349]\n",
      " ...\n",
      " [0.83120295]\n",
      " [0.30816697]\n",
      " [4.55364333]]\n"
     ]
    },
    {
     "name": "stderr",
     "output_type": "stream",
     "text": [
      "\n",
      " 44%|███████████████████████████████████▍                                            | 369/834 [04:13<08:18,  1.07s/it]"
     ]
    },
    {
     "name": "stdout",
     "output_type": "stream",
     "text": [
      "[[2.65961509]\n",
      " [1.78396089]\n",
      " [3.82430674]\n",
      " ...\n",
      " [1.82899104]\n",
      " [2.76282664]\n",
      " [1.95296093]]\n",
      "[[2.81815295]\n",
      " [1.95474382]\n",
      " [3.98260435]\n",
      " ...\n",
      " [1.9603533 ]\n",
      " [2.85406654]\n",
      " [1.98011545]]\n"
     ]
    },
    {
     "name": "stderr",
     "output_type": "stream",
     "text": [
      "\n",
      " 44%|███████████████████████████████████▍                                            | 370/834 [04:14<08:19,  1.08s/it]"
     ]
    },
    {
     "name": "stdout",
     "output_type": "stream",
     "text": [
      "[[3.18086239]\n",
      " [0.11407422]\n",
      " [0.22089591]\n",
      " ...\n",
      " [2.29196024]\n",
      " [3.11913531]\n",
      " [4.62414784]]\n",
      "[[3.22222919]\n",
      " [0.1468782 ]\n",
      " [0.2909839 ]\n",
      " ...\n",
      " [2.29853424]\n",
      " [3.11223173]\n",
      " [4.65322778]]\n"
     ]
    },
    {
     "name": "stderr",
     "output_type": "stream",
     "text": [
      "\n",
      " 44%|███████████████████████████████████▌                                            | 371/834 [04:15<08:19,  1.08s/it]"
     ]
    },
    {
     "name": "stdout",
     "output_type": "stream",
     "text": [
      "[[4.33482029]\n",
      " [2.94501016]\n",
      " [2.88721556]\n",
      " ...\n",
      " [2.11664244]\n",
      " [2.99532659]\n",
      " [2.41409282]]\n",
      "[[4.44238857]\n",
      " [3.00223427]\n",
      " [2.90722768]\n",
      " ...\n",
      " [2.19314687]\n",
      " [3.10239902]\n",
      " [2.54222438]]\n"
     ]
    },
    {
     "name": "stderr",
     "output_type": "stream",
     "text": [
      "\n",
      " 45%|███████████████████████████████████▋                                            | 372/834 [04:17<08:17,  1.08s/it]"
     ]
    },
    {
     "name": "stdout",
     "output_type": "stream",
     "text": [
      "[[1.10931456]\n",
      " [0.00464162]\n",
      " [1.26729075]\n",
      " ...\n",
      " [3.90933861]\n",
      " [2.77501088]\n",
      " [3.30515462]]\n",
      "[[1.23128164]\n",
      " [0.12959841]\n",
      " [1.40804484]\n",
      " ...\n",
      " [3.97673696]\n",
      " [2.85384087]\n",
      " [3.35414877]]\n"
     ]
    },
    {
     "name": "stderr",
     "output_type": "stream",
     "text": [
      "\n",
      " 45%|███████████████████████████████████▊                                            | 373/834 [04:18<08:17,  1.08s/it]"
     ]
    },
    {
     "name": "stdout",
     "output_type": "stream",
     "text": [
      "[[3.88145666]\n",
      " [2.85021155]\n",
      " [3.16049084]\n",
      " ...\n",
      " [0.44830297]\n",
      " [6.53971795]\n",
      " [4.15089616]]\n",
      "[[3.90803691]\n",
      " [2.91051599]\n",
      " [3.21110694]\n",
      " ...\n",
      " [0.26074427]\n",
      " [6.48004959]\n",
      " [4.19818261]]\n"
     ]
    },
    {
     "name": "stderr",
     "output_type": "stream",
     "text": [
      "\n",
      " 45%|███████████████████████████████████▉                                            | 374/834 [04:19<08:16,  1.08s/it]"
     ]
    },
    {
     "name": "stdout",
     "output_type": "stream",
     "text": [
      "[[0.93232062]\n",
      " [1.69193436]\n",
      " [2.66980087]\n",
      " ...\n",
      " [2.77381825]\n",
      " [3.0741374 ]\n",
      " [0.23685147]]\n",
      "[[0.88800703]\n",
      " [1.67030432]\n",
      " [2.71466765]\n",
      " ...\n",
      " [2.70667252]\n",
      " [3.06964479]\n",
      " [0.15416408]]\n"
     ]
    },
    {
     "name": "stderr",
     "output_type": "stream",
     "text": [
      "\n",
      " 45%|███████████████████████████████████▉                                            | 375/834 [04:20<08:17,  1.08s/it]"
     ]
    },
    {
     "name": "stdout",
     "output_type": "stream",
     "text": [
      "[[5.83135541]\n",
      " [1.71249931]\n",
      " [3.15378628]\n",
      " ...\n",
      " [0.91594603]\n",
      " [0.6326139 ]\n",
      " [4.57628115]]\n",
      "[[5.8727424 ]\n",
      " [1.67913764]\n",
      " [2.99204694]\n",
      " ...\n",
      " [0.88623392]\n",
      " [0.68961185]\n",
      " [4.63127342]]\n"
     ]
    },
    {
     "name": "stderr",
     "output_type": "stream",
     "text": [
      "\n",
      " 45%|████████████████████████████████████                                            | 376/834 [04:21<08:16,  1.08s/it]"
     ]
    },
    {
     "name": "stdout",
     "output_type": "stream",
     "text": [
      "[[2.88399221]\n",
      " [1.91444194]\n",
      " [3.98486161]\n",
      " ...\n",
      " [3.04638439]\n",
      " [2.12702162]\n",
      " [0.21834946]]\n",
      "[[2.93495271]\n",
      " [1.97466716]\n",
      " [4.03299299]\n",
      " ...\n",
      " [3.0483352 ]\n",
      " [2.09149916]\n",
      " [0.18043839]]\n"
     ]
    },
    {
     "name": "stderr",
     "output_type": "stream",
     "text": [
      "\n",
      " 45%|████████████████████████████████████▏                                           | 377/834 [04:22<08:17,  1.09s/it]"
     ]
    },
    {
     "name": "stdout",
     "output_type": "stream",
     "text": [
      "[[0.33916048]\n",
      " [3.15913704]\n",
      " [0.60789084]\n",
      " ...\n",
      " [2.92434851]\n",
      " [4.816775  ]\n",
      " [4.55993878]]\n",
      "[[0.34121134]\n",
      " [3.13492757]\n",
      " [0.64528404]\n",
      " ...\n",
      " [2.91660905]\n",
      " [4.80155671]\n",
      " [4.57859586]]\n"
     ]
    },
    {
     "name": "stderr",
     "output_type": "stream",
     "text": [
      "\n",
      " 45%|████████████████████████████████████▎                                           | 378/834 [04:23<08:14,  1.08s/it]"
     ]
    },
    {
     "name": "stdout",
     "output_type": "stream",
     "text": [
      "[[7.21346175]\n",
      " [1.81648446]\n",
      " [1.93420106]\n",
      " ...\n",
      " [2.04269889]\n",
      " [2.94143224]\n",
      " [2.5020257 ]]\n",
      "[[7.14838409]\n",
      " [1.80880053]\n",
      " [1.87253587]\n",
      " ...\n",
      " [2.04962146]\n",
      " [2.9899192 ]\n",
      " [2.56617752]]\n"
     ]
    },
    {
     "name": "stderr",
     "output_type": "stream",
     "text": [
      "\n",
      " 45%|████████████████████████████████████▎                                           | 379/834 [04:24<08:16,  1.09s/it]"
     ]
    },
    {
     "name": "stdout",
     "output_type": "stream",
     "text": [
      "[[1.22664436]\n",
      " [0.10920697]\n",
      " [1.37037336]\n",
      " ...\n",
      " [3.88877366]\n",
      " [2.80869485]\n",
      " [3.33748478]]\n",
      "[[1.2543321 ]\n",
      " [0.13688429]\n",
      " [1.42081125]\n",
      " ...\n",
      " [3.96571143]\n",
      " [2.88085666]\n",
      " [3.38857939]]\n"
     ]
    },
    {
     "name": "stderr",
     "output_type": "stream",
     "text": [
      "\n",
      " 46%|████████████████████████████████████▍                                           | 380/834 [04:25<08:20,  1.10s/it]"
     ]
    },
    {
     "name": "stdout",
     "output_type": "stream",
     "text": [
      "[[3.81679634]\n",
      " [3.09931173]\n",
      " [2.95136015]\n",
      " ...\n",
      " [6.40330594]\n",
      " [3.79400728]\n",
      " [0.68428414]]\n",
      "[[3.84094878]\n",
      " [3.17648289]\n",
      " [3.02447878]\n",
      " ...\n",
      " [6.51702704]\n",
      " [3.95404112]\n",
      " [0.78220057]]\n"
     ]
    },
    {
     "name": "stderr",
     "output_type": "stream",
     "text": [
      "\n",
      " 46%|████████████████████████████████████▌                                           | 381/834 [04:26<08:26,  1.12s/it]"
     ]
    },
    {
     "name": "stdout",
     "output_type": "stream",
     "text": [
      "[[1.15350663]\n",
      " [2.61084587]\n",
      " [1.21906949]\n",
      " ...\n",
      " [1.78412206]\n",
      " [2.99635806]\n",
      " [0.19346523]]\n",
      "[[1.25536373]\n",
      " [2.74983975]\n",
      " [1.28624813]\n",
      " ...\n",
      " [1.76408586]\n",
      " [3.03721295]\n",
      " [0.15255216]]\n"
     ]
    },
    {
     "name": "stderr",
     "output_type": "stream",
     "text": [
      "\n",
      " 46%|████████████████████████████████████▋                                           | 382/834 [04:28<08:21,  1.11s/it]"
     ]
    },
    {
     "name": "stdout",
     "output_type": "stream",
     "text": [
      "[[5.67179978]\n",
      " [1.50588283]\n",
      " [3.03046106]\n",
      " ...\n",
      " [0.88777398]\n",
      " [0.27559609]\n",
      " [4.55948751]]\n",
      "[[5.77199736]\n",
      " [1.52948694]\n",
      " [2.93853117]\n",
      " ...\n",
      " [0.83281487]\n",
      " [0.28215057]\n",
      " [4.57427591]]\n"
     ]
    },
    {
     "name": "stderr",
     "output_type": "stream",
     "text": [
      "\n",
      " 46%|████████████████████████████████████▋                                           | 383/834 [04:29<08:26,  1.12s/it]"
     ]
    },
    {
     "name": "stdout",
     "output_type": "stream",
     "text": [
      "[[2.65461891]\n",
      " [1.80855502]\n",
      " [3.84880417]\n",
      " ...\n",
      " [2.98784843]\n",
      " [2.12992263]\n",
      " [0.24510324]]\n",
      "[[2.69625951]\n",
      " [1.83978165]\n",
      " [3.87834533]\n",
      " ...\n",
      " [2.94001414]\n",
      " [2.02608742]\n",
      " [0.15351931]]\n"
     ]
    },
    {
     "name": "stderr",
     "output_type": "stream",
     "text": [
      "\n",
      " 46%|████████████████████████████████████▊                                           | 384/834 [04:30<08:23,  1.12s/it]"
     ]
    },
    {
     "name": "stdout",
     "output_type": "stream",
     "text": [
      "[[0.33264932]\n",
      " [3.29967493]\n",
      " [0.63435451]\n",
      " ...\n",
      " [4.07256885]\n",
      " [3.08332394]\n",
      " [3.01531133]]\n",
      "[[0.27434888]\n",
      " [3.21458869]\n",
      " [0.63944888]\n",
      " ...\n",
      " [4.13128791]\n",
      " [3.10446227]\n",
      " [2.99440034]]\n"
     ]
    },
    {
     "name": "stderr",
     "output_type": "stream",
     "text": [
      "\n",
      " 46%|████████████████████████████████████▉                                           | 385/834 [04:31<08:23,  1.12s/it]"
     ]
    },
    {
     "name": "stdout",
     "output_type": "stream",
     "text": [
      "[[4.12749467]\n",
      " [4.5047551 ]\n",
      " [7.30191037]\n",
      " ...\n",
      " [2.17911089]\n",
      " [2.8709699 ]\n",
      " [2.47965568]]\n",
      "[[4.07216266]\n",
      " [4.55996206]\n",
      " [7.27111572]\n",
      " ...\n",
      " [2.14504716]\n",
      " [2.88304887]\n",
      " [2.50408634]]\n"
     ]
    },
    {
     "name": "stderr",
     "output_type": "stream",
     "text": [
      "\n",
      " 46%|█████████████████████████████████████                                           | 386/834 [04:32<08:23,  1.12s/it]"
     ]
    },
    {
     "name": "stdout",
     "output_type": "stream",
     "text": [
      "[[1.17706929]\n",
      " [0.13631531]\n",
      " [1.41408193]\n",
      " ...\n",
      " [3.90830714]\n",
      " [2.63798644]\n",
      " [3.29954599]]\n",
      "[[1.17666977]\n",
      " [0.13169391]\n",
      " [1.41600773]\n",
      " ...\n",
      " [3.89314276]\n",
      " [2.63868171]\n",
      " [3.25398403]]\n"
     ]
    },
    {
     "name": "stderr",
     "output_type": "stream",
     "text": [
      "\n",
      " 46%|█████████████████████████████████████                                           | 387/834 [04:33<08:21,  1.12s/it]"
     ]
    },
    {
     "name": "stdout",
     "output_type": "stream",
     "text": [
      "[[3.71948352]\n",
      " [3.06636914]\n",
      " [3.27430719]\n",
      " ...\n",
      " [6.80841608]\n",
      " [4.29194979]\n",
      " [0.92442343]]\n",
      "[[3.65122573]\n",
      " [3.02870201]\n",
      " [3.23115923]\n",
      " ...\n",
      " [6.71667952]\n",
      " [4.306278  ]\n",
      " [0.87027591]]\n"
     ]
    },
    {
     "name": "stderr",
     "output_type": "stream",
     "text": [
      "\n",
      " 47%|█████████████████████████████████████▏                                          | 388/834 [04:34<08:18,  1.12s/it]"
     ]
    },
    {
     "name": "stdout",
     "output_type": "stream",
     "text": [
      "[[1.88791381]\n",
      " [2.87793232]\n",
      " [1.54833429]\n",
      " ...\n",
      " [1.29140138]\n",
      " [3.12222972]\n",
      " [0.46667605]]\n",
      "[[1.81273362]\n",
      " [2.85571069]\n",
      " [1.47374673]\n",
      " ...\n",
      " [1.19543252]\n",
      " [3.07822021]\n",
      " [0.3603932 ]]\n"
     ]
    },
    {
     "name": "stderr",
     "output_type": "stream",
     "text": [
      "\n",
      " 47%|█████████████████████████████████████▎                                          | 389/834 [04:35<08:20,  1.12s/it]"
     ]
    },
    {
     "name": "stdout",
     "output_type": "stream",
     "text": [
      "[[5.92615402]\n",
      " [1.54211324]\n",
      " [3.17080555]\n",
      " ...\n",
      " [1.05977173]\n",
      " [0.57820382]\n",
      " [4.59168874]]\n",
      "[[5.88151125]\n",
      " [1.46794381]\n",
      " [2.98637297]\n",
      " ...\n",
      " [0.86150706]\n",
      " [0.45714067]\n",
      " [4.47627114]]\n"
     ]
    },
    {
     "name": "stderr",
     "output_type": "stream",
     "text": [
      "\n",
      " 47%|█████████████████████████████████████▍                                          | 390/834 [04:37<08:20,  1.13s/it]"
     ]
    },
    {
     "name": "stdout",
     "output_type": "stream",
     "text": [
      "[[3.00892911]\n",
      " [1.96840076]\n",
      " [4.07095718]\n",
      " ...\n",
      " [2.14906931]\n",
      " [2.80840475]\n",
      " [2.11064702]]\n",
      "[[2.85857991]\n",
      " [1.87711373]\n",
      " [3.97741397]\n",
      " ...\n",
      " [2.20185124]\n",
      " [2.83743152]\n",
      " [2.06387084]]\n"
     ]
    },
    {
     "name": "stderr",
     "output_type": "stream",
     "text": [
      "\n",
      " 47%|█████████████████████████████████████▌                                          | 391/834 [04:38<08:17,  1.12s/it]"
     ]
    },
    {
     "name": "stdout",
     "output_type": "stream",
     "text": [
      "[[3.27762724]\n",
      " [0.21267638]\n",
      " [0.33290718]\n",
      " ...\n",
      " [3.32713784]\n",
      " [4.73625581]\n",
      " [4.12543173]]\n",
      "[[3.23364159]\n",
      " [0.15638853]\n",
      " [0.32244859]\n",
      " ...\n",
      " [3.26862026]\n",
      " [4.74700932]\n",
      " [4.20720937]]\n"
     ]
    },
    {
     "name": "stderr",
     "output_type": "stream",
     "text": [
      "\n",
      " 47%|█████████████████████████████████████▌                                          | 392/834 [04:39<08:15,  1.12s/it]"
     ]
    },
    {
     "name": "stdout",
     "output_type": "stream",
     "text": [
      "[[3.02739888]\n",
      " [2.96844388]\n",
      " [4.708116  ]\n",
      " ...\n",
      " [2.17430811]\n",
      " [2.97501951]\n",
      " [2.01220603]]\n",
      "[[3.03966307]\n",
      " [2.98234317]\n",
      " [4.69694307]\n",
      " ...\n",
      " [2.21384393]\n",
      " [2.99298185]\n",
      " [2.08640549]]\n"
     ]
    },
    {
     "name": "stderr",
     "output_type": "stream",
     "text": [
      "\n",
      " 47%|█████████████████████████████████████▋                                          | 393/834 [04:40<08:17,  1.13s/it]"
     ]
    },
    {
     "name": "stdout",
     "output_type": "stream",
     "text": [
      "[[1.09078032]\n",
      " [0.12964298]\n",
      " [1.40873118]\n",
      " ...\n",
      " [6.25941577]\n",
      " [3.59899484]\n",
      " [5.40329505]]\n",
      "[[1.15961565]\n",
      " [0.17389399]\n",
      " [1.44740794]\n",
      " ...\n",
      " [6.67651046]\n",
      " [3.70016364]\n",
      " [4.98663743]]\n"
     ]
    },
    {
     "name": "stderr",
     "output_type": "stream",
     "text": [
      "\n",
      " 47%|█████████████████████████████████████▊                                          | 394/834 [04:41<08:18,  1.13s/it]"
     ]
    },
    {
     "name": "stdout",
     "output_type": "stream",
     "text": [
      "[[3.07507217]\n",
      " [3.18418244]\n",
      " [3.80822224]\n",
      " ...\n",
      " [3.90772693]\n",
      " [5.03016051]\n",
      " [2.93408301]]\n",
      "[[3.621244  ]\n",
      " [3.21877968]\n",
      " [3.36739876]\n",
      " ...\n",
      " [4.08434878]\n",
      " [4.79749467]\n",
      " [3.48481105]]\n"
     ]
    },
    {
     "name": "stderr",
     "output_type": "stream",
     "text": [
      "\n",
      " 47%|█████████████████████████████████████▉                                          | 395/834 [04:42<08:21,  1.14s/it]"
     ]
    },
    {
     "name": "stdout",
     "output_type": "stream",
     "text": [
      "[[2.91983582]\n",
      " [4.19022098]\n",
      " [5.41373869]\n",
      " ...\n",
      " [3.87130312]\n",
      " [5.62954172]\n",
      " [6.68528426]]\n",
      "[[3.09446837]\n",
      " [4.35270131]\n",
      " [5.19228625]\n",
      " ...\n",
      " [4.01381114]\n",
      " [5.55319527]\n",
      " [6.21743549]]\n"
     ]
    },
    {
     "name": "stderr",
     "output_type": "stream",
     "text": [
      "\n",
      " 47%|█████████████████████████████████████▉                                          | 396/834 [04:43<08:21,  1.14s/it]"
     ]
    },
    {
     "name": "stdout",
     "output_type": "stream",
     "text": [
      "[[4.29846095]\n",
      " [5.41502803]\n",
      " [6.20851914]\n",
      " ...\n",
      " [6.12087636]\n",
      " [4.44808867]\n",
      " [4.14863982]]\n",
      "[[4.6503908 ]\n",
      " [5.3191444 ]\n",
      " [5.76113302]\n",
      " ...\n",
      " [5.55206692]\n",
      " [4.65367912]\n",
      " [3.96458308]]\n"
     ]
    },
    {
     "name": "stderr",
     "output_type": "stream",
     "text": [
      "\n",
      " 48%|██████████████████████████████████████                                          | 397/834 [04:45<08:19,  1.14s/it]"
     ]
    },
    {
     "name": "stdout",
     "output_type": "stream",
     "text": [
      "[[5.39523669]\n",
      " [2.06664835]\n",
      " [5.98330395]\n",
      " ...\n",
      " [6.27649951]\n",
      " [6.25667593]\n",
      " [4.78773265]]\n",
      "[[4.84549767]\n",
      " [2.43026038]\n",
      " [5.77570478]\n",
      " ...\n",
      " [6.15692399]\n",
      " [5.81145718]\n",
      " [5.02922437]]\n"
     ]
    },
    {
     "name": "stderr",
     "output_type": "stream",
     "text": [
      "\n",
      " 48%|██████████████████████████████████████▏                                         | 398/834 [04:46<08:17,  1.14s/it]"
     ]
    },
    {
     "name": "stdout",
     "output_type": "stream",
     "text": [
      "[[4.13252309]\n",
      " [2.41738063]\n",
      " [4.20240523]\n",
      " ...\n",
      " [6.92942049]\n",
      " [7.80958738]\n",
      " [6.4757023 ]]\n",
      "[[4.02728679]\n",
      " [2.210878  ]\n",
      " [3.63039971]\n",
      " ...\n",
      " [7.01001683]\n",
      " [7.44313988]\n",
      " [6.89624747]]\n"
     ]
    },
    {
     "name": "stderr",
     "output_type": "stream",
     "text": [
      "\n",
      " 48%|██████████████████████████████████████▎                                         | 399/834 [04:47<08:19,  1.15s/it]"
     ]
    },
    {
     "name": "stdout",
     "output_type": "stream",
     "text": [
      "[[3.71580891]\n",
      " [5.5496672 ]\n",
      " [3.28910235]\n",
      " ...\n",
      " [5.87461272]\n",
      " [5.96654255]\n",
      " [4.94035809]]\n",
      "[[3.84630035]\n",
      " [5.15482522]\n",
      " [3.77827731]\n",
      " ...\n",
      " [5.92777337]\n",
      " [5.59226822]\n",
      " [5.34416141]]\n"
     ]
    },
    {
     "name": "stderr",
     "output_type": "stream",
     "text": [
      "\n",
      " 48%|██████████████████████████████████████▎                                         | 400/834 [04:48<08:16,  1.14s/it]"
     ]
    },
    {
     "name": "stdout",
     "output_type": "stream",
     "text": [
      "[[3.94279694]\n",
      " [4.97587936]\n",
      " [3.04699683]\n",
      " ...\n",
      " [6.05963278]\n",
      " [3.77009006]\n",
      " [5.51056801]]\n",
      "[[3.98998695]\n",
      " [4.61660495]\n",
      " [3.49109754]\n",
      " ...\n",
      " [5.50980237]\n",
      " [3.91677352]\n",
      " [5.46934316]]\n"
     ]
    },
    {
     "name": "stderr",
     "output_type": "stream",
     "text": [
      "\n",
      " 48%|██████████████████████████████████████▍                                         | 401/834 [04:49<08:14,  1.14s/it]"
     ]
    },
    {
     "name": "stdout",
     "output_type": "stream",
     "text": [
      "[[6.61298461]\n",
      " [4.202373  ]\n",
      " [5.32683728]\n",
      " ...\n",
      " [0.8008081 ]\n",
      " [4.42352678]\n",
      " [5.83764094]]\n",
      "[[6.17381692]\n",
      " [4.56985925]\n",
      " [5.26582207]\n",
      " ...\n",
      " [1.32270977]\n",
      " [4.45138309]\n",
      " [5.50931879]]\n"
     ]
    },
    {
     "name": "stderr",
     "output_type": "stream",
     "text": [
      "\n",
      " 48%|██████████████████████████████████████▌                                         | 402/834 [04:50<08:13,  1.14s/it]"
     ]
    },
    {
     "name": "stdout",
     "output_type": "stream",
     "text": [
      "[[4.17281492]\n",
      " [3.85176965]\n",
      " [5.15928775]\n",
      " ...\n",
      " [5.37444611]\n",
      " [6.39476408]\n",
      " [5.2881249 ]]\n",
      "[[4.54422971]\n",
      " [3.97290059]\n",
      " [4.85755483]\n",
      " ...\n",
      " [5.46473307]\n",
      " [5.96300995]\n",
      " [5.73195726]]\n"
     ]
    },
    {
     "name": "stderr",
     "output_type": "stream",
     "text": [
      "\n",
      " 48%|██████████████████████████████████████▋                                         | 403/834 [04:51<08:16,  1.15s/it]"
     ]
    },
    {
     "name": "stdout",
     "output_type": "stream",
     "text": [
      "[[5.85546604]\n",
      " [5.95126389]\n",
      " [4.41011766]\n",
      " ...\n",
      " [4.41089126]\n",
      " [3.56089489]\n",
      " [6.6273285 ]]\n",
      "[[5.97281043]\n",
      " [5.6296003 ]\n",
      " [4.86767769]\n",
      " ...\n",
      " [4.07960973]\n",
      " [4.01306965]\n",
      " [6.77412837]]\n"
     ]
    },
    {
     "name": "stderr",
     "output_type": "stream",
     "text": [
      "\n",
      " 48%|██████████████████████████████████████▊                                         | 404/834 [04:53<08:14,  1.15s/it]"
     ]
    },
    {
     "name": "stdout",
     "output_type": "stream",
     "text": [
      "[[7.52142024]\n",
      " [6.19994504]\n",
      " [3.51841119]\n",
      " ...\n",
      " [4.18232379]\n",
      " [0.14972443]\n",
      " [5.79219176]]\n",
      "[[7.2204047 ]\n",
      " [6.69085656]\n",
      " [3.63027076]\n",
      " ...\n",
      " [3.98186287]\n",
      " [0.54892343]\n",
      " [6.00037427]]\n"
     ]
    },
    {
     "name": "stderr",
     "output_type": "stream",
     "text": [
      "\n",
      " 49%|██████████████████████████████████████▊                                         | 405/834 [04:54<08:14,  1.15s/it]"
     ]
    },
    {
     "name": "stdout",
     "output_type": "stream",
     "text": [
      "[[5.90604034]\n",
      " [4.64580872]\n",
      " [3.90289191]\n",
      " ...\n",
      " [3.57414285]\n",
      " [5.22281991]\n",
      " [5.82013817]]\n",
      "[[5.69517323]\n",
      " [5.24925153]\n",
      " [4.07657932]\n",
      " ...\n",
      " [3.98041214]\n",
      " [5.18077714]\n",
      " [5.34622467]]\n"
     ]
    },
    {
     "name": "stderr",
     "output_type": "stream",
     "text": [
      "\n",
      " 49%|██████████████████████████████████████▉                                         | 406/834 [04:55<08:15,  1.16s/it]"
     ]
    },
    {
     "name": "stdout",
     "output_type": "stream",
     "text": [
      "[[3.27852978]\n",
      " [5.3570078 ]\n",
      " [6.50748449]\n",
      " ...\n",
      " [0.97299925]\n",
      " [4.53176674]\n",
      " [5.96957249]]\n",
      "[[3.58610414]\n",
      " [5.41511815]\n",
      " [6.16227557]\n",
      " ...\n",
      " [1.09027083]\n",
      " [4.39148412]\n",
      " [5.47243805]]\n"
     ]
    },
    {
     "name": "stderr",
     "output_type": "stream",
     "text": [
      "\n",
      " 49%|███████████████████████████████████████                                         | 407/834 [04:56<08:15,  1.16s/it]"
     ]
    },
    {
     "name": "stdout",
     "output_type": "stream",
     "text": [
      "[[4.14786622]\n",
      " [4.0090367 ]\n",
      " [5.29315332]\n",
      " ...\n",
      " [1.41778878]\n",
      " [4.86228864]\n",
      " [5.88241322]]\n",
      "[[4.36018063]\n",
      " [3.868158  ]\n",
      " [4.79923555]\n",
      " ...\n",
      " [1.41407343]\n",
      " [4.87422209]\n",
      " [5.96468635]]\n"
     ]
    },
    {
     "name": "stderr",
     "output_type": "stream",
     "text": [
      "\n",
      " 49%|███████████████████████████████████████▏                                        | 408/834 [04:57<08:20,  1.17s/it]"
     ]
    },
    {
     "name": "stdout",
     "output_type": "stream",
     "text": [
      "[[6.8565084 ]\n",
      " [5.64533611]\n",
      " [6.27753098]\n",
      " ...\n",
      " [2.97527738]\n",
      " [4.62553387]\n",
      " [3.78543318]]\n",
      "[[6.45116397]\n",
      " [6.06739792]\n",
      " [6.3624761 ]\n",
      " ...\n",
      " [2.90854945]\n",
      " [4.16397766]\n",
      " [4.1079473 ]]\n"
     ]
    },
    {
     "name": "stderr",
     "output_type": "stream",
     "text": [
      "\n",
      " 49%|███████████████████████████████████████▏                                        | 409/834 [04:59<08:34,  1.21s/it]"
     ]
    },
    {
     "name": "stdout",
     "output_type": "stream",
     "text": [
      "[[6.9389616 ]\n",
      " [7.80165795]\n",
      " [6.519153  ]\n",
      " ...\n",
      " [3.48218078]\n",
      " [3.31772566]\n",
      " [4.15437738]]\n",
      "[[6.95898342]\n",
      " [7.37750248]\n",
      " [6.87106928]\n",
      " ...\n",
      " [3.71209185]\n",
      " [3.26597671]\n",
      " [3.74526517]]\n"
     ]
    },
    {
     "name": "stderr",
     "output_type": "stream",
     "text": [
      "\n",
      " 49%|███████████████████████████████████████▎                                        | 410/834 [05:00<08:30,  1.20s/it]"
     ]
    },
    {
     "name": "stdout",
     "output_type": "stream",
     "text": [
      "[[0.34193255]\n",
      " [5.81942903]\n",
      " [5.89311472]\n",
      " ...\n",
      " [3.57630249]\n",
      " [6.2579975 ]\n",
      " [7.08401217]]\n",
      "[[0.46858531]\n",
      " [5.82506179]\n",
      " [5.46737662]\n",
      " ...\n",
      " [3.75413074]\n",
      " [6.17849149]\n",
      " [6.57038161]]\n"
     ]
    },
    {
     "name": "stderr",
     "output_type": "stream",
     "text": [
      "\n",
      " 49%|███████████████████████████████████████▍                                        | 411/834 [05:01<08:23,  1.19s/it]"
     ]
    },
    {
     "name": "stdout",
     "output_type": "stream",
     "text": [
      "[[3.85650796]\n",
      " [5.11151776]\n",
      " [5.79996002]\n",
      " ...\n",
      " [4.58140627]\n",
      " [4.53147664]\n",
      " [3.56930783]]\n",
      "[[4.11832807]\n",
      " [4.91887229]\n",
      " [5.17013847]\n",
      " ...\n",
      " [4.12100385]\n",
      " [4.41853215]\n",
      " [3.4715933 ]]\n"
     ]
    },
    {
     "name": "stderr",
     "output_type": "stream",
     "text": [
      "\n",
      " 49%|███████████████████████████████████████▌                                        | 412/834 [05:02<08:19,  1.18s/it]"
     ]
    },
    {
     "name": "stdout",
     "output_type": "stream",
     "text": [
      "[[4.4799998 ]\n",
      " [1.01432255]\n",
      " [4.34055785]\n",
      " ...\n",
      " [5.66303228]\n",
      " [4.53408755]\n",
      " [1.75037363]]\n",
      "[[4.01635797]\n",
      " [1.1309557 ]\n",
      " [4.27320139]\n",
      " ...\n",
      " [5.12552051]\n",
      " [4.80042837]\n",
      " [1.52687563]]\n"
     ]
    },
    {
     "name": "stderr",
     "output_type": "stream",
     "text": [
      "\n",
      " 50%|███████████████████████████████████████▌                                        | 413/834 [05:03<08:14,  1.17s/it]"
     ]
    },
    {
     "name": "stdout",
     "output_type": "stream",
     "text": [
      "[[4.67894472]\n",
      " [5.66038914]\n",
      " [6.62146201]\n",
      " ...\n",
      " [4.29182085]\n",
      " [2.49835109]\n",
      " [3.00254688]]\n",
      "[[4.53942619]\n",
      " [5.60168184]\n",
      " [6.05376108]\n",
      " ...\n",
      " [3.7746666 ]\n",
      " [2.90835602]\n",
      " [2.9010379 ]]\n"
     ]
    },
    {
     "name": "stderr",
     "output_type": "stream",
     "text": [
      "\n",
      " 50%|███████████████████████████████████████▋                                        | 414/834 [05:04<08:16,  1.18s/it]"
     ]
    },
    {
     "name": "stdout",
     "output_type": "stream",
     "text": [
      "[[4.56735248]\n",
      " [3.88800006]\n",
      " [6.93909053]\n",
      " ...\n",
      " [4.91798807]\n",
      " [5.68172769]\n",
      " [3.79684383]]\n",
      "[[4.03647474]\n",
      " [4.15682073]\n",
      " [6.9061769 ]\n",
      " ...\n",
      " [4.99050604]\n",
      " [5.33075023]\n",
      " [4.1695549 ]]\n"
     ]
    },
    {
     "name": "stderr",
     "output_type": "stream",
     "text": [
      "\n",
      " 50%|███████████████████████████████████████▊                                        | 415/834 [05:06<08:14,  1.18s/it]"
     ]
    },
    {
     "name": "stdout",
     "output_type": "stream",
     "text": [
      "[[3.12967565]\n",
      " [4.02325166]\n",
      " [0.57137033]\n",
      " ...\n",
      " [4.64264984]\n",
      " [3.51190003]\n",
      " [6.11546114]]\n",
      "[[3.15301332]\n",
      " [3.6863656 ]\n",
      " [0.80283315]\n",
      " ...\n",
      " [4.1634296 ]\n",
      " [3.82395913]\n",
      " [6.13596902]]\n"
     ]
    },
    {
     "name": "stderr",
     "output_type": "stream",
     "text": [
      "\n",
      " 50%|███████████████████████████████████████▉                                        | 416/834 [05:07<08:10,  1.17s/it]"
     ]
    },
    {
     "name": "stdout",
     "output_type": "stream",
     "text": [
      "[[6.93490018]\n",
      " [3.97915628]\n",
      " [5.02487422]\n",
      " ...\n",
      " [5.30985025]\n",
      " [3.38983192]\n",
      " [4.24907928]]\n",
      "[[6.50861282]\n",
      " [4.33890327]\n",
      " [4.92251523]\n",
      " ...\n",
      " [5.85062685]\n",
      " [3.56747033]\n",
      " [4.01003924]]\n"
     ]
    },
    {
     "name": "stderr",
     "output_type": "stream",
     "text": [
      "\n",
      " 50%|████████████████████████████████████████                                        | 417/834 [05:08<08:09,  1.17s/it]"
     ]
    },
    {
     "name": "stdout",
     "output_type": "stream",
     "text": [
      "[[4.34410353]\n",
      " [3.28781301]\n",
      " [4.3028447 ]\n",
      " ...\n",
      " [2.12895563]\n",
      " [3.8226306 ]\n",
      " [5.44635896]]\n",
      "[[4.46940436]\n",
      " [3.43426122]\n",
      " [4.08251119]\n",
      " ...\n",
      " [2.05265187]\n",
      " [3.76889593]\n",
      " [5.04479552]]\n"
     ]
    },
    {
     "name": "stderr",
     "output_type": "stream",
     "text": [
      "\n",
      " 50%|████████████████████████████████████████                                        | 418/834 [05:09<08:07,  1.17s/it]"
     ]
    },
    {
     "name": "stdout",
     "output_type": "stream",
     "text": [
      "[[4.48225614]\n",
      " [1.36740788]\n",
      " [4.57624891]\n",
      " ...\n",
      " [2.93189114]\n",
      " [3.69911197]\n",
      " [4.19557174]]\n",
      "[[4.88669836]\n",
      " [1.2075864 ]\n",
      " [4.56731242]\n",
      " ...\n",
      " [2.38883402]\n",
      " [3.74877916]\n",
      " [3.80239164]]\n"
     ]
    },
    {
     "name": "stderr",
     "output_type": "stream",
     "text": [
      "\n",
      " 50%|████████████████████████████████████████▏                                       | 419/834 [05:10<08:09,  1.18s/it]"
     ]
    },
    {
     "name": "stdout",
     "output_type": "stream",
     "text": [
      "[[2.35226904]\n",
      " [3.03877729]\n",
      " [4.6818135 ]\n",
      " ...\n",
      " [4.50778504]\n",
      " [4.71594873]\n",
      " [5.33321951]]\n",
      "[[2.90110238]\n",
      " [3.07689843]\n",
      " [4.31875427]\n",
      " ...\n",
      " [5.03225478]\n",
      " [4.91716365]\n",
      " [5.07787213]]\n"
     ]
    },
    {
     "name": "stderr",
     "output_type": "stream",
     "text": [
      "\n",
      " 50%|████████████████████████████████████████▎                                       | 420/834 [05:11<08:09,  1.18s/it]"
     ]
    },
    {
     "name": "stdout",
     "output_type": "stream",
     "text": [
      "[[3.62014   ]\n",
      " [3.0069951 ]\n",
      " [3.69127924]\n",
      " ...\n",
      " [6.19211231]\n",
      " [4.51297463]\n",
      " [3.27263105]]\n",
      "[[4.13870274]\n",
      " [3.16271708]\n",
      " [3.51440591]\n",
      " ...\n",
      " [5.8744188 ]\n",
      " [4.96239415]\n",
      " [3.2946689 ]]\n"
     ]
    },
    {
     "name": "stderr",
     "output_type": "stream",
     "text": [
      "\n",
      " 50%|████████████████████████████████████████▍                                       | 421/834 [05:13<08:08,  1.18s/it]"
     ]
    },
    {
     "name": "stdout",
     "output_type": "stream",
     "text": [
      "[[4.52477208]\n",
      " [3.39595627]\n",
      " [5.95119942]\n",
      " ...\n",
      " [5.74252   ]\n",
      " [6.69124745]\n",
      " [5.40210241]]\n",
      "[[4.14698801]\n",
      " [3.78917389]\n",
      " [6.0771984 ]\n",
      " ...\n",
      " [5.86223268]\n",
      " [6.37566161]\n",
      " [5.86274849]]\n"
     ]
    },
    {
     "name": "stderr",
     "output_type": "stream",
     "text": [
      "\n",
      " 51%|████████████████████████████████████████▍                                       | 422/834 [05:14<08:08,  1.18s/it]"
     ]
    },
    {
     "name": "stdout",
     "output_type": "stream",
     "text": [
      "[[3.26905314]\n",
      " [3.87716961]\n",
      " [4.5483992 ]\n",
      " ...\n",
      " [2.17878856]\n",
      " [2.32880308]\n",
      " [2.12885893]]\n",
      "[[3.35582517]\n",
      " [3.56837301]\n",
      " [4.59094317]\n",
      " ...\n",
      " [2.19440417]\n",
      " [2.32716194]\n",
      " [2.1313136 ]]\n"
     ]
    },
    {
     "name": "stderr",
     "output_type": "stream",
     "text": [
      "\n",
      " 51%|████████████████████████████████████████▌                                       | 423/834 [05:15<08:10,  1.19s/it]"
     ]
    },
    {
     "name": "stdout",
     "output_type": "stream",
     "text": [
      "[[3.74539922]\n",
      " [5.38782299]\n",
      " [4.40193036]\n",
      " ...\n",
      " [3.87014272]\n",
      " [4.23186662]\n",
      " [4.47294067]]\n",
      "[[3.75445312]\n",
      " [5.0486319 ]\n",
      " [4.86729083]\n",
      " ...\n",
      " [4.35582844]\n",
      " [4.28809554]\n",
      " [4.13651053]]\n"
     ]
    },
    {
     "name": "stderr",
     "output_type": "stream",
     "text": [
      "\n",
      " 51%|████████████████████████████████████████▋                                       | 424/834 [05:16<08:08,  1.19s/it]"
     ]
    },
    {
     "name": "stdout",
     "output_type": "stream",
     "text": [
      "[[3.76680224]\n",
      " [4.66250565]\n",
      " [2.36787004]\n",
      " ...\n",
      " [5.74335807]\n",
      " [6.47312362]\n",
      " [4.72645684]]\n",
      "[[3.84755765]\n",
      " [4.31985037]\n",
      " [2.96486995]\n",
      " ...\n",
      " [5.75072001]\n",
      " [6.01011027]\n",
      " [5.04002424]]\n"
     ]
    },
    {
     "name": "stderr",
     "output_type": "stream",
     "text": [
      "\n",
      " 51%|████████████████████████████████████████▊                                       | 425/834 [05:17<08:07,  1.19s/it]"
     ]
    },
    {
     "name": "stdout",
     "output_type": "stream",
     "text": [
      "[[4.88417516]\n",
      " [5.45841427]\n",
      " [3.78768953]\n",
      " ...\n",
      " [3.78259664]\n",
      " [6.29119797]\n",
      " [6.93245044]]\n",
      "[[4.86767769]\n",
      " [4.97703038]\n",
      " [4.12268025]\n",
      " ...\n",
      " [3.9471421 ]\n",
      " [6.25022195]\n",
      " [6.50467973]]\n"
     ]
    },
    {
     "name": "stderr",
     "output_type": "stream",
     "text": [
      "\n",
      " 51%|████████████████████████████████████████▊                                       | 426/834 [05:19<08:10,  1.20s/it]"
     ]
    },
    {
     "name": "stdout",
     "output_type": "stream",
     "text": [
      "[[4.71092031]\n",
      " [4.74418524]\n",
      " [5.51018121]\n",
      " ...\n",
      " [3.85099604]\n",
      " [5.84727874]\n",
      " [6.73054004]]\n",
      "[[5.04089468]\n",
      " [4.57759647]\n",
      " [4.78688824]\n",
      " ...\n",
      " [4.27107366]\n",
      " [5.95491811]\n",
      " [6.39610076]]\n"
     ]
    },
    {
     "name": "stderr",
     "output_type": "stream",
     "text": [
      "\n",
      " 51%|████████████████████████████████████████▉                                       | 427/834 [05:20<08:09,  1.20s/it]"
     ]
    },
    {
     "name": "stdout",
     "output_type": "stream",
     "text": [
      "[[5.52977915]\n",
      " [3.36472205]\n",
      " [3.91133708]\n",
      " ...\n",
      " [2.17492054]\n",
      " [2.46982448]\n",
      " [2.63321589]]\n",
      "[[5.99299167]\n",
      " [3.45060609]\n",
      " [3.61918075]\n",
      " ...\n",
      " [1.98878758]\n",
      " [2.29553606]\n",
      " [2.46211193]]\n"
     ]
    },
    {
     "name": "stderr",
     "output_type": "stream",
     "text": [
      "\n",
      " 51%|█████████████████████████████████████████                                       | 428/834 [05:21<08:10,  1.21s/it]"
     ]
    },
    {
     "name": "stdout",
     "output_type": "stream",
     "text": [
      "[[2.49557901]\n",
      " [4.26732342]\n",
      " [5.83025948]\n",
      " ...\n",
      " [3.70878201]\n",
      " [5.02906457]\n",
      " [5.50998781]]\n",
      "[[2.31771609]\n",
      " [4.10620642]\n",
      " [5.27881415]\n",
      " ...\n",
      " [3.55380125]\n",
      " [4.87786503]\n",
      " [5.00830164]]\n"
     ]
    },
    {
     "name": "stderr",
     "output_type": "stream",
     "text": [
      "\n",
      " 51%|█████████████████████████████████████████▏                                      | 429/834 [05:22<08:11,  1.21s/it]"
     ]
    },
    {
     "name": "stdout",
     "output_type": "stream",
     "text": [
      "[[4.06915211]\n",
      " [5.02410062]\n",
      " [5.49445128]\n",
      " ...\n",
      " [6.1648428 ]\n",
      " [6.79558716]\n",
      " [5.4749178 ]]\n",
      "[[4.31288688]\n",
      " [4.87083706]\n",
      " [4.9413747 ]\n",
      " ...\n",
      " [5.92819247]\n",
      " [6.16707909]\n",
      " [5.65252181]]\n"
     ]
    },
    {
     "name": "stderr",
     "output_type": "stream",
     "text": [
      "\n",
      " 52%|█████████████████████████████████████████▏                                      | 430/834 [05:24<08:11,  1.22s/it]"
     ]
    },
    {
     "name": "stdout",
     "output_type": "stream",
     "text": [
      "[[5.84895488]\n",
      " [6.69237562]\n",
      " [4.82786331]\n",
      " ...\n",
      " [4.80803973]\n",
      " [2.20567126]\n",
      " [5.36142379]]\n",
      "[[5.80194685]\n",
      " [6.15721414]\n",
      " [5.11330215]\n",
      " ...\n",
      " [4.41221342]\n",
      " [2.64951382]\n",
      " [5.37511028]]\n"
     ]
    },
    {
     "name": "stderr",
     "output_type": "stream",
     "text": [
      "\n",
      " 52%|█████████████████████████████████████████▎                                      | 431/834 [05:25<08:08,  1.21s/it]"
     ]
    },
    {
     "name": "stdout",
     "output_type": "stream",
     "text": [
      "[[6.48804771]\n",
      " [4.77558064]\n",
      " [3.38967075]\n",
      " ...\n",
      " [5.45119398]\n",
      " [4.34042891]\n",
      " [5.77591386]]\n",
      "[[6.0659472 ]\n",
      " [5.1167839 ]\n",
      " [3.31813846]\n",
      " ...\n",
      " [5.76129421]\n",
      " [4.45808868]\n",
      " [5.41008896]]\n"
     ]
    },
    {
     "name": "stderr",
     "output_type": "stream",
     "text": [
      "\n",
      " 52%|█████████████████████████████████████████▍                                      | 432/834 [05:26<08:06,  1.21s/it]"
     ]
    },
    {
     "name": "stdout",
     "output_type": "stream",
     "text": [
      "[[3.87865235]\n",
      " [5.85140463]\n",
      " [6.90663144]\n",
      " ...\n",
      " [4.86425489]\n",
      " [2.84524759]\n",
      " [2.68446709]]\n",
      "[[4.29966913]\n",
      " [5.98306224]\n",
      " [6.58911213]\n",
      " ...\n",
      " [4.39219337]\n",
      " [2.68226804]\n",
      " [2.53203705]]\n"
     ]
    },
    {
     "name": "stderr",
     "output_type": "stream",
     "text": [
      "\n",
      " 52%|█████████████████████████████████████████▌                                      | 433/834 [05:27<08:04,  1.21s/it]"
     ]
    },
    {
     "name": "stdout",
     "output_type": "stream",
     "text": [
      "[[2.16260736]\n",
      " [2.59943522]\n",
      " [2.67969654]\n",
      " ...\n",
      " [6.76741512]\n",
      " [5.36326109]\n",
      " [3.54497156]]\n",
      "[[2.01219267]\n",
      " [2.48409853]\n",
      " [2.57739649]\n",
      " ...\n",
      " [6.46796018]\n",
      " [5.83244438]\n",
      " [3.6119271 ]]\n"
     ]
    },
    {
     "name": "stderr",
     "output_type": "stream",
     "text": [
      "\n",
      " 52%|█████████████████████████████████████████▋                                      | 434/834 [05:28<08:05,  1.21s/it]"
     ]
    },
    {
     "name": "stdout",
     "output_type": "stream",
     "text": [
      "[[5.04360186]\n",
      " [5.75560678]\n",
      " [3.86021481]\n",
      " ...\n",
      " [4.20101919]\n",
      " [2.54019012]\n",
      " [6.36017757]]\n",
      "[[5.10601627]\n",
      " [5.4791114 ]\n",
      " [4.2997336 ]\n",
      " ...\n",
      " [3.64355299]\n",
      " [2.80151793]\n",
      " [6.02200624]]\n"
     ]
    },
    {
     "name": "stderr",
     "output_type": "stream",
     "text": [
      "\n",
      " 52%|█████████████████████████████████████████▋                                      | 435/834 [05:30<08:07,  1.22s/it]"
     ]
    },
    {
     "name": "stdout",
     "output_type": "stream",
     "text": [
      "[[6.92290933]\n",
      " [5.30949568]\n",
      " [6.10179415]\n",
      " ...\n",
      " [5.20106232]\n",
      " [3.3094739 ]\n",
      " [4.92546623]]\n",
      "[[6.20373417]\n",
      " [5.40219055]\n",
      " [5.90884942]\n",
      " ...\n",
      " [5.35599291]\n",
      " [3.10472018]\n",
      " [4.42346463]]\n"
     ]
    },
    {
     "name": "stderr",
     "output_type": "stream",
     "text": [
      "\n",
      " 52%|█████████████████████████████████████████▊                                      | 436/834 [05:31<08:08,  1.23s/it]"
     ]
    },
    {
     "name": "stdout",
     "output_type": "stream",
     "text": [
      "[[2.13217897]\n",
      " [5.50299315]\n",
      " [6.5437149 ]\n",
      " ...\n",
      " [6.51006317]\n",
      " [5.45828534]\n",
      " [4.57399257]]\n",
      "[[2.43248483]\n",
      " [5.35115714]\n",
      " [6.01459141]\n",
      " ...\n",
      " [5.84334097]\n",
      " [5.62324933]\n",
      " [4.3862615 ]]\n"
     ]
    },
    {
     "name": "stderr",
     "output_type": "stream",
     "text": [
      "\n",
      " 52%|█████████████████████████████████████████▉                                      | 437/834 [05:32<08:05,  1.22s/it]"
     ]
    },
    {
     "name": "stdout",
     "output_type": "stream",
     "text": [
      "[[5.88170408]\n",
      " [3.97319309]\n",
      " [6.10914338]\n",
      " ...\n",
      " [3.36049947]\n",
      " [3.0740407 ]\n",
      " [4.66302139]]\n",
      "[[5.31073018]\n",
      " [4.2467659 ]\n",
      " [5.9125246 ]\n",
      " ...\n",
      " [3.82447495]\n",
      " [3.09240511]\n",
      " [4.32175244]]\n"
     ]
    },
    {
     "name": "stderr",
     "output_type": "stream",
     "text": [
      "\n",
      " 53%|██████████████████████████████████████████                                      | 438/834 [05:33<08:01,  1.22s/it]"
     ]
    },
    {
     "name": "stdout",
     "output_type": "stream",
     "text": [
      "[[2.66686762]\n",
      " [2.53561297]\n",
      " [1.97623349]\n",
      " ...\n",
      " [5.83889804]\n",
      " [6.69827435]\n",
      " [5.07799497]]\n",
      "[[2.63748889]\n",
      " [2.49825119]\n",
      " [1.9592572 ]\n",
      " ...\n",
      " [5.90049967]\n",
      " [6.35222429]\n",
      " [5.54765026]]\n"
     ]
    },
    {
     "name": "stderr",
     "output_type": "stream",
     "text": [
      "\n",
      " 53%|██████████████████████████████████████████                                      | 439/834 [05:34<07:59,  1.21s/it]"
     ]
    },
    {
     "name": "stdout",
     "output_type": "stream",
     "text": [
      "[[3.48785387]\n",
      " [4.95408954]\n",
      " [5.74123066]\n",
      " ...\n",
      " [3.63954454]\n",
      " [4.16814106]\n",
      " [2.35075407]]\n",
      "[[3.53735966]\n",
      " [4.99202125]\n",
      " [5.37936575]\n",
      " ...\n",
      " [3.80468056]\n",
      " [3.82163797]\n",
      " [2.8832423 ]]\n"
     ]
    },
    {
     "name": "stderr",
     "output_type": "stream",
     "text": [
      "\n",
      " 53%|██████████████████████████████████████████▏                                     | 440/834 [05:36<07:59,  1.22s/it]"
     ]
    },
    {
     "name": "stdout",
     "output_type": "stream",
     "text": [
      "[[6.24068813]\n",
      " [6.75184636]\n",
      " [5.04286049]\n",
      " ...\n",
      " [5.6351181 ]\n",
      " [6.58897068]\n",
      " [4.58817529]]\n",
      "[[6.12465334]\n",
      " [6.26060272]\n",
      " [5.36811455]\n",
      " ...\n",
      " [5.65890502]\n",
      " [6.19912407]\n",
      " [4.93950487]]\n"
     ]
    },
    {
     "name": "stderr",
     "output_type": "stream",
     "text": [
      "\n",
      " 53%|██████████████████████████████████████████▎                                     | 441/834 [05:37<07:58,  1.22s/it]"
     ]
    },
    {
     "name": "stdout",
     "output_type": "stream",
     "text": [
      "[[2.91667694]\n",
      " [4.39844914]\n",
      " [1.17181524]\n",
      " ...\n",
      " [5.07374015]\n",
      " [3.77266873]\n",
      " [4.70631093]]\n",
      "[[2.86867054]\n",
      " [4.07380682]\n",
      " [1.28476516]\n",
      " ...\n",
      " [4.50535019]\n",
      " [3.90510321]\n",
      " [4.5667966 ]]\n"
     ]
    },
    {
     "name": "stderr",
     "output_type": "stream",
     "text": [
      "\n",
      " 53%|██████████████████████████████████████████▍                                     | 442/834 [05:38<07:56,  1.21s/it]"
     ]
    },
    {
     "name": "stdout",
     "output_type": "stream",
     "text": [
      "[[6.3248497 ]\n",
      " [5.46067061]\n",
      " [4.29262669]\n",
      " ...\n",
      " [5.76682403]\n",
      " [3.10266401]\n",
      " [2.84750394]]\n",
      "[[5.85078804]\n",
      " [5.58727127]\n",
      " [4.32043066]\n",
      " ...\n",
      " [5.47014912]\n",
      " [3.67791913]\n",
      " [2.9983979 ]]\n"
     ]
    },
    {
     "name": "stderr",
     "output_type": "stream",
     "text": [
      "\n",
      " 53%|██████████████████████████████████████████▍                                     | 443/834 [05:39<07:55,  1.22s/it]"
     ]
    },
    {
     "name": "stdout",
     "output_type": "stream",
     "text": [
      "[[4.42391358]\n",
      " [2.51817467]\n",
      " [2.42637377]\n",
      " ...\n",
      " [3.74871927]\n",
      " [3.33049012]\n",
      " [3.66510567]]\n",
      "[[4.20959501]\n",
      " [2.59951204]\n",
      " [2.52085032]\n",
      " ...\n",
      " [3.62401651]\n",
      " [3.27442318]\n",
      " [3.68223908]]\n"
     ]
    },
    {
     "name": "stderr",
     "output_type": "stream",
     "text": [
      "\n",
      " 53%|██████████████████████████████████████████▌                                     | 444/834 [05:41<07:53,  1.21s/it]"
     ]
    },
    {
     "name": "stdout",
     "output_type": "stream",
     "text": [
      "[[5.7862608 ]\n",
      " [6.74349789]\n",
      " [5.14426696]\n",
      " ...\n",
      " [5.82922801]\n",
      " [6.37526283]\n",
      " [4.6568648 ]]\n",
      "[[5.75429848]\n",
      " [6.30908929]\n",
      " [5.50267768]\n",
      " ...\n",
      " [6.01339859]\n",
      " [6.1745584 ]\n",
      " [5.14086599]]\n"
     ]
    },
    {
     "name": "stderr",
     "output_type": "stream",
     "text": [
      "\n",
      " 53%|██████████████████████████████████████████▋                                     | 445/834 [05:42<07:51,  1.21s/it]"
     ]
    },
    {
     "name": "stdout",
     "output_type": "stream",
     "text": [
      "[[3.77550528]\n",
      " [4.34735911]\n",
      " [1.66608313]\n",
      " ...\n",
      " [5.52932789]\n",
      " [4.98806361]\n",
      " [4.71936548]]\n",
      "[[3.95346083]\n",
      " [4.12419546]\n",
      " [2.27828851]\n",
      " ...\n",
      " [5.61164351]\n",
      " [4.75036212]\n",
      " [5.20041033]]\n"
     ]
    },
    {
     "name": "stderr",
     "output_type": "stream",
     "text": [
      "\n",
      " 53%|██████████████████████████████████████████▊                                     | 446/834 [05:43<07:51,  1.22s/it]"
     ]
    },
    {
     "name": "stdout",
     "output_type": "stream",
     "text": [
      "[[5.94265755]\n",
      " [6.88654999]\n",
      " [5.04659957]\n",
      " ...\n",
      " [3.89895943]\n",
      " [4.79533975]\n",
      " [3.31772566]]\n",
      "[[5.95723927]\n",
      " [6.47070045]\n",
      " [5.37362732]\n",
      " ...\n",
      " [3.74207357]\n",
      " [4.25669533]\n",
      " [3.557283  ]]\n"
     ]
    },
    {
     "name": "stderr",
     "output_type": "stream",
     "text": [
      "\n",
      " 54%|██████████████████████████████████████████▉                                     | 447/834 [05:44<07:52,  1.22s/it]"
     ]
    },
    {
     "name": "stdout",
     "output_type": "stream",
     "text": [
      "[[4.88333709]\n",
      " [6.37545623]\n",
      " [5.25701961]\n",
      " ...\n",
      " [3.30570258]\n",
      " [0.92990311]\n",
      " [5.60488312]]\n",
      "[[4.72605435]\n",
      " [5.79117922]\n",
      " [5.44261752]\n",
      " ...\n",
      " [2.92499104]\n",
      " [1.18627681]\n",
      " [5.21395047]]\n"
     ]
    },
    {
     "name": "stderr",
     "output_type": "stream",
     "text": [
      "\n",
      " 54%|██████████████████████████████████████████▉                                     | 448/834 [05:45<07:52,  1.22s/it]"
     ]
    },
    {
     "name": "stdout",
     "output_type": "stream",
     "text": [
      "[[3.19807506]\n",
      " [2.82004103]\n",
      " [4.41031106]\n",
      " ...\n",
      " [4.72407156]\n",
      " [5.00933769]\n",
      " [3.87275363]]\n",
      "[[3.6311412 ]\n",
      " [2.90171491]\n",
      " [4.10727029]\n",
      " ...\n",
      " [4.25389058]\n",
      " [5.32288406]\n",
      " [3.88350348]]\n"
     ]
    },
    {
     "name": "stderr",
     "output_type": "stream",
     "text": [
      "\n",
      " 54%|███████████████████████████████████████████                                     | 449/834 [05:47<07:53,  1.23s/it]"
     ]
    },
    {
     "name": "stdout",
     "output_type": "stream",
     "text": [
      "[[2.89894854]\n",
      " [3.17683321]\n",
      " [5.34701543]\n",
      " ...\n",
      " [5.15667684]\n",
      " [2.59801695]\n",
      " [5.42730898]]\n",
      "[[2.94085234]\n",
      " [3.25459656]\n",
      " [5.42185598]\n",
      " ...\n",
      " [4.98918426]\n",
      " [3.21752238]\n",
      " [5.68176205]]\n"
     ]
    },
    {
     "name": "stderr",
     "output_type": "stream",
     "text": [
      "\n",
      " 54%|███████████████████████████████████████████▏                                    | 450/834 [05:48<07:55,  1.24s/it]"
     ]
    },
    {
     "name": "stdout",
     "output_type": "stream",
     "text": [
      "[[6.10069821]\n",
      " [4.39529026]\n",
      " [3.43631257]\n",
      " ...\n",
      " [1.88050011]\n",
      " [5.38343924]\n",
      " [5.37924889]]\n",
      "[[5.9709406 ]\n",
      " [4.91432667]\n",
      " [3.67985344]\n",
      " ...\n",
      " [2.38596481]\n",
      " [5.63675723]\n",
      " [5.26311404]]\n"
     ]
    },
    {
     "name": "stderr",
     "output_type": "stream",
     "text": [
      "\n",
      " 54%|███████████████████████████████████████████▎                                    | 451/834 [05:49<07:53,  1.24s/it]"
     ]
    },
    {
     "name": "stdout",
     "output_type": "stream",
     "text": [
      "[[4.38813443]\n",
      " [5.74316466]\n",
      " [6.68312462]\n",
      " ...\n",
      " [2.63975928]\n",
      " [5.62828461]\n",
      " [3.45807015]]\n",
      "[[4.95375425]\n",
      " [5.92506534]\n",
      " [6.4416214 ]\n",
      " ...\n",
      " [3.09366241]\n",
      " [5.55870804]\n",
      " [4.13425384]]\n"
     ]
    },
    {
     "name": "stderr",
     "output_type": "stream",
     "text": [
      "\n",
      " 54%|███████████████████████████████████████████▎                                    | 452/834 [05:50<07:53,  1.24s/it]"
     ]
    },
    {
     "name": "stdout",
     "output_type": "stream",
     "text": [
      "[[3.53433452]\n",
      " [4.50166068]\n",
      " [3.48843407]\n",
      " ...\n",
      " [6.53746161]\n",
      " [3.64985925]\n",
      " [3.30367188]]\n",
      "[[3.76854131]\n",
      " [4.32349331]\n",
      " [4.09740534]\n",
      " ...\n",
      " [6.09818561]\n",
      " [4.10897893]\n",
      " [2.85490473]]\n"
     ]
    },
    {
     "name": "stderr",
     "output_type": "stream",
     "text": [
      "\n",
      " 54%|███████████████████████████████████████████▍                                    | 453/834 [05:52<07:49,  1.23s/it]"
     ]
    },
    {
     "name": "stdout",
     "output_type": "stream",
     "text": [
      "[[1.42858699]\n",
      " [5.61036281]\n",
      " [3.5797837 ]\n",
      " ...\n",
      " [4.51623021]\n",
      " [5.47588481]\n",
      " [4.68555258]]\n",
      "[[1.72772093]\n",
      " [5.16968713]\n",
      " [3.87405762]\n",
      " ...\n",
      " [4.52920662]\n",
      " [5.45432006]\n",
      " [4.23883525]]\n"
     ]
    },
    {
     "name": "stderr",
     "output_type": "stream",
     "text": [
      "\n",
      " 54%|███████████████████████████████████████████▌                                    | 454/834 [05:53<07:48,  1.23s/it]"
     ]
    },
    {
     "name": "stdout",
     "output_type": "stream",
     "text": [
      "[[5.24116074]\n",
      " [3.96029971]\n",
      " [2.78265021]\n",
      " ...\n",
      " [4.39090651]\n",
      " [3.91701017]\n",
      " [5.15658014]]\n",
      "[[5.5569994 ]\n",
      " [3.97860679]\n",
      " [2.82837252]\n",
      " ...\n",
      " [4.29770259]\n",
      " [3.9058447 ]\n",
      " [4.77679761]]\n"
     ]
    },
    {
     "name": "stderr",
     "output_type": "stream",
     "text": [
      "\n",
      " 55%|███████████████████████████████████████████▋                                    | 455/834 [05:54<07:47,  1.23s/it]"
     ]
    },
    {
     "name": "stdout",
     "output_type": "stream",
     "text": [
      "[[3.05921331]\n",
      " [5.47652948]\n",
      " [6.2318884 ]\n",
      " ...\n",
      " [4.84423791]\n",
      " [3.53388325]\n",
      " [4.83772675]]\n",
      "[[3.39954045]\n",
      " [5.50889969]\n",
      " [5.85755811]\n",
      " ...\n",
      " [5.28371439]\n",
      " [3.5665999 ]\n",
      " [4.45789525]]\n"
     ]
    },
    {
     "name": "stderr",
     "output_type": "stream",
     "text": [
      "\n",
      " 55%|███████████████████████████████████████████▋                                    | 456/834 [05:55<07:48,  1.24s/it]"
     ]
    },
    {
     "name": "stdout",
     "output_type": "stream",
     "text": [
      "[[1.90580338]\n",
      " [5.50273528]\n",
      " [5.72943321]\n",
      " ...\n",
      " [3.33903198]\n",
      " [2.79257812]\n",
      " [5.82555339]]\n",
      "[[2.2551091 ]\n",
      " [5.57843794]\n",
      " [5.40209383]\n",
      " ...\n",
      " [3.6931679 ]\n",
      " [2.94884746]\n",
      " [5.48249643]]\n"
     ]
    },
    {
     "name": "stderr",
     "output_type": "stream",
     "text": [
      "\n",
      " 55%|███████████████████████████████████████████▊                                    | 457/834 [05:57<07:46,  1.24s/it]"
     ]
    },
    {
     "name": "stdout",
     "output_type": "stream",
     "text": [
      "[[3.45516914]\n",
      " [3.7220622 ]\n",
      " [4.78821615]\n",
      " ...\n",
      " [5.18584813]\n",
      " [2.79083751]\n",
      " [5.26401427]]\n",
      "[[3.80219821]\n",
      " [3.68546292]\n",
      " [4.32265512]\n",
      " ...\n",
      " [4.99550299]\n",
      " [3.22835449]\n",
      " [5.44123127]]\n"
     ]
    },
    {
     "name": "stderr",
     "output_type": "stream",
     "text": [
      "\n",
      " 55%|███████████████████████████████████████████▉                                    | 458/834 [05:58<07:48,  1.25s/it]"
     ]
    },
    {
     "name": "stdout",
     "output_type": "stream",
     "text": [
      "[[6.39943793]\n",
      " [3.5620553 ]\n",
      " [3.19349791]\n",
      " ...\n",
      " [5.86552288]\n",
      " [4.36756949]\n",
      " [4.58643469]]\n",
      "[[6.13593679]\n",
      " [4.21098126]\n",
      " [2.92721549]\n",
      " ...\n",
      " [5.51573423]\n",
      " [4.93421777]\n",
      " [4.72328185]]\n"
     ]
    },
    {
     "name": "stderr",
     "output_type": "stream",
     "text": [
      "\n",
      " 55%|████████████████████████████████████████████                                    | 459/834 [05:59<07:48,  1.25s/it]"
     ]
    },
    {
     "name": "stdout",
     "output_type": "stream",
     "text": [
      "[[5.73040021]\n",
      " [4.65367369]\n",
      " [5.5002533 ]\n",
      " ...\n",
      " [2.88238054]\n",
      " [4.25636405]\n",
      " [3.80038951]]\n",
      "[[5.60751699]\n",
      " [4.21278661]\n",
      " [5.89711464]\n",
      " ...\n",
      " [3.38712866]\n",
      " [4.26349763]\n",
      " [3.94901193]]\n"
     ]
    },
    {
     "name": "stderr",
     "output_type": "stream",
     "text": [
      "\n",
      " 55%|████████████████████████████████████████████                                    | 460/834 [06:00<07:47,  1.25s/it]"
     ]
    },
    {
     "name": "stdout",
     "output_type": "stream",
     "text": [
      "[[4.71807614]\n",
      " [2.68375796]\n",
      " [5.28809266]\n",
      " ...\n",
      " [6.06208253]\n",
      " [4.68887263]\n",
      " [3.39305526]]\n",
      "[[4.48213854]\n",
      " [3.20324077]\n",
      " [5.46431397]\n",
      " ...\n",
      " [5.82718952]\n",
      " [5.22055934]\n",
      " [3.53055735]]\n"
     ]
    },
    {
     "name": "stderr",
     "output_type": "stream",
     "text": [
      "\n",
      " 55%|████████████████████████████████████████████▏                                   | 461/834 [06:02<07:55,  1.28s/it]"
     ]
    },
    {
     "name": "stdout",
     "output_type": "stream",
     "text": [
      "[[4.69303074]\n",
      " [2.00862812]\n",
      " [5.37306007]\n",
      " ...\n",
      " [3.68802366]\n",
      " [2.96812155]\n",
      " [4.47974193]]\n",
      "[[4.42655951]\n",
      " [2.44483214]\n",
      " [5.55990086]\n",
      " ...\n",
      " [3.82521643]\n",
      " [3.01577441]\n",
      " [4.12545275]]\n"
     ]
    },
    {
     "name": "stderr",
     "output_type": "stream",
     "text": [
      "\n",
      " 55%|████████████████████████████████████████████▎                                   | 462/834 [06:03<07:59,  1.29s/it]"
     ]
    },
    {
     "name": "stdout",
     "output_type": "stream",
     "text": [
      "[[3.32900738]\n",
      " [2.79683294]\n",
      " [5.82336152]\n",
      " ...\n",
      " [3.1247117 ]\n",
      " [5.05285287]\n",
      " [5.13011647]]\n",
      "[[3.77037889]\n",
      " [3.0633583 ]\n",
      " [5.59178465]\n",
      " ...\n",
      " [3.158784  ]\n",
      " [5.09992321]\n",
      " [4.78359992]]\n"
     ]
    },
    {
     "name": "stderr",
     "output_type": "stream",
     "text": [
      "\n",
      " 56%|████████████████████████████████████████████▍                                   | 463/834 [06:04<08:01,  1.30s/it]"
     ]
    },
    {
     "name": "stdout",
     "output_type": "stream",
     "text": [
      "[[3.23391867]\n",
      " [5.46015488]\n",
      " [6.51351215]\n",
      " ...\n",
      " [4.31747869]\n",
      " [5.67270232]\n",
      " [4.21994024]]\n",
      "[[3.51169788]\n",
      " [5.43832981]\n",
      " [6.07236264]\n",
      " ...\n",
      " [4.29937898]\n",
      " [5.26176003]\n",
      " [4.61889387]]\n"
     ]
    },
    {
     "name": "stderr",
     "output_type": "stream",
     "text": [
      "\n",
      " 56%|████████████████████████████████████████████▌                                   | 464/834 [06:06<07:57,  1.29s/it]"
     ]
    },
    {
     "name": "stdout",
     "output_type": "stream",
     "text": [
      "[[4.53363628]\n",
      " [5.41609174]\n",
      " [4.28163508]\n",
      " ...\n",
      " [4.23170545]\n",
      " [4.46904042]\n",
      " [3.45181686]]\n",
      "[[4.48152601]\n",
      " [5.3354248 ]\n",
      " [3.75248658]\n",
      " ...\n",
      " [4.21327019]\n",
      " [4.07074417]\n",
      " [3.79978033]]\n"
     ]
    },
    {
     "name": "stderr",
     "output_type": "stream",
     "text": [
      "\n",
      " 56%|████████████████████████████████████████████▌                                   | 465/834 [06:07<07:52,  1.28s/it]"
     ]
    },
    {
     "name": "stdout",
     "output_type": "stream",
     "text": [
      "[[4.48464142]\n",
      " [3.89992644]\n",
      " [4.70608529]\n",
      " ...\n",
      " [6.31482509]\n",
      " [4.90415991]\n",
      " [3.68670209]]\n",
      "[[4.34451276]\n",
      " [3.87679789]\n",
      " [4.30202253]\n",
      " ...\n",
      " [6.02445636]\n",
      " [5.3955172 ]\n",
      " [3.78907717]]\n"
     ]
    },
    {
     "name": "stderr",
     "output_type": "stream",
     "text": [
      "\n",
      " 56%|████████████████████████████████████████████▋                                   | 466/834 [06:08<07:54,  1.29s/it]"
     ]
    },
    {
     "name": "stdout",
     "output_type": "stream",
     "text": [
      "[[4.86522189]\n",
      " [2.08460238]\n",
      " [5.62983182]\n",
      " ...\n",
      " [6.48840228]\n",
      " [7.15453898]\n",
      " [4.50797844]]\n",
      "[[4.5644432 ]\n",
      " [2.48928891]\n",
      " [5.76100407]\n",
      " ...\n",
      " [6.23052428]\n",
      " [6.54110914]\n",
      " [4.3473175 ]]\n"
     ]
    },
    {
     "name": "stderr",
     "output_type": "stream",
     "text": [
      "\n",
      " 56%|████████████████████████████████████████████▊                                   | 467/834 [06:09<07:52,  1.29s/it]"
     ]
    },
    {
     "name": "stdout",
     "output_type": "stream",
     "text": [
      "[[3.32916854]\n",
      " [4.94790072]\n",
      " [3.53194925]\n",
      " ...\n",
      " [5.88441169]\n",
      " [4.20040676]\n",
      " [3.00725297]]\n",
      "[[3.08457117]\n",
      " [4.29718677]\n",
      " [3.66512048]\n",
      " ...\n",
      " [5.66106499]\n",
      " [4.6195064 ]\n",
      " [3.08434551]]\n"
     ]
    },
    {
     "name": "stderr",
     "output_type": "stream",
     "text": [
      "\n",
      " 56%|████████████████████████████████████████████▉                                   | 468/834 [06:11<07:53,  1.29s/it]"
     ]
    },
    {
     "name": "stdout",
     "output_type": "stream",
     "text": [
      "[[5.5090208 ]\n",
      " [5.45187088]\n",
      " [2.94259265]\n",
      " ...\n",
      " [2.96444693]\n",
      " [3.47244628]\n",
      " [1.9800048 ]]\n",
      "[[5.58401519]\n",
      " [5.19247969]\n",
      " [3.27539033]\n",
      " ...\n",
      " [2.93756402]\n",
      " [3.13209059]\n",
      " [2.44641183]]\n"
     ]
    },
    {
     "name": "stderr",
     "output_type": "stream",
     "text": [
      "\n",
      " 56%|████████████████████████████████████████████▉                                   | 469/834 [06:12<07:52,  1.29s/it]"
     ]
    },
    {
     "name": "stdout",
     "output_type": "stream",
     "text": [
      "[[4.5300906 ]\n",
      " [5.81946127]\n",
      " [4.38661946]\n",
      " ...\n",
      " [4.23470316]\n",
      " [5.04853358]\n",
      " [2.58725097]]\n",
      "[[4.54600283]\n",
      " [5.46947211]\n",
      " [4.82873369]\n",
      " ...\n",
      " [4.24673366]\n",
      " [4.61998998]\n",
      " [3.00432977]]\n"
     ]
    },
    {
     "name": "stderr",
     "output_type": "stream",
     "text": [
      "\n",
      " 56%|█████████████████████████████████████████████                                   | 470/834 [06:13<07:44,  1.28s/it]"
     ]
    },
    {
     "name": "stdout",
     "output_type": "stream",
     "text": [
      "[[4.32444112]\n",
      " [4.49592313]\n",
      " [3.41075143]\n",
      " ...\n",
      " [2.45006536]\n",
      " [5.63924399]\n",
      " [6.57652856]]\n",
      "[[4.45563856]\n",
      " [4.22652017]\n",
      " [3.86999558]\n",
      " ...\n",
      " [2.96051777]\n",
      " [5.60793609]\n",
      " [6.07935838]]\n"
     ]
    },
    {
     "name": "stderr",
     "output_type": "stream",
     "text": [
      "\n",
      " 56%|█████████████████████████████████████████████▏                                  | 471/834 [06:15<07:41,  1.27s/it]"
     ]
    },
    {
     "name": "stdout",
     "output_type": "stream",
     "text": [
      "[[4.83253716]\n",
      " [5.18468772]\n",
      " [6.47467083]\n",
      " ...\n",
      " [6.96848745]\n",
      " [3.98811718]\n",
      " [6.24881097]]\n",
      "[[5.14434774]\n",
      " [5.2607284 ]\n",
      " [6.16047022]\n",
      " ...\n",
      " [6.94505643]\n",
      " [4.09327882]\n",
      " [6.31260328]]\n"
     ]
    },
    {
     "name": "stderr",
     "output_type": "stream",
     "text": [
      "\n",
      " 57%|█████████████████████████████████████████████▎                                  | 472/834 [06:16<07:32,  1.25s/it]"
     ]
    },
    {
     "name": "stdout",
     "output_type": "stream",
     "text": [
      "[[7.01329196]\n",
      " [4.36563548]\n",
      " [3.12458277]\n",
      " ...\n",
      " [4.95428294]\n",
      " [5.73755604]\n",
      " [5.96912123]]\n",
      "[[6.67692956]\n",
      " [4.47056495]\n",
      " [3.14272927]\n",
      " ...\n",
      " [5.49558523]\n",
      " [5.86020166]\n",
      " [5.76938605]]\n"
     ]
    },
    {
     "name": "stderr",
     "output_type": "stream",
     "text": [
      "\n",
      " 57%|█████████████████████████████████████████████▎                                  | 473/834 [06:17<07:30,  1.25s/it]"
     ]
    },
    {
     "name": "stdout",
     "output_type": "stream",
     "text": [
      "[[3.92574544]\n",
      " [3.0319438 ]\n",
      " [5.56626743]\n",
      " ...\n",
      " [5.21653438]\n",
      " [4.19296083]\n",
      " [2.99281238]]\n",
      "[[4.37372076]\n",
      " [3.09643491]\n",
      " [5.63285638]\n",
      " ...\n",
      " [4.83360169]\n",
      " [4.60928683]\n",
      " [2.96019538]]\n"
     ]
    },
    {
     "name": "stderr",
     "output_type": "stream",
     "text": [
      "\n",
      " 57%|█████████████████████████████████████████████▍                                  | 474/834 [06:18<07:24,  1.23s/it]"
     ]
    },
    {
     "name": "stdout",
     "output_type": "stream",
     "text": [
      "[[3.74501242]\n",
      " [1.93987414]\n",
      " [4.47545488]\n",
      " ...\n",
      " [4.5641936 ]\n",
      " [3.86282572]\n",
      " [4.3968697 ]]\n",
      "[[3.44921984]\n",
      " [2.49309305]\n",
      " [4.5563836 ]\n",
      " ...\n",
      " [4.21385048]\n",
      " [4.19811813]\n",
      " [4.32117215]]\n"
     ]
    },
    {
     "name": "stderr",
     "output_type": "stream",
     "text": [
      "\n",
      " 57%|█████████████████████████████████████████████▌                                  | 475/834 [06:19<07:17,  1.22s/it]"
     ]
    },
    {
     "name": "stdout",
     "output_type": "stream",
     "text": [
      "[[4.59591132]\n",
      " [2.13250131]\n",
      " [4.37204994]\n",
      " ...\n",
      " [4.74399184]\n",
      " [2.83399812]\n",
      " [5.56878164]]\n",
      "[[4.12671005]\n",
      " [2.63255641]\n",
      " [4.39338619]\n",
      " ...\n",
      " [4.53368775]\n",
      " [3.42368702]\n",
      " [5.52882303]]\n"
     ]
    },
    {
     "name": "stderr",
     "output_type": "stream",
     "text": [
      "\n",
      " 57%|█████████████████████████████████████████████▋                                  | 476/834 [06:21<07:14,  1.21s/it]"
     ]
    },
    {
     "name": "stdout",
     "output_type": "stream",
     "text": [
      "[[6.47077058]\n",
      " [4.73113069]\n",
      " [5.18198011]\n",
      " ...\n",
      " [5.49106677]\n",
      " [4.23753971]\n",
      " [7.09426241]]\n",
      "[[5.97522831]\n",
      " [5.06800718]\n",
      " [5.2594711 ]\n",
      " ...\n",
      " [5.14637876]\n",
      " [4.52491891]\n",
      " [6.91559052]]\n"
     ]
    },
    {
     "name": "stderr",
     "output_type": "stream",
     "text": [
      "\n",
      " 57%|█████████████████████████████████████████████▊                                  | 477/834 [06:22<07:08,  1.20s/it]"
     ]
    },
    {
     "name": "stdout",
     "output_type": "stream",
     "text": [
      "[[4.10821906]\n",
      " [6.39556991]\n",
      " [7.17655444]\n",
      " ...\n",
      " [6.44037442]\n",
      " [7.3516466 ]\n",
      " [5.18791107]]\n",
      "[[4.05636584]\n",
      " [6.29645184]\n",
      " [6.69079208]\n",
      " ...\n",
      " [6.31830948]\n",
      " [6.73489423]\n",
      " [5.34035728]]\n"
     ]
    },
    {
     "name": "stderr",
     "output_type": "stream",
     "text": [
      "\n",
      " 57%|█████████████████████████████████████████████▊                                  | 478/834 [06:23<07:10,  1.21s/it]"
     ]
    },
    {
     "name": "stdout",
     "output_type": "stream",
     "text": [
      "[[5.93495376]\n",
      " [6.14688876]\n",
      " [4.11634189]\n",
      " ...\n",
      " [4.9009688 ]\n",
      " [4.61957068]\n",
      " [2.01852379]]\n",
      "[[5.74208012]\n",
      " [5.73501991]\n",
      " [4.31233882]\n",
      " ...\n",
      " [4.67969552]\n",
      " [4.37488134]\n",
      " [2.65154484]]\n"
     ]
    },
    {
     "name": "stderr",
     "output_type": "stream",
     "text": [
      "\n",
      " 57%|█████████████████████████████████████████████▉                                  | 479/834 [06:24<07:08,  1.21s/it]"
     ]
    },
    {
     "name": "stdout",
     "output_type": "stream",
     "text": [
      "[[4.56854512]\n",
      " [3.7717662 ]\n",
      " [7.47410152]\n",
      " ...\n",
      " [3.03471588]\n",
      " [3.99356464]\n",
      " [4.75192127]]\n",
      "[[4.34051519]\n",
      " [4.28809554]\n",
      " [7.24938703]\n",
      " ...\n",
      " [3.37316943]\n",
      " [3.89855882]\n",
      " [4.35402309]]\n"
     ]
    },
    {
     "name": "stderr",
     "output_type": "stream",
     "text": [
      "\n",
      " 58%|██████████████████████████████████████████████                                  | 480/834 [06:25<07:05,  1.20s/it]"
     ]
    },
    {
     "name": "stdout",
     "output_type": "stream",
     "text": [
      "[[3.611856  ]\n",
      " [4.49837287]\n",
      " [5.16418724]\n",
      " ...\n",
      " [3.59776997]\n",
      " [4.87782517]\n",
      " [4.53811673]]\n",
      "[[3.92799249]\n",
      " [4.36298537]\n",
      " [4.71886519]\n",
      " ...\n",
      " [4.02812499]\n",
      " [4.93325062]\n",
      " [4.32410584]]\n"
     ]
    },
    {
     "name": "stderr",
     "output_type": "stream",
     "text": [
      "\n",
      " 58%|██████████████████████████████████████████████▏                                 | 481/834 [06:27<07:12,  1.23s/it]"
     ]
    },
    {
     "name": "stdout",
     "output_type": "stream",
     "text": [
      "[[3.20303901]\n",
      " [5.07409472]\n",
      " [6.03310465]\n",
      " ...\n",
      " [5.10887462]\n",
      " [4.60790217]\n",
      " [4.76210705]]\n",
      "[[3.72775972]\n",
      " [5.11172247]\n",
      " [5.60954801]\n",
      " ...\n",
      " [5.70732711]\n",
      " [4.77915102]\n",
      " [4.57395353]]\n"
     ]
    },
    {
     "name": "stderr",
     "output_type": "stream",
     "text": [
      "\n",
      " 58%|██████████████████████████████████████████████▏                                 | 482/834 [06:28<07:09,  1.22s/it]"
     ]
    },
    {
     "name": "stdout",
     "output_type": "stream",
     "text": [
      "[[4.11266728]\n",
      " [6.23156606]\n",
      " [2.93485662]\n",
      " ...\n",
      " [7.77335697]\n",
      " [6.06653074]\n",
      " [5.83667393]]\n",
      "[[4.6309188 ]\n",
      " [6.38697729]\n",
      " [3.08940694]\n",
      " ...\n",
      " [7.13903495]\n",
      " [6.39226439]\n",
      " [5.8479833 ]]\n"
     ]
    },
    {
     "name": "stderr",
     "output_type": "stream",
     "text": [
      "\n",
      " 58%|██████████████████████████████████████████████▎                                 | 483/834 [06:29<07:08,  1.22s/it]"
     ]
    },
    {
     "name": "stdout",
     "output_type": "stream",
     "text": [
      "[[7.02599194]\n",
      " [4.5476256 ]\n",
      " [5.44677799]\n",
      " ...\n",
      " [5.86861729]\n",
      " [4.01322705]\n",
      " [5.61635823]]\n",
      "[[6.50896744]\n",
      " [4.71380376]\n",
      " [5.49780968]\n",
      " ...\n",
      " [5.27294676]\n",
      " [4.15714311]\n",
      " [5.00630286]]\n"
     ]
    },
    {
     "name": "stderr",
     "output_type": "stream",
     "text": [
      "\n",
      " 58%|██████████████████████████████████████████████▍                                 | 484/834 [06:30<07:09,  1.23s/it]"
     ]
    },
    {
     "name": "stdout",
     "output_type": "stream",
     "text": [
      "[[5.2815815 ]\n",
      " [2.03315778]\n",
      " [5.14819944]\n",
      " ...\n",
      " [3.64934351]\n",
      " [4.59487985]\n",
      " [3.08235693]]\n",
      "[[4.67298993]\n",
      " [2.07470295]\n",
      " [4.54703446]\n",
      " ...\n",
      " [3.48713221]\n",
      " [4.02496563]\n",
      " [3.32445719]]\n"
     ]
    },
    {
     "name": "stderr",
     "output_type": "stream",
     "text": [
      "\n",
      " 58%|██████████████████████████████████████████████▌                                 | 485/834 [06:32<07:07,  1.22s/it]"
     ]
    },
    {
     "name": "stdout",
     "output_type": "stream",
     "text": [
      "[[4.09803329]\n",
      " [4.9276581 ]\n",
      " [3.61807705]\n",
      " ...\n",
      " [4.64071583]\n",
      " [5.26043635]\n",
      " [3.69969218]]\n",
      "[[3.93924369]\n",
      " [4.40828034]\n",
      " [3.81235331]\n",
      " ...\n",
      " [4.47117748]\n",
      " [4.75010421]\n",
      " [3.89398096]]\n"
     ]
    },
    {
     "name": "stderr",
     "output_type": "stream",
     "text": [
      "\n",
      " 58%|██████████████████████████████████████████████▌                                 | 486/834 [06:33<07:06,  1.23s/it]"
     ]
    },
    {
     "name": "stdout",
     "output_type": "stream",
     "text": [
      "[[5.35765247]\n",
      " [4.99895852]\n",
      " [2.97804945]\n",
      " ...\n",
      " [5.46447416]\n",
      " [6.05279929]\n",
      " [6.02488511]]\n",
      "[[5.156147  ]\n",
      " [4.56154174]\n",
      " [3.30617801]\n",
      " ...\n",
      " [5.60106931]\n",
      " [5.63453278]\n",
      " [6.5328561 ]]\n"
     ]
    },
    {
     "name": "stderr",
     "output_type": "stream",
     "text": [
      "\n",
      " 58%|██████████████████████████████████████████████▋                                 | 487/834 [06:34<07:07,  1.23s/it]"
     ]
    },
    {
     "name": "stdout",
     "output_type": "stream",
     "text": [
      "[[4.81874124]\n",
      " [4.98957858]\n",
      " [4.39348519]\n",
      " ...\n",
      " [0.98476446]\n",
      " [6.36330422]\n",
      " [7.44889495]]\n",
      "[[4.92741547]\n",
      " [4.72589316]\n",
      " [4.83630972]\n",
      " ...\n",
      " [1.25375181]\n",
      " [6.43352956]\n",
      " [7.1023154 ]]\n"
     ]
    },
    {
     "name": "stderr",
     "output_type": "stream",
     "text": [
      "\n",
      " 59%|██████████████████████████████████████████████▊                                 | 488/834 [06:35<07:07,  1.23s/it]"
     ]
    },
    {
     "name": "stdout",
     "output_type": "stream",
     "text": [
      "[[5.79099912]\n",
      " [5.64762469]\n",
      " [6.7048822 ]\n",
      " ...\n",
      " [5.19542146]\n",
      " [5.44545642]\n",
      " [3.77589208]]\n",
      "[[6.18497141]\n",
      " [5.76397   ]\n",
      " [6.40664272]\n",
      " ...\n",
      " [5.56847627]\n",
      " [5.03525295]\n",
      " [4.05385124]]\n"
     ]
    },
    {
     "name": "stderr",
     "output_type": "stream",
     "text": [
      "\n",
      " 59%|██████████████████████████████████████████████▉                                 | 489/834 [06:37<07:06,  1.24s/it]"
     ]
    },
    {
     "name": "stdout",
     "output_type": "stream",
     "text": [
      "[[5.16199536]\n",
      " [4.69299851]\n",
      " [1.71053307]\n",
      " ...\n",
      " [5.25305489]\n",
      " [3.40865626]\n",
      " [4.3712441 ]]\n",
      "[[4.73720884]\n",
      " [4.2470238 ]\n",
      " [1.8443595 ]\n",
      " ...\n",
      " [5.37833413]\n",
      " [3.32577897]\n",
      " [3.86219389]]\n"
     ]
    },
    {
     "name": "stderr",
     "output_type": "stream",
     "text": [
      "\n",
      " 59%|███████████████████████████████████████████████                                 | 490/834 [06:38<07:03,  1.23s/it]"
     ]
    },
    {
     "name": "stdout",
     "output_type": "stream",
     "text": [
      "[[2.75202843]\n",
      " [3.93135406]\n",
      " [4.68545588]\n",
      " ...\n",
      " [4.99341436]\n",
      " [4.24282599]\n",
      " [4.81355165]]\n",
      "[[3.05297753]\n",
      " [3.84955643]\n",
      " [4.23596603]\n",
      " ...\n",
      " [5.41482801]\n",
      " [4.25772696]\n",
      " [4.46850169]]\n"
     ]
    },
    {
     "name": "stderr",
     "output_type": "stream",
     "text": [
      "\n",
      " 59%|███████████████████████████████████████████████                                 | 491/834 [06:39<06:57,  1.22s/it]"
     ]
    },
    {
     "name": "stdout",
     "output_type": "stream",
     "text": [
      "[[3.35601902]\n",
      " [5.09978478]\n",
      " [4.59094737]\n",
      " ...\n",
      " [4.6980914 ]\n",
      " [2.3761218 ]\n",
      " [5.58912096]]\n",
      "[[3.66844104]\n",
      " [5.05772313]\n",
      " [4.29925003]\n",
      " ...\n",
      " [4.15146915]\n",
      " [2.63336237]\n",
      " [5.53646353]]\n"
     ]
    },
    {
     "name": "stderr",
     "output_type": "stream",
     "text": [
      "\n",
      " 59%|███████████████████████████████████████████████▏                                | 492/834 [06:40<06:57,  1.22s/it]"
     ]
    },
    {
     "name": "stdout",
     "output_type": "stream",
     "text": [
      "[[5.99677754]\n",
      " [6.13518802]\n",
      " [4.97404205]\n",
      " ...\n",
      " [2.77414058]\n",
      " [1.74125156]\n",
      " [1.35677084]]\n",
      "[[5.39200321]\n",
      " [6.46692855]\n",
      " [4.89927134]\n",
      " ...\n",
      " [2.83021011]\n",
      " [1.26748537]\n",
      " [1.65112246]]\n"
     ]
    },
    {
     "name": "stderr",
     "output_type": "stream",
     "text": [
      "\n",
      " 59%|███████████████████████████████████████████████▎                                | 493/834 [06:41<06:54,  1.22s/it]"
     ]
    },
    {
     "name": "stdout",
     "output_type": "stream",
     "text": [
      "[[6.12919259]\n",
      " [7.19911786]\n",
      " [5.55498572]\n",
      " ...\n",
      " [5.22678462]\n",
      " [6.36188595]\n",
      " [5.08328125]]\n",
      "[[6.19883393]\n",
      " [6.84946954]\n",
      " [5.92848261]\n",
      " ...\n",
      " [5.46847272]\n",
      " [5.9639771 ]\n",
      " [5.44332676]]\n"
     ]
    },
    {
     "name": "stderr",
     "output_type": "stream",
     "text": [
      "\n",
      " 59%|███████████████████████████████████████████████▍                                | 494/834 [06:43<06:54,  1.22s/it]"
     ]
    },
    {
     "name": "stdout",
     "output_type": "stream",
     "text": [
      "[[4.71343452]\n",
      " [3.39576287]\n",
      " [2.40003903]\n",
      " ...\n",
      " [6.04738407]\n",
      " [6.8975416 ]\n",
      " [5.22465721]]\n",
      "[[4.28048727]\n",
      " [3.7048382 ]\n",
      " [1.70225258]\n",
      " ...\n",
      " [6.19074209]\n",
      " [6.57092967]\n",
      " [5.64791172]]\n"
     ]
    },
    {
     "name": "stderr",
     "output_type": "stream",
     "text": [
      "\n",
      " 59%|███████████████████████████████████████████████▍                                | 495/834 [06:44<06:53,  1.22s/it]"
     ]
    },
    {
     "name": "stdout",
     "output_type": "stream",
     "text": [
      "[[5.02184428]\n",
      " [3.3938611 ]\n",
      " [4.18754561]\n",
      " ...\n",
      " [6.54345703]\n",
      " [6.77521562]\n",
      " [5.00198846]]\n",
      "[[5.27210856]\n",
      " [3.41704591]\n",
      " [3.80048957]\n",
      " ...\n",
      " [6.66164856]\n",
      " [6.44394257]\n",
      " [5.43816862]]\n"
     ]
    },
    {
     "name": "stderr",
     "output_type": "stream",
     "text": [
      "\n",
      " 59%|███████████████████████████████████████████████▌                                | 496/834 [06:45<06:53,  1.22s/it]"
     ]
    },
    {
     "name": "stdout",
     "output_type": "stream",
     "text": [
      "[[3.55941215]\n",
      " [4.79714482]\n",
      " [3.31056984]\n",
      " ...\n",
      " [1.700444  ]\n",
      " [3.30528355]\n",
      " [4.44853994]]\n",
      "[[3.60854207]\n",
      " [4.43913249]\n",
      " [3.6485177 ]\n",
      " ...\n",
      " [1.84484308]\n",
      " [3.38828925]\n",
      " [4.13457622]]\n"
     ]
    },
    {
     "name": "stderr",
     "output_type": "stream",
     "text": [
      "\n",
      " 60%|███████████████████████████████████████████████▋                                | 497/834 [06:46<06:56,  1.23s/it]"
     ]
    },
    {
     "name": "stdout",
     "output_type": "stream",
     "text": [
      "[[2.23603518]\n",
      " [5.18694406]\n",
      " [5.76192454]\n",
      " ...\n",
      " [3.35862993]\n",
      " [2.96347993]\n",
      " [3.54284416]]\n",
      "[[2.70093408]\n",
      " [5.38774774]\n",
      " [5.37823741]\n",
      " ...\n",
      " [3.84984658]\n",
      " [3.1274805 ]\n",
      " [3.31249674]]\n"
     ]
    },
    {
     "name": "stderr",
     "output_type": "stream",
     "text": [
      "\n",
      " 60%|███████████████████████████████████████████████▊                                | 498/834 [06:48<06:52,  1.23s/it]"
     ]
    },
    {
     "name": "stdout",
     "output_type": "stream",
     "text": [
      "[[0.76438429]\n",
      " [6.15730017]\n",
      " [7.14061413]\n",
      " ...\n",
      " [4.20060016]\n",
      " [5.01671916]\n",
      " [5.55505019]]\n",
      "[[1.10477811]\n",
      " [6.33968354]\n",
      " [6.90762763]\n",
      " ...\n",
      " [4.51582767]\n",
      " [4.42462521]\n",
      " [5.74320846]]\n"
     ]
    },
    {
     "name": "stderr",
     "output_type": "stream",
     "text": [
      "\n",
      " 60%|███████████████████████████████████████████████▊                                | 499/834 [06:49<06:52,  1.23s/it]"
     ]
    },
    {
     "name": "stdout",
     "output_type": "stream",
     "text": [
      "[[6.44047112]\n",
      " [5.25292596]\n",
      " [5.17553342]\n",
      " ...\n",
      " [4.84810592]\n",
      " [6.03210541]\n",
      " [6.704302  ]]\n",
      "[[5.96110788]\n",
      " [5.54503895]\n",
      " [4.67392484]\n",
      " ...\n",
      " [5.00446527]\n",
      " [6.15431268]\n",
      " [6.36979422]]\n"
     ]
    },
    {
     "name": "stderr",
     "output_type": "stream",
     "text": [
      "\n",
      " 60%|███████████████████████████████████████████████▉                                | 500/834 [06:50<06:55,  1.24s/it]"
     ]
    },
    {
     "name": "stdout",
     "output_type": "stream",
     "text": [
      "[[5.62254705]\n",
      " [5.04821125]\n",
      " [3.31621069]\n",
      " ...\n",
      " [1.59033449]\n",
      " [1.82918444]\n",
      " [3.24977753]]\n",
      "[[6.06868746]\n",
      " [5.27600941]\n",
      " [3.32919624]\n",
      " ...\n",
      " [1.83246353]\n",
      " [2.38367588]\n",
      " [3.51798437]]\n"
     ]
    },
    {
     "name": "stderr",
     "output_type": "stream",
     "text": [
      "\n",
      " 60%|████████████████████████████████████████████████                                | 501/834 [06:51<06:56,  1.25s/it]"
     ]
    },
    {
     "name": "stdout",
     "output_type": "stream",
     "text": [
      "[[ 1.54472415]\n",
      " [ 4.4053471 ]\n",
      " [-0.0588583 ]\n",
      " ...\n",
      " [ 2.67115467]\n",
      " [ 4.01509659]\n",
      " [ 4.38587809]]\n",
      "[[ 2.51021164]\n",
      " [ 4.66831536]\n",
      " [-0.18962633]\n",
      " ...\n",
      " [ 3.18360757]\n",
      " [ 3.97415789]\n",
      " [ 4.3147567 ]]\n"
     ]
    },
    {
     "name": "stderr",
     "output_type": "stream",
     "text": [
      "\n",
      " 60%|████████████████████████████████████████████████▏                               | 502/834 [06:53<06:55,  1.25s/it]"
     ]
    },
    {
     "name": "stdout",
     "output_type": "stream",
     "text": [
      "[[2.64059735]\n",
      " [4.62195596]\n",
      " [4.13935658]\n",
      " ...\n",
      " [3.85560543]\n",
      " [3.1334792 ]\n",
      " [4.77983545]]\n",
      "[[2.37664791]\n",
      " [4.45573528]\n",
      " [4.07864258]\n",
      " ...\n",
      " [3.72985521]\n",
      " [2.77737136]\n",
      " [4.11416931]]\n"
     ]
    },
    {
     "name": "stderr",
     "output_type": "stream",
     "text": [
      "\n",
      " 60%|████████████████████████████████████████████████▏                               | 503/834 [06:54<06:52,  1.25s/it]"
     ]
    },
    {
     "name": "stdout",
     "output_type": "stream",
     "text": [
      "[[2.92118963]\n",
      " [2.97234413]\n",
      " [2.45283744]\n",
      " ...\n",
      " [2.05101512]\n",
      " [2.45064557]\n",
      " [3.75971088]]\n",
      "[[2.6919718 ]\n",
      " [2.58938918]\n",
      " [2.76115543]\n",
      " ...\n",
      " [1.78207489]\n",
      " [2.54744701]\n",
      " [3.52037002]]\n"
     ]
    },
    {
     "name": "stderr",
     "output_type": "stream",
     "text": [
      "\n",
      " 60%|████████████████████████████████████████████████▎                               | 504/834 [06:55<06:50,  1.24s/it]"
     ]
    },
    {
     "name": "stdout",
     "output_type": "stream",
     "text": [
      "[[2.15000408]\n",
      " [4.89303937]\n",
      " [0.38415839]\n",
      " ...\n",
      " [2.70587011]\n",
      " [1.75066373]\n",
      " [3.72057946]]\n",
      "[[ 2.53671162]\n",
      " [ 4.63346564]\n",
      " [-0.26338782]\n",
      " ...\n",
      " [ 2.58755159]\n",
      " [ 2.28422038]\n",
      " [ 3.55138337]]\n"
     ]
    },
    {
     "name": "stderr",
     "output_type": "stream",
     "text": [
      "\n",
      " 61%|████████████████████████████████████████████████▍                               | 505/834 [06:56<06:49,  1.24s/it]"
     ]
    },
    {
     "name": "stdout",
     "output_type": "stream",
     "text": [
      "[[0.30418717]\n",
      " [3.55599541]\n",
      " [2.42853341]\n",
      " ...\n",
      " [3.44059962]\n",
      " [2.06036282]\n",
      " [4.74637712]]\n",
      "[[-0.21883433]\n",
      " [ 3.36140241]\n",
      " [ 2.01951079]\n",
      " ...\n",
      " [ 3.20124198]\n",
      " [ 2.47155779]\n",
      " [ 4.46717991]]\n"
     ]
    },
    {
     "name": "stderr",
     "output_type": "stream",
     "text": [
      "\n",
      " 61%|████████████████████████████████████████████████▌                               | 506/834 [06:58<06:49,  1.25s/it]"
     ]
    },
    {
     "name": "stdout",
     "output_type": "stream",
     "text": [
      "[[0.41816469]\n",
      " [4.05135924]\n",
      " [3.47670109]\n",
      " ...\n",
      " [1.67214302]\n",
      " [3.68492925]\n",
      " [0.16700156]]\n",
      "[[-0.23082702]\n",
      " [ 3.74500726]\n",
      " [ 2.96245207]\n",
      " ...\n",
      " [ 2.28460724]\n",
      " [ 3.59564671]\n",
      " [-0.2763799 ]]\n"
     ]
    },
    {
     "name": "stderr",
     "output_type": "stream",
     "text": [
      "\n",
      " 61%|████████████████████████████████████████████████▋                               | 507/834 [06:59<06:48,  1.25s/it]"
     ]
    },
    {
     "name": "stdout",
     "output_type": "stream",
     "text": [
      "[[3.42499862]\n",
      " [2.31055895]\n",
      " [3.1999446 ]\n",
      " ...\n",
      " [1.87888844]\n",
      " [4.02312272]\n",
      " [1.20140556]]\n",
      "[[3.31349613]\n",
      " [1.95026268]\n",
      " [2.76092977]\n",
      " ...\n",
      " [1.80518983]\n",
      " [3.95616886]\n",
      " [1.46027107]]\n"
     ]
    },
    {
     "name": "stderr",
     "output_type": "stream",
     "text": [
      "\n",
      " 61%|████████████████████████████████████████████████▋                               | 508/834 [07:00<06:47,  1.25s/it]"
     ]
    },
    {
     "name": "stdout",
     "output_type": "stream",
     "text": [
      "[[3.39028319]\n",
      " [1.75446728]\n",
      " [4.57579764]\n",
      " ...\n",
      " [1.45334229]\n",
      " [3.75855048]\n",
      " [1.61254335]]\n",
      "[[3.38222842]\n",
      " [2.38509437]\n",
      " [4.52836842]\n",
      " ...\n",
      " [1.42042439]\n",
      " [3.70915815]\n",
      " [1.83046474]]\n"
     ]
    },
    {
     "name": "stderr",
     "output_type": "stream",
     "text": [
      "\n",
      " 61%|████████████████████████████████████████████████▊                               | 509/834 [07:01<06:55,  1.28s/it]"
     ]
    },
    {
     "name": "stdout",
     "output_type": "stream",
     "text": [
      "[[3.29603255]\n",
      " [2.22127226]\n",
      " [4.52145203]\n",
      " ...\n",
      " [0.90704959]\n",
      " [2.68005111]\n",
      " [1.58801369]]\n",
      "[[3.28322426]\n",
      " [2.94536572]\n",
      " [4.5024165 ]\n",
      " ...\n",
      " [1.00242116]\n",
      " [2.49734852]\n",
      " [2.0566172 ]]\n"
     ]
    },
    {
     "name": "stderr",
     "output_type": "stream",
     "text": [
      "\n",
      " 61%|████████████████████████████████████████████████▉                               | 510/834 [07:03<07:09,  1.32s/it]"
     ]
    },
    {
     "name": "stdout",
     "output_type": "stream",
     "text": [
      "[[3.60460347]\n",
      " [0.22827737]\n",
      " [3.47753916]\n",
      " ...\n",
      " [0.71345542]\n",
      " [2.55424391]\n",
      " [1.52370793]]\n",
      "[[ 3.37294376]\n",
      " [-0.34840051]\n",
      " [ 3.22554975]\n",
      " ...\n",
      " [ 1.00954584]\n",
      " [ 2.58033019]\n",
      " [ 2.23325145]]\n"
     ]
    },
    {
     "name": "stderr",
     "output_type": "stream",
     "text": [
      "\n",
      " 61%|█████████████████████████████████████████████████                               | 511/834 [07:04<07:12,  1.34s/it]"
     ]
    },
    {
     "name": "stdout",
     "output_type": "stream",
     "text": [
      "[[3.46780466]\n",
      " [0.11513792]\n",
      " [3.32043328]\n",
      " ...\n",
      " [2.69268662]\n",
      " [1.63681515]\n",
      " [3.62458821]]\n",
      "[[ 3.44963894]\n",
      " [-0.24668832]\n",
      " [ 3.24615009]\n",
      " ...\n",
      " [ 2.53316539]\n",
      " [ 2.18508727]\n",
      " [ 3.43767849]]\n"
     ]
    },
    {
     "name": "stderr",
     "output_type": "stream",
     "text": [
      "\n",
      " 61%|█████████████████████████████████████████████████                               | 512/834 [07:06<07:17,  1.36s/it]"
     ]
    },
    {
     "name": "stdout",
     "output_type": "stream",
     "text": [
      "[[0.24851998]\n",
      " [3.45868259]\n",
      " [3.3020602 ]\n",
      " ...\n",
      " [1.49186127]\n",
      " [2.84292679]\n",
      " [1.78012511]]\n",
      "[[-0.28392369]\n",
      " [ 3.25717563]\n",
      " [ 2.94620391]\n",
      " ...\n",
      " [ 1.56730259]\n",
      " [ 2.58278031]\n",
      " [ 2.21126486]]\n"
     ]
    },
    {
     "name": "stderr",
     "output_type": "stream",
     "text": [
      "\n",
      " 62%|█████████████████████████████████████████████████▏                              | 513/834 [07:07<07:18,  1.37s/it]"
     ]
    },
    {
     "name": "stdout",
     "output_type": "stream",
     "text": [
      "[[3.7971984 ]\n",
      " [0.39885685]\n",
      " [3.63706256]\n",
      " ...\n",
      " [1.78721647]\n",
      " [3.80193671]\n",
      " [3.33532513]]\n",
      "[[ 3.49573987]\n",
      " [-0.25407092]\n",
      " [ 3.30849918]\n",
      " ...\n",
      " [ 2.37061932]\n",
      " [ 3.56169966]\n",
      " [ 2.94381827]]\n"
     ]
    },
    {
     "name": "stderr",
     "output_type": "stream",
     "text": [
      "\n",
      " 62%|█████████████████████████████████████████████████▎                              | 514/834 [07:08<07:16,  1.36s/it]"
     ]
    },
    {
     "name": "stdout",
     "output_type": "stream",
     "text": [
      "[[4.34977662]\n",
      " [3.12574317]\n",
      " [4.70215281]\n",
      " ...\n",
      " [2.21302049]\n",
      " [3.81553924]\n",
      " [3.58165324]]\n",
      "[[3.64800189]\n",
      " [2.81141512]\n",
      " [4.60135618]\n",
      " ...\n",
      " [2.68094627]\n",
      " [3.53197584]\n",
      " [3.29412085]]\n"
     ]
    },
    {
     "name": "stderr",
     "output_type": "stream",
     "text": [
      "\n",
      " 62%|█████████████████████████████████████████████████▍                              | 515/834 [07:10<07:19,  1.38s/it]"
     ]
    },
    {
     "name": "stdout",
     "output_type": "stream",
     "text": [
      "[[3.65830441]\n",
      " [4.6145745 ]\n",
      " [2.55737056]\n",
      " ...\n",
      " [1.26193999]\n",
      " [3.51267364]\n",
      " [1.32447291]]\n",
      "[[3.28274069]\n",
      " [3.8538119 ]\n",
      " [2.20591328]\n",
      " ...\n",
      " [1.31152304]\n",
      " [3.50341261]\n",
      " [1.71424527]]\n"
     ]
    },
    {
     "name": "stderr",
     "output_type": "stream",
     "text": [
      "\n",
      " 62%|█████████████████████████████████████████████████▍                              | 516/834 [07:11<07:17,  1.37s/it]"
     ]
    },
    {
     "name": "stdout",
     "output_type": "stream",
     "text": [
      "[[2.55037589]\n",
      " [1.53463507]\n",
      " [3.48147165]\n",
      " ...\n",
      " [3.84380798]\n",
      " [3.58474766]\n",
      " [3.14853223]]\n",
      "[[2.59367689]\n",
      " [2.28534873]\n",
      " [3.50563706]\n",
      " ...\n",
      " [3.86831919]\n",
      " [3.57356339]\n",
      " [2.96657859]]\n"
     ]
    },
    {
     "name": "stderr",
     "output_type": "stream",
     "text": [
      "\n",
      " 62%|█████████████████████████████████████████████████▌                              | 517/834 [07:12<07:15,  1.37s/it]"
     ]
    },
    {
     "name": "stdout",
     "output_type": "stream",
     "text": [
      "[[4.49585866]\n",
      " [2.91925562]\n",
      " [4.60100421]\n",
      " ...\n",
      " [0.50922422]\n",
      " [1.52770488]\n",
      " [5.32084186]]\n",
      "[[ 4.0449212 ]\n",
      " [ 2.83765718]\n",
      " [ 4.71148259]\n",
      " ...\n",
      " [-0.09852058]\n",
      " [ 2.01754424]\n",
      " [ 5.37291807]]\n"
     ]
    },
    {
     "name": "stderr",
     "output_type": "stream",
     "text": [
      "\n",
      " 62%|█████████████████████████████████████████████████▋                              | 518/834 [07:14<07:15,  1.38s/it]"
     ]
    },
    {
     "name": "stdout",
     "output_type": "stream",
     "text": [
      "[[2.60472151]\n",
      " [3.9003777 ]\n",
      " [1.53592441]\n",
      " ...\n",
      " [4.57186516]\n",
      " [6.08867513]\n",
      " [2.45702779]]\n",
      "[[3.46962676]\n",
      " [3.94620719]\n",
      " [0.94581051]\n",
      " ...\n",
      " [4.93592641]\n",
      " [5.81339148]\n",
      " [1.57281536]]\n"
     ]
    },
    {
     "name": "stderr",
     "output_type": "stream",
     "text": [
      "\n",
      " 62%|█████████████████████████████████████████████████▊                              | 519/834 [07:15<07:14,  1.38s/it]"
     ]
    },
    {
     "name": "stdout",
     "output_type": "stream",
     "text": [
      "[[2.95986978]\n",
      " [6.42470896]\n",
      " [2.59949969]\n",
      " ...\n",
      " [3.39134689]\n",
      " [5.17263241]\n",
      " [1.01512838]]\n",
      "[[3.35730813]\n",
      " [6.16495136]\n",
      " [1.72169235]\n",
      " ...\n",
      " [4.23074341]\n",
      " [5.19760559]\n",
      " [0.44898435]]\n"
     ]
    },
    {
     "name": "stderr",
     "output_type": "stream",
     "text": [
      "\n",
      " 62%|█████████████████████████████████████████████████▉                              | 520/834 [07:17<07:12,  1.38s/it]"
     ]
    },
    {
     "name": "stdout",
     "output_type": "stream",
     "text": [
      "[[2.1565797 ]\n",
      " [5.56549383]\n",
      " [2.97057129]\n",
      " ...\n",
      " [4.13855075]\n",
      " [1.99312382]\n",
      " [4.56055122]]\n",
      "[[2.90932317]\n",
      " [5.6329531 ]\n",
      " [3.8282146 ]\n",
      " ...\n",
      " [3.98792369]\n",
      " [1.25375181]\n",
      " [5.10043902]]\n"
     ]
    },
    {
     "name": "stderr",
     "output_type": "stream",
     "text": [
      "\n",
      " 62%|█████████████████████████████████████████████████▉                              | 521/834 [07:18<07:12,  1.38s/it]"
     ]
    },
    {
     "name": "stdout",
     "output_type": "stream",
     "text": [
      "[[5.64717342]\n",
      " [2.34408174]\n",
      " [2.72456552]\n",
      " ...\n",
      " [0.83993952]\n",
      " [5.73355909]\n",
      " [3.40543291]]\n",
      "[[5.47330848]\n",
      " [1.59908967]\n",
      " [3.13708755]\n",
      " ...\n",
      " [0.1111258 ]\n",
      " [5.67234843]\n",
      " [4.11455617]]\n"
     ]
    },
    {
     "name": "stderr",
     "output_type": "stream",
     "text": [
      "\n",
      " 63%|██████████████████████████████████████████████████                              | 522/834 [07:19<07:14,  1.39s/it]"
     ]
    },
    {
     "name": "stdout",
     "output_type": "stream",
     "text": [
      "[[5.13595073]\n",
      " [1.33543229]\n",
      " [4.16446645]\n",
      " ...\n",
      " [4.40605624]\n",
      " [2.81369104]\n",
      " [6.11649261]]\n",
      "[[5.02103582]\n",
      " [1.71324588]\n",
      " [4.10443331]\n",
      " ...\n",
      " [4.32481509]\n",
      " [2.7516451 ]\n",
      " [6.06298126]]\n"
     ]
    },
    {
     "name": "stderr",
     "output_type": "stream",
     "text": [
      "\n",
      " 63%|██████████████████████████████████████████████████▏                             | 523/834 [07:21<07:13,  1.39s/it]"
     ]
    },
    {
     "name": "stdout",
     "output_type": "stream",
     "text": [
      "[[4.59471869]\n",
      " [4.13200735]\n",
      " [4.37878673]\n",
      " ...\n",
      " [5.17321261]\n",
      " [4.47168357]\n",
      " [3.52047413]]\n",
      "[[4.56418529]\n",
      " [4.10336944]\n",
      " [4.35357175]\n",
      " ...\n",
      " [5.28813105]\n",
      " [4.61870044]\n",
      " [3.66299275]]\n"
     ]
    },
    {
     "name": "stderr",
     "output_type": "stream",
     "text": [
      "\n",
      " 63%|██████████████████████████████████████████████████▎                             | 524/834 [07:22<07:12,  1.40s/it]"
     ]
    },
    {
     "name": "stdout",
     "output_type": "stream",
     "text": [
      "[[3.53043427]\n",
      " [4.56042228]\n",
      " [2.85543337]\n",
      " ...\n",
      " [5.32058399]\n",
      " [3.21064611]\n",
      " [5.82800313]]\n",
      "[[3.66953714]\n",
      " [4.66896013]\n",
      " [2.99191798]\n",
      " ...\n",
      " [5.24290056]\n",
      " [3.13969886]\n",
      " [5.76274494]]\n"
     ]
    },
    {
     "name": "stderr",
     "output_type": "stream",
     "text": [
      "\n",
      " 63%|██████████████████████████████████████████████████▎                             | 525/834 [07:24<07:10,  1.39s/it]"
     ]
    },
    {
     "name": "stdout",
     "output_type": "stream",
     "text": [
      "[[5.38949913]\n",
      " [5.25037951]\n",
      " [4.65157851]\n",
      " ...\n",
      " [5.591474  ]\n",
      " [2.10887418]\n",
      " [4.3788512 ]]\n",
      "[[5.26753071]\n",
      " [5.16581852]\n",
      " [4.59951859]\n",
      " ...\n",
      " [5.43291376]\n",
      " [1.97853577]\n",
      " [4.23390277]]\n"
     ]
    },
    {
     "name": "stderr",
     "output_type": "stream",
     "text": [
      "\n",
      " 63%|██████████████████████████████████████████████████▍                             | 526/834 [07:25<07:11,  1.40s/it]"
     ]
    },
    {
     "name": "stdout",
     "output_type": "stream",
     "text": [
      "[[5.03454426]\n",
      " [5.07709243]\n",
      " [2.78742077]\n",
      " ...\n",
      " [4.21284887]\n",
      " [1.81590425]\n",
      " [4.47709879]]\n",
      "[[4.9223218 ]\n",
      " [4.92129017]\n",
      " [2.62923586]\n",
      " ...\n",
      " [4.24612113]\n",
      " [1.85080718]\n",
      " [4.60873878]]\n"
     ]
    },
    {
     "name": "stderr",
     "output_type": "stream",
     "text": [
      "\n",
      " 63%|██████████████████████████████████████████████████▌                             | 527/834 [07:26<07:10,  1.40s/it]"
     ]
    },
    {
     "name": "stdout",
     "output_type": "stream",
     "text": [
      "[[3.69885411]\n",
      " [5.83277369]\n",
      " [2.57654946]\n",
      " ...\n",
      " [5.03286812]\n",
      " [5.97099077]\n",
      " [2.62844534]]\n",
      "[[3.7280821 ]\n",
      " [5.85378621]\n",
      " [2.6218855 ]\n",
      " ...\n",
      " [4.88508644]\n",
      " [5.7648082 ]\n",
      " [2.35985169]]\n"
     ]
    },
    {
     "name": "stderr",
     "output_type": "stream",
     "text": [
      "\n",
      " 63%|██████████████████████████████████████████████████▋                             | 528/834 [07:28<07:06,  1.39s/it]"
     ]
    },
    {
     "name": "stdout",
     "output_type": "stream",
     "text": [
      "[[3.27182522]\n",
      " [4.52222563]\n",
      " [2.06745418]\n",
      " ...\n",
      " [5.42392447]\n",
      " [2.09962318]\n",
      " [3.20742276]]\n",
      "[[3.06364845]\n",
      " [4.30456937]\n",
      " [1.84274758]\n",
      " ...\n",
      " [5.39451781]\n",
      " [2.09404599]\n",
      " [3.20459478]]\n"
     ]
    },
    {
     "name": "stderr",
     "output_type": "stream",
     "text": [
      "\n",
      " 63%|██████████████████████████████████████████████████▋                             | 529/834 [07:29<07:04,  1.39s/it]"
     ]
    },
    {
     "name": "stdout",
     "output_type": "stream",
     "text": [
      "[[5.75870119]\n",
      " [4.18767454]\n",
      " [5.43333664]\n",
      " ...\n",
      " [3.09905387]\n",
      " [3.11994115]\n",
      " [2.81617301]]\n",
      "[[5.74549739]\n",
      " [4.23167832]\n",
      " [5.44903296]\n",
      " ...\n",
      " [3.14247136]\n",
      " [3.19650294]\n",
      " [2.96590158]]\n"
     ]
    },
    {
     "name": "stderr",
     "output_type": "stream",
     "text": [
      "\n",
      " 64%|██████████████████████████████████████████████████▊                             | 530/834 [07:31<07:03,  1.39s/it]"
     ]
    },
    {
     "name": "stdout",
     "output_type": "stream",
     "text": [
      "[[3.0734605 ]\n",
      " [4.98177808]\n",
      " [1.67775164]\n",
      " ...\n",
      " [4.06257648]\n",
      " [4.05110137]\n",
      " [4.99628314]]\n",
      "[[3.22148771]\n",
      " [5.12632647]\n",
      " [1.81695685]\n",
      " ...\n",
      " [4.2044691 ]\n",
      " [4.18412666]\n",
      " [5.01758631]]\n"
     ]
    },
    {
     "name": "stderr",
     "output_type": "stream",
     "text": [
      "\n",
      " 64%|██████████████████████████████████████████████████▉                             | 531/834 [07:32<07:03,  1.40s/it]"
     ]
    },
    {
     "name": "stdout",
     "output_type": "stream",
     "text": [
      "[[3.19620552]\n",
      " [3.11401019]\n",
      " [2.91313126]\n",
      " ...\n",
      " [4.6652455 ]\n",
      " [2.90085031]\n",
      " [6.13937837]]\n",
      "[[3.222068  ]\n",
      " [3.18650903]\n",
      " [3.04459555]\n",
      " ...\n",
      " [4.60048574]\n",
      " [2.85545279]\n",
      " [6.08035777]]\n"
     ]
    },
    {
     "name": "stderr",
     "output_type": "stream",
     "text": [
      "\n",
      " 64%|███████████████████████████████████████████████████                             | 532/834 [07:33<07:04,  1.41s/it]"
     ]
    },
    {
     "name": "stdout",
     "output_type": "stream",
     "text": [
      "[[4.52261243]\n",
      " [4.06902317]\n",
      " [4.28582543]\n",
      " ...\n",
      " [4.71907538]\n",
      " [3.91288429]\n",
      " [3.1492736 ]]\n",
      "[[4.49725835]\n",
      " [4.02999482]\n",
      " [4.24234923]\n",
      " ...\n",
      " [4.68885123]\n",
      " [3.88243961]\n",
      " [3.12770617]]\n"
     ]
    },
    {
     "name": "stderr",
     "output_type": "stream",
     "text": [
      "\n",
      " 64%|███████████████████████████████████████████████████▏                            | 533/834 [07:35<07:03,  1.41s/it]"
     ]
    },
    {
     "name": "stdout",
     "output_type": "stream",
     "text": [
      "[[2.91464624]\n",
      " [4.04413894]\n",
      " [2.47791507]\n",
      " ...\n",
      " [4.9175368 ]\n",
      " [2.56939364]\n",
      " [5.1806263 ]]\n",
      "[[2.88801358]\n",
      " [3.97812322]\n",
      " [2.4538589 ]\n",
      " ...\n",
      " [4.72099292]\n",
      " [2.38586809]\n",
      " [4.99966175]]\n"
     ]
    },
    {
     "name": "stderr",
     "output_type": "stream",
     "text": [
      "\n",
      " 64%|███████████████████████████████████████████████████▏                            | 534/834 [07:36<07:05,  1.42s/it]"
     ]
    },
    {
     "name": "stdout",
     "output_type": "stream",
     "text": [
      "[[4.64258538]\n",
      " [4.71830178]\n",
      " [4.07124728]\n",
      " ...\n",
      " [4.34839058]\n",
      " [6.15456033]\n",
      " [4.8413369 ]]\n",
      "[[4.39741599]\n",
      " [4.53291403]\n",
      " [3.89236904]\n",
      " ...\n",
      " [3.84691288]\n",
      " [6.02787363]\n",
      " [4.71438405]]\n"
     ]
    },
    {
     "name": "stderr",
     "output_type": "stream",
     "text": [
      "\n",
      " 64%|███████████████████████████████████████████████████▎                            | 535/834 [07:38<07:06,  1.43s/it]"
     ]
    },
    {
     "name": "stdout",
     "output_type": "stream",
     "text": [
      "[[4.62163363]\n",
      " [6.53823521]\n",
      " [4.27389905]\n",
      " ...\n",
      " [2.7785888 ]\n",
      " [1.97410608]\n",
      " [0.07981005]]\n",
      "[[ 5.01323412]\n",
      " [ 6.45561287]\n",
      " [ 3.87234899]\n",
      " ...\n",
      " [ 3.37858548]\n",
      " [ 2.06751378]\n",
      " [-0.30075214]]\n"
     ]
    },
    {
     "name": "stderr",
     "output_type": "stream",
     "text": [
      "\n",
      " 64%|███████████████████████████████████████████████████▍                            | 536/834 [07:39<07:03,  1.42s/it]"
     ]
    },
    {
     "name": "stdout",
     "output_type": "stream",
     "text": [
      "[[3.42264558]\n",
      " [5.83132318]\n",
      " [2.1486825 ]\n",
      " ...\n",
      " [3.58938927]\n",
      " [3.99856083]\n",
      " [3.06285569]]\n",
      "[[3.83959476]\n",
      " [5.90365903]\n",
      " [1.65479764]\n",
      " ...\n",
      " [3.63720202]\n",
      " [4.0624589 ]\n",
      " [2.75158063]]\n"
     ]
    },
    {
     "name": "stderr",
     "output_type": "stream",
     "text": [
      "\n",
      " 64%|███████████████████████████████████████████████████▌                            | 537/834 [07:41<07:04,  1.43s/it]"
     ]
    },
    {
     "name": "stdout",
     "output_type": "stream",
     "text": [
      "[[7.1591806 ]\n",
      " [5.05452901]\n",
      " [2.67428132]\n",
      " ...\n",
      " [5.64317647]\n",
      " [4.60293822]\n",
      " [3.79742403]]\n",
      "[[7.5880193 ]\n",
      " [5.03464042]\n",
      " [2.33228785]\n",
      " ...\n",
      " [5.51647572]\n",
      " [4.89266246]\n",
      " [3.68075611]]\n"
     ]
    },
    {
     "name": "stderr",
     "output_type": "stream",
     "text": [
      "\n",
      " 65%|███████████████████████████████████████████████████▌                            | 538/834 [07:42<07:06,  1.44s/it]"
     ]
    },
    {
     "name": "stdout",
     "output_type": "stream",
     "text": [
      "[[3.4449189 ]\n",
      " [4.46929829]\n",
      " [4.23089961]\n",
      " ...\n",
      " [6.72486695]\n",
      " [5.79873515]\n",
      " [9.92481155]]\n",
      "[[ 3.23270667]\n",
      " [ 4.60880325]\n",
      " [ 4.05768761]\n",
      " ...\n",
      " [ 6.65010721]\n",
      " [ 5.26401672]\n",
      " [10.24536705]]\n"
     ]
    },
    {
     "name": "stderr",
     "output_type": "stream",
     "text": [
      "\n",
      " 65%|███████████████████████████████████████████████████▋                            | 539/834 [07:44<07:05,  1.44s/it]"
     ]
    },
    {
     "name": "stdout",
     "output_type": "stream",
     "text": [
      "[[5.61526229]\n",
      " [1.77657943]\n",
      " [4.34938981]\n",
      " ...\n",
      " [1.56848021]\n",
      " [3.89038533]\n",
      " [7.02483154]]\n",
      "[[5.52479323]\n",
      " [1.84448845]\n",
      " [4.25250433]\n",
      " ...\n",
      " [1.82981998]\n",
      " [3.97902589]\n",
      " [7.5486562 ]]\n"
     ]
    },
    {
     "name": "stderr",
     "output_type": "stream",
     "text": [
      "\n",
      " 65%|███████████████████████████████████████████████████▊                            | 540/834 [07:45<07:04,  1.44s/it]"
     ]
    },
    {
     "name": "stdout",
     "output_type": "stream",
     "text": [
      "[[2.74906295]\n",
      " [3.84158387]\n",
      " [2.67711786]\n",
      " ...\n",
      " [6.68976471]\n",
      " [8.27194414]\n",
      " [5.53010149]]\n",
      "[[2.81512253]\n",
      " [3.96103686]\n",
      " [2.19214748]\n",
      " ...\n",
      " [5.73785689]\n",
      " [8.57409558]\n",
      " [5.36008718]]\n"
     ]
    },
    {
     "name": "stderr",
     "output_type": "stream",
     "text": [
      "\n",
      " 65%|███████████████████████████████████████████████████▉                            | 541/834 [07:46<07:03,  1.45s/it]"
     ]
    },
    {
     "name": "stdout",
     "output_type": "stream",
     "text": [
      "[[4.01506436]\n",
      " [6.00019428]\n",
      " [3.72193326]\n",
      " ...\n",
      " [6.88364898]\n",
      " [0.77447337]\n",
      " [5.72459819]]\n",
      "[[4.34583453]\n",
      " [5.80565426]\n",
      " [3.18615441]\n",
      " ...\n",
      " [7.1770118 ]\n",
      " [0.67423413]\n",
      " [5.67102666]]\n"
     ]
    },
    {
     "name": "stderr",
     "output_type": "stream",
     "text": [
      "\n",
      " 65%|███████████████████████████████████████████████████▉                            | 542/834 [07:48<07:02,  1.45s/it]"
     ]
    },
    {
     "name": "stdout",
     "output_type": "stream",
     "text": [
      "[[5.77604279]\n",
      " [8.49026137]\n",
      " [4.50788174]\n",
      " ...\n",
      " [5.25721301]\n",
      " [3.94350608]\n",
      " [5.70661192]]\n",
      "[[5.22126859]\n",
      " [8.9016056 ]\n",
      " [4.48826383]\n",
      " ...\n",
      " [5.113012  ]\n",
      " [3.80842022]\n",
      " [5.98783353]]\n"
     ]
    },
    {
     "name": "stderr",
     "output_type": "stream",
     "text": [
      "\n",
      " 65%|████████████████████████████████████████████████████                            | 543/834 [07:49<06:58,  1.44s/it]"
     ]
    },
    {
     "name": "stdout",
     "output_type": "stream",
     "text": [
      "[[4.02705521]\n",
      " [0.45958469]\n",
      " [2.98159513]\n",
      " ...\n",
      " [7.06425306]\n",
      " [6.88319771]\n",
      " [8.76092574]]\n",
      "[[ 3.9625843 ]\n",
      " [-0.02579073]\n",
      " [ 3.1196788 ]\n",
      " ...\n",
      " [ 7.1704674 ]\n",
      " [ 6.5686085 ]\n",
      " [ 9.29101337]]\n"
     ]
    },
    {
     "name": "stderr",
     "output_type": "stream",
     "text": [
      "\n",
      " 65%|████████████████████████████████████████████████████▏                           | 544/834 [07:51<07:02,  1.46s/it]"
     ]
    },
    {
     "name": "stdout",
     "output_type": "stream",
     "text": [
      "[[4.64239197]\n",
      " [2.61748596]\n",
      " [6.66733022]\n",
      " ...\n",
      " [4.84262623]\n",
      " [2.16670101]\n",
      " [4.20962553]]\n",
      "[[4.86941857]\n",
      " [2.43825551]\n",
      " [7.20338282]\n",
      " ...\n",
      " [4.87857428]\n",
      " [1.92421404]\n",
      " [4.31669101]]\n"
     ]
    },
    {
     "name": "stderr",
     "output_type": "stream",
     "text": [
      "\n",
      " 65%|████████████████████████████████████████████████████▎                           | 545/834 [07:52<06:59,  1.45s/it]"
     ]
    },
    {
     "name": "stdout",
     "output_type": "stream",
     "text": [
      "[[4.92333882]\n",
      " [3.60382986]\n",
      " [3.72367387]\n",
      " ...\n",
      " [1.45966004]\n",
      " [3.27765947]\n",
      " [5.31084949]]\n",
      "[[4.95813868]\n",
      " [3.26172124]\n",
      " [4.25614727]\n",
      " ...\n",
      " [0.90564144]\n",
      " [3.33187203]\n",
      " [5.30828006]]\n"
     ]
    },
    {
     "name": "stderr",
     "output_type": "stream",
     "text": [
      "\n",
      " 65%|████████████████████████████████████████████████████▎                           | 546/834 [07:54<06:56,  1.45s/it]"
     ]
    },
    {
     "name": "stdout",
     "output_type": "stream",
     "text": [
      "[[2.85991382]\n",
      " [5.54944156]\n",
      " [5.0266793 ]\n",
      " ...\n",
      " [0.34283509]\n",
      " [5.78390776]\n",
      " [1.5492046 ]]\n",
      "[[2.38428841]\n",
      " [6.0264229 ]\n",
      " [5.08335266]\n",
      " ...\n",
      " [0.25539269]\n",
      " [5.67789344]\n",
      " [1.50698453]]\n"
     ]
    },
    {
     "name": "stderr",
     "output_type": "stream",
     "text": [
      "\n",
      " 66%|████████████████████████████████████████████████████▍                           | 547/834 [07:55<06:54,  1.44s/it]"
     ]
    },
    {
     "name": "stdout",
     "output_type": "stream",
     "text": [
      "[[4.45685617]\n",
      " [3.92964569]\n",
      " [2.24322325]\n",
      " ...\n",
      " [3.78395044]\n",
      " [1.55210561]\n",
      " [3.78981693]]\n",
      "[[4.36282418]\n",
      " [3.4155307 ]\n",
      " [2.21287678]\n",
      " ...\n",
      " [3.71870072]\n",
      " [0.84174491]\n",
      " [3.72015145]]\n"
     ]
    },
    {
     "name": "stderr",
     "output_type": "stream",
     "text": [
      "\n",
      " 66%|████████████████████████████████████████████████████▌                           | 548/834 [07:57<06:55,  1.45s/it]"
     ]
    },
    {
     "name": "stdout",
     "output_type": "stream",
     "text": [
      "[[4.3466822 ]\n",
      " [4.40992425]\n",
      " [1.67343236]\n",
      " ...\n",
      " [4.54720656]\n",
      " [2.6525882 ]\n",
      " [5.0526917 ]]\n",
      "[[4.1160069 ]\n",
      " [4.27291125]\n",
      " [1.10729271]\n",
      " ...\n",
      " [4.55631912]\n",
      " [2.1514626 ]\n",
      " [5.47698366]]\n"
     ]
    },
    {
     "name": "stderr",
     "output_type": "stream",
     "text": [
      "\n",
      " 66%|████████████████████████████████████████████████████▋                           | 549/834 [07:58<06:58,  1.47s/it]"
     ]
    },
    {
     "name": "stdout",
     "output_type": "stream",
     "text": [
      "[[6.57285395]\n",
      " [5.55192354]\n",
      " [6.71938726]\n",
      " ...\n",
      " [4.37279131]\n",
      " [7.08562384]\n",
      " [7.12817201]]\n",
      "[[6.45461348]\n",
      " [5.03460819]\n",
      " [7.02890854]\n",
      " ...\n",
      " [4.39225784]\n",
      " [7.03171328]\n",
      " [6.65858591]]\n"
     ]
    },
    {
     "name": "stderr",
     "output_type": "stream",
     "text": [
      "\n",
      " 66%|████████████████████████████████████████████████████▊                           | 550/834 [08:00<06:54,  1.46s/it]"
     ]
    },
    {
     "name": "stdout",
     "output_type": "stream",
     "text": [
      "[[7.40895769]\n",
      " [6.28716878]\n",
      " [5.66876984]\n",
      " ...\n",
      " [8.75763793]\n",
      " [3.99040576]\n",
      " [5.87641779]]\n",
      "[[7.76558847]\n",
      " [6.29741899]\n",
      " [5.23293889]\n",
      " ...\n",
      " [9.07175993]\n",
      " [3.53945516]\n",
      " [5.8589766 ]]\n"
     ]
    },
    {
     "name": "stderr",
     "output_type": "stream",
     "text": [
      "\n",
      " 66%|████████████████████████████████████████████████████▊                           | 551/834 [08:01<06:54,  1.46s/it]"
     ]
    },
    {
     "name": "stdout",
     "output_type": "stream",
     "text": [
      "[[4.1938956 ]\n",
      " [4.00707046]\n",
      " [6.25973811]\n",
      " ...\n",
      " [3.34228756]\n",
      " [3.02817249]\n",
      " [2.31094575]]\n",
      "[[4.11455617]\n",
      " [4.3663704 ]\n",
      " [6.23697197]\n",
      " ...\n",
      " [2.62901019]\n",
      " [3.36091884]\n",
      " [2.12812199]]\n"
     ]
    },
    {
     "name": "stderr",
     "output_type": "stream",
     "text": [
      "\n",
      " 66%|████████████████████████████████████████████████████▉                           | 552/834 [08:02<06:51,  1.46s/it]"
     ]
    },
    {
     "name": "stdout",
     "output_type": "stream",
     "text": [
      "[[0.31769299]\n",
      " [3.62252527]\n",
      " [6.11391393]\n",
      " ...\n",
      " [5.44349018]\n",
      " [3.79713393]\n",
      " [4.94293676]]\n",
      "[[-0.39434024]\n",
      " [ 3.7983296 ]\n",
      " [ 5.90701183]\n",
      " ...\n",
      " [ 5.68598528]\n",
      " [ 3.67446962]\n",
      " [ 4.83395632]]\n"
     ]
    },
    {
     "name": "stderr",
     "output_type": "stream",
     "text": [
      "\n",
      " 66%|█████████████████████████████████████████████████████                           | 553/834 [08:04<06:48,  1.46s/it]"
     ]
    },
    {
     "name": "stdout",
     "output_type": "stream",
     "text": [
      "[[4.53070303]\n",
      " [7.59910288]\n",
      " [5.62647954]\n",
      " ...\n",
      " [5.28999444]\n",
      " [5.72591976]\n",
      " [5.62422319]]\n",
      "[[4.00794375]\n",
      " [7.86543083]\n",
      " [5.4327848 ]\n",
      " ...\n",
      " [5.63076088]\n",
      " [5.63672499]\n",
      " [6.02493994]]\n"
     ]
    },
    {
     "name": "stderr",
     "output_type": "stream",
     "text": [
      "\n",
      " 66%|█████████████████████████████████████████████████████▏                          | 554/834 [08:05<06:48,  1.46s/it]"
     ]
    },
    {
     "name": "stdout",
     "output_type": "stream",
     "text": [
      "[[4.24308386]\n",
      " [3.38934842]\n",
      " [4.5213231 ]\n",
      " ...\n",
      " [7.09813043]\n",
      " [6.93522252]\n",
      " [6.0296879 ]]\n",
      "[[4.18354637]\n",
      " [3.19305343]\n",
      " [4.81848188]\n",
      " ...\n",
      " [7.24738825]\n",
      " [6.65632922]\n",
      " [5.2822959 ]]\n"
     ]
    },
    {
     "name": "stderr",
     "output_type": "stream",
     "text": [
      "\n",
      " 67%|█████████████████████████████████████████████████████▏                          | 555/834 [08:07<06:48,  1.47s/it]"
     ]
    },
    {
     "name": "stdout",
     "output_type": "stream",
     "text": [
      "[[10.09055601]\n",
      " [ 5.80099149]\n",
      " [ 1.8354055 ]\n",
      " ...\n",
      " [ 3.46896506]\n",
      " [ 3.48102038]\n",
      " [ 4.69673759]]\n",
      "[[10.21773873]\n",
      " [ 5.49622999]\n",
      " [ 1.70779759]\n",
      " ...\n",
      " [ 3.26442927]\n",
      " [ 3.83775717]\n",
      " [ 4.54642193]]\n"
     ]
    },
    {
     "name": "stderr",
     "output_type": "stream",
     "text": [
      "\n",
      " 67%|█████████████████████████████████████████████████████▎                          | 556/834 [08:08<06:47,  1.46s/it]"
     ]
    },
    {
     "name": "stdout",
     "output_type": "stream",
     "text": [
      "[[7.78625035]\n",
      " [3.00809104]\n",
      " [4.75688523]\n",
      " ...\n",
      " [8.32706336]\n",
      " [6.80812598]\n",
      " [9.60657059]]\n",
      "[[8.04396715]\n",
      " [2.80287194]\n",
      " [4.60451554]\n",
      " ...\n",
      " [8.15799441]\n",
      " [5.88705625]\n",
      " [9.87036985]]\n"
     ]
    },
    {
     "name": "stderr",
     "output_type": "stream",
     "text": [
      "\n",
      " 67%|█████████████████████████████████████████████████████▍                          | 557/834 [08:10<06:49,  1.48s/it]"
     ]
    },
    {
     "name": "stdout",
     "output_type": "stream",
     "text": [
      "[[5.71450912]\n",
      " [4.44183538]\n",
      " [6.51973321]\n",
      " ...\n",
      " [7.33127505]\n",
      " [7.36495902]\n",
      " [1.52741478]]\n",
      "[[5.55645135]\n",
      " [4.70690474]\n",
      " [6.34587332]\n",
      " ...\n",
      " [6.73837597]\n",
      " [7.56390497]\n",
      " [1.31268362]]\n"
     ]
    },
    {
     "name": "stderr",
     "output_type": "stream",
     "text": [
      "\n",
      " 67%|█████████████████████████████████████████████████████▌                          | 558/834 [08:11<06:47,  1.48s/it]"
     ]
    },
    {
     "name": "stdout",
     "output_type": "stream",
     "text": [
      "[[5.98311055]\n",
      " [5.84411986]\n",
      " [8.87896468]\n",
      " ...\n",
      " [2.14620053]\n",
      " [5.54911923]\n",
      " [4.27802493]]\n",
      "[[5.86800335]\n",
      " [5.19267312]\n",
      " [9.22940576]\n",
      " ...\n",
      " [1.94687765]\n",
      " [5.26691818]\n",
      " [4.02725455]]\n"
     ]
    },
    {
     "name": "stderr",
     "output_type": "stream",
     "text": [
      "\n",
      " 67%|█████████████████████████████████████████████████████▌                          | 559/834 [08:13<06:45,  1.47s/it]"
     ]
    },
    {
     "name": "stdout",
     "output_type": "stream",
     "text": [
      "[[6.07981093]\n",
      " [4.98232605]\n",
      " [2.36445329]\n",
      " ...\n",
      " [2.36851471]\n",
      " [7.47935557]\n",
      " [7.60445363]]\n",
      "[[6.20653891]\n",
      " [4.80864916]\n",
      " [1.59144916]\n",
      " ...\n",
      " [2.55756987]\n",
      " [7.31718441]\n",
      " [7.03996631]]\n"
     ]
    },
    {
     "name": "stderr",
     "output_type": "stream",
     "text": [
      "\n",
      " 67%|█████████████████████████████████████████████████████▋                          | 560/834 [08:14<06:43,  1.47s/it]"
     ]
    },
    {
     "name": "stdout",
     "output_type": "stream",
     "text": [
      "[[9.02511119]\n",
      " [4.93004338]\n",
      " [3.27591887]\n",
      " ...\n",
      " [7.36844023]\n",
      " [5.08457059]\n",
      " [2.36625837]]\n",
      "[[9.29320558]\n",
      " [4.90197936]\n",
      " [2.9192526 ]\n",
      " ...\n",
      " [7.64256669]\n",
      " [4.99685701]\n",
      " [1.94307351]]\n"
     ]
    },
    {
     "name": "stderr",
     "output_type": "stream",
     "text": [
      "\n",
      " 67%|█████████████████████████████████████████████████████▊                          | 561/834 [08:16<06:43,  1.48s/it]"
     ]
    },
    {
     "name": "stdout",
     "output_type": "stream",
     "text": [
      "[[4.46310947]\n",
      " [5.21511611]\n",
      " [4.0003659 ]\n",
      " ...\n",
      " [4.22561333]\n",
      " [1.59626545]\n",
      " [3.33680787]]\n",
      "[[4.44245305]\n",
      " [5.13383802]\n",
      " [3.51617902]\n",
      " ...\n",
      " [4.1278384 ]\n",
      " [0.91489387]\n",
      " [3.26230154]]\n"
     ]
    },
    {
     "name": "stderr",
     "output_type": "stream",
     "text": [
      "\n",
      " 67%|█████████████████████████████████████████████████████▉                          | 562/834 [08:17<06:41,  1.48s/it]"
     ]
    },
    {
     "name": "stdout",
     "output_type": "stream",
     "text": [
      "[[5.3221312 ]\n",
      " [2.95883831]\n",
      " [5.72040784]\n",
      " ...\n",
      " [7.15241158]\n",
      " [0.53024043]\n",
      " [6.08593529]]\n",
      "[[5.18819198]\n",
      " [2.32961206]\n",
      " [6.0447988 ]\n",
      " ...\n",
      " [7.31905424]\n",
      " [0.3132284 ]\n",
      " [5.84514632]]\n"
     ]
    },
    {
     "name": "stderr",
     "output_type": "stream",
     "text": [
      "\n",
      " 68%|██████████████████████████████████████████████████████                          | 563/834 [08:19<06:32,  1.45s/it]"
     ]
    },
    {
     "name": "stdout",
     "output_type": "stream",
     "text": [
      "[[1.63571921]\n",
      " [4.75063194]\n",
      " [4.28227975]\n",
      " ...\n",
      " [2.67708563]\n",
      " [3.87652494]\n",
      " [2.24734913]]\n",
      "[[1.47100646]\n",
      " [4.52553144]\n",
      " [3.64032914]\n",
      " ...\n",
      " [2.73436532]\n",
      " [3.74732843]\n",
      " [1.62600874]]\n"
     ]
    },
    {
     "name": "stderr",
     "output_type": "stream",
     "text": [
      "\n",
      " 68%|██████████████████████████████████████████████████████                          | 564/834 [08:20<06:27,  1.44s/it]"
     ]
    },
    {
     "name": "stdout",
     "output_type": "stream",
     "text": [
      "[[3.94299034]\n",
      " [4.48457695]\n",
      " [4.57831185]\n",
      " ...\n",
      " [2.62383595]\n",
      " [4.39883594]\n",
      " [2.28309604]]\n",
      "[[3.79155953]\n",
      " [4.21987906]\n",
      " [4.38355347]\n",
      " ...\n",
      " [2.75619072]\n",
      " [4.41437339]\n",
      " [1.84284429]]\n"
     ]
    },
    {
     "name": "stderr",
     "output_type": "stream",
     "text": [
      "\n",
      " 68%|██████████████████████████████████████████████████████▏                         | 565/834 [08:21<06:26,  1.44s/it]"
     ]
    },
    {
     "name": "stdout",
     "output_type": "stream",
     "text": [
      "[[5.03164325]\n",
      " [6.4423729 ]\n",
      " [5.4918726 ]\n",
      " ...\n",
      " [1.38213857]\n",
      " [4.36950349]\n",
      " [7.0495546 ]]\n",
      "[[5.44748552]\n",
      " [6.31521459]\n",
      " [4.96742334]\n",
      " ...\n",
      " [0.81569628]\n",
      " [4.18370756]\n",
      " [6.78847447]]\n"
     ]
    },
    {
     "name": "stderr",
     "output_type": "stream",
     "text": [
      "\n",
      " 68%|██████████████████████████████████████████████████████▎                         | 566/834 [08:23<06:19,  1.42s/it]"
     ]
    },
    {
     "name": "stdout",
     "output_type": "stream",
     "text": [
      "[[7.30977533]\n",
      " [7.62811299]\n",
      " [6.3842882 ]\n",
      " ...\n",
      " [3.90050664]\n",
      " [8.91480828]\n",
      " [4.03521027]]\n",
      "[[6.64955915]\n",
      " [7.80056714]\n",
      " [6.19077432]\n",
      " ...\n",
      " [3.51975749]\n",
      " [9.19046176]\n",
      " [3.57395026]]\n"
     ]
    },
    {
     "name": "stderr",
     "output_type": "stream",
     "text": [
      "\n",
      " 68%|██████████████████████████████████████████████████████▍                         | 567/834 [08:24<06:13,  1.40s/it]"
     ]
    },
    {
     "name": "stdout",
     "output_type": "stream",
     "text": [
      "[[6.06433887]\n",
      " [4.18061541]\n",
      " [3.76738244]\n",
      " ...\n",
      " [4.56039005]\n",
      " [3.86363156]\n",
      " [3.0396476 ]]\n",
      "[[5.99666685]\n",
      " [4.14424775]\n",
      " [4.12351845]\n",
      " ...\n",
      " [4.75294119]\n",
      " [3.33116278]\n",
      " [3.49135545]]\n"
     ]
    },
    {
     "name": "stderr",
     "output_type": "stream",
     "text": [
      "\n",
      " 68%|██████████████████████████████████████████████████████▍                         | 568/834 [08:25<06:09,  1.39s/it]"
     ]
    },
    {
     "name": "stdout",
     "output_type": "stream",
     "text": [
      "[[2.21946718]\n",
      " [0.55183685]\n",
      " [3.57146747]\n",
      " ...\n",
      " [6.68431726]\n",
      " [5.56497809]\n",
      " [3.90708226]]\n",
      "[[2.18073508]\n",
      " [0.00802736]\n",
      " [3.86009839]\n",
      " ...\n",
      " [7.04038541]\n",
      " [5.84079413]\n",
      " [3.81722131]]\n"
     ]
    },
    {
     "name": "stderr",
     "output_type": "stream",
     "text": [
      "\n",
      " 68%|██████████████████████████████████████████████████████▌                         | 569/834 [08:27<06:05,  1.38s/it]"
     ]
    },
    {
     "name": "stdout",
     "output_type": "stream",
     "text": [
      "[[4.51610127]\n",
      " [4.09648608]\n",
      " [7.4606924 ]\n",
      " ...\n",
      " [4.2612313 ]\n",
      " [5.88631346]\n",
      " [5.16837759]]\n",
      "[[4.43104065]\n",
      " [3.61563452]\n",
      " [7.8144619 ]\n",
      " ...\n",
      " [4.17303665]\n",
      " [6.29690317]\n",
      " [5.059464  ]]\n"
     ]
    },
    {
     "name": "stderr",
     "output_type": "stream",
     "text": [
      "\n",
      " 68%|██████████████████████████████████████████████████████▋                         | 570/834 [08:28<06:04,  1.38s/it]"
     ]
    },
    {
     "name": "stdout",
     "output_type": "stream",
     "text": [
      "[[5.5253954 ]\n",
      " [2.91964242]\n",
      " [3.39121796]\n",
      " ...\n",
      " [5.7178614 ]\n",
      " [6.53120832]\n",
      " [6.76728618]]\n",
      "[[6.04238092]\n",
      " [2.80819128]\n",
      " [3.21487883]\n",
      " ...\n",
      " [5.58646531]\n",
      " [6.92709963]\n",
      " [6.71900069]]\n"
     ]
    },
    {
     "name": "stderr",
     "output_type": "stream",
     "text": [
      "\n",
      " 68%|██████████████████████████████████████████████████████▊                         | 571/834 [08:30<06:02,  1.38s/it]"
     ]
    },
    {
     "name": "stdout",
     "output_type": "stream",
     "text": [
      "[[5.9209322 ]\n",
      " [9.87281898]\n",
      " [5.84108992]\n",
      " ...\n",
      " [1.58498374]\n",
      " [3.20606896]\n",
      " [4.02486333]]\n",
      "[[ 5.45673794]\n",
      " [10.24124053]\n",
      " [ 5.78534407]\n",
      " ...\n",
      " [ 1.4507285 ]\n",
      " [ 3.11842151]\n",
      " [ 4.56695779]]\n"
     ]
    },
    {
     "name": "stderr",
     "output_type": "stream",
     "text": [
      "\n",
      " 69%|██████████████████████████████████████████████████████▊                         | 572/834 [08:31<06:04,  1.39s/it]"
     ]
    },
    {
     "name": "stdout",
     "output_type": "stream",
     "text": [
      "[[4.69705992]\n",
      " [7.98203639]\n",
      " [3.00460983]\n",
      " ...\n",
      " [3.88535691]\n",
      " [8.25782588]\n",
      " [6.46706373]]\n",
      "[[4.66493033]\n",
      " [8.37479772]\n",
      " [2.9363712 ]\n",
      " ...\n",
      " [3.85058806]\n",
      " [8.18462334]\n",
      " [5.57231265]]\n"
     ]
    },
    {
     "name": "stderr",
     "output_type": "stream",
     "text": [
      "\n",
      " 69%|██████████████████████████████████████████████████████▉                         | 573/834 [08:32<06:02,  1.39s/it]"
     ]
    },
    {
     "name": "stdout",
     "output_type": "stream",
     "text": [
      "[[9.23578909]\n",
      " [5.68933479]\n",
      " [5.04208689]\n",
      " ...\n",
      " [6.9989803 ]\n",
      " [7.25056246]\n",
      " [7.03037569]]\n",
      "[[9.61700818]\n",
      " [5.63024507]\n",
      " [5.53491609]\n",
      " ...\n",
      " [6.88857473]\n",
      " [6.72638329]\n",
      " [7.31940886]]\n"
     ]
    },
    {
     "name": "stderr",
     "output_type": "stream",
     "text": [
      "\n",
      " 69%|███████████████████████████████████████████████████████                         | 574/834 [08:34<06:02,  1.40s/it]"
     ]
    },
    {
     "name": "stdout",
     "output_type": "stream",
     "text": [
      "[[3.2586095 ]\n",
      " [5.64549728]\n",
      " [5.54538015]\n",
      " ...\n",
      " [5.02929021]\n",
      " [1.98538779]\n",
      " [5.69823122]]\n",
      "[[3.19953335]\n",
      " [5.60345495]\n",
      " [4.96997017]\n",
      " ...\n",
      " [5.13538546]\n",
      " [2.02779606]\n",
      " [5.69810693]]\n"
     ]
    },
    {
     "name": "stderr",
     "output_type": "stream",
     "text": [
      "\n",
      " 69%|███████████████████████████████████████████████████████▏                        | 575/834 [08:35<06:02,  1.40s/it]"
     ]
    },
    {
     "name": "stdout",
     "output_type": "stream",
     "text": [
      "[[4.24559807]\n",
      " [5.76037733]\n",
      " [4.7584002 ]\n",
      " ...\n",
      " [8.93079608]\n",
      " [2.24054787]\n",
      " [7.49189439]]\n",
      "[[4.25327805]\n",
      " [6.20750606]\n",
      " [4.78572765]\n",
      " ...\n",
      " [9.18024219]\n",
      " [2.46646412]\n",
      " [7.35500006]]\n"
     ]
    },
    {
     "name": "stderr",
     "output_type": "stream",
     "text": [
      "\n",
      " 69%|███████████████████████████████████████████████████████▎                        | 576/834 [08:37<05:59,  1.39s/it]"
     ]
    },
    {
     "name": "stdout",
     "output_type": "stream",
     "text": [
      "[[7.55755395]\n",
      " [8.98604423]\n",
      " [5.01584885]\n",
      " ...\n",
      " [5.50367005]\n",
      " [7.44096552]\n",
      " [5.02319808]]\n",
      "[[7.01659346]\n",
      " [9.27547445]\n",
      " [4.97048599]\n",
      " ...\n",
      " [5.4803687 ]\n",
      " [7.78992847]\n",
      " [4.98312344]]\n"
     ]
    },
    {
     "name": "stderr",
     "output_type": "stream",
     "text": [
      "\n",
      " 69%|███████████████████████████████████████████████████████▎                        | 577/834 [08:38<05:57,  1.39s/it]"
     ]
    },
    {
     "name": "stdout",
     "output_type": "stream",
     "text": [
      "[[2.3587802 ]\n",
      " [4.50021018]\n",
      " [5.17018266]\n",
      " ...\n",
      " [5.70525811]\n",
      " [4.04481584]\n",
      " [1.26941816]]\n",
      "[[2.05162024]\n",
      " [4.50780031]\n",
      " [5.13112999]\n",
      " ...\n",
      " [6.15521536]\n",
      " [4.09556775]\n",
      " [0.709374  ]]\n"
     ]
    },
    {
     "name": "stderr",
     "output_type": "stream",
     "text": [
      "\n",
      " 69%|███████████████████████████████████████████████████████▍                        | 578/834 [08:39<05:55,  1.39s/it]"
     ]
    },
    {
     "name": "stdout",
     "output_type": "stream",
     "text": [
      "[[3.09270387]\n",
      " [4.98148798]\n",
      " [2.23374661]\n",
      " ...\n",
      " [4.97478342]\n",
      " [8.16228591]\n",
      " [0.38731727]]\n",
      "[[3.16819761]\n",
      " [4.96565022]\n",
      " [1.6081809 ]\n",
      " ...\n",
      " [4.48059109]\n",
      " [8.49649772]\n",
      " [0.28260191]]\n"
     ]
    },
    {
     "name": "stderr",
     "output_type": "stream",
     "text": [
      "\n",
      " 69%|███████████████████████████████████████████████████████▌                        | 579/834 [08:41<05:56,  1.40s/it]"
     ]
    },
    {
     "name": "stdout",
     "output_type": "stream",
     "text": [
      "[[6.00667321]\n",
      " [1.64281057]\n",
      " [4.81535673]\n",
      " ...\n",
      " [7.78006153]\n",
      " [2.72024623]\n",
      " [5.00740369]]\n",
      "[[5.88657268]\n",
      " [1.58993396]\n",
      " [4.70113406]\n",
      " ...\n",
      " [8.08661857]\n",
      " [2.92131586]\n",
      " [4.95417335]]\n"
     ]
    },
    {
     "name": "stderr",
     "output_type": "stream",
     "text": [
      "\n",
      " 70%|███████████████████████████████████████████████████████▋                        | 580/834 [08:42<05:53,  1.39s/it]"
     ]
    },
    {
     "name": "stdout",
     "output_type": "stream",
     "text": [
      "[[5.28412795]\n",
      " [4.09480994]\n",
      " [4.81542119]\n",
      " ...\n",
      " [3.58448979]\n",
      " [2.9058465 ]\n",
      " [4.49798607]]\n",
      "[[4.8127112 ]\n",
      " [4.03267061]\n",
      " [4.69078553]\n",
      " ...\n",
      " [3.18873348]\n",
      " [3.58265463]\n",
      " [4.67888956]]\n"
     ]
    },
    {
     "name": "stderr",
     "output_type": "stream",
     "text": [
      "\n",
      " 70%|███████████████████████████████████████████████████████▋                        | 581/834 [08:44<05:52,  1.39s/it]"
     ]
    },
    {
     "name": "stdout",
     "output_type": "stream",
     "text": [
      "[[2.60136923]\n",
      " [5.02638919]\n",
      " [6.39350697]\n",
      " ...\n",
      " [2.46940544]\n",
      " [1.16395027]\n",
      " [4.22567779]]\n",
      "[[2.29988825]\n",
      " [5.61112769]\n",
      " [6.42282641]\n",
      " ...\n",
      " [2.53010274]\n",
      " [0.80412269]\n",
      " [4.28106756]]\n"
     ]
    },
    {
     "name": "stderr",
     "output_type": "stream",
     "text": [
      "\n",
      " 70%|███████████████████████████████████████████████████████▊                        | 582/834 [08:45<05:49,  1.39s/it]"
     ]
    },
    {
     "name": "stdout",
     "output_type": "stream",
     "text": [
      "[[6.88429365]\n",
      " [6.8541876 ]\n",
      " [7.33433723]\n",
      " ...\n",
      " [5.2879315 ]\n",
      " [4.08968482]\n",
      " [8.77710694]]\n",
      "[[6.86620127]\n",
      " [6.47379533]\n",
      " [7.74788958]\n",
      " ...\n",
      " [5.22055934]\n",
      " [3.73175728]\n",
      " [9.10825381]]\n"
     ]
    },
    {
     "name": "stderr",
     "output_type": "stream",
     "text": [
      "\n",
      " 70%|███████████████████████████████████████████████████████▉                        | 583/834 [08:46<05:50,  1.40s/it]"
     ]
    },
    {
     "name": "stdout",
     "output_type": "stream",
     "text": [
      "[[4.04156026]\n",
      " [6.15217505]\n",
      " [4.23811991]\n",
      " ...\n",
      " [1.57573274]\n",
      " [4.60287375]\n",
      " [3.57427178]]\n",
      "[[3.61656944]\n",
      " [6.15202375]\n",
      " [4.17016743]\n",
      " ...\n",
      " [1.08456463]\n",
      " [4.96851944]\n",
      " [3.26065738]]\n"
     ]
    },
    {
     "name": "stderr",
     "output_type": "stream",
     "text": [
      "\n",
      " 70%|████████████████████████████████████████████████████████                        | 584/834 [08:48<05:49,  1.40s/it]"
     ]
    },
    {
     "name": "stdout",
     "output_type": "stream",
     "text": [
      "[[2.88495922]\n",
      " [2.83183848]\n",
      " [1.13880817]\n",
      " ...\n",
      " [4.49898531]\n",
      " [6.45636222]\n",
      " [5.40110318]]\n",
      "[[3.48597163]\n",
      " [2.92882741]\n",
      " [0.75876324]\n",
      " ...\n",
      " [4.45467141]\n",
      " [6.87874202]\n",
      " [5.73630944]]\n"
     ]
    },
    {
     "name": "stderr",
     "output_type": "stream",
     "text": [
      "\n",
      " 70%|████████████████████████████████████████████████████████                        | 585/834 [08:49<05:47,  1.40s/it]"
     ]
    },
    {
     "name": "stdout",
     "output_type": "stream",
     "text": [
      "[[3.77888979]\n",
      " [4.8422072 ]\n",
      " [4.28137721]\n",
      " ...\n",
      " [3.46290517]\n",
      " [3.96610173]\n",
      " [5.16521871]]\n",
      "[[3.7435243 ]\n",
      " [4.82128662]\n",
      " [3.82466838]\n",
      " ...\n",
      " [3.5503195 ]\n",
      " [4.01045834]\n",
      " [5.74214459]]\n"
     ]
    },
    {
     "name": "stderr",
     "output_type": "stream",
     "text": [
      "\n",
      " 70%|████████████████████████████████████████████████████████▏                       | 586/834 [08:51<05:49,  1.41s/it]"
     ]
    },
    {
     "name": "stdout",
     "output_type": "stream",
     "text": [
      "[[4.96885247]\n",
      " [5.24618916]\n",
      " [2.75931319]\n",
      " ...\n",
      " [1.54314471]\n",
      " [5.77746107]\n",
      " [6.52347229]]\n",
      "[[5.01474932]\n",
      " [5.88473509]\n",
      " [2.81641207]\n",
      " ...\n",
      " [1.16035713]\n",
      " [5.6985905 ]\n",
      " [6.94012395]]\n"
     ]
    },
    {
     "name": "stderr",
     "output_type": "stream",
     "text": [
      "\n",
      " 70%|████████████████████████████████████████████████████████▎                       | 587/834 [08:52<05:47,  1.41s/it]"
     ]
    },
    {
     "name": "stdout",
     "output_type": "stream",
     "text": [
      "[[6.75142732]\n",
      " [6.05718304]\n",
      " [9.77505489]\n",
      " ...\n",
      " [1.05816005]\n",
      " [1.40180098]\n",
      " [3.41245981]]\n",
      "[[ 6.75849274]\n",
      " [ 5.67973103]\n",
      " [10.16551251]\n",
      " ...\n",
      " [ 1.04716807]\n",
      " [ 1.37387213]\n",
      " [ 3.44828493]]\n"
     ]
    },
    {
     "name": "stderr",
     "output_type": "stream",
     "text": [
      "\n",
      " 71%|████████████████████████████████████████████████████████▍                       | 588/834 [08:53<05:44,  1.40s/it]"
     ]
    },
    {
     "name": "stdout",
     "output_type": "stream",
     "text": [
      "[[2.90014118]\n",
      " [4.66714727]\n",
      " [7.80033637]\n",
      " ...\n",
      " [7.9660486 ]\n",
      " [3.5706294 ]\n",
      " [7.93594254]]\n",
      "[[3.55405916]\n",
      " [4.74952392]\n",
      " [8.31128805]\n",
      " ...\n",
      " [8.62293677]\n",
      " [3.83953029]\n",
      " [8.15573772]]\n"
     ]
    },
    {
     "name": "stderr",
     "output_type": "stream",
     "text": [
      "\n",
      " 71%|████████████████████████████████████████████████████████▍                       | 589/834 [08:55<05:44,  1.40s/it]"
     ]
    },
    {
     "name": "stdout",
     "output_type": "stream",
     "text": [
      "[[6.25187314]\n",
      " [9.11510701]\n",
      " [5.31748958]\n",
      " ...\n",
      " [6.52147381]\n",
      " [6.81273536]\n",
      " [7.09806596]]\n",
      "[[5.73363365]\n",
      " [9.76901229]\n",
      " [5.55696716]\n",
      " ...\n",
      " [6.88734967]\n",
      " [6.75926647]\n",
      " [6.63414919]]\n"
     ]
    },
    {
     "name": "stderr",
     "output_type": "stream",
     "text": [
      "\n",
      " 71%|████████████████████████████████████████████████████████▌                       | 590/834 [08:56<05:42,  1.40s/it]"
     ]
    },
    {
     "name": "stdout",
     "output_type": "stream",
     "text": [
      "[[6.72080553]\n",
      " [3.10582289]\n",
      " [5.5077637 ]\n",
      " ...\n",
      " [6.92187786]\n",
      " [4.84707445]\n",
      " [1.74885866]]\n",
      "[[7.02694199]\n",
      " [3.1018832 ]\n",
      " [5.52034433]\n",
      " ...\n",
      " [7.43833636]\n",
      " [5.01781197]\n",
      " [1.84851825]]\n"
     ]
    },
    {
     "name": "stderr",
     "output_type": "stream",
     "text": [
      "\n",
      " 71%|████████████████████████████████████████████████████████▋                       | 591/834 [08:58<05:42,  1.41s/it]"
     ]
    },
    {
     "name": "stdout",
     "output_type": "stream",
     "text": [
      "[[5.53342153]\n",
      " [4.17842354]\n",
      " [5.88982691]\n",
      " ...\n",
      " [2.99400502]\n",
      " [8.3961719 ]\n",
      " [2.2311357 ]]\n",
      "[[5.59184912]\n",
      " [4.27507122]\n",
      " [6.34445483]\n",
      " ...\n",
      " [2.23357384]\n",
      " [8.61226586]\n",
      " [2.40292221]]\n"
     ]
    },
    {
     "name": "stderr",
     "output_type": "stream",
     "text": [
      "\n",
      " 71%|████████████████████████████████████████████████████████▊                       | 592/834 [08:59<05:42,  1.42s/it]"
     ]
    },
    {
     "name": "stdout",
     "output_type": "stream",
     "text": [
      "[[7.37927067]\n",
      " [7.48467409]\n",
      " [8.96235264]\n",
      " ...\n",
      " [3.9999791 ]\n",
      " [5.22968563]\n",
      " [7.28592257]]\n",
      "[[7.22043694]\n",
      " [6.92032957]\n",
      " [9.21090091]\n",
      " ...\n",
      " [4.00881418]\n",
      " [5.26027706]\n",
      " [7.69714632]]\n"
     ]
    },
    {
     "name": "stderr",
     "output_type": "stream",
     "text": [
      "\n",
      " 71%|████████████████████████████████████████████████████████▉                       | 593/834 [09:01<05:45,  1.43s/it]"
     ]
    },
    {
     "name": "stdout",
     "output_type": "stream",
     "text": [
      "[[4.78064129]\n",
      " [2.01185146]\n",
      " [4.13652004]\n",
      " ...\n",
      " [0.22144388]\n",
      " [5.38414838]\n",
      " [3.91887971]]\n",
      "[[ 4.79965465]\n",
      " [ 1.62130193]\n",
      " [ 4.18509382]\n",
      " ...\n",
      " [-0.36532567]\n",
      " [ 5.88628253]\n",
      " [ 4.04192303]]\n"
     ]
    },
    {
     "name": "stderr",
     "output_type": "stream",
     "text": [
      "\n",
      " 71%|████████████████████████████████████████████████████████▉                       | 594/834 [09:02<05:43,  1.43s/it]"
     ]
    },
    {
     "name": "stdout",
     "output_type": "stream",
     "text": [
      "[[1.10335137]\n",
      " [2.96783145]\n",
      " [4.81245571]\n",
      " ...\n",
      " [6.00960645]\n",
      " [4.76046314]\n",
      " [7.80981301]]\n",
      "[[0.6147865 ]\n",
      " [3.09630596]\n",
      " [4.88186259]\n",
      " ...\n",
      " [6.00211514]\n",
      " [4.44264648]\n",
      " [8.27853383]]\n"
     ]
    },
    {
     "name": "stderr",
     "output_type": "stream",
     "text": [
      "\n",
      " 71%|█████████████████████████████████████████████████████████                       | 595/834 [09:03<05:41,  1.43s/it]"
     ]
    },
    {
     "name": "stdout",
     "output_type": "stream",
     "text": [
      "[[0.23936568]\n",
      " [5.79460927]\n",
      " [1.42336517]\n",
      " ...\n",
      " [4.05890187]\n",
      " [7.67011319]\n",
      " [2.69094602]]\n",
      "[[0.27676676]\n",
      " [5.80388115]\n",
      " [1.50701677]\n",
      " ...\n",
      " [3.81422313]\n",
      " [8.04848053]\n",
      " [2.95761631]]\n"
     ]
    },
    {
     "name": "stderr",
     "output_type": "stream",
     "text": [
      "\n",
      " 71%|█████████████████████████████████████████████████████████▏                      | 596/834 [09:05<05:38,  1.42s/it]"
     ]
    },
    {
     "name": "stdout",
     "output_type": "stream",
     "text": [
      "[[3.77324893]\n",
      " [1.98197104]\n",
      " [3.73337614]\n",
      " ...\n",
      " [3.31534039]\n",
      " [2.32377466]\n",
      " [2.64185446]]\n",
      "[[3.7545176 ]\n",
      " [1.45408129]\n",
      " [3.69648846]\n",
      " ...\n",
      " [3.48809937]\n",
      " [2.06093715]\n",
      " [3.34473515]]\n"
     ]
    },
    {
     "name": "stderr",
     "output_type": "stream",
     "text": [
      "\n",
      " 72%|█████████████████████████████████████████████████████████▎                      | 597/834 [09:06<05:41,  1.44s/it]"
     ]
    },
    {
     "name": "stdout",
     "output_type": "stream",
     "text": [
      "[[3.76976772]\n",
      " [1.94603074]\n",
      " [4.59043164]\n",
      " ...\n",
      " [2.20712177]\n",
      " [2.49235566]\n",
      " [1.16620662]]\n",
      "[[3.99643463]\n",
      " [1.71911327]\n",
      " [5.26656355]\n",
      " ...\n",
      " [1.73429756]\n",
      " [2.47188017]\n",
      " [0.82527109]]\n"
     ]
    },
    {
     "name": "stderr",
     "output_type": "stream",
     "text": [
      "\n",
      " 72%|█████████████████████████████████████████████████████████▎                      | 598/834 [09:08<05:40,  1.44s/it]"
     ]
    },
    {
     "name": "stdout",
     "output_type": "stream",
     "text": [
      "[[4.16111417]\n",
      " [6.85115765]\n",
      " [7.07904822]\n",
      " ...\n",
      " [3.82037425]\n",
      " [5.13968981]\n",
      " [3.88774219]]\n",
      "[[4.18805975]\n",
      " [6.81168612]\n",
      " [6.63447158]\n",
      " ...\n",
      " [3.73104803]\n",
      " [5.08960692]\n",
      " [3.63745993]]\n"
     ]
    },
    {
     "name": "stderr",
     "output_type": "stream",
     "text": [
      "\n",
      " 72%|█████████████████████████████████████████████████████████▍                      | 599/834 [09:09<05:36,  1.43s/it]"
     ]
    },
    {
     "name": "stdout",
     "output_type": "stream",
     "text": [
      "[[8.74203693]\n",
      " [4.31715635]\n",
      " [5.92347865]\n",
      " ...\n",
      " [4.65528536]\n",
      " [1.57092995]\n",
      " [4.93926215]]\n",
      "[[9.1011936 ]\n",
      " [3.93876012]\n",
      " [5.96678184]\n",
      " ...\n",
      " [4.99498718]\n",
      " [0.86524672]\n",
      " [5.1248435 ]]\n"
     ]
    },
    {
     "name": "stderr",
     "output_type": "stream",
     "text": [
      "\n",
      " 72%|█████████████████████████████████████████████████████████▌                      | 600/834 [09:11<05:35,  1.43s/it]"
     ]
    },
    {
     "name": "stdout",
     "output_type": "stream",
     "text": [
      "[[3.78037253]\n",
      " [3.15652613]\n",
      " [3.13625128]\n",
      " ...\n",
      " [4.50327236]\n",
      " [4.3866517 ]\n",
      " [6.14157024]]\n",
      "[[3.24595666]\n",
      " [3.56698676]\n",
      " [3.08328164]\n",
      " ...\n",
      " [4.12293816]\n",
      " [4.32907056]\n",
      " [6.59514071]]\n"
     ]
    },
    {
     "name": "stderr",
     "output_type": "stream",
     "text": [
      "\n",
      " 72%|█████████████████████████████████████████████████████████▋                      | 601/834 [09:12<05:33,  1.43s/it]"
     ]
    },
    {
     "name": "stdout",
     "output_type": "stream",
     "text": [
      "[[5.39201334]\n",
      " [3.78059816]\n",
      " [4.40973085]\n",
      " ...\n",
      " [7.8498792 ]\n",
      " [3.40427251]\n",
      " [3.88477671]]\n",
      "[[5.75394385]\n",
      " [3.77186186]\n",
      " [4.4037992 ]\n",
      " ...\n",
      " [8.37605502]\n",
      " [3.56063579]\n",
      " [4.01919495]]\n"
     ]
    },
    {
     "name": "stderr",
     "output_type": "stream",
     "text": [
      "\n",
      " 72%|█████████████████████████████████████████████████████████▋                      | 602/834 [09:13<05:31,  1.43s/it]"
     ]
    },
    {
     "name": "stdout",
     "output_type": "stream",
     "text": [
      "[[5.3141373 ]\n",
      " [4.92594973]\n",
      " [5.17685499]\n",
      " ...\n",
      " [4.33788247]\n",
      " [1.86335191]\n",
      " [5.96209433]]\n",
      "[[5.95914134]\n",
      " [5.03886366]\n",
      " [5.89379408]\n",
      " ...\n",
      " [4.32697506]\n",
      " [1.4543392 ]\n",
      " [5.87619191]]\n"
     ]
    },
    {
     "name": "stderr",
     "output_type": "stream",
     "text": [
      "\n",
      " 72%|█████████████████████████████████████████████████████████▊                      | 603/834 [09:15<05:30,  1.43s/it]"
     ]
    },
    {
     "name": "stdout",
     "output_type": "stream",
     "text": [
      "[[6.55564128]\n",
      " [6.83694269]\n",
      " [6.1133982 ]\n",
      " ...\n",
      " [7.54997908]\n",
      " [1.28579276]\n",
      " [1.56886701]]\n",
      "[[6.97400652]\n",
      " [6.84279619]\n",
      " [5.71783683]\n",
      " ...\n",
      " [7.91578723]\n",
      " [1.14610775]\n",
      " [1.40704545]]\n"
     ]
    },
    {
     "name": "stderr",
     "output_type": "stream",
     "text": [
      "\n",
      " 72%|█████████████████████████████████████████████████████████▉                      | 604/834 [09:16<05:32,  1.45s/it]"
     ]
    },
    {
     "name": "stdout",
     "output_type": "stream",
     "text": [
      "[[3.89341528]\n",
      " [3.47799043]\n",
      " [4.85616429]\n",
      " ...\n",
      " [5.49019646]\n",
      " [8.32342098]\n",
      " [3.28858662]]\n",
      "[[3.79004433]\n",
      " [4.04276123]\n",
      " [4.79436755]\n",
      " ...\n",
      " [5.45815643]\n",
      " [8.71075421]\n",
      " [3.27290797]]\n"
     ]
    },
    {
     "name": "stderr",
     "output_type": "stream",
     "text": [
      "\n",
      " 73%|██████████████████████████████████████████████████████████                      | 605/834 [09:18<05:31,  1.45s/it]"
     ]
    },
    {
     "name": "stdout",
     "output_type": "stream",
     "text": [
      "[[8.001312  ]\n",
      " [6.17902552]\n",
      " [8.26675455]\n",
      " ...\n",
      " [0.79938983]\n",
      " [6.51270631]\n",
      " [6.99814223]]\n",
      "[[7.94628476]\n",
      " [5.32478612]\n",
      " [8.68544705]\n",
      " ...\n",
      " [0.07779129]\n",
      " [6.79434186]\n",
      " [6.8574969 ]]\n"
     ]
    },
    {
     "name": "stderr",
     "output_type": "stream",
     "text": [
      "\n",
      " 73%|██████████████████████████████████████████████████████████▏                     | 606/834 [09:19<05:29,  1.44s/it]"
     ]
    },
    {
     "name": "stdout",
     "output_type": "stream",
     "text": [
      "[[7.30874386]\n",
      " [7.07034518]\n",
      " [3.16539033]\n",
      " ...\n",
      " [7.50917152]\n",
      " [5.43772039]\n",
      " [2.88034983]]\n",
      "[[6.73266978]\n",
      " [7.29832494]\n",
      " [3.07357788]\n",
      " ...\n",
      " [7.73122232]\n",
      " [5.30425026]\n",
      " [2.7200837 ]]\n"
     ]
    },
    {
     "name": "stderr",
     "output_type": "stream",
     "text": [
      "\n",
      " 73%|██████████████████████████████████████████████████████████▏                     | 607/834 [09:21<05:28,  1.45s/it]"
     ]
    },
    {
     "name": "stdout",
     "output_type": "stream",
     "text": [
      "[[6.03990591]\n",
      " [4.34300759]\n",
      " [5.71537942]\n",
      " ...\n",
      " [3.06101838]\n",
      " [8.95310164]\n",
      " [2.2829671 ]]\n",
      "[[5.81129599]\n",
      " [4.12996613]\n",
      " [5.89824298]\n",
      " ...\n",
      " [2.29440772]\n",
      " [9.19323427]\n",
      " [2.46797932]]\n"
     ]
    },
    {
     "name": "stderr",
     "output_type": "stream",
     "text": [
      "\n",
      " 73%|██████████████████████████████████████████████████████████▎                     | 608/834 [09:22<05:28,  1.45s/it]"
     ]
    },
    {
     "name": "stdout",
     "output_type": "stream",
     "text": [
      "[[7.46456041]\n",
      " [7.260716  ]\n",
      " [9.31953162]\n",
      " ...\n",
      " [6.49139999]\n",
      " [4.21039913]\n",
      " [5.24792977]]\n",
      "[[7.29742226]\n",
      " [6.6515257 ]\n",
      " [9.58186831]\n",
      " ...\n",
      " [6.87316477]\n",
      " [4.21123917]\n",
      " [5.25208851]]\n"
     ]
    },
    {
     "name": "stderr",
     "output_type": "stream",
     "text": [
      "\n",
      " 73%|██████████████████████████████████████████████████████████▍                     | 609/834 [09:24<05:25,  1.45s/it]"
     ]
    },
    {
     "name": "stdout",
     "output_type": "stream",
     "text": [
      "[[7.30029869]\n",
      " [4.57586211]\n",
      " [1.58711115]\n",
      " ...\n",
      " [4.70598859]\n",
      " [0.11562142]\n",
      " [5.66345132]]\n",
      "[[ 7.69814571]\n",
      " [ 4.57295414]\n",
      " [ 1.15735896]\n",
      " ...\n",
      " [ 4.62318158]\n",
      " [-0.21980149]\n",
      " [ 6.14709128]]\n"
     ]
    },
    {
     "name": "stderr",
     "output_type": "stream",
     "text": [
      "\n",
      " 73%|██████████████████████████████████████████████████████████▌                     | 610/834 [09:25<05:23,  1.44s/it]"
     ]
    },
    {
     "name": "stdout",
     "output_type": "stream",
     "text": [
      "[[4.04401001]\n",
      " [1.40009261]\n",
      " [3.2180598 ]\n",
      " ...\n",
      " [8.49896441]\n",
      " [0.73975793]\n",
      " [6.17209533]]\n",
      "[[4.1134923 ]\n",
      " [0.86579477]\n",
      " [3.26820116]\n",
      " ...\n",
      " [8.65975304]\n",
      " [0.4256115 ]\n",
      " [5.88367122]]\n"
     ]
    },
    {
     "name": "stderr",
     "output_type": "stream",
     "text": [
      "\n",
      " 73%|██████████████████████████████████████████████████████████▌                     | 611/834 [09:26<05:24,  1.45s/it]"
     ]
    },
    {
     "name": "stdout",
     "output_type": "stream",
     "text": [
      "[[6.37384456]\n",
      " [5.91580708]\n",
      " [6.54719611]\n",
      " ...\n",
      " [4.20066463]\n",
      " [7.89700452]\n",
      " [2.94243148]]\n",
      "[[6.15034736]\n",
      " [5.63388801]\n",
      " [6.34242381]\n",
      " ...\n",
      " [3.86241956]\n",
      " [8.18278575]\n",
      " [3.12058148]]\n"
     ]
    },
    {
     "name": "stderr",
     "output_type": "stream",
     "text": [
      "\n",
      " 73%|██████████████████████████████████████████████████████████▋                     | 612/834 [09:28<05:22,  1.45s/it]"
     ]
    },
    {
     "name": "stdout",
     "output_type": "stream",
     "text": [
      "[[5.07083914]\n",
      " [5.20073998]\n",
      " [4.12562513]\n",
      " ...\n",
      " [0.80158171]\n",
      " [3.70581653]\n",
      " [2.5947936 ]]\n",
      "[[ 4.9925693 ]\n",
      " [ 4.7331468 ]\n",
      " [ 4.03431477]\n",
      " ...\n",
      " [-0.05406382]\n",
      " [ 3.56566498]\n",
      " [ 2.09033858]]\n"
     ]
    },
    {
     "name": "stderr",
     "output_type": "stream",
     "text": [
      "\n",
      " 74%|██████████████████████████████████████████████████████████▊                     | 613/834 [09:29<05:22,  1.46s/it]"
     ]
    },
    {
     "name": "stdout",
     "output_type": "stream",
     "text": [
      "[[3.00106414]\n",
      " [4.11092667]\n",
      " [2.29321734]\n",
      " ...\n",
      " [3.95630276]\n",
      " [2.64865572]\n",
      " [2.90616884]]\n",
      "[[3.41691696]\n",
      " [4.0353464 ]\n",
      " [1.75696117]\n",
      " ...\n",
      " [3.69349028]\n",
      " [1.94529796]\n",
      " [2.60051143]]\n"
     ]
    },
    {
     "name": "stderr",
     "output_type": "stream",
     "text": [
      "\n",
      " 74%|██████████████████████████████████████████████████████████▉                     | 614/834 [09:31<05:20,  1.46s/it]"
     ]
    },
    {
     "name": "stdout",
     "output_type": "stream",
     "text": [
      "[[1.54288684]\n",
      " [4.51996929]\n",
      " [7.37243718]\n",
      " ...\n",
      " [6.57504582]\n",
      " [4.07682367]\n",
      " [5.59821079]]\n",
      "[[0.9123148 ]\n",
      " [4.25102137]\n",
      " [7.04099794]\n",
      " ...\n",
      " [6.83476882]\n",
      " [3.81899442]\n",
      " [5.38890832]]\n"
     ]
    },
    {
     "name": "stderr",
     "output_type": "stream",
     "text": [
      "\n",
      " 74%|██████████████████████████████████████████████████████████▉                     | 615/834 [09:32<05:19,  1.46s/it]"
     ]
    },
    {
     "name": "stdout",
     "output_type": "stream",
     "text": [
      "[[4.35299996]\n",
      " [9.0455472 ]\n",
      " [4.49124928]\n",
      " ...\n",
      " [4.68390867]\n",
      " [4.93191292]\n",
      " [1.75814189]]\n",
      "[[3.93447241]\n",
      " [9.23385466]\n",
      " [3.9507528 ]\n",
      " ...\n",
      " [4.47120971]\n",
      " [5.21043648]\n",
      " [1.04790955]]\n"
     ]
    },
    {
     "name": "stderr",
     "output_type": "stream",
     "text": [
      "\n",
      " 74%|███████████████████████████████████████████████████████████                     | 616/834 [09:34<05:16,  1.45s/it]"
     ]
    },
    {
     "name": "stdout",
     "output_type": "stream",
     "text": [
      "[[5.17063393]\n",
      " [4.27460819]\n",
      " [3.25151814]\n",
      " ...\n",
      " [5.14410579]\n",
      " [4.67978279]\n",
      " [4.56654664]]\n",
      "[[5.35160848]\n",
      " [3.70960949]\n",
      " [3.63110896]\n",
      " ...\n",
      " [5.19837931]\n",
      " [4.28600004]\n",
      " [4.49161663]]\n"
     ]
    },
    {
     "name": "stderr",
     "output_type": "stream",
     "text": [
      "\n",
      " 74%|███████████████████████████████████████████████████████████▏                    | 617/834 [09:35<05:14,  1.45s/it]"
     ]
    },
    {
     "name": "stdout",
     "output_type": "stream",
     "text": [
      "[[5.95745271]\n",
      " [5.1284081 ]\n",
      " [3.83661992]\n",
      " ...\n",
      " [5.76508342]\n",
      " [8.04037896]\n",
      " [3.60067098]]\n",
      "[[6.31898648]\n",
      " [5.4734052 ]\n",
      " [3.79829736]\n",
      " ...\n",
      " [5.27771804]\n",
      " [8.31144925]\n",
      " [3.54983592]]\n"
     ]
    },
    {
     "name": "stderr",
     "output_type": "stream",
     "text": [
      "\n",
      " 74%|███████████████████████████████████████████████████████████▎                    | 618/834 [09:37<05:14,  1.46s/it]"
     ]
    },
    {
     "name": "stdout",
     "output_type": "stream",
     "text": [
      "[[5.18694406]\n",
      " [4.31022616]\n",
      " [5.54218904]\n",
      " ...\n",
      " [5.82955034]\n",
      " [4.51926015]\n",
      " [2.17040786]]\n",
      "[[5.11778329]\n",
      " [4.78285843]\n",
      " [5.47682247]\n",
      " ...\n",
      " [6.09760532]\n",
      " [4.37807294]\n",
      " [1.64854339]]\n"
     ]
    },
    {
     "name": "stderr",
     "output_type": "stream",
     "text": [
      "\n",
      " 74%|███████████████████████████████████████████████████████████▍                    | 619/834 [09:38<05:12,  1.46s/it]"
     ]
    },
    {
     "name": "stdout",
     "output_type": "stream",
     "text": [
      "[[6.10237435]\n",
      " [7.39435593]\n",
      " [6.91143422]\n",
      " ...\n",
      " [3.77924436]\n",
      " [7.27238452]\n",
      " [1.25446183]]\n",
      "[[5.8833166 ]\n",
      " [7.64859527]\n",
      " [6.78595987]\n",
      " ...\n",
      " [4.32217154]\n",
      " [7.64688664]\n",
      " [1.11286995]]\n"
     ]
    },
    {
     "name": "stderr",
     "output_type": "stream",
     "text": [
      "\n",
      " 74%|███████████████████████████████████████████████████████████▍                    | 620/834 [09:40<05:13,  1.47s/it]"
     ]
    },
    {
     "name": "stdout",
     "output_type": "stream",
     "text": [
      "[[1.56706194]\n",
      " [2.99913014]\n",
      " [3.80877021]\n",
      " ...\n",
      " [6.1319969 ]\n",
      " [5.59888769]\n",
      " [8.46044542]]\n",
      "[[1.40520786]\n",
      " [2.89433231]\n",
      " [4.35776274]\n",
      " ...\n",
      " [6.53350087]\n",
      " [5.54829503]\n",
      " [8.80511603]]\n"
     ]
    },
    {
     "name": "stderr",
     "output_type": "stream",
     "text": [
      "\n",
      " 74%|███████████████████████████████████████████████████████████▌                    | 621/834 [09:41<05:13,  1.47s/it]"
     ]
    },
    {
     "name": "stdout",
     "output_type": "stream",
     "text": [
      "[[2.91951349]\n",
      " [8.06996927]\n",
      " [6.2059727 ]\n",
      " ...\n",
      " [3.71065155]\n",
      " [0.70907167]\n",
      " [6.68702487]]\n",
      "[[2.86003064]\n",
      " [7.9719143 ]\n",
      " [5.26256599]\n",
      " ...\n",
      " [3.60157857]\n",
      " [0.10696705]\n",
      " [6.97648888]]\n"
     ]
    },
    {
     "name": "stderr",
     "output_type": "stream",
     "text": [
      "\n",
      " 75%|███████████████████████████████████████████████████████████▋                    | 622/834 [09:43<05:10,  1.47s/it]"
     ]
    },
    {
     "name": "stdout",
     "output_type": "stream",
     "text": [
      "[[7.05761297]\n",
      " [7.40015796]\n",
      " [7.15760116]\n",
      " ...\n",
      " [5.13182485]\n",
      " [4.29304573]\n",
      " [7.46655889]]\n",
      "[[6.9169123 ]\n",
      " [6.84408572]\n",
      " [7.38794772]\n",
      " ...\n",
      " [4.44645061]\n",
      " [3.71363929]\n",
      " [7.71284643]]\n"
     ]
    },
    {
     "name": "stderr",
     "output_type": "stream",
     "text": [
      "\n",
      " 75%|███████████████████████████████████████████████████████████▊                    | 623/834 [09:44<05:09,  1.47s/it]"
     ]
    },
    {
     "name": "stdout",
     "output_type": "stream",
     "text": [
      "[[5.34440452]\n",
      " [2.46882524]\n",
      " [6.01888969]\n",
      " ...\n",
      " [4.46578484]\n",
      " [5.4733706 ]\n",
      " [2.69329906]]\n",
      "[[5.21846384]\n",
      " [2.30759323]\n",
      " [5.78618226]\n",
      " ...\n",
      " [4.70593758]\n",
      " [5.41885781]\n",
      " [2.04256125]]\n"
     ]
    },
    {
     "name": "stderr",
     "output_type": "stream",
     "text": [
      "\n",
      " 75%|███████████████████████████████████████████████████████████▊                    | 624/834 [09:46<05:11,  1.48s/it]"
     ]
    },
    {
     "name": "stdout",
     "output_type": "stream",
     "text": [
      "[[8.23394089]\n",
      " [2.55018249]\n",
      " [7.07163452]\n",
      " ...\n",
      " [5.1034594 ]\n",
      " [7.02444474]\n",
      " [4.26078003]]\n",
      "[[8.58415396]\n",
      " [2.95664916]\n",
      " [7.02832824]\n",
      " ...\n",
      " [4.9462427 ]\n",
      " [7.33910653]\n",
      " [4.20140645]]\n"
     ]
    },
    {
     "name": "stderr",
     "output_type": "stream",
     "text": [
      "\n",
      " 75%|███████████████████████████████████████████████████████████▉                    | 625/834 [09:47<05:10,  1.49s/it]"
     ]
    },
    {
     "name": "stdout",
     "output_type": "stream",
     "text": [
      "[[5.35533166]\n",
      " [7.3365291 ]\n",
      " [4.66901681]\n",
      " ...\n",
      " [3.15723526]\n",
      " [5.04743764]\n",
      " [2.55079493]]\n",
      "[[5.29806048]\n",
      " [7.6654882 ]\n",
      " [4.60258124]\n",
      " ...\n",
      " [3.55521974]\n",
      " [4.9255134 ]\n",
      " [2.1863768 ]]\n"
     ]
    },
    {
     "name": "stderr",
     "output_type": "stream",
     "text": [
      "\n",
      " 75%|████████████████████████████████████████████████████████████                    | 626/834 [09:49<05:09,  1.49s/it]"
     ]
    },
    {
     "name": "stdout",
     "output_type": "stream",
     "text": [
      "[[7.0325031 ]\n",
      " [4.13142715]\n",
      " [1.69593131]\n",
      " ...\n",
      " [0.58387691]\n",
      " [5.99174912]\n",
      " [1.33008153]]\n",
      "[[7.42666605]\n",
      " [4.1282575 ]\n",
      " [1.15016979]\n",
      " ...\n",
      " [0.49689063]\n",
      " [5.92303432]\n",
      " [0.87591763]]\n"
     ]
    },
    {
     "name": "stderr",
     "output_type": "stream",
     "text": [
      "\n",
      " 75%|████████████████████████████████████████████████████████████▏                   | 627/834 [09:50<05:09,  1.49s/it]"
     ]
    },
    {
     "name": "stdout",
     "output_type": "stream",
     "text": [
      "[[3.31846703]\n",
      " [6.29732232]\n",
      " [4.43023133]\n",
      " ...\n",
      " [6.18418288]\n",
      " [4.16001823]\n",
      " [7.99102953]]\n",
      "[[3.29611963]\n",
      " [6.26737279]\n",
      " [4.41895125]\n",
      " ...\n",
      " [6.04550804]\n",
      " [3.78543423]\n",
      " [8.26138299]]\n"
     ]
    },
    {
     "name": "stderr",
     "output_type": "stream",
     "text": [
      "\n",
      " 75%|████████████████████████████████████████████████████████████▏                   | 628/834 [09:52<05:07,  1.49s/it]"
     ]
    },
    {
     "name": "stdout",
     "output_type": "stream",
     "text": [
      "[[2.98933117]\n",
      " [4.74570022]\n",
      " [4.99928085]\n",
      " ...\n",
      " [2.99435959]\n",
      " [0.45333139]\n",
      " [3.47476709]]\n",
      "[[ 3.05568556]\n",
      " [ 4.6334334 ]\n",
      " [ 4.48162272]\n",
      " ...\n",
      " [ 3.05213933]\n",
      " [-0.09281439]\n",
      " [ 3.53213704]]\n"
     ]
    },
    {
     "name": "stderr",
     "output_type": "stream",
     "text": [
      "\n",
      " 75%|████████████████████████████████████████████████████████████▎                   | 629/834 [09:53<05:06,  1.49s/it]"
     ]
    },
    {
     "name": "stdout",
     "output_type": "stream",
     "text": [
      "[[2.32383913]\n",
      " [2.79838014]\n",
      " [3.82617628]\n",
      " ...\n",
      " [5.62177345]\n",
      " [3.78730272]\n",
      " [2.62947681]]\n",
      "[[2.02676443]\n",
      " [3.43194005]\n",
      " [3.94095233]\n",
      " ...\n",
      " [5.54645744]\n",
      " [3.69745561]\n",
      " [2.0930466 ]]\n"
     ]
    },
    {
     "name": "stderr",
     "output_type": "stream",
     "text": [
      "\n",
      " 76%|████████████████████████████████████████████████████████████▍                   | 630/834 [09:55<05:05,  1.50s/it]"
     ]
    },
    {
     "name": "stdout",
     "output_type": "stream",
     "text": [
      "[[3.04245191]\n",
      " [2.11886655]\n",
      " [4.47497138]\n",
      " ...\n",
      " [4.22148744]\n",
      " [6.57552933]\n",
      " [3.6392222 ]]\n",
      "[[2.95155549]\n",
      " [1.59086887]\n",
      " [4.39203218]\n",
      " ...\n",
      " [4.15527328]\n",
      " [6.91426875]\n",
      " [3.4692399 ]]\n"
     ]
    },
    {
     "name": "stderr",
     "output_type": "stream",
     "text": [
      "\n",
      " 76%|████████████████████████████████████████████████████████████▌                   | 631/834 [09:56<05:04,  1.50s/it]"
     ]
    },
    {
     "name": "stdout",
     "output_type": "stream",
     "text": [
      "[[5.55392202]\n",
      " [4.04233387]\n",
      " [9.00970359]\n",
      " ...\n",
      " [3.40723799]\n",
      " [4.40773238]\n",
      " [4.86586656]]\n",
      "[[5.4312696 ]\n",
      " [3.70309733]\n",
      " [9.2770219 ]\n",
      " ...\n",
      " [4.15811026]\n",
      " [4.49380884]\n",
      " [5.47227686]]\n"
     ]
    },
    {
     "name": "stderr",
     "output_type": "stream",
     "text": [
      "\n",
      " 76%|████████████████████████████████████████████████████████████▌                   | 632/834 [09:57<05:01,  1.49s/it]"
     ]
    },
    {
     "name": "stdout",
     "output_type": "stream",
     "text": [
      "[[0.71925745]\n",
      " [5.32477434]\n",
      " [3.45278387]\n",
      " ...\n",
      " [0.6234596 ]\n",
      " [4.98464686]\n",
      " [4.51297463]]\n",
      "[[0.30233182]\n",
      " [5.85223877]\n",
      " [3.09475851]\n",
      " ...\n",
      " [0.01644159]\n",
      " [5.08680217]\n",
      " [4.17055429]]\n"
     ]
    },
    {
     "name": "stderr",
     "output_type": "stream",
     "text": [
      "\n",
      " 76%|████████████████████████████████████████████████████████████▋                   | 633/834 [09:59<04:58,  1.48s/it]"
     ]
    },
    {
     "name": "stdout",
     "output_type": "stream",
     "text": [
      "[[4.57521744]\n",
      " [6.14392328]\n",
      " [4.95621695]\n",
      " ...\n",
      " [2.86819782]\n",
      " [5.86861729]\n",
      " [7.93632935]]\n",
      "[[4.55209589]\n",
      " [6.63859809]\n",
      " [5.34232382]\n",
      " ...\n",
      " [2.6515126 ]\n",
      " [5.40480186]\n",
      " [8.27872726]]\n"
     ]
    },
    {
     "name": "stderr",
     "output_type": "stream",
     "text": [
      "\n",
      " 76%|████████████████████████████████████████████████████████████▊                   | 634/834 [10:00<04:57,  1.49s/it]"
     ]
    },
    {
     "name": "stdout",
     "output_type": "stream",
     "text": [
      "[[3.7389203 ]\n",
      " [5.42160366]\n",
      " [4.84926633]\n",
      " ...\n",
      " [3.5371066 ]\n",
      " [5.70364644]\n",
      " [4.50859088]]\n",
      "[[3.732531  ]\n",
      " [5.39774165]\n",
      " [5.27733118]\n",
      " ...\n",
      " [3.09943308]\n",
      " [6.02452084]\n",
      " [4.40192937]]\n"
     ]
    },
    {
     "name": "stderr",
     "output_type": "stream",
     "text": [
      "\n",
      " 76%|████████████████████████████████████████████████████████████▉                   | 635/834 [10:02<04:56,  1.49s/it]"
     ]
    },
    {
     "name": "stdout",
     "output_type": "stream",
     "text": [
      "[[1.94064775]\n",
      " [6.08464595]\n",
      " [7.45314977]\n",
      " ...\n",
      " [3.92893655]\n",
      " [4.23998945]\n",
      " [7.21539576]]\n",
      "[[1.44215308]\n",
      " [5.8934717 ]\n",
      " [7.71806905]\n",
      " ...\n",
      " [4.04688775]\n",
      " [4.94014964]\n",
      " [7.80117967]]\n"
     ]
    },
    {
     "name": "stderr",
     "output_type": "stream",
     "text": [
      "\n",
      " 76%|█████████████████████████████████████████████████████████████                   | 636/834 [10:03<04:57,  1.50s/it]"
     ]
    },
    {
     "name": "stdout",
     "output_type": "stream",
     "text": [
      "[[1.03240552]\n",
      " [1.36753681]\n",
      " [3.49971579]\n",
      " ...\n",
      " [1.85471334]\n",
      " [6.04351605]\n",
      " [5.56207708]]\n",
      "[[1.09162484]\n",
      " [1.4007912 ]\n",
      " [3.59077871]\n",
      " ...\n",
      " [1.27354619]\n",
      " [6.45280813]\n",
      " [5.49890578]]\n"
     ]
    },
    {
     "name": "stderr",
     "output_type": "stream",
     "text": [
      "\n",
      " 76%|█████████████████████████████████████████████████████████████                   | 637/834 [10:05<05:06,  1.55s/it]"
     ]
    },
    {
     "name": "stdout",
     "output_type": "stream",
     "text": [
      "[[8.3622623 ]\n",
      " [2.96196496]\n",
      " [8.09530477]\n",
      " ...\n",
      " [6.56940497]\n",
      " [4.55410453]\n",
      " [2.58854031]]\n",
      "[[8.69402247]\n",
      " [2.89539618]\n",
      " [7.98858156]\n",
      " ...\n",
      " [6.81484549]\n",
      " [4.43803639]\n",
      " [1.86937651]]\n"
     ]
    },
    {
     "name": "stderr",
     "output_type": "stream",
     "text": [
      "\n",
      " 76%|█████████████████████████████████████████████████████████████▏                  | 638/834 [10:07<05:09,  1.58s/it]"
     ]
    },
    {
     "name": "stdout",
     "output_type": "stream",
     "text": [
      "[[6.85118988]\n",
      " [7.08310964]\n",
      " [7.42523559]\n",
      " ...\n",
      " [6.96629557]\n",
      " [5.02416509]\n",
      " [4.17494232]]\n",
      "[[7.09970409]\n",
      " [6.90724077]\n",
      " [6.83534912]\n",
      " ...\n",
      " [6.79837166]\n",
      " [4.39393424]\n",
      " [3.64609982]]\n"
     ]
    },
    {
     "name": "stderr",
     "output_type": "stream",
     "text": [
      "\n",
      " 77%|█████████████████████████████████████████████████████████████▎                  | 639/834 [10:08<05:06,  1.57s/it]"
     ]
    },
    {
     "name": "stdout",
     "output_type": "stream",
     "text": [
      "[[7.42710513]\n",
      " [5.30988248]\n",
      " [3.20577886]\n",
      " ...\n",
      " [7.54698137]\n",
      " [4.3044886 ]\n",
      " [5.18001387]]\n",
      "[[7.72799848]\n",
      " [5.26501611]\n",
      " [3.1270614 ]\n",
      " ...\n",
      " [8.15351327]\n",
      " [4.76303181]\n",
      " [5.36079643]]\n"
     ]
    },
    {
     "name": "stderr",
     "output_type": "stream",
     "text": [
      "\n",
      " 77%|█████████████████████████████████████████████████████████████▍                  | 640/834 [10:10<05:04,  1.57s/it]"
     ]
    },
    {
     "name": "stdout",
     "output_type": "stream",
     "text": [
      "[[2.46076687]\n",
      " [7.96185825]\n",
      " [2.21724308]\n",
      " ...\n",
      " [3.37013727]\n",
      " [5.07780156]\n",
      " [6.81724805]]\n",
      "[[2.0075181 ]\n",
      " [8.52518991]\n",
      " [2.82808238]\n",
      " ...\n",
      " [3.4095666 ]\n",
      " [5.05885147]\n",
      " [7.21028184]]\n"
     ]
    },
    {
     "name": "stderr",
     "output_type": "stream",
     "text": [
      "\n",
      " 77%|█████████████████████████████████████████████████████████████▍                  | 641/834 [10:12<05:16,  1.64s/it]"
     ]
    },
    {
     "name": "stdout",
     "output_type": "stream",
     "text": [
      "[[4.06963561]\n",
      " [5.20357653]\n",
      " [7.03737035]\n",
      " ...\n",
      " [1.72442569]\n",
      " [5.19364862]\n",
      " [5.22991127]]\n",
      "[[4.13996004]\n",
      " [5.28155442]\n",
      " [7.47086491]\n",
      " ...\n",
      " [1.12115522]\n",
      " [5.61106322]\n",
      " [5.13090432]]\n"
     ]
    },
    {
     "name": "stderr",
     "output_type": "stream",
     "text": [
      "\n",
      " 77%|█████████████████████████████████████████████████████████████▌                  | 642/834 [10:13<05:16,  1.65s/it]"
     ]
    },
    {
     "name": "stdout",
     "output_type": "stream",
     "text": [
      "[[2.66441788]\n",
      " [6.78901154]\n",
      " [4.15972813]\n",
      " ...\n",
      " [5.24286912]\n",
      " [2.95522816]\n",
      " [5.29099368]]\n",
      "[[2.36143138]\n",
      " [7.16366509]\n",
      " [4.18738274]\n",
      " ...\n",
      " [5.13074313]\n",
      " [2.22042057]\n",
      " [5.59890933]]\n"
     ]
    },
    {
     "name": "stderr",
     "output_type": "stream",
     "text": [
      "\n",
      " 77%|█████████████████████████████████████████████████████████████▋                  | 643/834 [10:15<05:18,  1.67s/it]"
     ]
    },
    {
     "name": "stdout",
     "output_type": "stream",
     "text": [
      "[[6.66584748]\n",
      " [6.4004694 ]\n",
      " [8.08866468]\n",
      " ...\n",
      " [4.44376939]\n",
      " [5.38550218]\n",
      " [5.8285511 ]]\n",
      "[[6.40790002]\n",
      " [5.79424187]\n",
      " [8.3877898 ]\n",
      " ...\n",
      " [4.79404516]\n",
      " [5.23313232]\n",
      " [6.59681711]]\n"
     ]
    },
    {
     "name": "stderr",
     "output_type": "stream",
     "text": [
      "\n",
      " 77%|█████████████████████████████████████████████████████████████▊                  | 644/834 [10:17<05:11,  1.64s/it]"
     ]
    },
    {
     "name": "stdout",
     "output_type": "stream",
     "text": [
      "[[2.67669883]\n",
      " [2.42250575]\n",
      " [4.83630848]\n",
      " ...\n",
      " [5.44732596]\n",
      " [7.02518611]\n",
      " [5.36641997]]\n",
      "[[3.35743709]\n",
      " [2.76663596]\n",
      " [4.78389006]\n",
      " ...\n",
      " [5.67982775]\n",
      " [6.84063621]\n",
      " [6.27120916]]\n"
     ]
    },
    {
     "name": "stderr",
     "output_type": "stream",
     "text": [
      "\n",
      " 77%|█████████████████████████████████████████████████████████████▊                  | 645/834 [10:18<05:07,  1.62s/it]"
     ]
    },
    {
     "name": "stdout",
     "output_type": "stream",
     "text": [
      "[[3.98831059]\n",
      " [3.55341673]\n",
      " [4.6499346 ]\n",
      " ...\n",
      " [4.34700454]\n",
      " [2.5760015 ]\n",
      " [3.80490219]]\n",
      "[[4.23483768]\n",
      " [3.59284196]\n",
      " [5.26791757]\n",
      " ...\n",
      " [4.51202354]\n",
      " [2.01818901]\n",
      " [4.72005801]]\n"
     ]
    },
    {
     "name": "stderr",
     "output_type": "stream",
     "text": [
      "\n",
      " 77%|█████████████████████████████████████████████████████████████▉                  | 646/834 [10:20<05:08,  1.64s/it]"
     ]
    },
    {
     "name": "stdout",
     "output_type": "stream",
     "text": [
      "[[4.48863837]\n",
      " [5.92618626]\n",
      " [4.05248741]\n",
      " ...\n",
      " [3.94740632]\n",
      " [4.18293622]\n",
      " [4.60255142]]\n",
      "[[4.58130389]\n",
      " [5.95981835]\n",
      " [3.74929497]\n",
      " ...\n",
      " [4.01838899]\n",
      " [3.805551  ]\n",
      " [5.34425812]]\n"
     ]
    },
    {
     "name": "stderr",
     "output_type": "stream",
     "text": [
      "\n",
      " 78%|██████████████████████████████████████████████████████████████                  | 647/834 [10:22<05:04,  1.63s/it]"
     ]
    },
    {
     "name": "stdout",
     "output_type": "stream",
     "text": [
      "[[3.83242957]\n",
      " [4.35483727]\n",
      " [4.16482102]\n",
      " ...\n",
      " [1.86386764]\n",
      " [4.14783398]\n",
      " [5.38588898]]\n",
      "[[3.86380581]\n",
      " [4.40563679]\n",
      " [4.19927872]\n",
      " ...\n",
      " [2.45163445]\n",
      " [4.30089419]\n",
      " [5.19515547]]\n"
     ]
    },
    {
     "name": "stderr",
     "output_type": "stream",
     "text": [
      "\n",
      " 78%|██████████████████████████████████████████████████████████████▏                 | 648/834 [10:23<05:02,  1.62s/it]"
     ]
    },
    {
     "name": "stdout",
     "output_type": "stream",
     "text": [
      "[[3.77163726]\n",
      " [3.52621169]\n",
      " [4.85680896]\n",
      " ...\n",
      " [3.31469572]\n",
      " [3.52353631]\n",
      " [6.35901717]]\n",
      "[[4.6175721 ]\n",
      " [3.70535402]\n",
      " [4.72589316]\n",
      " ...\n",
      " [4.12474351]\n",
      " [3.78063071]\n",
      " [6.06272335]]\n"
     ]
    },
    {
     "name": "stderr",
     "output_type": "stream",
     "text": [
      "\n",
      " 78%|██████████████████████████████████████████████████████████████▎                 | 649/834 [10:25<04:59,  1.62s/it]"
     ]
    },
    {
     "name": "stdout",
     "output_type": "stream",
     "text": [
      "[[5.17385728]\n",
      " [3.74469009]\n",
      " [5.26984852]\n",
      " ...\n",
      " [4.80981257]\n",
      " [6.06785232]\n",
      " [0.04893039]]\n",
      "[[5.8488215 ]\n",
      " [3.90184714]\n",
      " [5.01304069]\n",
      " ...\n",
      " [4.82886265]\n",
      " [5.71825593]\n",
      " [0.50785169]]\n"
     ]
    },
    {
     "name": "stderr",
     "output_type": "stream",
     "text": [
      "\n",
      " 78%|██████████████████████████████████████████████████████████████▎                 | 650/834 [10:27<05:08,  1.68s/it]"
     ]
    },
    {
     "name": "stdout",
     "output_type": "stream",
     "text": [
      "[[6.0288176 ]\n",
      " [3.73840456]\n",
      " [3.36781646]\n",
      " ...\n",
      " [1.23048014]\n",
      " [2.963351  ]\n",
      " [6.37268416]]\n",
      "[[6.59736516]\n",
      " [3.71995802]\n",
      " [2.82624479]\n",
      " ...\n",
      " [0.67458875]\n",
      " [3.72927492]\n",
      " [6.15095989]]\n"
     ]
    },
    {
     "name": "stderr",
     "output_type": "stream",
     "text": [
      "\n",
      " 78%|██████████████████████████████████████████████████████████████▍                 | 651/834 [10:29<05:25,  1.78s/it]"
     ]
    },
    {
     "name": "stdout",
     "output_type": "stream",
     "text": [
      "[[6.64305843]\n",
      " [3.9233924 ]\n",
      " [5.05130566]\n",
      " ...\n",
      " [5.39181994]\n",
      " [6.64886045]\n",
      " [6.06488684]]\n",
      "[[6.31753576]\n",
      " [4.12332502]\n",
      " [4.89669226]\n",
      " ...\n",
      " [5.5237616 ]\n",
      " [6.31869634]\n",
      " [6.6306352 ]]\n"
     ]
    },
    {
     "name": "stderr",
     "output_type": "stream",
     "text": [
      "\n",
      " 78%|██████████████████████████████████████████████████████████████▌                 | 652/834 [10:30<05:27,  1.80s/it]"
     ]
    },
    {
     "name": "stdout",
     "output_type": "stream",
     "text": [
      "[[5.80634225]\n",
      " [6.79300849]\n",
      " [7.86647944]\n",
      " ...\n",
      " [2.40854867]\n",
      " [5.41583387]\n",
      " [6.12590478]]\n",
      "[[5.93441448]\n",
      " [6.43971933]\n",
      " [8.3130934 ]\n",
      " ...\n",
      " [2.93521062]\n",
      " [5.44600255]\n",
      " [5.81861411]]\n"
     ]
    },
    {
     "name": "stderr",
     "output_type": "stream",
     "text": [
      "\n",
      " 78%|██████████████████████████████████████████████████████████████▋                 | 653/834 [10:32<05:15,  1.74s/it]"
     ]
    },
    {
     "name": "stdout",
     "output_type": "stream",
     "text": [
      "[[5.43050009]\n",
      " [4.98793468]\n",
      " [5.78268289]\n",
      " ...\n",
      " [4.34171825]\n",
      " [5.5754862 ]\n",
      " [2.93434088]]\n",
      "[[5.91423323]\n",
      " [5.06465439]\n",
      " [5.58191969]\n",
      " ...\n",
      " [5.00433632]\n",
      " [5.69768783]\n",
      " [3.02451102]]\n"
     ]
    },
    {
     "name": "stderr",
     "output_type": "stream",
     "text": [
      "\n",
      " 78%|██████████████████████████████████████████████████████████████▋                 | 654/834 [10:34<05:05,  1.70s/it]"
     ]
    },
    {
     "name": "stdout",
     "output_type": "stream",
     "text": [
      "[[2.8963054 ]\n",
      " [4.11260281]\n",
      " [5.55653293]\n",
      " ...\n",
      " [3.90279521]\n",
      " [2.99113624]\n",
      " [3.99411261]]\n",
      "[[3.13431504]\n",
      " [4.22171665]\n",
      " [5.21630387]\n",
      " ...\n",
      " [3.61099219]\n",
      " [2.21039442]\n",
      " [4.34493186]]\n"
     ]
    },
    {
     "name": "stderr",
     "output_type": "stream",
     "text": [
      "\n",
      " 79%|██████████████████████████████████████████████████████████████▊                 | 655/834 [10:35<04:58,  1.67s/it]"
     ]
    },
    {
     "name": "stdout",
     "output_type": "stream",
     "text": [
      "[[2.96306089]\n",
      " [3.18073346]\n",
      " [4.60016614]\n",
      " ...\n",
      " [2.79522126]\n",
      " [4.34810048]\n",
      " [4.13787384]]\n",
      "[[3.06003774]\n",
      " [3.066292  ]\n",
      " [5.37059691]\n",
      " ...\n",
      " [3.11925971]\n",
      " [4.10698014]\n",
      " [5.02803155]]\n"
     ]
    },
    {
     "name": "stderr",
     "output_type": "stream",
     "text": [
      "\n",
      " 79%|██████████████████████████████████████████████████████████████▉                 | 656/834 [10:37<04:53,  1.65s/it]"
     ]
    },
    {
     "name": "stdout",
     "output_type": "stream",
     "text": [
      "[[4.81451866]\n",
      " [4.22690266]\n",
      " [5.85723888]\n",
      " ...\n",
      " [6.52128041]\n",
      " [7.0922317 ]\n",
      " [8.14491207]]\n",
      "[[4.97000241]\n",
      " [4.06739138]\n",
      " [6.62309142]\n",
      " ...\n",
      " [6.56767359]\n",
      " [6.8371867 ]\n",
      " [8.50155916]]\n"
     ]
    },
    {
     "name": "stderr",
     "output_type": "stream",
     "text": [
      "\n",
      " 79%|███████████████████████████████████████████████████████████████                 | 657/834 [10:38<04:49,  1.64s/it]"
     ]
    },
    {
     "name": "stdout",
     "output_type": "stream",
     "text": [
      "[[6.11559007]\n",
      " [7.27618807]\n",
      " [7.31103244]\n",
      " ...\n",
      " [4.09758202]\n",
      " [5.53464641]\n",
      " [5.69584594]]\n",
      "[[6.20956932]\n",
      " [6.94557224]\n",
      " [7.83093573]\n",
      " ...\n",
      " [4.30086195]\n",
      " [5.40531768]\n",
      " [6.23258754]]\n"
     ]
    },
    {
     "name": "stderr",
     "output_type": "stream",
     "text": [
      "\n",
      " 79%|███████████████████████████████████████████████████████████████                 | 658/834 [10:40<04:46,  1.63s/it]"
     ]
    },
    {
     "name": "stdout",
     "output_type": "stream",
     "text": [
      "[[5.51994795]\n",
      " [7.42330158]\n",
      " [6.50838703]\n",
      " ...\n",
      " [3.63551536]\n",
      " [4.58946463]\n",
      " [5.19513136]]\n",
      "[[5.74453024]\n",
      " [7.13755198]\n",
      " [7.04447969]\n",
      " ...\n",
      " [3.80316536]\n",
      " [4.34290084]\n",
      " [5.66470793]]\n"
     ]
    },
    {
     "name": "stderr",
     "output_type": "stream",
     "text": [
      "\n",
      " 79%|███████████████████████████████████████████████████████████████▏                | 659/834 [10:42<04:47,  1.65s/it]"
     ]
    },
    {
     "name": "stdout",
     "output_type": "stream",
     "text": [
      "[[3.856927  ]\n",
      " [4.78660448]\n",
      " [3.85589553]\n",
      " ...\n",
      " [1.05896589]\n",
      " [1.19186445]\n",
      " [3.11265639]]\n",
      "[[4.00707331]\n",
      " [4.35927795]\n",
      " [4.50522124]\n",
      " ...\n",
      " [0.61894525]\n",
      " [1.63603489]\n",
      " [3.25949679]]\n"
     ]
    },
    {
     "name": "stderr",
     "output_type": "stream",
     "text": [
      "\n",
      " 79%|███████████████████████████████████████████████████████████████▎                | 660/834 [10:43<04:48,  1.66s/it]"
     ]
    },
    {
     "name": "stdout",
     "output_type": "stream",
     "text": [
      "[[3.12477617]\n",
      " [4.81922474]\n",
      " [4.96037507]\n",
      " ...\n",
      " [1.51793814]\n",
      " [3.93828425]\n",
      " [2.75770152]]\n",
      "[[2.87234571]\n",
      " [5.65445612]\n",
      " [5.23780689]\n",
      " ...\n",
      " [1.66414678]\n",
      " [4.8609721 ]\n",
      " [2.90490651]]\n"
     ]
    },
    {
     "name": "stderr",
     "output_type": "stream",
     "text": [
      "\n",
      " 79%|███████████████████████████████████████████████████████████████▍                | 661/834 [10:45<04:45,  1.65s/it]"
     ]
    },
    {
     "name": "stdout",
     "output_type": "stream",
     "text": [
      "[[4.28292442]\n",
      " [2.91532314]\n",
      " [2.80589054]\n",
      " ...\n",
      " [4.69996094]\n",
      " [5.73007788]\n",
      " [5.73226976]]\n",
      "[[4.11494303]\n",
      " [3.60525375]\n",
      " [2.95432799]\n",
      " ...\n",
      " [4.85362175]\n",
      " [5.40805794]\n",
      " [6.29496887]]\n"
     ]
    },
    {
     "name": "stderr",
     "output_type": "stream",
     "text": [
      "\n",
      " 79%|███████████████████████████████████████████████████████████████▌                | 662/834 [10:47<04:53,  1.71s/it]"
     ]
    },
    {
     "name": "stdout",
     "output_type": "stream",
     "text": [
      "[[2.70938356]\n",
      " [2.65603718]\n",
      " [4.86486732]\n",
      " ...\n",
      " [5.63582724]\n",
      " [7.24808049]\n",
      " [5.3299317 ]]\n",
      "[[3.09566119]\n",
      " [2.77675883]\n",
      " [4.6146384 ]\n",
      " ...\n",
      " [5.68872555]\n",
      " [6.88357778]\n",
      " [6.16343615]]\n"
     ]
    },
    {
     "name": "stderr",
     "output_type": "stream",
     "text": [
      "\n",
      " 79%|███████████████████████████████████████████████████████████████▌                | 663/834 [10:49<04:54,  1.72s/it]"
     ]
    },
    {
     "name": "stdout",
     "output_type": "stream",
     "text": [
      "[[4.084463  ]\n",
      " [3.74591496]\n",
      " [4.89858352]\n",
      " ...\n",
      " [1.93487796]\n",
      " [3.20951794]\n",
      " [3.94614922]]\n",
      "[[4.18686693]\n",
      " [3.59896726]\n",
      " [5.34125995]\n",
      " ...\n",
      " [1.31036246]\n",
      " [4.12309935]\n",
      " [4.15095334]]\n"
     ]
    },
    {
     "name": "stderr",
     "output_type": "stream",
     "text": [
      "\n",
      " 80%|███████████████████████████████████████████████████████████████▋                | 664/834 [10:50<04:48,  1.70s/it]"
     ]
    },
    {
     "name": "stdout",
     "output_type": "stream",
     "text": [
      "[[2.04360142]\n",
      " [3.38554487]\n",
      " [4.32927614]\n",
      " ...\n",
      " [5.6414681 ]\n",
      " [4.13123375]\n",
      " [4.59739406]]\n",
      "[[1.39495605]\n",
      " [4.29931451]\n",
      " [4.43645671]\n",
      " ...\n",
      " [6.35709229]\n",
      " [4.26111199]\n",
      " [4.27491003]]\n"
     ]
    },
    {
     "name": "stderr",
     "output_type": "stream",
     "text": [
      "\n",
      " 80%|███████████████████████████████████████████████████████████████▊                | 665/834 [10:52<04:45,  1.69s/it]"
     ]
    },
    {
     "name": "stdout",
     "output_type": "stream",
     "text": [
      "[[4.9518332 ]\n",
      " [4.33166141]\n",
      " [4.82328616]\n",
      " ...\n",
      " [1.27512348]\n",
      " [4.57083369]\n",
      " [6.18643922]]\n",
      "[[5.65884054]\n",
      " [4.45921702]\n",
      " [4.97474146]\n",
      " ...\n",
      " [1.68010479]\n",
      " [4.64226672]\n",
      " [5.87009885]]\n"
     ]
    },
    {
     "name": "stderr",
     "output_type": "stream",
     "text": [
      "\n",
      " 80%|███████████████████████████████████████████████████████████████▉                | 666/834 [10:54<04:38,  1.66s/it]"
     ]
    },
    {
     "name": "stdout",
     "output_type": "stream",
     "text": [
      "[[3.85112498]\n",
      " [4.00429838]\n",
      " [5.89350153]\n",
      " ...\n",
      " [3.52895153]\n",
      " [6.41026837]\n",
      " [5.15077812]]\n",
      "[[4.49496942]\n",
      " [4.04679103]\n",
      " [5.54484552]\n",
      " ...\n",
      " [3.75442088]\n",
      " [6.08909438]\n",
      " [5.79756242]]\n"
     ]
    },
    {
     "name": "stderr",
     "output_type": "stream",
     "text": [
      "\n",
      " 80%|███████████████████████████████████████████████████████████████▉                | 667/834 [10:55<04:32,  1.63s/it]"
     ]
    },
    {
     "name": "stdout",
     "output_type": "stream",
     "text": [
      "[[3.63309785]\n",
      " [5.06355437]\n",
      " [2.10723027]\n",
      " ...\n",
      " [5.92154464]\n",
      " [0.03465097]\n",
      " [5.96389941]]\n",
      "[[3.77321587]\n",
      " [4.80329759]\n",
      " [2.60541167]\n",
      " ...\n",
      " [5.69201387]\n",
      " [0.5673638 ]\n",
      " [6.64946244]]\n"
     ]
    },
    {
     "name": "stderr",
     "output_type": "stream",
     "text": [
      "\n",
      " 80%|████████████████████████████████████████████████████████████████                | 668/834 [10:57<04:36,  1.67s/it]"
     ]
    },
    {
     "name": "stdout",
     "output_type": "stream",
     "text": [
      "[[3.67680642]\n",
      " [3.17815478]\n",
      " [1.52912315]\n",
      " ...\n",
      " [3.68634752]\n",
      " [1.56873808]\n",
      " [2.96380226]]\n",
      "[[3.69900305]\n",
      " [2.847909  ]\n",
      " [1.9539701 ]\n",
      " ...\n",
      " [3.60415765]\n",
      " [0.84200282]\n",
      " [3.53416806]]\n"
     ]
    },
    {
     "name": "stderr",
     "output_type": "stream",
     "text": [
      "\n",
      " 80%|████████████████████████████████████████████████████████████████▏               | 669/834 [10:59<04:33,  1.66s/it]"
     ]
    },
    {
     "name": "stdout",
     "output_type": "stream",
     "text": [
      "[[6.35927504]\n",
      " [3.99665905]\n",
      " [4.84752572]\n",
      " ...\n",
      " [9.08841771]\n",
      " [5.658713  ]\n",
      " [7.21052851]]\n",
      "[[6.7914404 ]\n",
      " [4.13170701]\n",
      " [4.64520042]\n",
      " ...\n",
      " [9.56181602]\n",
      " [5.71474195]\n",
      " [6.85559484]]\n"
     ]
    },
    {
     "name": "stderr",
     "output_type": "stream",
     "text": [
      "\n",
      " 80%|████████████████████████████████████████████████████████████████▎               | 670/834 [11:00<04:27,  1.63s/it]"
     ]
    },
    {
     "name": "stdout",
     "output_type": "stream",
     "text": [
      "[[5.56478469]\n",
      " [6.22511937]\n",
      " [7.5705118 ]\n",
      " ...\n",
      " [1.84185219]\n",
      " [5.24754297]\n",
      " [6.04138865]]\n",
      "[[6.16588627]\n",
      " [6.22140081]\n",
      " [7.16882324]\n",
      " ...\n",
      " [2.21861521]\n",
      " [5.18248578]\n",
      " [5.65245734]]\n"
     ]
    },
    {
     "name": "stderr",
     "output_type": "stream",
     "text": [
      "\n",
      " 80%|████████████████████████████████████████████████████████████████▎               | 671/834 [11:02<04:26,  1.64s/it]"
     ]
    },
    {
     "name": "stdout",
     "output_type": "stream",
     "text": [
      "[[5.89495203]\n",
      " [4.97294612]\n",
      " [5.96702605]\n",
      " ...\n",
      " [2.79941161]\n",
      " [3.22621487]\n",
      " [4.20127706]]\n",
      "[[6.34358439]\n",
      " [4.96742334]\n",
      " [5.67167143]\n",
      " ...\n",
      " [2.82937191]\n",
      " [3.49477272]\n",
      " [4.25879082]]\n"
     ]
    },
    {
     "name": "stderr",
     "output_type": "stream",
     "text": [
      "\n",
      " 81%|████████████████████████████████████████████████████████████████▍               | 672/834 [11:03<04:23,  1.63s/it]"
     ]
    },
    {
     "name": "stdout",
     "output_type": "stream",
     "text": [
      "[[5.64182266]\n",
      " [5.43823612]\n",
      " [4.23125418]\n",
      " ...\n",
      " [4.0590308 ]\n",
      " [3.32636423]\n",
      " [4.93075252]]\n",
      "[[5.24454472]\n",
      " [5.90330441]\n",
      " [4.30524637]\n",
      " ...\n",
      " [3.732531  ]\n",
      " [2.48999816]\n",
      " [5.23232636]]\n"
     ]
    },
    {
     "name": "stderr",
     "output_type": "stream",
     "text": [
      "\n",
      " 81%|████████████████████████████████████████████████████████████████▌               | 673/834 [11:05<04:21,  1.62s/it]"
     ]
    },
    {
     "name": "stdout",
     "output_type": "stream",
     "text": [
      "[[3.06920568]\n",
      " [3.01569814]\n",
      " [4.44621913]\n",
      " ...\n",
      " [2.84821307]\n",
      " [4.54311292]\n",
      " [3.6622369 ]]\n",
      "[[3.134444  ]\n",
      " [2.79935795]\n",
      " [5.22391214]\n",
      " ...\n",
      " [3.17258204]\n",
      " [4.29799273]\n",
      " [4.55006487]]\n"
     ]
    },
    {
     "name": "stderr",
     "output_type": "stream",
     "text": [
      "\n",
      " 81%|████████████████████████████████████████████████████████████████▋               | 674/834 [11:07<04:18,  1.61s/it]"
     ]
    },
    {
     "name": "stdout",
     "output_type": "stream",
     "text": [
      "[[4.7493426 ]\n",
      " [4.9942202 ]\n",
      " [5.33502458]\n",
      " ...\n",
      " [6.55699509]\n",
      " [6.8732698 ]\n",
      " [7.88327307]]\n",
      "[[4.87493134]\n",
      " [4.76561088]\n",
      " [6.11511077]\n",
      " ...\n",
      " [6.61300079]\n",
      " [6.638856  ]\n",
      " [8.3477497 ]]\n"
     ]
    },
    {
     "name": "stderr",
     "output_type": "stream",
     "text": [
      "\n",
      " 81%|████████████████████████████████████████████████████████████████▋               | 675/834 [11:08<04:16,  1.61s/it]"
     ]
    },
    {
     "name": "stdout",
     "output_type": "stream",
     "text": [
      "[[5.85549828]\n",
      " [7.30838929]\n",
      " [7.41543662]\n",
      " ...\n",
      " [3.72834772]\n",
      " [1.81841846]\n",
      " [4.9186972 ]]\n",
      "[[6.01816987]\n",
      " [7.03280938]\n",
      " [8.0157263 ]\n",
      " ...\n",
      " [3.89414215]\n",
      " [1.51830021]\n",
      " [5.42649831]]\n"
     ]
    },
    {
     "name": "stderr",
     "output_type": "stream",
     "text": [
      "\n",
      " 81%|████████████████████████████████████████████████████████████████▊               | 676/834 [11:10<04:14,  1.61s/it]"
     ]
    },
    {
     "name": "stdout",
     "output_type": "stream",
     "text": [
      "[[5.71131801]\n",
      " [7.17690901]\n",
      " [6.55796209]\n",
      " ...\n",
      " [3.50841882]\n",
      " [3.92145839]\n",
      " [5.22362574]]\n",
      "[[5.88176915]\n",
      " [6.89992265]\n",
      " [7.11562986]\n",
      " ...\n",
      " [3.69313566]\n",
      " [3.71077007]\n",
      " [5.75562025]]\n"
     ]
    },
    {
     "name": "stderr",
     "output_type": "stream",
     "text": [
      "\n",
      " 81%|████████████████████████████████████████████████████████████████▉               | 677/834 [11:11<04:15,  1.63s/it]"
     ]
    },
    {
     "name": "stdout",
     "output_type": "stream",
     "text": [
      "[[3.7386302 ]\n",
      " [3.91153048]\n",
      " [4.1005475 ]\n",
      " ...\n",
      " [3.32707337]\n",
      " [2.13420968]\n",
      " [3.37548803]]\n",
      "[[3.90429725]\n",
      " [3.61292649]\n",
      " [4.83934013]\n",
      " ...\n",
      " [3.07425488]\n",
      " [2.67781914]\n",
      " [3.52684994]]\n"
     ]
    },
    {
     "name": "stderr",
     "output_type": "stream",
     "text": [
      "\n",
      " 81%|█████████████████████████████████████████████████████████████████               | 678/834 [11:13<04:17,  1.65s/it]"
     ]
    },
    {
     "name": "stdout",
     "output_type": "stream",
     "text": [
      "[[4.30758302]\n",
      " [5.12434668]\n",
      " [5.53877229]\n",
      " ...\n",
      " [1.03382379]\n",
      " [4.21594329]\n",
      " [2.54502514]]\n",
      "[[4.17010295]\n",
      " [5.91062253]\n",
      " [5.79724004]\n",
      " ...\n",
      " [1.46984588]\n",
      " [5.30634575]\n",
      " [2.87005679]]\n"
     ]
    },
    {
     "name": "stderr",
     "output_type": "stream",
     "text": [
      "\n",
      " 81%|█████████████████████████████████████████████████████████████████▏              | 679/834 [11:15<04:14,  1.64s/it]"
     ]
    },
    {
     "name": "stdout",
     "output_type": "stream",
     "text": [
      "[[4.49128151]\n",
      " [2.98997583]\n",
      " [2.59408447]\n",
      " ...\n",
      " [2.1983865 ]\n",
      " [4.68300614]\n",
      " [5.38505091]]\n",
      "[[4.37091602]\n",
      " [3.81067691]\n",
      " [2.92034871]\n",
      " ...\n",
      " [2.7444237 ]\n",
      " [4.82183467]\n",
      " [5.00997804]]\n"
     ]
    },
    {
     "name": "stderr",
     "output_type": "stream",
     "text": [
      "\n",
      " 82%|█████████████████████████████████████████████████████████████████▏              | 680/834 [11:16<04:12,  1.64s/it]"
     ]
    },
    {
     "name": "stdout",
     "output_type": "stream",
     "text": [
      "[[6.17029026]\n",
      " [3.5955781 ]\n",
      " [2.64801105]\n",
      " ...\n",
      " [5.42730898]\n",
      " [6.9134327 ]\n",
      " [6.15652657]]\n",
      "[[6.72531942]\n",
      " [4.13912184]\n",
      " [2.77098815]\n",
      " ...\n",
      " [5.57930838]\n",
      " [6.64349833]\n",
      " [7.00002292]]\n"
     ]
    },
    {
     "name": "stderr",
     "output_type": "stream",
     "text": [
      "\n",
      " 82%|█████████████████████████████████████████████████████████████████▎              | 681/834 [11:18<04:19,  1.69s/it]"
     ]
    },
    {
     "name": "stdout",
     "output_type": "stream",
     "text": [
      "[[3.95801113]\n",
      " [3.07487877]\n",
      " [4.85397241]\n",
      " ...\n",
      " [4.90622285]\n",
      " [4.39793341]\n",
      " [3.84429148]]\n",
      "[[4.12403426]\n",
      " [2.95655244]\n",
      " [5.4170847 ]\n",
      " ...\n",
      " [4.98338135]\n",
      " [4.05655927]\n",
      " [4.72518392]]\n"
     ]
    },
    {
     "name": "stderr",
     "output_type": "stream",
     "text": [
      "\n",
      " 82%|█████████████████████████████████████████████████████████████████▍              | 682/834 [11:20<04:23,  1.73s/it]"
     ]
    },
    {
     "name": "stdout",
     "output_type": "stream",
     "text": [
      "[[4.25965186]\n",
      " [4.61828135]\n",
      " [4.03060089]\n",
      " ...\n",
      " [5.29460382]\n",
      " [4.17623166]\n",
      " [4.48709116]]\n",
      "[[4.36891724]\n",
      " [4.26852682]\n",
      " [4.91197327]\n",
      " ...\n",
      " [6.20492699]\n",
      " [4.47391774]\n",
      " [4.33596958]]\n"
     ]
    },
    {
     "name": "stderr",
     "output_type": "stream",
     "text": [
      "\n",
      " 82%|█████████████████████████████████████████████████████████████████▌              | 683/834 [11:22<04:21,  1.73s/it]"
     ]
    },
    {
     "name": "stdout",
     "output_type": "stream",
     "text": [
      "[[4.62027982]\n",
      " [4.43851533]\n",
      " [4.96459765]\n",
      " ...\n",
      " [2.21656617]\n",
      " [4.12394899]\n",
      " [5.61010494]]\n",
      "[[5.5201509 ]\n",
      " [4.72005801]\n",
      " [5.26607998]\n",
      " ...\n",
      " [3.05919955]\n",
      " [4.34712407]\n",
      " [5.45851105]]\n"
     ]
    },
    {
     "name": "stderr",
     "output_type": "stream",
     "text": [
      "\n",
      " 82%|█████████████████████████████████████████████████████████████████▌              | 684/834 [11:24<04:22,  1.75s/it]"
     ]
    },
    {
     "name": "stdout",
     "output_type": "stream",
     "text": [
      "[[3.61652985]\n",
      " [3.71700155]\n",
      " [5.01778286]\n",
      " ...\n",
      " [3.51612262]\n",
      " [6.42896378]\n",
      " [5.30985025]]\n",
      "[[4.39354738]\n",
      " [3.91042255]\n",
      " [4.93724818]\n",
      " ...\n",
      " [3.68365757]\n",
      " [6.01165771]\n",
      " [5.90249845]]\n"
     ]
    },
    {
     "name": "stderr",
     "output_type": "stream",
     "text": [
      "\n",
      " 82%|█████████████████████████████████████████████████████████████████▋              | 685/834 [11:25<04:20,  1.75s/it]"
     ]
    },
    {
     "name": "stdout",
     "output_type": "stream",
     "text": [
      "[[ 3.78407938]\n",
      " [ 5.08830967]\n",
      " [ 2.41625246]\n",
      " ...\n",
      " [ 4.69100003]\n",
      " [ 6.07175257]\n",
      " [-0.03423194]]\n",
      "[[3.8616136 ]\n",
      " [4.75803486]\n",
      " [2.91980066]\n",
      " ...\n",
      " [4.90513873]\n",
      " [5.83076799]\n",
      " [0.5417665 ]]\n"
     ]
    },
    {
     "name": "stderr",
     "output_type": "stream",
     "text": [
      "\n",
      " 82%|█████████████████████████████████████████████████████████████████▊              | 686/834 [11:27<04:23,  1.78s/it]"
     ]
    },
    {
     "name": "stdout",
     "output_type": "stream",
     "text": [
      "[[5.98646283]\n",
      " [4.31361067]\n",
      " [4.32605279]\n",
      " ...\n",
      " [4.76114004]\n",
      " [7.12204766]\n",
      " [5.7004231 ]]\n",
      "[[6.66322824]\n",
      " [4.45367202]\n",
      " [4.05040173]\n",
      " ...\n",
      " [5.44522883]\n",
      " [6.94576567]\n",
      " [5.51634676]]\n"
     ]
    },
    {
     "name": "stderr",
     "output_type": "stream",
     "text": [
      "\n",
      " 82%|█████████████████████████████████████████████████████████████████▉              | 687/834 [11:29<04:23,  1.79s/it]"
     ]
    },
    {
     "name": "stdout",
     "output_type": "stream",
     "text": [
      "[[5.16109283]\n",
      " [4.13668121]\n",
      " [4.90709316]\n",
      " ...\n",
      " [9.05715125]\n",
      " [5.38576005]\n",
      " [7.10244971]]\n",
      "[[4.88608583]\n",
      " [4.30724515]\n",
      " [4.78047279]\n",
      " ...\n",
      " [9.46497183]\n",
      " [5.41440891]\n",
      " [6.68763272]]\n"
     ]
    },
    {
     "name": "stderr",
     "output_type": "stream",
     "text": [
      "\n",
      " 82%|█████████████████████████████████████████████████████████████████▉              | 688/834 [11:31<04:25,  1.82s/it]"
     ]
    },
    {
     "name": "stdout",
     "output_type": "stream",
     "text": [
      "[[6.24523305]\n",
      " [5.82951811]\n",
      " [7.44895942]\n",
      " ...\n",
      " [2.01981313]\n",
      " [4.99425243]\n",
      " [5.87867413]]\n",
      "[[6.68705242]\n",
      " [5.86149119]\n",
      " [6.98538668]\n",
      " ...\n",
      " [2.43213021]\n",
      " [4.96049208]\n",
      " [5.53311074]]\n"
     ]
    },
    {
     "name": "stderr",
     "output_type": "stream",
     "text": [
      "\n",
      " 83%|██████████████████████████████████████████████████████████████████              | 689/834 [11:33<04:28,  1.85s/it]"
     ]
    },
    {
     "name": "stdout",
     "output_type": "stream",
     "text": [
      "[[6.11094845]\n",
      " [4.93055912]\n",
      " [5.52797408]\n",
      " ...\n",
      " [5.38933796]\n",
      " [2.39920096]\n",
      " [2.56533222]]\n",
      "[[6.54488103]\n",
      " [4.93057483]\n",
      " [5.28081293]\n",
      " ...\n",
      " [5.67753882]\n",
      " [2.63587697]\n",
      " [3.06787168]]\n"
     ]
    },
    {
     "name": "stderr",
     "output_type": "stream",
     "text": [
      "\n",
      " 83%|██████████████████████████████████████████████████████████████████▏             | 690/834 [11:35<04:29,  1.87s/it]"
     ]
    },
    {
     "name": "stdout",
     "output_type": "stream",
     "text": [
      "[[3.7066546 ]\n",
      " [5.16496084]\n",
      " [4.91959974]\n",
      " ...\n",
      " [4.45827445]\n",
      " [3.60795575]\n",
      " [4.43551762]]\n",
      "[[4.0032047 ]\n",
      " [4.96964779]\n",
      " [5.64040017]\n",
      " ...\n",
      " [4.21543016]\n",
      " [2.99475496]\n",
      " [4.75003973]]\n"
     ]
    },
    {
     "name": "stderr",
     "output_type": "stream",
     "text": [
      "\n",
      " 83%|██████████████████████████████████████████████████████████████████▎             | 691/834 [11:37<04:25,  1.85s/it]"
     ]
    },
    {
     "name": "stdout",
     "output_type": "stream",
     "text": [
      "[[3.50954699]\n",
      " [4.18857708]\n",
      " [4.32585939]\n",
      " ...\n",
      " [2.94617056]\n",
      " [4.9191807 ]\n",
      " [3.80786767]]\n",
      "[[3.5321048 ]\n",
      " [3.99372661]\n",
      " [5.02419518]\n",
      " ...\n",
      " [3.16068606]\n",
      " [4.72331409]\n",
      " [4.64284701]]\n"
     ]
    },
    {
     "name": "stderr",
     "output_type": "stream",
     "text": [
      "\n",
      " 83%|██████████████████████████████████████████████████████████████████▍             | 692/834 [11:38<04:21,  1.85s/it]"
     ]
    },
    {
     "name": "stdout",
     "output_type": "stream",
     "text": [
      "[[4.90361194]\n",
      " [5.3739626 ]\n",
      " [4.92114694]\n",
      " ...\n",
      " [6.54442404]\n",
      " [7.77741838]\n",
      " [5.23294121]]\n",
      "[[5.01916599]\n",
      " [5.17681182]\n",
      " [5.74501381]\n",
      " ...\n",
      " [6.48704532]\n",
      " [8.39323809]\n",
      " [5.6175109 ]]\n"
     ]
    },
    {
     "name": "stderr",
     "output_type": "stream",
     "text": [
      "\n",
      " 83%|██████████████████████████████████████████████████████████████████▍             | 693/834 [11:40<04:17,  1.83s/it]"
     ]
    },
    {
     "name": "stdout",
     "output_type": "stream",
     "text": [
      "[[6.68325355]\n",
      " [6.87127133]\n",
      " [3.73095863]\n",
      " ...\n",
      " [3.85686253]\n",
      " [5.01778286]\n",
      " [5.38398721]]\n",
      "[[6.61664373]\n",
      " [7.70701128]\n",
      " [4.06806838]\n",
      " ...\n",
      " [4.18245027]\n",
      " [5.01033266]\n",
      " [6.05698492]]\n"
     ]
    },
    {
     "name": "stderr",
     "output_type": "stream",
     "text": [
      "\n",
      " 83%|██████████████████████████████████████████████████████████████████▌             | 694/834 [11:42<04:14,  1.82s/it]"
     ]
    },
    {
     "name": "stdout",
     "output_type": "stream",
     "text": [
      "[[5.43565745]\n",
      " [6.98121967]\n",
      " [6.46077821]\n",
      " ...\n",
      " [4.89168556]\n",
      " [4.93255759]\n",
      " [3.83233287]]\n",
      "[[5.77386719]\n",
      " [6.84959849]\n",
      " [7.21547222]\n",
      " ...\n",
      " [4.62292368]\n",
      " [5.35660544]\n",
      " [3.94691643]]\n"
     ]
    },
    {
     "name": "stderr",
     "output_type": "stream",
     "text": [
      "\n",
      " 83%|██████████████████████████████████████████████████████████████████▋             | 695/834 [11:44<04:10,  1.81s/it]"
     ]
    },
    {
     "name": "stdout",
     "output_type": "stream",
     "text": [
      "[[4.79888543]\n",
      " [3.26653893]\n",
      " [4.19740905]\n",
      " ...\n",
      " [2.52381552]\n",
      " [3.34518857]\n",
      " [4.69435231]]\n",
      "[[4.418242  ]\n",
      " [3.87692684]\n",
      " [4.32352555]\n",
      " ...\n",
      " [3.33093711]\n",
      " [3.4635337 ]\n",
      " [4.49825774]]\n"
     ]
    },
    {
     "name": "stderr",
     "output_type": "stream",
     "text": [
      "\n",
      " 83%|██████████████████████████████████████████████████████████████████▊             | 696/834 [11:46<04:10,  1.81s/it]"
     ]
    },
    {
     "name": "stdout",
     "output_type": "stream",
     "text": [
      "[[4.86470615]\n",
      " [5.36880525]\n",
      " [4.60899811]\n",
      " ...\n",
      " [0.80396698]\n",
      " [4.40670091]\n",
      " [2.20035274]]\n",
      "[[5.65339225]\n",
      " [5.60293914]\n",
      " [4.63262744]\n",
      " ...\n",
      " [1.21513019]\n",
      " [5.51341307]\n",
      " [2.47220256]]\n"
     ]
    },
    {
     "name": "stderr",
     "output_type": "stream",
     "text": [
      "\n",
      " 84%|██████████████████████████████████████████████████████████████████▊             | 697/834 [11:47<04:10,  1.83s/it]"
     ]
    },
    {
     "name": "stdout",
     "output_type": "stream",
     "text": [
      "[[1.67904098]\n",
      " [2.6286065 ]\n",
      " [2.24783263]\n",
      " ...\n",
      " [4.5567799 ]\n",
      " [4.98993315]\n",
      " [5.91803119]]\n",
      "[[1.27764047]\n",
      " [3.47475266]\n",
      " [2.52085032]\n",
      " ...\n",
      " [4.75406953]\n",
      " [4.70954829]\n",
      " [6.5520702 ]]\n"
     ]
    },
    {
     "name": "stderr",
     "output_type": "stream",
     "text": [
      "\n",
      " 84%|██████████████████████████████████████████████████████████████████▉             | 698/834 [11:49<04:06,  1.81s/it]"
     ]
    },
    {
     "name": "stdout",
     "output_type": "stream",
     "text": [
      "[[3.125582  ]\n",
      " [2.49996276]\n",
      " [4.57611998]\n",
      " ...\n",
      " [5.53413067]\n",
      " [6.75104052]\n",
      " [4.58830423]]\n",
      "[[3.71531569]\n",
      " [2.69042436]\n",
      " [4.39438558]\n",
      " ...\n",
      " [5.72180216]\n",
      " [6.58978914]\n",
      " [5.49158766]]\n"
     ]
    },
    {
     "name": "stderr",
     "output_type": "stream",
     "text": [
      "\n",
      " 84%|███████████████████████████████████████████████████████████████████             | 699/834 [11:51<04:04,  1.81s/it]"
     ]
    },
    {
     "name": "stdout",
     "output_type": "stream",
     "text": [
      "[[4.15341037]\n",
      " [3.26244528]\n",
      " [4.45788764]\n",
      " ...\n",
      " [6.15201388]\n",
      " [4.90651295]\n",
      " [4.82663844]]\n",
      "[[4.32694282]\n",
      " [3.22029489]\n",
      " [5.0480516 ]\n",
      " ...\n",
      " [6.95762941]\n",
      " [5.01826331]\n",
      " [4.54087692]]\n"
     ]
    },
    {
     "name": "stderr",
     "output_type": "stream",
     "text": [
      "\n",
      " 84%|███████████████████████████████████████████████████████████████████▏            | 700/834 [11:53<04:03,  1.81s/it]"
     ]
    },
    {
     "name": "stdout",
     "output_type": "stream",
     "text": [
      "[[3.52579266]\n",
      " [4.2099801 ]\n",
      " [5.0541422 ]\n",
      " ...\n",
      " [3.73701852]\n",
      " [4.04056103]\n",
      " [4.46729981]]\n",
      "[[4.44287215]\n",
      " [4.3915486 ]\n",
      " [4.7608396 ]\n",
      " ...\n",
      " [4.11007503]\n",
      " [3.96471204]\n",
      " [5.45625437]]\n"
     ]
    },
    {
     "name": "stderr",
     "output_type": "stream",
     "text": [
      "\n",
      " 84%|███████████████████████████████████████████████████████████████████▏            | 701/834 [11:55<04:00,  1.81s/it]"
     ]
    },
    {
     "name": "stdout",
     "output_type": "stream",
     "text": [
      "[[3.78001796]\n",
      " [4.30435967]\n",
      " [4.11369875]\n",
      " ...\n",
      " [0.46835219]\n",
      " [3.97051772]\n",
      " [4.85671226]]\n",
      "[[4.12393755]\n",
      " [4.66796074]\n",
      " [4.46089342]\n",
      " ...\n",
      " [1.03140349]\n",
      " [4.17774346]\n",
      " [4.53259165]]\n"
     ]
    },
    {
     "name": "stderr",
     "output_type": "stream",
     "text": [
      "\n",
      " 84%|███████████████████████████████████████████████████████████████████▎            | 702/834 [11:56<03:58,  1.80s/it]"
     ]
    },
    {
     "name": "stdout",
     "output_type": "stream",
     "text": [
      "[[3.43479759]\n",
      " [2.87161457]\n",
      " [2.72778886]\n",
      " ...\n",
      " [3.43511993]\n",
      " [6.15936311]\n",
      " [5.10391067]]\n",
      "[[4.22516616]\n",
      " [3.05004384]\n",
      " [2.44673421]\n",
      " ...\n",
      " [3.73056446]\n",
      " [5.93493029]\n",
      " [5.83386287]]\n"
     ]
    },
    {
     "name": "stderr",
     "output_type": "stream",
     "text": [
      "\n",
      " 84%|███████████████████████████████████████████████████████████████████▍            | 703/834 [11:58<03:56,  1.81s/it]"
     ]
    },
    {
     "name": "stdout",
     "output_type": "stream",
     "text": [
      "[[ 3.61143696]\n",
      " [ 4.87305462]\n",
      " [ 2.30504702]\n",
      " ...\n",
      " [ 4.68700308]\n",
      " [ 6.30141597]\n",
      " [-0.02913905]]\n",
      "[[3.8229275 ]\n",
      " [4.64094495]\n",
      " [3.04133947]\n",
      " ...\n",
      " [4.80619904]\n",
      " [6.00949774]\n",
      " [0.48102933]]\n"
     ]
    },
    {
     "name": "stderr",
     "output_type": "stream",
     "text": [
      "\n",
      " 84%|███████████████████████████████████████████████████████████████████▌            | 704/834 [12:00<03:55,  1.81s/it]"
     ]
    },
    {
     "name": "stdout",
     "output_type": "stream",
     "text": [
      "[[5.94111035]\n",
      " [4.06276988]\n",
      " [4.96192227]\n",
      " ...\n",
      " [2.94642843]\n",
      " [1.56209798]\n",
      " [2.07261154]]\n",
      "[[6.58711335]\n",
      " [4.09605132]\n",
      " [4.68133968]\n",
      " ...\n",
      " [2.84723199]\n",
      " [0.93188351]\n",
      " [2.49609122]]\n"
     ]
    },
    {
     "name": "stderr",
     "output_type": "stream",
     "text": [
      "\n",
      " 85%|███████████████████████████████████████████████████████████████████▋            | 705/834 [12:02<03:55,  1.83s/it]"
     ]
    },
    {
     "name": "stdout",
     "output_type": "stream",
     "text": [
      "[[6.34889586]\n",
      " [3.96452229]\n",
      " [4.99921639]\n",
      " ...\n",
      " [8.91193951]\n",
      " [5.21646991]\n",
      " [6.54774408]]\n",
      "[[6.19087104]\n",
      " [4.12097162]\n",
      " [4.8541698 ]\n",
      " ...\n",
      " [9.48628142]\n",
      " [5.32704281]\n",
      " [6.22900908]]\n"
     ]
    },
    {
     "name": "stderr",
     "output_type": "stream",
     "text": [
      "\n",
      " 85%|███████████████████████████████████████████████████████████████████▋            | 706/834 [12:04<03:54,  1.83s/it]"
     ]
    },
    {
     "name": "stdout",
     "output_type": "stream",
     "text": [
      "[[6.48124645]\n",
      " [5.78651867]\n",
      " [6.63645057]\n",
      " ...\n",
      " [3.92539087]\n",
      " [5.02622803]\n",
      " [5.5327124 ]]\n",
      "[[7.04999246]\n",
      " [5.90785003]\n",
      " [6.36434593]\n",
      " ...\n",
      " [4.59319986]\n",
      " [4.94153589]\n",
      " [5.08299804]]\n"
     ]
    },
    {
     "name": "stderr",
     "output_type": "stream",
     "text": [
      "\n",
      " 85%|███████████████████████████████████████████████████████████████████▊            | 707/834 [12:06<03:51,  1.82s/it]"
     ]
    },
    {
     "name": "stdout",
     "output_type": "stream",
     "text": [
      "[[5.98136994]\n",
      " [4.60944938]\n",
      " [5.62473893]\n",
      " ...\n",
      " [4.13110482]\n",
      " [5.41683311]\n",
      " [2.64211232]]\n",
      "[[6.43765608]\n",
      " [4.58662323]\n",
      " [5.32175571]\n",
      " ...\n",
      " [4.93863444]\n",
      " [5.68550171]\n",
      " [2.8637703 ]]\n"
     ]
    },
    {
     "name": "stderr",
     "output_type": "stream",
     "text": [
      "\n",
      " 85%|███████████████████████████████████████████████████████████████████▉            | 708/834 [12:07<03:50,  1.83s/it]"
     ]
    },
    {
     "name": "stdout",
     "output_type": "stream",
     "text": [
      "[[2.24299761]\n",
      " [4.0935206 ]\n",
      " [5.60436738]\n",
      " ...\n",
      " [4.49817947]\n",
      " [3.52917717]\n",
      " [4.39013291]]\n",
      "[[2.86860606]\n",
      " [4.31011437]\n",
      " [5.41992168]\n",
      " ...\n",
      " [4.37104497]\n",
      " [3.05513751]\n",
      " [4.79356159]]\n"
     ]
    },
    {
     "name": "stderr",
     "output_type": "stream",
     "text": [
      "\n",
      " 85%|████████████████████████████████████████████████████████████████████            | 709/834 [12:09<03:49,  1.83s/it]"
     ]
    },
    {
     "name": "stdout",
     "output_type": "stream",
     "text": [
      "[[2.96908855]\n",
      " [3.68963534]\n",
      " [4.40354203]\n",
      " ...\n",
      " [2.78310148]\n",
      " [4.04394554]\n",
      " [3.84442042]]\n",
      "[[3.14949933]\n",
      " [3.64432671]\n",
      " [5.23094011]\n",
      " ...\n",
      " [3.12190326]\n",
      " [3.90194385]\n",
      " [4.81412969]]\n"
     ]
    },
    {
     "name": "stderr",
     "output_type": "stream",
     "text": [
      "\n",
      " 85%|████████████████████████████████████████████████████████████████████            | 710/834 [12:11<03:49,  1.85s/it]"
     ]
    },
    {
     "name": "stdout",
     "output_type": "stream",
     "text": [
      "[[4.10506018]\n",
      " [1.5664495 ]\n",
      " [3.09537925]\n",
      " ...\n",
      " [6.35572936]\n",
      " [8.02155462]\n",
      " [5.82635923]]\n",
      "[[4.27197633]\n",
      " [0.98462555]\n",
      " [4.04192303]\n",
      " ...\n",
      " [5.96055983]\n",
      " [8.4044893 ]\n",
      " [5.93841204]]\n"
     ]
    },
    {
     "name": "stderr",
     "output_type": "stream",
     "text": [
      "\n",
      " 85%|████████████████████████████████████████████████████████████████████▏           | 711/834 [12:13<03:46,  1.84s/it]"
     ]
    },
    {
     "name": "stdout",
     "output_type": "stream",
     "text": [
      "[[6.73057227]\n",
      " [7.46211067]\n",
      " [4.33527156]\n",
      " ...\n",
      " [4.295431  ]\n",
      " [5.22491508]\n",
      " [5.67444293]]\n",
      "[[6.4140898 ]\n",
      " [8.02414053]\n",
      " [4.37455896]\n",
      " ...\n",
      " [4.45605766]\n",
      " [5.08125717]\n",
      " [6.16240452]]\n"
     ]
    },
    {
     "name": "stderr",
     "output_type": "stream",
     "text": [
      "\n",
      " 85%|████████████████████████████████████████████████████████████████████▎           | 712/834 [12:15<03:44,  1.84s/it]"
     ]
    },
    {
     "name": "stdout",
     "output_type": "stream",
     "text": [
      "[[5.70200254]\n",
      " [7.43928938]\n",
      " [6.40291914]\n",
      " ...\n",
      " [3.70697694]\n",
      " [4.85210287]\n",
      " [4.86815513]]\n",
      "[[5.87096929]\n",
      " [7.12671988]\n",
      " [6.92600353]\n",
      " ...\n",
      " [3.88782343]\n",
      " [4.66547838]\n",
      " [5.36066748]]\n"
     ]
    },
    {
     "name": "stderr",
     "output_type": "stream",
     "text": [
      "\n",
      " 85%|████████████████████████████████████████████████████████████████████▍           | 713/834 [12:17<03:42,  1.84s/it]"
     ]
    },
    {
     "name": "stdout",
     "output_type": "stream",
     "text": [
      "[[3.94647155]\n",
      " [4.89993733]\n",
      " [2.75679898]\n",
      " ...\n",
      " [1.45018341]\n",
      " [1.54243557]\n",
      " [3.57191874]]\n",
      "[[4.12023013]\n",
      " [4.54348823]\n",
      " [3.50602392]\n",
      " ...\n",
      " [0.80666952]\n",
      " [1.84290877]\n",
      " [3.54541926]]\n"
     ]
    },
    {
     "name": "stderr",
     "output_type": "stream",
     "text": [
      "\n",
      " 86%|████████████████████████████████████████████████████████████████████▍           | 714/834 [12:19<03:42,  1.86s/it]"
     ]
    },
    {
     "name": "stdout",
     "output_type": "stream",
     "text": [
      "[[4.03746661]\n",
      " [5.46431299]\n",
      " [5.53148753]\n",
      " ...\n",
      " [2.42369839]\n",
      " [4.89626271]\n",
      " [2.46843844]]\n",
      "[[3.7342074 ]\n",
      " [6.11994653]\n",
      " [5.63479069]\n",
      " ...\n",
      " [2.5410638 ]\n",
      " [5.52450308]\n",
      " [2.48013321]]\n"
     ]
    },
    {
     "name": "stderr",
     "output_type": "stream",
     "text": [
      "\n",
      " 86%|████████████████████████████████████████████████████████████████████▌           | 715/834 [12:20<03:43,  1.88s/it]"
     ]
    },
    {
     "name": "stdout",
     "output_type": "stream",
     "text": [
      "[[3.90418125]\n",
      " [2.79870248]\n",
      " [2.51588609]\n",
      " ...\n",
      " [5.47933379]\n",
      " [5.93089234]\n",
      " [3.08686962]]\n",
      "[[3.43538956]\n",
      " [3.30617801]\n",
      " [2.52871649]\n",
      " ...\n",
      " [5.11974983]\n",
      " [6.46296323]\n",
      " [3.54554822]]\n"
     ]
    },
    {
     "name": "stderr",
     "output_type": "stream",
     "text": [
      "\n",
      " 86%|████████████████████████████████████████████████████████████████████▋           | 716/834 [12:22<03:38,  1.85s/it]"
     ]
    },
    {
     "name": "stdout",
     "output_type": "stream",
     "text": [
      "[[2.66380544]\n",
      " [4.95334817]\n",
      " [4.27957214]\n",
      " ...\n",
      " [7.11044361]\n",
      " [5.01526865]\n",
      " [4.19728011]]\n",
      "[[2.7850441 ]\n",
      " [4.67785793]\n",
      " [4.82902384]\n",
      " ...\n",
      " [6.79440633]\n",
      " [5.7529767 ]\n",
      " [4.28796658]]\n"
     ]
    },
    {
     "name": "stderr",
     "output_type": "stream",
     "text": [
      "\n",
      " 86%|████████████████████████████████████████████████████████████████████▊           | 717/834 [12:24<03:36,  1.85s/it]"
     ]
    },
    {
     "name": "stdout",
     "output_type": "stream",
     "text": [
      "[[4.33946191]\n",
      " [4.54369312]\n",
      " [3.37900147]\n",
      " ...\n",
      " [4.87331249]\n",
      " [2.29005846]\n",
      " [3.13670255]]\n",
      "[[4.26182123]\n",
      " [5.01803764]\n",
      " [3.50325142]\n",
      " ...\n",
      " [5.0579488 ]\n",
      " [1.75393076]\n",
      " [4.09405254]]\n"
     ]
    },
    {
     "name": "stderr",
     "output_type": "stream",
     "text": [
      "\n",
      " 86%|████████████████████████████████████████████████████████████████████▊           | 718/834 [12:26<03:34,  1.85s/it]"
     ]
    },
    {
     "name": "stdout",
     "output_type": "stream",
     "text": [
      "[[4.2537209 ]\n",
      " [2.41944358]\n",
      " [3.29780539]\n",
      " ...\n",
      " [3.65646711]\n",
      " [4.35970452]\n",
      " [4.67365843]]\n",
      "[[4.46234415]\n",
      " [1.86115571]\n",
      " [4.25466431]\n",
      " ...\n",
      " [3.76254496]\n",
      " [4.04769371]\n",
      " [5.43375195]]\n"
     ]
    },
    {
     "name": "stderr",
     "output_type": "stream",
     "text": [
      "\n",
      " 86%|████████████████████████████████████████████████████████████████████▉           | 719/834 [12:28<03:33,  1.85s/it]"
     ]
    },
    {
     "name": "stdout",
     "output_type": "stream",
     "text": [
      "[[3.78037253]\n",
      " [4.28015234]\n",
      " [4.09854902]\n",
      " ...\n",
      " [2.255891  ]\n",
      " [4.6156382 ]\n",
      " [5.85652975]]\n",
      "[[3.86116226]\n",
      " [4.38329557]\n",
      " [4.18425562]\n",
      " ...\n",
      " [2.72888479]\n",
      " [4.5957467 ]\n",
      " [5.44197275]]\n"
     ]
    },
    {
     "name": "stderr",
     "output_type": "stream",
     "text": [
      "\n",
      " 86%|█████████████████████████████████████████████████████████████████████           | 720/834 [12:30<03:31,  1.86s/it]"
     ]
    },
    {
     "name": "stdout",
     "output_type": "stream",
     "text": [
      "[[4.17081644]\n",
      " [4.08971705]\n",
      " [5.53371164]\n",
      " ...\n",
      " [3.63525749]\n",
      " [6.37052451]\n",
      " [5.05607621]]\n",
      "[[4.73550021]\n",
      " [4.01616454]\n",
      " [5.14531489]\n",
      " ...\n",
      " [3.83295365]\n",
      " [5.97003792]\n",
      " [5.67750658]]\n"
     ]
    },
    {
     "name": "stderr",
     "output_type": "stream",
     "text": [
      "\n",
      " 86%|█████████████████████████████████████████████████████████████████████▏          | 721/834 [12:31<03:28,  1.85s/it]"
     ]
    },
    {
     "name": "stdout",
     "output_type": "stream",
     "text": [
      "[[3.78472405e+00]\n",
      " [5.25118535e+00]\n",
      " [1.65705776e+00]\n",
      " ...\n",
      " [4.75456442e+00]\n",
      " [6.40865670e+00]\n",
      " [4.96395298e-03]]\n",
      "[[3.90036417]\n",
      " [4.93315391]\n",
      " [2.05232949]\n",
      " ...\n",
      " [5.00178948]\n",
      " [6.24641782]\n",
      " [0.63348478]]\n"
     ]
    },
    {
     "name": "stderr",
     "output_type": "stream",
     "text": [
      "\n",
      " 87%|█████████████████████████████████████████████████████████████████████▎          | 722/834 [12:33<03:28,  1.86s/it]"
     ]
    },
    {
     "name": "stdout",
     "output_type": "stream",
     "text": [
      "[[5.84437773]\n",
      " [4.2858899 ]\n",
      " [5.13395225]\n",
      " ...\n",
      " [2.70580564]\n",
      " [2.16325203]\n",
      " [2.60717125]]\n",
      "[[6.5865653 ]\n",
      " [4.44854611]\n",
      " [5.0088497 ]\n",
      " ...\n",
      " [2.62140192]\n",
      " [1.38354365]\n",
      " [2.97589549]]\n"
     ]
    },
    {
     "name": "stderr",
     "output_type": "stream",
     "text": [
      "\n",
      " 87%|█████████████████████████████████████████████████████████████████████▎          | 723/834 [12:35<03:25,  1.85s/it]"
     ]
    },
    {
     "name": "stdout",
     "output_type": "stream",
     "text": [
      "[[6.53868648]\n",
      " [3.77086366]\n",
      " [4.76597506]\n",
      " ...\n",
      " [8.94794428]\n",
      " [5.46544117]\n",
      " [6.86907945]]\n",
      "[[6.91581619]\n",
      " [3.89549617]\n",
      " [4.61402587]\n",
      " ...\n",
      " [9.39053334]\n",
      " [5.43852324]\n",
      " [6.3491294 ]]\n"
     ]
    },
    {
     "name": "stderr",
     "output_type": "stream",
     "text": [
      "\n",
      " 87%|█████████████████████████████████████████████████████████████████████▍          | 724/834 [12:37<03:25,  1.87s/it]"
     ]
    },
    {
     "name": "stdout",
     "output_type": "stream",
     "text": [
      "[[5.90839339]\n",
      " [7.06950711]\n",
      " [8.24834925]\n",
      " ...\n",
      " [5.3470799 ]\n",
      " [6.14324638]\n",
      " [5.38331031]]\n",
      "[[5.88605686]\n",
      " [6.57989195]\n",
      " [8.54617712]\n",
      " ...\n",
      " [5.48552684]\n",
      " [5.91603858]\n",
      " [5.96678184]]\n"
     ]
    },
    {
     "name": "stderr",
     "output_type": "stream",
     "text": [
      "\n",
      " 87%|█████████████████████████████████████████████████████████████████████▌          | 725/834 [12:39<03:25,  1.88s/it]"
     ]
    },
    {
     "name": "stdout",
     "output_type": "stream",
     "text": [
      "[[5.03841228]\n",
      " [5.93276188]\n",
      " [4.94664361]\n",
      " ...\n",
      " [5.57684001]\n",
      " [3.00373952]\n",
      " [2.74397006]]\n",
      "[[5.16888117]\n",
      " [5.75236417]\n",
      " [5.82544865]\n",
      " ...\n",
      " [5.76181003]\n",
      " [3.10665449]\n",
      " [3.08166972]]\n"
     ]
    },
    {
     "name": "stderr",
     "output_type": "stream",
     "text": [
      "\n",
      " 87%|█████████████████████████████████████████████████████████████████████▋          | 726/834 [12:41<03:22,  1.88s/it]"
     ]
    },
    {
     "name": "stdout",
     "output_type": "stream",
     "text": [
      "[[4.1939923 ]\n",
      " [5.70248604]\n",
      " [5.3733824 ]\n",
      " ...\n",
      " [4.13252309]\n",
      " [3.14037716]\n",
      " [4.29169192]]\n",
      "[[4.33023114]\n",
      " [5.42923858]\n",
      " [5.92045525]\n",
      " ...\n",
      " [3.75612952]\n",
      " [2.29008777]\n",
      " [4.54961353]]\n"
     ]
    },
    {
     "name": "stderr",
     "output_type": "stream",
     "text": [
      "\n",
      " 87%|█████████████████████████████████████████████████████████████████████▋          | 727/834 [12:43<03:21,  1.88s/it]"
     ]
    },
    {
     "name": "stdout",
     "output_type": "stream",
     "text": [
      "[[3.04590089]\n",
      " [3.54861395]\n",
      " [4.53776216]\n",
      " ...\n",
      " [3.13425281]\n",
      " [4.29607567]\n",
      " [4.12130585]]\n",
      "[[3.04972145]\n",
      " [3.36833367]\n",
      " [5.27375272]\n",
      " ...\n",
      " [3.32987325]\n",
      " [3.99324303]\n",
      " [4.87821965]]\n"
     ]
    },
    {
     "name": "stderr",
     "output_type": "stream",
     "text": [
      "\n",
      " 87%|█████████████████████████████████████████████████████████████████████▊          | 728/834 [12:45<03:18,  1.87s/it]"
     ]
    },
    {
     "name": "stdout",
     "output_type": "stream",
     "text": [
      "[[4.69074217]\n",
      " [4.00919787]\n",
      " [5.67818201]\n",
      " ...\n",
      " [6.73930754]\n",
      " [7.95731333]\n",
      " [5.99516586]]\n",
      "[[4.77882863]\n",
      " [3.7678643 ]\n",
      " [6.48656175]\n",
      " ...\n",
      " [6.6271857 ]\n",
      " [8.51941924]\n",
      " [6.24664349]]\n"
     ]
    },
    {
     "name": "stderr",
     "output_type": "stream",
     "text": [
      "\n",
      " 87%|█████████████████████████████████████████████████████████████████████▉          | 729/834 [12:46<03:15,  1.86s/it]"
     ]
    },
    {
     "name": "stdout",
     "output_type": "stream",
     "text": [
      "[[7.20778866]\n",
      " [7.15602172]\n",
      " [4.52164543]\n",
      " ...\n",
      " [4.39928721]\n",
      " [5.84947062]\n",
      " [5.98968617]]\n",
      "[[7.06678867]\n",
      " [7.84869909]\n",
      " [4.74214132]\n",
      " ...\n",
      " [4.50515676]\n",
      " [5.65065198]\n",
      " [6.46686408]]\n"
     ]
    },
    {
     "name": "stderr",
     "output_type": "stream",
     "text": [
      "\n",
      " 88%|██████████████████████████████████████████████████████████████████████          | 730/834 [12:48<03:14,  1.87s/it]"
     ]
    },
    {
     "name": "stdout",
     "output_type": "stream",
     "text": [
      "[[5.91422764]\n",
      " [7.60335769]\n",
      " [6.60366914]\n",
      " ...\n",
      " [3.70562313]\n",
      " [4.46543027]\n",
      " [5.38401944]]\n",
      "[[6.01617109]\n",
      " [7.28881461]\n",
      " [7.11456599]\n",
      " ...\n",
      " [3.88289095]\n",
      " [4.25459983]\n",
      " [5.8630064 ]]\n"
     ]
    },
    {
     "name": "stderr",
     "output_type": "stream",
     "text": [
      "\n",
      " 88%|██████████████████████████████████████████████████████████████████████          | 731/834 [12:50<03:13,  1.88s/it]"
     ]
    },
    {
     "name": "stdout",
     "output_type": "stream",
     "text": [
      "[[3.88957949]\n",
      " [4.67127316]\n",
      " [3.85657243]\n",
      " ...\n",
      " [1.24666133]\n",
      " [1.95231626]\n",
      " [3.1589114 ]]\n",
      "[[4.05339991]\n",
      " [4.31959247]\n",
      " [4.52008314]\n",
      " ...\n",
      " [0.64976518]\n",
      " [2.33734928]\n",
      " [3.18741171]]\n"
     ]
    },
    {
     "name": "stderr",
     "output_type": "stream",
     "text": [
      "\n",
      " 88%|██████████████████████████████████████████████████████████████████████▏         | 732/834 [12:52<03:12,  1.89s/it]"
     ]
    },
    {
     "name": "stdout",
     "output_type": "stream",
     "text": [
      "[[2.57767764]\n",
      " [4.3287604 ]\n",
      " [4.66463306]\n",
      " ...\n",
      " [1.16037236]\n",
      " [4.43003793]\n",
      " [2.50531352]]\n",
      "[[2.01190252]\n",
      " [4.99959727]\n",
      " [4.75787367]\n",
      " ...\n",
      " [1.52455446]\n",
      " [5.42553116]\n",
      " [2.6919718 ]]\n"
     ]
    },
    {
     "name": "stderr",
     "output_type": "stream",
     "text": [
      "\n",
      " 88%|██████████████████████████████████████████████████████████████████████▎         | 733/834 [12:54<03:09,  1.88s/it]"
     ]
    },
    {
     "name": "stdout",
     "output_type": "stream",
     "text": [
      "[[4.09345614]\n",
      " [2.93298708]\n",
      " [2.55330914]\n",
      " ...\n",
      " [4.54955961]\n",
      " [5.44178181]\n",
      " [5.83093638]]\n",
      "[[3.84526872]\n",
      " [3.6298839 ]\n",
      " [2.74119986]\n",
      " ...\n",
      " [4.80577994]\n",
      " [5.21101677]\n",
      " [6.52424845]]\n"
     ]
    },
    {
     "name": "stderr",
     "output_type": "stream",
     "text": [
      "\n",
      " 88%|██████████████████████████████████████████████████████████████████████▍         | 734/834 [12:56<03:08,  1.88s/it]"
     ]
    },
    {
     "name": "stdout",
     "output_type": "stream",
     "text": [
      "[[2.92924799]\n",
      " [2.51298508]\n",
      " [4.80649252]\n",
      " ...\n",
      " [5.50283198]\n",
      " [7.04459065]\n",
      " [5.2551823 ]]\n",
      "[[3.52755918]\n",
      " [2.76005933]\n",
      " [4.66380198]\n",
      " ...\n",
      " [5.67857045]\n",
      " [6.8073017 ]\n",
      " [6.18542275]]\n"
     ]
    },
    {
     "name": "stderr",
     "output_type": "stream",
     "text": [
      "\n",
      " 88%|██████████████████████████████████████████████████████████████████████▌         | 735/834 [12:58<03:06,  1.89s/it]"
     ]
    },
    {
     "name": "stdout",
     "output_type": "stream",
     "text": [
      "[[4.05000543]\n",
      " [3.44885138]\n",
      " [4.81090851]\n",
      " ...\n",
      " [4.80939354]\n",
      " [1.89877648]\n",
      " [3.80451539]]\n",
      "[[4.22461811]\n",
      " [3.38738657]\n",
      " [5.37872099]\n",
      " ...\n",
      " [4.95942821]\n",
      " [1.37374317]\n",
      " [4.65741878]]\n"
     ]
    },
    {
     "name": "stderr",
     "output_type": "stream",
     "text": [
      "\n",
      " 88%|██████████████████████████████████████████████████████████████████████▌         | 736/834 [13:00<03:04,  1.89s/it]"
     ]
    },
    {
     "name": "stdout",
     "output_type": "stream",
     "text": [
      "[[4.33004974]\n",
      " [2.00679081]\n",
      " [4.00268671]\n",
      " ...\n",
      " [3.95633499]\n",
      " [4.10380308]\n",
      " [4.68545588]]\n",
      "[[4.51202354]\n",
      " [1.45762752]\n",
      " [4.85149401]\n",
      " ...\n",
      " [4.28129323]\n",
      " [4.00156054]\n",
      " [5.6782803 ]]\n"
     ]
    },
    {
     "name": "stderr",
     "output_type": "stream",
     "text": [
      "\n",
      " 88%|██████████████████████████████████████████████████████████████████████▋         | 737/834 [13:02<03:03,  1.89s/it]"
     ]
    },
    {
     "name": "stdout",
     "output_type": "stream",
     "text": [
      "[[3.96868041]\n",
      " [4.49295765]\n",
      " [4.30232896]\n",
      " ...\n",
      " [1.59355784]\n",
      " [4.19873062]\n",
      " [5.75038496]]\n",
      "[[4.2705256 ]\n",
      " [4.81435536]\n",
      " [4.60738476]\n",
      " ...\n",
      " [2.24869365]\n",
      " [4.45370426]\n",
      " [5.67850597]]\n"
     ]
    },
    {
     "name": "stderr",
     "output_type": "stream",
     "text": [
      "\n",
      " 88%|██████████████████████████████████████████████████████████████████████▊         | 738/834 [13:03<03:01,  1.89s/it]"
     ]
    },
    {
     "name": "stdout",
     "output_type": "stream",
     "text": [
      "[[3.76125809]\n",
      " [3.53298072]\n",
      " [5.35249512]\n",
      " ...\n",
      " [2.80024968]\n",
      " [3.42312908]\n",
      " [6.26296146]]\n",
      "[[4.70635668]\n",
      " [3.80538981]\n",
      " [5.27707328]\n",
      " ...\n",
      " [3.39480141]\n",
      " [3.68791304]\n",
      " [5.94872833]]\n"
     ]
    },
    {
     "name": "stderr",
     "output_type": "stream",
     "text": [
      "\n",
      " 89%|██████████████████████████████████████████████████████████████████████▉         | 739/834 [13:05<02:59,  1.89s/it]"
     ]
    },
    {
     "name": "stdout",
     "output_type": "stream",
     "text": [
      "[[5.13314642]\n",
      " [3.63809403]\n",
      " [4.89536018]\n",
      " ...\n",
      " [4.82238362]\n",
      " [6.05718304]\n",
      " [0.10385621]]\n",
      "[[5.81993588]\n",
      " [3.79700782]\n",
      " [4.67943761]\n",
      " ...\n",
      " [4.85545934]\n",
      " [5.70320059]\n",
      " [0.57803471]]\n"
     ]
    },
    {
     "name": "stderr",
     "output_type": "stream",
     "text": [
      "\n",
      " 89%|██████████████████████████████████████████████████████████████████████▉         | 740/834 [13:07<02:57,  1.89s/it]"
     ]
    },
    {
     "name": "stdout",
     "output_type": "stream",
     "text": [
      "[[6.1556885 ]\n",
      " [3.74962181]\n",
      " [3.31811247]\n",
      " ...\n",
      " [1.31286886]\n",
      " [2.99136187]\n",
      " [4.09007162]]\n",
      "[[6.72822088]\n",
      " [3.74294401]\n",
      " [2.85745157]\n",
      " ...\n",
      " [0.78635932]\n",
      " [3.80729188]\n",
      " [5.05240379]]\n"
     ]
    },
    {
     "name": "stderr",
     "output_type": "stream",
     "text": [
      "\n",
      " 89%|███████████████████████████████████████████████████████████████████████         | 741/834 [13:09<02:56,  1.89s/it]"
     ]
    },
    {
     "name": "stdout",
     "output_type": "stream",
     "text": [
      "[[6.06240486]\n",
      " [4.04781355]\n",
      " [4.88220892]\n",
      " ...\n",
      " [8.83680331]\n",
      " [5.41444783]\n",
      " [6.9648773 ]]\n",
      "[[5.95140412]\n",
      " [4.22745509]\n",
      " [4.74907258]\n",
      " ...\n",
      " [9.43202418]\n",
      " [5.57901823]\n",
      " [6.7082653 ]]\n"
     ]
    },
    {
     "name": "stderr",
     "output_type": "stream",
     "text": [
      "\n",
      " 89%|███████████████████████████████████████████████████████████████████████▏        | 742/834 [13:11<02:55,  1.91s/it]"
     ]
    },
    {
     "name": "stdout",
     "output_type": "stream",
     "text": [
      "[[5.48039749]\n",
      " [5.83151658]\n",
      " [7.23486477]\n",
      " ...\n",
      " [1.37024442]\n",
      " [5.17463088]\n",
      " [5.92341418]]\n",
      "[[6.14712352]\n",
      " [6.00127694]\n",
      " [6.93941471]\n",
      " ...\n",
      " [1.90238864]\n",
      " [5.22671688]\n",
      " [5.63472621]]\n"
     ]
    },
    {
     "name": "stderr",
     "output_type": "stream",
     "text": [
      "\n",
      " 89%|███████████████████████████████████████████████████████████████████████▎        | 743/834 [13:13<02:53,  1.91s/it]"
     ]
    },
    {
     "name": "stdout",
     "output_type": "stream",
     "text": [
      "[[5.76302048]\n",
      " [5.0708069 ]\n",
      " [5.94623547]\n",
      " ...\n",
      " [5.30591777]\n",
      " [2.20528446]\n",
      " [5.2478653 ]]\n",
      "[[6.27278884]\n",
      " [5.14212329]\n",
      " [5.72176992]\n",
      " ...\n",
      " [5.28577765]\n",
      " [1.64490045]\n",
      " [5.21627163]]\n"
     ]
    },
    {
     "name": "stderr",
     "output_type": "stream",
     "text": [
      "\n",
      " 89%|███████████████████████████████████████████████████████████████████████▎        | 744/834 [13:15<02:52,  1.92s/it]"
     ]
    },
    {
     "name": "stdout",
     "output_type": "stream",
     "text": [
      "[[2.39842736]\n",
      " [4.73754515]\n",
      " [4.72484517]\n",
      " ...\n",
      " [5.44748713]\n",
      " [2.50460438]\n",
      " [5.45332138]]\n",
      "[[1.8564489 ]\n",
      " [5.13148461]\n",
      " [4.72166993]\n",
      " ...\n",
      " [5.5148638 ]\n",
      " [2.05287754]\n",
      " [5.51686258]]\n"
     ]
    },
    {
     "name": "stderr",
     "output_type": "stream",
     "text": [
      "\n",
      " 89%|███████████████████████████████████████████████████████████████████████▍        | 745/834 [13:17<02:50,  1.92s/it]"
     ]
    },
    {
     "name": "stdout",
     "output_type": "stream",
     "text": [
      "[[3.11304319]\n",
      " [4.38736083]\n",
      " [4.92868957]\n",
      " ...\n",
      " [5.103266  ]\n",
      " [1.61992481]\n",
      " [5.14346112]]\n",
      "[[2.82395586]\n",
      " [4.75081345]\n",
      " [4.98715325]\n",
      " ...\n",
      " [5.1195564 ]\n",
      " [1.07937424]\n",
      " [5.15792011]]\n"
     ]
    },
    {
     "name": "stderr",
     "output_type": "stream",
     "text": [
      "\n",
      " 89%|███████████████████████████████████████████████████████████████████████▌        | 746/834 [13:19<02:48,  1.91s/it]"
     ]
    },
    {
     "name": "stdout",
     "output_type": "stream",
     "text": [
      "[[1.9610193 ]\n",
      " [4.54046977]\n",
      " [4.50153175]\n",
      " ...\n",
      " [5.53454971]\n",
      " [2.6955554 ]\n",
      " [5.54428421]]\n",
      "[[1.48631971]\n",
      " [4.93824758]\n",
      " [4.51228145]\n",
      " ...\n",
      " [5.47562965]\n",
      " [2.11332456]\n",
      " [5.48601042]]\n"
     ]
    },
    {
     "name": "stderr",
     "output_type": "stream",
     "text": [
      "\n",
      " 90%|███████████████████████████████████████████████████████████████████████▋        | 747/834 [13:21<02:45,  1.90s/it]"
     ]
    },
    {
     "name": "stdout",
     "output_type": "stream",
     "text": [
      "[[3.43192882]\n",
      " [4.39258265]\n",
      " [5.01275444]\n",
      " ...\n",
      " [2.11986579]\n",
      " [5.18281818]\n",
      " [2.17440481]]\n",
      "[[3.01735409]\n",
      " [4.64694129]\n",
      " [4.95526946]\n",
      " ...\n",
      " [1.5814875 ]\n",
      " [5.20418223]\n",
      " [1.720564  ]]\n"
     ]
    },
    {
     "name": "stderr",
     "output_type": "stream",
     "text": [
      "\n",
      " 90%|███████████████████████████████████████████████████████████████████████▊        | 748/834 [13:23<02:43,  1.90s/it]"
     ]
    },
    {
     "name": "stdout",
     "output_type": "stream",
     "text": [
      "[[4.66895235]\n",
      " [4.58856209]\n",
      " [6.28562158]\n",
      " ...\n",
      " [2.60098243]\n",
      " [5.5678791 ]\n",
      " [3.05889097]]\n",
      "[[5.05985086]\n",
      " [4.61947417]\n",
      " [6.76993738]\n",
      " ...\n",
      " [1.9897225 ]\n",
      " [5.54442642]\n",
      " [2.64757951]]\n"
     ]
    },
    {
     "name": "stderr",
     "output_type": "stream",
     "text": [
      "\n",
      " 90%|███████████████████████████████████████████████████████████████████████▊        | 749/834 [13:24<02:40,  1.89s/it]"
     ]
    },
    {
     "name": "stdout",
     "output_type": "stream",
     "text": [
      "[[4.59404178]\n",
      " [5.08057364]\n",
      " [6.19166104]\n",
      " ...\n",
      " [5.42485924]\n",
      " [2.47720594]\n",
      " [4.67588254]]\n",
      "[[4.9047841 ]\n",
      " [5.05630464]\n",
      " [6.56041995]\n",
      " ...\n",
      " [5.38626477]\n",
      " [1.97766533]\n",
      " [4.99186005]]\n"
     ]
    },
    {
     "name": "stderr",
     "output_type": "stream",
     "text": [
      "\n",
      " 90%|███████████████████████████████████████████████████████████████████████▉        | 750/834 [13:26<02:39,  1.90s/it]"
     ]
    },
    {
     "name": "stdout",
     "output_type": "stream",
     "text": [
      "[[4.78847402]\n",
      " [6.43644194]\n",
      " [4.48663989]\n",
      " ...\n",
      " [2.50608712]\n",
      " [5.52336469]\n",
      " [3.22244355]]\n",
      "[[4.73001968]\n",
      " [6.84663256]\n",
      " [4.44693419]\n",
      " ...\n",
      " [1.91915261]\n",
      " [5.47927259]\n",
      " [2.83017787]]\n"
     ]
    },
    {
     "name": "stderr",
     "output_type": "stream",
     "text": [
      "\n",
      " 90%|████████████████████████████████████████████████████████████████████████        | 751/834 [13:28<02:37,  1.90s/it]"
     ]
    },
    {
     "name": "stdout",
     "output_type": "stream",
     "text": [
      "[[4.37756186]\n",
      " [4.99386563]\n",
      " [5.91348627]\n",
      " ...\n",
      " [5.13414565]\n",
      " [1.98680606]\n",
      " [5.23352141]]\n",
      "[[4.66547838]\n",
      " [4.94247081]\n",
      " [6.20318611]\n",
      " ...\n",
      " [5.10053574]\n",
      " [1.38293112]\n",
      " [5.19393041]]\n"
     ]
    },
    {
     "name": "stderr",
     "output_type": "stream",
     "text": [
      "\n",
      " 90%|████████████████████████████████████████████████████████████████████████▏       | 752/834 [13:30<02:35,  1.90s/it]"
     ]
    },
    {
     "name": "stdout",
     "output_type": "stream",
     "text": [
      "[[2.25776054]\n",
      " [4.65544653]\n",
      " [4.5567799 ]\n",
      " ...\n",
      " [5.41699427]\n",
      " [2.60730019]\n",
      " [5.42495594]]\n",
      "[[1.69180734]\n",
      " [5.00401393]\n",
      " [4.51872913]\n",
      " ...\n",
      " [5.45860777]\n",
      " [2.10945595]\n",
      " [5.47108403]]\n"
     ]
    },
    {
     "name": "stderr",
     "output_type": "stream",
     "text": [
      "\n",
      " 90%|████████████████████████████████████████████████████████████████████████▏       | 753/834 [13:32<02:34,  1.90s/it]"
     ]
    },
    {
     "name": "stdout",
     "output_type": "stream",
     "text": [
      "[[3.02649635]\n",
      " [4.39806234]\n",
      " [4.89291043]\n",
      " ...\n",
      " [5.09978478]\n",
      " [1.97778069]\n",
      " [5.14607203]]\n",
      "[[2.67723885]\n",
      " [4.75171613]\n",
      " [4.9475    ]\n",
      " ...\n",
      " [5.26392   ]\n",
      " [1.55676063]\n",
      " [5.3098275 ]]\n"
     ]
    },
    {
     "name": "stderr",
     "output_type": "stream",
     "text": [
      "\n",
      " 90%|████████████████████████████████████████████████████████████████████████▎       | 754/834 [13:34<02:32,  1.91s/it]"
     ]
    },
    {
     "name": "stdout",
     "output_type": "stream",
     "text": [
      "[[2.05900902]\n",
      " [4.55951975]\n",
      " [4.51726168]\n",
      " ...\n",
      " [5.43327217]\n",
      " [2.25208745]\n",
      " [5.47536907]]\n",
      "[[1.74387237]\n",
      " [5.10359839]\n",
      " [4.67750331]\n",
      " ...\n",
      " [5.44980668]\n",
      " [1.71060233]\n",
      " [5.49622999]]\n"
     ]
    },
    {
     "name": "stderr",
     "output_type": "stream",
     "text": [
      "\n",
      " 91%|████████████████████████████████████████████████████████████████████████▍       | 755/834 [13:36<02:30,  1.91s/it]"
     ]
    },
    {
     "name": "stdout",
     "output_type": "stream",
     "text": [
      "[[2.83145167]\n",
      " [4.62936966]\n",
      " [4.85751809]\n",
      " ...\n",
      " [5.44874423]\n",
      " [2.49954373]\n",
      " [5.5168213 ]]\n",
      "[[2.37032918]\n",
      " [5.00079009]\n",
      " [4.86042405]\n",
      " ...\n",
      " [5.4122167 ]\n",
      " [1.92737341]\n",
      " [5.48746115]]\n"
     ]
    },
    {
     "name": "stderr",
     "output_type": "stream",
     "text": [
      "\n",
      " 91%|████████████████████████████████████████████████████████████████████████▌       | 756/834 [13:38<02:29,  1.92s/it]"
     ]
    },
    {
     "name": "stdout",
     "output_type": "stream",
     "text": [
      "[[3.21586793]\n",
      " [4.37101847]\n",
      " [4.98729001]\n",
      " ...\n",
      " [5.32084186]\n",
      " [2.2898006 ]\n",
      " [5.41370646]]\n",
      "[[2.83839867]\n",
      " [4.67369917]\n",
      " [4.9506916 ]\n",
      " ...\n",
      " [5.4251443 ]\n",
      " [1.81692461]\n",
      " [5.51982851]]\n"
     ]
    },
    {
     "name": "stderr",
     "output_type": "stream",
     "text": [
      "\n",
      " 91%|████████████████████████████████████████████████████████████████████████▌       | 757/834 [13:40<02:27,  1.92s/it]"
     ]
    },
    {
     "name": "stdout",
     "output_type": "stream",
     "text": [
      "[[2.95139238]\n",
      " [4.47452011]\n",
      " [4.68829242]\n",
      " ...\n",
      " [5.57664661]\n",
      " [2.67901964]\n",
      " [5.5502474 ]]\n",
      "[[2.62417443]\n",
      " [4.91290818]\n",
      " [4.7709947 ]\n",
      " ...\n",
      " [5.53246597]\n",
      " [2.08401985]\n",
      " [5.50757792]]\n"
     ]
    },
    {
     "name": "stderr",
     "output_type": "stream",
     "text": [
      "\n",
      " 91%|████████████████████████████████████████████████████████████████████████▋       | 758/834 [13:42<02:26,  1.93s/it]"
     ]
    },
    {
     "name": "stdout",
     "output_type": "stream",
     "text": [
      "[[2.97650225]\n",
      " [4.64970897]\n",
      " [5.03351279]\n",
      " ...\n",
      " [5.35136695]\n",
      " [2.12234777]\n",
      " [5.37612225]]\n",
      "[[2.46943005]\n",
      " [4.94292214]\n",
      " [4.98960336]\n",
      " ...\n",
      " [5.16646329]\n",
      " [1.3914743 ]\n",
      " [5.19264088]]\n"
     ]
    },
    {
     "name": "stderr",
     "output_type": "stream",
     "text": [
      "\n",
      " 91%|████████████████████████████████████████████████████████████████████████▊       | 759/834 [13:44<02:24,  1.93s/it]"
     ]
    },
    {
     "name": "stdout",
     "output_type": "stream",
     "text": [
      "[[2.19451849]\n",
      " [4.99902299]\n",
      " [4.74205784]\n",
      " ...\n",
      " [5.63054095]\n",
      " [2.7711751 ]\n",
      " [5.70309847]]\n",
      "[[1.5176232 ]\n",
      " [5.1910612 ]\n",
      " [4.55851133]\n",
      " ...\n",
      " [5.48543013]\n",
      " [2.06622424]\n",
      " [5.56048115]]\n"
     ]
    },
    {
     "name": "stderr",
     "output_type": "stream",
     "text": [
      "\n",
      " 91%|████████████████████████████████████████████████████████████████████████▉       | 760/834 [13:46<02:22,  1.93s/it]"
     ]
    },
    {
     "name": "stdout",
     "output_type": "stream",
     "text": [
      "[[3.50748405]\n",
      " [4.52602918]\n",
      " [5.07212848]\n",
      " ...\n",
      " [5.29215408]\n",
      " [1.9461919 ]\n",
      " [5.42095899]]\n",
      "[[3.0064575 ]\n",
      " [4.72212127]\n",
      " [4.91445563]\n",
      " ...\n",
      " [5.09415253]\n",
      " [1.17776587]\n",
      " [5.22368647]]\n"
     ]
    },
    {
     "name": "stderr",
     "output_type": "stream",
     "text": [
      "\n",
      " 91%|████████████████████████████████████████████████████████████████████████▉       | 761/834 [13:48<02:20,  1.93s/it]"
     ]
    },
    {
     "name": "stdout",
     "output_type": "stream",
     "text": [
      "[[2.26981585]\n",
      " [4.82135215]\n",
      " [4.76391212]\n",
      " ...\n",
      " [5.54689512]\n",
      " [2.76656572]\n",
      " [5.55144004]]\n",
      "[[1.56091939]\n",
      " [5.0378965 ]\n",
      " [4.56441096]\n",
      " ...\n",
      " [5.39003667]\n",
      " [2.1021056 ]\n",
      " [5.40377023]]\n"
     ]
    },
    {
     "name": "stderr",
     "output_type": "stream",
     "text": [
      "\n",
      " 91%|█████████████████████████████████████████████████████████████████████████       | 762/834 [13:49<02:19,  1.94s/it]"
     ]
    },
    {
     "name": "stdout",
     "output_type": "stream",
     "text": [
      "[[3.44910925]\n",
      " [4.49740587]\n",
      " [4.97761997]\n",
      " ...\n",
      " [5.39562349]\n",
      " [2.29499018]\n",
      " [5.33753879]]\n",
      "[[2.95964733]\n",
      " [4.65571014]\n",
      " [4.82180243]\n",
      " ...\n",
      " [5.29503007]\n",
      " [1.65415287]\n",
      " [5.22552406]]\n"
     ]
    },
    {
     "name": "stderr",
     "output_type": "stream",
     "text": [
      "\n",
      " 91%|█████████████████████████████████████████████████████████████████████████▏      | 763/834 [13:51<02:17,  1.93s/it]"
     ]
    },
    {
     "name": "stdout",
     "output_type": "stream",
     "text": [
      "[[2.48813308]\n",
      " [4.82721864]\n",
      " [4.81451866]\n",
      " ...\n",
      " [2.77111063]\n",
      " [5.71979541]\n",
      " [3.37954944]]\n",
      "[[1.86570133]\n",
      " [5.14073704]\n",
      " [4.73092235]\n",
      " ...\n",
      " [1.88111129]\n",
      " [5.34509632]\n",
      " [2.65218961]]\n"
     ]
    },
    {
     "name": "stderr",
     "output_type": "stream",
     "text": [
      "\n",
      " 92%|█████████████████████████████████████████████████████████████████████████▎      | 764/834 [13:53<02:15,  1.94s/it]"
     ]
    },
    {
     "name": "stdout",
     "output_type": "stream",
     "text": [
      "[[4.65386709]\n",
      " [5.1951636 ]\n",
      " [6.30080354]\n",
      " ...\n",
      " [5.63953409]\n",
      " [2.7953502 ]\n",
      " [5.66264548]]\n",
      "[[4.5790472 ]\n",
      " [4.81538699]\n",
      " [6.3074129 ]\n",
      " ...\n",
      " [5.46257309]\n",
      " [2.06860989]\n",
      " [5.48642952]]\n"
     ]
    },
    {
     "name": "stderr",
     "output_type": "stream",
     "text": [
      "\n",
      " 92%|█████████████████████████████████████████████████████████████████████████▍      | 765/834 [13:55<02:13,  1.94s/it]"
     ]
    },
    {
     "name": "stdout",
     "output_type": "stream",
     "text": [
      "[[3.4363448 ]\n",
      " [4.62034429]\n",
      " [5.12460455]\n",
      " ...\n",
      " [2.16595964]\n",
      " [5.30627234]\n",
      " [2.21501897]]\n",
      "[[2.93798312]\n",
      " [4.75655189]\n",
      " [4.94956326]\n",
      " ...\n",
      " [1.54270469]\n",
      " [5.21907637]\n",
      " [1.63348805]]\n"
     ]
    },
    {
     "name": "stderr",
     "output_type": "stream",
     "text": [
      "\n",
      " 92%|█████████████████████████████████████████████████████████████████████████▍      | 766/834 [13:57<02:11,  1.94s/it]"
     ]
    },
    {
     "name": "stdout",
     "output_type": "stream",
     "text": [
      "[[4.75569259]\n",
      " [4.66930691]\n",
      " [6.34792886]\n",
      " ...\n",
      " [3.07420187]\n",
      " [5.78139355]\n",
      " [2.35155991]]\n",
      "[[5.08006435]\n",
      " [4.57633917]\n",
      " [6.73183158]\n",
      " ...\n",
      " [2.67688423]\n",
      " [5.73092563]\n",
      " [1.95964406]]\n"
     ]
    },
    {
     "name": "stderr",
     "output_type": "stream",
     "text": [
      "\n",
      " 92%|█████████████████████████████████████████████████████████████████████████▌      | 767/834 [13:59<02:10,  1.94s/it]"
     ]
    },
    {
     "name": "stdout",
     "output_type": "stream",
     "text": [
      "[[4.44106178]\n",
      " [3.40324104]\n",
      " [4.32624619]\n",
      " ...\n",
      " [2.32087365]\n",
      " [5.62854248]\n",
      " [2.93511448]]\n",
      "[[4.05733299]\n",
      " [3.0032659 ]\n",
      " [3.93927593]\n",
      " ...\n",
      " [1.60737494]\n",
      " [5.5201509 ]\n",
      " [2.34789124]]\n"
     ]
    },
    {
     "name": "stderr",
     "output_type": "stream",
     "text": [
      "\n",
      " 92%|█████████████████████████████████████████████████████████████████████████▋      | 768/834 [14:01<02:07,  1.93s/it]"
     ]
    },
    {
     "name": "stdout",
     "output_type": "stream",
     "text": [
      "[[4.65032141]\n",
      " [5.08192745]\n",
      " [6.3234959 ]\n",
      " ...\n",
      " [1.8937803 ]\n",
      " [5.50663553]\n",
      " [2.43243366]]\n",
      "[[4.93595865]\n",
      " [4.96326458]\n",
      " [6.66787057]\n",
      " ...\n",
      " [1.16441917]\n",
      " [5.35970032]\n",
      " [1.74570996]]\n"
     ]
    },
    {
     "name": "stderr",
     "output_type": "stream",
     "text": [
      "\n",
      " 92%|█████████████████████████████████████████████████████████████████████████▊      | 769/834 [14:03<02:05,  1.94s/it]"
     ]
    },
    {
     "name": "stdout",
     "output_type": "stream",
     "text": [
      "[[4.83927395]\n",
      " [4.86973457]\n",
      " [6.25541883]\n",
      " ...\n",
      " [3.49388153]\n",
      " [4.58543545]\n",
      " [5.0018273 ]]\n",
      "[[5.0882529 ]\n",
      " [4.70045706]\n",
      " [6.55925936]\n",
      " ...\n",
      " [3.09263078]\n",
      " [4.83034561]\n",
      " [4.92741547]]\n"
     ]
    },
    {
     "name": "stderr",
     "output_type": "stream",
     "text": [
      "\n",
      " 92%|█████████████████████████████████████████████████████████████████████████▊      | 770/834 [14:05<02:04,  1.94s/it]"
     ]
    },
    {
     "name": "stdout",
     "output_type": "stream",
     "text": [
      "[[6.14369765]\n",
      " [4.63826609]\n",
      " [4.55426569]\n",
      " ...\n",
      " [5.58908872]\n",
      " [2.66567498]\n",
      " [4.7572398 ]]\n",
      "[[6.4407832 ]\n",
      " [4.5547072 ]\n",
      " [4.07825572]\n",
      " ...\n",
      " [5.42582131]\n",
      " [2.0193496 ]\n",
      " [4.97812649]]\n"
     ]
    },
    {
     "name": "stderr",
     "output_type": "stream",
     "text": [
      "\n",
      " 92%|█████████████████████████████████████████████████████████████████████████▉      | 771/834 [14:07<02:02,  1.94s/it]"
     ]
    },
    {
     "name": "stdout",
     "output_type": "stream",
     "text": [
      "[[5.01659022]\n",
      " [6.5265667 ]\n",
      " [4.69712439]\n",
      " ...\n",
      " [5.37354357]\n",
      " [2.38476037]\n",
      " [4.87589117]]\n",
      "[[4.84926956]\n",
      " [6.82648355]\n",
      " [4.52182402]\n",
      " ...\n",
      " [5.29770586]\n",
      " [1.7781418 ]\n",
      " [5.16249796]]\n"
     ]
    },
    {
     "name": "stderr",
     "output_type": "stream",
     "text": [
      "\n",
      " 93%|██████████████████████████████████████████████████████████████████████████      | 772/834 [14:09<02:00,  1.94s/it]"
     ]
    },
    {
     "name": "stdout",
     "output_type": "stream",
     "text": [
      "[[4.75314615]\n",
      " [6.21757674]\n",
      " [4.34268526]\n",
      " ...\n",
      " [2.62277225]\n",
      " [5.65584422]\n",
      " [3.2262471 ]]\n",
      "[[4.66560733]\n",
      " [6.59794546]\n",
      " [4.2580171 ]\n",
      " ...\n",
      " [1.96992811]\n",
      " [5.58459548]\n",
      " [2.78265845]]\n"
     ]
    },
    {
     "name": "stderr",
     "output_type": "stream",
     "text": [
      "\n",
      " 93%|██████████████████████████████████████████████████████████████████████████▏     | 773/834 [14:11<01:59,  1.95s/it]"
     ]
    },
    {
     "name": "stdout",
     "output_type": "stream",
     "text": [
      "[[4.46472114]\n",
      " [5.13076114]\n",
      " [6.05602264]\n",
      " ...\n",
      " [1.90828535]\n",
      " [5.24754297]\n",
      " [2.10094475]]\n",
      "[[4.73324352]\n",
      " [5.05872252]\n",
      " [6.3256276 ]\n",
      " ...\n",
      " [1.30046527]\n",
      " [5.20534281]\n",
      " [1.5578245 ]]\n"
     ]
    },
    {
     "name": "stderr",
     "output_type": "stream",
     "text": [
      "\n",
      " 93%|██████████████████████████████████████████████████████████████████████████▏     | 774/834 [14:13<01:57,  1.96s/it]"
     ]
    },
    {
     "name": "stdout",
     "output_type": "stream",
     "text": [
      "[[4.70621423]\n",
      " [4.5723809 ]\n",
      " [6.16181286]\n",
      " ...\n",
      " [2.54544417]\n",
      " [5.42630974]\n",
      " [3.31994977]]\n",
      "[[5.07609902]\n",
      " [4.53668593]\n",
      " [6.58524352]\n",
      " ...\n",
      " [2.10971386]\n",
      " [5.53933275]\n",
      " [3.05197814]]\n"
     ]
    },
    {
     "name": "stderr",
     "output_type": "stream",
     "text": [
      "\n",
      " 93%|██████████████████████████████████████████████████████████████████████████▎     | 775/834 [14:15<01:56,  1.97s/it]"
     ]
    },
    {
     "name": "stdout",
     "output_type": "stream",
     "text": [
      "[[4.47587392]\n",
      " [4.72374923]\n",
      " [6.01457041]\n",
      " ...\n",
      " [2.48291126]\n",
      " [5.49219494]\n",
      " [2.85691611]]\n",
      "[[4.89646659]\n",
      " [4.8237045 ]\n",
      " [6.4892053 ]\n",
      " ...\n",
      " [1.8712141 ]\n",
      " [5.42585354]\n",
      " [2.31787728]]\n"
     ]
    },
    {
     "name": "stderr",
     "output_type": "stream",
     "text": [
      "\n",
      " 93%|██████████████████████████████████████████████████████████████████████████▍     | 776/834 [14:17<01:53,  1.96s/it]"
     ]
    },
    {
     "name": "stdout",
     "output_type": "stream",
     "text": [
      "[[4.6912579 ]\n",
      " [4.95383167]\n",
      " [6.33909689]\n",
      " ...\n",
      " [5.38124737]\n",
      " [2.10100922]\n",
      " [4.90831803]]\n",
      "[[5.00224082]\n",
      " [4.88511867]\n",
      " [6.72519046]\n",
      " ...\n",
      " [5.30979526]\n",
      " [1.49737748]\n",
      " [5.20379537]]\n"
     ]
    },
    {
     "name": "stderr",
     "output_type": "stream",
     "text": [
      "\n",
      " 93%|██████████████████████████████████████████████████████████████████████████▌     | 777/834 [14:19<01:51,  1.96s/it]"
     ]
    },
    {
     "name": "stdout",
     "output_type": "stream",
     "text": [
      "[[4.73461191]\n",
      " [6.31614667]\n",
      " [4.38784433]\n",
      " ...\n",
      " [4.28730817]\n",
      " [5.01952347]\n",
      " [5.87651449]]\n",
      "[[4.65622595]\n",
      " [6.70284925]\n",
      " [4.32452494]\n",
      " ...\n",
      " [4.57330876]\n",
      " [4.96123356]\n",
      " [6.15586012]]\n"
     ]
    },
    {
     "name": "stderr",
     "output_type": "stream",
     "text": [
      "\n",
      " 93%|██████████████████████████████████████████████████████████████████████████▋     | 778/834 [14:21<01:49,  1.96s/it]"
     ]
    },
    {
     "name": "stdout",
     "output_type": "stream",
     "text": [
      "[[4.60181005]\n",
      " [4.32302284]\n",
      " [3.77898649]\n",
      " ...\n",
      " [2.10139602]\n",
      " [5.40825901]\n",
      " [2.39243194]]\n",
      "[[4.55828566]\n",
      " [3.82756984]\n",
      " [3.71286557]\n",
      " ...\n",
      " [1.44067012]\n",
      " [5.3229163 ]\n",
      " [1.83507484]]\n"
     ]
    },
    {
     "name": "stderr",
     "output_type": "stream",
     "text": [
      "\n",
      " 93%|██████████████████████████████████████████████████████████████████████████▋     | 779/834 [14:23<01:48,  1.97s/it]"
     ]
    },
    {
     "name": "stdout",
     "output_type": "stream",
     "text": [
      "[[4.60999735]\n",
      " [4.74798879]\n",
      " [6.32707381]\n",
      " ...\n",
      " [5.46753634]\n",
      " [2.81820372]\n",
      " [4.76365425]]\n",
      "[[4.93086498]\n",
      " [4.6626414 ]\n",
      " [6.70797515]\n",
      " ...\n",
      " [5.48114242]\n",
      " [2.33686571]\n",
      " [5.1341604 ]]\n"
     ]
    },
    {
     "name": "stderr",
     "output_type": "stream",
     "text": [
      "\n",
      " 94%|██████████████████████████████████████████████████████████████████████████▊     | 780/834 [14:25<01:46,  1.97s/it]"
     ]
    },
    {
     "name": "stdout",
     "output_type": "stream",
     "text": [
      "[[4.85190947]\n",
      " [6.26437973]\n",
      " [4.43674249]\n",
      " ...\n",
      " [2.92579901]\n",
      " [4.27196504]\n",
      " [4.74508778]]\n",
      "[[4.84314426]\n",
      " [6.69527322]\n",
      " [4.44180828]\n",
      " ...\n",
      " [2.72853016]\n",
      " [4.78247157]\n",
      " [4.93670013]]\n"
     ]
    },
    {
     "name": "stderr",
     "output_type": "stream",
     "text": [
      "\n",
      " 94%|██████████████████████████████████████████████████████████████████████████▉     | 781/834 [14:27<01:44,  1.97s/it]"
     ]
    },
    {
     "name": "stdout",
     "output_type": "stream",
     "text": [
      "[[5.85614295]\n",
      " [4.41495267]\n",
      " [4.22122957]\n",
      " ...\n",
      " [2.21266592]\n",
      " [4.83721101]\n",
      " [4.77396896]]\n",
      "[[6.38310868]\n",
      " [4.58952468]\n",
      " [3.9890198 ]\n",
      " ...\n",
      " [1.62017359]\n",
      " [5.14167195]\n",
      " [4.70377761]]\n"
     ]
    },
    {
     "name": "stderr",
     "output_type": "stream",
     "text": [
      "\n",
      " 94%|███████████████████████████████████████████████████████████████████████████     | 782/834 [14:29<01:43,  1.99s/it]"
     ]
    },
    {
     "name": "stdout",
     "output_type": "stream",
     "text": [
      "[[6.4430498 ]\n",
      " [4.4798064 ]\n",
      " [3.78575552]\n",
      " ...\n",
      " [2.83544862]\n",
      " [4.63336661]\n",
      " [4.86151504]]\n",
      "[[6.82587102]\n",
      " [4.41737157]\n",
      " [3.27132829]\n",
      " ...\n",
      " [2.34618261]\n",
      " [4.97667576]\n",
      " [4.83627748]]\n"
     ]
    },
    {
     "name": "stderr",
     "output_type": "stream",
     "text": [
      "\n",
      " 94%|███████████████████████████████████████████████████████████████████████████     | 783/834 [14:31<01:41,  1.99s/it]"
     ]
    },
    {
     "name": "stdout",
     "output_type": "stream",
     "text": [
      "[[6.0713013 ]\n",
      " [4.44173868]\n",
      " [4.23012601]\n",
      " ...\n",
      " [5.46937365]\n",
      " [3.2681506 ]\n",
      " [4.29855765]]\n",
      "[[6.49014021]\n",
      " [4.42920306]\n",
      " [3.77166843]\n",
      " ...\n",
      " [5.48746115]\n",
      " [2.9391437 ]\n",
      " [4.64806964]]\n"
     ]
    },
    {
     "name": "stderr",
     "output_type": "stream",
     "text": [
      "\n",
      " 94%|███████████████████████████████████████████████████████████████████████████▏    | 784/834 [14:33<01:39,  1.99s/it]"
     ]
    },
    {
     "name": "stdout",
     "output_type": "stream",
     "text": [
      "[[4.95151086]\n",
      " [4.59307478]\n",
      " [4.36872989]\n",
      " ...\n",
      " [2.42518113]\n",
      " [4.71440153]\n",
      " [4.67868685]]\n",
      "[[4.96523113]\n",
      " [4.62005446]\n",
      " [3.98966457]\n",
      " ...\n",
      " [1.88014414]\n",
      " [5.01594215]\n",
      " [4.62218219]]\n"
     ]
    },
    {
     "name": "stderr",
     "output_type": "stream",
     "text": [
      "\n",
      " 94%|███████████████████████████████████████████████████████████████████████████▎    | 785/834 [14:35<01:37,  1.99s/it]"
     ]
    },
    {
     "name": "stdout",
     "output_type": "stream",
     "text": [
      "[[4.41201943]\n",
      " [3.79723063]\n",
      " [3.4437585 ]\n",
      " ...\n",
      " [5.36948215]\n",
      " [3.1738355 ]\n",
      " [4.19241286]]\n",
      "[[4.35950362]\n",
      " [3.27697001]\n",
      " [3.36991335]\n",
      " ...\n",
      " [5.5047087 ]\n",
      " [2.95068505]\n",
      " [4.66638105]]\n"
     ]
    },
    {
     "name": "stderr",
     "output_type": "stream",
     "text": [
      "\n",
      " 94%|███████████████████████████████████████████████████████████████████████████▍    | 786/834 [14:37<01:35,  1.99s/it]"
     ]
    },
    {
     "name": "stdout",
     "output_type": "stream",
     "text": [
      "[[4.73851216]\n",
      " [5.72114921]\n",
      " [4.36982583]\n",
      " ...\n",
      " [5.40339175]\n",
      " [3.31779013]\n",
      " [4.14138729]]\n",
      "[[4.85871542]\n",
      " [6.18693795]\n",
      " [4.50399618]\n",
      " ...\n",
      " [5.45980059]\n",
      " [3.01890153]\n",
      " [4.49729059]]\n"
     ]
    },
    {
     "name": "stderr",
     "output_type": "stream",
     "text": [
      "\n",
      " 94%|███████████████████████████████████████████████████████████████████████████▍    | 787/834 [14:39<01:33,  1.98s/it]"
     ]
    },
    {
     "name": "stdout",
     "output_type": "stream",
     "text": [
      "[[4.91457132]\n",
      " [5.79261079]\n",
      " [4.52013046]\n",
      " ...\n",
      " [5.37689585]\n",
      " [2.48626354]\n",
      " [4.77577404]]\n",
      "[[4.97648233]\n",
      " [6.2018321 ]\n",
      " [4.58739695]\n",
      " ...\n",
      " [5.31911216]\n",
      " [1.97527969]\n",
      " [5.09676384]]\n"
     ]
    },
    {
     "name": "stderr",
     "output_type": "stream",
     "text": [
      "\n",
      " 94%|███████████████████████████████████████████████████████████████████████████▌    | 788/834 [14:41<01:31,  1.99s/it]"
     ]
    },
    {
     "name": "stdout",
     "output_type": "stream",
     "text": [
      "[[4.74121977]\n",
      " [6.35385982]\n",
      " [4.43332575]\n",
      " ...\n",
      " [5.27461908]\n",
      " [2.42518113]\n",
      " [4.76429892]]\n",
      "[[4.690173  ]\n",
      " [6.74875674]\n",
      " [4.38023292]\n",
      " ...\n",
      " [5.22242917]\n",
      " [1.8625742 ]\n",
      " [5.13764215]]\n"
     ]
    },
    {
     "name": "stderr",
     "output_type": "stream",
     "text": [
      "\n",
      " 95%|███████████████████████████████████████████████████████████████████████████▋    | 789/834 [14:43<01:30,  2.00s/it]"
     ]
    },
    {
     "name": "stdout",
     "output_type": "stream",
     "text": [
      "[[4.75156671]\n",
      " [6.22950312]\n",
      " [4.49543963]\n",
      " ...\n",
      " [5.42447244]\n",
      " [3.25409681]\n",
      " [4.3365609 ]]\n",
      "[[4.72779523]\n",
      " [6.67231947]\n",
      " [4.47465922]\n",
      " ...\n",
      " [5.5241807 ]\n",
      " [3.05536317]\n",
      " [4.74852453]]\n"
     ]
    },
    {
     "name": "stderr",
     "output_type": "stream",
     "text": [
      "\n",
      " 95%|███████████████████████████████████████████████████████████████████████████▊    | 790/834 [14:45<01:27,  2.00s/it]"
     ]
    },
    {
     "name": "stdout",
     "output_type": "stream",
     "text": [
      "[[4.86383585]\n",
      " [5.90932816]\n",
      " [4.49411805]\n",
      " ...\n",
      " [5.2798409 ]\n",
      " [2.1823987 ]\n",
      " [4.52680278]]\n",
      "[[4.95900911]\n",
      " [6.36273401]\n",
      " [4.60035679]\n",
      " ...\n",
      " [5.36434266]\n",
      " [1.76453719]\n",
      " [5.00565809]]\n"
     ]
    },
    {
     "name": "stderr",
     "output_type": "stream",
     "text": [
      "\n",
      " 95%|███████████████████████████████████████████████████████████████████████████▉    | 791/834 [14:47<01:26,  2.02s/it]"
     ]
    },
    {
     "name": "stdout",
     "output_type": "stream",
     "text": [
      "[[4.6400067 ]\n",
      " [6.20416762]\n",
      " [4.3540959 ]\n",
      " ...\n",
      " [5.45731833]\n",
      " [2.81265957]\n",
      " [4.59900574]]\n",
      "[[4.71999353]\n",
      " [6.75607486]\n",
      " [4.43777848]\n",
      " ...\n",
      " [5.47034255]\n",
      " [2.28357561]\n",
      " [5.0112031 ]]\n"
     ]
    },
    {
     "name": "stderr",
     "output_type": "stream",
     "text": [
      "\n",
      " 95%|███████████████████████████████████████████████████████████████████████████▉    | 792/834 [14:49<01:24,  2.01s/it]"
     ]
    },
    {
     "name": "stdout",
     "output_type": "stream",
     "text": [
      "[[4.85326328]\n",
      " [6.08674112]\n",
      " [4.44937801]\n",
      " ...\n",
      " [2.53013328]\n",
      " [5.48042972]\n",
      " [3.16958068]]\n",
      "[[4.84978538]\n",
      " [6.51054712]\n",
      " [4.45138309]\n",
      " ...\n",
      " [2.02192867]\n",
      " [5.52514785]\n",
      " [2.89278487]]\n"
     ]
    },
    {
     "name": "stderr",
     "output_type": "stream",
     "text": [
      "\n",
      " 95%|████████████████████████████████████████████████████████████████████████████    | 793/834 [14:51<01:22,  2.01s/it]"
     ]
    },
    {
     "name": "stdout",
     "output_type": "stream",
     "text": [
      "[[4.48496375]\n",
      " [4.94213093]\n",
      " [6.08139037]\n",
      " ...\n",
      " [2.32480613]\n",
      " [5.36003775]\n",
      " [2.41048267]]\n",
      "[[4.85687783]\n",
      " [4.98841054]\n",
      " [6.53401669]\n",
      " ...\n",
      " [1.80460954]\n",
      " [5.38004276]\n",
      " [1.95377667]]\n"
     ]
    },
    {
     "name": "stderr",
     "output_type": "stream",
     "text": [
      "\n",
      " 95%|████████████████████████████████████████████████████████████████████████████▏   | 794/834 [14:53<01:20,  2.01s/it]"
     ]
    },
    {
     "name": "stdout",
     "output_type": "stream",
     "text": [
      "[[4.69303074]\n",
      " [4.75159894]\n",
      " [6.41129984]\n",
      " ...\n",
      " [5.54025503]\n",
      " [2.8378339 ]\n",
      " [4.77342099]]\n",
      "[[5.11091651]\n",
      " [4.77876416]\n",
      " [6.88499627]\n",
      " ...\n",
      " [5.52953227]\n",
      " [2.30910843]\n",
      " [5.11739643]]\n"
     ]
    },
    {
     "name": "stderr",
     "output_type": "stream",
     "text": [
      "\n",
      " 95%|████████████████████████████████████████████████████████████████████████████▎   | 795/834 [14:55<01:18,  2.00s/it]"
     ]
    },
    {
     "name": "stdout",
     "output_type": "stream",
     "text": [
      "[[4.92063121]\n",
      " [6.33287583]\n",
      " [4.50959012]\n",
      " ...\n",
      " [2.95397106]\n",
      " [4.42968337]\n",
      " [5.07522289]]\n",
      "[[4.88370018]\n",
      " [6.72664119]\n",
      " [4.48400836]\n",
      " ...\n",
      " [2.41623667]\n",
      " [4.64139629]\n",
      " [4.93737714]]\n"
     ]
    },
    {
     "name": "stderr",
     "output_type": "stream",
     "text": [
      "\n",
      " 95%|████████████████████████████████████████████████████████████████████████████▎   | 796/834 [14:57<01:15,  2.00s/it]"
     ]
    },
    {
     "name": "stdout",
     "output_type": "stream",
     "text": [
      "[[6.02636785]\n",
      " [4.75311391]\n",
      " [4.30242566]\n",
      " ...\n",
      " [2.20973268]\n",
      " [4.61657297]\n",
      " [4.64703359]]\n",
      "[[6.29226084]\n",
      " [4.63359459]\n",
      " [3.71463868]\n",
      " ...\n",
      " [1.74000376]\n",
      " [5.08251447]\n",
      " [4.69475086]]\n"
     ]
    },
    {
     "name": "stderr",
     "output_type": "stream",
     "text": [
      "\n",
      " 96%|████████████████████████████████████████████████████████████████████████████▍   | 797/834 [14:59<01:14,  2.00s/it]"
     ]
    },
    {
     "name": "stdout",
     "output_type": "stream",
     "text": [
      "[[6.03275008]\n",
      " [4.22309912]\n",
      " [3.65688614]\n",
      " ...\n",
      " [2.93008606]\n",
      " [4.60480776]\n",
      " [4.86576986]]\n",
      "[[6.55355316]\n",
      " [4.28464603]\n",
      " [3.24914826]\n",
      " ...\n",
      " [2.55283082]\n",
      " [4.94733881]\n",
      " [4.86687173]]\n"
     ]
    },
    {
     "name": "stderr",
     "output_type": "stream",
     "text": [
      "\n",
      " 96%|████████████████████████████████████████████████████████████████████████████▌   | 798/834 [15:01<01:12,  2.00s/it]"
     ]
    },
    {
     "name": "stdout",
     "output_type": "stream",
     "text": [
      "[[6.18282907]\n",
      " [4.57225196]\n",
      " [4.25855592]\n",
      " ...\n",
      " [2.55044036]\n",
      " [4.76819917]\n",
      " [4.69760789]]\n",
      "[[6.61890042]\n",
      " [4.57388905]\n",
      " [3.82302422]\n",
      " ...\n",
      " [1.98991593]\n",
      " [5.14399312]\n",
      " [4.6654139 ]]\n"
     ]
    },
    {
     "name": "stderr",
     "output_type": "stream",
     "text": [
      "\n",
      " 96%|████████████████████████████████████████████████████████████████████████████▋   | 799/834 [15:03<01:10,  2.01s/it]"
     ]
    },
    {
     "name": "stdout",
     "output_type": "stream",
     "text": [
      "[[6.25380715]\n",
      " [4.35944665]\n",
      " [3.9082749 ]\n",
      " ...\n",
      " [3.28916682]\n",
      " [4.39238925]\n",
      " [4.86377138]]\n",
      "[[6.6957568 ]\n",
      " [4.32520195]\n",
      " [3.41466027]\n",
      " ...\n",
      " [2.94098129]\n",
      " [4.6825325 ]\n",
      " [4.81774039]]\n"
     ]
    },
    {
     "name": "stderr",
     "output_type": "stream",
     "text": [
      "\n",
      " 96%|████████████████████████████████████████████████████████████████████████████▋   | 800/834 [15:05<01:08,  2.01s/it]"
     ]
    },
    {
     "name": "stdout",
     "output_type": "stream",
     "text": [
      "[[5.95874205]\n",
      " [4.48715563]\n",
      " [4.31019393]\n",
      " ...\n",
      " [2.4839105 ]\n",
      " [4.42417144]\n",
      " [4.7847994 ]]\n",
      "[[6.27849504]\n",
      " [4.44254977]\n",
      " [3.85816409]\n",
      " ...\n",
      " [1.96841291]\n",
      " [4.7519418 ]\n",
      " [4.75094241]]\n"
     ]
    },
    {
     "name": "stderr",
     "output_type": "stream",
     "text": [
      "\n",
      " 96%|████████████████████████████████████████████████████████████████████████████▊   | 801/834 [15:07<01:06,  2.01s/it]"
     ]
    },
    {
     "name": "stdout",
     "output_type": "stream",
     "text": [
      "[[6.19755976]\n",
      " [4.46378637]\n",
      " [3.99894763]\n",
      " ...\n",
      " [1.91079956]\n",
      " [1.78740987]\n",
      " [2.20380172]]\n",
      "[[6.64768932]\n",
      " [4.43158871]\n",
      " [3.50350933]\n",
      " ...\n",
      " [1.72743078]\n",
      " [1.72481947]\n",
      " [2.09620597]]\n"
     ]
    },
    {
     "name": "stderr",
     "output_type": "stream",
     "text": [
      "\n",
      " 96%|████████████████████████████████████████████████████████████████████████████▉   | 802/834 [15:09<01:04,  2.02s/it]"
     ]
    },
    {
     "name": "stdout",
     "output_type": "stream",
     "text": [
      "[[ 5.29009114]\n",
      " [ 1.70740642]\n",
      " [ 2.50789219]\n",
      " ...\n",
      " [ 1.6074827 ]\n",
      " [-0.00576979]\n",
      " [ 5.19725877]]\n",
      "[[5.15031184]\n",
      " [1.60637555]\n",
      " [2.01944631]\n",
      " ...\n",
      " [1.82475855]\n",
      " [0.00573844]\n",
      " [5.32240048]]\n"
     ]
    },
    {
     "name": "stderr",
     "output_type": "stream",
     "text": [
      "\n",
      " 96%|█████████████████████████████████████████████████████████████████████████████   | 803/834 [15:11<01:02,  2.02s/it]"
     ]
    },
    {
     "name": "stdout",
     "output_type": "stream",
     "text": [
      "[[1.25197986]\n",
      " [2.19851544]\n",
      " [3.49681477]\n",
      " ...\n",
      " [5.32200226]\n",
      " [2.2307489 ]\n",
      " [4.77142252]]\n",
      "[[1.40965676]\n",
      " [1.95445367]\n",
      " [3.22361544]\n",
      " ...\n",
      " [5.20041033]\n",
      " [1.61478977]\n",
      " [5.06139831]]\n"
     ]
    },
    {
     "name": "stderr",
     "output_type": "stream",
     "text": [
      "\n",
      " 96%|█████████████████████████████████████████████████████████████████████████████   | 804/834 [15:13<01:00,  2.02s/it]"
     ]
    },
    {
     "name": "stdout",
     "output_type": "stream",
     "text": [
      "[[4.68503684]\n",
      " [6.36365879]\n",
      " [4.42829733]\n",
      " ...\n",
      " [5.63776125]\n",
      " [3.3603383 ]\n",
      " [4.68732542]]\n",
      "[[4.55767313]\n",
      " [6.71316554]\n",
      " [4.31746473]\n",
      " ...\n",
      " [5.48165823]\n",
      " [2.86215838]\n",
      " [4.84698063]]\n"
     ]
    },
    {
     "name": "stderr",
     "output_type": "stream",
     "text": [
      "\n",
      " 97%|█████████████████████████████████████████████████████████████████████████████▏  | 805/834 [15:15<00:58,  2.02s/it]"
     ]
    },
    {
     "name": "stdout",
     "output_type": "stream",
     "text": [
      "[[4.93159059]\n",
      " [6.09811954]\n",
      " [4.61973185]\n",
      " ...\n",
      " [5.29715027]\n",
      " [2.22307733]\n",
      " [4.63030443]]\n",
      "[[4.76283838]\n",
      " [6.29458201]\n",
      " [4.44980341]\n",
      " ...\n",
      " [5.23213293]\n",
      " [1.6553457 ]\n",
      " [4.95594646]]\n"
     ]
    },
    {
     "name": "stderr",
     "output_type": "stream",
     "text": [
      "\n",
      " 97%|█████████████████████████████████████████████████████████████████████████████▎  | 806/834 [15:17<00:56,  2.02s/it]"
     ]
    },
    {
     "name": "stdout",
     "output_type": "stream",
     "text": [
      "[[4.69035536]\n",
      " [6.27965839]\n",
      " [4.41308313]\n",
      " ...\n",
      " [5.53854665]\n",
      " [3.0309768 ]\n",
      " [4.73329033]]\n",
      "[[4.61708852]\n",
      " [6.68318382]\n",
      " [4.34860704]\n",
      " ...\n",
      " [5.42462848]\n",
      " [2.47687713]\n",
      " [4.99956503]]\n"
     ]
    },
    {
     "name": "stderr",
     "output_type": "stream",
     "text": [
      "\n",
      " 97%|█████████████████████████████████████████████████████████████████████████████▍  | 807/834 [15:19<00:54,  2.02s/it]"
     ]
    },
    {
     "name": "stdout",
     "output_type": "stream",
     "text": [
      "[[4.9849692 ]\n",
      " [6.30422029]\n",
      " [4.68178126]\n",
      " ...\n",
      " [5.22704249]\n",
      " [2.03196514]\n",
      " [4.84781582]]\n",
      "[[4.8687738 ]\n",
      " [6.56673867]\n",
      " [4.5741792 ]\n",
      " ...\n",
      " [5.14753934]\n",
      " [1.46562265]\n",
      " [5.14957036]]\n"
     ]
    },
    {
     "name": "stderr",
     "output_type": "stream",
     "text": [
      "\n",
      " 97%|█████████████████████████████████████████████████████████████████████████████▌  | 808/834 [15:21<00:52,  2.03s/it]"
     ]
    },
    {
     "name": "stdout",
     "output_type": "stream",
     "text": [
      "[[4.62537271]\n",
      " [6.27208352]\n",
      " [4.30510104]\n",
      " ...\n",
      " [5.57400346]\n",
      " [3.06501533]\n",
      " [4.60016614]]\n",
      "[[4.55461048]\n",
      " [6.66619417]\n",
      " [4.24093074]\n",
      " ...\n",
      " [5.51241368]\n",
      " [2.61556677]\n",
      " [4.87277136]]\n"
     ]
    },
    {
     "name": "stderr",
     "output_type": "stream",
     "text": [
      "\n",
      " 97%|█████████████████████████████████████████████████████████████████████████████▌  | 809/834 [15:23<00:50,  2.04s/it]"
     ]
    },
    {
     "name": "stdout",
     "output_type": "stream",
     "text": [
      "[[5.08676247]\n",
      " [6.1977854 ]\n",
      " [4.70486042]\n",
      " ...\n",
      " [3.08132546]\n",
      " [4.85642216]\n",
      " [5.11483781]]\n",
      "[[5.02425966]\n",
      " [6.5284072 ]\n",
      " [4.64732815]\n",
      " ...\n",
      " [2.24791993]\n",
      " [4.76435359]\n",
      " [4.69023748]]\n"
     ]
    },
    {
     "name": "stderr",
     "output_type": "stream",
     "text": [
      "\n",
      " 97%|█████████████████████████████████████████████████████████████████████████████▋  | 810/834 [15:25<00:49,  2.05s/it]"
     ]
    },
    {
     "name": "stdout",
     "output_type": "stream",
     "text": [
      "[[6.48034392]\n",
      " [4.81274582]\n",
      " [4.40721664]\n",
      " ...\n",
      " [4.71859188]\n",
      " [6.21693207]\n",
      " [4.3713408 ]]\n",
      "[[6.49620103]\n",
      " [4.39412767]\n",
      " [3.54009992]\n",
      " ...\n",
      " [4.68014686]\n",
      " [6.64585174]\n",
      " [4.33935461]]\n"
     ]
    },
    {
     "name": "stderr",
     "output_type": "stream",
     "text": [
      "\n",
      " 97%|█████████████████████████████████████████████████████████████████████████████▊  | 811/834 [15:27<00:47,  2.05s/it]"
     ]
    },
    {
     "name": "stdout",
     "output_type": "stream",
     "text": [
      "[[3.61665878]\n",
      " [3.51486551]\n",
      " [3.38309512]\n",
      " ...\n",
      " [4.98993315]\n",
      " [6.01695568]\n",
      " [4.69609292]]\n",
      "[[3.13550786]\n",
      " [3.46192178]\n",
      " [2.86406044]\n",
      " ...\n",
      " [4.9259325 ]\n",
      " [6.31692323]\n",
      " [4.64381417]]\n"
     ]
    },
    {
     "name": "stderr",
     "output_type": "stream",
     "text": [
      "\n",
      " 97%|█████████████████████████████████████████████████████████████████████████████▉  | 812/834 [15:29<00:45,  2.05s/it]"
     ]
    },
    {
     "name": "stdout",
     "output_type": "stream",
     "text": [
      "[[4.55413676]\n",
      " [3.83349327]\n",
      " [4.16404741]\n",
      " ...\n",
      " [6.41897141]\n",
      " [4.72407156]\n",
      " [4.43467955]]\n",
      "[[4.06213652]\n",
      " [3.76318973]\n",
      " [3.6688279 ]\n",
      " ...\n",
      " [6.64146731]\n",
      " [4.50883194]\n",
      " [3.78714287]]\n"
     ]
    },
    {
     "name": "stderr",
     "output_type": "stream",
     "text": [
      "\n",
      " 97%|█████████████████████████████████████████████████████████████████████████████▉  | 813/834 [15:31<00:42,  2.05s/it]"
     ]
    },
    {
     "name": "stdout",
     "output_type": "stream",
     "text": [
      "[[3.82985089]\n",
      " [3.91014444]\n",
      " [3.84068133]\n",
      " ...\n",
      " [6.39615012]\n",
      " [4.4382897 ]\n",
      " [3.89070767]]\n",
      "[[3.62153415]\n",
      " [3.26072185]\n",
      " [3.62559619]\n",
      " ...\n",
      " [6.73370141]\n",
      " [4.31079138]\n",
      " [3.30379237]]\n"
     ]
    },
    {
     "name": "stderr",
     "output_type": "stream",
     "text": [
      "\n",
      " 98%|██████████████████████████████████████████████████████████████████████████████  | 814/834 [15:33<00:41,  2.06s/it]"
     ]
    },
    {
     "name": "stdout",
     "output_type": "stream",
     "text": [
      "[[3.47199501]\n",
      " [3.59135551]\n",
      " [3.62794049]\n",
      " ...\n",
      " [3.52527692]\n",
      " [4.28305335]\n",
      " [4.73847992]]\n",
      "[[3.3052431 ]\n",
      " [2.99472272]\n",
      " [3.49999534]\n",
      " ...\n",
      " [3.46466204]\n",
      " [3.85239341]\n",
      " [5.03441476]]\n"
     ]
    },
    {
     "name": "stderr",
     "output_type": "stream",
     "text": [
      "\n",
      " 98%|██████████████████████████████████████████████████████████████████████████████▏ | 815/834 [15:35<00:39,  2.06s/it]"
     ]
    },
    {
     "name": "stdout",
     "output_type": "stream",
     "text": [
      "[[1.98754743]\n",
      " [3.97283852]\n",
      " [2.70909346]\n",
      " ...\n",
      " [4.66150642]\n",
      " [4.19666768]\n",
      " [3.87594474]]\n",
      "[[1.97118541]\n",
      " [3.58974708]\n",
      " [2.72440365]\n",
      " ...\n",
      " [4.58397968]\n",
      " [3.65593254]\n",
      " [3.80980647]]\n"
     ]
    },
    {
     "name": "stderr",
     "output_type": "stream",
     "text": [
      "\n",
      " 98%|██████████████████████████████████████████████████████████████████████████████▎ | 816/834 [15:37<00:37,  2.06s/it]"
     ]
    },
    {
     "name": "stdout",
     "output_type": "stream",
     "text": [
      "[[3.74162791]\n",
      " [3.83894073]\n",
      " [4.09903252]\n",
      " ...\n",
      " [4.93336343]\n",
      " [4.97201135]\n",
      " [6.32607457]]\n",
      "[[3.17890077]\n",
      " [3.76415688]\n",
      " [3.61553781]\n",
      " ...\n",
      " [5.21720655]\n",
      " [4.84282188]\n",
      " [6.64559383]]\n"
     ]
    },
    {
     "name": "stderr",
     "output_type": "stream",
     "text": [
      "\n",
      " 98%|██████████████████████████████████████████████████████████████████████████████▎ | 817/834 [15:39<00:35,  2.07s/it]"
     ]
    },
    {
     "name": "stdout",
     "output_type": "stream",
     "text": [
      "[[4.5640002 ]\n",
      " [4.20337224]\n",
      " [3.67777342]\n",
      " ...\n",
      " [2.46073464]\n",
      " [4.75024513]\n",
      " [4.71565863]]\n",
      "[[4.4393904 ]\n",
      " [3.62865884]\n",
      " [3.54006769]\n",
      " ...\n",
      " [2.01628695]\n",
      " [5.1377711 ]\n",
      " [4.73118026]]\n"
     ]
    },
    {
     "name": "stderr",
     "output_type": "stream",
     "text": [
      "\n",
      " 98%|██████████████████████████████████████████████████████████████████████████████▍ | 818/834 [15:42<00:33,  2.07s/it]"
     ]
    },
    {
     "name": "stdout",
     "output_type": "stream",
     "text": [
      "[[6.32833091]\n",
      " [4.40776461]\n",
      " [3.97715781]\n",
      " ...\n",
      " [4.78692681]\n",
      " [4.77422683]\n",
      " [6.25216325]]\n",
      "[[6.789764  ]\n",
      " [4.42127241]\n",
      " [3.54393629]\n",
      " ...\n",
      " [5.16227229]\n",
      " [4.75245761]\n",
      " [6.69694962]]\n"
     ]
    },
    {
     "name": "stderr",
     "output_type": "stream",
     "text": [
      "\n",
      " 98%|██████████████████████████████████████████████████████████████████████████████▌ | 819/834 [15:44<00:31,  2.07s/it]"
     ]
    },
    {
     "name": "stdout",
     "output_type": "stream",
     "text": [
      "[[4.51806752]\n",
      " [4.10983073]\n",
      " [3.33313326]\n",
      " ...\n",
      " [4.54759337]\n",
      " [5.07486832]\n",
      " [6.12036062]]\n",
      "[[4.49932161]\n",
      " [3.62204997]\n",
      " [3.28902718]\n",
      " ...\n",
      " [4.72611883]\n",
      " [4.93657118]\n",
      " [6.34029607]]\n"
     ]
    },
    {
     "name": "stderr",
     "output_type": "stream",
     "text": [
      "\n",
      " 98%|██████████████████████████████████████████████████████████████████████████████▋ | 820/834 [15:46<00:29,  2.07s/it]"
     ]
    },
    {
     "name": "stdout",
     "output_type": "stream",
     "text": [
      "[[4.70515052]\n",
      " [4.49759927]\n",
      " [3.85525086]\n",
      " ...\n",
      " [5.27868049]\n",
      " [2.21247252]\n",
      " [3.37078194]]\n",
      "[[4.57791885]\n",
      " [3.94978565]\n",
      " [3.7090292 ]\n",
      " ...\n",
      " [5.30508846]\n",
      " [1.85757725]\n",
      " [2.94907313]]\n"
     ]
    },
    {
     "name": "stderr",
     "output_type": "stream",
     "text": [
      "\n",
      " 98%|██████████████████████████████████████████████████████████████████████████████▊ | 821/834 [15:48<00:26,  2.07s/it]"
     ]
    },
    {
     "name": "stdout",
     "output_type": "stream",
     "text": [
      "[[4.94087382]\n",
      " [3.78017913]\n",
      " [7.90106594]\n",
      " ...\n",
      " [4.82386636]\n",
      " [6.15923418]\n",
      " [4.42313997]]\n",
      "[[4.62053803]\n",
      " [3.45215354]\n",
      " [8.60398059]\n",
      " ...\n",
      " [4.78937059]\n",
      " [6.57186458]\n",
      " [4.40186489]]\n"
     ]
    },
    {
     "name": "stderr",
     "output_type": "stream",
     "text": [
      "\n",
      " 99%|██████████████████████████████████████████████████████████████████████████████▊ | 822/834 [15:50<00:24,  2.08s/it]"
     ]
    },
    {
     "name": "stdout",
     "output_type": "stream",
     "text": [
      "[[4.11888834]\n",
      " [3.51338277]\n",
      " [3.570436  ]\n",
      " ...\n",
      " [4.57947226]\n",
      " [5.08373252]\n",
      " [6.21738334]]\n",
      "[[3.64510043]\n",
      " [3.47542967]\n",
      " [3.06958031]\n",
      " ...\n",
      " [4.81071242]\n",
      " [5.00369155]\n",
      " [6.49084945]]\n"
     ]
    },
    {
     "name": "stderr",
     "output_type": "stream",
     "text": [
      "\n",
      " 99%|██████████████████████████████████████████████████████████████████████████████▉ | 823/834 [15:52<00:22,  2.08s/it]"
     ]
    },
    {
     "name": "stdout",
     "output_type": "stream",
     "text": [
      "[[4.70118581]\n",
      " [4.53624719]\n",
      " [3.90456805]\n",
      " ...\n",
      " [6.30119034]\n",
      " [4.36076823]\n",
      " [3.88703305]]\n",
      "[[4.62530932]\n",
      " [4.05281961]\n",
      " [3.79620186]\n",
      " ...\n",
      " [6.7958893 ]\n",
      " [4.41785514]\n",
      " [3.47739621]]\n"
     ]
    },
    {
     "name": "stderr",
     "output_type": "stream",
     "text": [
      "\n",
      " 99%|███████████████████████████████████████████████████████████████████████████████ | 824/834 [15:54<00:20,  2.08s/it]"
     ]
    },
    {
     "name": "stdout",
     "output_type": "stream",
     "text": [
      "[[3.54084568]\n",
      " [3.55135379]\n",
      " [3.6056994 ]\n",
      " ...\n",
      " [6.22144476]\n",
      " [4.48315868]\n",
      " [4.0935206 ]]\n",
      "[[3.59216496]\n",
      " [3.13176821]\n",
      " [3.6538048 ]\n",
      " ...\n",
      " [6.59414132]\n",
      " [4.39403096]\n",
      " [3.56418202]]\n"
     ]
    },
    {
     "name": "stderr",
     "output_type": "stream",
     "text": [
      "\n",
      " 99%|███████████████████████████████████████████████████████████████████████████████▏| 825/834 [15:56<00:18,  2.08s/it]"
     ]
    },
    {
     "name": "stdout",
     "output_type": "stream",
     "text": [
      "[[3.6215905 ]\n",
      " [3.62755369]\n",
      " [3.51757312]\n",
      " ...\n",
      " [4.70956651]\n",
      " [4.55365326]\n",
      " [3.87510667]]\n",
      "[[3.52124045]\n",
      " [3.07238506]\n",
      " [3.43103738]\n",
      " ...\n",
      " [4.64835978]\n",
      " [4.06291024]\n",
      " [3.79249444]]\n"
     ]
    },
    {
     "name": "stderr",
     "output_type": "stream",
     "text": [
      "\n",
      " 99%|███████████████████████████████████████████████████████████████████████████████▏| 826/834 [15:58<00:16,  2.08s/it]"
     ]
    },
    {
     "name": "stdout",
     "output_type": "stream",
     "text": [
      "[[4.11502032]\n",
      " [3.52524469]\n",
      " [4.2790564 ]\n",
      " ...\n",
      " [4.27280311]\n",
      " [3.64192981]\n",
      " [3.39018649]]\n",
      "[[3.64300493]\n",
      " [3.43087619]\n",
      " [3.82366899]\n",
      " ...\n",
      " [4.27736015]\n",
      " [3.1863156 ]\n",
      " [3.38013293]]\n"
     ]
    },
    {
     "name": "stderr",
     "output_type": "stream",
     "text": [
      "\n",
      " 99%|███████████████████████████████████████████████████████████████████████████████▎| 827/834 [16:00<00:14,  2.08s/it]"
     ]
    },
    {
     "name": "stdout",
     "output_type": "stream",
     "text": [
      "[[3.44752981]\n",
      " [3.46251837]\n",
      " [3.84603209]\n",
      " ...\n",
      " [6.05924598]\n",
      " [4.60006944]\n",
      " [4.34942205]]\n",
      "[[2.95381218]\n",
      " [3.45302398]\n",
      " [3.43368093]\n",
      " ...\n",
      " [6.51122413]\n",
      " [4.67253859]\n",
      " [4.00033548]]\n"
     ]
    },
    {
     "name": "stderr",
     "output_type": "stream",
     "text": [
      "\n",
      " 99%|███████████████████████████████████████████████████████████████████████████████▍| 828/834 [16:02<00:12,  2.07s/it]"
     ]
    },
    {
     "name": "stdout",
     "output_type": "stream",
     "text": [
      "[[3.60241159]\n",
      " [3.95717306]\n",
      " [3.47773256]\n",
      " ...\n",
      " [6.49375304]\n",
      " [4.79859533]\n",
      " [4.34990555]]\n",
      "[[3.67334128]\n",
      " [3.60622091]\n",
      " [3.55312424]\n",
      " ...\n",
      " [6.76029809]\n",
      " [4.60651433]\n",
      " [3.70596655]]\n"
     ]
    },
    {
     "name": "stderr",
     "output_type": "stream",
     "text": [
      "\n",
      " 99%|███████████████████████████████████████████████████████████████████████████████▌| 829/834 [16:04<00:10,  2.08s/it]"
     ]
    },
    {
     "name": "stdout",
     "output_type": "stream",
     "text": [
      "[[3.91088581]\n",
      " [3.88922493]\n",
      " [3.90975764]\n",
      " ...\n",
      " [3.75397332]\n",
      " [4.7150462 ]\n",
      " [1.72880944]]\n",
      "[[3.71525121]\n",
      " [3.22848344]\n",
      " [3.70754623]\n",
      " ...\n",
      " [3.89539945]\n",
      " [4.91929139]\n",
      " [2.55708629]]\n"
     ]
    },
    {
     "name": "stderr",
     "output_type": "stream",
     "text": [
      "\n",
      "100%|███████████████████████████████████████████████████████████████████████████████▌| 830/834 [16:07<00:08,  2.08s/it]"
     ]
    },
    {
     "name": "stdout",
     "output_type": "stream",
     "text": [
      "[[4.23222118]\n",
      " [0.87926435]\n",
      " [3.09679752]\n",
      " ...\n",
      " [3.50525994]\n",
      " [5.8019585 ]\n",
      " [3.225957  ]]\n",
      "[[4.46099014]\n",
      " [1.54589629]\n",
      " [3.33364514]\n",
      " ...\n",
      " [4.08882992]\n",
      " [6.459417  ]\n",
      " [2.79893885]]\n"
     ]
    },
    {
     "name": "stderr",
     "output_type": "stream",
     "text": [
      "\n",
      "100%|███████████████████████████████████████████████████████████████████████████████▋| 831/834 [16:09<00:06,  2.09s/it]"
     ]
    },
    {
     "name": "stdout",
     "output_type": "stream",
     "text": [
      "[[6.72796136]\n",
      " [4.86080591]\n",
      " [3.19556085]\n",
      " ...\n",
      " [2.90056021]\n",
      " [5.50856954]\n",
      " [1.08755697]]\n",
      "[[7.30212907]\n",
      " [4.63714082]\n",
      " [4.03379895]\n",
      " ...\n",
      " [3.31594625]\n",
      " [5.30641023]\n",
      " [0.21667436]]\n"
     ]
    },
    {
     "name": "stderr",
     "output_type": "stream",
     "text": [
      "\n",
      "100%|███████████████████████████████████████████████████████████████████████████████▊| 832/834 [16:11<00:04,  2.09s/it]"
     ]
    },
    {
     "name": "stdout",
     "output_type": "stream",
     "text": [
      "[[3.05289555]\n",
      " [5.57110245]\n",
      " [2.93350281]\n",
      " ...\n",
      " [6.04941478]\n",
      " [0.09541104]\n",
      " [2.66425671]]\n",
      "[[3.66763508]\n",
      " [5.3868773 ]\n",
      " [3.58068808]\n",
      " ...\n",
      " [6.58830617]\n",
      " [0.10651571]\n",
      " [2.2301888 ]]\n"
     ]
    },
    {
     "name": "stderr",
     "output_type": "stream",
     "text": [
      "\n",
      "100%|███████████████████████████████████████████████████████████████████████████████▉| 833/834 [16:13<00:02,  2.11s/it]"
     ]
    },
    {
     "name": "stdout",
     "output_type": "stream",
     "text": [
      "[[6.09025457]\n",
      " [2.39768599]\n",
      " [0.55518913]\n",
      " ...\n",
      " [1.90538434]\n",
      " [5.17824103]\n",
      " [1.6669212 ]]\n",
      "[[6.61029277]\n",
      " [2.4498291 ]\n",
      " [0.87256484]\n",
      " ...\n",
      " [1.92531015]\n",
      " [5.146411  ]\n",
      " [1.67678424]]\n"
     ]
    },
    {
     "name": "stderr",
     "output_type": "stream",
     "text": [
      "\n",
      "100%|████████████████████████████████████████████████████████████████████████████████| 834/834 [16:15<00:00,  2.11s/it]"
     ]
    }
   ],
   "source": [
    "# Predict using cross val models ensemble \n",
    "i=0\n",
    "res=[]\n",
    "step_size = 50000\n",
    "for j in tqdm(range(int(np.ceil(test.shape[0]/50000)))):\n",
    "    res.append(predMeters(test.iloc[i:i+step_size]))\n",
    "    i+=step_size\n",
    "    gc.collect()\n"
   ]
  },
  {
   "cell_type": "code",
   "execution_count": 112,
   "metadata": {
    "scrolled": true
   },
   "outputs": [
    {
     "name": "stdout",
     "output_type": "stream",
     "text": [
      "41697600\n"
     ]
    },
    {
     "data": {
      "text/plain": [
       "(41697600, 2)"
      ]
     },
     "execution_count": 112,
     "metadata": {},
     "output_type": "execute_result"
    }
   ],
   "source": [
    "# Save using cross val models ensemble \n",
    "res = np.concatenate(res)\n",
    "print(len(res))\n",
    "submission = pd.read_csv('../input/ashrae-energy-prediction/sample_submission.csv')\n",
    "submission['meter_reading'] = res\n",
    "submission.loc[submission['meter_reading']<0, 'meter_reading'] = 0\n",
    "submission.to_csv('submission_meter.csv', index=False)\n",
    "submission.shape"
   ]
  },
  {
   "cell_type": "code",
   "execution_count": null,
   "metadata": {
    "scrolled": true
   },
   "outputs": [],
   "source": [
    "# # Predict single model fit\n",
    "# i=0\n",
    "# res=[]\n",
    "# step_size = 50000\n",
    "# for j in tqdm(range(int(np.ceil(test_X.shape[0]/50000)))):\n",
    "#    #res.append(np.expm1(sum([model.predict(test_X.iloc[i:i+step_size]) for model in models])/folds))\n",
    "#    res.append(np.expm1(gbm.predict(test_X.iloc[i:i+step_size])))\n",
    "#    i+=step_size\n",
    "    "
   ]
  },
  {
   "cell_type": "code",
   "execution_count": null,
   "metadata": {
    "scrolled": true
   },
   "outputs": [],
   "source": []
  },
  {
   "cell_type": "code",
   "execution_count": null,
   "metadata": {},
   "outputs": [],
   "source": []
  }
 ],
 "metadata": {
  "kernelspec": {
   "display_name": "Python 3",
   "language": "python",
   "name": "python3"
  },
  "language_info": {
   "codemirror_mode": {
    "name": "ipython",
    "version": 3
   },
   "file_extension": ".py",
   "mimetype": "text/x-python",
   "name": "python",
   "nbconvert_exporter": "python",
   "pygments_lexer": "ipython3",
   "version": "3.7.3"
  }
 },
 "nbformat": 4,
 "nbformat_minor": 2
}
